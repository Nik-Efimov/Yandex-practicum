{
 "cells": [
  {
   "cell_type": "markdown",
   "id": "4a968bf4",
   "metadata": {},
   "source": [
    "# Проект анализа и прогнозирования оттока клиентов сети фитнес-центров"
   ]
  },
  {
   "cell_type": "markdown",
   "id": "f48313bd",
   "metadata": {},
   "source": [
    "## Цель проекта:"
   ]
  },
  {
   "cell_type": "markdown",
   "id": "2383c91f",
   "metadata": {},
   "source": [
    "Провести анализ и подготовить план действий по удержанию клиентов"
   ]
  },
  {
   "cell_type": "markdown",
   "id": "af406d11",
   "metadata": {},
   "source": [
    "## Входные данные:"
   ]
  },
  {
   "cell_type": "markdown",
   "id": "544fde21",
   "metadata": {},
   "source": [
    "Набор данных, собранных из клиентских анкет, в виде csv-файлов, которые содержат данные на месяц до оттока и факт оттока на определённый месяц."
   ]
  },
  {
   "cell_type": "markdown",
   "id": "6809dda3",
   "metadata": {},
   "source": [
    "## План проекта:"
   ]
  },
  {
   "cell_type": "markdown",
   "id": "7277fb97",
   "metadata": {},
   "source": [
    "### Этап 1. Получение данных"
   ]
  },
  {
   "cell_type": "markdown",
   "id": "68d19ae0",
   "metadata": {},
   "source": [
    "- импортируем библиотеки\n",
    "- откроем файлы с данными\n",
    "- изучим общую информацию данных"
   ]
  },
  {
   "cell_type": "markdown",
   "id": "9809d8c9",
   "metadata": {},
   "source": [
    "### Этап 2 Исследовательский анализ данных (EDA)"
   ]
  },
  {
   "cell_type": "markdown",
   "id": "7e869fff",
   "metadata": {},
   "source": [
    "- посмотрим есть ли в датасете отсутствующие признаки, изучим средние значения и стандартные отклонения\n",
    "- посмотрим на средние значения признаков в двух группах — тех, кто ушел в отток и тех, кто остался\n",
    "- построим столбчатые гистограммы и распределения признаков для тех, кто ушёл (отток) и тех, кто остался (не попали в отток)\n",
    "- построим матрицу корреляций"
   ]
  },
  {
   "cell_type": "markdown",
   "id": "198a2871",
   "metadata": {},
   "source": [
    "### Этап 3. Построение модели прогнозирования оттока клиентов"
   ]
  },
  {
   "cell_type": "markdown",
   "id": "fdf108c8",
   "metadata": {},
   "source": [
    "Построим модель бинарной классификации клиентов, где целевой признак — факт оттока клиента в следующем месяце"
   ]
  },
  {
   "cell_type": "markdown",
   "id": "f201e53f",
   "metadata": {},
   "source": [
    "*Для этого:*"
   ]
  },
  {
   "cell_type": "markdown",
   "id": "1aab89f9",
   "metadata": {},
   "source": [
    "- разобьем данные на обучающую и валидационную выборки\n",
    "- обучим модель на train-выборке двумя способами:\n",
    "    - *логистической регрессией*\n",
    "    - *случайным лесом*\n",
    "- оценим метрики accuracy, precision и recall для обеих моделей на валидационной выборке. Сравните по ним модели. Какая модель показала себя лучше на основании метрик?"
   ]
  },
  {
   "cell_type": "markdown",
   "id": "3ffe220e",
   "metadata": {},
   "source": [
    "### Этап 4. Кластеризация клиентов"
   ]
  },
  {
   "cell_type": "markdown",
   "id": "fc25ea8c",
   "metadata": {},
   "source": [
    "- cтандартизируем данные\n",
    "- построим матрицу расстояний функцией linkage() на стандартизованной матрице признаков и нарисуем дендрограмму\n",
    "- обучим модель кластеризации на основании алгоритма K-Means и спрогнозируем кластеры клиентов\n",
    "- посмотрим на средние значения признаков для кластеров. Можно ли сразу что-то заметить?\n",
    "- построим распределения признаков для кластеров. Можно ли что-то заметить по ним?\n",
    "- для каждого полученного кластера посчитаем долю оттока. Отличаются ли они по доле оттока? Какие кластеры склонны к оттоку, а какие — надёжны?"
   ]
  },
  {
   "cell_type": "markdown",
   "id": "c5bb3c23",
   "metadata": {},
   "source": [
    "### Этап 5. Общие выводы и базовые рекомендации по работе с клиентами"
   ]
  },
  {
   "cell_type": "markdown",
   "id": "13db46a5",
   "metadata": {},
   "source": [
    "## Описание данных"
   ]
  },
  {
   "cell_type": "markdown",
   "id": "8ede1995",
   "metadata": {},
   "source": [
    "Данные клиента за предыдущий до проверки факта оттока месяц:\n",
    "- *'gender'* — пол;\n",
    "- *'Near_Location'* — проживание или работа в районе, где находится фитнес-центр;\n",
    "- *'Partner'* — сотрудник компании-партнёра клуба (сотрудничество с компаниями, чьи сотрудники могут получать скидки на абонемент — в таком случае фитнес-центр хранит информацию о работодателе клиента);\n",
    "- *Promo_friends* — факт первоначальной записи в рамках акции «приведи друга» (использовал промо-код от знакомого при оплате первого абонемента);\n",
    "- *'Phone'* — наличие контактного телефона;\n",
    "- *'Age'* — возраст;\n",
    "- *'Lifetime'* — время с момента первого обращения в фитнес-центр (в месяцах)"
   ]
  },
  {
   "cell_type": "markdown",
   "id": "9fcf7e27",
   "metadata": {},
   "source": [
    "Информация на основе журнала посещений, покупок и информация о текущем статусе абонемента клиента:\n",
    "- *'Contract_period'* — длительность текущего действующего абонемента (месяц, 6 месяцев, год);\n",
    "- *'Month_to_end_contract'* — срок до окончания текущего действующего абонемента (в месяцах);\n",
    "- *'Group_visits'* — факт посещения групповых занятий;\n",
    "- *'Avg_class_frequency_total'* — средняя частота посещений в неделю за все время с начала действия абонемента;\n",
    "- *'Avg_class_frequency_current_month'* — средняя частота посещений в неделю за предыдущий месяц;\n",
    "- *'Avg_additional_charges_total'* — суммарная выручка от других услуг фитнес-центра: кафе, спорттовары, косметический и массажный салон.\n",
    "- *'Churn'* — факт оттока в текущем месяце."
   ]
  },
  {
   "cell_type": "markdown",
   "id": "c735aa37",
   "metadata": {},
   "source": [
    "## Этап 1. Получение данных"
   ]
  },
  {
   "cell_type": "code",
   "execution_count": 3,
   "id": "ee4e3f7d",
   "metadata": {},
   "outputs": [],
   "source": [
    "#импортируем библиотеки\n",
    "import pandas as pd\n",
    "import matplotlib.pyplot as plt\n",
    "import seaborn as sns\n",
    "import numpy as np\n",
    "\n",
    "from sklearn.model_selection import train_test_split\n",
    "from sklearn.linear_model import LogisticRegression\n",
    "from sklearn.ensemble import RandomForestClassifier\n",
    "from sklearn.preprocessing import StandardScaler\n",
    "from sklearn.metrics import accuracy_score, precision_score, recall_score, f1_score\n",
    "from scipy.cluster.hierarchy import dendrogram, linkage\n",
    "from sklearn.cluster import KMeans"
   ]
  },
  {
   "cell_type": "code",
   "execution_count": 4,
   "id": "b8064cf3",
   "metadata": {},
   "outputs": [],
   "source": [
    "#загрузим данные\n",
    "try: \n",
    "    data = pd.read_csv('/datasets/gym_churn.csv') #путь к файлу в общем хранилище\n",
    "except: \n",
    "    data = pd.read_csv('C:/Users/Admin/Downloads/gym_churn.csv') #путь к файлу на локальной машине"
   ]
  },
  {
   "cell_type": "code",
   "execution_count": 5,
   "id": "2c1e582b",
   "metadata": {},
   "outputs": [
    {
     "data": {
      "text/html": [
       "<div>\n",
       "<style scoped>\n",
       "    .dataframe tbody tr th:only-of-type {\n",
       "        vertical-align: middle;\n",
       "    }\n",
       "\n",
       "    .dataframe tbody tr th {\n",
       "        vertical-align: top;\n",
       "    }\n",
       "\n",
       "    .dataframe thead th {\n",
       "        text-align: right;\n",
       "    }\n",
       "</style>\n",
       "<table border=\"1\" class=\"dataframe\">\n",
       "  <thead>\n",
       "    <tr style=\"text-align: right;\">\n",
       "      <th></th>\n",
       "      <th>gender</th>\n",
       "      <th>Near_Location</th>\n",
       "      <th>Partner</th>\n",
       "      <th>Promo_friends</th>\n",
       "      <th>Phone</th>\n",
       "      <th>Contract_period</th>\n",
       "      <th>Group_visits</th>\n",
       "      <th>Age</th>\n",
       "      <th>Avg_additional_charges_total</th>\n",
       "      <th>Month_to_end_contract</th>\n",
       "      <th>Lifetime</th>\n",
       "      <th>Avg_class_frequency_total</th>\n",
       "      <th>Avg_class_frequency_current_month</th>\n",
       "      <th>Churn</th>\n",
       "    </tr>\n",
       "  </thead>\n",
       "  <tbody>\n",
       "    <tr>\n",
       "      <th>0</th>\n",
       "      <td>1</td>\n",
       "      <td>1</td>\n",
       "      <td>1</td>\n",
       "      <td>1</td>\n",
       "      <td>0</td>\n",
       "      <td>6</td>\n",
       "      <td>1</td>\n",
       "      <td>29</td>\n",
       "      <td>14.227470</td>\n",
       "      <td>5.0</td>\n",
       "      <td>3</td>\n",
       "      <td>0.020398</td>\n",
       "      <td>0.000000</td>\n",
       "      <td>0</td>\n",
       "    </tr>\n",
       "    <tr>\n",
       "      <th>1</th>\n",
       "      <td>0</td>\n",
       "      <td>1</td>\n",
       "      <td>0</td>\n",
       "      <td>0</td>\n",
       "      <td>1</td>\n",
       "      <td>12</td>\n",
       "      <td>1</td>\n",
       "      <td>31</td>\n",
       "      <td>113.202938</td>\n",
       "      <td>12.0</td>\n",
       "      <td>7</td>\n",
       "      <td>1.922936</td>\n",
       "      <td>1.910244</td>\n",
       "      <td>0</td>\n",
       "    </tr>\n",
       "    <tr>\n",
       "      <th>2</th>\n",
       "      <td>0</td>\n",
       "      <td>1</td>\n",
       "      <td>1</td>\n",
       "      <td>0</td>\n",
       "      <td>1</td>\n",
       "      <td>1</td>\n",
       "      <td>0</td>\n",
       "      <td>28</td>\n",
       "      <td>129.448479</td>\n",
       "      <td>1.0</td>\n",
       "      <td>2</td>\n",
       "      <td>1.859098</td>\n",
       "      <td>1.736502</td>\n",
       "      <td>0</td>\n",
       "    </tr>\n",
       "    <tr>\n",
       "      <th>3</th>\n",
       "      <td>0</td>\n",
       "      <td>1</td>\n",
       "      <td>1</td>\n",
       "      <td>1</td>\n",
       "      <td>1</td>\n",
       "      <td>12</td>\n",
       "      <td>1</td>\n",
       "      <td>33</td>\n",
       "      <td>62.669863</td>\n",
       "      <td>12.0</td>\n",
       "      <td>2</td>\n",
       "      <td>3.205633</td>\n",
       "      <td>3.357215</td>\n",
       "      <td>0</td>\n",
       "    </tr>\n",
       "    <tr>\n",
       "      <th>4</th>\n",
       "      <td>1</td>\n",
       "      <td>1</td>\n",
       "      <td>1</td>\n",
       "      <td>1</td>\n",
       "      <td>1</td>\n",
       "      <td>1</td>\n",
       "      <td>0</td>\n",
       "      <td>26</td>\n",
       "      <td>198.362265</td>\n",
       "      <td>1.0</td>\n",
       "      <td>3</td>\n",
       "      <td>1.113884</td>\n",
       "      <td>1.120078</td>\n",
       "      <td>0</td>\n",
       "    </tr>\n",
       "  </tbody>\n",
       "</table>\n",
       "</div>"
      ],
      "text/plain": [
       "   gender  Near_Location  Partner  Promo_friends  Phone  Contract_period  \\\n",
       "0       1              1        1              1      0                6   \n",
       "1       0              1        0              0      1               12   \n",
       "2       0              1        1              0      1                1   \n",
       "3       0              1        1              1      1               12   \n",
       "4       1              1        1              1      1                1   \n",
       "\n",
       "   Group_visits  Age  Avg_additional_charges_total  Month_to_end_contract  \\\n",
       "0             1   29                     14.227470                    5.0   \n",
       "1             1   31                    113.202938                   12.0   \n",
       "2             0   28                    129.448479                    1.0   \n",
       "3             1   33                     62.669863                   12.0   \n",
       "4             0   26                    198.362265                    1.0   \n",
       "\n",
       "   Lifetime  Avg_class_frequency_total  Avg_class_frequency_current_month  \\\n",
       "0         3                   0.020398                           0.000000   \n",
       "1         7                   1.922936                           1.910244   \n",
       "2         2                   1.859098                           1.736502   \n",
       "3         2                   3.205633                           3.357215   \n",
       "4         3                   1.113884                           1.120078   \n",
       "\n",
       "   Churn  \n",
       "0      0  \n",
       "1      0  \n",
       "2      0  \n",
       "3      0  \n",
       "4      0  "
      ]
     },
     "execution_count": 5,
     "metadata": {},
     "output_type": "execute_result"
    }
   ],
   "source": [
    "data.head() #посмотрим на несколько строк данных"
   ]
  },
  {
   "cell_type": "code",
   "execution_count": 6,
   "id": "114b0aed",
   "metadata": {},
   "outputs": [
    {
     "data": {
      "text/plain": [
       "(4000, 14)"
      ]
     },
     "execution_count": 6,
     "metadata": {},
     "output_type": "execute_result"
    }
   ],
   "source": [
    "data.shape # посмотрим на размер датасета"
   ]
  },
  {
   "cell_type": "code",
   "execution_count": 7,
   "id": "2ed5624b",
   "metadata": {},
   "outputs": [
    {
     "name": "stdout",
     "output_type": "stream",
     "text": [
      "Общая информация\n",
      "<class 'pandas.core.frame.DataFrame'>\n",
      "RangeIndex: 4000 entries, 0 to 3999\n",
      "Data columns (total 14 columns):\n",
      " #   Column                             Non-Null Count  Dtype  \n",
      "---  ------                             --------------  -----  \n",
      " 0   gender                             4000 non-null   int64  \n",
      " 1   Near_Location                      4000 non-null   int64  \n",
      " 2   Partner                            4000 non-null   int64  \n",
      " 3   Promo_friends                      4000 non-null   int64  \n",
      " 4   Phone                              4000 non-null   int64  \n",
      " 5   Contract_period                    4000 non-null   int64  \n",
      " 6   Group_visits                       4000 non-null   int64  \n",
      " 7   Age                                4000 non-null   int64  \n",
      " 8   Avg_additional_charges_total       4000 non-null   float64\n",
      " 9   Month_to_end_contract              4000 non-null   float64\n",
      " 10  Lifetime                           4000 non-null   int64  \n",
      " 11  Avg_class_frequency_total          4000 non-null   float64\n",
      " 12  Avg_class_frequency_current_month  4000 non-null   float64\n",
      " 13  Churn                              4000 non-null   int64  \n",
      "dtypes: float64(4), int64(10)\n",
      "memory usage: 437.6 KB\n",
      "====================================\n",
      "Дубликатов в таблице: 0\n",
      "====================================\n",
      "Пропусков в таблице:\n",
      "gender                               0\n",
      "Near_Location                        0\n",
      "Partner                              0\n",
      "Promo_friends                        0\n",
      "Phone                                0\n",
      "Contract_period                      0\n",
      "Group_visits                         0\n",
      "Age                                  0\n",
      "Avg_additional_charges_total         0\n",
      "Month_to_end_contract                0\n",
      "Lifetime                             0\n",
      "Avg_class_frequency_total            0\n",
      "Avg_class_frequency_current_month    0\n",
      "Churn                                0\n",
      "dtype: int64\n",
      "====================================\n",
      "Количество уникальных значений:\n",
      "gender                                  2\n",
      "Near_Location                           2\n",
      "Partner                                 2\n",
      "Promo_friends                           2\n",
      "Phone                                   2\n",
      "Contract_period                         3\n",
      "Group_visits                            2\n",
      "Age                                    23\n",
      "Avg_additional_charges_total         4000\n",
      "Month_to_end_contract                  12\n",
      "Lifetime                               29\n",
      "Avg_class_frequency_total            3913\n",
      "Avg_class_frequency_current_month    3820\n",
      "Churn                                   2\n",
      "dtype: int64\n"
     ]
    }
   ],
   "source": [
    "#посмотрим общую информацию\n",
    "print('Общая информация')\n",
    "data.info()\n",
    "print('====================================')\n",
    "print('Дубликатов в таблице:', data.duplicated().sum())\n",
    "print('====================================')\n",
    "print('Пропусков в таблице:')\n",
    "print(data.isna().sum())\n",
    "print('====================================')\n",
    "print('Количество уникальных значений:')\n",
    "print(data.nunique())"
   ]
  },
  {
   "cell_type": "code",
   "execution_count": 8,
   "id": "a2b673d4",
   "metadata": {},
   "outputs": [],
   "source": [
    "# приведем названия столбцов к нижнему реистру\n",
    "data.columns = data.columns.str.lower()"
   ]
  },
  {
   "cell_type": "code",
   "execution_count": 9,
   "id": "677dbaff",
   "metadata": {},
   "outputs": [
    {
     "data": {
      "text/html": [
       "<div>\n",
       "<style scoped>\n",
       "    .dataframe tbody tr th:only-of-type {\n",
       "        vertical-align: middle;\n",
       "    }\n",
       "\n",
       "    .dataframe tbody tr th {\n",
       "        vertical-align: top;\n",
       "    }\n",
       "\n",
       "    .dataframe thead th {\n",
       "        text-align: right;\n",
       "    }\n",
       "</style>\n",
       "<table border=\"1\" class=\"dataframe\">\n",
       "  <thead>\n",
       "    <tr style=\"text-align: right;\">\n",
       "      <th></th>\n",
       "      <th>gender</th>\n",
       "      <th>near_location</th>\n",
       "      <th>partner</th>\n",
       "      <th>promo_friends</th>\n",
       "      <th>phone</th>\n",
       "      <th>contract_period</th>\n",
       "      <th>group_visits</th>\n",
       "      <th>age</th>\n",
       "      <th>avg_additional_charges_total</th>\n",
       "      <th>month_to_end_contract</th>\n",
       "      <th>lifetime</th>\n",
       "      <th>avg_class_frequency_total</th>\n",
       "      <th>avg_class_frequency_current_month</th>\n",
       "      <th>churn</th>\n",
       "    </tr>\n",
       "  </thead>\n",
       "  <tbody>\n",
       "    <tr>\n",
       "      <th>0</th>\n",
       "      <td>1</td>\n",
       "      <td>1</td>\n",
       "      <td>1</td>\n",
       "      <td>1</td>\n",
       "      <td>0</td>\n",
       "      <td>6</td>\n",
       "      <td>1</td>\n",
       "      <td>29</td>\n",
       "      <td>14.227470</td>\n",
       "      <td>5.0</td>\n",
       "      <td>3</td>\n",
       "      <td>0.020398</td>\n",
       "      <td>0.000000</td>\n",
       "      <td>0</td>\n",
       "    </tr>\n",
       "    <tr>\n",
       "      <th>1</th>\n",
       "      <td>0</td>\n",
       "      <td>1</td>\n",
       "      <td>0</td>\n",
       "      <td>0</td>\n",
       "      <td>1</td>\n",
       "      <td>12</td>\n",
       "      <td>1</td>\n",
       "      <td>31</td>\n",
       "      <td>113.202938</td>\n",
       "      <td>12.0</td>\n",
       "      <td>7</td>\n",
       "      <td>1.922936</td>\n",
       "      <td>1.910244</td>\n",
       "      <td>0</td>\n",
       "    </tr>\n",
       "  </tbody>\n",
       "</table>\n",
       "</div>"
      ],
      "text/plain": [
       "   gender  near_location  partner  promo_friends  phone  contract_period  \\\n",
       "0       1              1        1              1      0                6   \n",
       "1       0              1        0              0      1               12   \n",
       "\n",
       "   group_visits  age  avg_additional_charges_total  month_to_end_contract  \\\n",
       "0             1   29                     14.227470                    5.0   \n",
       "1             1   31                    113.202938                   12.0   \n",
       "\n",
       "   lifetime  avg_class_frequency_total  avg_class_frequency_current_month  \\\n",
       "0         3                   0.020398                           0.000000   \n",
       "1         7                   1.922936                           1.910244   \n",
       "\n",
       "   churn  \n",
       "0      0  \n",
       "1      0  "
      ]
     },
     "execution_count": 9,
     "metadata": {},
     "output_type": "execute_result"
    }
   ],
   "source": [
    "data.head(2) # проверим"
   ]
  },
  {
   "cell_type": "markdown",
   "id": "df2ffc39",
   "metadata": {},
   "source": [
    "**Итог ознакомления с данными:**\n",
    "   * тип данных колонок соответствует\n",
    "   * пропусков нет\n",
    "   * дубликатов нет\n",
    "   * заменили регистр столбцов на нижний"
   ]
  },
  {
   "cell_type": "markdown",
   "id": "8abccd56",
   "metadata": {},
   "source": [
    "## Этап 2 Исследовательский анализ данных (EDA)"
   ]
  },
  {
   "cell_type": "markdown",
   "id": "01adaba6",
   "metadata": {},
   "source": [
    "Посмотрим на статистические данные"
   ]
  },
  {
   "cell_type": "code",
   "execution_count": 10,
   "id": "ec0a076a",
   "metadata": {},
   "outputs": [
    {
     "data": {
      "text/html": [
       "<div>\n",
       "<style scoped>\n",
       "    .dataframe tbody tr th:only-of-type {\n",
       "        vertical-align: middle;\n",
       "    }\n",
       "\n",
       "    .dataframe tbody tr th {\n",
       "        vertical-align: top;\n",
       "    }\n",
       "\n",
       "    .dataframe thead th {\n",
       "        text-align: right;\n",
       "    }\n",
       "</style>\n",
       "<table border=\"1\" class=\"dataframe\">\n",
       "  <thead>\n",
       "    <tr style=\"text-align: right;\">\n",
       "      <th></th>\n",
       "      <th>gender</th>\n",
       "      <th>near_location</th>\n",
       "      <th>partner</th>\n",
       "      <th>promo_friends</th>\n",
       "      <th>phone</th>\n",
       "      <th>contract_period</th>\n",
       "      <th>group_visits</th>\n",
       "      <th>age</th>\n",
       "      <th>avg_additional_charges_total</th>\n",
       "      <th>month_to_end_contract</th>\n",
       "      <th>lifetime</th>\n",
       "      <th>avg_class_frequency_total</th>\n",
       "      <th>avg_class_frequency_current_month</th>\n",
       "      <th>churn</th>\n",
       "    </tr>\n",
       "  </thead>\n",
       "  <tbody>\n",
       "    <tr>\n",
       "      <th>count</th>\n",
       "      <td>4000.000000</td>\n",
       "      <td>4000.000000</td>\n",
       "      <td>4000.000000</td>\n",
       "      <td>4000.000000</td>\n",
       "      <td>4000.000000</td>\n",
       "      <td>4000.000000</td>\n",
       "      <td>4000.000000</td>\n",
       "      <td>4000.000000</td>\n",
       "      <td>4000.000000</td>\n",
       "      <td>4000.000000</td>\n",
       "      <td>4000.000000</td>\n",
       "      <td>4000.000000</td>\n",
       "      <td>4000.000000</td>\n",
       "      <td>4000.000000</td>\n",
       "    </tr>\n",
       "    <tr>\n",
       "      <th>mean</th>\n",
       "      <td>0.510250</td>\n",
       "      <td>0.845250</td>\n",
       "      <td>0.486750</td>\n",
       "      <td>0.308500</td>\n",
       "      <td>0.903500</td>\n",
       "      <td>4.681250</td>\n",
       "      <td>0.412250</td>\n",
       "      <td>29.184250</td>\n",
       "      <td>146.943728</td>\n",
       "      <td>4.322750</td>\n",
       "      <td>3.724750</td>\n",
       "      <td>1.879020</td>\n",
       "      <td>1.767052</td>\n",
       "      <td>0.265250</td>\n",
       "    </tr>\n",
       "    <tr>\n",
       "      <th>std</th>\n",
       "      <td>0.499957</td>\n",
       "      <td>0.361711</td>\n",
       "      <td>0.499887</td>\n",
       "      <td>0.461932</td>\n",
       "      <td>0.295313</td>\n",
       "      <td>4.549706</td>\n",
       "      <td>0.492301</td>\n",
       "      <td>3.258367</td>\n",
       "      <td>96.355602</td>\n",
       "      <td>4.191297</td>\n",
       "      <td>3.749267</td>\n",
       "      <td>0.972245</td>\n",
       "      <td>1.052906</td>\n",
       "      <td>0.441521</td>\n",
       "    </tr>\n",
       "    <tr>\n",
       "      <th>min</th>\n",
       "      <td>0.000000</td>\n",
       "      <td>0.000000</td>\n",
       "      <td>0.000000</td>\n",
       "      <td>0.000000</td>\n",
       "      <td>0.000000</td>\n",
       "      <td>1.000000</td>\n",
       "      <td>0.000000</td>\n",
       "      <td>18.000000</td>\n",
       "      <td>0.148205</td>\n",
       "      <td>1.000000</td>\n",
       "      <td>0.000000</td>\n",
       "      <td>0.000000</td>\n",
       "      <td>0.000000</td>\n",
       "      <td>0.000000</td>\n",
       "    </tr>\n",
       "    <tr>\n",
       "      <th>25%</th>\n",
       "      <td>0.000000</td>\n",
       "      <td>1.000000</td>\n",
       "      <td>0.000000</td>\n",
       "      <td>0.000000</td>\n",
       "      <td>1.000000</td>\n",
       "      <td>1.000000</td>\n",
       "      <td>0.000000</td>\n",
       "      <td>27.000000</td>\n",
       "      <td>68.868830</td>\n",
       "      <td>1.000000</td>\n",
       "      <td>1.000000</td>\n",
       "      <td>1.180875</td>\n",
       "      <td>0.963003</td>\n",
       "      <td>0.000000</td>\n",
       "    </tr>\n",
       "    <tr>\n",
       "      <th>50%</th>\n",
       "      <td>1.000000</td>\n",
       "      <td>1.000000</td>\n",
       "      <td>0.000000</td>\n",
       "      <td>0.000000</td>\n",
       "      <td>1.000000</td>\n",
       "      <td>1.000000</td>\n",
       "      <td>0.000000</td>\n",
       "      <td>29.000000</td>\n",
       "      <td>136.220159</td>\n",
       "      <td>1.000000</td>\n",
       "      <td>3.000000</td>\n",
       "      <td>1.832768</td>\n",
       "      <td>1.719574</td>\n",
       "      <td>0.000000</td>\n",
       "    </tr>\n",
       "    <tr>\n",
       "      <th>75%</th>\n",
       "      <td>1.000000</td>\n",
       "      <td>1.000000</td>\n",
       "      <td>1.000000</td>\n",
       "      <td>1.000000</td>\n",
       "      <td>1.000000</td>\n",
       "      <td>6.000000</td>\n",
       "      <td>1.000000</td>\n",
       "      <td>31.000000</td>\n",
       "      <td>210.949625</td>\n",
       "      <td>6.000000</td>\n",
       "      <td>5.000000</td>\n",
       "      <td>2.536078</td>\n",
       "      <td>2.510336</td>\n",
       "      <td>1.000000</td>\n",
       "    </tr>\n",
       "    <tr>\n",
       "      <th>max</th>\n",
       "      <td>1.000000</td>\n",
       "      <td>1.000000</td>\n",
       "      <td>1.000000</td>\n",
       "      <td>1.000000</td>\n",
       "      <td>1.000000</td>\n",
       "      <td>12.000000</td>\n",
       "      <td>1.000000</td>\n",
       "      <td>41.000000</td>\n",
       "      <td>552.590740</td>\n",
       "      <td>12.000000</td>\n",
       "      <td>31.000000</td>\n",
       "      <td>6.023668</td>\n",
       "      <td>6.146783</td>\n",
       "      <td>1.000000</td>\n",
       "    </tr>\n",
       "  </tbody>\n",
       "</table>\n",
       "</div>"
      ],
      "text/plain": [
       "            gender  near_location      partner  promo_friends        phone  \\\n",
       "count  4000.000000    4000.000000  4000.000000    4000.000000  4000.000000   \n",
       "mean      0.510250       0.845250     0.486750       0.308500     0.903500   \n",
       "std       0.499957       0.361711     0.499887       0.461932     0.295313   \n",
       "min       0.000000       0.000000     0.000000       0.000000     0.000000   \n",
       "25%       0.000000       1.000000     0.000000       0.000000     1.000000   \n",
       "50%       1.000000       1.000000     0.000000       0.000000     1.000000   \n",
       "75%       1.000000       1.000000     1.000000       1.000000     1.000000   \n",
       "max       1.000000       1.000000     1.000000       1.000000     1.000000   \n",
       "\n",
       "       contract_period  group_visits          age  \\\n",
       "count      4000.000000   4000.000000  4000.000000   \n",
       "mean          4.681250      0.412250    29.184250   \n",
       "std           4.549706      0.492301     3.258367   \n",
       "min           1.000000      0.000000    18.000000   \n",
       "25%           1.000000      0.000000    27.000000   \n",
       "50%           1.000000      0.000000    29.000000   \n",
       "75%           6.000000      1.000000    31.000000   \n",
       "max          12.000000      1.000000    41.000000   \n",
       "\n",
       "       avg_additional_charges_total  month_to_end_contract     lifetime  \\\n",
       "count                   4000.000000            4000.000000  4000.000000   \n",
       "mean                     146.943728               4.322750     3.724750   \n",
       "std                       96.355602               4.191297     3.749267   \n",
       "min                        0.148205               1.000000     0.000000   \n",
       "25%                       68.868830               1.000000     1.000000   \n",
       "50%                      136.220159               1.000000     3.000000   \n",
       "75%                      210.949625               6.000000     5.000000   \n",
       "max                      552.590740              12.000000    31.000000   \n",
       "\n",
       "       avg_class_frequency_total  avg_class_frequency_current_month  \\\n",
       "count                4000.000000                        4000.000000   \n",
       "mean                    1.879020                           1.767052   \n",
       "std                     0.972245                           1.052906   \n",
       "min                     0.000000                           0.000000   \n",
       "25%                     1.180875                           0.963003   \n",
       "50%                     1.832768                           1.719574   \n",
       "75%                     2.536078                           2.510336   \n",
       "max                     6.023668                           6.146783   \n",
       "\n",
       "             churn  \n",
       "count  4000.000000  \n",
       "mean      0.265250  \n",
       "std       0.441521  \n",
       "min       0.000000  \n",
       "25%       0.000000  \n",
       "50%       0.000000  \n",
       "75%       1.000000  \n",
       "max       1.000000  "
      ]
     },
     "execution_count": 10,
     "metadata": {},
     "output_type": "execute_result"
    }
   ],
   "source": [
    "data.describe()"
   ]
  },
  {
   "cell_type": "markdown",
   "id": "26749d23",
   "metadata": {},
   "source": [
    "Что видим из статистических данных?:"
   ]
  },
  {
   "cell_type": "markdown",
   "id": "5bd2ed9d",
   "metadata": {},
   "source": [
    "- разделение по гендеру почти 50 на 50;\n",
    "- больше 80% клиентов живут либо работают по близости к фитнес-центру;\n",
    "- около половины клиентов оформились по партнерской программе;\n",
    "- около 30% клиентов воспользовались акцией \"приведи друга\";\n",
    "- 90% клиентов оставили свой телефон при указании контактов в анкете;\n",
    "- длительность текущего действующего абонемента в среднем составляет чуть более 4-х месяцев;\n",
    "- около 40% клиентов сходили на групповые занятия;\n",
    "- средний возраст клиентов - 29 лет\n",
    "- средняя частота посещений в неделю за все время с начала действия абонемента - 1,87 дней в неделю\n",
    "- средняя частота посещений в неделю за предыдущий месяц - 1,76 дней в неделю\n",
    "- 26% оттока"
   ]
  },
  {
   "cell_type": "markdown",
   "id": "32d7b896",
   "metadata": {},
   "source": [
    "Посмотрим на средние значения признаков в двух группах — тех, кто ушел в отток и тех, кто остался"
   ]
  },
  {
   "cell_type": "code",
   "execution_count": 11,
   "id": "492522ba",
   "metadata": {},
   "outputs": [
    {
     "data": {
      "text/html": [
       "<div>\n",
       "<style scoped>\n",
       "    .dataframe tbody tr th:only-of-type {\n",
       "        vertical-align: middle;\n",
       "    }\n",
       "\n",
       "    .dataframe tbody tr th {\n",
       "        vertical-align: top;\n",
       "    }\n",
       "\n",
       "    .dataframe thead th {\n",
       "        text-align: right;\n",
       "    }\n",
       "</style>\n",
       "<table border=\"1\" class=\"dataframe\">\n",
       "  <thead>\n",
       "    <tr style=\"text-align: right;\">\n",
       "      <th>churn</th>\n",
       "      <th>0</th>\n",
       "      <th>1</th>\n",
       "    </tr>\n",
       "  </thead>\n",
       "  <tbody>\n",
       "    <tr>\n",
       "      <th>gender</th>\n",
       "      <td>0.510037</td>\n",
       "      <td>0.510839</td>\n",
       "    </tr>\n",
       "    <tr>\n",
       "      <th>near_location</th>\n",
       "      <td>0.873086</td>\n",
       "      <td>0.768143</td>\n",
       "    </tr>\n",
       "    <tr>\n",
       "      <th>partner</th>\n",
       "      <td>0.534195</td>\n",
       "      <td>0.355325</td>\n",
       "    </tr>\n",
       "    <tr>\n",
       "      <th>promo_friends</th>\n",
       "      <td>0.353522</td>\n",
       "      <td>0.183789</td>\n",
       "    </tr>\n",
       "    <tr>\n",
       "      <th>phone</th>\n",
       "      <td>0.903709</td>\n",
       "      <td>0.902922</td>\n",
       "    </tr>\n",
       "    <tr>\n",
       "      <th>contract_period</th>\n",
       "      <td>5.747193</td>\n",
       "      <td>1.728558</td>\n",
       "    </tr>\n",
       "    <tr>\n",
       "      <th>group_visits</th>\n",
       "      <td>0.464103</td>\n",
       "      <td>0.268615</td>\n",
       "    </tr>\n",
       "    <tr>\n",
       "      <th>age</th>\n",
       "      <td>29.976523</td>\n",
       "      <td>26.989632</td>\n",
       "    </tr>\n",
       "    <tr>\n",
       "      <th>avg_additional_charges_total</th>\n",
       "      <td>158.445715</td>\n",
       "      <td>115.082899</td>\n",
       "    </tr>\n",
       "    <tr>\n",
       "      <th>month_to_end_contract</th>\n",
       "      <td>5.283089</td>\n",
       "      <td>1.662582</td>\n",
       "    </tr>\n",
       "    <tr>\n",
       "      <th>lifetime</th>\n",
       "      <td>4.711807</td>\n",
       "      <td>0.990575</td>\n",
       "    </tr>\n",
       "    <tr>\n",
       "      <th>avg_class_frequency_total</th>\n",
       "      <td>2.024876</td>\n",
       "      <td>1.474995</td>\n",
       "    </tr>\n",
       "    <tr>\n",
       "      <th>avg_class_frequency_current_month</th>\n",
       "      <td>2.027882</td>\n",
       "      <td>1.044546</td>\n",
       "    </tr>\n",
       "  </tbody>\n",
       "</table>\n",
       "</div>"
      ],
      "text/plain": [
       "churn                                       0           1\n",
       "gender                               0.510037    0.510839\n",
       "near_location                        0.873086    0.768143\n",
       "partner                              0.534195    0.355325\n",
       "promo_friends                        0.353522    0.183789\n",
       "phone                                0.903709    0.902922\n",
       "contract_period                      5.747193    1.728558\n",
       "group_visits                         0.464103    0.268615\n",
       "age                                 29.976523   26.989632\n",
       "avg_additional_charges_total       158.445715  115.082899\n",
       "month_to_end_contract                5.283089    1.662582\n",
       "lifetime                             4.711807    0.990575\n",
       "avg_class_frequency_total            2.024876    1.474995\n",
       "avg_class_frequency_current_month    2.027882    1.044546"
      ]
     },
     "execution_count": 11,
     "metadata": {},
     "output_type": "execute_result"
    }
   ],
   "source": [
    "data.groupby('churn').agg('mean').T"
   ]
  },
  {
   "cell_type": "markdown",
   "id": "93f73890",
   "metadata": {},
   "source": [
    "Построим столбчатые гистограммы и распределения признаков для тех, кто ушёл (отток) и тех, кто остался (не попали в отток)"
   ]
  },
  {
   "cell_type": "code",
   "execution_count": 12,
   "id": "717c779a",
   "metadata": {
    "scrolled": false
   },
   "outputs": [
    {
     "data": {
      "image/png": "[encoded data removed]",
      "text/plain": [
       "<Figure size 1296x720 with 6 Axes>"
      ]
     },
     "metadata": {
      "needs_background": "light"
     },
     "output_type": "display_data"
    }
   ],
   "source": [
    "fig, axes = plt.subplots(2, 3, figsize=(18, 10))\n",
    "\n",
    "fig.suptitle('Гистограммы признаков')\n",
    "\n",
    "sns.countplot(ax=axes[0, 0], data=data, x='gender', hue='churn')\n",
    "sns.countplot(ax=axes[0, 1], data=data, x='near_location', hue='churn')\n",
    "sns.countplot(ax=axes[0, 2], data=data, x='partner', hue='churn')\n",
    "sns.countplot(ax=axes[1, 0], data=data, x='promo_friends', hue='churn')\n",
    "sns.countplot(ax=axes[1, 1], data=data, x='contract_period', hue='churn')\n",
    "sns.countplot(ax=axes[1, 2], data=data, x='group_visits', hue='churn')\n",
    "plt.show()"
   ]
  },
  {
   "cell_type": "code",
   "execution_count": 13,
   "id": "a6702d43",
   "metadata": {},
   "outputs": [
    {
     "data": {
      "image/png": "[encoded data removed]",
      "text/plain": [
       "<Figure size 1296x720 with 6 Axes>"
      ]
     },
     "metadata": {
      "needs_background": "light"
     },
     "output_type": "display_data"
    }
   ],
   "source": [
    "fig, axes = plt.subplots(2, 3, figsize=(18, 10))\n",
    "\n",
    "fig.suptitle('График распределения признаков')\n",
    "\n",
    "sns.boxplot(ax=axes[0, 0], data=data, x = 'churn', y='month_to_end_contract')\n",
    "sns.boxplot(ax=axes[0, 1], data=data, x = 'churn', y='age')\n",
    "sns.boxplot(ax=axes[0, 2], data=data, x = 'churn', y='avg_additional_charges_total')\n",
    "sns.boxplot(ax=axes[1, 0], data=data, x = 'churn', y='lifetime')\n",
    "sns.boxplot(ax=axes[1, 1], data=data, x = 'churn', y='avg_class_frequency_total')\n",
    "sns.boxplot(ax=axes[1, 2], data=data, x = 'churn', y='avg_class_frequency_current_month')\n",
    "plt.show()"
   ]
  },
  {
   "cell_type": "markdown",
   "id": "6056e67d",
   "metadata": {},
   "source": [
    "Предварительные выводы:"
   ]
  },
  {
   "cell_type": "markdown",
   "id": "9267e065",
   "metadata": {},
   "source": [
    "- мужчины как и женщины уходят практически поровну;\n",
    "- клиенты, находящиеся рядом с фитнес-центром тоже активно уходят;\n",
    "- клиентов, которые уходят, больше всего с абонементом на месяц;\n",
    "- суммарная выручка от доп.услуг в среднем у активных клинтов составляет около 160 у.е., у уходящих - 115 у.е.;\n",
    "- групповыми занятиями пользуются около половины \"активистов\" и около 25% \"уходящих\";\n",
    "- уходящие чуть моложе активных"
   ]
  },
  {
   "cell_type": "markdown",
   "id": "0075128d",
   "metadata": {},
   "source": [
    "Построим матрицу корреляций"
   ]
  },
  {
   "cell_type": "code",
   "execution_count": 14,
   "id": "e936c0aa",
   "metadata": {},
   "outputs": [
    {
     "data": {
      "image/png": "[encoded data removed]",
      "text/plain": [
       "<Figure size 864x360 with 1 Axes>"
      ]
     },
     "metadata": {
      "needs_background": "light"
     },
     "output_type": "display_data"
    }
   ],
   "source": [
    "fig, ax = plt.subplots(figsize=(12, 5))\n",
    "matrix = np.triu(data.corr())\n",
    "sns.heatmap(data.corr()\n",
    "            , annot = True\n",
    "            , mask=matrix\n",
    "            , fmt='.2g'\n",
    "            , vmin=-1\n",
    "            , vmax=1\n",
    "            , center= 0\n",
    "            , cmap= 'coolwarm'\n",
    "            , cbar=False)\n",
    "plt.title('Матрица корреляций признаков', fontsize = 14)\n",
    "plt.show()"
   ]
  },
  {
   "cell_type": "markdown",
   "id": "6e172aa7",
   "metadata": {},
   "source": [
    "Сильно коррелирующие между собой признаки:\n",
    "- contract_period = month_to_end_contract;\n",
    "- avg_class_frequency_current_month = avg_class_frequency_total"
   ]
  },
  {
   "cell_type": "markdown",
   "id": "0ac782cc",
   "metadata": {},
   "source": [
    "Один из признаков мультиколлинеарной пары нужно удалить, чтобы они не мешали в обучении моделей."
   ]
  },
  {
   "cell_type": "markdown",
   "id": "96768dbd",
   "metadata": {},
   "source": [
    "## Этап 3. Построение модели прогнозирования оттока клиентов"
   ]
  },
  {
   "cell_type": "markdown",
   "id": "5639de67",
   "metadata": {},
   "source": [
    "Построим модель бинарной классификации клиентов, где целевой признак — факт оттока клиента в следующем месяце"
   ]
  },
  {
   "cell_type": "markdown",
   "id": "5642b851",
   "metadata": {},
   "source": [
    "**Разобьем данные на обучающую и валидационную выборку**"
   ]
  },
  {
   "cell_type": "code",
   "execution_count": 15,
   "id": "dbe079f4",
   "metadata": {},
   "outputs": [],
   "source": [
    "# создадим новый датафейм дропнув мультиколлинеарные признаки\n",
    "data_corr_del = data.drop(['month_to_end_contract', 'avg_class_frequency_total'], axis=1)"
   ]
  },
  {
   "cell_type": "code",
   "execution_count": 16,
   "id": "a48e8af8",
   "metadata": {},
   "outputs": [],
   "source": [
    "# разделим наши данные на признаки (X) и целевую переменную (y)\n",
    "X = data_corr_del.drop('churn', axis=1)\n",
    "y = data_corr_del['churn']"
   ]
  },
  {
   "cell_type": "code",
   "execution_count": 17,
   "id": "1c59221a",
   "metadata": {},
   "outputs": [],
   "source": [
    "# Разобьем данные на обучающую и валидационную выборки функцией train_test_split()\n",
    "X_train, X_test, y_train, y_test = train_test_split(X, y, test_size=0.2, random_state=0, stratify=y)"
   ]
  },
  {
   "cell_type": "code",
   "execution_count": 18,
   "id": "1baa048d",
   "metadata": {},
   "outputs": [],
   "source": [
    "# стандартизируем данные\n",
    "scaler = StandardScaler()\n",
    "scaler.fit(X_train)\n",
    "X_train_st = scaler.transform(X_train) \n",
    "X_test_st =  scaler.transform(X_test)"
   ]
  },
  {
   "cell_type": "markdown",
   "id": "cdc08ef4",
   "metadata": {},
   "source": [
    "**Обучим модель на *train*-выборке двумя способами:**"
   ]
  },
  {
   "cell_type": "markdown",
   "id": "be3e4643",
   "metadata": {},
   "source": [
    "*Логистической регрессией*"
   ]
  },
  {
   "cell_type": "code",
   "execution_count": 19,
   "id": "64d96da9",
   "metadata": {},
   "outputs": [],
   "source": [
    "# зададим алгоритм для модели логистической регрессии\n",
    "lr_model = LogisticRegression(random_state = 0)\n",
    "# обучим модель\n",
    "lr_model.fit(X_train_st, y_train)\n",
    "# воспользуемся уже обученной моделью, чтобы сделать прогнозы\n",
    "lr_predictions = lr_model.predict(X_test_st)\n",
    "lr_probabilities = lr_model.predict_proba(X_test_st)[:,1]"
   ]
  },
  {
   "cell_type": "markdown",
   "id": "48e98abe",
   "metadata": {},
   "source": [
    "*Случайным лесом*"
   ]
  },
  {
   "cell_type": "code",
   "execution_count": 20,
   "id": "6b723ee5",
   "metadata": {},
   "outputs": [],
   "source": [
    "# зададим алгоритм для новой модели на основе алгоритма случайного леса\n",
    "rf_model = RandomForestClassifier(n_estimators = 100,random_state = 0)\n",
    "# обучим модель случайного леса\n",
    "rf_model.fit(X_train_st, y_train)\n",
    "# воспользуемся уже обученной моделью, чтобы сделать прогнозы\n",
    "rf_predictions = rf_model.predict(X_test_st)\n",
    "rf_probabilities = rf_model.predict_proba(X_test_st)[:,1]"
   ]
  },
  {
   "cell_type": "markdown",
   "id": "a6bb7243",
   "metadata": {},
   "source": [
    "**Оценим метрики *accuracy, precision* и *recall* для обеих моделей на валидационной выборке**"
   ]
  },
  {
   "cell_type": "markdown",
   "id": "e9bb453d",
   "metadata": {},
   "source": [
    "- accuracy - доля правильных ответов\n",
    "- precision - точность\n",
    "- recall - полнота\n",
    "- F1 - баланс между *precision* и *recall*"
   ]
  },
  {
   "cell_type": "code",
   "execution_count": 21,
   "id": "e2c14e25",
   "metadata": {},
   "outputs": [],
   "source": [
    "# создадим функцию для отображения всех метрик\n",
    "def all_metric(y_true, y_pred, y_proba, title):\n",
    "    print(title)\n",
    "    print('Accuracy: {:.2f}'.format(accuracy_score(y_true, y_pred)))\n",
    "    print('Precision: {:.2f}'.format(precision_score(y_true, y_pred)))\n",
    "    print('Recall: {:.2f}'.format(recall_score(y_true, y_pred)))\n",
    "    print('F1: {:.2f}'.format(f1_score(y_test, y_pred)))\n",
    "    print( )"
   ]
  },
  {
   "cell_type": "code",
   "execution_count": 22,
   "id": "619aa9c5",
   "metadata": {},
   "outputs": [
    {
     "name": "stdout",
     "output_type": "stream",
     "text": [
      "Метрики для модели логистической регрессии:\n",
      "Accuracy: 0.92\n",
      "Precision: 0.85\n",
      "Recall: 0.84\n",
      "F1: 0.84\n",
      "\n",
      "Метрики для модели случайного леса:\n",
      "Accuracy: 0.91\n",
      "Precision: 0.85\n",
      "Recall: 0.77\n",
      "F1: 0.81\n",
      "\n"
     ]
    }
   ],
   "source": [
    "# отобразим метрики двух моделей\n",
    "all_metric(y_test, lr_predictions, lr_probabilities, 'Метрики для модели логистической регрессии:')\n",
    "all_metric(y_test, rf_predictions, rf_probabilities, 'Метрики для модели случайного леса:')"
   ]
  },
  {
   "cell_type": "markdown",
   "id": "38b8e8ab",
   "metadata": {},
   "source": [
    "Сравнивая метрики обоих моделей, можно сказать, что лучше всего себя показала **логистическая регрессия**."
   ]
  },
  {
   "cell_type": "markdown",
   "id": "69d2436e",
   "metadata": {},
   "source": [
    "## Этап 4. Кластеризация клиентов"
   ]
  },
  {
   "cell_type": "code",
   "execution_count": 23,
   "id": "9c448888",
   "metadata": {},
   "outputs": [],
   "source": [
    "# стандартизируем данные, отложив в сторону столбец с оттоком \n",
    "data_sс = scaler.fit_transform(data.drop(columns = ['churn']))\n",
    "# построим матрицу расстояний\n",
    "linked = linkage(data_sс, method = 'ward')"
   ]
  },
  {
   "cell_type": "code",
   "execution_count": 24,
   "id": "ec9fec59",
   "metadata": {},
   "outputs": [
    {
     "data": {
      "image/png": "[encoded data removed]",
      "text/plain": [
       "<Figure size 1080x720 with 1 Axes>"
      ]
     },
     "metadata": {
      "needs_background": "light"
     },
     "output_type": "display_data"
    }
   ],
   "source": [
    "# нарисуем дендрограмму\n",
    "plt.figure(figsize=(15, 10))  \n",
    "dendrogram(linked, orientation='top')\n",
    "plt.title('Дендрограмма иерархической кластеризации клиентов фитнес-клуба')\n",
    "plt.show() "
   ]
  },
  {
   "cell_type": "markdown",
   "id": "9db2cfe4",
   "metadata": {},
   "source": [
    "На основании графика можно выделить 4 кластера"
   ]
  },
  {
   "cell_type": "markdown",
   "id": "af302650",
   "metadata": {},
   "source": [
    "**Обучим модель кластеризации на основании алгоритма K-Means и спрогнозируем кластеры клиентов**"
   ]
  },
  {
   "cell_type": "code",
   "execution_count": 25,
   "id": "0e9b2d7c",
   "metadata": {},
   "outputs": [],
   "source": [
    "# зададим модель k_means с числом кластеров 5 и зафиксируем значение random_state\n",
    "km = KMeans(n_clusters=5, random_state=0)\n",
    "# спрогнозируем кластеры для наблюдений\n",
    "labels = km.fit_predict(data_sс)\n",
    "\n",
    "# сохраним метки кластера в поле нашего датасета\n",
    "data['cluster_km'] = labels"
   ]
  },
  {
   "cell_type": "markdown",
   "id": "aed27588",
   "metadata": {},
   "source": [
    "Количество кластеров (в нашем случае 5) выбрали исходя из требования в задании."
   ]
  },
  {
   "cell_type": "markdown",
   "id": "92a9c035",
   "metadata": {},
   "source": [
    "Посмотрим на средние значения признаков для кластеров"
   ]
  },
  {
   "cell_type": "code",
   "execution_count": 26,
   "id": "7788e764",
   "metadata": {},
   "outputs": [
    {
     "data": {
      "text/html": [
       "<div>\n",
       "<style scoped>\n",
       "    .dataframe tbody tr th:only-of-type {\n",
       "        vertical-align: middle;\n",
       "    }\n",
       "\n",
       "    .dataframe tbody tr th {\n",
       "        vertical-align: top;\n",
       "    }\n",
       "\n",
       "    .dataframe thead th {\n",
       "        text-align: right;\n",
       "    }\n",
       "</style>\n",
       "<table border=\"1\" class=\"dataframe\">\n",
       "  <thead>\n",
       "    <tr style=\"text-align: right;\">\n",
       "      <th>cluster_km</th>\n",
       "      <th>0</th>\n",
       "      <th>1</th>\n",
       "      <th>2</th>\n",
       "      <th>3</th>\n",
       "      <th>4</th>\n",
       "    </tr>\n",
       "  </thead>\n",
       "  <tbody>\n",
       "    <tr>\n",
       "      <th>gender</th>\n",
       "      <td>0.502970</td>\n",
       "      <td>0.522078</td>\n",
       "      <td>0.495050</td>\n",
       "      <td>0.485737</td>\n",
       "      <td>0.559666</td>\n",
       "    </tr>\n",
       "    <tr>\n",
       "      <th>near_location</th>\n",
       "      <td>0.959406</td>\n",
       "      <td>0.862338</td>\n",
       "      <td>0.000000</td>\n",
       "      <td>1.000000</td>\n",
       "      <td>0.976134</td>\n",
       "    </tr>\n",
       "    <tr>\n",
       "      <th>partner</th>\n",
       "      <td>0.783168</td>\n",
       "      <td>0.470130</td>\n",
       "      <td>0.463366</td>\n",
       "      <td>0.350238</td>\n",
       "      <td>0.356802</td>\n",
       "    </tr>\n",
       "    <tr>\n",
       "      <th>promo_friends</th>\n",
       "      <td>0.574257</td>\n",
       "      <td>0.306494</td>\n",
       "      <td>0.079208</td>\n",
       "      <td>0.240095</td>\n",
       "      <td>0.230310</td>\n",
       "    </tr>\n",
       "    <tr>\n",
       "      <th>phone</th>\n",
       "      <td>1.000000</td>\n",
       "      <td>0.000000</td>\n",
       "      <td>1.000000</td>\n",
       "      <td>1.000000</td>\n",
       "      <td>0.998807</td>\n",
       "    </tr>\n",
       "    <tr>\n",
       "      <th>contract_period</th>\n",
       "      <td>10.889109</td>\n",
       "      <td>4.787013</td>\n",
       "      <td>2.352475</td>\n",
       "      <td>1.948494</td>\n",
       "      <td>2.669451</td>\n",
       "    </tr>\n",
       "    <tr>\n",
       "      <th>group_visits</th>\n",
       "      <td>0.542574</td>\n",
       "      <td>0.425974</td>\n",
       "      <td>0.215842</td>\n",
       "      <td>0.341521</td>\n",
       "      <td>0.473747</td>\n",
       "    </tr>\n",
       "    <tr>\n",
       "      <th>age</th>\n",
       "      <td>29.982178</td>\n",
       "      <td>29.301299</td>\n",
       "      <td>28.477228</td>\n",
       "      <td>28.167987</td>\n",
       "      <td>30.125298</td>\n",
       "    </tr>\n",
       "    <tr>\n",
       "      <th>avg_additional_charges_total</th>\n",
       "      <td>160.761016</td>\n",
       "      <td>143.957664</td>\n",
       "      <td>135.457501</td>\n",
       "      <td>131.622204</td>\n",
       "      <td>161.657905</td>\n",
       "    </tr>\n",
       "    <tr>\n",
       "      <th>month_to_end_contract</th>\n",
       "      <td>9.954455</td>\n",
       "      <td>4.475325</td>\n",
       "      <td>2.198020</td>\n",
       "      <td>1.856577</td>\n",
       "      <td>2.459427</td>\n",
       "    </tr>\n",
       "    <tr>\n",
       "      <th>lifetime</th>\n",
       "      <td>4.736634</td>\n",
       "      <td>3.924675</td>\n",
       "      <td>2.809901</td>\n",
       "      <td>2.440571</td>\n",
       "      <td>4.898568</td>\n",
       "    </tr>\n",
       "    <tr>\n",
       "      <th>avg_class_frequency_total</th>\n",
       "      <td>1.982055</td>\n",
       "      <td>1.847220</td>\n",
       "      <td>1.660461</td>\n",
       "      <td>1.247634</td>\n",
       "      <td>2.852002</td>\n",
       "    </tr>\n",
       "    <tr>\n",
       "      <th>avg_class_frequency_current_month</th>\n",
       "      <td>1.974789</td>\n",
       "      <td>1.716369</td>\n",
       "      <td>1.477324</td>\n",
       "      <td>1.012983</td>\n",
       "      <td>2.850161</td>\n",
       "    </tr>\n",
       "    <tr>\n",
       "      <th>churn</th>\n",
       "      <td>0.027723</td>\n",
       "      <td>0.267532</td>\n",
       "      <td>0.443564</td>\n",
       "      <td>0.514263</td>\n",
       "      <td>0.068019</td>\n",
       "    </tr>\n",
       "  </tbody>\n",
       "</table>\n",
       "</div>"
      ],
      "text/plain": [
       "cluster_km                                  0           1           2  \\\n",
       "gender                               0.502970    0.522078    0.495050   \n",
       "near_location                        0.959406    0.862338    0.000000   \n",
       "partner                              0.783168    0.470130    0.463366   \n",
       "promo_friends                        0.574257    0.306494    0.079208   \n",
       "phone                                1.000000    0.000000    1.000000   \n",
       "contract_period                     10.889109    4.787013    2.352475   \n",
       "group_visits                         0.542574    0.425974    0.215842   \n",
       "age                                 29.982178   29.301299   28.477228   \n",
       "avg_additional_charges_total       160.761016  143.957664  135.457501   \n",
       "month_to_end_contract                9.954455    4.475325    2.198020   \n",
       "lifetime                             4.736634    3.924675    2.809901   \n",
       "avg_class_frequency_total            1.982055    1.847220    1.660461   \n",
       "avg_class_frequency_current_month    1.974789    1.716369    1.477324   \n",
       "churn                                0.027723    0.267532    0.443564   \n",
       "\n",
       "cluster_km                                  3           4  \n",
       "gender                               0.485737    0.559666  \n",
       "near_location                        1.000000    0.976134  \n",
       "partner                              0.350238    0.356802  \n",
       "promo_friends                        0.240095    0.230310  \n",
       "phone                                1.000000    0.998807  \n",
       "contract_period                      1.948494    2.669451  \n",
       "group_visits                         0.341521    0.473747  \n",
       "age                                 28.167987   30.125298  \n",
       "avg_additional_charges_total       131.622204  161.657905  \n",
       "month_to_end_contract                1.856577    2.459427  \n",
       "lifetime                             2.440571    4.898568  \n",
       "avg_class_frequency_total            1.247634    2.852002  \n",
       "avg_class_frequency_current_month    1.012983    2.850161  \n",
       "churn                                0.514263    0.068019  "
      ]
     },
     "execution_count": 26,
     "metadata": {},
     "output_type": "execute_result"
    }
   ],
   "source": [
    "data.groupby(['cluster_km']).mean().T"
   ]
  },
  {
   "cell_type": "markdown",
   "id": "ab9023b2",
   "metadata": {},
   "source": [
    "Минимальный отток клиентов в кластерах №0 и №4:\n",
    "- мужчин и женщин - 50 на 50;\n",
    "- средний возраст - 30 лет;\n",
    "- половина клиентов ходят на групповые занятия;\n",
    "- в кластере №0 средняя длительность контракта у клиентов - 11 месяцев и почти 80% клиентов привлечены по партнерской программе - данный кластер это \"клиенты-партнеры\"\n",
    "- самый высокий показатель посещаемости за неделю за весь период и за последний месяц - 2 и более дней в неделю.\n",
    "\n",
    "В кластере №1 26 % клиентов - отток. Клиенты данного кластера не предоставили номера телефонов для обратной связи.\n",
    "\n",
    "В кластере №2 44 % клиентов - отток. По клиентам данного кластера нет информации о отдаленности места жительства или работы от фитнес-центра.\n",
    "\n",
    "В кластере №3 51% клиентов - отток. Самый низкий показатель посещаемости за неделю - около одного дня в неделю."
   ]
  },
  {
   "cell_type": "markdown",
   "id": "af4f42d3",
   "metadata": {},
   "source": [
    "**Построим распределения признаков для кластеров**"
   ]
  },
  {
   "cell_type": "code",
   "execution_count": 27,
   "id": "23598eb3",
   "metadata": {},
   "outputs": [
    {
     "data": {
      "image/png": "[encoded data removed]",
      "text/plain": [
       "<Figure size 1296x720 with 6 Axes>"
      ]
     },
     "metadata": {
      "needs_background": "light"
     },
     "output_type": "display_data"
    }
   ],
   "source": [
    "fig, axes = plt.subplots(2, 3, figsize=(18, 10))\n",
    "\n",
    "fig.suptitle('Гистограммы прризнаков по кластерам')\n",
    "\n",
    "sns.countplot(ax=axes[0, 0], data=data, x='gender', hue='cluster_km')\n",
    "sns.countplot(ax=axes[0, 1], data=data, x='near_location', hue='cluster_km')\n",
    "sns.countplot(ax=axes[0, 2], data=data, x='partner', hue='cluster_km')\n",
    "sns.countplot(ax=axes[1, 0], data=data, x='promo_friends', hue='cluster_km')\n",
    "sns.countplot(ax=axes[1, 1], data=data, x='contract_period', hue='cluster_km')\n",
    "sns.countplot(ax=axes[1, 2], data=data, x='group_visits', hue='cluster_km')\n",
    "plt.show()"
   ]
  },
  {
   "cell_type": "code",
   "execution_count": 28,
   "id": "e32843f1",
   "metadata": {},
   "outputs": [
    {
     "data": {
      "image/png": "[encoded data removed]",
      "text/plain": [
       "<Figure size 1296x720 with 6 Axes>"
      ]
     },
     "metadata": {
      "needs_background": "light"
     },
     "output_type": "display_data"
    }
   ],
   "source": [
    "fig, axes = plt.subplots(2, 3, figsize=(18, 10))\n",
    "\n",
    "fig.suptitle('График распределения признаков')\n",
    "\n",
    "sns.boxplot(ax=axes[0, 0], data=data, x = 'cluster_km', y='month_to_end_contract')\n",
    "sns.boxplot(ax=axes[0, 1], data=data, x = 'cluster_km', y='age')\n",
    "sns.boxplot(ax=axes[0, 2], data=data, x = 'cluster_km', y='avg_additional_charges_total')\n",
    "sns.boxplot(ax=axes[1, 0], data=data, x = 'cluster_km', y='lifetime')\n",
    "sns.boxplot(ax=axes[1, 1], data=data, x = 'cluster_km', y='avg_class_frequency_total')\n",
    "sns.boxplot(ax=axes[1, 2], data=data, x = 'cluster_km', y='avg_class_frequency_current_month')\n",
    "plt.show()"
   ]
  },
  {
   "cell_type": "markdown",
   "id": "d6aef093",
   "metadata": {},
   "source": [
    "Из графиков распределения видно, что наилучшие показатели у кластеров №0 и №4"
   ]
  },
  {
   "cell_type": "markdown",
   "id": "f0435128",
   "metadata": {},
   "source": [
    "**Для каждого полученного кластера посчитаем долю оттока**"
   ]
  },
  {
   "cell_type": "code",
   "execution_count": 29,
   "id": "efa1eee7",
   "metadata": {},
   "outputs": [
    {
     "data": {
      "text/html": [
       "<div>\n",
       "<style scoped>\n",
       "    .dataframe tbody tr th:only-of-type {\n",
       "        vertical-align: middle;\n",
       "    }\n",
       "\n",
       "    .dataframe tbody tr th {\n",
       "        vertical-align: top;\n",
       "    }\n",
       "\n",
       "    .dataframe thead th {\n",
       "        text-align: right;\n",
       "    }\n",
       "</style>\n",
       "<table border=\"1\" class=\"dataframe\">\n",
       "  <thead>\n",
       "    <tr style=\"text-align: right;\">\n",
       "      <th></th>\n",
       "      <th>churn</th>\n",
       "    </tr>\n",
       "    <tr>\n",
       "      <th>cluster_km</th>\n",
       "      <th></th>\n",
       "    </tr>\n",
       "  </thead>\n",
       "  <tbody>\n",
       "    <tr>\n",
       "      <th>0</th>\n",
       "      <td>0.027723</td>\n",
       "    </tr>\n",
       "    <tr>\n",
       "      <th>1</th>\n",
       "      <td>0.267532</td>\n",
       "    </tr>\n",
       "    <tr>\n",
       "      <th>2</th>\n",
       "      <td>0.443564</td>\n",
       "    </tr>\n",
       "    <tr>\n",
       "      <th>3</th>\n",
       "      <td>0.514263</td>\n",
       "    </tr>\n",
       "    <tr>\n",
       "      <th>4</th>\n",
       "      <td>0.068019</td>\n",
       "    </tr>\n",
       "  </tbody>\n",
       "</table>\n",
       "</div>"
      ],
      "text/plain": [
       "               churn\n",
       "cluster_km          \n",
       "0           0.027723\n",
       "1           0.267532\n",
       "2           0.443564\n",
       "3           0.514263\n",
       "4           0.068019"
      ]
     },
     "execution_count": 29,
     "metadata": {},
     "output_type": "execute_result"
    }
   ],
   "source": [
    "data.groupby('cluster_km').agg({'churn':'mean'})"
   ]
  },
  {
   "cell_type": "markdown",
   "id": "1c242eb5",
   "metadata": {},
   "source": [
    "Надежным кластером можно считать **№0**, у него доля оттока составляет 2%."
   ]
  },
  {
   "cell_type": "markdown",
   "id": "ceb3cc73",
   "metadata": {},
   "source": [
    "Перспективным кластером можно считать **№4**, процент оттока - 6%."
   ]
  },
  {
   "cell_type": "markdown",
   "id": "1f7da659",
   "metadata": {},
   "source": [
    "Склонные к оттоку кластеры:\n",
    "   - №3 - 51%;\n",
    "   - №2 - 44%;\n",
    "   - №1 - 26%"
   ]
  },
  {
   "cell_type": "markdown",
   "id": "7245f698",
   "metadata": {},
   "source": [
    "## Этап 5. Общие выводы и базовые рекомендации по работе с клиентами"
   ]
  },
  {
   "cell_type": "markdown",
   "id": "8f7fe161",
   "metadata": {},
   "source": [
    "**Характеристики клиентов**"
   ]
  },
  {
   "cell_type": "markdown",
   "id": "eeae5987",
   "metadata": {},
   "source": [
    "Опишем клиента **\"лояльного\"** кластера №0:\n",
    "- средний возраст - 30 лет;\n",
    "- пол не важен;\n",
    "- живет или работает рядом с фитнес-центром;\n",
    "- заинтересован групповыми занятиями (54% клиентов);\n",
    "- сотрудник компании-партнёра клуба (78% клиентов);\n",
    "- воспользовался акцией \"приведи друга\" (57% клиентов);\n",
    "- средняя длительность абонемента - 11 месяцев;\n",
    "- тратит около 160 у.е. в месяц на доп. услуги;\n",
    "- более 4-х месяцев пользуется услугами фитнес-центра;\n",
    "- 2 раза в неделю посещает фитнес-центр;\n",
    "- срок до окончания текущего абонемента - 10 месяцев."
   ]
  },
  {
   "cell_type": "markdown",
   "id": "3165d51c",
   "metadata": {},
   "source": [
    "Опишем клиента **\"перспективного\"** кластера №4:\n",
    "- средний возраст - 30 лет;\n",
    "- пол не важен;\n",
    "- живет или работает рядом с фитнес-центром;\n",
    "- заинтересован групповыми занятиями (около 47% клиентов);\n",
    "- не является сотрудником компании-партнёра и не пользовался акцией \"приведи друга\" (около 70% клиентов)\n",
    "- средняя длительность абонемента - 2-3 месяца;\n",
    "- тратит около 161 у.е. в месяц на доп. услуги;\n",
    "- около 5-ти месяцев пользуется услугами фитнес-центра;\n",
    "- 2-3 раза в неделю посещает фитнес-центр;\n",
    "- срок до окончания текущего абонемента - 2-3 месяца."
   ]
  },
  {
   "cell_type": "markdown",
   "id": "2eb068dc",
   "metadata": {},
   "source": [
    "**Предположительные факторы оттока клиентов \"ненадежных\" кластеров:**\n",
    "- небольшой период длительности абонемента - 1-3 месяца;\n",
    "- низкая заинтересованность групповыми занятиями;\n",
    "- низкая частота посещаемости - 1 раз в неделю."
   ]
  },
  {
   "cell_type": "markdown",
   "id": "0f24633e",
   "metadata": {},
   "source": [
    "**Рекомендации по работе с клиентами:**"
   ]
  },
  {
   "cell_type": "markdown",
   "id": "11d6fbfd",
   "metadata": {},
   "source": [
    "- Предложение приобретения новым клиентам абонементов с длительным периодом, от 6 месяцев и более с привлекательной ценой и скидками.\n",
    "- Проведение и реклама новых партнерских программ, расширение сотрудничества с компаниями.\n",
    "- Проведение промо-акций групповых занятий, привлечение известных спортсменов на мастер-классы.\n",
    "- Мониторинг посещаемости. Клиентам, которые посещают клуб 2 и более раз в неделю в долгосрочном периоде, предлагать бонусные тренировки, подарки, скидки на следующие абонементы.\n",
    "\n"
   ]
  }
 ],
 "metadata": {
  "ExecuteTimeLog": [
   {
    "duration": 1656,
    "start_time": "2022-08-24T02:43:03.596Z"
   },
   {
    "duration": 35,
    "start_time": "2022-08-24T02:43:05.254Z"
   },
   {
    "duration": 19,
    "start_time": "2022-08-24T02:43:05.291Z"
   },
   {
    "duration": 4,
    "start_time": "2022-08-24T02:43:05.312Z"
   },
   {
    "duration": 26,
    "start_time": "2022-08-24T02:43:05.319Z"
   },
   {
    "duration": 4,
    "start_time": "2022-08-24T02:43:05.347Z"
   },
   {
    "duration": 40,
    "start_time": "2022-08-24T02:43:05.352Z"
   },
   {
    "duration": 51,
    "start_time": "2022-08-24T02:43:05.394Z"
   },
   {
    "duration": 14,
    "start_time": "2022-08-24T02:43:05.446Z"
   },
   {
    "duration": 756,
    "start_time": "2022-08-24T02:43:05.462Z"
   },
   {
    "duration": 723,
    "start_time": "2022-08-24T02:43:06.220Z"
   },
   {
    "duration": 950,
    "start_time": "2022-08-24T02:43:06.944Z"
   },
   {
    "duration": 5,
    "start_time": "2022-08-24T02:43:07.896Z"
   },
   {
    "duration": 6,
    "start_time": "2022-08-24T02:43:07.904Z"
   },
   {
    "duration": 7,
    "start_time": "2022-08-24T02:43:07.912Z"
   },
   {
    "duration": 12,
    "start_time": "2022-08-24T02:43:07.920Z"
   },
   {
    "duration": 159,
    "start_time": "2022-08-24T02:43:07.934Z"
   },
   {
    "duration": 471,
    "start_time": "2022-08-24T02:43:08.095Z"
   },
   {
    "duration": 4,
    "start_time": "2022-08-24T02:43:08.567Z"
   },
   {
    "duration": 24,
    "start_time": "2022-08-24T02:43:08.573Z"
   },
   {
    "duration": 648,
    "start_time": "2022-08-24T02:43:08.599Z"
   },
   {
    "duration": 118651,
    "start_time": "2022-08-24T02:43:09.249Z"
   },
   {
    "duration": 1498,
    "start_time": "2022-08-24T02:45:07.902Z"
   },
   {
    "duration": 99,
    "start_time": "2022-08-24T02:45:09.402Z"
   },
   {
    "duration": 932,
    "start_time": "2022-08-24T02:45:09.503Z"
   },
   {
    "duration": 1160,
    "start_time": "2022-08-24T02:45:10.437Z"
   },
   {
    "duration": 12,
    "start_time": "2022-08-24T02:45:11.599Z"
   }
  ],
  "kernelspec": {
   "display_name": "Python 3 (ipykernel)",
   "language": "python",
   "name": "python3"
  },
  "language_info": {
   "codemirror_mode": {
    "name": "ipython",
    "version": 3
   },
   "file_extension": ".py",
   "mimetype": "text/x-python",
   "name": "python",
   "nbconvert_exporter": "python",
   "pygments_lexer": "ipython3",
   "version": "3.9.5"
  },
  "toc": {
   "base_numbering": 1,
   "nav_menu": {},
   "number_sections": true,
   "sideBar": true,
   "skip_h1_title": true,
   "title_cell": "Table of Contents",
   "title_sidebar": "Contents",
   "toc_cell": false,
   "toc_position": {},
   "toc_section_display": true,
   "toc_window_display": false
  }
 },
 "nbformat": 4,
 "nbformat_minor": 5
}
