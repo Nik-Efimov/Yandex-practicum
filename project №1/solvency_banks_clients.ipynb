{
 "cells": [
  {
   "cell_type": "markdown",
   "id": "437aed1b",
   "metadata": {},
   "source": [
    "# Исследовательский проект"
   ]
  },
  {
   "cell_type": "markdown",
   "id": "cff499fa",
   "metadata": {},
   "source": [
    "## Цели исследования:"
   ]
  },
  {
   "cell_type": "markdown",
   "id": "0e1ce084",
   "metadata": {},
   "source": [
    "Разобраться, влияет ли семейное положение, количество детей, уровень дохода клиента и цель кредитования на факт погашения кредита в срок."
   ]
  },
  {
   "cell_type": "markdown",
   "id": "fa0fe92e",
   "metadata": {},
   "source": [
    "## Входные данные:"
   ]
  },
  {
   "cell_type": "markdown",
   "id": "2740488c",
   "metadata": {},
   "source": [
    "Cтатистика о платёжеспособности клиентов"
   ]
  },
  {
   "cell_type": "markdown",
   "id": "20692f2f",
   "metadata": {},
   "source": [
    "### Описание данных:"
   ]
  },
  {
   "cell_type": "markdown",
   "id": "f43a9634",
   "metadata": {},
   "source": [
    "- children — количество детей в семье\n",
    "- days_employed — общий трудовой стаж в днях\n",
    "- dob_years — возраст клиента в годах\n",
    "- education — уровень образования клиента\n",
    "- education_id — идентификатор уровня образования\n",
    "- family_status — семейное положение\n",
    "- family_status_id — идентификатор семейного положения\n",
    "- gender — пол клиента\n",
    "- income_type — тип занятости\n",
    "- debt — имел ли задолженность по возврату кредитов\n",
    "- total_income — ежемесячный доход\n",
    "- purpose — цель получения кредита"
   ]
  },
  {
   "cell_type": "markdown",
   "id": "35c59f9c",
   "metadata": {},
   "source": [
    "## План проекта:"
   ]
  },
  {
   "cell_type": "markdown",
   "id": "2e4c3ec7",
   "metadata": {},
   "source": [
    "Этап 1. Получение данных\n",
    "- импортируем библиотеки\n",
    "- прочитаем и сохраним данные\n",
    "- посмотрим основную информацию данных\n",
    "- сделаем предварительные выводы"
   ]
  },
  {
   "cell_type": "markdown",
   "id": "23fc2bdf",
   "metadata": {},
   "source": [
    "Этап 2. Обработка данных\n",
    "- избавимся от пропущенных значений\n",
    "- удалим дубликаты\n",
    "- проверим уникальность значений по столбцам\n",
    "- решим проблему с аномальными значениями"
   ]
  },
  {
   "cell_type": "markdown",
   "id": "b2a7f261",
   "metadata": {},
   "source": [
    "Этап 3. Категоризация данных\n",
    "- создадим категории по уровням дохода\n",
    "- создадим категории по целям кредитования"
   ]
  },
  {
   "cell_type": "markdown",
   "id": "4e69cb44",
   "metadata": {},
   "source": [
    "Этап 4. Анализ данных"
   ]
  },
  {
   "cell_type": "markdown",
   "id": "becbbaa9",
   "metadata": {},
   "source": [
    "Ответим на вопросы:\n",
    "- Есть ли зависимость между количеством детей и возвратом кредита в срок?\n",
    "- Есть ли зависимость между семейным положением и возвратом кредита в срок?\n",
    "- Есть ли зависимость между уровнем дохода и возвратом кредита в срок?\n",
    "- Как разные цели кредита влияют на его возврат в срок?"
   ]
  },
  {
   "cell_type": "markdown",
   "id": "651067df",
   "metadata": {},
   "source": [
    "Этап 5. Выводы\n",
    "- подведем общие итоги исследования\n",
    "- дадим рекомендации разработчикам для исключения ошибок в данных"
   ]
  },
  {
   "cell_type": "markdown",
   "id": "ada4a207",
   "metadata": {},
   "source": [
    "# Этап 1. Получение данных "
   ]
  },
  {
   "cell_type": "markdown",
   "id": "1ba8dec2",
   "metadata": {},
   "source": [
    "## Изучим данные, предоставленные для проекта."
   ]
  },
  {
   "cell_type": "markdown",
   "id": "69f3353a",
   "metadata": {},
   "source": [
    "Импортируем библиотеку"
   ]
  },
  {
   "cell_type": "code",
   "execution_count": 4,
   "id": "1152ceaa",
   "metadata": {},
   "outputs": [],
   "source": [
    "import pandas as pd"
   ]
  },
  {
   "cell_type": "markdown",
   "id": "baf407c2",
   "metadata": {},
   "source": [
    "Прочитаем файл и сохраним его в переменной data."
   ]
  },
  {
   "cell_type": "code",
   "execution_count": 5,
   "id": "383e8c59",
   "metadata": {},
   "outputs": [],
   "source": [
    "try: \n",
    "    data = pd.read_csv('C:/Users/Admin/Downloads/data.csv') #путь к файлу на локальной машине\n",
    "except:\n",
    "    data = pd.read_csv('https://github.com/Nik-Efimov/datasets/blob/main/bank_data.csv?raw=true') #путь к файлу по ссылке"
   ]
  },
  {
   "cell_type": "markdown",
   "id": "37bb3bee",
   "metadata": {},
   "source": [
    "Получим первые 5 строк таблицы."
   ]
  },
  {
   "cell_type": "code",
   "execution_count": 6,
   "id": "0e52f190",
   "metadata": {},
   "outputs": [
    {
     "data": {
      "text/html": [
       "<div>\n",
       "<style scoped>\n",
       "    .dataframe tbody tr th:only-of-type {\n",
       "        vertical-align: middle;\n",
       "    }\n",
       "\n",
       "    .dataframe tbody tr th {\n",
       "        vertical-align: top;\n",
       "    }\n",
       "\n",
       "    .dataframe thead th {\n",
       "        text-align: right;\n",
       "    }\n",
       "</style>\n",
       "<table border=\"1\" class=\"dataframe\">\n",
       "  <thead>\n",
       "    <tr style=\"text-align: right;\">\n",
       "      <th></th>\n",
       "      <th>children</th>\n",
       "      <th>days_employed</th>\n",
       "      <th>dob_years</th>\n",
       "      <th>education</th>\n",
       "      <th>education_id</th>\n",
       "      <th>family_status</th>\n",
       "      <th>family_status_id</th>\n",
       "      <th>gender</th>\n",
       "      <th>income_type</th>\n",
       "      <th>debt</th>\n",
       "      <th>total_income</th>\n",
       "      <th>purpose</th>\n",
       "    </tr>\n",
       "  </thead>\n",
       "  <tbody>\n",
       "    <tr>\n",
       "      <th>0</th>\n",
       "      <td>1</td>\n",
       "      <td>-8437.673028</td>\n",
       "      <td>42</td>\n",
       "      <td>высшее</td>\n",
       "      <td>0</td>\n",
       "      <td>женат / замужем</td>\n",
       "      <td>0</td>\n",
       "      <td>F</td>\n",
       "      <td>сотрудник</td>\n",
       "      <td>0</td>\n",
       "      <td>253875.639453</td>\n",
       "      <td>покупка жилья</td>\n",
       "    </tr>\n",
       "    <tr>\n",
       "      <th>1</th>\n",
       "      <td>1</td>\n",
       "      <td>-4024.803754</td>\n",
       "      <td>36</td>\n",
       "      <td>среднее</td>\n",
       "      <td>1</td>\n",
       "      <td>женат / замужем</td>\n",
       "      <td>0</td>\n",
       "      <td>F</td>\n",
       "      <td>сотрудник</td>\n",
       "      <td>0</td>\n",
       "      <td>112080.014102</td>\n",
       "      <td>приобретение автомобиля</td>\n",
       "    </tr>\n",
       "    <tr>\n",
       "      <th>2</th>\n",
       "      <td>0</td>\n",
       "      <td>-5623.422610</td>\n",
       "      <td>33</td>\n",
       "      <td>Среднее</td>\n",
       "      <td>1</td>\n",
       "      <td>женат / замужем</td>\n",
       "      <td>0</td>\n",
       "      <td>M</td>\n",
       "      <td>сотрудник</td>\n",
       "      <td>0</td>\n",
       "      <td>145885.952297</td>\n",
       "      <td>покупка жилья</td>\n",
       "    </tr>\n",
       "    <tr>\n",
       "      <th>3</th>\n",
       "      <td>3</td>\n",
       "      <td>-4124.747207</td>\n",
       "      <td>32</td>\n",
       "      <td>среднее</td>\n",
       "      <td>1</td>\n",
       "      <td>женат / замужем</td>\n",
       "      <td>0</td>\n",
       "      <td>M</td>\n",
       "      <td>сотрудник</td>\n",
       "      <td>0</td>\n",
       "      <td>267628.550329</td>\n",
       "      <td>дополнительное образование</td>\n",
       "    </tr>\n",
       "    <tr>\n",
       "      <th>4</th>\n",
       "      <td>0</td>\n",
       "      <td>340266.072047</td>\n",
       "      <td>53</td>\n",
       "      <td>среднее</td>\n",
       "      <td>1</td>\n",
       "      <td>гражданский брак</td>\n",
       "      <td>1</td>\n",
       "      <td>F</td>\n",
       "      <td>пенсионер</td>\n",
       "      <td>0</td>\n",
       "      <td>158616.077870</td>\n",
       "      <td>сыграть свадьбу</td>\n",
       "    </tr>\n",
       "  </tbody>\n",
       "</table>\n",
       "</div>"
      ],
      "text/plain": [
       "   children  days_employed  dob_years education  education_id  \\\n",
       "0         1   -8437.673028         42    высшее             0   \n",
       "1         1   -4024.803754         36   среднее             1   \n",
       "2         0   -5623.422610         33   Среднее             1   \n",
       "3         3   -4124.747207         32   среднее             1   \n",
       "4         0  340266.072047         53   среднее             1   \n",
       "\n",
       "      family_status  family_status_id gender income_type  debt   total_income  \\\n",
       "0   женат / замужем                 0      F   сотрудник     0  253875.639453   \n",
       "1   женат / замужем                 0      F   сотрудник     0  112080.014102   \n",
       "2   женат / замужем                 0      M   сотрудник     0  145885.952297   \n",
       "3   женат / замужем                 0      M   сотрудник     0  267628.550329   \n",
       "4  гражданский брак                 1      F   пенсионер     0  158616.077870   \n",
       "\n",
       "                      purpose  \n",
       "0               покупка жилья  \n",
       "1     приобретение автомобиля  \n",
       "2               покупка жилья  \n",
       "3  дополнительное образование  \n",
       "4             сыграть свадьбу  "
      ]
     },
     "execution_count": 6,
     "metadata": {},
     "output_type": "execute_result"
    }
   ],
   "source": [
    "data.head()"
   ]
  },
  {
   "cell_type": "markdown",
   "id": "14d0efc1",
   "metadata": {},
   "source": [
    "Посмотрим статистику о данных таблицы data."
   ]
  },
  {
   "cell_type": "code",
   "execution_count": 7,
   "id": "464bb925",
   "metadata": {},
   "outputs": [
    {
     "data": {
      "text/html": [
       "<div>\n",
       "<style scoped>\n",
       "    .dataframe tbody tr th:only-of-type {\n",
       "        vertical-align: middle;\n",
       "    }\n",
       "\n",
       "    .dataframe tbody tr th {\n",
       "        vertical-align: top;\n",
       "    }\n",
       "\n",
       "    .dataframe thead th {\n",
       "        text-align: right;\n",
       "    }\n",
       "</style>\n",
       "<table border=\"1\" class=\"dataframe\">\n",
       "  <thead>\n",
       "    <tr style=\"text-align: right;\">\n",
       "      <th></th>\n",
       "      <th>children</th>\n",
       "      <th>days_employed</th>\n",
       "      <th>dob_years</th>\n",
       "      <th>education_id</th>\n",
       "      <th>family_status_id</th>\n",
       "      <th>debt</th>\n",
       "      <th>total_income</th>\n",
       "    </tr>\n",
       "  </thead>\n",
       "  <tbody>\n",
       "    <tr>\n",
       "      <th>count</th>\n",
       "      <td>21525.000000</td>\n",
       "      <td>19351.000000</td>\n",
       "      <td>21525.000000</td>\n",
       "      <td>21525.000000</td>\n",
       "      <td>21525.000000</td>\n",
       "      <td>21525.000000</td>\n",
       "      <td>1.935100e+04</td>\n",
       "    </tr>\n",
       "    <tr>\n",
       "      <th>mean</th>\n",
       "      <td>0.538908</td>\n",
       "      <td>63046.497661</td>\n",
       "      <td>43.293380</td>\n",
       "      <td>0.817236</td>\n",
       "      <td>0.972544</td>\n",
       "      <td>0.080883</td>\n",
       "      <td>1.674223e+05</td>\n",
       "    </tr>\n",
       "    <tr>\n",
       "      <th>std</th>\n",
       "      <td>1.381587</td>\n",
       "      <td>140827.311974</td>\n",
       "      <td>12.574584</td>\n",
       "      <td>0.548138</td>\n",
       "      <td>1.420324</td>\n",
       "      <td>0.272661</td>\n",
       "      <td>1.029716e+05</td>\n",
       "    </tr>\n",
       "    <tr>\n",
       "      <th>min</th>\n",
       "      <td>-1.000000</td>\n",
       "      <td>-18388.949901</td>\n",
       "      <td>0.000000</td>\n",
       "      <td>0.000000</td>\n",
       "      <td>0.000000</td>\n",
       "      <td>0.000000</td>\n",
       "      <td>2.066726e+04</td>\n",
       "    </tr>\n",
       "    <tr>\n",
       "      <th>25%</th>\n",
       "      <td>0.000000</td>\n",
       "      <td>-2747.423625</td>\n",
       "      <td>33.000000</td>\n",
       "      <td>1.000000</td>\n",
       "      <td>0.000000</td>\n",
       "      <td>0.000000</td>\n",
       "      <td>1.030532e+05</td>\n",
       "    </tr>\n",
       "    <tr>\n",
       "      <th>50%</th>\n",
       "      <td>0.000000</td>\n",
       "      <td>-1203.369529</td>\n",
       "      <td>42.000000</td>\n",
       "      <td>1.000000</td>\n",
       "      <td>0.000000</td>\n",
       "      <td>0.000000</td>\n",
       "      <td>1.450179e+05</td>\n",
       "    </tr>\n",
       "    <tr>\n",
       "      <th>75%</th>\n",
       "      <td>1.000000</td>\n",
       "      <td>-291.095954</td>\n",
       "      <td>53.000000</td>\n",
       "      <td>1.000000</td>\n",
       "      <td>1.000000</td>\n",
       "      <td>0.000000</td>\n",
       "      <td>2.034351e+05</td>\n",
       "    </tr>\n",
       "    <tr>\n",
       "      <th>max</th>\n",
       "      <td>20.000000</td>\n",
       "      <td>401755.400475</td>\n",
       "      <td>75.000000</td>\n",
       "      <td>4.000000</td>\n",
       "      <td>4.000000</td>\n",
       "      <td>1.000000</td>\n",
       "      <td>2.265604e+06</td>\n",
       "    </tr>\n",
       "  </tbody>\n",
       "</table>\n",
       "</div>"
      ],
      "text/plain": [
       "           children  days_employed     dob_years  education_id  \\\n",
       "count  21525.000000   19351.000000  21525.000000  21525.000000   \n",
       "mean       0.538908   63046.497661     43.293380      0.817236   \n",
       "std        1.381587  140827.311974     12.574584      0.548138   \n",
       "min       -1.000000  -18388.949901      0.000000      0.000000   \n",
       "25%        0.000000   -2747.423625     33.000000      1.000000   \n",
       "50%        0.000000   -1203.369529     42.000000      1.000000   \n",
       "75%        1.000000    -291.095954     53.000000      1.000000   \n",
       "max       20.000000  401755.400475     75.000000      4.000000   \n",
       "\n",
       "       family_status_id          debt  total_income  \n",
       "count      21525.000000  21525.000000  1.935100e+04  \n",
       "mean           0.972544      0.080883  1.674223e+05  \n",
       "std            1.420324      0.272661  1.029716e+05  \n",
       "min            0.000000      0.000000  2.066726e+04  \n",
       "25%            0.000000      0.000000  1.030532e+05  \n",
       "50%            0.000000      0.000000  1.450179e+05  \n",
       "75%            1.000000      0.000000  2.034351e+05  \n",
       "max            4.000000      1.000000  2.265604e+06  "
      ]
     },
     "execution_count": 7,
     "metadata": {},
     "output_type": "execute_result"
    }
   ],
   "source": [
    "data.describe()"
   ]
  },
  {
   "cell_type": "markdown",
   "id": "8bab991f",
   "metadata": {},
   "source": [
    "Посмотрим общую информацию датафрейма."
   ]
  },
  {
   "cell_type": "code",
   "execution_count": 8,
   "id": "51298457",
   "metadata": {},
   "outputs": [
    {
     "name": "stdout",
     "output_type": "stream",
     "text": [
      "<class 'pandas.core.frame.DataFrame'>\n",
      "RangeIndex: 21525 entries, 0 to 21524\n",
      "Data columns (total 12 columns):\n",
      " #   Column            Non-Null Count  Dtype  \n",
      "---  ------            --------------  -----  \n",
      " 0   children          21525 non-null  int64  \n",
      " 1   days_employed     19351 non-null  float64\n",
      " 2   dob_years         21525 non-null  int64  \n",
      " 3   education         21525 non-null  object \n",
      " 4   education_id      21525 non-null  int64  \n",
      " 5   family_status     21525 non-null  object \n",
      " 6   family_status_id  21525 non-null  int64  \n",
      " 7   gender            21525 non-null  object \n",
      " 8   income_type       21525 non-null  object \n",
      " 9   debt              21525 non-null  int64  \n",
      " 10  total_income      19351 non-null  float64\n",
      " 11  purpose           21525 non-null  object \n",
      "dtypes: float64(2), int64(5), object(5)\n",
      "memory usage: 2.0+ MB\n"
     ]
    }
   ],
   "source": [
    "data.info()"
   ]
  },
  {
   "cell_type": "markdown",
   "id": "ff5c2379",
   "metadata": {},
   "source": [
    "Из таблицы общей информации наших данных видим, что два столбца имеют пропущенные значение, это столбцы: 'days_employed' и 'total_income'"
   ]
  },
  {
   "cell_type": "markdown",
   "id": "e2ba56a9",
   "metadata": {},
   "source": [
    "## Выводы"
   ]
  },
  {
   "cell_type": "markdown",
   "id": "2361498e",
   "metadata": {},
   "source": [
    "Выявленные отклонения и аномалии:\n",
    "- пропущенные значения в днях стажа и доходе\n",
    "- некорректные значения в детях = -1\n",
    "- отрицательные значения в днях стажа\n",
    "- разный регистр букв в данных про образование\n",
    "- минимальный возраст - 0\n",
    "- некорректные данные в днях стажа, слишком большие числа\n",
    "\n",
    "Скорректируем наши данные на следующем этапе."
   ]
  },
  {
   "cell_type": "markdown",
   "id": "67f1efbb",
   "metadata": {},
   "source": [
    "# Этап 2. Обработка данных"
   ]
  },
  {
   "cell_type": "markdown",
   "id": "0d5de2ac",
   "metadata": {},
   "source": [
    "### Проверим количество пропущенных значений"
   ]
  },
  {
   "cell_type": "code",
   "execution_count": 9,
   "id": "9434c869",
   "metadata": {},
   "outputs": [
    {
     "data": {
      "text/plain": [
       "children               0\n",
       "days_employed       2174\n",
       "dob_years              0\n",
       "education              0\n",
       "education_id           0\n",
       "family_status          0\n",
       "family_status_id       0\n",
       "gender                 0\n",
       "income_type            0\n",
       "debt                   0\n",
       "total_income        2174\n",
       "purpose                0\n",
       "dtype: int64"
      ]
     },
     "execution_count": 9,
     "metadata": {},
     "output_type": "execute_result"
    }
   ],
   "source": [
    "data.isna().sum() #сумма пропусков по столбцам"
   ]
  },
  {
   "cell_type": "markdown",
   "id": "9070bd38",
   "metadata": {},
   "source": [
    "Общий трудовой стаж также как и ежемесячный доход пропущены в 2174 случаях, это около 10% от всех значений датафрейма data, в котором 21525 строк. Десять процентов - это достаточно много и удаление строк с пропусками может привести к некорректным результатам при анализе.\n",
    "\n",
    "Причина возникновения пропусков в данных столбцах неслучайная. Возможно, клиенты, заполняя заявку на получение кредита, не указали общий стаж и уровень дохода, либо эти люди не работали или работали неофициально."
   ]
  },
  {
   "cell_type": "markdown",
   "id": "2fbe02fa",
   "metadata": {},
   "source": [
    "Подставим вместо пропущенных значений нули. На данном этапе некорректно подставлять медианные и средние значения, вдруг человек действительно не работал."
   ]
  },
  {
   "cell_type": "code",
   "execution_count": 10,
   "id": "89d6b6d6",
   "metadata": {},
   "outputs": [],
   "source": [
    "data['days_employed'] = data['days_employed'].fillna(0) "
   ]
  },
  {
   "cell_type": "code",
   "execution_count": 11,
   "id": "d42636d1",
   "metadata": {},
   "outputs": [],
   "source": [
    "data['total_income'] = data['total_income'].fillna(0)"
   ]
  },
  {
   "cell_type": "code",
   "execution_count": 12,
   "id": "5b78ec9c",
   "metadata": {},
   "outputs": [
    {
     "data": {
      "text/plain": [
       "children            0\n",
       "days_employed       0\n",
       "dob_years           0\n",
       "education           0\n",
       "education_id        0\n",
       "family_status       0\n",
       "family_status_id    0\n",
       "gender              0\n",
       "income_type         0\n",
       "debt                0\n",
       "total_income        0\n",
       "purpose             0\n",
       "dtype: int64"
      ]
     },
     "execution_count": 12,
     "metadata": {},
     "output_type": "execute_result"
    }
   ],
   "source": [
    "data.isna().sum() #проверим отсутствие пропусков"
   ]
  },
  {
   "cell_type": "markdown",
   "id": "ed22e05a",
   "metadata": {},
   "source": [
    "Пропусков в нашей таблице больше нет"
   ]
  },
  {
   "cell_type": "markdown",
   "id": "0adcb4e3",
   "metadata": {},
   "source": [
    "### Проверим наличие дубликатов"
   ]
  },
  {
   "cell_type": "code",
   "execution_count": 13,
   "id": "4e25562b",
   "metadata": {},
   "outputs": [
    {
     "data": {
      "text/plain": [
       "54"
      ]
     },
     "execution_count": 13,
     "metadata": {},
     "output_type": "execute_result"
    }
   ],
   "source": [
    "data.duplicated().sum() #сумма дубликатов, если есть"
   ]
  },
  {
   "cell_type": "markdown",
   "id": "68a444f8",
   "metadata": {},
   "source": [
    "Дубликаты необходимо удалить. Причина их возникновения скорее всего при формировании заявки. "
   ]
  },
  {
   "cell_type": "code",
   "execution_count": 14,
   "id": "6d13d3de",
   "metadata": {},
   "outputs": [],
   "source": [
    "data = data.drop_duplicates().reset_index(drop=True) #удалим дубликаты и обновим индексы строк"
   ]
  },
  {
   "cell_type": "code",
   "execution_count": 15,
   "id": "65f6f35f",
   "metadata": {},
   "outputs": [
    {
     "data": {
      "text/plain": [
       "0"
      ]
     },
     "execution_count": 15,
     "metadata": {},
     "output_type": "execute_result"
    }
   ],
   "source": [
    "data.duplicated().sum() #проверим отстутствие дубликатов"
   ]
  },
  {
   "cell_type": "markdown",
   "id": "15dfb43c",
   "metadata": {},
   "source": [
    "Исправим некоректность данных в столбце 'children'"
   ]
  },
  {
   "cell_type": "code",
   "execution_count": 16,
   "id": "64c57be3",
   "metadata": {},
   "outputs": [
    {
     "data": {
      "text/plain": [
       "array([ 1,  0,  3,  2, -1,  4, 20,  5], dtype=int64)"
      ]
     },
     "execution_count": 16,
     "metadata": {},
     "output_type": "execute_result"
    }
   ],
   "source": [
    "data['children'].unique() #посмотрим уникальные значения в столбце"
   ]
  },
  {
   "cell_type": "markdown",
   "id": "1dac0cfc",
   "metadata": {},
   "source": [
    "Значение -1 некорректно, а значение 20 достаточно большое, чтоб соответствовать действительности"
   ]
  },
  {
   "cell_type": "markdown",
   "id": "c83d61ca",
   "metadata": {},
   "source": [
    "Разобьем суммы значений по группам"
   ]
  },
  {
   "cell_type": "code",
   "execution_count": 17,
   "id": "4212abe1",
   "metadata": {},
   "outputs": [
    {
     "data": {
      "text/plain": [
       " 0     14107\n",
       " 1      4809\n",
       " 2      2052\n",
       " 3       330\n",
       " 20       76\n",
       "-1        47\n",
       " 4        41\n",
       " 5         9\n",
       "Name: children, dtype: int64"
      ]
     },
     "execution_count": 17,
     "metadata": {},
     "output_type": "execute_result"
    }
   ],
   "source": [
    "data['children'].value_counts()"
   ]
  },
  {
   "cell_type": "markdown",
   "id": "262ce85d",
   "metadata": {},
   "source": [
    "-1 = 47 значений,\n",
    "20 = 76 значений.\n",
    "Скорее всего, ошибки имеют характер человеческого фактора и -1 это 1, а 20 это 2."
   ]
  },
  {
   "cell_type": "markdown",
   "id": "580a2b22",
   "metadata": {},
   "source": [
    "Заменим значения в датафрейме"
   ]
  },
  {
   "cell_type": "code",
   "execution_count": 18,
   "id": "ad415934",
   "metadata": {},
   "outputs": [],
   "source": [
    "data['children'] = data['children'].replace(-1, 1) #заменим -1 на 1"
   ]
  },
  {
   "cell_type": "code",
   "execution_count": 19,
   "id": "bab8fccf",
   "metadata": {},
   "outputs": [],
   "source": [
    "data['children'] = data['children'].replace(20, 2) #заменим 20 на 2"
   ]
  },
  {
   "cell_type": "code",
   "execution_count": 20,
   "id": "eb319eea",
   "metadata": {},
   "outputs": [
    {
     "data": {
      "text/plain": [
       "array([1, 0, 3, 2, 4, 5], dtype=int64)"
      ]
     },
     "execution_count": 20,
     "metadata": {},
     "output_type": "execute_result"
    }
   ],
   "source": [
    "data['children'].unique() #проверим уникальные значения по столбцу"
   ]
  },
  {
   "cell_type": "markdown",
   "id": "6ae23a2d",
   "metadata": {},
   "source": [
    "Столбец 'children' привели в порядок"
   ]
  },
  {
   "cell_type": "markdown",
   "id": "e91ad76d",
   "metadata": {},
   "source": [
    "Теперь разберемся с некорректными данными в столбце трудового стажа 'days_employed'"
   ]
  },
  {
   "cell_type": "code",
   "execution_count": 21,
   "id": "7b775350",
   "metadata": {},
   "outputs": [
    {
     "data": {
      "text/plain": [
       "count     21471.000000\n",
       "mean      56821.423140\n",
       "std      135010.270744\n",
       "min      -18388.949901\n",
       "25%       -2522.536607\n",
       "50%        -989.271304\n",
       "75%           0.000000\n",
       "max      401755.400475\n",
       "Name: days_employed, dtype: float64"
      ]
     },
     "execution_count": 21,
     "metadata": {},
     "output_type": "execute_result"
    }
   ],
   "source": [
    "data['days_employed'].describe() #посмотрим на статистику этого столбца"
   ]
  },
  {
   "cell_type": "markdown",
   "id": "4444c8a5",
   "metadata": {},
   "source": [
    "Есть как отрицательные значения так и слишком большие, максимальное значение 401755 дней, это 1100 лет. Вряд ли кто-то сможет столько работать."
   ]
  },
  {
   "cell_type": "markdown",
   "id": "0319141b",
   "metadata": {},
   "source": [
    "С отрицательными разобраться проще, явно знак \"-\" здесь лишний и появился в данных по ошибки при выгрузке либо формировании датафрейма"
   ]
  },
  {
   "cell_type": "code",
   "execution_count": 22,
   "id": "8a935111",
   "metadata": {},
   "outputs": [],
   "source": [
    "data['days_employed'] = data['days_employed'].abs() #меняем отрицательные значения на положительные"
   ]
  },
  {
   "cell_type": "markdown",
   "id": "8e251354",
   "metadata": {},
   "source": [
    "Для удобства переведем дни в года"
   ]
  },
  {
   "cell_type": "code",
   "execution_count": 23,
   "id": "ab3cf066",
   "metadata": {},
   "outputs": [],
   "source": [
    "data['days_employed'] = data['days_employed'] / 365 #разделим значения колонки на 365 и получим количество лет трудового стажа"
   ]
  },
  {
   "cell_type": "code",
   "execution_count": 24,
   "id": "3d266593",
   "metadata": {},
   "outputs": [],
   "source": [
    "data = data.rename(columns={'days_employed': 'years_employed'}) #переименуем столбец в более соответствующее название"
   ]
  },
  {
   "cell_type": "code",
   "execution_count": 25,
   "id": "6eef8055",
   "metadata": {},
   "outputs": [],
   "source": [
    "data['years_employed'] = data['years_employed'].astype(int) #заменим значения на целочисленные"
   ]
  },
  {
   "cell_type": "code",
   "execution_count": 26,
   "id": "7bb0263d",
   "metadata": {},
   "outputs": [
    {
     "data": {
      "text/html": [
       "<div>\n",
       "<style scoped>\n",
       "    .dataframe tbody tr th:only-of-type {\n",
       "        vertical-align: middle;\n",
       "    }\n",
       "\n",
       "    .dataframe tbody tr th {\n",
       "        vertical-align: top;\n",
       "    }\n",
       "\n",
       "    .dataframe thead th {\n",
       "        text-align: right;\n",
       "    }\n",
       "</style>\n",
       "<table border=\"1\" class=\"dataframe\">\n",
       "  <thead>\n",
       "    <tr style=\"text-align: right;\">\n",
       "      <th></th>\n",
       "      <th>children</th>\n",
       "      <th>years_employed</th>\n",
       "      <th>dob_years</th>\n",
       "      <th>education</th>\n",
       "      <th>education_id</th>\n",
       "      <th>family_status</th>\n",
       "      <th>family_status_id</th>\n",
       "      <th>gender</th>\n",
       "      <th>income_type</th>\n",
       "      <th>debt</th>\n",
       "      <th>total_income</th>\n",
       "      <th>purpose</th>\n",
       "    </tr>\n",
       "  </thead>\n",
       "  <tbody>\n",
       "    <tr>\n",
       "      <th>0</th>\n",
       "      <td>1</td>\n",
       "      <td>23</td>\n",
       "      <td>42</td>\n",
       "      <td>высшее</td>\n",
       "      <td>0</td>\n",
       "      <td>женат / замужем</td>\n",
       "      <td>0</td>\n",
       "      <td>F</td>\n",
       "      <td>сотрудник</td>\n",
       "      <td>0</td>\n",
       "      <td>253875.639453</td>\n",
       "      <td>покупка жилья</td>\n",
       "    </tr>\n",
       "    <tr>\n",
       "      <th>1</th>\n",
       "      <td>1</td>\n",
       "      <td>11</td>\n",
       "      <td>36</td>\n",
       "      <td>среднее</td>\n",
       "      <td>1</td>\n",
       "      <td>женат / замужем</td>\n",
       "      <td>0</td>\n",
       "      <td>F</td>\n",
       "      <td>сотрудник</td>\n",
       "      <td>0</td>\n",
       "      <td>112080.014102</td>\n",
       "      <td>приобретение автомобиля</td>\n",
       "    </tr>\n",
       "    <tr>\n",
       "      <th>2</th>\n",
       "      <td>0</td>\n",
       "      <td>15</td>\n",
       "      <td>33</td>\n",
       "      <td>Среднее</td>\n",
       "      <td>1</td>\n",
       "      <td>женат / замужем</td>\n",
       "      <td>0</td>\n",
       "      <td>M</td>\n",
       "      <td>сотрудник</td>\n",
       "      <td>0</td>\n",
       "      <td>145885.952297</td>\n",
       "      <td>покупка жилья</td>\n",
       "    </tr>\n",
       "    <tr>\n",
       "      <th>3</th>\n",
       "      <td>3</td>\n",
       "      <td>11</td>\n",
       "      <td>32</td>\n",
       "      <td>среднее</td>\n",
       "      <td>1</td>\n",
       "      <td>женат / замужем</td>\n",
       "      <td>0</td>\n",
       "      <td>M</td>\n",
       "      <td>сотрудник</td>\n",
       "      <td>0</td>\n",
       "      <td>267628.550329</td>\n",
       "      <td>дополнительное образование</td>\n",
       "    </tr>\n",
       "    <tr>\n",
       "      <th>4</th>\n",
       "      <td>0</td>\n",
       "      <td>932</td>\n",
       "      <td>53</td>\n",
       "      <td>среднее</td>\n",
       "      <td>1</td>\n",
       "      <td>гражданский брак</td>\n",
       "      <td>1</td>\n",
       "      <td>F</td>\n",
       "      <td>пенсионер</td>\n",
       "      <td>0</td>\n",
       "      <td>158616.077870</td>\n",
       "      <td>сыграть свадьбу</td>\n",
       "    </tr>\n",
       "  </tbody>\n",
       "</table>\n",
       "</div>"
      ],
      "text/plain": [
       "   children  years_employed  dob_years education  education_id  \\\n",
       "0         1              23         42    высшее             0   \n",
       "1         1              11         36   среднее             1   \n",
       "2         0              15         33   Среднее             1   \n",
       "3         3              11         32   среднее             1   \n",
       "4         0             932         53   среднее             1   \n",
       "\n",
       "      family_status  family_status_id gender income_type  debt   total_income  \\\n",
       "0   женат / замужем                 0      F   сотрудник     0  253875.639453   \n",
       "1   женат / замужем                 0      F   сотрудник     0  112080.014102   \n",
       "2   женат / замужем                 0      M   сотрудник     0  145885.952297   \n",
       "3   женат / замужем                 0      M   сотрудник     0  267628.550329   \n",
       "4  гражданский брак                 1      F   пенсионер     0  158616.077870   \n",
       "\n",
       "                      purpose  \n",
       "0               покупка жилья  \n",
       "1     приобретение автомобиля  \n",
       "2               покупка жилья  \n",
       "3  дополнительное образование  \n",
       "4             сыграть свадьбу  "
      ]
     },
     "execution_count": 26,
     "metadata": {},
     "output_type": "execute_result"
    }
   ],
   "source": [
    "data.head() "
   ]
  },
  {
   "cell_type": "markdown",
   "id": "6f68f88a",
   "metadata": {},
   "source": [
    "В таком виде данными колонки общего стажа 'years_employed' пользоваться легче. Но пока не понятно, что делать с большими значениями.\n",
    "Оставим пока так, как есть."
   ]
  },
  {
   "cell_type": "markdown",
   "id": "6e20b105",
   "metadata": {},
   "source": [
    "Наведем порядок в колонке с образованием"
   ]
  },
  {
   "cell_type": "code",
   "execution_count": 27,
   "id": "ee3e4652",
   "metadata": {},
   "outputs": [
    {
     "data": {
      "text/plain": [
       "array(['высшее', 'среднее', 'Среднее', 'СРЕДНЕЕ', 'ВЫСШЕЕ',\n",
       "       'неоконченное высшее', 'начальное', 'Высшее',\n",
       "       'НЕОКОНЧЕННОЕ ВЫСШЕЕ', 'Неоконченное высшее', 'НАЧАЛЬНОЕ',\n",
       "       'Начальное', 'Ученая степень', 'УЧЕНАЯ СТЕПЕНЬ', 'ученая степень'],\n",
       "      dtype=object)"
      ]
     },
     "execution_count": 27,
     "metadata": {},
     "output_type": "execute_result"
    }
   ],
   "source": [
    "data['education'].unique() #проверим уникальные значения"
   ]
  },
  {
   "cell_type": "markdown",
   "id": "944a104a",
   "metadata": {},
   "source": [
    "Разброс в регистрах велик. Причиной может быть человеческий фактор, при заполнении заявки человек может ввести как большими так и маленькими буквами. Можно исправить это, внедрив ниспадающий список, в котором уже прописаны готовые варианты для выбора"
   ]
  },
  {
   "cell_type": "code",
   "execution_count": 28,
   "id": "02baa37a",
   "metadata": {},
   "outputs": [],
   "source": [
    "data['education'] = data['education'].str.lower() #приведем регистр значений к единому виду"
   ]
  },
  {
   "cell_type": "code",
   "execution_count": 29,
   "id": "ed3ac592",
   "metadata": {},
   "outputs": [
    {
     "data": {
      "text/plain": [
       "array(['высшее', 'среднее', 'неоконченное высшее', 'начальное',\n",
       "       'ученая степень'], dtype=object)"
      ]
     },
     "execution_count": 29,
     "metadata": {},
     "output_type": "execute_result"
    }
   ],
   "source": [
    "data['education'].unique() #проверим уникальные значения ещё раз"
   ]
  },
  {
   "cell_type": "code",
   "execution_count": 30,
   "id": "7198df21",
   "metadata": {},
   "outputs": [
    {
     "data": {
      "text/plain": [
       "17"
      ]
     },
     "execution_count": 30,
     "metadata": {},
     "output_type": "execute_result"
    }
   ],
   "source": [
    "data.duplicated().sum() #вновь проверим данные на наличие явных дубликатов"
   ]
  },
  {
   "cell_type": "code",
   "execution_count": 31,
   "id": "a655f071",
   "metadata": {},
   "outputs": [],
   "source": [
    "data = data.drop_duplicates().reset_index(drop=True) #удалим дубликаты и обновим индексы строк"
   ]
  },
  {
   "cell_type": "code",
   "execution_count": 32,
   "id": "639f8649",
   "metadata": {},
   "outputs": [
    {
     "data": {
      "text/plain": [
       "0"
      ]
     },
     "execution_count": 32,
     "metadata": {},
     "output_type": "execute_result"
    }
   ],
   "source": [
    "data.duplicated().sum() #перепроверим"
   ]
  },
  {
   "cell_type": "markdown",
   "id": "d988abf9",
   "metadata": {},
   "source": [
    "Теперь значение выражены одним регистром, работать с данными стало удобнее"
   ]
  },
  {
   "cell_type": "markdown",
   "id": "371086b6",
   "metadata": {},
   "source": [
    "Заодно избавились от появившихся явных дубликатов"
   ]
  },
  {
   "cell_type": "markdown",
   "id": "0e4aa25f",
   "metadata": {},
   "source": [
    "Проверим уникальные значения всех колонок. Вдруг в остальных тоже есть некорректные значения "
   ]
  },
  {
   "cell_type": "code",
   "execution_count": 33,
   "id": "cbdbecb0",
   "metadata": {},
   "outputs": [
    {
     "data": {
      "text/plain": [
       "array(['женат / замужем', 'гражданский брак', 'вдовец / вдова',\n",
       "       'в разводе', 'Не женат / не замужем'], dtype=object)"
      ]
     },
     "execution_count": 33,
     "metadata": {},
     "output_type": "execute_result"
    }
   ],
   "source": [
    "data['family_status'].unique() # проверим колонку семейного статуса"
   ]
  },
  {
   "cell_type": "code",
   "execution_count": 34,
   "id": "02c9accb",
   "metadata": {},
   "outputs": [],
   "source": [
    "data['family_status'] = data['family_status'].str.lower() #приведем регистр значений к единому виду"
   ]
  },
  {
   "cell_type": "code",
   "execution_count": 35,
   "id": "948f781d",
   "metadata": {},
   "outputs": [
    {
     "data": {
      "text/plain": [
       "array(['женат / замужем', 'гражданский брак', 'вдовец / вдова',\n",
       "       'в разводе', 'не женат / не замужем'], dtype=object)"
      ]
     },
     "execution_count": 35,
     "metadata": {},
     "output_type": "execute_result"
    }
   ],
   "source": [
    "data['family_status'].unique() #проверим ещё раз"
   ]
  },
  {
   "cell_type": "code",
   "execution_count": 36,
   "id": "b7a2aef9",
   "metadata": {},
   "outputs": [
    {
     "data": {
      "text/plain": [
       "array(['сотрудник', 'пенсионер', 'компаньон', 'госслужащий',\n",
       "       'безработный', 'предприниматель', 'студент', 'в декрете'],\n",
       "      dtype=object)"
      ]
     },
     "execution_count": 36,
     "metadata": {},
     "output_type": "execute_result"
    }
   ],
   "source": [
    "data['income_type'].unique() #проверим колонку типа занятости"
   ]
  },
  {
   "cell_type": "markdown",
   "id": "f3b03178",
   "metadata": {},
   "source": [
    "C этим столбцом всё в прорядке"
   ]
  },
  {
   "cell_type": "code",
   "execution_count": 37,
   "id": "e5c7706a",
   "metadata": {},
   "outputs": [
    {
     "data": {
      "text/plain": [
       "array(['F', 'M', 'XNA'], dtype=object)"
      ]
     },
     "execution_count": 37,
     "metadata": {},
     "output_type": "execute_result"
    }
   ],
   "source": [
    "data['gender'].unique() #проверим колонку пола клиента"
   ]
  },
  {
   "cell_type": "markdown",
   "id": "f3c9dcc8",
   "metadata": {},
   "source": [
    "Появилось странное третье значение, которое явно лишнее. Проверим количество этих значений"
   ]
  },
  {
   "cell_type": "code",
   "execution_count": 38,
   "id": "ce77c647",
   "metadata": {},
   "outputs": [
    {
     "data": {
      "text/plain": [
       "F      14174\n",
       "M       7279\n",
       "XNA        1\n",
       "Name: gender, dtype: int64"
      ]
     },
     "execution_count": 38,
     "metadata": {},
     "output_type": "execute_result"
    }
   ],
   "source": [
    "data['gender'].value_counts() "
   ]
  },
  {
   "cell_type": "markdown",
   "id": "cff88f7d",
   "metadata": {},
   "source": [
    "Значение 'XNA' встречается в таблице один раз, его наличием можно принебречь на дальнейшие расчеты это не повлияет."
   ]
  },
  {
   "cell_type": "markdown",
   "id": "78f01ef9",
   "metadata": {},
   "source": [
    "Посмотрим на возраст. Ренее заметили, что присутствует значение возраста - 0."
   ]
  },
  {
   "cell_type": "code",
   "execution_count": 39,
   "id": "11b5d46a",
   "metadata": {
    "scrolled": true
   },
   "outputs": [
    {
     "data": {
      "text/plain": [
       "35    616\n",
       "40    607\n",
       "41    605\n",
       "34    601\n",
       "38    597\n",
       "42    596\n",
       "33    581\n",
       "39    572\n",
       "31    559\n",
       "36    554\n",
       "44    545\n",
       "29    544\n",
       "30    537\n",
       "48    536\n",
       "37    536\n",
       "50    513\n",
       "43    512\n",
       "32    509\n",
       "49    508\n",
       "28    503\n",
       "45    496\n",
       "27    493\n",
       "52    484\n",
       "56    483\n",
       "47    477\n",
       "54    476\n",
       "46    472\n",
       "53    459\n",
       "57    456\n",
       "58    454\n",
       "51    446\n",
       "59    443\n",
       "55    443\n",
       "26    408\n",
       "60    374\n",
       "25    357\n",
       "61    354\n",
       "62    348\n",
       "63    269\n",
       "24    264\n",
       "64    260\n",
       "23    252\n",
       "65    193\n",
       "22    183\n",
       "66    182\n",
       "67    167\n",
       "21    111\n",
       "0     101\n",
       "68     99\n",
       "69     85\n",
       "70     65\n",
       "71     56\n",
       "20     51\n",
       "72     33\n",
       "19     14\n",
       "73      8\n",
       "74      6\n",
       "75      1\n",
       "Name: dob_years, dtype: int64"
      ]
     },
     "execution_count": 39,
     "metadata": {},
     "output_type": "execute_result"
    }
   ],
   "source": [
    "data['dob_years'].value_counts() #посчитаем количество значений"
   ]
  },
  {
   "cell_type": "markdown",
   "id": "7beca92b",
   "metadata": {},
   "source": [
    "Клиентов с возрастом 0 оказалось 101 человек."
   ]
  },
  {
   "cell_type": "markdown",
   "id": "f5ea1077",
   "metadata": {},
   "source": [
    "Возраста 0 лет у человека быть не может, тем более, который собирается брать кредит. Скорее всего это пропущенные значения в числовом выражении.\n",
    "Предпочтительнее, в данном случае, расчитать среднее значение выборки по возрасту и заменить нулевые значения на расчитанное среднее."
   ]
  },
  {
   "cell_type": "code",
   "execution_count": 40,
   "id": "96000682",
   "metadata": {},
   "outputs": [
    {
     "data": {
      "text/plain": [
       "43.271231471986574"
      ]
     },
     "execution_count": 40,
     "metadata": {},
     "output_type": "execute_result"
    }
   ],
   "source": [
    "data['dob_years'].mean() #находим среднее значение"
   ]
  },
  {
   "cell_type": "code",
   "execution_count": 41,
   "id": "9a75c207",
   "metadata": {},
   "outputs": [],
   "source": [
    "data.loc[data['dob_years'] == 0, 'dob_years'] = 43 #заменим значения 0 на среднее значение = 43"
   ]
  },
  {
   "cell_type": "code",
   "execution_count": 42,
   "id": "c3faa5d7",
   "metadata": {},
   "outputs": [
    {
     "data": {
      "text/plain": [
       "0"
      ]
     },
     "execution_count": 42,
     "metadata": {},
     "output_type": "execute_result"
    }
   ],
   "source": [
    "data[data['dob_years'] == 0]['dob_years'].count() #посчитаем количество значений 0"
   ]
  },
  {
   "cell_type": "code",
   "execution_count": 43,
   "id": "77488447",
   "metadata": {},
   "outputs": [
    {
     "data": {
      "text/plain": [
       "613"
      ]
     },
     "execution_count": 43,
     "metadata": {},
     "output_type": "execute_result"
    }
   ],
   "source": [
    "data[data['dob_years'] == 43]['dob_years'].count() #посчитаем количество значений 0, было 512 человек"
   ]
  },
  {
   "cell_type": "markdown",
   "id": "91156e1c",
   "metadata": {},
   "source": [
    "Прибавилось 101 человек. Таким образом мы избавились от нулевых значений. Причиной пропущенных значений может быть неккоректная выгрузка данных"
   ]
  },
  {
   "cell_type": "markdown",
   "id": "f372eb00",
   "metadata": {},
   "source": [
    "Читать и пользоваться числом с 6-тью знаками после запятой не совсем удобно. Поэтому, переведем данные колонки 'total_income' из вещественного в целочисленный. "
   ]
  },
  {
   "cell_type": "code",
   "execution_count": 44,
   "id": "87f82e59",
   "metadata": {},
   "outputs": [],
   "source": [
    "data['total_income'] = data['total_income'].astype(int) #применим метод astype()"
   ]
  },
  {
   "cell_type": "code",
   "execution_count": 45,
   "id": "084d4221",
   "metadata": {},
   "outputs": [
    {
     "data": {
      "text/html": [
       "<div>\n",
       "<style scoped>\n",
       "    .dataframe tbody tr th:only-of-type {\n",
       "        vertical-align: middle;\n",
       "    }\n",
       "\n",
       "    .dataframe tbody tr th {\n",
       "        vertical-align: top;\n",
       "    }\n",
       "\n",
       "    .dataframe thead th {\n",
       "        text-align: right;\n",
       "    }\n",
       "</style>\n",
       "<table border=\"1\" class=\"dataframe\">\n",
       "  <thead>\n",
       "    <tr style=\"text-align: right;\">\n",
       "      <th></th>\n",
       "      <th>children</th>\n",
       "      <th>years_employed</th>\n",
       "      <th>dob_years</th>\n",
       "      <th>education</th>\n",
       "      <th>education_id</th>\n",
       "      <th>family_status</th>\n",
       "      <th>family_status_id</th>\n",
       "      <th>gender</th>\n",
       "      <th>income_type</th>\n",
       "      <th>debt</th>\n",
       "      <th>total_income</th>\n",
       "      <th>purpose</th>\n",
       "    </tr>\n",
       "  </thead>\n",
       "  <tbody>\n",
       "    <tr>\n",
       "      <th>0</th>\n",
       "      <td>1</td>\n",
       "      <td>23</td>\n",
       "      <td>42</td>\n",
       "      <td>высшее</td>\n",
       "      <td>0</td>\n",
       "      <td>женат / замужем</td>\n",
       "      <td>0</td>\n",
       "      <td>F</td>\n",
       "      <td>сотрудник</td>\n",
       "      <td>0</td>\n",
       "      <td>253875</td>\n",
       "      <td>покупка жилья</td>\n",
       "    </tr>\n",
       "    <tr>\n",
       "      <th>1</th>\n",
       "      <td>1</td>\n",
       "      <td>11</td>\n",
       "      <td>36</td>\n",
       "      <td>среднее</td>\n",
       "      <td>1</td>\n",
       "      <td>женат / замужем</td>\n",
       "      <td>0</td>\n",
       "      <td>F</td>\n",
       "      <td>сотрудник</td>\n",
       "      <td>0</td>\n",
       "      <td>112080</td>\n",
       "      <td>приобретение автомобиля</td>\n",
       "    </tr>\n",
       "    <tr>\n",
       "      <th>2</th>\n",
       "      <td>0</td>\n",
       "      <td>15</td>\n",
       "      <td>33</td>\n",
       "      <td>среднее</td>\n",
       "      <td>1</td>\n",
       "      <td>женат / замужем</td>\n",
       "      <td>0</td>\n",
       "      <td>M</td>\n",
       "      <td>сотрудник</td>\n",
       "      <td>0</td>\n",
       "      <td>145885</td>\n",
       "      <td>покупка жилья</td>\n",
       "    </tr>\n",
       "    <tr>\n",
       "      <th>3</th>\n",
       "      <td>3</td>\n",
       "      <td>11</td>\n",
       "      <td>32</td>\n",
       "      <td>среднее</td>\n",
       "      <td>1</td>\n",
       "      <td>женат / замужем</td>\n",
       "      <td>0</td>\n",
       "      <td>M</td>\n",
       "      <td>сотрудник</td>\n",
       "      <td>0</td>\n",
       "      <td>267628</td>\n",
       "      <td>дополнительное образование</td>\n",
       "    </tr>\n",
       "    <tr>\n",
       "      <th>4</th>\n",
       "      <td>0</td>\n",
       "      <td>932</td>\n",
       "      <td>53</td>\n",
       "      <td>среднее</td>\n",
       "      <td>1</td>\n",
       "      <td>гражданский брак</td>\n",
       "      <td>1</td>\n",
       "      <td>F</td>\n",
       "      <td>пенсионер</td>\n",
       "      <td>0</td>\n",
       "      <td>158616</td>\n",
       "      <td>сыграть свадьбу</td>\n",
       "    </tr>\n",
       "  </tbody>\n",
       "</table>\n",
       "</div>"
      ],
      "text/plain": [
       "   children  years_employed  dob_years education  education_id  \\\n",
       "0         1              23         42    высшее             0   \n",
       "1         1              11         36   среднее             1   \n",
       "2         0              15         33   среднее             1   \n",
       "3         3              11         32   среднее             1   \n",
       "4         0             932         53   среднее             1   \n",
       "\n",
       "      family_status  family_status_id gender income_type  debt  total_income  \\\n",
       "0   женат / замужем                 0      F   сотрудник     0        253875   \n",
       "1   женат / замужем                 0      F   сотрудник     0        112080   \n",
       "2   женат / замужем                 0      M   сотрудник     0        145885   \n",
       "3   женат / замужем                 0      M   сотрудник     0        267628   \n",
       "4  гражданский брак                 1      F   пенсионер     0        158616   \n",
       "\n",
       "                      purpose  \n",
       "0               покупка жилья  \n",
       "1     приобретение автомобиля  \n",
       "2               покупка жилья  \n",
       "3  дополнительное образование  \n",
       "4             сыграть свадьбу  "
      ]
     },
     "execution_count": 45,
     "metadata": {},
     "output_type": "execute_result"
    }
   ],
   "source": [
    "data.head() #проверим изменения"
   ]
  },
  {
   "cell_type": "markdown",
   "id": "424f475d",
   "metadata": {},
   "source": [
    "Привели данные ежемесячного дохода в вид целого числа. Данные стали визуально читабельными"
   ]
  },
  {
   "cell_type": "markdown",
   "id": "3f396d41",
   "metadata": {},
   "source": [
    "С аномалиями в нашем датафрейме разобрались."
   ]
  },
  {
   "cell_type": "markdown",
   "id": "4eedb02b",
   "metadata": {},
   "source": [
    "Что было сделано на текущем этапе:\n",
    "- Удалены пропущенные значения в днях стажа и доходе. Для этого применили методы isna() и fillna() \n",
    "- Исправили некорректные значения в колонке о детях с помощью методов unique(), value_counts() и replace()\n",
    "- Исправили отрицательные значения в днях стажа и перевели значения в года. Для этого использовали методы abs() и astype(int) \n",
    "- Удалили явные дубликаты, используя методы: duplicated().sum() для их нахождения и drop_duplicates().reset_index(drop=True) для их удаления\n",
    "- Удалили неявные дубликаты. Например в колонке образование данные были записаны разным регистром. Методом unique() нашли уникальные, а str.lower() привел регистр к одному\n",
    "- Исправили нулевой возраст, рассчитав среднее значение возраста методом mean() и заменив нули на среднее значение"
   ]
  },
  {
   "cell_type": "markdown",
   "id": "3bac0778",
   "metadata": {},
   "source": [
    "# Этап 3. Категоризация данных"
   ]
  },
  {
   "cell_type": "markdown",
   "id": "c8ba980b",
   "metadata": {},
   "source": [
    "Столбцы education, education_id и family_status, family_status_id друг друга дублируют и являются излишними. Можно объединить эти столбцы в другую таблицу, а в исходной оставить лишь категории."
   ]
  },
  {
   "cell_type": "code",
   "execution_count": 46,
   "id": "ad502280",
   "metadata": {},
   "outputs": [],
   "source": [
    "data_education = pd.DataFrame(data, columns = ['education_id', 'education']) #создадим датафрейм с колонками про образование"
   ]
  },
  {
   "cell_type": "code",
   "execution_count": 47,
   "id": "4730f0c1",
   "metadata": {},
   "outputs": [
    {
     "data": {
      "text/html": [
       "<div>\n",
       "<style scoped>\n",
       "    .dataframe tbody tr th:only-of-type {\n",
       "        vertical-align: middle;\n",
       "    }\n",
       "\n",
       "    .dataframe tbody tr th {\n",
       "        vertical-align: top;\n",
       "    }\n",
       "\n",
       "    .dataframe thead th {\n",
       "        text-align: right;\n",
       "    }\n",
       "</style>\n",
       "<table border=\"1\" class=\"dataframe\">\n",
       "  <thead>\n",
       "    <tr style=\"text-align: right;\">\n",
       "      <th></th>\n",
       "      <th>education_id</th>\n",
       "      <th>education</th>\n",
       "    </tr>\n",
       "  </thead>\n",
       "  <tbody>\n",
       "    <tr>\n",
       "      <th>0</th>\n",
       "      <td>0</td>\n",
       "      <td>высшее</td>\n",
       "    </tr>\n",
       "    <tr>\n",
       "      <th>1</th>\n",
       "      <td>1</td>\n",
       "      <td>среднее</td>\n",
       "    </tr>\n",
       "    <tr>\n",
       "      <th>2</th>\n",
       "      <td>1</td>\n",
       "      <td>среднее</td>\n",
       "    </tr>\n",
       "    <tr>\n",
       "      <th>3</th>\n",
       "      <td>1</td>\n",
       "      <td>среднее</td>\n",
       "    </tr>\n",
       "    <tr>\n",
       "      <th>4</th>\n",
       "      <td>1</td>\n",
       "      <td>среднее</td>\n",
       "    </tr>\n",
       "  </tbody>\n",
       "</table>\n",
       "</div>"
      ],
      "text/plain": [
       "   education_id education\n",
       "0             0    высшее\n",
       "1             1   среднее\n",
       "2             1   среднее\n",
       "3             1   среднее\n",
       "4             1   среднее"
      ]
     },
     "execution_count": 47,
     "metadata": {},
     "output_type": "execute_result"
    }
   ],
   "source": [
    "data_education.head() #проверим созданную таблицу"
   ]
  },
  {
   "cell_type": "code",
   "execution_count": 48,
   "id": "0b156702",
   "metadata": {},
   "outputs": [],
   "source": [
    "data_family = pd.DataFrame(data, columns = ['family_status_id', 'family_status']) #создадим датафрейм с колонками про семейный статус"
   ]
  },
  {
   "cell_type": "code",
   "execution_count": 49,
   "id": "f4714f98",
   "metadata": {},
   "outputs": [
    {
     "data": {
      "text/html": [
       "<div>\n",
       "<style scoped>\n",
       "    .dataframe tbody tr th:only-of-type {\n",
       "        vertical-align: middle;\n",
       "    }\n",
       "\n",
       "    .dataframe tbody tr th {\n",
       "        vertical-align: top;\n",
       "    }\n",
       "\n",
       "    .dataframe thead th {\n",
       "        text-align: right;\n",
       "    }\n",
       "</style>\n",
       "<table border=\"1\" class=\"dataframe\">\n",
       "  <thead>\n",
       "    <tr style=\"text-align: right;\">\n",
       "      <th></th>\n",
       "      <th>family_status_id</th>\n",
       "      <th>family_status</th>\n",
       "    </tr>\n",
       "  </thead>\n",
       "  <tbody>\n",
       "    <tr>\n",
       "      <th>0</th>\n",
       "      <td>0</td>\n",
       "      <td>женат / замужем</td>\n",
       "    </tr>\n",
       "    <tr>\n",
       "      <th>1</th>\n",
       "      <td>0</td>\n",
       "      <td>женат / замужем</td>\n",
       "    </tr>\n",
       "    <tr>\n",
       "      <th>2</th>\n",
       "      <td>0</td>\n",
       "      <td>женат / замужем</td>\n",
       "    </tr>\n",
       "    <tr>\n",
       "      <th>3</th>\n",
       "      <td>0</td>\n",
       "      <td>женат / замужем</td>\n",
       "    </tr>\n",
       "    <tr>\n",
       "      <th>4</th>\n",
       "      <td>1</td>\n",
       "      <td>гражданский брак</td>\n",
       "    </tr>\n",
       "  </tbody>\n",
       "</table>\n",
       "</div>"
      ],
      "text/plain": [
       "   family_status_id     family_status\n",
       "0                 0   женат / замужем\n",
       "1                 0   женат / замужем\n",
       "2                 0   женат / замужем\n",
       "3                 0   женат / замужем\n",
       "4                 1  гражданский брак"
      ]
     },
     "execution_count": 49,
     "metadata": {},
     "output_type": "execute_result"
    }
   ],
   "source": [
    "data_family.head() #проверим созданную таблицу"
   ]
  },
  {
   "cell_type": "markdown",
   "id": "82881cf7",
   "metadata": {},
   "source": [
    "Удалим столбцы с названиями образования и семейного статуса из исходной таблицы за их ненадобностью"
   ]
  },
  {
   "cell_type": "code",
   "execution_count": 50,
   "id": "1423dfa6",
   "metadata": {},
   "outputs": [],
   "source": [
    "data = data.drop(['education', 'family_status'], axis='columns') #удалим столбцы"
   ]
  },
  {
   "cell_type": "code",
   "execution_count": 51,
   "id": "d2cc78bd",
   "metadata": {},
   "outputs": [
    {
     "data": {
      "text/html": [
       "<div>\n",
       "<style scoped>\n",
       "    .dataframe tbody tr th:only-of-type {\n",
       "        vertical-align: middle;\n",
       "    }\n",
       "\n",
       "    .dataframe tbody tr th {\n",
       "        vertical-align: top;\n",
       "    }\n",
       "\n",
       "    .dataframe thead th {\n",
       "        text-align: right;\n",
       "    }\n",
       "</style>\n",
       "<table border=\"1\" class=\"dataframe\">\n",
       "  <thead>\n",
       "    <tr style=\"text-align: right;\">\n",
       "      <th></th>\n",
       "      <th>children</th>\n",
       "      <th>years_employed</th>\n",
       "      <th>dob_years</th>\n",
       "      <th>education_id</th>\n",
       "      <th>family_status_id</th>\n",
       "      <th>gender</th>\n",
       "      <th>income_type</th>\n",
       "      <th>debt</th>\n",
       "      <th>total_income</th>\n",
       "      <th>purpose</th>\n",
       "    </tr>\n",
       "  </thead>\n",
       "  <tbody>\n",
       "    <tr>\n",
       "      <th>0</th>\n",
       "      <td>1</td>\n",
       "      <td>23</td>\n",
       "      <td>42</td>\n",
       "      <td>0</td>\n",
       "      <td>0</td>\n",
       "      <td>F</td>\n",
       "      <td>сотрудник</td>\n",
       "      <td>0</td>\n",
       "      <td>253875</td>\n",
       "      <td>покупка жилья</td>\n",
       "    </tr>\n",
       "    <tr>\n",
       "      <th>1</th>\n",
       "      <td>1</td>\n",
       "      <td>11</td>\n",
       "      <td>36</td>\n",
       "      <td>1</td>\n",
       "      <td>0</td>\n",
       "      <td>F</td>\n",
       "      <td>сотрудник</td>\n",
       "      <td>0</td>\n",
       "      <td>112080</td>\n",
       "      <td>приобретение автомобиля</td>\n",
       "    </tr>\n",
       "    <tr>\n",
       "      <th>2</th>\n",
       "      <td>0</td>\n",
       "      <td>15</td>\n",
       "      <td>33</td>\n",
       "      <td>1</td>\n",
       "      <td>0</td>\n",
       "      <td>M</td>\n",
       "      <td>сотрудник</td>\n",
       "      <td>0</td>\n",
       "      <td>145885</td>\n",
       "      <td>покупка жилья</td>\n",
       "    </tr>\n",
       "    <tr>\n",
       "      <th>3</th>\n",
       "      <td>3</td>\n",
       "      <td>11</td>\n",
       "      <td>32</td>\n",
       "      <td>1</td>\n",
       "      <td>0</td>\n",
       "      <td>M</td>\n",
       "      <td>сотрудник</td>\n",
       "      <td>0</td>\n",
       "      <td>267628</td>\n",
       "      <td>дополнительное образование</td>\n",
       "    </tr>\n",
       "    <tr>\n",
       "      <th>4</th>\n",
       "      <td>0</td>\n",
       "      <td>932</td>\n",
       "      <td>53</td>\n",
       "      <td>1</td>\n",
       "      <td>1</td>\n",
       "      <td>F</td>\n",
       "      <td>пенсионер</td>\n",
       "      <td>0</td>\n",
       "      <td>158616</td>\n",
       "      <td>сыграть свадьбу</td>\n",
       "    </tr>\n",
       "  </tbody>\n",
       "</table>\n",
       "</div>"
      ],
      "text/plain": [
       "   children  years_employed  dob_years  education_id  family_status_id gender  \\\n",
       "0         1              23         42             0                 0      F   \n",
       "1         1              11         36             1                 0      F   \n",
       "2         0              15         33             1                 0      M   \n",
       "3         3              11         32             1                 0      M   \n",
       "4         0             932         53             1                 1      F   \n",
       "\n",
       "  income_type  debt  total_income                     purpose  \n",
       "0   сотрудник     0        253875               покупка жилья  \n",
       "1   сотрудник     0        112080     приобретение автомобиля  \n",
       "2   сотрудник     0        145885               покупка жилья  \n",
       "3   сотрудник     0        267628  дополнительное образование  \n",
       "4   пенсионер     0        158616             сыграть свадьбу  "
      ]
     },
     "execution_count": 51,
     "metadata": {},
     "output_type": "execute_result"
    }
   ],
   "source": [
    "data.head() #проверим обновленную таблицу"
   ]
  },
  {
   "cell_type": "markdown",
   "id": "f4e3696a",
   "metadata": {},
   "source": [
    "Следующий шаг - категоризация колонки ежемесячного дохода. С таким разбросом данных неудобно анализировать, категории позволят разбить данные на несколько частей и мы сможем отсортировать наших клиентов согласно их доходам по соответствующим категориям"
   ]
  },
  {
   "cell_type": "markdown",
   "id": "870b7c52",
   "metadata": {},
   "source": [
    "Создадим функцию, которая возвращает категорию по значению дохода, при условиях:\n",
    "- от 0 до 30000 — 'E';\n",
    "- от 30001 до 50000 — 'D';\n",
    "- от 50001 до 200000 — 'C';\n",
    "- от 200001 до 1000000 — 'B';\n",
    "- свыше 1000000 — 'A'."
   ]
  },
  {
   "cell_type": "code",
   "execution_count": 52,
   "id": "532d5da5",
   "metadata": {},
   "outputs": [],
   "source": [
    "def total_group(total): #создадим функцию\n",
    "    if total <=30000:   #зададим условия\n",
    "        return 'E'\n",
    "    if total <= 50000:\n",
    "        return 'D'\n",
    "    if total <= 200000:\n",
    "        return 'C'\n",
    "    if total <= 1000000:\n",
    "        return 'B'\n",
    "    return 'A' \n",
    "data['total_income_category'] = data['total_income'].apply(total_group) #добавим столбец,  в который наша функция \n",
    "                                                                        #вернет категории по значению дохода                                           "
   ]
  },
  {
   "cell_type": "code",
   "execution_count": 53,
   "id": "3f09f044",
   "metadata": {},
   "outputs": [
    {
     "data": {
      "text/html": [
       "<div>\n",
       "<style scoped>\n",
       "    .dataframe tbody tr th:only-of-type {\n",
       "        vertical-align: middle;\n",
       "    }\n",
       "\n",
       "    .dataframe tbody tr th {\n",
       "        vertical-align: top;\n",
       "    }\n",
       "\n",
       "    .dataframe thead th {\n",
       "        text-align: right;\n",
       "    }\n",
       "</style>\n",
       "<table border=\"1\" class=\"dataframe\">\n",
       "  <thead>\n",
       "    <tr style=\"text-align: right;\">\n",
       "      <th></th>\n",
       "      <th>children</th>\n",
       "      <th>years_employed</th>\n",
       "      <th>dob_years</th>\n",
       "      <th>education_id</th>\n",
       "      <th>family_status_id</th>\n",
       "      <th>gender</th>\n",
       "      <th>income_type</th>\n",
       "      <th>debt</th>\n",
       "      <th>total_income</th>\n",
       "      <th>purpose</th>\n",
       "      <th>total_income_category</th>\n",
       "    </tr>\n",
       "  </thead>\n",
       "  <tbody>\n",
       "    <tr>\n",
       "      <th>0</th>\n",
       "      <td>1</td>\n",
       "      <td>23</td>\n",
       "      <td>42</td>\n",
       "      <td>0</td>\n",
       "      <td>0</td>\n",
       "      <td>F</td>\n",
       "      <td>сотрудник</td>\n",
       "      <td>0</td>\n",
       "      <td>253875</td>\n",
       "      <td>покупка жилья</td>\n",
       "      <td>B</td>\n",
       "    </tr>\n",
       "    <tr>\n",
       "      <th>1</th>\n",
       "      <td>1</td>\n",
       "      <td>11</td>\n",
       "      <td>36</td>\n",
       "      <td>1</td>\n",
       "      <td>0</td>\n",
       "      <td>F</td>\n",
       "      <td>сотрудник</td>\n",
       "      <td>0</td>\n",
       "      <td>112080</td>\n",
       "      <td>приобретение автомобиля</td>\n",
       "      <td>C</td>\n",
       "    </tr>\n",
       "    <tr>\n",
       "      <th>2</th>\n",
       "      <td>0</td>\n",
       "      <td>15</td>\n",
       "      <td>33</td>\n",
       "      <td>1</td>\n",
       "      <td>0</td>\n",
       "      <td>M</td>\n",
       "      <td>сотрудник</td>\n",
       "      <td>0</td>\n",
       "      <td>145885</td>\n",
       "      <td>покупка жилья</td>\n",
       "      <td>C</td>\n",
       "    </tr>\n",
       "    <tr>\n",
       "      <th>3</th>\n",
       "      <td>3</td>\n",
       "      <td>11</td>\n",
       "      <td>32</td>\n",
       "      <td>1</td>\n",
       "      <td>0</td>\n",
       "      <td>M</td>\n",
       "      <td>сотрудник</td>\n",
       "      <td>0</td>\n",
       "      <td>267628</td>\n",
       "      <td>дополнительное образование</td>\n",
       "      <td>B</td>\n",
       "    </tr>\n",
       "    <tr>\n",
       "      <th>4</th>\n",
       "      <td>0</td>\n",
       "      <td>932</td>\n",
       "      <td>53</td>\n",
       "      <td>1</td>\n",
       "      <td>1</td>\n",
       "      <td>F</td>\n",
       "      <td>пенсионер</td>\n",
       "      <td>0</td>\n",
       "      <td>158616</td>\n",
       "      <td>сыграть свадьбу</td>\n",
       "      <td>C</td>\n",
       "    </tr>\n",
       "  </tbody>\n",
       "</table>\n",
       "</div>"
      ],
      "text/plain": [
       "   children  years_employed  dob_years  education_id  family_status_id gender  \\\n",
       "0         1              23         42             0                 0      F   \n",
       "1         1              11         36             1                 0      F   \n",
       "2         0              15         33             1                 0      M   \n",
       "3         3              11         32             1                 0      M   \n",
       "4         0             932         53             1                 1      F   \n",
       "\n",
       "  income_type  debt  total_income                     purpose  \\\n",
       "0   сотрудник     0        253875               покупка жилья   \n",
       "1   сотрудник     0        112080     приобретение автомобиля   \n",
       "2   сотрудник     0        145885               покупка жилья   \n",
       "3   сотрудник     0        267628  дополнительное образование   \n",
       "4   пенсионер     0        158616             сыграть свадьбу   \n",
       "\n",
       "  total_income_category  \n",
       "0                     B  \n",
       "1                     C  \n",
       "2                     C  \n",
       "3                     B  \n",
       "4                     C  "
      ]
     },
     "execution_count": 53,
     "metadata": {},
     "output_type": "execute_result"
    }
   ],
   "source": [
    "data.head()"
   ]
  },
  {
   "cell_type": "markdown",
   "id": "31172bf3",
   "metadata": {},
   "source": [
    "Наша функция работает, теперь в таблице дополнительный столбец с категориями доходов клиентов"
   ]
  },
  {
   "cell_type": "markdown",
   "id": "f3545c4f",
   "metadata": {},
   "source": [
    "Теперь расммотрим колонку 'purpose' - цель получения кредита"
   ]
  },
  {
   "cell_type": "code",
   "execution_count": 54,
   "id": "1704396b",
   "metadata": {},
   "outputs": [
    {
     "data": {
      "text/plain": [
       "array(['покупка жилья', 'приобретение автомобиля',\n",
       "       'дополнительное образование', 'сыграть свадьбу',\n",
       "       'операции с жильем', 'образование', 'на проведение свадьбы',\n",
       "       'покупка жилья для семьи', 'покупка недвижимости',\n",
       "       'покупка коммерческой недвижимости', 'покупка жилой недвижимости',\n",
       "       'строительство собственной недвижимости', 'недвижимость',\n",
       "       'строительство недвижимости', 'на покупку подержанного автомобиля',\n",
       "       'на покупку своего автомобиля',\n",
       "       'операции с коммерческой недвижимостью',\n",
       "       'строительство жилой недвижимости', 'жилье',\n",
       "       'операции со своей недвижимостью', 'автомобили',\n",
       "       'заняться образованием', 'сделка с подержанным автомобилем',\n",
       "       'получение образования', 'автомобиль', 'свадьба',\n",
       "       'получение дополнительного образования', 'покупка своего жилья',\n",
       "       'операции с недвижимостью', 'получение высшего образования',\n",
       "       'свой автомобиль', 'сделка с автомобилем',\n",
       "       'профильное образование', 'высшее образование',\n",
       "       'покупка жилья для сдачи', 'на покупку автомобиля', 'ремонт жилью',\n",
       "       'заняться высшим образованием'], dtype=object)"
      ]
     },
     "execution_count": 54,
     "metadata": {},
     "output_type": "execute_result"
    }
   ],
   "source": [
    "data['purpose'].unique() #посмотрим на уникальные значения"
   ]
  },
  {
   "cell_type": "markdown",
   "id": "ae655f22",
   "metadata": {},
   "source": [
    "Очень много дубликатов. По сути можно выделить четыре категории целей для кредитования:\n",
    "- операции с автомобилем\n",
    "- операции с недвижимостью\n",
    "- проведение свадьбы\n",
    "- получение образования"
   ]
  },
  {
   "cell_type": "markdown",
   "id": "59565c79",
   "metadata": {},
   "source": [
    "Создадим функцию, которая отфильтрует нашу колонку 'purpose' и присвоит в новом столбце каждому значению категорию исходя из цели"
   ]
  },
  {
   "cell_type": "code",
   "execution_count": 55,
   "id": "b2f9d50d",
   "metadata": {},
   "outputs": [],
   "source": [
    "def purpose_group(purpose):                                      #создадим функцию\n",
    "        if 'жил' in purpose or 'недвиж' in purpose:              #применим условия\n",
    "            return 'операции с недвижимостью'\n",
    "        if 'авто' in purpose:\n",
    "            return 'операции с автомобилем'\n",
    "        if 'свадьб' in purpose:\n",
    "            return 'проведение свадьбы'\n",
    "        if 'образов' in purpose:\n",
    "            return 'получение образования'\n",
    "               \n",
    "data['purpose_category'] = data['purpose'].apply(purpose_group)  #добавим категории в новый столбец "
   ]
  },
  {
   "cell_type": "code",
   "execution_count": 56,
   "id": "05aa4f61",
   "metadata": {},
   "outputs": [
    {
     "data": {
      "text/html": [
       "<div>\n",
       "<style scoped>\n",
       "    .dataframe tbody tr th:only-of-type {\n",
       "        vertical-align: middle;\n",
       "    }\n",
       "\n",
       "    .dataframe tbody tr th {\n",
       "        vertical-align: top;\n",
       "    }\n",
       "\n",
       "    .dataframe thead th {\n",
       "        text-align: right;\n",
       "    }\n",
       "</style>\n",
       "<table border=\"1\" class=\"dataframe\">\n",
       "  <thead>\n",
       "    <tr style=\"text-align: right;\">\n",
       "      <th></th>\n",
       "      <th>children</th>\n",
       "      <th>years_employed</th>\n",
       "      <th>dob_years</th>\n",
       "      <th>education_id</th>\n",
       "      <th>family_status_id</th>\n",
       "      <th>gender</th>\n",
       "      <th>income_type</th>\n",
       "      <th>debt</th>\n",
       "      <th>total_income</th>\n",
       "      <th>purpose</th>\n",
       "      <th>total_income_category</th>\n",
       "      <th>purpose_category</th>\n",
       "    </tr>\n",
       "  </thead>\n",
       "  <tbody>\n",
       "    <tr>\n",
       "      <th>0</th>\n",
       "      <td>1</td>\n",
       "      <td>23</td>\n",
       "      <td>42</td>\n",
       "      <td>0</td>\n",
       "      <td>0</td>\n",
       "      <td>F</td>\n",
       "      <td>сотрудник</td>\n",
       "      <td>0</td>\n",
       "      <td>253875</td>\n",
       "      <td>покупка жилья</td>\n",
       "      <td>B</td>\n",
       "      <td>операции с недвижимостью</td>\n",
       "    </tr>\n",
       "    <tr>\n",
       "      <th>1</th>\n",
       "      <td>1</td>\n",
       "      <td>11</td>\n",
       "      <td>36</td>\n",
       "      <td>1</td>\n",
       "      <td>0</td>\n",
       "      <td>F</td>\n",
       "      <td>сотрудник</td>\n",
       "      <td>0</td>\n",
       "      <td>112080</td>\n",
       "      <td>приобретение автомобиля</td>\n",
       "      <td>C</td>\n",
       "      <td>операции с автомобилем</td>\n",
       "    </tr>\n",
       "    <tr>\n",
       "      <th>2</th>\n",
       "      <td>0</td>\n",
       "      <td>15</td>\n",
       "      <td>33</td>\n",
       "      <td>1</td>\n",
       "      <td>0</td>\n",
       "      <td>M</td>\n",
       "      <td>сотрудник</td>\n",
       "      <td>0</td>\n",
       "      <td>145885</td>\n",
       "      <td>покупка жилья</td>\n",
       "      <td>C</td>\n",
       "      <td>операции с недвижимостью</td>\n",
       "    </tr>\n",
       "    <tr>\n",
       "      <th>3</th>\n",
       "      <td>3</td>\n",
       "      <td>11</td>\n",
       "      <td>32</td>\n",
       "      <td>1</td>\n",
       "      <td>0</td>\n",
       "      <td>M</td>\n",
       "      <td>сотрудник</td>\n",
       "      <td>0</td>\n",
       "      <td>267628</td>\n",
       "      <td>дополнительное образование</td>\n",
       "      <td>B</td>\n",
       "      <td>получение образования</td>\n",
       "    </tr>\n",
       "    <tr>\n",
       "      <th>4</th>\n",
       "      <td>0</td>\n",
       "      <td>932</td>\n",
       "      <td>53</td>\n",
       "      <td>1</td>\n",
       "      <td>1</td>\n",
       "      <td>F</td>\n",
       "      <td>пенсионер</td>\n",
       "      <td>0</td>\n",
       "      <td>158616</td>\n",
       "      <td>сыграть свадьбу</td>\n",
       "      <td>C</td>\n",
       "      <td>проведение свадьбы</td>\n",
       "    </tr>\n",
       "  </tbody>\n",
       "</table>\n",
       "</div>"
      ],
      "text/plain": [
       "   children  years_employed  dob_years  education_id  family_status_id gender  \\\n",
       "0         1              23         42             0                 0      F   \n",
       "1         1              11         36             1                 0      F   \n",
       "2         0              15         33             1                 0      M   \n",
       "3         3              11         32             1                 0      M   \n",
       "4         0             932         53             1                 1      F   \n",
       "\n",
       "  income_type  debt  total_income                     purpose  \\\n",
       "0   сотрудник     0        253875               покупка жилья   \n",
       "1   сотрудник     0        112080     приобретение автомобиля   \n",
       "2   сотрудник     0        145885               покупка жилья   \n",
       "3   сотрудник     0        267628  дополнительное образование   \n",
       "4   пенсионер     0        158616             сыграть свадьбу   \n",
       "\n",
       "  total_income_category          purpose_category  \n",
       "0                     B  операции с недвижимостью  \n",
       "1                     C    операции с автомобилем  \n",
       "2                     C  операции с недвижимостью  \n",
       "3                     B     получение образования  \n",
       "4                     C        проведение свадьбы  "
      ]
     },
     "execution_count": 56,
     "metadata": {},
     "output_type": "execute_result"
    }
   ],
   "source": [
    "data.head()  #выведем на экран первые 5 строк для проверки"
   ]
  },
  {
   "cell_type": "markdown",
   "id": "a917f842",
   "metadata": {},
   "source": [
    "Теперь, вместо множества различных значений целей кредитования, у нас есть категории, по которым удобно сортировать нашу таблицу"
   ]
  },
  {
   "cell_type": "code",
   "execution_count": 57,
   "id": "56755360",
   "metadata": {},
   "outputs": [
    {
     "data": {
      "text/plain": [
       "операции с недвижимостью    10811\n",
       "операции с автомобилем       4306\n",
       "получение образования        4013\n",
       "проведение свадьбы           2324\n",
       "Name: purpose_category, dtype: int64"
      ]
     },
     "execution_count": 57,
     "metadata": {},
     "output_type": "execute_result"
    }
   ],
   "source": [
    "data['purpose_category'].value_counts() #отсортируем новый столбец и посмотрим на корректность нашей функции"
   ]
  },
  {
   "cell_type": "markdown",
   "id": "81a823fd",
   "metadata": {},
   "source": [
    "# Этап 4. Анализ данных"
   ]
  },
  {
   "cell_type": "markdown",
   "id": "f03424b1",
   "metadata": {},
   "source": [
    "Выполнив обработку данных и категоризацию, можно приступить к подтверждению либо опровержению наших гипотез."
   ]
  },
  {
   "cell_type": "markdown",
   "id": "e1300ddd",
   "metadata": {},
   "source": [
    "Вопросы, на которые нужно ответить:\n",
    "- Есть ли зависимость между количеством детей и возвратом кредита в срок?\n",
    "- Есть ли зависимость между семейным положением и возвратом кредита в срок?\n",
    "- Есть ли зависимость между уровнем дохода и возвратом кредита в срок?\n",
    "- Как разные цели кредита влияют на его возврат в срок?"
   ]
  },
  {
   "cell_type": "markdown",
   "id": "900462e5",
   "metadata": {},
   "source": [
    "## Зависимость между количеством детей и возвратом кредита в срок"
   ]
  },
  {
   "cell_type": "code",
   "execution_count": 58,
   "id": "74c009c2",
   "metadata": {},
   "outputs": [
    {
     "data": {
      "text/html": [
       "<div>\n",
       "<style scoped>\n",
       "    .dataframe tbody tr th:only-of-type {\n",
       "        vertical-align: middle;\n",
       "    }\n",
       "\n",
       "    .dataframe tbody tr th {\n",
       "        vertical-align: top;\n",
       "    }\n",
       "\n",
       "    .dataframe thead tr th {\n",
       "        text-align: left;\n",
       "    }\n",
       "\n",
       "    .dataframe thead tr:last-of-type th {\n",
       "        text-align: right;\n",
       "    }\n",
       "</style>\n",
       "<table border=\"1\" class=\"dataframe\">\n",
       "  <thead>\n",
       "    <tr>\n",
       "      <th></th>\n",
       "      <th>count</th>\n",
       "      <th>sum</th>\n",
       "      <th>mean</th>\n",
       "    </tr>\n",
       "    <tr>\n",
       "      <th></th>\n",
       "      <th>debt</th>\n",
       "      <th>debt</th>\n",
       "      <th>debt</th>\n",
       "    </tr>\n",
       "    <tr>\n",
       "      <th>children</th>\n",
       "      <th></th>\n",
       "      <th></th>\n",
       "      <th></th>\n",
       "    </tr>\n",
       "  </thead>\n",
       "  <tbody>\n",
       "    <tr>\n",
       "      <th>0</th>\n",
       "      <td>14091</td>\n",
       "      <td>1063</td>\n",
       "      <td>0.075438</td>\n",
       "    </tr>\n",
       "    <tr>\n",
       "      <th>1</th>\n",
       "      <td>4855</td>\n",
       "      <td>445</td>\n",
       "      <td>0.091658</td>\n",
       "    </tr>\n",
       "    <tr>\n",
       "      <th>2</th>\n",
       "      <td>2128</td>\n",
       "      <td>202</td>\n",
       "      <td>0.094925</td>\n",
       "    </tr>\n",
       "    <tr>\n",
       "      <th>3</th>\n",
       "      <td>330</td>\n",
       "      <td>27</td>\n",
       "      <td>0.081818</td>\n",
       "    </tr>\n",
       "    <tr>\n",
       "      <th>4</th>\n",
       "      <td>41</td>\n",
       "      <td>4</td>\n",
       "      <td>0.097561</td>\n",
       "    </tr>\n",
       "    <tr>\n",
       "      <th>5</th>\n",
       "      <td>9</td>\n",
       "      <td>0</td>\n",
       "      <td>0.000000</td>\n",
       "    </tr>\n",
       "  </tbody>\n",
       "</table>\n",
       "</div>"
      ],
      "text/plain": [
       "          count   sum      mean\n",
       "           debt  debt      debt\n",
       "children                       \n",
       "0         14091  1063  0.075438\n",
       "1          4855   445  0.091658\n",
       "2          2128   202  0.094925\n",
       "3           330    27  0.081818\n",
       "4            41     4  0.097561\n",
       "5             9     0  0.000000"
      ]
     },
     "execution_count": 58,
     "metadata": {},
     "output_type": "execute_result"
    }
   ],
   "source": [
    "children_pivot = data.pivot_table(index='children',                    #создадим сводную таблицу\n",
    "                          values='debt',\n",
    "                          aggfunc=['count', 'sum', 'mean'])\n",
    "children_pivot                                                         #и выведем на экран"
   ]
  },
  {
   "cell_type": "markdown",
   "id": "5d9dd2f4",
   "metadata": {},
   "source": [
    "Можно сделать вывод, что клиенты не имеющие детей платят по кредитам лучше"
   ]
  },
  {
   "cell_type": "markdown",
   "id": "dc73bbdf",
   "metadata": {},
   "source": [
    "## Зависимость между семейным положением и возвратом кредита в срок"
   ]
  },
  {
   "cell_type": "markdown",
   "id": "b9157d6e",
   "metadata": {},
   "source": [
    "Применим тот же метод формирования сводной таблицы и формулу расчета, как и в предыдущем шаге"
   ]
  },
  {
   "cell_type": "code",
   "execution_count": 59,
   "id": "244fb417",
   "metadata": {},
   "outputs": [
    {
     "data": {
      "text/html": [
       "<div>\n",
       "<style scoped>\n",
       "    .dataframe tbody tr th:only-of-type {\n",
       "        vertical-align: middle;\n",
       "    }\n",
       "\n",
       "    .dataframe tbody tr th {\n",
       "        vertical-align: top;\n",
       "    }\n",
       "\n",
       "    .dataframe thead tr th {\n",
       "        text-align: left;\n",
       "    }\n",
       "\n",
       "    .dataframe thead tr:last-of-type th {\n",
       "        text-align: right;\n",
       "    }\n",
       "</style>\n",
       "<table border=\"1\" class=\"dataframe\">\n",
       "  <thead>\n",
       "    <tr>\n",
       "      <th></th>\n",
       "      <th>count</th>\n",
       "      <th>sum</th>\n",
       "      <th>mean</th>\n",
       "    </tr>\n",
       "    <tr>\n",
       "      <th></th>\n",
       "      <th>debt</th>\n",
       "      <th>debt</th>\n",
       "      <th>debt</th>\n",
       "    </tr>\n",
       "    <tr>\n",
       "      <th>family_status</th>\n",
       "      <th></th>\n",
       "      <th></th>\n",
       "      <th></th>\n",
       "    </tr>\n",
       "  </thead>\n",
       "  <tbody>\n",
       "    <tr>\n",
       "      <th>в разводе</th>\n",
       "      <td>1195</td>\n",
       "      <td>85</td>\n",
       "      <td>0.071130</td>\n",
       "    </tr>\n",
       "    <tr>\n",
       "      <th>вдовец / вдова</th>\n",
       "      <td>959</td>\n",
       "      <td>63</td>\n",
       "      <td>0.065693</td>\n",
       "    </tr>\n",
       "    <tr>\n",
       "      <th>гражданский брак</th>\n",
       "      <td>4151</td>\n",
       "      <td>388</td>\n",
       "      <td>0.093471</td>\n",
       "    </tr>\n",
       "    <tr>\n",
       "      <th>женат / замужем</th>\n",
       "      <td>12339</td>\n",
       "      <td>931</td>\n",
       "      <td>0.075452</td>\n",
       "    </tr>\n",
       "    <tr>\n",
       "      <th>не женат / не замужем</th>\n",
       "      <td>2810</td>\n",
       "      <td>274</td>\n",
       "      <td>0.097509</td>\n",
       "    </tr>\n",
       "  </tbody>\n",
       "</table>\n",
       "</div>"
      ],
      "text/plain": [
       "                       count  sum      mean\n",
       "                        debt debt      debt\n",
       "family_status                              \n",
       "в разводе               1195   85  0.071130\n",
       "вдовец / вдова           959   63  0.065693\n",
       "гражданский брак        4151  388  0.093471\n",
       "женат / замужем        12339  931  0.075452\n",
       "не женат / не замужем   2810  274  0.097509"
      ]
     },
     "execution_count": 59,
     "metadata": {},
     "output_type": "execute_result"
    }
   ],
   "source": [
    "family_pivot = data.pivot_table(index=data_family['family_status'],\n",
    "                          values='debt',\n",
    "                          aggfunc=['count', 'sum', 'mean'])\n",
    "family_pivot                                                       "
   ]
  },
  {
   "cell_type": "markdown",
   "id": "9ada609f",
   "metadata": {},
   "source": [
    "Высокие показатели по задолженности у групп клиентов, находящиеся в гражданском браке с партнером а также не состоящие в браке"
   ]
  },
  {
   "cell_type": "markdown",
   "id": "46449d1d",
   "metadata": {},
   "source": [
    "У групп людей в разводе и вдовствующие напротив - показатели по задолженности низкие."
   ]
  },
  {
   "cell_type": "markdown",
   "id": "9c2ba5c4",
   "metadata": {},
   "source": [
    "Можно предположить, что разведенные и вдовствующие клиенты, имеют более характерный жизненный опыт и относятся к заемным деньгам более ответственно, чем люди не состоящие в браке и отношениях"
   ]
  },
  {
   "cell_type": "markdown",
   "id": "82fe0783",
   "metadata": {},
   "source": [
    "## Зависимость между уровнем дохода и возвратом кредита в срок"
   ]
  },
  {
   "cell_type": "code",
   "execution_count": 60,
   "id": "3631fb83",
   "metadata": {},
   "outputs": [
    {
     "data": {
      "text/html": [
       "<div>\n",
       "<style scoped>\n",
       "    .dataframe tbody tr th:only-of-type {\n",
       "        vertical-align: middle;\n",
       "    }\n",
       "\n",
       "    .dataframe tbody tr th {\n",
       "        vertical-align: top;\n",
       "    }\n",
       "\n",
       "    .dataframe thead tr th {\n",
       "        text-align: left;\n",
       "    }\n",
       "\n",
       "    .dataframe thead tr:last-of-type th {\n",
       "        text-align: right;\n",
       "    }\n",
       "</style>\n",
       "<table border=\"1\" class=\"dataframe\">\n",
       "  <thead>\n",
       "    <tr>\n",
       "      <th></th>\n",
       "      <th>count</th>\n",
       "      <th>sum</th>\n",
       "      <th>mean</th>\n",
       "    </tr>\n",
       "    <tr>\n",
       "      <th></th>\n",
       "      <th>debt</th>\n",
       "      <th>debt</th>\n",
       "      <th>debt</th>\n",
       "    </tr>\n",
       "    <tr>\n",
       "      <th>total_income_category</th>\n",
       "      <th></th>\n",
       "      <th></th>\n",
       "      <th></th>\n",
       "    </tr>\n",
       "  </thead>\n",
       "  <tbody>\n",
       "    <tr>\n",
       "      <th>A</th>\n",
       "      <td>25</td>\n",
       "      <td>2</td>\n",
       "      <td>0.080000</td>\n",
       "    </tr>\n",
       "    <tr>\n",
       "      <th>B</th>\n",
       "      <td>5041</td>\n",
       "      <td>356</td>\n",
       "      <td>0.070621</td>\n",
       "    </tr>\n",
       "    <tr>\n",
       "      <th>C</th>\n",
       "      <td>13913</td>\n",
       "      <td>1190</td>\n",
       "      <td>0.085532</td>\n",
       "    </tr>\n",
       "    <tr>\n",
       "      <th>D</th>\n",
       "      <td>350</td>\n",
       "      <td>21</td>\n",
       "      <td>0.060000</td>\n",
       "    </tr>\n",
       "    <tr>\n",
       "      <th>E</th>\n",
       "      <td>2125</td>\n",
       "      <td>172</td>\n",
       "      <td>0.080941</td>\n",
       "    </tr>\n",
       "  </tbody>\n",
       "</table>\n",
       "</div>"
      ],
      "text/plain": [
       "                       count   sum      mean\n",
       "                        debt  debt      debt\n",
       "total_income_category                       \n",
       "A                         25     2  0.080000\n",
       "B                       5041   356  0.070621\n",
       "C                      13913  1190  0.085532\n",
       "D                        350    21  0.060000\n",
       "E                       2125   172  0.080941"
      ]
     },
     "execution_count": 60,
     "metadata": {},
     "output_type": "execute_result"
    }
   ],
   "source": [
    "total_income_pivot = data.pivot_table(index='total_income_category', \n",
    "                          values='debt',\n",
    "                          aggfunc=['count', 'sum', 'mean'])\n",
    "total_income_pivot"
   ]
  },
  {
   "cell_type": "markdown",
   "id": "2a7dd606",
   "metadata": {},
   "source": [
    "Напомним о градации категорий\n",
    "- от 0 до 30000 — 'E'        (очень низкий уровень дохода) \n",
    "- от 30001 до 50000  — 'D'    (низкий уровень дохода)\n",
    "- от 50001 до 200000  — 'C'   (средний уровень дохода)\n",
    "- от 200001 до 1000000 — 'B' (высокий уровень дохода)\n",
    "- свыше 1000000   — 'A'        (очень высокий уровень дохода)"
   ]
  },
  {
   "cell_type": "markdown",
   "id": "562f79cb",
   "metadata": {},
   "source": [
    "Смотря на показатели, можно сделать вывод, что хуже всего платит по кредитам средний класс. Самые дисциплинированные клиенты - это люди с невысоким доходом и обеспеченные люди. Что в целом логично, небогатые люди опасаются последствий просрочки, а состоятельные - умеют считать деньги."
   ]
  },
  {
   "cell_type": "markdown",
   "id": "8e69ce61",
   "metadata": {},
   "source": [
    "## Влияние целей кредита на его возврат в срок"
   ]
  },
  {
   "cell_type": "code",
   "execution_count": 61,
   "id": "c7fb1fcf",
   "metadata": {},
   "outputs": [
    {
     "data": {
      "text/html": [
       "<div>\n",
       "<style scoped>\n",
       "    .dataframe tbody tr th:only-of-type {\n",
       "        vertical-align: middle;\n",
       "    }\n",
       "\n",
       "    .dataframe tbody tr th {\n",
       "        vertical-align: top;\n",
       "    }\n",
       "\n",
       "    .dataframe thead tr th {\n",
       "        text-align: left;\n",
       "    }\n",
       "\n",
       "    .dataframe thead tr:last-of-type th {\n",
       "        text-align: right;\n",
       "    }\n",
       "</style>\n",
       "<table border=\"1\" class=\"dataframe\">\n",
       "  <thead>\n",
       "    <tr>\n",
       "      <th></th>\n",
       "      <th>count</th>\n",
       "      <th>sum</th>\n",
       "      <th>mean</th>\n",
       "    </tr>\n",
       "    <tr>\n",
       "      <th></th>\n",
       "      <th>debt</th>\n",
       "      <th>debt</th>\n",
       "      <th>debt</th>\n",
       "    </tr>\n",
       "    <tr>\n",
       "      <th>purpose_category</th>\n",
       "      <th></th>\n",
       "      <th></th>\n",
       "      <th></th>\n",
       "    </tr>\n",
       "  </thead>\n",
       "  <tbody>\n",
       "    <tr>\n",
       "      <th>операции с автомобилем</th>\n",
       "      <td>4306</td>\n",
       "      <td>403</td>\n",
       "      <td>0.093590</td>\n",
       "    </tr>\n",
       "    <tr>\n",
       "      <th>операции с недвижимостью</th>\n",
       "      <td>10811</td>\n",
       "      <td>782</td>\n",
       "      <td>0.072334</td>\n",
       "    </tr>\n",
       "    <tr>\n",
       "      <th>получение образования</th>\n",
       "      <td>4013</td>\n",
       "      <td>370</td>\n",
       "      <td>0.092200</td>\n",
       "    </tr>\n",
       "    <tr>\n",
       "      <th>проведение свадьбы</th>\n",
       "      <td>2324</td>\n",
       "      <td>186</td>\n",
       "      <td>0.080034</td>\n",
       "    </tr>\n",
       "  </tbody>\n",
       "</table>\n",
       "</div>"
      ],
      "text/plain": [
       "                          count  sum      mean\n",
       "                           debt debt      debt\n",
       "purpose_category                              \n",
       "операции с автомобилем     4306  403  0.093590\n",
       "операции с недвижимостью  10811  782  0.072334\n",
       "получение образования      4013  370  0.092200\n",
       "проведение свадьбы         2324  186  0.080034"
      ]
     },
     "execution_count": 61,
     "metadata": {},
     "output_type": "execute_result"
    }
   ],
   "source": [
    "purpose_pivot = data.pivot_table(index='purpose_category', \n",
    "                          values='debt',\n",
    "                          aggfunc=['count', 'sum', 'mean'])\n",
    "purpose_pivot                                                     "
   ]
  },
  {
   "cell_type": "markdown",
   "id": "d0b55687",
   "metadata": {},
   "source": [
    "Клиенты, которые взяли кредит на жилье, чаще всего расплатятся по кредитам без задолженности. А вот вероятность просрочки у людей, которые брали кредит на машину либо обучение, достаточно высокая."
   ]
  },
  {
   "cell_type": "markdown",
   "id": "0b4e5a3c",
   "metadata": {},
   "source": [
    "# Этап 5. Выводы"
   ]
  },
  {
   "cell_type": "markdown",
   "id": "67d4444d",
   "metadata": {},
   "source": [
    "### Ответим, подтвердились ли гипотезы, которые были заданы для решения задач."
   ]
  },
  {
   "cell_type": "markdown",
   "id": "4398bd1b",
   "metadata": {},
   "source": [
    "- Есть ли зависимость между количеством детей и возвратом кредита в срок?\n",
    "  - Да. Уровень просрочки у бездетных клиентов низкий.\n",
    "- Есть ли зависимость между семейным положением и возвратом кредита в срок?\n",
    "  - Да. Разведенные и вдовствующие клиенты платят по кредитам лучше.\n",
    "- Есть ли зависимость между уровнем дохода и возвратом кредита в срок?\n",
    "  - Скорее нет. Разброс соотношений невелик и выделить конкретную категорию клиентов с определенным доходом, которые     задерживаются с оптатой по кредиту, не представляется возможным.\n",
    "- Как разные цели кредита влияют на его возврат в срок?\n",
    "  - Да. Клиенты, которые взяли заёмные деньги в банке для покупки жилья, чаще всего возвращают кредит без задержек."
   ]
  },
  {
   "cell_type": "markdown",
   "id": "ec5a81d6",
   "metadata": {},
   "source": [
    "### Предложения разработчикам:"
   ]
  },
  {
   "cell_type": "markdown",
   "id": "8b309e49",
   "metadata": {},
   "source": [
    "1. Внедрить ниспадающий список для главы \"образование\". Исключит разные регистры при вводе.\n",
    "2. Сделать заполнение в форме пунктов про стаж и доход обязательным. Исключит пропущенные значения\n",
    "3. Проверить откуда появляются отрицательные значения дохода.\n",
    "4. Проверить откуда берутся отрицательные и слишком большие значения количества детей.\n",
    "5. Сделать стандартный список для выбора целей кредита при заполнения заявки-формы."
   ]
  }
 ],
 "metadata": {
  "ExecuteTimeLog": [
   {
    "duration": 420,
    "start_time": "2022-04-23T15:48:58.223Z"
   },
   {
    "duration": 132,
    "start_time": "2022-04-23T15:48:58.645Z"
   },
   {
    "duration": 0,
    "start_time": "2022-04-23T15:48:58.780Z"
   },
   {
    "duration": 0,
    "start_time": "2022-04-23T15:48:58.781Z"
   },
   {
    "duration": 0,
    "start_time": "2022-04-23T15:48:58.782Z"
   },
   {
    "duration": 0,
    "start_time": "2022-04-23T15:48:58.783Z"
   },
   {
    "duration": 0,
    "start_time": "2022-04-23T15:48:58.784Z"
   },
   {
    "duration": 0,
    "start_time": "2022-04-23T15:48:58.785Z"
   },
   {
    "duration": 0,
    "start_time": "2022-04-23T15:48:58.785Z"
   },
   {
    "duration": 0,
    "start_time": "2022-04-23T15:48:58.786Z"
   },
   {
    "duration": 0,
    "start_time": "2022-04-23T15:48:58.787Z"
   },
   {
    "duration": 0,
    "start_time": "2022-04-23T15:48:58.788Z"
   },
   {
    "duration": 0,
    "start_time": "2022-04-23T15:48:58.789Z"
   },
   {
    "duration": 0,
    "start_time": "2022-04-23T15:48:58.790Z"
   },
   {
    "duration": 0,
    "start_time": "2022-04-23T15:48:58.791Z"
   },
   {
    "duration": 0,
    "start_time": "2022-04-23T15:48:58.791Z"
   },
   {
    "duration": 0,
    "start_time": "2022-04-23T15:48:58.792Z"
   },
   {
    "duration": 0,
    "start_time": "2022-04-23T15:48:58.793Z"
   },
   {
    "duration": 0,
    "start_time": "2022-04-23T15:48:58.794Z"
   },
   {
    "duration": 0,
    "start_time": "2022-04-23T15:48:58.794Z"
   },
   {
    "duration": 0,
    "start_time": "2022-04-23T15:48:58.795Z"
   },
   {
    "duration": 0,
    "start_time": "2022-04-23T15:48:58.796Z"
   },
   {
    "duration": 0,
    "start_time": "2022-04-23T15:48:58.796Z"
   },
   {
    "duration": 0,
    "start_time": "2022-04-23T15:48:58.798Z"
   },
   {
    "duration": 0,
    "start_time": "2022-04-23T15:48:58.798Z"
   },
   {
    "duration": 0,
    "start_time": "2022-04-23T15:48:58.799Z"
   },
   {
    "duration": 0,
    "start_time": "2022-04-23T15:48:58.800Z"
   },
   {
    "duration": 0,
    "start_time": "2022-04-23T15:48:58.801Z"
   },
   {
    "duration": 0,
    "start_time": "2022-04-23T15:48:58.801Z"
   },
   {
    "duration": 0,
    "start_time": "2022-04-23T15:48:58.802Z"
   },
   {
    "duration": 0,
    "start_time": "2022-04-23T15:48:58.803Z"
   },
   {
    "duration": 0,
    "start_time": "2022-04-23T15:48:58.804Z"
   },
   {
    "duration": 0,
    "start_time": "2022-04-23T15:48:58.805Z"
   },
   {
    "duration": 0,
    "start_time": "2022-04-23T15:48:58.806Z"
   },
   {
    "duration": 0,
    "start_time": "2022-04-23T15:48:58.807Z"
   },
   {
    "duration": 0,
    "start_time": "2022-04-23T15:48:58.808Z"
   },
   {
    "duration": 0,
    "start_time": "2022-04-23T15:48:58.809Z"
   },
   {
    "duration": 0,
    "start_time": "2022-04-23T15:48:58.855Z"
   },
   {
    "duration": 0,
    "start_time": "2022-04-23T15:48:58.856Z"
   },
   {
    "duration": 0,
    "start_time": "2022-04-23T15:48:58.857Z"
   },
   {
    "duration": 0,
    "start_time": "2022-04-23T15:48:58.859Z"
   },
   {
    "duration": 0,
    "start_time": "2022-04-23T15:48:58.860Z"
   },
   {
    "duration": 0,
    "start_time": "2022-04-23T15:48:58.861Z"
   },
   {
    "duration": 0,
    "start_time": "2022-04-23T15:48:58.862Z"
   },
   {
    "duration": 0,
    "start_time": "2022-04-23T15:48:58.863Z"
   },
   {
    "duration": 0,
    "start_time": "2022-04-23T15:48:58.864Z"
   },
   {
    "duration": 0,
    "start_time": "2022-04-23T15:48:58.865Z"
   },
   {
    "duration": 0,
    "start_time": "2022-04-23T15:48:58.866Z"
   },
   {
    "duration": 0,
    "start_time": "2022-04-23T15:48:58.867Z"
   },
   {
    "duration": 0,
    "start_time": "2022-04-23T15:48:58.868Z"
   },
   {
    "duration": 0,
    "start_time": "2022-04-23T15:48:58.869Z"
   },
   {
    "duration": 0,
    "start_time": "2022-04-23T15:48:58.870Z"
   },
   {
    "duration": 0,
    "start_time": "2022-04-23T15:48:58.871Z"
   },
   {
    "duration": 0,
    "start_time": "2022-04-23T15:48:58.872Z"
   }
  ],
  "kernelspec": {
   "display_name": "Python 3 (ipykernel)",
   "language": "python",
   "name": "python3"
  },
  "language_info": {
   "codemirror_mode": {
    "name": "ipython",
    "version": 3
   },
   "file_extension": ".py",
   "mimetype": "text/x-python",
   "name": "python",
   "nbconvert_exporter": "python",
   "pygments_lexer": "ipython3",
   "version": "3.9.7"
  },
  "toc": {
   "base_numbering": 1,
   "nav_menu": {},
   "number_sections": true,
   "sideBar": true,
   "skip_h1_title": true,
   "title_cell": "Table of Contents",
   "title_sidebar": "Contents",
   "toc_cell": false,
   "toc_position": {},
   "toc_section_display": true,
   "toc_window_display": false
  }
 },
 "nbformat": 4,
 "nbformat_minor": 5
}
