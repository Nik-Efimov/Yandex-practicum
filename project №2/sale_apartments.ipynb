{
 "cells": [
  {
   "cell_type": "markdown",
   "id": "93f7afff",
   "metadata": {},
   "source": [
    "# Проект исследования ценнообразования недвижимости в Санкт-Петербурге и пригородах"
   ]
  },
  {
   "cell_type": "markdown",
   "id": "e49ce1af",
   "metadata": {},
   "source": [
    "## Цели исследования"
   ]
  },
  {
   "cell_type": "markdown",
   "id": "a199d5c7",
   "metadata": {},
   "source": [
    "    Определить какие факторы больше всего влияют на стоимость квартиры.\n",
    "    Выбрать среди населённых пунктов Лен. области топ-10 по количеству объявлений и выделить среди них с самой высокой и \n",
    "    низкой стоимостью жилья\n",
    "    Определить какие факторы влияют на ценообразование квартир в центре Санкт-Петербурга"
   ]
  },
  {
   "cell_type": "markdown",
   "id": "dc809ee3",
   "metadata": {},
   "source": [
    "## Входные данные"
   ]
  },
  {
   "cell_type": "markdown",
   "id": "74a5935a",
   "metadata": {},
   "source": [
    "    Архив объявлений о продаже квартир в Санкт-Петербурге и соседних населённых пунктах за несколько лет"
   ]
  },
  {
   "cell_type": "markdown",
   "id": "adf5b349",
   "metadata": {},
   "source": [
    "## План исследования"
   ]
  },
  {
   "cell_type": "markdown",
   "id": "4ae2700e",
   "metadata": {},
   "source": [
    "### Этап 1. Получим данные"
   ]
  },
  {
   "cell_type": "markdown",
   "id": "ef477c72",
   "metadata": {},
   "source": [
    "    - Импорт библиотек\n",
    "    - Прочитаем файл, выведем на экран\n",
    "    - Осмотрим датафрейм\n",
    "    - Посмотрим общую информацию"
   ]
  },
  {
   "cell_type": "markdown",
   "id": "f3c40bcb",
   "metadata": {},
   "source": [
    "### Этап 2. Обработаем данные"
   ]
  },
  {
   "cell_type": "markdown",
   "id": "9a2d4563",
   "metadata": {},
   "source": [
    "    - посмотрим на пропуски, при возможности удалим либо заменим\n",
    "    - удалим дубликаты"
   ]
  },
  {
   "cell_type": "markdown",
   "id": "ba942245",
   "metadata": {},
   "source": [
    "### Этап 3. Посчитаем и добавим в таблицу"
   ]
  },
  {
   "cell_type": "markdown",
   "id": "c0d08773",
   "metadata": {},
   "source": [
    "    - цену квадратного метра\n",
    "    - день недели, месяц и год публикации объявления\n",
    "    - этаж квартиры; варианты — первый, последний, другой\n",
    "    - соотношение жилой и общей площади, а также отношение площади кухни к общей"
   ]
  },
  {
   "cell_type": "markdown",
   "id": "b11d90dc",
   "metadata": {},
   "source": [
    "### Этап 4. Проанализируем данные"
   ]
  },
  {
   "cell_type": "markdown",
   "id": "64f2904a",
   "metadata": {},
   "source": [
    "#### 4.1. Изучим следующие параметры: \n",
    "    -площадь\n",
    "    -цена\n",
    "    -число комнат\n",
    "    -высота потолков\n",
    "    Построим гистограммы для каждого параметра."
   ]
  },
  {
   "cell_type": "markdown",
   "id": "fcc248dd",
   "metadata": {},
   "source": [
    "#### 4.2. Изучим время продажи квартиры:\n",
    "    - построим гистограмму \n",
    "    - посчитаем среднее и медиану \n",
    "    - опишем, сколько обычно занимает продажа \n",
    "    - ответим на вопрос - Когда можно считать, что продажи прошли очень быстро, а когда необычно долго?"
   ]
  },
  {
   "cell_type": "markdown",
   "id": "4c2e2be3",
   "metadata": {},
   "source": [
    "#### 4.3. Уберём редкие и выбивающиеся значения"
   ]
  },
  {
   "cell_type": "markdown",
   "id": "c43758ff",
   "metadata": {},
   "source": [
    "#### 4.4. Изучим зависимости стоимости квартиры от:\n",
    "    - площади\n",
    "    - числа комнат \n",
    "    - удалённости от центра \n",
    "    - на каком этаже расположена квартира: первом, последнем или другом. \n",
    "    - даты размещения: дня недели, месяца и года"
   ]
  },
  {
   "cell_type": "markdown",
   "id": "ec669110",
   "metadata": {},
   "source": [
    "#### 4.5. Выделим населенные пункты \n",
    "    с самой высокой и низкой стоимостью жилья среди топ-10 с наибольшим числом объявлений"
   ]
  },
  {
   "cell_type": "markdown",
   "id": "3d695df3",
   "metadata": {},
   "source": [
    "#### 4.6. Определим границу центра Санкт-Петербурга\n",
    "    исходя из графика зависимости цены от удалённости от центра"
   ]
  },
  {
   "cell_type": "markdown",
   "id": "95192edd",
   "metadata": {},
   "source": [
    "#### 4.7. Проанализируем сегмент квартир в центре"
   ]
  },
  {
   "cell_type": "markdown",
   "id": "96414213",
   "metadata": {},
   "source": [
    "### Этап 5. Сделаем общие выводы"
   ]
  },
  {
   "cell_type": "markdown",
   "id": "779a82fe",
   "metadata": {},
   "source": [
    "## Описание данных:"
   ]
  },
  {
   "cell_type": "markdown",
   "id": "d4c73b0b",
   "metadata": {},
   "source": [
    "- airports_nearest — расстояние до ближайшего аэропорта в метрах (м)\n",
    "- balcony — число балконов\n",
    "- ceiling_height — высота потолков (м)\n",
    "- cityCenters_nearest — расстояние до центра города (м)\n",
    "- days_exposition — сколько дней было размещено объявление (от публикации до снятия)\n",
    "- first_day_exposition — дата публикации\n",
    "- floor — этаж\n",
    "- floors_total — всего этажей в доме\n",
    "- is_apartment — апартаменты (булев тип)\n",
    "- kitchen_area — площадь кухни в квадратных метрах (м²)\n",
    "- last_price — цена на момент снятия с публикации\n",
    "- living_area — жилая площадь в квадратных метрах (м²)\n",
    "- locality_name — название населённого пункта\n",
    "- open_plan — свободная планировка (булев тип)\n",
    "- parks_around3000 — число парков в радиусе 3 км\n",
    "- parks_nearest — расстояние до ближайшего парка (м)\n",
    "- ponds_around3000 — число водоёмов в радиусе 3 км\n",
    "- ponds_nearest — расстояние до ближайшего водоёма (м)\n",
    "- rooms — число комнат\n",
    "- studio — квартира-студия (булев тип)\n",
    "- total_area — площадь квартиры в квадратных метрах (м²)\n",
    "- total_images — число фотографий квартиры в объявлении"
   ]
  },
  {
   "cell_type": "markdown",
   "id": "ccd0fbe5",
   "metadata": {},
   "source": [
    "## Этап 1. Получим данные"
   ]
  },
  {
   "cell_type": "code",
   "execution_count": 2,
   "id": "341a6608",
   "metadata": {},
   "outputs": [],
   "source": [
    "#импортируем библиотеки\n",
    "import pandas as pd             \n",
    "from datetime import datetime\n",
    "import matplotlib.pyplot as plt"
   ]
  },
  {
   "cell_type": "code",
   "execution_count": 7,
   "id": "454c872d",
   "metadata": {},
   "outputs": [],
   "source": [
    "try: \n",
    "    data = pd.read_csv('/datasets/real_estate_data.csv', sep='\\t') #путь к файлу в общем хранилище\n",
    "except: \n",
    "    data = pd.read_csv('C:/Users/Admin/Downloads/real_estate_data.csv', sep='\\t') #путь к файлу на локальной машине\n",
    "pd.set_option('display.max_columns', 50) "
   ]
  },
  {
   "cell_type": "code",
   "execution_count": 8,
   "id": "3516f873",
   "metadata": {},
   "outputs": [
    {
     "data": {
      "text/html": [
       "<div>\n",
       "<style scoped>\n",
       "    .dataframe tbody tr th:only-of-type {\n",
       "        vertical-align: middle;\n",
       "    }\n",
       "\n",
       "    .dataframe tbody tr th {\n",
       "        vertical-align: top;\n",
       "    }\n",
       "\n",
       "    .dataframe thead th {\n",
       "        text-align: right;\n",
       "    }\n",
       "</style>\n",
       "<table border=\"1\" class=\"dataframe\">\n",
       "  <thead>\n",
       "    <tr style=\"text-align: right;\">\n",
       "      <th></th>\n",
       "      <th>total_images</th>\n",
       "      <th>last_price</th>\n",
       "      <th>total_area</th>\n",
       "      <th>first_day_exposition</th>\n",
       "      <th>rooms</th>\n",
       "      <th>ceiling_height</th>\n",
       "      <th>floors_total</th>\n",
       "      <th>living_area</th>\n",
       "      <th>floor</th>\n",
       "      <th>is_apartment</th>\n",
       "      <th>studio</th>\n",
       "      <th>open_plan</th>\n",
       "      <th>kitchen_area</th>\n",
       "      <th>balcony</th>\n",
       "      <th>locality_name</th>\n",
       "      <th>airports_nearest</th>\n",
       "      <th>cityCenters_nearest</th>\n",
       "      <th>parks_around3000</th>\n",
       "      <th>parks_nearest</th>\n",
       "      <th>ponds_around3000</th>\n",
       "      <th>ponds_nearest</th>\n",
       "      <th>days_exposition</th>\n",
       "    </tr>\n",
       "  </thead>\n",
       "  <tbody>\n",
       "    <tr>\n",
       "      <th>0</th>\n",
       "      <td>20</td>\n",
       "      <td>13000000.0</td>\n",
       "      <td>108.0</td>\n",
       "      <td>2019-03-07T00:00:00</td>\n",
       "      <td>3</td>\n",
       "      <td>2.70</td>\n",
       "      <td>16.0</td>\n",
       "      <td>51.0</td>\n",
       "      <td>8</td>\n",
       "      <td>NaN</td>\n",
       "      <td>False</td>\n",
       "      <td>False</td>\n",
       "      <td>25.0</td>\n",
       "      <td>NaN</td>\n",
       "      <td>Санкт-Петербург</td>\n",
       "      <td>18863.0</td>\n",
       "      <td>16028.0</td>\n",
       "      <td>1.0</td>\n",
       "      <td>482.0</td>\n",
       "      <td>2.0</td>\n",
       "      <td>755.0</td>\n",
       "      <td>NaN</td>\n",
       "    </tr>\n",
       "    <tr>\n",
       "      <th>1</th>\n",
       "      <td>7</td>\n",
       "      <td>3350000.0</td>\n",
       "      <td>40.4</td>\n",
       "      <td>2018-12-04T00:00:00</td>\n",
       "      <td>1</td>\n",
       "      <td>NaN</td>\n",
       "      <td>11.0</td>\n",
       "      <td>18.6</td>\n",
       "      <td>1</td>\n",
       "      <td>NaN</td>\n",
       "      <td>False</td>\n",
       "      <td>False</td>\n",
       "      <td>11.0</td>\n",
       "      <td>2.0</td>\n",
       "      <td>посёлок Шушары</td>\n",
       "      <td>12817.0</td>\n",
       "      <td>18603.0</td>\n",
       "      <td>0.0</td>\n",
       "      <td>NaN</td>\n",
       "      <td>0.0</td>\n",
       "      <td>NaN</td>\n",
       "      <td>81.0</td>\n",
       "    </tr>\n",
       "    <tr>\n",
       "      <th>2</th>\n",
       "      <td>10</td>\n",
       "      <td>5196000.0</td>\n",
       "      <td>56.0</td>\n",
       "      <td>2015-08-20T00:00:00</td>\n",
       "      <td>2</td>\n",
       "      <td>NaN</td>\n",
       "      <td>5.0</td>\n",
       "      <td>34.3</td>\n",
       "      <td>4</td>\n",
       "      <td>NaN</td>\n",
       "      <td>False</td>\n",
       "      <td>False</td>\n",
       "      <td>8.3</td>\n",
       "      <td>0.0</td>\n",
       "      <td>Санкт-Петербург</td>\n",
       "      <td>21741.0</td>\n",
       "      <td>13933.0</td>\n",
       "      <td>1.0</td>\n",
       "      <td>90.0</td>\n",
       "      <td>2.0</td>\n",
       "      <td>574.0</td>\n",
       "      <td>558.0</td>\n",
       "    </tr>\n",
       "    <tr>\n",
       "      <th>3</th>\n",
       "      <td>0</td>\n",
       "      <td>64900000.0</td>\n",
       "      <td>159.0</td>\n",
       "      <td>2015-07-24T00:00:00</td>\n",
       "      <td>3</td>\n",
       "      <td>NaN</td>\n",
       "      <td>14.0</td>\n",
       "      <td>NaN</td>\n",
       "      <td>9</td>\n",
       "      <td>NaN</td>\n",
       "      <td>False</td>\n",
       "      <td>False</td>\n",
       "      <td>NaN</td>\n",
       "      <td>0.0</td>\n",
       "      <td>Санкт-Петербург</td>\n",
       "      <td>28098.0</td>\n",
       "      <td>6800.0</td>\n",
       "      <td>2.0</td>\n",
       "      <td>84.0</td>\n",
       "      <td>3.0</td>\n",
       "      <td>234.0</td>\n",
       "      <td>424.0</td>\n",
       "    </tr>\n",
       "    <tr>\n",
       "      <th>4</th>\n",
       "      <td>2</td>\n",
       "      <td>10000000.0</td>\n",
       "      <td>100.0</td>\n",
       "      <td>2018-06-19T00:00:00</td>\n",
       "      <td>2</td>\n",
       "      <td>3.03</td>\n",
       "      <td>14.0</td>\n",
       "      <td>32.0</td>\n",
       "      <td>13</td>\n",
       "      <td>NaN</td>\n",
       "      <td>False</td>\n",
       "      <td>False</td>\n",
       "      <td>41.0</td>\n",
       "      <td>NaN</td>\n",
       "      <td>Санкт-Петербург</td>\n",
       "      <td>31856.0</td>\n",
       "      <td>8098.0</td>\n",
       "      <td>2.0</td>\n",
       "      <td>112.0</td>\n",
       "      <td>1.0</td>\n",
       "      <td>48.0</td>\n",
       "      <td>121.0</td>\n",
       "    </tr>\n",
       "  </tbody>\n",
       "</table>\n",
       "</div>"
      ],
      "text/plain": [
       "   total_images  last_price  total_area first_day_exposition  rooms  \\\n",
       "0            20  13000000.0       108.0  2019-03-07T00:00:00      3   \n",
       "1             7   3350000.0        40.4  2018-12-04T00:00:00      1   \n",
       "2            10   5196000.0        56.0  2015-08-20T00:00:00      2   \n",
       "3             0  64900000.0       159.0  2015-07-24T00:00:00      3   \n",
       "4             2  10000000.0       100.0  2018-06-19T00:00:00      2   \n",
       "\n",
       "   ceiling_height  floors_total  living_area  floor is_apartment  studio  \\\n",
       "0            2.70          16.0         51.0      8          NaN   False   \n",
       "1             NaN          11.0         18.6      1          NaN   False   \n",
       "2             NaN           5.0         34.3      4          NaN   False   \n",
       "3             NaN          14.0          NaN      9          NaN   False   \n",
       "4            3.03          14.0         32.0     13          NaN   False   \n",
       "\n",
       "   open_plan  kitchen_area  balcony    locality_name  airports_nearest  \\\n",
       "0      False          25.0      NaN  Санкт-Петербург           18863.0   \n",
       "1      False          11.0      2.0   посёлок Шушары           12817.0   \n",
       "2      False           8.3      0.0  Санкт-Петербург           21741.0   \n",
       "3      False           NaN      0.0  Санкт-Петербург           28098.0   \n",
       "4      False          41.0      NaN  Санкт-Петербург           31856.0   \n",
       "\n",
       "   cityCenters_nearest  parks_around3000  parks_nearest  ponds_around3000  \\\n",
       "0              16028.0               1.0          482.0               2.0   \n",
       "1              18603.0               0.0            NaN               0.0   \n",
       "2              13933.0               1.0           90.0               2.0   \n",
       "3               6800.0               2.0           84.0               3.0   \n",
       "4               8098.0               2.0          112.0               1.0   \n",
       "\n",
       "   ponds_nearest  days_exposition  \n",
       "0          755.0              NaN  \n",
       "1            NaN             81.0  \n",
       "2          574.0            558.0  \n",
       "3          234.0            424.0  \n",
       "4           48.0            121.0  "
      ]
     },
     "execution_count": 8,
     "metadata": {},
     "output_type": "execute_result"
    }
   ],
   "source": [
    "data.head()"
   ]
  },
  {
   "cell_type": "code",
   "execution_count": 9,
   "id": "c0822c05",
   "metadata": {},
   "outputs": [
    {
     "name": "stdout",
     "output_type": "stream",
     "text": [
      "<class 'pandas.core.frame.DataFrame'>\n",
      "RangeIndex: 23699 entries, 0 to 23698\n",
      "Data columns (total 22 columns):\n",
      " #   Column                Non-Null Count  Dtype  \n",
      "---  ------                --------------  -----  \n",
      " 0   total_images          23699 non-null  int64  \n",
      " 1   last_price            23699 non-null  float64\n",
      " 2   total_area            23699 non-null  float64\n",
      " 3   first_day_exposition  23699 non-null  object \n",
      " 4   rooms                 23699 non-null  int64  \n",
      " 5   ceiling_height        14504 non-null  float64\n",
      " 6   floors_total          23613 non-null  float64\n",
      " 7   living_area           21796 non-null  float64\n",
      " 8   floor                 23699 non-null  int64  \n",
      " 9   is_apartment          2775 non-null   object \n",
      " 10  studio                23699 non-null  bool   \n",
      " 11  open_plan             23699 non-null  bool   \n",
      " 12  kitchen_area          21421 non-null  float64\n",
      " 13  balcony               12180 non-null  float64\n",
      " 14  locality_name         23650 non-null  object \n",
      " 15  airports_nearest      18157 non-null  float64\n",
      " 16  cityCenters_nearest   18180 non-null  float64\n",
      " 17  parks_around3000      18181 non-null  float64\n",
      " 18  parks_nearest         8079 non-null   float64\n",
      " 19  ponds_around3000      18181 non-null  float64\n",
      " 20  ponds_nearest         9110 non-null   float64\n",
      " 21  days_exposition       20518 non-null  float64\n",
      "dtypes: bool(2), float64(14), int64(3), object(3)\n",
      "memory usage: 3.7+ MB\n"
     ]
    }
   ],
   "source": [
    "data.info()               #посмотрим общую информацию"
   ]
  },
  {
   "cell_type": "markdown",
   "id": "24217ff4",
   "metadata": {},
   "source": [
    "Очень много пропущенных значений"
   ]
  },
  {
   "cell_type": "code",
   "execution_count": 10,
   "id": "98b7f558",
   "metadata": {},
   "outputs": [
    {
     "data": {
      "text/plain": [
       "0"
      ]
     },
     "execution_count": 10,
     "metadata": {},
     "output_type": "execute_result"
    }
   ],
   "source": [
    "data.duplicated().sum()  #посмотрим количесво дубликатов"
   ]
  },
  {
   "cell_type": "markdown",
   "id": "aedeaade",
   "metadata": {},
   "source": [
    "А вот явных дубликатов в данных нет совсем"
   ]
  },
  {
   "cell_type": "markdown",
   "id": "b7a33261",
   "metadata": {},
   "source": [
    "### Задачи которые требуется решить:"
   ]
  },
  {
   "cell_type": "markdown",
   "id": "a86b8cdc",
   "metadata": {},
   "source": [
    "- разобраться с пропусками\n",
    "- изменить формат столбца дата публикации на формат даты"
   ]
  },
  {
   "cell_type": "markdown",
   "id": "5bbb3f0d",
   "metadata": {},
   "source": [
    "## Этап 2. Обработаем данные"
   ]
  },
  {
   "cell_type": "code",
   "execution_count": 11,
   "id": "d38a5530",
   "metadata": {},
   "outputs": [
    {
     "data": {
      "text/plain": [
       "total_images                0\n",
       "last_price                  0\n",
       "total_area                  0\n",
       "first_day_exposition        0\n",
       "rooms                       0\n",
       "ceiling_height           9195\n",
       "floors_total               86\n",
       "living_area              1903\n",
       "floor                       0\n",
       "is_apartment            20924\n",
       "studio                      0\n",
       "open_plan                   0\n",
       "kitchen_area             2278\n",
       "balcony                 11519\n",
       "locality_name              49\n",
       "airports_nearest         5542\n",
       "cityCenters_nearest      5519\n",
       "parks_around3000         5518\n",
       "parks_nearest           15620\n",
       "ponds_around3000         5518\n",
       "ponds_nearest           14589\n",
       "days_exposition          3181\n",
       "dtype: int64"
      ]
     },
     "execution_count": 11,
     "metadata": {},
     "output_type": "execute_result"
    }
   ],
   "source": [
    "data.isna().sum()   #посмотрим на пропуски в датафрейме"
   ]
  },
  {
   "cell_type": "code",
   "execution_count": 13,
   "id": "07234ef2",
   "metadata": {},
   "outputs": [
    {
     "data": {
      "text/plain": [
       "38.8"
      ]
     },
     "execution_count": 13,
     "metadata": {},
     "output_type": "execute_result"
    }
   ],
   "source": [
    "(data['ceiling_height'].isna().sum()/len(data)*100).round(2) #посчитаем пропуски по высоте потолков в процентах"
   ]
  },
  {
   "cell_type": "markdown",
   "id": "d2bd6c0b",
   "metadata": {},
   "source": [
    "38% - пропущенные значения. Очень много.\n",
    "Скорее всего при заполнении данных о недвижимости пропустили ввод высоты потолков.\n",
    "Удалять строки с пропусками не будем, высота потолков не обязательный параметр при выборе квартиры."
   ]
  },
  {
   "cell_type": "markdown",
   "id": "f106f4c3",
   "metadata": {},
   "source": [
    "floors_total (общее количество этажей) = 86 пропущенных значений - немного, но удалять их не будем, данные могут иметь важную информацию"
   ]
  },
  {
   "cell_type": "code",
   "execution_count": 14,
   "id": "c1bea73c",
   "metadata": {},
   "outputs": [
    {
     "data": {
      "text/plain": [
       "20924"
      ]
     },
     "execution_count": 14,
     "metadata": {},
     "output_type": "execute_result"
    }
   ],
   "source": [
    "data['is_apartment'].isna().sum() #Пропуски в столбце \"апартаменты\""
   ]
  },
  {
   "cell_type": "code",
   "execution_count": 15,
   "id": "f365ba09",
   "metadata": {},
   "outputs": [
    {
     "data": {
      "text/plain": [
       "array([False, True, nan], dtype=object)"
      ]
     },
     "execution_count": 15,
     "metadata": {},
     "output_type": "execute_result"
    }
   ],
   "source": [
    "data['is_apartment'].sort_values().unique()"
   ]
  },
  {
   "cell_type": "markdown",
   "id": "45dc708a",
   "metadata": {},
   "source": [
    "Данные представленны в булевом формате. Отсутвие данных может означать, что недвижимость не является апартаментами. Поэтому поменяем пропущенные значения на False"
   ]
  },
  {
   "cell_type": "code",
   "execution_count": 16,
   "id": "41b2b33c",
   "metadata": {},
   "outputs": [],
   "source": [
    "data['is_apartment'] = data['is_apartment'].fillna(False) #заменим пропуски на булево значение "
   ]
  },
  {
   "cell_type": "code",
   "execution_count": 17,
   "id": "4be98f0a",
   "metadata": {},
   "outputs": [
    {
     "data": {
      "text/plain": [
       "array([False,  True])"
      ]
     },
     "execution_count": 17,
     "metadata": {},
     "output_type": "execute_result"
    }
   ],
   "source": [
    "data['is_apartment'].sort_values().unique() #проверим результат"
   ]
  },
  {
   "cell_type": "code",
   "execution_count": 18,
   "id": "3530bdae",
   "metadata": {},
   "outputs": [
    {
     "data": {
      "text/plain": [
       "11519"
      ]
     },
     "execution_count": 18,
     "metadata": {},
     "output_type": "execute_result"
    }
   ],
   "source": [
    "data['balcony'].isna().sum() #Посмотрим пропуски по балконам"
   ]
  },
  {
   "cell_type": "markdown",
   "id": "dbe09501",
   "metadata": {},
   "source": [
    "Почти половина данных = пропущенные значения. \n",
    "Вероятнее всего, пропущенные значения означают, что балкона нет, ведь его наличие это хороший аргумент при продаже квартиры и не указывать его невыгодно"
   ]
  },
  {
   "cell_type": "code",
   "execution_count": 19,
   "id": "fa71eab0",
   "metadata": {},
   "outputs": [],
   "source": [
    "data['balcony'] = data['balcony'].fillna(0) #заменим пропуски на нули"
   ]
  },
  {
   "cell_type": "code",
   "execution_count": 20,
   "id": "f7024ee6",
   "metadata": {},
   "outputs": [
    {
     "data": {
      "text/plain": [
       "0"
      ]
     },
     "execution_count": 20,
     "metadata": {},
     "output_type": "execute_result"
    }
   ],
   "source": [
    "data['balcony'].isna().sum() #проверим  отсутствие пропусков"
   ]
  },
  {
   "cell_type": "code",
   "execution_count": 21,
   "id": "157cfc52",
   "metadata": {},
   "outputs": [
    {
     "data": {
      "text/plain": [
       "49"
      ]
     },
     "execution_count": 21,
     "metadata": {},
     "output_type": "execute_result"
    }
   ],
   "source": [
    "data['locality_name'].isna().sum() #посмотрим на пропуски по названиям населённого пункта"
   ]
  },
  {
   "cell_type": "markdown",
   "id": "e8c88713",
   "metadata": {},
   "source": [
    "Данные строки придется удалить, ведь не зная, где находится продаваемая квартира, смысл рассматривать данное предложение пропадает"
   ]
  },
  {
   "cell_type": "code",
   "execution_count": 22,
   "id": "5e2bff63",
   "metadata": {},
   "outputs": [],
   "source": [
    "data = data.dropna(subset=['locality_name']) #удаляем строки с пропусками по этому столбцу"
   ]
  },
  {
   "cell_type": "code",
   "execution_count": 23,
   "id": "793da9e5",
   "metadata": {},
   "outputs": [
    {
     "data": {
      "text/plain": [
       "0"
      ]
     },
     "execution_count": 23,
     "metadata": {},
     "output_type": "execute_result"
    }
   ],
   "source": [
    "data['locality_name'].isna().sum() #проверим результат"
   ]
  },
  {
   "cell_type": "markdown",
   "id": "59b64b59",
   "metadata": {},
   "source": [
    "Остальные столбцы корректировать по пропущенным значениям нет смысла. Логичной замены не подставить, а удалять строки неразумно, данные могут быть полезны"
   ]
  },
  {
   "cell_type": "code",
   "execution_count": 24,
   "id": "7db42671",
   "metadata": {},
   "outputs": [],
   "source": [
    "#переведем данные столбца \"дата публикации\" в формат даты\n",
    "data['first_day_exposition'] = pd.to_datetime(data['first_day_exposition'], format=\"%Y-%m-%dT%H:%M:%S\")"
   ]
  },
  {
   "cell_type": "code",
   "execution_count": 25,
   "id": "3eb1a5a2",
   "metadata": {},
   "outputs": [
    {
     "data": {
      "text/html": [
       "<div>\n",
       "<style scoped>\n",
       "    .dataframe tbody tr th:only-of-type {\n",
       "        vertical-align: middle;\n",
       "    }\n",
       "\n",
       "    .dataframe tbody tr th {\n",
       "        vertical-align: top;\n",
       "    }\n",
       "\n",
       "    .dataframe thead th {\n",
       "        text-align: right;\n",
       "    }\n",
       "</style>\n",
       "<table border=\"1\" class=\"dataframe\">\n",
       "  <thead>\n",
       "    <tr style=\"text-align: right;\">\n",
       "      <th></th>\n",
       "      <th>total_images</th>\n",
       "      <th>last_price</th>\n",
       "      <th>total_area</th>\n",
       "      <th>first_day_exposition</th>\n",
       "      <th>rooms</th>\n",
       "      <th>ceiling_height</th>\n",
       "      <th>floors_total</th>\n",
       "      <th>living_area</th>\n",
       "      <th>floor</th>\n",
       "      <th>is_apartment</th>\n",
       "      <th>studio</th>\n",
       "      <th>open_plan</th>\n",
       "      <th>kitchen_area</th>\n",
       "      <th>balcony</th>\n",
       "      <th>locality_name</th>\n",
       "      <th>airports_nearest</th>\n",
       "      <th>cityCenters_nearest</th>\n",
       "      <th>parks_around3000</th>\n",
       "      <th>parks_nearest</th>\n",
       "      <th>ponds_around3000</th>\n",
       "      <th>ponds_nearest</th>\n",
       "      <th>days_exposition</th>\n",
       "    </tr>\n",
       "  </thead>\n",
       "  <tbody>\n",
       "    <tr>\n",
       "      <th>0</th>\n",
       "      <td>20</td>\n",
       "      <td>13000000.0</td>\n",
       "      <td>108.0</td>\n",
       "      <td>2019-03-07</td>\n",
       "      <td>3</td>\n",
       "      <td>2.70</td>\n",
       "      <td>16.0</td>\n",
       "      <td>51.0</td>\n",
       "      <td>8</td>\n",
       "      <td>False</td>\n",
       "      <td>False</td>\n",
       "      <td>False</td>\n",
       "      <td>25.0</td>\n",
       "      <td>0.0</td>\n",
       "      <td>Санкт-Петербург</td>\n",
       "      <td>18863.0</td>\n",
       "      <td>16028.0</td>\n",
       "      <td>1.0</td>\n",
       "      <td>482.0</td>\n",
       "      <td>2.0</td>\n",
       "      <td>755.0</td>\n",
       "      <td>NaN</td>\n",
       "    </tr>\n",
       "    <tr>\n",
       "      <th>1</th>\n",
       "      <td>7</td>\n",
       "      <td>3350000.0</td>\n",
       "      <td>40.4</td>\n",
       "      <td>2018-12-04</td>\n",
       "      <td>1</td>\n",
       "      <td>NaN</td>\n",
       "      <td>11.0</td>\n",
       "      <td>18.6</td>\n",
       "      <td>1</td>\n",
       "      <td>False</td>\n",
       "      <td>False</td>\n",
       "      <td>False</td>\n",
       "      <td>11.0</td>\n",
       "      <td>2.0</td>\n",
       "      <td>посёлок Шушары</td>\n",
       "      <td>12817.0</td>\n",
       "      <td>18603.0</td>\n",
       "      <td>0.0</td>\n",
       "      <td>NaN</td>\n",
       "      <td>0.0</td>\n",
       "      <td>NaN</td>\n",
       "      <td>81.0</td>\n",
       "    </tr>\n",
       "    <tr>\n",
       "      <th>2</th>\n",
       "      <td>10</td>\n",
       "      <td>5196000.0</td>\n",
       "      <td>56.0</td>\n",
       "      <td>2015-08-20</td>\n",
       "      <td>2</td>\n",
       "      <td>NaN</td>\n",
       "      <td>5.0</td>\n",
       "      <td>34.3</td>\n",
       "      <td>4</td>\n",
       "      <td>False</td>\n",
       "      <td>False</td>\n",
       "      <td>False</td>\n",
       "      <td>8.3</td>\n",
       "      <td>0.0</td>\n",
       "      <td>Санкт-Петербург</td>\n",
       "      <td>21741.0</td>\n",
       "      <td>13933.0</td>\n",
       "      <td>1.0</td>\n",
       "      <td>90.0</td>\n",
       "      <td>2.0</td>\n",
       "      <td>574.0</td>\n",
       "      <td>558.0</td>\n",
       "    </tr>\n",
       "    <tr>\n",
       "      <th>3</th>\n",
       "      <td>0</td>\n",
       "      <td>64900000.0</td>\n",
       "      <td>159.0</td>\n",
       "      <td>2015-07-24</td>\n",
       "      <td>3</td>\n",
       "      <td>NaN</td>\n",
       "      <td>14.0</td>\n",
       "      <td>NaN</td>\n",
       "      <td>9</td>\n",
       "      <td>False</td>\n",
       "      <td>False</td>\n",
       "      <td>False</td>\n",
       "      <td>NaN</td>\n",
       "      <td>0.0</td>\n",
       "      <td>Санкт-Петербург</td>\n",
       "      <td>28098.0</td>\n",
       "      <td>6800.0</td>\n",
       "      <td>2.0</td>\n",
       "      <td>84.0</td>\n",
       "      <td>3.0</td>\n",
       "      <td>234.0</td>\n",
       "      <td>424.0</td>\n",
       "    </tr>\n",
       "    <tr>\n",
       "      <th>4</th>\n",
       "      <td>2</td>\n",
       "      <td>10000000.0</td>\n",
       "      <td>100.0</td>\n",
       "      <td>2018-06-19</td>\n",
       "      <td>2</td>\n",
       "      <td>3.03</td>\n",
       "      <td>14.0</td>\n",
       "      <td>32.0</td>\n",
       "      <td>13</td>\n",
       "      <td>False</td>\n",
       "      <td>False</td>\n",
       "      <td>False</td>\n",
       "      <td>41.0</td>\n",
       "      <td>0.0</td>\n",
       "      <td>Санкт-Петербург</td>\n",
       "      <td>31856.0</td>\n",
       "      <td>8098.0</td>\n",
       "      <td>2.0</td>\n",
       "      <td>112.0</td>\n",
       "      <td>1.0</td>\n",
       "      <td>48.0</td>\n",
       "      <td>121.0</td>\n",
       "    </tr>\n",
       "  </tbody>\n",
       "</table>\n",
       "</div>"
      ],
      "text/plain": [
       "   total_images  last_price  total_area first_day_exposition  rooms  \\\n",
       "0            20  13000000.0       108.0           2019-03-07      3   \n",
       "1             7   3350000.0        40.4           2018-12-04      1   \n",
       "2            10   5196000.0        56.0           2015-08-20      2   \n",
       "3             0  64900000.0       159.0           2015-07-24      3   \n",
       "4             2  10000000.0       100.0           2018-06-19      2   \n",
       "\n",
       "   ceiling_height  floors_total  living_area  floor  is_apartment  studio  \\\n",
       "0            2.70          16.0         51.0      8         False   False   \n",
       "1             NaN          11.0         18.6      1         False   False   \n",
       "2             NaN           5.0         34.3      4         False   False   \n",
       "3             NaN          14.0          NaN      9         False   False   \n",
       "4            3.03          14.0         32.0     13         False   False   \n",
       "\n",
       "   open_plan  kitchen_area  balcony    locality_name  airports_nearest  \\\n",
       "0      False          25.0      0.0  Санкт-Петербург           18863.0   \n",
       "1      False          11.0      2.0   посёлок Шушары           12817.0   \n",
       "2      False           8.3      0.0  Санкт-Петербург           21741.0   \n",
       "3      False           NaN      0.0  Санкт-Петербург           28098.0   \n",
       "4      False          41.0      0.0  Санкт-Петербург           31856.0   \n",
       "\n",
       "   cityCenters_nearest  parks_around3000  parks_nearest  ponds_around3000  \\\n",
       "0              16028.0               1.0          482.0               2.0   \n",
       "1              18603.0               0.0            NaN               0.0   \n",
       "2              13933.0               1.0           90.0               2.0   \n",
       "3               6800.0               2.0           84.0               3.0   \n",
       "4               8098.0               2.0          112.0               1.0   \n",
       "\n",
       "   ponds_nearest  days_exposition  \n",
       "0          755.0              NaN  \n",
       "1            NaN             81.0  \n",
       "2          574.0            558.0  \n",
       "3          234.0            424.0  \n",
       "4           48.0            121.0  "
      ]
     },
     "execution_count": 25,
     "metadata": {},
     "output_type": "execute_result"
    }
   ],
   "source": [
    "data.head() #проверим"
   ]
  },
  {
   "cell_type": "code",
   "execution_count": 26,
   "id": "a56a8bbf",
   "metadata": {},
   "outputs": [],
   "source": [
    "data['last_price'] = data['last_price']/1000000       #заменим огромные числа на миллионы"
   ]
  },
  {
   "cell_type": "code",
   "execution_count": 27,
   "id": "0c28d955",
   "metadata": {},
   "outputs": [
    {
     "data": {
      "text/html": [
       "<div>\n",
       "<style scoped>\n",
       "    .dataframe tbody tr th:only-of-type {\n",
       "        vertical-align: middle;\n",
       "    }\n",
       "\n",
       "    .dataframe tbody tr th {\n",
       "        vertical-align: top;\n",
       "    }\n",
       "\n",
       "    .dataframe thead th {\n",
       "        text-align: right;\n",
       "    }\n",
       "</style>\n",
       "<table border=\"1\" class=\"dataframe\">\n",
       "  <thead>\n",
       "    <tr style=\"text-align: right;\">\n",
       "      <th></th>\n",
       "      <th>total_images</th>\n",
       "      <th>last_price</th>\n",
       "      <th>total_area</th>\n",
       "      <th>first_day_exposition</th>\n",
       "      <th>rooms</th>\n",
       "      <th>ceiling_height</th>\n",
       "      <th>floors_total</th>\n",
       "      <th>living_area</th>\n",
       "      <th>floor</th>\n",
       "      <th>is_apartment</th>\n",
       "      <th>studio</th>\n",
       "      <th>open_plan</th>\n",
       "      <th>kitchen_area</th>\n",
       "      <th>balcony</th>\n",
       "      <th>locality_name</th>\n",
       "      <th>airports_nearest</th>\n",
       "      <th>cityCenters_nearest</th>\n",
       "      <th>parks_around3000</th>\n",
       "      <th>parks_nearest</th>\n",
       "      <th>ponds_around3000</th>\n",
       "      <th>ponds_nearest</th>\n",
       "      <th>days_exposition</th>\n",
       "    </tr>\n",
       "  </thead>\n",
       "  <tbody>\n",
       "    <tr>\n",
       "      <th>0</th>\n",
       "      <td>20</td>\n",
       "      <td>13.000</td>\n",
       "      <td>108.0</td>\n",
       "      <td>2019-03-07</td>\n",
       "      <td>3</td>\n",
       "      <td>2.70</td>\n",
       "      <td>16.0</td>\n",
       "      <td>51.0</td>\n",
       "      <td>8</td>\n",
       "      <td>False</td>\n",
       "      <td>False</td>\n",
       "      <td>False</td>\n",
       "      <td>25.0</td>\n",
       "      <td>0.0</td>\n",
       "      <td>Санкт-Петербург</td>\n",
       "      <td>18863.0</td>\n",
       "      <td>16028.0</td>\n",
       "      <td>1.0</td>\n",
       "      <td>482.0</td>\n",
       "      <td>2.0</td>\n",
       "      <td>755.0</td>\n",
       "      <td>NaN</td>\n",
       "    </tr>\n",
       "    <tr>\n",
       "      <th>1</th>\n",
       "      <td>7</td>\n",
       "      <td>3.350</td>\n",
       "      <td>40.4</td>\n",
       "      <td>2018-12-04</td>\n",
       "      <td>1</td>\n",
       "      <td>NaN</td>\n",
       "      <td>11.0</td>\n",
       "      <td>18.6</td>\n",
       "      <td>1</td>\n",
       "      <td>False</td>\n",
       "      <td>False</td>\n",
       "      <td>False</td>\n",
       "      <td>11.0</td>\n",
       "      <td>2.0</td>\n",
       "      <td>посёлок Шушары</td>\n",
       "      <td>12817.0</td>\n",
       "      <td>18603.0</td>\n",
       "      <td>0.0</td>\n",
       "      <td>NaN</td>\n",
       "      <td>0.0</td>\n",
       "      <td>NaN</td>\n",
       "      <td>81.0</td>\n",
       "    </tr>\n",
       "    <tr>\n",
       "      <th>2</th>\n",
       "      <td>10</td>\n",
       "      <td>5.196</td>\n",
       "      <td>56.0</td>\n",
       "      <td>2015-08-20</td>\n",
       "      <td>2</td>\n",
       "      <td>NaN</td>\n",
       "      <td>5.0</td>\n",
       "      <td>34.3</td>\n",
       "      <td>4</td>\n",
       "      <td>False</td>\n",
       "      <td>False</td>\n",
       "      <td>False</td>\n",
       "      <td>8.3</td>\n",
       "      <td>0.0</td>\n",
       "      <td>Санкт-Петербург</td>\n",
       "      <td>21741.0</td>\n",
       "      <td>13933.0</td>\n",
       "      <td>1.0</td>\n",
       "      <td>90.0</td>\n",
       "      <td>2.0</td>\n",
       "      <td>574.0</td>\n",
       "      <td>558.0</td>\n",
       "    </tr>\n",
       "    <tr>\n",
       "      <th>3</th>\n",
       "      <td>0</td>\n",
       "      <td>64.900</td>\n",
       "      <td>159.0</td>\n",
       "      <td>2015-07-24</td>\n",
       "      <td>3</td>\n",
       "      <td>NaN</td>\n",
       "      <td>14.0</td>\n",
       "      <td>NaN</td>\n",
       "      <td>9</td>\n",
       "      <td>False</td>\n",
       "      <td>False</td>\n",
       "      <td>False</td>\n",
       "      <td>NaN</td>\n",
       "      <td>0.0</td>\n",
       "      <td>Санкт-Петербург</td>\n",
       "      <td>28098.0</td>\n",
       "      <td>6800.0</td>\n",
       "      <td>2.0</td>\n",
       "      <td>84.0</td>\n",
       "      <td>3.0</td>\n",
       "      <td>234.0</td>\n",
       "      <td>424.0</td>\n",
       "    </tr>\n",
       "    <tr>\n",
       "      <th>4</th>\n",
       "      <td>2</td>\n",
       "      <td>10.000</td>\n",
       "      <td>100.0</td>\n",
       "      <td>2018-06-19</td>\n",
       "      <td>2</td>\n",
       "      <td>3.03</td>\n",
       "      <td>14.0</td>\n",
       "      <td>32.0</td>\n",
       "      <td>13</td>\n",
       "      <td>False</td>\n",
       "      <td>False</td>\n",
       "      <td>False</td>\n",
       "      <td>41.0</td>\n",
       "      <td>0.0</td>\n",
       "      <td>Санкт-Петербург</td>\n",
       "      <td>31856.0</td>\n",
       "      <td>8098.0</td>\n",
       "      <td>2.0</td>\n",
       "      <td>112.0</td>\n",
       "      <td>1.0</td>\n",
       "      <td>48.0</td>\n",
       "      <td>121.0</td>\n",
       "    </tr>\n",
       "  </tbody>\n",
       "</table>\n",
       "</div>"
      ],
      "text/plain": [
       "   total_images  last_price  total_area first_day_exposition  rooms  \\\n",
       "0            20      13.000       108.0           2019-03-07      3   \n",
       "1             7       3.350        40.4           2018-12-04      1   \n",
       "2            10       5.196        56.0           2015-08-20      2   \n",
       "3             0      64.900       159.0           2015-07-24      3   \n",
       "4             2      10.000       100.0           2018-06-19      2   \n",
       "\n",
       "   ceiling_height  floors_total  living_area  floor  is_apartment  studio  \\\n",
       "0            2.70          16.0         51.0      8         False   False   \n",
       "1             NaN          11.0         18.6      1         False   False   \n",
       "2             NaN           5.0         34.3      4         False   False   \n",
       "3             NaN          14.0          NaN      9         False   False   \n",
       "4            3.03          14.0         32.0     13         False   False   \n",
       "\n",
       "   open_plan  kitchen_area  balcony    locality_name  airports_nearest  \\\n",
       "0      False          25.0      0.0  Санкт-Петербург           18863.0   \n",
       "1      False          11.0      2.0   посёлок Шушары           12817.0   \n",
       "2      False           8.3      0.0  Санкт-Петербург           21741.0   \n",
       "3      False           NaN      0.0  Санкт-Петербург           28098.0   \n",
       "4      False          41.0      0.0  Санкт-Петербург           31856.0   \n",
       "\n",
       "   cityCenters_nearest  parks_around3000  parks_nearest  ponds_around3000  \\\n",
       "0              16028.0               1.0          482.0               2.0   \n",
       "1              18603.0               0.0            NaN               0.0   \n",
       "2              13933.0               1.0           90.0               2.0   \n",
       "3               6800.0               2.0           84.0               3.0   \n",
       "4               8098.0               2.0          112.0               1.0   \n",
       "\n",
       "   ponds_nearest  days_exposition  \n",
       "0          755.0              NaN  \n",
       "1            NaN             81.0  \n",
       "2          574.0            558.0  \n",
       "3          234.0            424.0  \n",
       "4           48.0            121.0  "
      ]
     },
     "execution_count": 27,
     "metadata": {},
     "output_type": "execute_result"
    }
   ],
   "source": [
    "data.head() #проверим"
   ]
  },
  {
   "cell_type": "code",
   "execution_count": 28,
   "id": "747a79c6",
   "metadata": {},
   "outputs": [
    {
     "data": {
      "text/plain": [
       "1     8036\n",
       "2     7924\n",
       "3     5797\n",
       "4     1175\n",
       "5      326\n",
       "0      197\n",
       "6      105\n",
       "7       59\n",
       "8       12\n",
       "9        8\n",
       "10       3\n",
       "11       2\n",
       "14       2\n",
       "15       1\n",
       "19       1\n",
       "16       1\n",
       "12       1\n",
       "Name: rooms, dtype: int64"
      ]
     },
     "execution_count": 28,
     "metadata": {},
     "output_type": "execute_result"
    }
   ],
   "source": [
    "data['rooms'].value_counts() #проверим столбец с количеством комнат"
   ]
  },
  {
   "cell_type": "markdown",
   "id": "3c35baf1",
   "metadata": {},
   "source": [
    "Нулевых значений аж 197 штук. Отсутствие комнат в квартире быть не может, или это уже не квартира. \n",
    "Поменяем нули на среднее значение"
   ]
  },
  {
   "cell_type": "code",
   "execution_count": 29,
   "id": "ab274b04",
   "metadata": {},
   "outputs": [
    {
     "data": {
      "text/plain": [
       "2.070105708245243"
      ]
     },
     "execution_count": 29,
     "metadata": {},
     "output_type": "execute_result"
    }
   ],
   "source": [
    "data['rooms'].mean()"
   ]
  },
  {
   "cell_type": "code",
   "execution_count": 30,
   "id": "9b9fb242",
   "metadata": {},
   "outputs": [],
   "source": [
    "data.loc[data['rooms'] == 0, 'rooms'] = 2"
   ]
  },
  {
   "cell_type": "code",
   "execution_count": 31,
   "id": "89031b39",
   "metadata": {},
   "outputs": [
    {
     "data": {
      "text/plain": [
       "2     8121\n",
       "1     8036\n",
       "3     5797\n",
       "4     1175\n",
       "5      326\n",
       "6      105\n",
       "7       59\n",
       "8       12\n",
       "9        8\n",
       "10       3\n",
       "11       2\n",
       "14       2\n",
       "15       1\n",
       "19       1\n",
       "16       1\n",
       "12       1\n",
       "Name: rooms, dtype: int64"
      ]
     },
     "execution_count": 31,
     "metadata": {},
     "output_type": "execute_result"
    }
   ],
   "source": [
    "data['rooms'].value_counts()"
   ]
  },
  {
   "cell_type": "code",
   "execution_count": 32,
   "id": "0938c34d",
   "metadata": {},
   "outputs": [
    {
     "data": {
      "text/plain": [
       "array([ 1.,  2.,  3.,  4.,  5.,  6.,  7.,  8.,  9., 10., 11., 12., 13.,\n",
       "       14., 15., 16., 17., 18., 19., 20., 21., 22., 23., 24., 25., 26.,\n",
       "       27., 28., 29., 33., 34., 35., 36., 37., 52., 60., nan])"
      ]
     },
     "execution_count": 32,
     "metadata": {},
     "output_type": "execute_result"
    }
   ],
   "source": [
    "data['floors_total'].sort_values().unique()  #посмотрим на уникальные значения"
   ]
  },
  {
   "cell_type": "code",
   "execution_count": 33,
   "id": "9e82236a",
   "metadata": {},
   "outputs": [
    {
     "data": {
      "text/plain": [
       "85"
      ]
     },
     "execution_count": 33,
     "metadata": {},
     "output_type": "execute_result"
    }
   ],
   "source": [
    "data['floors_total'].isna().sum()"
   ]
  },
  {
   "cell_type": "markdown",
   "id": "613fb55a",
   "metadata": {},
   "source": [
    "Пропусков немного, но оставим их, данные могут быть полезны.\n",
    "А вот значения 52 и 60 этажей вызывают сомнения, таких высоких зданий в Спб и его пригородах практически нет. Если не брать в расчет Лахта-центр"
   ]
  },
  {
   "cell_type": "code",
   "execution_count": 34,
   "id": "fa5d5443",
   "metadata": {},
   "outputs": [
    {
     "data": {
      "text/html": [
       "<div>\n",
       "<style scoped>\n",
       "    .dataframe tbody tr th:only-of-type {\n",
       "        vertical-align: middle;\n",
       "    }\n",
       "\n",
       "    .dataframe tbody tr th {\n",
       "        vertical-align: top;\n",
       "    }\n",
       "\n",
       "    .dataframe thead th {\n",
       "        text-align: right;\n",
       "    }\n",
       "</style>\n",
       "<table border=\"1\" class=\"dataframe\">\n",
       "  <thead>\n",
       "    <tr style=\"text-align: right;\">\n",
       "      <th></th>\n",
       "      <th>total_images</th>\n",
       "      <th>last_price</th>\n",
       "      <th>total_area</th>\n",
       "      <th>first_day_exposition</th>\n",
       "      <th>rooms</th>\n",
       "      <th>ceiling_height</th>\n",
       "      <th>floors_total</th>\n",
       "      <th>living_area</th>\n",
       "      <th>floor</th>\n",
       "      <th>is_apartment</th>\n",
       "      <th>studio</th>\n",
       "      <th>open_plan</th>\n",
       "      <th>kitchen_area</th>\n",
       "      <th>balcony</th>\n",
       "      <th>locality_name</th>\n",
       "      <th>airports_nearest</th>\n",
       "      <th>cityCenters_nearest</th>\n",
       "      <th>parks_around3000</th>\n",
       "      <th>parks_nearest</th>\n",
       "      <th>ponds_around3000</th>\n",
       "      <th>ponds_nearest</th>\n",
       "      <th>days_exposition</th>\n",
       "    </tr>\n",
       "  </thead>\n",
       "  <tbody>\n",
       "    <tr>\n",
       "      <th>2253</th>\n",
       "      <td>12</td>\n",
       "      <td>3.800</td>\n",
       "      <td>45.5</td>\n",
       "      <td>2018-06-28</td>\n",
       "      <td>2</td>\n",
       "      <td>2.88</td>\n",
       "      <td>60.0</td>\n",
       "      <td>27.4</td>\n",
       "      <td>4</td>\n",
       "      <td>False</td>\n",
       "      <td>False</td>\n",
       "      <td>False</td>\n",
       "      <td>7.4</td>\n",
       "      <td>0.0</td>\n",
       "      <td>Кронштадт</td>\n",
       "      <td>67763.0</td>\n",
       "      <td>49488.0</td>\n",
       "      <td>2.0</td>\n",
       "      <td>342.0</td>\n",
       "      <td>3.0</td>\n",
       "      <td>614.0</td>\n",
       "      <td>166.0</td>\n",
       "    </tr>\n",
       "    <tr>\n",
       "      <th>16731</th>\n",
       "      <td>9</td>\n",
       "      <td>3.978</td>\n",
       "      <td>40.0</td>\n",
       "      <td>2018-09-24</td>\n",
       "      <td>1</td>\n",
       "      <td>2.65</td>\n",
       "      <td>52.0</td>\n",
       "      <td>10.5</td>\n",
       "      <td>18</td>\n",
       "      <td>False</td>\n",
       "      <td>False</td>\n",
       "      <td>False</td>\n",
       "      <td>14.0</td>\n",
       "      <td>0.0</td>\n",
       "      <td>Санкт-Петербург</td>\n",
       "      <td>20728.0</td>\n",
       "      <td>12978.0</td>\n",
       "      <td>1.0</td>\n",
       "      <td>793.0</td>\n",
       "      <td>0.0</td>\n",
       "      <td>NaN</td>\n",
       "      <td>45.0</td>\n",
       "    </tr>\n",
       "  </tbody>\n",
       "</table>\n",
       "</div>"
      ],
      "text/plain": [
       "       total_images  last_price  total_area first_day_exposition  rooms  \\\n",
       "2253             12       3.800        45.5           2018-06-28      2   \n",
       "16731             9       3.978        40.0           2018-09-24      1   \n",
       "\n",
       "       ceiling_height  floors_total  living_area  floor  is_apartment  studio  \\\n",
       "2253             2.88          60.0         27.4      4         False   False   \n",
       "16731            2.65          52.0         10.5     18         False   False   \n",
       "\n",
       "       open_plan  kitchen_area  balcony    locality_name  airports_nearest  \\\n",
       "2253       False           7.4      0.0        Кронштадт           67763.0   \n",
       "16731      False          14.0      0.0  Санкт-Петербург           20728.0   \n",
       "\n",
       "       cityCenters_nearest  parks_around3000  parks_nearest  ponds_around3000  \\\n",
       "2253               49488.0               2.0          342.0               3.0   \n",
       "16731              12978.0               1.0          793.0               0.0   \n",
       "\n",
       "       ponds_nearest  days_exposition  \n",
       "2253           614.0            166.0  \n",
       "16731            NaN             45.0  "
      ]
     },
     "execution_count": 34,
     "metadata": {},
     "output_type": "execute_result"
    }
   ],
   "source": [
    "data[(data['floors_total']>= 52)] #выведем срез данных сомнительных значений"
   ]
  },
  {
   "cell_type": "markdown",
   "id": "46f1ae41",
   "metadata": {},
   "source": [
    "В Кронштадте жилых зданий высотой в 60 этажей нет. Да и в Спб высотой в 52 этажа тоже.\n",
    "Всего 2 строки, удаляем их, дабы избежать ненужных выбросов"
   ]
  },
  {
   "cell_type": "code",
   "execution_count": 35,
   "id": "ce88114a",
   "metadata": {},
   "outputs": [],
   "source": [
    "data = data.loc[(data['floors_total']<52)] #удалим выбросы и сбросим индексирование"
   ]
  },
  {
   "cell_type": "code",
   "execution_count": 36,
   "id": "29c96ebf",
   "metadata": {},
   "outputs": [
    {
     "data": {
      "text/plain": [
       "array([ 1.,  2.,  3.,  4.,  5.,  6.,  7.,  8.,  9., 10., 11., 12., 13.,\n",
       "       14., 15., 16., 17., 18., 19., 20., 21., 22., 23., 24., 25., 26.,\n",
       "       27., 28., 29., 33., 34., 35., 36., 37.])"
      ]
     },
     "execution_count": 36,
     "metadata": {},
     "output_type": "execute_result"
    }
   ],
   "source": [
    "data['floors_total'].sort_values().unique() #проверим"
   ]
  },
  {
   "cell_type": "code",
   "execution_count": 37,
   "id": "17bf632a",
   "metadata": {},
   "outputs": [],
   "source": [
    "data = data.rename(columns={'cityCenters_nearest': 'city_centers_nearest'}) #переименуем столбец"
   ]
  },
  {
   "cell_type": "code",
   "execution_count": 38,
   "id": "c5bd6f92",
   "metadata": {},
   "outputs": [
    {
     "name": "stdout",
     "output_type": "stream",
     "text": [
      "<class 'pandas.core.frame.DataFrame'>\n",
      "Int64Index: 23563 entries, 0 to 23698\n",
      "Data columns (total 22 columns):\n",
      " #   Column                Non-Null Count  Dtype         \n",
      "---  ------                --------------  -----         \n",
      " 0   total_images          23563 non-null  int64         \n",
      " 1   last_price            23563 non-null  float64       \n",
      " 2   total_area            23563 non-null  float64       \n",
      " 3   first_day_exposition  23563 non-null  datetime64[ns]\n",
      " 4   rooms                 23563 non-null  int64         \n",
      " 5   ceiling_height        14479 non-null  float64       \n",
      " 6   floors_total          23563 non-null  float64       \n",
      " 7   living_area           21698 non-null  float64       \n",
      " 8   floor                 23563 non-null  int64         \n",
      " 9   is_apartment          23563 non-null  bool          \n",
      " 10  studio                23563 non-null  bool          \n",
      " 11  open_plan             23563 non-null  bool          \n",
      " 12  kitchen_area          21341 non-null  float64       \n",
      " 13  balcony               23563 non-null  float64       \n",
      " 14  locality_name         23563 non-null  object        \n",
      " 15  airports_nearest      18039 non-null  float64       \n",
      " 16  city_centers_nearest  18062 non-null  float64       \n",
      " 17  parks_around3000      18063 non-null  float64       \n",
      " 18  parks_nearest         8028 non-null   float64       \n",
      " 19  ponds_around3000      18063 non-null  float64       \n",
      " 20  ponds_nearest         9035 non-null   float64       \n",
      " 21  days_exposition       20392 non-null  float64       \n",
      "dtypes: bool(3), datetime64[ns](1), float64(14), int64(3), object(1)\n",
      "memory usage: 3.7+ MB\n"
     ]
    }
   ],
   "source": [
    "data.info() #проверим"
   ]
  },
  {
   "cell_type": "markdown",
   "id": "69651ee6",
   "metadata": {},
   "source": [
    "## Этап 3. Расчитаем и добавим в таблицу"
   ]
  },
  {
   "cell_type": "markdown",
   "id": "0964c92e",
   "metadata": {},
   "source": [
    "#### Цена квадратного метра:"
   ]
  },
  {
   "cell_type": "code",
   "execution_count": 39,
   "id": "1b0e6208",
   "metadata": {},
   "outputs": [],
   "source": [
    "data['price_meter'] = data['last_price'] / data['total_area']*1000000 #добавим столбец с расчитанной ценой метра2\n",
    "data['price_meter'] = data['price_meter'].round(decimals=2) #оставим две цифры после запятой"
   ]
  },
  {
   "cell_type": "code",
   "execution_count": 40,
   "id": "88b02a28",
   "metadata": {},
   "outputs": [
    {
     "data": {
      "text/html": [
       "<div>\n",
       "<style scoped>\n",
       "    .dataframe tbody tr th:only-of-type {\n",
       "        vertical-align: middle;\n",
       "    }\n",
       "\n",
       "    .dataframe tbody tr th {\n",
       "        vertical-align: top;\n",
       "    }\n",
       "\n",
       "    .dataframe thead th {\n",
       "        text-align: right;\n",
       "    }\n",
       "</style>\n",
       "<table border=\"1\" class=\"dataframe\">\n",
       "  <thead>\n",
       "    <tr style=\"text-align: right;\">\n",
       "      <th></th>\n",
       "      <th>total_images</th>\n",
       "      <th>last_price</th>\n",
       "      <th>total_area</th>\n",
       "      <th>first_day_exposition</th>\n",
       "      <th>rooms</th>\n",
       "      <th>ceiling_height</th>\n",
       "      <th>floors_total</th>\n",
       "      <th>living_area</th>\n",
       "      <th>floor</th>\n",
       "      <th>is_apartment</th>\n",
       "      <th>studio</th>\n",
       "      <th>open_plan</th>\n",
       "      <th>kitchen_area</th>\n",
       "      <th>balcony</th>\n",
       "      <th>locality_name</th>\n",
       "      <th>airports_nearest</th>\n",
       "      <th>city_centers_nearest</th>\n",
       "      <th>parks_around3000</th>\n",
       "      <th>parks_nearest</th>\n",
       "      <th>ponds_around3000</th>\n",
       "      <th>ponds_nearest</th>\n",
       "      <th>days_exposition</th>\n",
       "      <th>price_meter</th>\n",
       "    </tr>\n",
       "  </thead>\n",
       "  <tbody>\n",
       "    <tr>\n",
       "      <th>0</th>\n",
       "      <td>20</td>\n",
       "      <td>13.000</td>\n",
       "      <td>108.0</td>\n",
       "      <td>2019-03-07</td>\n",
       "      <td>3</td>\n",
       "      <td>2.70</td>\n",
       "      <td>16.0</td>\n",
       "      <td>51.0</td>\n",
       "      <td>8</td>\n",
       "      <td>False</td>\n",
       "      <td>False</td>\n",
       "      <td>False</td>\n",
       "      <td>25.0</td>\n",
       "      <td>0.0</td>\n",
       "      <td>Санкт-Петербург</td>\n",
       "      <td>18863.0</td>\n",
       "      <td>16028.0</td>\n",
       "      <td>1.0</td>\n",
       "      <td>482.0</td>\n",
       "      <td>2.0</td>\n",
       "      <td>755.0</td>\n",
       "      <td>NaN</td>\n",
       "      <td>120370.37</td>\n",
       "    </tr>\n",
       "    <tr>\n",
       "      <th>1</th>\n",
       "      <td>7</td>\n",
       "      <td>3.350</td>\n",
       "      <td>40.4</td>\n",
       "      <td>2018-12-04</td>\n",
       "      <td>1</td>\n",
       "      <td>NaN</td>\n",
       "      <td>11.0</td>\n",
       "      <td>18.6</td>\n",
       "      <td>1</td>\n",
       "      <td>False</td>\n",
       "      <td>False</td>\n",
       "      <td>False</td>\n",
       "      <td>11.0</td>\n",
       "      <td>2.0</td>\n",
       "      <td>посёлок Шушары</td>\n",
       "      <td>12817.0</td>\n",
       "      <td>18603.0</td>\n",
       "      <td>0.0</td>\n",
       "      <td>NaN</td>\n",
       "      <td>0.0</td>\n",
       "      <td>NaN</td>\n",
       "      <td>81.0</td>\n",
       "      <td>82920.79</td>\n",
       "    </tr>\n",
       "    <tr>\n",
       "      <th>2</th>\n",
       "      <td>10</td>\n",
       "      <td>5.196</td>\n",
       "      <td>56.0</td>\n",
       "      <td>2015-08-20</td>\n",
       "      <td>2</td>\n",
       "      <td>NaN</td>\n",
       "      <td>5.0</td>\n",
       "      <td>34.3</td>\n",
       "      <td>4</td>\n",
       "      <td>False</td>\n",
       "      <td>False</td>\n",
       "      <td>False</td>\n",
       "      <td>8.3</td>\n",
       "      <td>0.0</td>\n",
       "      <td>Санкт-Петербург</td>\n",
       "      <td>21741.0</td>\n",
       "      <td>13933.0</td>\n",
       "      <td>1.0</td>\n",
       "      <td>90.0</td>\n",
       "      <td>2.0</td>\n",
       "      <td>574.0</td>\n",
       "      <td>558.0</td>\n",
       "      <td>92785.71</td>\n",
       "    </tr>\n",
       "    <tr>\n",
       "      <th>3</th>\n",
       "      <td>0</td>\n",
       "      <td>64.900</td>\n",
       "      <td>159.0</td>\n",
       "      <td>2015-07-24</td>\n",
       "      <td>3</td>\n",
       "      <td>NaN</td>\n",
       "      <td>14.0</td>\n",
       "      <td>NaN</td>\n",
       "      <td>9</td>\n",
       "      <td>False</td>\n",
       "      <td>False</td>\n",
       "      <td>False</td>\n",
       "      <td>NaN</td>\n",
       "      <td>0.0</td>\n",
       "      <td>Санкт-Петербург</td>\n",
       "      <td>28098.0</td>\n",
       "      <td>6800.0</td>\n",
       "      <td>2.0</td>\n",
       "      <td>84.0</td>\n",
       "      <td>3.0</td>\n",
       "      <td>234.0</td>\n",
       "      <td>424.0</td>\n",
       "      <td>408176.10</td>\n",
       "    </tr>\n",
       "    <tr>\n",
       "      <th>4</th>\n",
       "      <td>2</td>\n",
       "      <td>10.000</td>\n",
       "      <td>100.0</td>\n",
       "      <td>2018-06-19</td>\n",
       "      <td>2</td>\n",
       "      <td>3.03</td>\n",
       "      <td>14.0</td>\n",
       "      <td>32.0</td>\n",
       "      <td>13</td>\n",
       "      <td>False</td>\n",
       "      <td>False</td>\n",
       "      <td>False</td>\n",
       "      <td>41.0</td>\n",
       "      <td>0.0</td>\n",
       "      <td>Санкт-Петербург</td>\n",
       "      <td>31856.0</td>\n",
       "      <td>8098.0</td>\n",
       "      <td>2.0</td>\n",
       "      <td>112.0</td>\n",
       "      <td>1.0</td>\n",
       "      <td>48.0</td>\n",
       "      <td>121.0</td>\n",
       "      <td>100000.00</td>\n",
       "    </tr>\n",
       "  </tbody>\n",
       "</table>\n",
       "</div>"
      ],
      "text/plain": [
       "   total_images  last_price  total_area first_day_exposition  rooms  \\\n",
       "0            20      13.000       108.0           2019-03-07      3   \n",
       "1             7       3.350        40.4           2018-12-04      1   \n",
       "2            10       5.196        56.0           2015-08-20      2   \n",
       "3             0      64.900       159.0           2015-07-24      3   \n",
       "4             2      10.000       100.0           2018-06-19      2   \n",
       "\n",
       "   ceiling_height  floors_total  living_area  floor  is_apartment  studio  \\\n",
       "0            2.70          16.0         51.0      8         False   False   \n",
       "1             NaN          11.0         18.6      1         False   False   \n",
       "2             NaN           5.0         34.3      4         False   False   \n",
       "3             NaN          14.0          NaN      9         False   False   \n",
       "4            3.03          14.0         32.0     13         False   False   \n",
       "\n",
       "   open_plan  kitchen_area  balcony    locality_name  airports_nearest  \\\n",
       "0      False          25.0      0.0  Санкт-Петербург           18863.0   \n",
       "1      False          11.0      2.0   посёлок Шушары           12817.0   \n",
       "2      False           8.3      0.0  Санкт-Петербург           21741.0   \n",
       "3      False           NaN      0.0  Санкт-Петербург           28098.0   \n",
       "4      False          41.0      0.0  Санкт-Петербург           31856.0   \n",
       "\n",
       "   city_centers_nearest  parks_around3000  parks_nearest  ponds_around3000  \\\n",
       "0               16028.0               1.0          482.0               2.0   \n",
       "1               18603.0               0.0            NaN               0.0   \n",
       "2               13933.0               1.0           90.0               2.0   \n",
       "3                6800.0               2.0           84.0               3.0   \n",
       "4                8098.0               2.0          112.0               1.0   \n",
       "\n",
       "   ponds_nearest  days_exposition  price_meter  \n",
       "0          755.0              NaN    120370.37  \n",
       "1            NaN             81.0     82920.79  \n",
       "2          574.0            558.0     92785.71  \n",
       "3          234.0            424.0    408176.10  \n",
       "4           48.0            121.0    100000.00  "
      ]
     },
     "execution_count": 40,
     "metadata": {},
     "output_type": "execute_result"
    }
   ],
   "source": [
    "data.head() #проверим"
   ]
  },
  {
   "cell_type": "markdown",
   "id": "e90c0df6",
   "metadata": {},
   "source": [
    "#### День недели, месяц и год публикации объявления:"
   ]
  },
  {
   "cell_type": "code",
   "execution_count": 42,
   "id": "bc1f591d",
   "metadata": {},
   "outputs": [],
   "source": [
    "data['day'] = data['first_day_exposition'].dt.weekday        #добавим столбец с днями недели\n",
    "data['month'] = data['first_day_exposition'].dt.month    #также с месяцами\n",
    "data['year'] = data['first_day_exposition'].dt.year             #и годами"
   ]
  },
  {
   "cell_type": "code",
   "execution_count": 43,
   "id": "8e0c905b",
   "metadata": {},
   "outputs": [
    {
     "data": {
      "text/html": [
       "<div>\n",
       "<style scoped>\n",
       "    .dataframe tbody tr th:only-of-type {\n",
       "        vertical-align: middle;\n",
       "    }\n",
       "\n",
       "    .dataframe tbody tr th {\n",
       "        vertical-align: top;\n",
       "    }\n",
       "\n",
       "    .dataframe thead th {\n",
       "        text-align: right;\n",
       "    }\n",
       "</style>\n",
       "<table border=\"1\" class=\"dataframe\">\n",
       "  <thead>\n",
       "    <tr style=\"text-align: right;\">\n",
       "      <th></th>\n",
       "      <th>total_images</th>\n",
       "      <th>last_price</th>\n",
       "      <th>total_area</th>\n",
       "      <th>first_day_exposition</th>\n",
       "      <th>rooms</th>\n",
       "      <th>ceiling_height</th>\n",
       "      <th>floors_total</th>\n",
       "      <th>living_area</th>\n",
       "      <th>floor</th>\n",
       "      <th>is_apartment</th>\n",
       "      <th>studio</th>\n",
       "      <th>open_plan</th>\n",
       "      <th>kitchen_area</th>\n",
       "      <th>balcony</th>\n",
       "      <th>locality_name</th>\n",
       "      <th>airports_nearest</th>\n",
       "      <th>city_centers_nearest</th>\n",
       "      <th>parks_around3000</th>\n",
       "      <th>parks_nearest</th>\n",
       "      <th>ponds_around3000</th>\n",
       "      <th>ponds_nearest</th>\n",
       "      <th>days_exposition</th>\n",
       "      <th>price_meter</th>\n",
       "      <th>day</th>\n",
       "      <th>month</th>\n",
       "      <th>year</th>\n",
       "    </tr>\n",
       "  </thead>\n",
       "  <tbody>\n",
       "    <tr>\n",
       "      <th>0</th>\n",
       "      <td>20</td>\n",
       "      <td>13.000</td>\n",
       "      <td>108.0</td>\n",
       "      <td>2019-03-07</td>\n",
       "      <td>3</td>\n",
       "      <td>2.70</td>\n",
       "      <td>16.0</td>\n",
       "      <td>51.0</td>\n",
       "      <td>8</td>\n",
       "      <td>False</td>\n",
       "      <td>False</td>\n",
       "      <td>False</td>\n",
       "      <td>25.0</td>\n",
       "      <td>0.0</td>\n",
       "      <td>Санкт-Петербург</td>\n",
       "      <td>18863.0</td>\n",
       "      <td>16028.0</td>\n",
       "      <td>1.0</td>\n",
       "      <td>482.0</td>\n",
       "      <td>2.0</td>\n",
       "      <td>755.0</td>\n",
       "      <td>NaN</td>\n",
       "      <td>120370.37</td>\n",
       "      <td>3</td>\n",
       "      <td>3</td>\n",
       "      <td>2019</td>\n",
       "    </tr>\n",
       "    <tr>\n",
       "      <th>1</th>\n",
       "      <td>7</td>\n",
       "      <td>3.350</td>\n",
       "      <td>40.4</td>\n",
       "      <td>2018-12-04</td>\n",
       "      <td>1</td>\n",
       "      <td>NaN</td>\n",
       "      <td>11.0</td>\n",
       "      <td>18.6</td>\n",
       "      <td>1</td>\n",
       "      <td>False</td>\n",
       "      <td>False</td>\n",
       "      <td>False</td>\n",
       "      <td>11.0</td>\n",
       "      <td>2.0</td>\n",
       "      <td>посёлок Шушары</td>\n",
       "      <td>12817.0</td>\n",
       "      <td>18603.0</td>\n",
       "      <td>0.0</td>\n",
       "      <td>NaN</td>\n",
       "      <td>0.0</td>\n",
       "      <td>NaN</td>\n",
       "      <td>81.0</td>\n",
       "      <td>82920.79</td>\n",
       "      <td>1</td>\n",
       "      <td>12</td>\n",
       "      <td>2018</td>\n",
       "    </tr>\n",
       "    <tr>\n",
       "      <th>2</th>\n",
       "      <td>10</td>\n",
       "      <td>5.196</td>\n",
       "      <td>56.0</td>\n",
       "      <td>2015-08-20</td>\n",
       "      <td>2</td>\n",
       "      <td>NaN</td>\n",
       "      <td>5.0</td>\n",
       "      <td>34.3</td>\n",
       "      <td>4</td>\n",
       "      <td>False</td>\n",
       "      <td>False</td>\n",
       "      <td>False</td>\n",
       "      <td>8.3</td>\n",
       "      <td>0.0</td>\n",
       "      <td>Санкт-Петербург</td>\n",
       "      <td>21741.0</td>\n",
       "      <td>13933.0</td>\n",
       "      <td>1.0</td>\n",
       "      <td>90.0</td>\n",
       "      <td>2.0</td>\n",
       "      <td>574.0</td>\n",
       "      <td>558.0</td>\n",
       "      <td>92785.71</td>\n",
       "      <td>3</td>\n",
       "      <td>8</td>\n",
       "      <td>2015</td>\n",
       "    </tr>\n",
       "    <tr>\n",
       "      <th>3</th>\n",
       "      <td>0</td>\n",
       "      <td>64.900</td>\n",
       "      <td>159.0</td>\n",
       "      <td>2015-07-24</td>\n",
       "      <td>3</td>\n",
       "      <td>NaN</td>\n",
       "      <td>14.0</td>\n",
       "      <td>NaN</td>\n",
       "      <td>9</td>\n",
       "      <td>False</td>\n",
       "      <td>False</td>\n",
       "      <td>False</td>\n",
       "      <td>NaN</td>\n",
       "      <td>0.0</td>\n",
       "      <td>Санкт-Петербург</td>\n",
       "      <td>28098.0</td>\n",
       "      <td>6800.0</td>\n",
       "      <td>2.0</td>\n",
       "      <td>84.0</td>\n",
       "      <td>3.0</td>\n",
       "      <td>234.0</td>\n",
       "      <td>424.0</td>\n",
       "      <td>408176.10</td>\n",
       "      <td>4</td>\n",
       "      <td>7</td>\n",
       "      <td>2015</td>\n",
       "    </tr>\n",
       "    <tr>\n",
       "      <th>4</th>\n",
       "      <td>2</td>\n",
       "      <td>10.000</td>\n",
       "      <td>100.0</td>\n",
       "      <td>2018-06-19</td>\n",
       "      <td>2</td>\n",
       "      <td>3.03</td>\n",
       "      <td>14.0</td>\n",
       "      <td>32.0</td>\n",
       "      <td>13</td>\n",
       "      <td>False</td>\n",
       "      <td>False</td>\n",
       "      <td>False</td>\n",
       "      <td>41.0</td>\n",
       "      <td>0.0</td>\n",
       "      <td>Санкт-Петербург</td>\n",
       "      <td>31856.0</td>\n",
       "      <td>8098.0</td>\n",
       "      <td>2.0</td>\n",
       "      <td>112.0</td>\n",
       "      <td>1.0</td>\n",
       "      <td>48.0</td>\n",
       "      <td>121.0</td>\n",
       "      <td>100000.00</td>\n",
       "      <td>1</td>\n",
       "      <td>6</td>\n",
       "      <td>2018</td>\n",
       "    </tr>\n",
       "  </tbody>\n",
       "</table>\n",
       "</div>"
      ],
      "text/plain": [
       "   total_images  last_price  total_area first_day_exposition  rooms  \\\n",
       "0            20      13.000       108.0           2019-03-07      3   \n",
       "1             7       3.350        40.4           2018-12-04      1   \n",
       "2            10       5.196        56.0           2015-08-20      2   \n",
       "3             0      64.900       159.0           2015-07-24      3   \n",
       "4             2      10.000       100.0           2018-06-19      2   \n",
       "\n",
       "   ceiling_height  floors_total  living_area  floor  is_apartment  studio  \\\n",
       "0            2.70          16.0         51.0      8         False   False   \n",
       "1             NaN          11.0         18.6      1         False   False   \n",
       "2             NaN           5.0         34.3      4         False   False   \n",
       "3             NaN          14.0          NaN      9         False   False   \n",
       "4            3.03          14.0         32.0     13         False   False   \n",
       "\n",
       "   open_plan  kitchen_area  balcony    locality_name  airports_nearest  \\\n",
       "0      False          25.0      0.0  Санкт-Петербург           18863.0   \n",
       "1      False          11.0      2.0   посёлок Шушары           12817.0   \n",
       "2      False           8.3      0.0  Санкт-Петербург           21741.0   \n",
       "3      False           NaN      0.0  Санкт-Петербург           28098.0   \n",
       "4      False          41.0      0.0  Санкт-Петербург           31856.0   \n",
       "\n",
       "   city_centers_nearest  parks_around3000  parks_nearest  ponds_around3000  \\\n",
       "0               16028.0               1.0          482.0               2.0   \n",
       "1               18603.0               0.0            NaN               0.0   \n",
       "2               13933.0               1.0           90.0               2.0   \n",
       "3                6800.0               2.0           84.0               3.0   \n",
       "4                8098.0               2.0          112.0               1.0   \n",
       "\n",
       "   ponds_nearest  days_exposition  price_meter  day  month  year  \n",
       "0          755.0              NaN    120370.37    3      3  2019  \n",
       "1            NaN             81.0     82920.79    1     12  2018  \n",
       "2          574.0            558.0     92785.71    3      8  2015  \n",
       "3          234.0            424.0    408176.10    4      7  2015  \n",
       "4           48.0            121.0    100000.00    1      6  2018  "
      ]
     },
     "execution_count": 43,
     "metadata": {},
     "output_type": "execute_result"
    }
   ],
   "source": [
    "data.head()  #посмотрим результат"
   ]
  },
  {
   "cell_type": "markdown",
   "id": "0e2d7e05",
   "metadata": {},
   "source": [
    "#### Этаж квартиры:\n",
    "варианты\n",
    "- первый\n",
    "- последний\n",
    "- другой"
   ]
  },
  {
   "cell_type": "code",
   "execution_count": 44,
   "id": "b46d814b",
   "metadata": {},
   "outputs": [],
   "source": [
    "def floor_level(row):       #напишем функцию для категоризации квартир по этажам\n",
    "    if row['floor'] == 1:\n",
    "        return 'первый'\n",
    "    elif row['floor'] == row['floors_total']:\n",
    "        return 'последний'\n",
    "    else:\n",
    "        return 'другой'"
   ]
  },
  {
   "cell_type": "code",
   "execution_count": 45,
   "id": "780f7e44",
   "metadata": {},
   "outputs": [],
   "source": [
    "data['floor_level'] = data.apply(floor_level, axis=1)  #добавим столбец с условием функции"
   ]
  },
  {
   "cell_type": "code",
   "execution_count": 46,
   "id": "bcb4eb2b",
   "metadata": {},
   "outputs": [
    {
     "data": {
      "text/html": [
       "<div>\n",
       "<style scoped>\n",
       "    .dataframe tbody tr th:only-of-type {\n",
       "        vertical-align: middle;\n",
       "    }\n",
       "\n",
       "    .dataframe tbody tr th {\n",
       "        vertical-align: top;\n",
       "    }\n",
       "\n",
       "    .dataframe thead th {\n",
       "        text-align: right;\n",
       "    }\n",
       "</style>\n",
       "<table border=\"1\" class=\"dataframe\">\n",
       "  <thead>\n",
       "    <tr style=\"text-align: right;\">\n",
       "      <th></th>\n",
       "      <th>total_images</th>\n",
       "      <th>last_price</th>\n",
       "      <th>total_area</th>\n",
       "      <th>first_day_exposition</th>\n",
       "      <th>rooms</th>\n",
       "      <th>ceiling_height</th>\n",
       "      <th>floors_total</th>\n",
       "      <th>living_area</th>\n",
       "      <th>floor</th>\n",
       "      <th>is_apartment</th>\n",
       "      <th>studio</th>\n",
       "      <th>open_plan</th>\n",
       "      <th>kitchen_area</th>\n",
       "      <th>balcony</th>\n",
       "      <th>locality_name</th>\n",
       "      <th>airports_nearest</th>\n",
       "      <th>city_centers_nearest</th>\n",
       "      <th>parks_around3000</th>\n",
       "      <th>parks_nearest</th>\n",
       "      <th>ponds_around3000</th>\n",
       "      <th>ponds_nearest</th>\n",
       "      <th>days_exposition</th>\n",
       "      <th>price_meter</th>\n",
       "      <th>day</th>\n",
       "      <th>month</th>\n",
       "      <th>year</th>\n",
       "      <th>floor_level</th>\n",
       "    </tr>\n",
       "  </thead>\n",
       "  <tbody>\n",
       "    <tr>\n",
       "      <th>0</th>\n",
       "      <td>20</td>\n",
       "      <td>13.000</td>\n",
       "      <td>108.0</td>\n",
       "      <td>2019-03-07</td>\n",
       "      <td>3</td>\n",
       "      <td>2.70</td>\n",
       "      <td>16.0</td>\n",
       "      <td>51.0</td>\n",
       "      <td>8</td>\n",
       "      <td>False</td>\n",
       "      <td>False</td>\n",
       "      <td>False</td>\n",
       "      <td>25.0</td>\n",
       "      <td>0.0</td>\n",
       "      <td>Санкт-Петербург</td>\n",
       "      <td>18863.0</td>\n",
       "      <td>16028.0</td>\n",
       "      <td>1.0</td>\n",
       "      <td>482.0</td>\n",
       "      <td>2.0</td>\n",
       "      <td>755.0</td>\n",
       "      <td>NaN</td>\n",
       "      <td>120370.37</td>\n",
       "      <td>3</td>\n",
       "      <td>3</td>\n",
       "      <td>2019</td>\n",
       "      <td>другой</td>\n",
       "    </tr>\n",
       "    <tr>\n",
       "      <th>1</th>\n",
       "      <td>7</td>\n",
       "      <td>3.350</td>\n",
       "      <td>40.4</td>\n",
       "      <td>2018-12-04</td>\n",
       "      <td>1</td>\n",
       "      <td>NaN</td>\n",
       "      <td>11.0</td>\n",
       "      <td>18.6</td>\n",
       "      <td>1</td>\n",
       "      <td>False</td>\n",
       "      <td>False</td>\n",
       "      <td>False</td>\n",
       "      <td>11.0</td>\n",
       "      <td>2.0</td>\n",
       "      <td>посёлок Шушары</td>\n",
       "      <td>12817.0</td>\n",
       "      <td>18603.0</td>\n",
       "      <td>0.0</td>\n",
       "      <td>NaN</td>\n",
       "      <td>0.0</td>\n",
       "      <td>NaN</td>\n",
       "      <td>81.0</td>\n",
       "      <td>82920.79</td>\n",
       "      <td>1</td>\n",
       "      <td>12</td>\n",
       "      <td>2018</td>\n",
       "      <td>первый</td>\n",
       "    </tr>\n",
       "    <tr>\n",
       "      <th>2</th>\n",
       "      <td>10</td>\n",
       "      <td>5.196</td>\n",
       "      <td>56.0</td>\n",
       "      <td>2015-08-20</td>\n",
       "      <td>2</td>\n",
       "      <td>NaN</td>\n",
       "      <td>5.0</td>\n",
       "      <td>34.3</td>\n",
       "      <td>4</td>\n",
       "      <td>False</td>\n",
       "      <td>False</td>\n",
       "      <td>False</td>\n",
       "      <td>8.3</td>\n",
       "      <td>0.0</td>\n",
       "      <td>Санкт-Петербург</td>\n",
       "      <td>21741.0</td>\n",
       "      <td>13933.0</td>\n",
       "      <td>1.0</td>\n",
       "      <td>90.0</td>\n",
       "      <td>2.0</td>\n",
       "      <td>574.0</td>\n",
       "      <td>558.0</td>\n",
       "      <td>92785.71</td>\n",
       "      <td>3</td>\n",
       "      <td>8</td>\n",
       "      <td>2015</td>\n",
       "      <td>другой</td>\n",
       "    </tr>\n",
       "    <tr>\n",
       "      <th>3</th>\n",
       "      <td>0</td>\n",
       "      <td>64.900</td>\n",
       "      <td>159.0</td>\n",
       "      <td>2015-07-24</td>\n",
       "      <td>3</td>\n",
       "      <td>NaN</td>\n",
       "      <td>14.0</td>\n",
       "      <td>NaN</td>\n",
       "      <td>9</td>\n",
       "      <td>False</td>\n",
       "      <td>False</td>\n",
       "      <td>False</td>\n",
       "      <td>NaN</td>\n",
       "      <td>0.0</td>\n",
       "      <td>Санкт-Петербург</td>\n",
       "      <td>28098.0</td>\n",
       "      <td>6800.0</td>\n",
       "      <td>2.0</td>\n",
       "      <td>84.0</td>\n",
       "      <td>3.0</td>\n",
       "      <td>234.0</td>\n",
       "      <td>424.0</td>\n",
       "      <td>408176.10</td>\n",
       "      <td>4</td>\n",
       "      <td>7</td>\n",
       "      <td>2015</td>\n",
       "      <td>другой</td>\n",
       "    </tr>\n",
       "    <tr>\n",
       "      <th>4</th>\n",
       "      <td>2</td>\n",
       "      <td>10.000</td>\n",
       "      <td>100.0</td>\n",
       "      <td>2018-06-19</td>\n",
       "      <td>2</td>\n",
       "      <td>3.03</td>\n",
       "      <td>14.0</td>\n",
       "      <td>32.0</td>\n",
       "      <td>13</td>\n",
       "      <td>False</td>\n",
       "      <td>False</td>\n",
       "      <td>False</td>\n",
       "      <td>41.0</td>\n",
       "      <td>0.0</td>\n",
       "      <td>Санкт-Петербург</td>\n",
       "      <td>31856.0</td>\n",
       "      <td>8098.0</td>\n",
       "      <td>2.0</td>\n",
       "      <td>112.0</td>\n",
       "      <td>1.0</td>\n",
       "      <td>48.0</td>\n",
       "      <td>121.0</td>\n",
       "      <td>100000.00</td>\n",
       "      <td>1</td>\n",
       "      <td>6</td>\n",
       "      <td>2018</td>\n",
       "      <td>другой</td>\n",
       "    </tr>\n",
       "  </tbody>\n",
       "</table>\n",
       "</div>"
      ],
      "text/plain": [
       "   total_images  last_price  total_area first_day_exposition  rooms  \\\n",
       "0            20      13.000       108.0           2019-03-07      3   \n",
       "1             7       3.350        40.4           2018-12-04      1   \n",
       "2            10       5.196        56.0           2015-08-20      2   \n",
       "3             0      64.900       159.0           2015-07-24      3   \n",
       "4             2      10.000       100.0           2018-06-19      2   \n",
       "\n",
       "   ceiling_height  floors_total  living_area  floor  is_apartment  studio  \\\n",
       "0            2.70          16.0         51.0      8         False   False   \n",
       "1             NaN          11.0         18.6      1         False   False   \n",
       "2             NaN           5.0         34.3      4         False   False   \n",
       "3             NaN          14.0          NaN      9         False   False   \n",
       "4            3.03          14.0         32.0     13         False   False   \n",
       "\n",
       "   open_plan  kitchen_area  balcony    locality_name  airports_nearest  \\\n",
       "0      False          25.0      0.0  Санкт-Петербург           18863.0   \n",
       "1      False          11.0      2.0   посёлок Шушары           12817.0   \n",
       "2      False           8.3      0.0  Санкт-Петербург           21741.0   \n",
       "3      False           NaN      0.0  Санкт-Петербург           28098.0   \n",
       "4      False          41.0      0.0  Санкт-Петербург           31856.0   \n",
       "\n",
       "   city_centers_nearest  parks_around3000  parks_nearest  ponds_around3000  \\\n",
       "0               16028.0               1.0          482.0               2.0   \n",
       "1               18603.0               0.0            NaN               0.0   \n",
       "2               13933.0               1.0           90.0               2.0   \n",
       "3                6800.0               2.0           84.0               3.0   \n",
       "4                8098.0               2.0          112.0               1.0   \n",
       "\n",
       "   ponds_nearest  days_exposition  price_meter  day  month  year floor_level  \n",
       "0          755.0              NaN    120370.37    3      3  2019      другой  \n",
       "1            NaN             81.0     82920.79    1     12  2018      первый  \n",
       "2          574.0            558.0     92785.71    3      8  2015      другой  \n",
       "3          234.0            424.0    408176.10    4      7  2015      другой  \n",
       "4           48.0            121.0    100000.00    1      6  2018      другой  "
      ]
     },
     "execution_count": 46,
     "metadata": {},
     "output_type": "execute_result"
    }
   ],
   "source": [
    "data.head()  #проверим результаты"
   ]
  },
  {
   "cell_type": "markdown",
   "id": "6f46c7b5",
   "metadata": {},
   "source": [
    "#### Соотношения:\n",
    "- жилой и общей площади\n",
    "- площади кухни к общей"
   ]
  },
  {
   "cell_type": "code",
   "execution_count": 47,
   "id": "d58285b9",
   "metadata": {},
   "outputs": [],
   "source": [
    "data['living_ratio'] = data['living_area'] / data['total_area'] #добавим столбец с расчитанным отношением жилой и общей площади\n",
    "data['kitchen_ratio'] = data['kitchen_area'] / data['total_area'] #также сделаем для площади кухни\n"
   ]
  },
  {
   "cell_type": "code",
   "execution_count": 48,
   "id": "d2e54e4d",
   "metadata": {},
   "outputs": [
    {
     "data": {
      "text/html": [
       "<div>\n",
       "<style scoped>\n",
       "    .dataframe tbody tr th:only-of-type {\n",
       "        vertical-align: middle;\n",
       "    }\n",
       "\n",
       "    .dataframe tbody tr th {\n",
       "        vertical-align: top;\n",
       "    }\n",
       "\n",
       "    .dataframe thead th {\n",
       "        text-align: right;\n",
       "    }\n",
       "</style>\n",
       "<table border=\"1\" class=\"dataframe\">\n",
       "  <thead>\n",
       "    <tr style=\"text-align: right;\">\n",
       "      <th></th>\n",
       "      <th>total_images</th>\n",
       "      <th>last_price</th>\n",
       "      <th>total_area</th>\n",
       "      <th>first_day_exposition</th>\n",
       "      <th>rooms</th>\n",
       "      <th>ceiling_height</th>\n",
       "      <th>floors_total</th>\n",
       "      <th>living_area</th>\n",
       "      <th>floor</th>\n",
       "      <th>is_apartment</th>\n",
       "      <th>studio</th>\n",
       "      <th>open_plan</th>\n",
       "      <th>kitchen_area</th>\n",
       "      <th>balcony</th>\n",
       "      <th>locality_name</th>\n",
       "      <th>airports_nearest</th>\n",
       "      <th>city_centers_nearest</th>\n",
       "      <th>parks_around3000</th>\n",
       "      <th>parks_nearest</th>\n",
       "      <th>ponds_around3000</th>\n",
       "      <th>ponds_nearest</th>\n",
       "      <th>days_exposition</th>\n",
       "      <th>price_meter</th>\n",
       "      <th>day</th>\n",
       "      <th>month</th>\n",
       "      <th>year</th>\n",
       "      <th>floor_level</th>\n",
       "      <th>living_ratio</th>\n",
       "      <th>kitchen_ratio</th>\n",
       "    </tr>\n",
       "  </thead>\n",
       "  <tbody>\n",
       "    <tr>\n",
       "      <th>0</th>\n",
       "      <td>20</td>\n",
       "      <td>13.000</td>\n",
       "      <td>108.0</td>\n",
       "      <td>2019-03-07</td>\n",
       "      <td>3</td>\n",
       "      <td>2.70</td>\n",
       "      <td>16.0</td>\n",
       "      <td>51.0</td>\n",
       "      <td>8</td>\n",
       "      <td>False</td>\n",
       "      <td>False</td>\n",
       "      <td>False</td>\n",
       "      <td>25.0</td>\n",
       "      <td>0.0</td>\n",
       "      <td>Санкт-Петербург</td>\n",
       "      <td>18863.0</td>\n",
       "      <td>16028.0</td>\n",
       "      <td>1.0</td>\n",
       "      <td>482.0</td>\n",
       "      <td>2.0</td>\n",
       "      <td>755.0</td>\n",
       "      <td>NaN</td>\n",
       "      <td>120370.37</td>\n",
       "      <td>3</td>\n",
       "      <td>3</td>\n",
       "      <td>2019</td>\n",
       "      <td>другой</td>\n",
       "      <td>0.472222</td>\n",
       "      <td>0.231481</td>\n",
       "    </tr>\n",
       "    <tr>\n",
       "      <th>1</th>\n",
       "      <td>7</td>\n",
       "      <td>3.350</td>\n",
       "      <td>40.4</td>\n",
       "      <td>2018-12-04</td>\n",
       "      <td>1</td>\n",
       "      <td>NaN</td>\n",
       "      <td>11.0</td>\n",
       "      <td>18.6</td>\n",
       "      <td>1</td>\n",
       "      <td>False</td>\n",
       "      <td>False</td>\n",
       "      <td>False</td>\n",
       "      <td>11.0</td>\n",
       "      <td>2.0</td>\n",
       "      <td>посёлок Шушары</td>\n",
       "      <td>12817.0</td>\n",
       "      <td>18603.0</td>\n",
       "      <td>0.0</td>\n",
       "      <td>NaN</td>\n",
       "      <td>0.0</td>\n",
       "      <td>NaN</td>\n",
       "      <td>81.0</td>\n",
       "      <td>82920.79</td>\n",
       "      <td>1</td>\n",
       "      <td>12</td>\n",
       "      <td>2018</td>\n",
       "      <td>первый</td>\n",
       "      <td>0.460396</td>\n",
       "      <td>0.272277</td>\n",
       "    </tr>\n",
       "    <tr>\n",
       "      <th>2</th>\n",
       "      <td>10</td>\n",
       "      <td>5.196</td>\n",
       "      <td>56.0</td>\n",
       "      <td>2015-08-20</td>\n",
       "      <td>2</td>\n",
       "      <td>NaN</td>\n",
       "      <td>5.0</td>\n",
       "      <td>34.3</td>\n",
       "      <td>4</td>\n",
       "      <td>False</td>\n",
       "      <td>False</td>\n",
       "      <td>False</td>\n",
       "      <td>8.3</td>\n",
       "      <td>0.0</td>\n",
       "      <td>Санкт-Петербург</td>\n",
       "      <td>21741.0</td>\n",
       "      <td>13933.0</td>\n",
       "      <td>1.0</td>\n",
       "      <td>90.0</td>\n",
       "      <td>2.0</td>\n",
       "      <td>574.0</td>\n",
       "      <td>558.0</td>\n",
       "      <td>92785.71</td>\n",
       "      <td>3</td>\n",
       "      <td>8</td>\n",
       "      <td>2015</td>\n",
       "      <td>другой</td>\n",
       "      <td>0.612500</td>\n",
       "      <td>0.148214</td>\n",
       "    </tr>\n",
       "    <tr>\n",
       "      <th>3</th>\n",
       "      <td>0</td>\n",
       "      <td>64.900</td>\n",
       "      <td>159.0</td>\n",
       "      <td>2015-07-24</td>\n",
       "      <td>3</td>\n",
       "      <td>NaN</td>\n",
       "      <td>14.0</td>\n",
       "      <td>NaN</td>\n",
       "      <td>9</td>\n",
       "      <td>False</td>\n",
       "      <td>False</td>\n",
       "      <td>False</td>\n",
       "      <td>NaN</td>\n",
       "      <td>0.0</td>\n",
       "      <td>Санкт-Петербург</td>\n",
       "      <td>28098.0</td>\n",
       "      <td>6800.0</td>\n",
       "      <td>2.0</td>\n",
       "      <td>84.0</td>\n",
       "      <td>3.0</td>\n",
       "      <td>234.0</td>\n",
       "      <td>424.0</td>\n",
       "      <td>408176.10</td>\n",
       "      <td>4</td>\n",
       "      <td>7</td>\n",
       "      <td>2015</td>\n",
       "      <td>другой</td>\n",
       "      <td>NaN</td>\n",
       "      <td>NaN</td>\n",
       "    </tr>\n",
       "    <tr>\n",
       "      <th>4</th>\n",
       "      <td>2</td>\n",
       "      <td>10.000</td>\n",
       "      <td>100.0</td>\n",
       "      <td>2018-06-19</td>\n",
       "      <td>2</td>\n",
       "      <td>3.03</td>\n",
       "      <td>14.0</td>\n",
       "      <td>32.0</td>\n",
       "      <td>13</td>\n",
       "      <td>False</td>\n",
       "      <td>False</td>\n",
       "      <td>False</td>\n",
       "      <td>41.0</td>\n",
       "      <td>0.0</td>\n",
       "      <td>Санкт-Петербург</td>\n",
       "      <td>31856.0</td>\n",
       "      <td>8098.0</td>\n",
       "      <td>2.0</td>\n",
       "      <td>112.0</td>\n",
       "      <td>1.0</td>\n",
       "      <td>48.0</td>\n",
       "      <td>121.0</td>\n",
       "      <td>100000.00</td>\n",
       "      <td>1</td>\n",
       "      <td>6</td>\n",
       "      <td>2018</td>\n",
       "      <td>другой</td>\n",
       "      <td>0.320000</td>\n",
       "      <td>0.410000</td>\n",
       "    </tr>\n",
       "  </tbody>\n",
       "</table>\n",
       "</div>"
      ],
      "text/plain": [
       "   total_images  last_price  total_area first_day_exposition  rooms  \\\n",
       "0            20      13.000       108.0           2019-03-07      3   \n",
       "1             7       3.350        40.4           2018-12-04      1   \n",
       "2            10       5.196        56.0           2015-08-20      2   \n",
       "3             0      64.900       159.0           2015-07-24      3   \n",
       "4             2      10.000       100.0           2018-06-19      2   \n",
       "\n",
       "   ceiling_height  floors_total  living_area  floor  is_apartment  studio  \\\n",
       "0            2.70          16.0         51.0      8         False   False   \n",
       "1             NaN          11.0         18.6      1         False   False   \n",
       "2             NaN           5.0         34.3      4         False   False   \n",
       "3             NaN          14.0          NaN      9         False   False   \n",
       "4            3.03          14.0         32.0     13         False   False   \n",
       "\n",
       "   open_plan  kitchen_area  balcony    locality_name  airports_nearest  \\\n",
       "0      False          25.0      0.0  Санкт-Петербург           18863.0   \n",
       "1      False          11.0      2.0   посёлок Шушары           12817.0   \n",
       "2      False           8.3      0.0  Санкт-Петербург           21741.0   \n",
       "3      False           NaN      0.0  Санкт-Петербург           28098.0   \n",
       "4      False          41.0      0.0  Санкт-Петербург           31856.0   \n",
       "\n",
       "   city_centers_nearest  parks_around3000  parks_nearest  ponds_around3000  \\\n",
       "0               16028.0               1.0          482.0               2.0   \n",
       "1               18603.0               0.0            NaN               0.0   \n",
       "2               13933.0               1.0           90.0               2.0   \n",
       "3                6800.0               2.0           84.0               3.0   \n",
       "4                8098.0               2.0          112.0               1.0   \n",
       "\n",
       "   ponds_nearest  days_exposition  price_meter  day  month  year floor_level  \\\n",
       "0          755.0              NaN    120370.37    3      3  2019      другой   \n",
       "1            NaN             81.0     82920.79    1     12  2018      первый   \n",
       "2          574.0            558.0     92785.71    3      8  2015      другой   \n",
       "3          234.0            424.0    408176.10    4      7  2015      другой   \n",
       "4           48.0            121.0    100000.00    1      6  2018      другой   \n",
       "\n",
       "   living_ratio  kitchen_ratio  \n",
       "0      0.472222       0.231481  \n",
       "1      0.460396       0.272277  \n",
       "2      0.612500       0.148214  \n",
       "3           NaN            NaN  \n",
       "4      0.320000       0.410000  "
      ]
     },
     "execution_count": 48,
     "metadata": {},
     "output_type": "execute_result"
    }
   ],
   "source": [
    "data.head()  #проверим результат"
   ]
  },
  {
   "cell_type": "markdown",
   "id": "cc717d7c",
   "metadata": {},
   "source": [
    "## Этап 4. Проанализируем данные"
   ]
  },
  {
   "cell_type": "markdown",
   "id": "e5d6750a",
   "metadata": {},
   "source": [
    "#### 4.1. Изучим следующие параметры: \n",
    "    -площадь\n",
    "    -цена\n",
    "    -число комнат\n",
    "    -высота потолков"
   ]
  },
  {
   "cell_type": "markdown",
   "id": "2aedd176",
   "metadata": {},
   "source": [
    "#### Изучим данные площади квартир"
   ]
  },
  {
   "cell_type": "code",
   "execution_count": 49,
   "id": "b9c9b892",
   "metadata": {},
   "outputs": [
    {
     "data": {
      "text/plain": [
       "count    23563.000000\n",
       "mean        60.324316\n",
       "std         35.658196\n",
       "min         12.000000\n",
       "25%         40.000000\n",
       "50%         52.000000\n",
       "75%         69.700000\n",
       "max        900.000000\n",
       "Name: total_area, dtype: float64"
      ]
     },
     "execution_count": 49,
     "metadata": {},
     "output_type": "execute_result"
    },
    {
     "data": {
      "image/png": "[encoded data removed]",
      "text/plain": [
       "<Figure size 720x360 with 1 Axes>"
      ]
     },
     "metadata": {
      "needs_background": "light"
     },
     "output_type": "display_data"
    }
   ],
   "source": [
    "data['total_area'].hist(bins=50, figsize=(10,5)) #построим гистограмму и посмотрим на статистику площади квартир\n",
    "data['total_area'].describe()"
   ]
  },
  {
   "cell_type": "markdown",
   "id": "370c9ccf",
   "metadata": {},
   "source": [
    "Среднее значение 60 кв.метров, максимальное значение 900. На графике видно, что таких значений единицы, скорее всего это выброс."
   ]
  },
  {
   "cell_type": "code",
   "execution_count": 50,
   "id": "52e8aa3c",
   "metadata": {},
   "outputs": [
    {
     "data": {
      "text/plain": [
       "<AxesSubplot:>"
      ]
     },
     "execution_count": 50,
     "metadata": {},
     "output_type": "execute_result"
    },
    {
     "data": {
      "image/png": "[encoded data removed]",
      "text/plain": [
       "<Figure size 432x288 with 1 Axes>"
      ]
     },
     "metadata": {
      "needs_background": "light"
     },
     "output_type": "display_data"
    }
   ],
   "source": [
    "data.boxplot(column='total_area') #посторим \"ящик с усами\" для поиска выбросов"
   ]
  },
  {
   "cell_type": "markdown",
   "id": "70ac680d",
   "metadata": {},
   "source": [
    "На графике заметно, что после отметки приблизительно в 150 все превышающие значения сформировали череду точек-выбросов "
   ]
  },
  {
   "cell_type": "code",
   "execution_count": 51,
   "id": "3a201c0f",
   "metadata": {},
   "outputs": [
    {
     "data": {
      "text/plain": [
       "(0.0, 150.0)"
      ]
     },
     "execution_count": 51,
     "metadata": {},
     "output_type": "execute_result"
    },
    {
     "data": {
      "image/png": "[encoded data removed]",
      "text/plain": [
       "<Figure size 432x288 with 1 Axes>"
      ]
     },
     "metadata": {
      "needs_background": "light"
     },
     "output_type": "display_data"
    }
   ],
   "source": [
    "data.boxplot(column='total_area')     #посторим график с границами 0,150\n",
    "plt.ylim(0, 150)   "
   ]
  },
  {
   "cell_type": "markdown",
   "id": "fbb429b7",
   "metadata": {},
   "source": [
    "Теперь видим более точнее, 4й квартиль заканчивается на отметке около 115 кв.метров. Всё, что более = выбросы"
   ]
  },
  {
   "cell_type": "code",
   "execution_count": 52,
   "id": "2bdb6462",
   "metadata": {},
   "outputs": [
    {
     "name": "stdout",
     "output_type": "stream",
     "text": [
      "Кол-во выбросов по площади: 1229\n",
      "Процент выбросов от общего кол-ва: 5%\n"
     ]
    }
   ],
   "source": [
    "#посмотрим сколько таких значений в наших данных\n",
    "print('Кол-во выбросов по площади:', len(data[(data['total_area']>=115)]))\n",
    "print('Процент выбросов от общего кол-ва: {:.0%}'.format(len(data[(data['total_area']>=115)])/len(data)))"
   ]
  },
  {
   "cell_type": "code",
   "execution_count": 53,
   "id": "cdd68d0a",
   "metadata": {},
   "outputs": [],
   "source": [
    "#создадим переменную и сохраним в ней срез без выбросов\n",
    "total_area_slize = data.loc[(data['total_area']<= 115)] "
   ]
  },
  {
   "cell_type": "code",
   "execution_count": 54,
   "id": "b61bdd05",
   "metadata": {},
   "outputs": [
    {
     "data": {
      "text/plain": [
       "count    22354.000000\n",
       "mean        54.401980\n",
       "std         19.445294\n",
       "min         12.000000\n",
       "25%         39.400000\n",
       "50%         50.100000\n",
       "75%         65.600000\n",
       "max        115.000000\n",
       "Name: total_area, dtype: float64"
      ]
     },
     "execution_count": 54,
     "metadata": {},
     "output_type": "execute_result"
    },
    {
     "data": {
      "image/png": "[encoded data removed]",
      "text/plain": [
       "<Figure size 720x360 with 1 Axes>"
      ]
     },
     "metadata": {
      "needs_background": "light"
     },
     "output_type": "display_data"
    }
   ],
   "source": [
    "total_area_slize['total_area'].hist(bins=30, figsize=(10,5)) #посмотрим на новую статистику\n",
    "total_area_slize['total_area'].describe()"
   ]
  },
  {
   "cell_type": "code",
   "execution_count": 55,
   "id": "9d1c8db6",
   "metadata": {},
   "outputs": [
    {
     "data": {
      "text/plain": [
       "45.0    419\n",
       "42.0    383\n",
       "31.0    346\n",
       "60.0    346\n",
       "44.0    343\n",
       "Name: total_area, dtype: int64"
      ]
     },
     "execution_count": 55,
     "metadata": {},
     "output_type": "execute_result"
    }
   ],
   "source": [
    "total_area_slize['total_area'].value_counts().head()"
   ]
  },
  {
   "cell_type": "markdown",
   "id": "01286cca",
   "metadata": {},
   "source": [
    "Самые продаваемые квартиры площадью 45 кв.метров."
   ]
  },
  {
   "cell_type": "markdown",
   "id": "4e11d82f",
   "metadata": {},
   "source": [
    "#### Изучим данные цен квартир"
   ]
  },
  {
   "cell_type": "code",
   "execution_count": 56,
   "id": "3e8008ff",
   "metadata": {},
   "outputs": [
    {
     "data": {
      "text/plain": [
       "count    23563.000000\n",
       "mean         6.540283\n",
       "std         10.911370\n",
       "min          0.012190\n",
       "25%          3.400000\n",
       "50%          4.647000\n",
       "75%          6.790000\n",
       "max        763.000000\n",
       "Name: last_price, dtype: float64"
      ]
     },
     "execution_count": 56,
     "metadata": {},
     "output_type": "execute_result"
    },
    {
     "data": {
      "image/png": "[encoded data removed]",
      "text/plain": [
       "<Figure size 720x360 with 1 Axes>"
      ]
     },
     "metadata": {
      "needs_background": "light"
     },
     "output_type": "display_data"
    }
   ],
   "source": [
    "data['last_price'].hist(bins=50, figsize=(10,5)) #посмотрим на график для цены\n",
    "data['last_price'].describe()"
   ]
  },
  {
   "cell_type": "markdown",
   "id": "7a95888c",
   "metadata": {},
   "source": [
    "Таже ситуация и с ценами. Построим \"ящик с усами\""
   ]
  },
  {
   "cell_type": "code",
   "execution_count": 57,
   "id": "50b4d3de",
   "metadata": {},
   "outputs": [
    {
     "data": {
      "text/plain": [
       "<AxesSubplot:>"
      ]
     },
     "execution_count": 57,
     "metadata": {},
     "output_type": "execute_result"
    },
    {
     "data": {
      "image/png": "[encoded data removed]",
      "text/plain": [
       "<Figure size 432x288 with 1 Axes>"
      ]
     },
     "metadata": {
      "needs_background": "light"
     },
     "output_type": "display_data"
    }
   ],
   "source": [
    "data.boxplot(column='last_price')"
   ]
  },
  {
   "cell_type": "markdown",
   "id": "c05af2f9",
   "metadata": {},
   "source": [
    "Нечитабельно, нужно ограничить график"
   ]
  },
  {
   "cell_type": "code",
   "execution_count": 58,
   "id": "99708e7b",
   "metadata": {},
   "outputs": [
    {
     "data": {
      "text/plain": [
       "(-1.0, 20.0)"
      ]
     },
     "execution_count": 58,
     "metadata": {},
     "output_type": "execute_result"
    },
    {
     "data": {
      "image/png": "[encoded data removed]",
      "text/plain": [
       "<Figure size 432x288 with 1 Axes>"
      ]
     },
     "metadata": {
      "needs_background": "light"
     },
     "output_type": "display_data"
    }
   ],
   "source": [
    "data.boxplot(column='last_price')\n",
    "plt.ylim(-1, 20) "
   ]
  },
  {
   "cell_type": "markdown",
   "id": "39f1415c",
   "metadata": {},
   "source": [
    "На этом графике 4-й квартиль заканчивается на позиции в 12 млн. Далее идут выбросы"
   ]
  },
  {
   "cell_type": "code",
   "execution_count": 59,
   "id": "c2a2acd8",
   "metadata": {},
   "outputs": [
    {
     "name": "stdout",
     "output_type": "stream",
     "text": [
      "Кол-во выбросов по цене: 1983\n",
      "Процент выбросов от общего кол-ва: 8%\n"
     ]
    }
   ],
   "source": [
    "#посмотрим сколько выбросов в данных\n",
    "print('Кол-во выбросов по цене:', len(data[(data['last_price']>=12)]))\n",
    "print('Процент выбросов от общего кол-ва: {:.0%}'.format(len(data[(data['last_price']>=12)])/len(data)))"
   ]
  },
  {
   "cell_type": "code",
   "execution_count": 60,
   "id": "826218df",
   "metadata": {},
   "outputs": [],
   "source": [
    "#создадим переменную и сохраним в ней срез без выбросов\n",
    "last_price_slize = data.loc[(data['last_price']<= 12)]"
   ]
  },
  {
   "cell_type": "code",
   "execution_count": 61,
   "id": "2f477a52",
   "metadata": {},
   "outputs": [
    {
     "data": {
      "text/plain": [
       "count    21637.000000\n",
       "mean         4.876757\n",
       "std          2.272301\n",
       "min          0.012190\n",
       "25%          3.300000\n",
       "50%          4.400000\n",
       "75%          6.000000\n",
       "max         12.000000\n",
       "Name: last_price, dtype: float64"
      ]
     },
     "execution_count": 61,
     "metadata": {},
     "output_type": "execute_result"
    },
    {
     "data": {
      "image/png": "[encoded data removed]",
      "text/plain": [
       "<Figure size 720x360 with 1 Axes>"
      ]
     },
     "metadata": {
      "needs_background": "light"
     },
     "output_type": "display_data"
    }
   ],
   "source": [
    "last_price_slize['last_price'].hist(bins=30, figsize=(10,5)) #посмотрим на новую статистику\n",
    "last_price_slize['last_price'].describe()"
   ]
  },
  {
   "cell_type": "markdown",
   "id": "3882c7a6",
   "metadata": {},
   "source": [
    "Данные на графике выстроились в нормальном распределении"
   ]
  },
  {
   "cell_type": "code",
   "execution_count": 62,
   "id": "071f37ff",
   "metadata": {},
   "outputs": [
    {
     "data": {
      "text/plain": [
       "4.5    341\n",
       "3.5    289\n",
       "4.0    260\n",
       "4.3    260\n",
       "4.2    258\n",
       "Name: last_price, dtype: int64"
      ]
     },
     "execution_count": 62,
     "metadata": {},
     "output_type": "execute_result"
    }
   ],
   "source": [
    "last_price_slize['last_price'].value_counts().head()"
   ]
  },
  {
   "cell_type": "markdown",
   "id": "e87fc3e4",
   "metadata": {},
   "source": [
    "Средняя и самая популярная цена на квартиру в нашей выборке = 4,5 миллиона рублей"
   ]
  },
  {
   "cell_type": "markdown",
   "id": "5c822ec7",
   "metadata": {},
   "source": [
    "#### Изучим число комнат"
   ]
  },
  {
   "cell_type": "code",
   "execution_count": 63,
   "id": "2f69a3df",
   "metadata": {},
   "outputs": [
    {
     "data": {
      "text/plain": [
       "count    23563.000000\n",
       "mean         2.087171\n",
       "std          1.062014\n",
       "min          1.000000\n",
       "25%          1.000000\n",
       "50%          2.000000\n",
       "75%          3.000000\n",
       "max         19.000000\n",
       "Name: rooms, dtype: float64"
      ]
     },
     "execution_count": 63,
     "metadata": {},
     "output_type": "execute_result"
    },
    {
     "data": {
      "image/png": "[encoded data removed]",
      "text/plain": [
       "<Figure size 720x360 with 1 Axes>"
      ]
     },
     "metadata": {
      "needs_background": "light"
     },
     "output_type": "display_data"
    }
   ],
   "source": [
    "data['rooms'].hist(bins=20, figsize=(10,5)) #построим график количества комнат\n",
    "data['rooms'].describe()"
   ]
  },
  {
   "cell_type": "markdown",
   "id": "b4b37b5c",
   "metadata": {},
   "source": [
    "Выборка по комнатам близка к нормальному распределению, но присутствуют аномальные значения"
   ]
  },
  {
   "cell_type": "code",
   "execution_count": 64,
   "id": "3ff15458",
   "metadata": {},
   "outputs": [
    {
     "data": {
      "text/plain": [
       "<AxesSubplot:>"
      ]
     },
     "execution_count": 64,
     "metadata": {},
     "output_type": "execute_result"
    },
    {
     "data": {
      "image/png": "[encoded data removed]",
      "text/plain": [
       "<Figure size 432x288 with 1 Axes>"
      ]
     },
     "metadata": {
      "needs_background": "light"
     },
     "output_type": "display_data"
    }
   ],
   "source": [
    "data.boxplot(column='rooms') #посмотрим на диаграмму"
   ]
  },
  {
   "cell_type": "markdown",
   "id": "cffd8360",
   "metadata": {},
   "source": [
    "Так и есть, квартиры с более чем 6 комнат уходят за пределы нормального распределения"
   ]
  },
  {
   "cell_type": "code",
   "execution_count": 65,
   "id": "7888d8cb",
   "metadata": {},
   "outputs": [
    {
     "name": "stdout",
     "output_type": "stream",
     "text": [
      "Кол-во выбросов комнат: 194\n",
      "Процент выбросов от общего кол-ва: 1%\n"
     ]
    }
   ],
   "source": [
    "#узнаем количество выбросов\n",
    "print('Кол-во выбросов комнат:', len(data[(data['rooms']>=6)]))\n",
    "print('Процент выбросов от общего кол-ва: {:.0%}'.format(len(data[(data['rooms']>=6)])/len(data)))"
   ]
  },
  {
   "cell_type": "code",
   "execution_count": 66,
   "id": "406ca03a",
   "metadata": {},
   "outputs": [],
   "source": [
    "#создадим переменную и сохраним в ней срез без выбросов\n",
    "rooms_slize = data.loc[(data['rooms']< 6)]"
   ]
  },
  {
   "cell_type": "code",
   "execution_count": 67,
   "id": "6fb61b4d",
   "metadata": {},
   "outputs": [
    {
     "data": {
      "text/plain": [
       "count    23369.000000\n",
       "mean         2.046857\n",
       "std          0.955705\n",
       "min          1.000000\n",
       "25%          1.000000\n",
       "50%          2.000000\n",
       "75%          3.000000\n",
       "max          5.000000\n",
       "Name: rooms, dtype: float64"
      ]
     },
     "execution_count": 67,
     "metadata": {},
     "output_type": "execute_result"
    },
    {
     "data": {
      "image/png": "[encoded data removed]",
      "text/plain": [
       "<Figure size 360x360 with 1 Axes>"
      ]
     },
     "metadata": {
      "needs_background": "light"
     },
     "output_type": "display_data"
    }
   ],
   "source": [
    "rooms_slize['rooms'].hist(bins=5, figsize=(5,5)) #посмотрим на новую статистику\n",
    "rooms_slize['rooms'].describe()"
   ]
  },
  {
   "cell_type": "code",
   "execution_count": 68,
   "id": "19341c7e",
   "metadata": {},
   "outputs": [
    {
     "data": {
      "text/plain": [
       "2    8090\n",
       "1    8003\n",
       "3    5779\n",
       "4    1172\n",
       "5     325\n",
       "Name: rooms, dtype: int64"
      ]
     },
     "execution_count": 68,
     "metadata": {},
     "output_type": "execute_result"
    }
   ],
   "source": [
    "rooms_slize['rooms'].value_counts().head()"
   ]
  },
  {
   "cell_type": "markdown",
   "id": "4fa7eb8e",
   "metadata": {},
   "source": [
    "Наиболее востребованными на рынке являются двухкомнатные квартиры "
   ]
  },
  {
   "cell_type": "markdown",
   "id": "ad27622e",
   "metadata": {},
   "source": [
    "#### Изучим высоту потолков"
   ]
  },
  {
   "cell_type": "code",
   "execution_count": 69,
   "id": "c5f5391c",
   "metadata": {},
   "outputs": [
    {
     "data": {
      "text/plain": [
       "count    14479.000000\n",
       "mean         2.771284\n",
       "std          1.262069\n",
       "min          1.000000\n",
       "25%          2.510000\n",
       "50%          2.650000\n",
       "75%          2.800000\n",
       "max        100.000000\n",
       "Name: ceiling_height, dtype: float64"
      ]
     },
     "execution_count": 69,
     "metadata": {},
     "output_type": "execute_result"
    },
    {
     "data": {
      "image/png": "[encoded data removed]",
      "text/plain": [
       "<Figure size 720x360 with 1 Axes>"
      ]
     },
     "metadata": {
      "needs_background": "light"
     },
     "output_type": "display_data"
    }
   ],
   "source": [
    "data['ceiling_height'].hist(bins=50, figsize=(10,5)) #и график высоты потолков\n",
    "data['ceiling_height'].describe()"
   ]
  },
  {
   "cell_type": "markdown",
   "id": "169e9dad",
   "metadata": {},
   "source": [
    "Видно, что значения в 100 метров является не только выбросом, но и ошибкой. Вряд ли есть такие квартиры"
   ]
  },
  {
   "cell_type": "code",
   "execution_count": 70,
   "id": "9fbb368d",
   "metadata": {},
   "outputs": [
    {
     "data": {
      "text/plain": [
       "<AxesSubplot:>"
      ]
     },
     "execution_count": 70,
     "metadata": {},
     "output_type": "execute_result"
    },
    {
     "data": {
      "image/png": "[encoded data removed]",
      "text/plain": [
       "<Figure size 432x288 with 1 Axes>"
      ]
     },
     "metadata": {
      "needs_background": "light"
     },
     "output_type": "display_data"
    }
   ],
   "source": [
    "data.boxplot(column='ceiling_height') #посмотрим детальнее"
   ]
  },
  {
   "cell_type": "code",
   "execution_count": 71,
   "id": "c65008ab",
   "metadata": {},
   "outputs": [
    {
     "data": {
      "text/plain": [
       "(0.0, 4.0)"
      ]
     },
     "execution_count": 71,
     "metadata": {},
     "output_type": "execute_result"
    },
    {
     "data": {
      "image/png": "[encoded data removed]",
      "text/plain": [
       "<Figure size 432x288 with 1 Axes>"
      ]
     },
     "metadata": {
      "needs_background": "light"
     },
     "output_type": "display_data"
    }
   ],
   "source": [
    "data.boxplot(column='ceiling_height')  #поставим ограничения\n",
    "plt.ylim(0, 4) "
   ]
  },
  {
   "cell_type": "markdown",
   "id": "073b2f54",
   "metadata": {},
   "source": [
    "Теперь видим, что потолки высотой ниже 2 метров и выше 3,25 метров не укладываются в нормальное распределение."
   ]
  },
  {
   "cell_type": "code",
   "execution_count": 72,
   "id": "d2a7c357",
   "metadata": {},
   "outputs": [
    {
     "name": "stdout",
     "output_type": "stream",
     "text": [
      "Кол-во выбросов по потолкам: 815\n",
      "Процент выбросов от общего кол-ва: 3%\n"
     ]
    }
   ],
   "source": [
    "#узнаем количество выбросов\n",
    "print('Кол-во выбросов по потолкам:', \n",
    "      len(data[(data['ceiling_height']<=2)\n",
    "               |(data['ceiling_height']>=3.25)]))\n",
    "\n",
    "print('Процент выбросов от общего кол-ва: {:.0%}'\n",
    "      .format(len(data[(data['ceiling_height']<=2)\n",
    "                       |(data['ceiling_height']>=3.25)])\n",
    "              /len(data)))"
   ]
  },
  {
   "cell_type": "code",
   "execution_count": 73,
   "id": "a54e44ee",
   "metadata": {},
   "outputs": [],
   "source": [
    "#создадим переменную и сохраним в ней срез без выбросов\n",
    "ceiling_height_slize = data.query('2 < ceiling_height < 3.25')"
   ]
  },
  {
   "cell_type": "code",
   "execution_count": 74,
   "id": "3caf538c",
   "metadata": {},
   "outputs": [
    {
     "data": {
      "text/plain": [
       "count    13664.000000\n",
       "mean         2.680224\n",
       "std          0.184639\n",
       "min          2.200000\n",
       "25%          2.500000\n",
       "50%          2.640000\n",
       "75%          2.760000\n",
       "max          3.240000\n",
       "Name: ceiling_height, dtype: float64"
      ]
     },
     "execution_count": 74,
     "metadata": {},
     "output_type": "execute_result"
    },
    {
     "data": {
      "image/png": "[encoded data removed]",
      "text/plain": [
       "<Figure size 360x360 with 1 Axes>"
      ]
     },
     "metadata": {
      "needs_background": "light"
     },
     "output_type": "display_data"
    }
   ],
   "source": [
    "ceiling_height_slize['ceiling_height'].hist(bins=5, figsize=(5,5)) #посмотрим на новую статистику\n",
    "ceiling_height_slize['ceiling_height'].describe()"
   ]
  },
  {
   "cell_type": "code",
   "execution_count": 75,
   "id": "6d05a215",
   "metadata": {},
   "outputs": [
    {
     "data": {
      "text/plain": [
       "2.5    3515\n",
       "2.6    1645\n",
       "2.7    1571\n",
       "3.0    1108\n",
       "2.8     988\n",
       "Name: ceiling_height, dtype: int64"
      ]
     },
     "execution_count": 75,
     "metadata": {},
     "output_type": "execute_result"
    }
   ],
   "source": [
    "ceiling_height_slize['ceiling_height'].value_counts().head()"
   ]
  },
  {
   "cell_type": "markdown",
   "id": "5a6c1e14",
   "metadata": {},
   "source": [
    "Самые популярные квартиры в продаже с потолками высотой 2,5 метра"
   ]
  },
  {
   "cell_type": "markdown",
   "id": "de32de24",
   "metadata": {},
   "source": [
    "### 4.2. Изучим время продажи квартиры:\n",
    "    - построим гистограмму \n",
    "    - посчитаем среднее и медиану \n",
    "    - опишем, сколько обычно занимает продажа \n",
    "    - ответим на вопрос - Когда можно считать, что продажи прошли очень быстро, а когда необычно долго?"
   ]
  },
  {
   "cell_type": "code",
   "execution_count": 76,
   "id": "92642b69",
   "metadata": {},
   "outputs": [
    {
     "data": {
      "text/plain": [
       "count    20392.000000\n",
       "mean       180.748774\n",
       "std        219.741477\n",
       "min          1.000000\n",
       "25%         45.000000\n",
       "50%         95.000000\n",
       "75%        231.000000\n",
       "max       1580.000000\n",
       "Name: days_exposition, dtype: float64"
      ]
     },
     "execution_count": 76,
     "metadata": {},
     "output_type": "execute_result"
    },
    {
     "data": {
      "image/png": "[encoded data removed]",
      "text/plain": [
       "<Figure size 720x360 with 1 Axes>"
      ]
     },
     "metadata": {
      "needs_background": "light"
     },
     "output_type": "display_data"
    }
   ],
   "source": [
    "data['days_exposition'].hist(bins=50, figsize=(10,5)) #построим гистограмму и посмотрим на статистику длительности продажи\n",
    "data['days_exposition'].describe()"
   ]
  },
  {
   "cell_type": "markdown",
   "id": "52476d37",
   "metadata": {},
   "source": [
    "В районе 500 дней происходит резкое снижение"
   ]
  },
  {
   "cell_type": "code",
   "execution_count": 77,
   "id": "c0efd4d3",
   "metadata": {},
   "outputs": [
    {
     "data": {
      "text/plain": [
       "(-1.0, 600.0)"
      ]
     },
     "execution_count": 77,
     "metadata": {},
     "output_type": "execute_result"
    },
    {
     "data": {
      "image/png": "[encoded data removed]",
      "text/plain": [
       "<Figure size 432x288 with 1 Axes>"
      ]
     },
     "metadata": {
      "needs_background": "light"
     },
     "output_type": "display_data"
    }
   ],
   "source": [
    "data.boxplot(column='days_exposition')\n",
    "plt.ylim(-1, 600)"
   ]
  },
  {
   "cell_type": "code",
   "execution_count": 78,
   "id": "e333db15",
   "metadata": {},
   "outputs": [],
   "source": [
    "data_days_exposition = data.loc[(data['days_exposition']<= 500)] #создадим переменную, сохраним в ней данные без выбросов"
   ]
  },
  {
   "cell_type": "code",
   "execution_count": 79,
   "id": "3dc26262",
   "metadata": {},
   "outputs": [
    {
     "data": {
      "text/plain": [
       "count    18655.000000\n",
       "mean       127.009381\n",
       "std        119.245470\n",
       "min          1.000000\n",
       "25%         41.000000\n",
       "50%         84.000000\n",
       "75%        181.000000\n",
       "max        500.000000\n",
       "Name: days_exposition, dtype: float64"
      ]
     },
     "execution_count": 79,
     "metadata": {},
     "output_type": "execute_result"
    },
    {
     "data": {
      "image/png": "[encoded data removed]",
      "text/plain": [
       "<Figure size 720x360 with 1 Axes>"
      ]
     },
     "metadata": {
      "needs_background": "light"
     },
     "output_type": "display_data"
    }
   ],
   "source": [
    "data_days_exposition['days_exposition'].hist(bins=50, figsize=(10,5)) #построим гистограмму и посмотрим на статистику\n",
    "data_days_exposition['days_exposition'].describe()"
   ]
  },
  {
   "cell_type": "markdown",
   "id": "b042659e",
   "metadata": {},
   "source": [
    "    В среднем продажа квартиры занимает от 41 дней до 181 дня.\n",
    "    Соответственно, продажу быстрее, чем за 41 день можно считать быстрой, а более полугода = долгой.\n"
   ]
  },
  {
   "cell_type": "markdown",
   "id": "134f2fd4",
   "metadata": {},
   "source": [
    "    Среднее значение нашей выборки составляет 126 дней\n",
    "    Медианное значение = 84 дня"
   ]
  },
  {
   "cell_type": "code",
   "execution_count": 80,
   "id": "4fe71236",
   "metadata": {},
   "outputs": [
    {
     "data": {
      "text/html": [
       "<div>\n",
       "<style scoped>\n",
       "    .dataframe tbody tr th:only-of-type {\n",
       "        vertical-align: middle;\n",
       "    }\n",
       "\n",
       "    .dataframe tbody tr th {\n",
       "        vertical-align: top;\n",
       "    }\n",
       "\n",
       "    .dataframe thead th {\n",
       "        text-align: right;\n",
       "    }\n",
       "</style>\n",
       "<table border=\"1\" class=\"dataframe\">\n",
       "  <thead>\n",
       "    <tr style=\"text-align: right;\">\n",
       "      <th></th>\n",
       "      <th>total_images</th>\n",
       "      <th>last_price</th>\n",
       "      <th>total_area</th>\n",
       "      <th>first_day_exposition</th>\n",
       "      <th>rooms</th>\n",
       "      <th>ceiling_height</th>\n",
       "      <th>floors_total</th>\n",
       "      <th>living_area</th>\n",
       "      <th>floor</th>\n",
       "      <th>is_apartment</th>\n",
       "      <th>studio</th>\n",
       "      <th>open_plan</th>\n",
       "      <th>kitchen_area</th>\n",
       "      <th>balcony</th>\n",
       "      <th>locality_name</th>\n",
       "      <th>airports_nearest</th>\n",
       "      <th>city_centers_nearest</th>\n",
       "      <th>parks_around3000</th>\n",
       "      <th>parks_nearest</th>\n",
       "      <th>ponds_around3000</th>\n",
       "      <th>ponds_nearest</th>\n",
       "      <th>days_exposition</th>\n",
       "      <th>price_meter</th>\n",
       "      <th>day</th>\n",
       "      <th>month</th>\n",
       "      <th>year</th>\n",
       "      <th>floor_level</th>\n",
       "      <th>living_ratio</th>\n",
       "      <th>kitchen_ratio</th>\n",
       "    </tr>\n",
       "  </thead>\n",
       "  <tbody>\n",
       "    <tr>\n",
       "      <th>1632</th>\n",
       "      <td>19</td>\n",
       "      <td>4.000</td>\n",
       "      <td>49.9</td>\n",
       "      <td>2019-05-01</td>\n",
       "      <td>2</td>\n",
       "      <td>2.5</td>\n",
       "      <td>9.0</td>\n",
       "      <td>25.0</td>\n",
       "      <td>1</td>\n",
       "      <td>False</td>\n",
       "      <td>False</td>\n",
       "      <td>False</td>\n",
       "      <td>10.0</td>\n",
       "      <td>0.0</td>\n",
       "      <td>Санкт-Петербург</td>\n",
       "      <td>13567.0</td>\n",
       "      <td>14384.0</td>\n",
       "      <td>1.0</td>\n",
       "      <td>20.0</td>\n",
       "      <td>1.0</td>\n",
       "      <td>681.0</td>\n",
       "      <td>1.0</td>\n",
       "      <td>80160.32</td>\n",
       "      <td>2</td>\n",
       "      <td>5</td>\n",
       "      <td>2019</td>\n",
       "      <td>первый</td>\n",
       "      <td>0.501002</td>\n",
       "      <td>0.200401</td>\n",
       "    </tr>\n",
       "    <tr>\n",
       "      <th>16053</th>\n",
       "      <td>4</td>\n",
       "      <td>4.070</td>\n",
       "      <td>45.1</td>\n",
       "      <td>2019-04-30</td>\n",
       "      <td>2</td>\n",
       "      <td>NaN</td>\n",
       "      <td>5.0</td>\n",
       "      <td>22.7</td>\n",
       "      <td>3</td>\n",
       "      <td>False</td>\n",
       "      <td>False</td>\n",
       "      <td>False</td>\n",
       "      <td>6.6</td>\n",
       "      <td>0.0</td>\n",
       "      <td>Санкт-Петербург</td>\n",
       "      <td>40859.0</td>\n",
       "      <td>11668.0</td>\n",
       "      <td>2.0</td>\n",
       "      <td>485.0</td>\n",
       "      <td>0.0</td>\n",
       "      <td>NaN</td>\n",
       "      <td>2.0</td>\n",
       "      <td>90243.90</td>\n",
       "      <td>1</td>\n",
       "      <td>4</td>\n",
       "      <td>2019</td>\n",
       "      <td>другой</td>\n",
       "      <td>0.503326</td>\n",
       "      <td>0.146341</td>\n",
       "    </tr>\n",
       "    <tr>\n",
       "      <th>13061</th>\n",
       "      <td>20</td>\n",
       "      <td>6.100</td>\n",
       "      <td>51.4</td>\n",
       "      <td>2019-04-29</td>\n",
       "      <td>2</td>\n",
       "      <td>3.0</td>\n",
       "      <td>5.0</td>\n",
       "      <td>31.7</td>\n",
       "      <td>4</td>\n",
       "      <td>False</td>\n",
       "      <td>False</td>\n",
       "      <td>False</td>\n",
       "      <td>6.9</td>\n",
       "      <td>1.0</td>\n",
       "      <td>Санкт-Петербург</td>\n",
       "      <td>10776.0</td>\n",
       "      <td>9389.0</td>\n",
       "      <td>0.0</td>\n",
       "      <td>NaN</td>\n",
       "      <td>0.0</td>\n",
       "      <td>NaN</td>\n",
       "      <td>2.0</td>\n",
       "      <td>118677.04</td>\n",
       "      <td>0</td>\n",
       "      <td>4</td>\n",
       "      <td>2019</td>\n",
       "      <td>другой</td>\n",
       "      <td>0.616732</td>\n",
       "      <td>0.134241</td>\n",
       "    </tr>\n",
       "    <tr>\n",
       "      <th>16212</th>\n",
       "      <td>0</td>\n",
       "      <td>7.806</td>\n",
       "      <td>25.0</td>\n",
       "      <td>2019-04-30</td>\n",
       "      <td>1</td>\n",
       "      <td>3.0</td>\n",
       "      <td>5.0</td>\n",
       "      <td>NaN</td>\n",
       "      <td>5</td>\n",
       "      <td>False</td>\n",
       "      <td>False</td>\n",
       "      <td>False</td>\n",
       "      <td>NaN</td>\n",
       "      <td>0.0</td>\n",
       "      <td>Санкт-Петербург</td>\n",
       "      <td>36525.0</td>\n",
       "      <td>10302.0</td>\n",
       "      <td>0.0</td>\n",
       "      <td>NaN</td>\n",
       "      <td>0.0</td>\n",
       "      <td>NaN</td>\n",
       "      <td>2.0</td>\n",
       "      <td>312240.00</td>\n",
       "      <td>1</td>\n",
       "      <td>4</td>\n",
       "      <td>2019</td>\n",
       "      <td>последний</td>\n",
       "      <td>NaN</td>\n",
       "      <td>NaN</td>\n",
       "    </tr>\n",
       "    <tr>\n",
       "      <th>17413</th>\n",
       "      <td>3</td>\n",
       "      <td>2.950</td>\n",
       "      <td>35.0</td>\n",
       "      <td>2017-11-10</td>\n",
       "      <td>1</td>\n",
       "      <td>NaN</td>\n",
       "      <td>12.0</td>\n",
       "      <td>18.0</td>\n",
       "      <td>11</td>\n",
       "      <td>False</td>\n",
       "      <td>False</td>\n",
       "      <td>False</td>\n",
       "      <td>6.5</td>\n",
       "      <td>1.0</td>\n",
       "      <td>Санкт-Петербург</td>\n",
       "      <td>49017.0</td>\n",
       "      <td>16550.0</td>\n",
       "      <td>0.0</td>\n",
       "      <td>NaN</td>\n",
       "      <td>0.0</td>\n",
       "      <td>NaN</td>\n",
       "      <td>3.0</td>\n",
       "      <td>84285.71</td>\n",
       "      <td>4</td>\n",
       "      <td>11</td>\n",
       "      <td>2017</td>\n",
       "      <td>другой</td>\n",
       "      <td>0.514286</td>\n",
       "      <td>0.185714</td>\n",
       "    </tr>\n",
       "  </tbody>\n",
       "</table>\n",
       "</div>"
      ],
      "text/plain": [
       "       total_images  last_price  total_area first_day_exposition  rooms  \\\n",
       "1632             19       4.000        49.9           2019-05-01      2   \n",
       "16053             4       4.070        45.1           2019-04-30      2   \n",
       "13061            20       6.100        51.4           2019-04-29      2   \n",
       "16212             0       7.806        25.0           2019-04-30      1   \n",
       "17413             3       2.950        35.0           2017-11-10      1   \n",
       "\n",
       "       ceiling_height  floors_total  living_area  floor  is_apartment  studio  \\\n",
       "1632              2.5           9.0         25.0      1         False   False   \n",
       "16053             NaN           5.0         22.7      3         False   False   \n",
       "13061             3.0           5.0         31.7      4         False   False   \n",
       "16212             3.0           5.0          NaN      5         False   False   \n",
       "17413             NaN          12.0         18.0     11         False   False   \n",
       "\n",
       "       open_plan  kitchen_area  balcony    locality_name  airports_nearest  \\\n",
       "1632       False          10.0      0.0  Санкт-Петербург           13567.0   \n",
       "16053      False           6.6      0.0  Санкт-Петербург           40859.0   \n",
       "13061      False           6.9      1.0  Санкт-Петербург           10776.0   \n",
       "16212      False           NaN      0.0  Санкт-Петербург           36525.0   \n",
       "17413      False           6.5      1.0  Санкт-Петербург           49017.0   \n",
       "\n",
       "       city_centers_nearest  parks_around3000  parks_nearest  \\\n",
       "1632                14384.0               1.0           20.0   \n",
       "16053               11668.0               2.0          485.0   \n",
       "13061                9389.0               0.0            NaN   \n",
       "16212               10302.0               0.0            NaN   \n",
       "17413               16550.0               0.0            NaN   \n",
       "\n",
       "       ponds_around3000  ponds_nearest  days_exposition  price_meter  day  \\\n",
       "1632                1.0          681.0              1.0     80160.32    2   \n",
       "16053               0.0            NaN              2.0     90243.90    1   \n",
       "13061               0.0            NaN              2.0    118677.04    0   \n",
       "16212               0.0            NaN              2.0    312240.00    1   \n",
       "17413               0.0            NaN              3.0     84285.71    4   \n",
       "\n",
       "       month  year floor_level  living_ratio  kitchen_ratio  \n",
       "1632       5  2019      первый      0.501002       0.200401  \n",
       "16053      4  2019      другой      0.503326       0.146341  \n",
       "13061      4  2019      другой      0.616732       0.134241  \n",
       "16212      4  2019   последний           NaN            NaN  \n",
       "17413     11  2017      другой      0.514286       0.185714  "
      ]
     },
     "execution_count": 80,
     "metadata": {},
     "output_type": "execute_result"
    }
   ],
   "source": [
    "data.sort_values(by='days_exposition').head(5) #посмотрим на сверхбыстрые продажи"
   ]
  },
  {
   "cell_type": "code",
   "execution_count": 81,
   "id": "e34e82a9",
   "metadata": {},
   "outputs": [
    {
     "data": {
      "text/html": [
       "<div>\n",
       "<style scoped>\n",
       "    .dataframe tbody tr th:only-of-type {\n",
       "        vertical-align: middle;\n",
       "    }\n",
       "\n",
       "    .dataframe tbody tr th {\n",
       "        vertical-align: top;\n",
       "    }\n",
       "\n",
       "    .dataframe thead th {\n",
       "        text-align: right;\n",
       "    }\n",
       "</style>\n",
       "<table border=\"1\" class=\"dataframe\">\n",
       "  <thead>\n",
       "    <tr style=\"text-align: right;\">\n",
       "      <th></th>\n",
       "      <th>total_images</th>\n",
       "      <th>last_price</th>\n",
       "      <th>total_area</th>\n",
       "      <th>first_day_exposition</th>\n",
       "      <th>rooms</th>\n",
       "      <th>ceiling_height</th>\n",
       "      <th>floors_total</th>\n",
       "      <th>living_area</th>\n",
       "      <th>floor</th>\n",
       "      <th>is_apartment</th>\n",
       "      <th>studio</th>\n",
       "      <th>open_plan</th>\n",
       "      <th>kitchen_area</th>\n",
       "      <th>balcony</th>\n",
       "      <th>locality_name</th>\n",
       "      <th>airports_nearest</th>\n",
       "      <th>city_centers_nearest</th>\n",
       "      <th>parks_around3000</th>\n",
       "      <th>parks_nearest</th>\n",
       "      <th>ponds_around3000</th>\n",
       "      <th>ponds_nearest</th>\n",
       "      <th>days_exposition</th>\n",
       "      <th>price_meter</th>\n",
       "      <th>day</th>\n",
       "      <th>month</th>\n",
       "      <th>year</th>\n",
       "      <th>floor_level</th>\n",
       "      <th>living_ratio</th>\n",
       "      <th>kitchen_ratio</th>\n",
       "    </tr>\n",
       "  </thead>\n",
       "  <tbody>\n",
       "    <tr>\n",
       "      <th>18843</th>\n",
       "      <td>11</td>\n",
       "      <td>3.500000</td>\n",
       "      <td>48.2</td>\n",
       "      <td>2014-12-15</td>\n",
       "      <td>2</td>\n",
       "      <td>2.50</td>\n",
       "      <td>5.0</td>\n",
       "      <td>27.4</td>\n",
       "      <td>2</td>\n",
       "      <td>False</td>\n",
       "      <td>False</td>\n",
       "      <td>False</td>\n",
       "      <td>7.7</td>\n",
       "      <td>3.0</td>\n",
       "      <td>деревня Новое Девяткино</td>\n",
       "      <td>NaN</td>\n",
       "      <td>NaN</td>\n",
       "      <td>NaN</td>\n",
       "      <td>NaN</td>\n",
       "      <td>NaN</td>\n",
       "      <td>NaN</td>\n",
       "      <td>1580.0</td>\n",
       "      <td>72614.11</td>\n",
       "      <td>0</td>\n",
       "      <td>12</td>\n",
       "      <td>2014</td>\n",
       "      <td>другой</td>\n",
       "      <td>0.568465</td>\n",
       "      <td>0.159751</td>\n",
       "    </tr>\n",
       "    <tr>\n",
       "      <th>1109</th>\n",
       "      <td>1</td>\n",
       "      <td>34.878556</td>\n",
       "      <td>95.8</td>\n",
       "      <td>2014-12-09</td>\n",
       "      <td>2</td>\n",
       "      <td>NaN</td>\n",
       "      <td>6.0</td>\n",
       "      <td>58.3</td>\n",
       "      <td>5</td>\n",
       "      <td>True</td>\n",
       "      <td>False</td>\n",
       "      <td>False</td>\n",
       "      <td>20.0</td>\n",
       "      <td>1.0</td>\n",
       "      <td>Санкт-Петербург</td>\n",
       "      <td>21860.0</td>\n",
       "      <td>318.0</td>\n",
       "      <td>2.0</td>\n",
       "      <td>160.0</td>\n",
       "      <td>3.0</td>\n",
       "      <td>569.0</td>\n",
       "      <td>1572.0</td>\n",
       "      <td>364076.78</td>\n",
       "      <td>1</td>\n",
       "      <td>12</td>\n",
       "      <td>2014</td>\n",
       "      <td>другой</td>\n",
       "      <td>0.608559</td>\n",
       "      <td>0.208768</td>\n",
       "    </tr>\n",
       "    <tr>\n",
       "      <th>9553</th>\n",
       "      <td>11</td>\n",
       "      <td>10.600000</td>\n",
       "      <td>80.0</td>\n",
       "      <td>2014-12-09</td>\n",
       "      <td>3</td>\n",
       "      <td>2.85</td>\n",
       "      <td>17.0</td>\n",
       "      <td>44.0</td>\n",
       "      <td>9</td>\n",
       "      <td>False</td>\n",
       "      <td>False</td>\n",
       "      <td>False</td>\n",
       "      <td>15.0</td>\n",
       "      <td>0.0</td>\n",
       "      <td>Санкт-Петербург</td>\n",
       "      <td>17101.0</td>\n",
       "      <td>17110.0</td>\n",
       "      <td>0.0</td>\n",
       "      <td>NaN</td>\n",
       "      <td>0.0</td>\n",
       "      <td>NaN</td>\n",
       "      <td>1553.0</td>\n",
       "      <td>132500.00</td>\n",
       "      <td>1</td>\n",
       "      <td>12</td>\n",
       "      <td>2014</td>\n",
       "      <td>другой</td>\n",
       "      <td>0.550000</td>\n",
       "      <td>0.187500</td>\n",
       "    </tr>\n",
       "    <tr>\n",
       "      <th>1885</th>\n",
       "      <td>2</td>\n",
       "      <td>13.300000</td>\n",
       "      <td>79.6</td>\n",
       "      <td>2014-12-09</td>\n",
       "      <td>2</td>\n",
       "      <td>3.00</td>\n",
       "      <td>8.0</td>\n",
       "      <td>42.7</td>\n",
       "      <td>7</td>\n",
       "      <td>False</td>\n",
       "      <td>False</td>\n",
       "      <td>False</td>\n",
       "      <td>18.0</td>\n",
       "      <td>0.0</td>\n",
       "      <td>Санкт-Петербург</td>\n",
       "      <td>39393.0</td>\n",
       "      <td>11096.0</td>\n",
       "      <td>1.0</td>\n",
       "      <td>537.0</td>\n",
       "      <td>0.0</td>\n",
       "      <td>NaN</td>\n",
       "      <td>1513.0</td>\n",
       "      <td>167085.43</td>\n",
       "      <td>1</td>\n",
       "      <td>12</td>\n",
       "      <td>2014</td>\n",
       "      <td>другой</td>\n",
       "      <td>0.536432</td>\n",
       "      <td>0.226131</td>\n",
       "    </tr>\n",
       "    <tr>\n",
       "      <th>20969</th>\n",
       "      <td>18</td>\n",
       "      <td>13.300000</td>\n",
       "      <td>133.0</td>\n",
       "      <td>2015-02-11</td>\n",
       "      <td>4</td>\n",
       "      <td>3.00</td>\n",
       "      <td>5.0</td>\n",
       "      <td>58.0</td>\n",
       "      <td>2</td>\n",
       "      <td>False</td>\n",
       "      <td>False</td>\n",
       "      <td>False</td>\n",
       "      <td>45.0</td>\n",
       "      <td>0.0</td>\n",
       "      <td>Санкт-Петербург</td>\n",
       "      <td>24653.0</td>\n",
       "      <td>5032.0</td>\n",
       "      <td>0.0</td>\n",
       "      <td>NaN</td>\n",
       "      <td>1.0</td>\n",
       "      <td>534.0</td>\n",
       "      <td>1512.0</td>\n",
       "      <td>100000.00</td>\n",
       "      <td>2</td>\n",
       "      <td>2</td>\n",
       "      <td>2015</td>\n",
       "      <td>другой</td>\n",
       "      <td>0.436090</td>\n",
       "      <td>0.338346</td>\n",
       "    </tr>\n",
       "  </tbody>\n",
       "</table>\n",
       "</div>"
      ],
      "text/plain": [
       "       total_images  last_price  total_area first_day_exposition  rooms  \\\n",
       "18843            11    3.500000        48.2           2014-12-15      2   \n",
       "1109              1   34.878556        95.8           2014-12-09      2   \n",
       "9553             11   10.600000        80.0           2014-12-09      3   \n",
       "1885              2   13.300000        79.6           2014-12-09      2   \n",
       "20969            18   13.300000       133.0           2015-02-11      4   \n",
       "\n",
       "       ceiling_height  floors_total  living_area  floor  is_apartment  studio  \\\n",
       "18843            2.50           5.0         27.4      2         False   False   \n",
       "1109              NaN           6.0         58.3      5          True   False   \n",
       "9553             2.85          17.0         44.0      9         False   False   \n",
       "1885             3.00           8.0         42.7      7         False   False   \n",
       "20969            3.00           5.0         58.0      2         False   False   \n",
       "\n",
       "       open_plan  kitchen_area  balcony            locality_name  \\\n",
       "18843      False           7.7      3.0  деревня Новое Девяткино   \n",
       "1109       False          20.0      1.0          Санкт-Петербург   \n",
       "9553       False          15.0      0.0          Санкт-Петербург   \n",
       "1885       False          18.0      0.0          Санкт-Петербург   \n",
       "20969      False          45.0      0.0          Санкт-Петербург   \n",
       "\n",
       "       airports_nearest  city_centers_nearest  parks_around3000  \\\n",
       "18843               NaN                   NaN               NaN   \n",
       "1109            21860.0                 318.0               2.0   \n",
       "9553            17101.0               17110.0               0.0   \n",
       "1885            39393.0               11096.0               1.0   \n",
       "20969           24653.0                5032.0               0.0   \n",
       "\n",
       "       parks_nearest  ponds_around3000  ponds_nearest  days_exposition  \\\n",
       "18843            NaN               NaN            NaN           1580.0   \n",
       "1109           160.0               3.0          569.0           1572.0   \n",
       "9553             NaN               0.0            NaN           1553.0   \n",
       "1885           537.0               0.0            NaN           1513.0   \n",
       "20969            NaN               1.0          534.0           1512.0   \n",
       "\n",
       "       price_meter  day  month  year floor_level  living_ratio  kitchen_ratio  \n",
       "18843     72614.11    0     12  2014      другой      0.568465       0.159751  \n",
       "1109     364076.78    1     12  2014      другой      0.608559       0.208768  \n",
       "9553     132500.00    1     12  2014      другой      0.550000       0.187500  \n",
       "1885     167085.43    1     12  2014      другой      0.536432       0.226131  \n",
       "20969    100000.00    2      2  2015      другой      0.436090       0.338346  "
      ]
     },
     "execution_count": 81,
     "metadata": {},
     "output_type": "execute_result"
    }
   ],
   "source": [
    "data.sort_values(by='days_exposition', ascending=False).head(5) #и продажи долгожители"
   ]
  },
  {
   "cell_type": "code",
   "execution_count": 82,
   "id": "d9ee7bce",
   "metadata": {},
   "outputs": [
    {
     "name": "stdout",
     "output_type": "stream",
     "text": [
      "Количество аномально быстрых продаж: 161\n",
      "Процент аномально быстрых продаж от общего кол-ва: 1%\n"
     ]
    }
   ],
   "source": [
    "print('Количество аномально быстрых продаж:', len(data[(data['days_exposition']<4)]))\n",
    "print('Процент аномально быстрых продаж от общего кол-ва: {:.0%}'.format(len(data[(data['days_exposition']<4)])/len(data)))"
   ]
  },
  {
   "cell_type": "code",
   "execution_count": 83,
   "id": "947ee696",
   "metadata": {},
   "outputs": [
    {
     "name": "stdout",
     "output_type": "stream",
     "text": [
      "Количество аномально долгих продаж: 1742\n",
      "Процент аномально долгих продаж от общего кол-ва: 7%\n"
     ]
    }
   ],
   "source": [
    "print('Количество аномально долгих продаж:', len(data[(data['days_exposition']>=500)]))\n",
    "print('Процент аномально долгих продаж от общего кол-ва: {:.0%}'.format(len(data[(data['days_exposition']>=500)])/len(data)))"
   ]
  },
  {
   "cell_type": "markdown",
   "id": "1c9c307d",
   "metadata": {},
   "source": [
    "    Сверхбыстрые продажи, это 1-3 дня, таких немного всего 1% от общего количества.\n",
    "    Сверхдолгие продажи - более 500 дней, таких 7% от всех продаж."
   ]
  },
  {
   "cell_type": "markdown",
   "id": "2a6fd9ed",
   "metadata": {},
   "source": [
    "### 4.4. Изучим зависимость стоимости квартиры от:\n",
    "    - площади\n",
    "    - числа комнат \n",
    "    - удалённости от центра \n",
    "    - на каком этаже расположена квартира: первом, последнем или другом. \n",
    "    - даты размещения: дня недели, месяца и года"
   ]
  },
  {
   "cell_type": "code",
   "execution_count": 84,
   "id": "f3b6af15",
   "metadata": {},
   "outputs": [
    {
     "data": {
      "text/html": [
       "<div>\n",
       "<style scoped>\n",
       "    .dataframe tbody tr th:only-of-type {\n",
       "        vertical-align: middle;\n",
       "    }\n",
       "\n",
       "    .dataframe tbody tr th {\n",
       "        vertical-align: top;\n",
       "    }\n",
       "\n",
       "    .dataframe thead th {\n",
       "        text-align: right;\n",
       "    }\n",
       "</style>\n",
       "<table border=\"1\" class=\"dataframe\">\n",
       "  <thead>\n",
       "    <tr style=\"text-align: right;\">\n",
       "      <th></th>\n",
       "      <th>total_images</th>\n",
       "      <th>last_price</th>\n",
       "      <th>total_area</th>\n",
       "      <th>first_day_exposition</th>\n",
       "      <th>rooms</th>\n",
       "      <th>ceiling_height</th>\n",
       "      <th>floors_total</th>\n",
       "      <th>living_area</th>\n",
       "      <th>floor</th>\n",
       "      <th>is_apartment</th>\n",
       "      <th>studio</th>\n",
       "      <th>open_plan</th>\n",
       "      <th>kitchen_area</th>\n",
       "      <th>balcony</th>\n",
       "      <th>locality_name</th>\n",
       "      <th>airports_nearest</th>\n",
       "      <th>city_centers_nearest</th>\n",
       "      <th>parks_around3000</th>\n",
       "      <th>parks_nearest</th>\n",
       "      <th>ponds_around3000</th>\n",
       "      <th>ponds_nearest</th>\n",
       "      <th>days_exposition</th>\n",
       "      <th>price_meter</th>\n",
       "      <th>day</th>\n",
       "      <th>month</th>\n",
       "      <th>year</th>\n",
       "      <th>floor_level</th>\n",
       "      <th>living_ratio</th>\n",
       "      <th>kitchen_ratio</th>\n",
       "    </tr>\n",
       "  </thead>\n",
       "  <tbody>\n",
       "    <tr>\n",
       "      <th>0</th>\n",
       "      <td>20</td>\n",
       "      <td>13.000</td>\n",
       "      <td>108.0</td>\n",
       "      <td>2019-03-07</td>\n",
       "      <td>3</td>\n",
       "      <td>2.70</td>\n",
       "      <td>16.0</td>\n",
       "      <td>51.0</td>\n",
       "      <td>8</td>\n",
       "      <td>False</td>\n",
       "      <td>False</td>\n",
       "      <td>False</td>\n",
       "      <td>25.0</td>\n",
       "      <td>0.0</td>\n",
       "      <td>Санкт-Петербург</td>\n",
       "      <td>18863.0</td>\n",
       "      <td>16028.0</td>\n",
       "      <td>1.0</td>\n",
       "      <td>482.0</td>\n",
       "      <td>2.0</td>\n",
       "      <td>755.0</td>\n",
       "      <td>NaN</td>\n",
       "      <td>120370.37</td>\n",
       "      <td>3</td>\n",
       "      <td>3</td>\n",
       "      <td>2019</td>\n",
       "      <td>другой</td>\n",
       "      <td>0.472222</td>\n",
       "      <td>0.231481</td>\n",
       "    </tr>\n",
       "    <tr>\n",
       "      <th>1</th>\n",
       "      <td>7</td>\n",
       "      <td>3.350</td>\n",
       "      <td>40.4</td>\n",
       "      <td>2018-12-04</td>\n",
       "      <td>1</td>\n",
       "      <td>NaN</td>\n",
       "      <td>11.0</td>\n",
       "      <td>18.6</td>\n",
       "      <td>1</td>\n",
       "      <td>False</td>\n",
       "      <td>False</td>\n",
       "      <td>False</td>\n",
       "      <td>11.0</td>\n",
       "      <td>2.0</td>\n",
       "      <td>посёлок Шушары</td>\n",
       "      <td>12817.0</td>\n",
       "      <td>18603.0</td>\n",
       "      <td>0.0</td>\n",
       "      <td>NaN</td>\n",
       "      <td>0.0</td>\n",
       "      <td>NaN</td>\n",
       "      <td>81.0</td>\n",
       "      <td>82920.79</td>\n",
       "      <td>1</td>\n",
       "      <td>12</td>\n",
       "      <td>2018</td>\n",
       "      <td>первый</td>\n",
       "      <td>0.460396</td>\n",
       "      <td>0.272277</td>\n",
       "    </tr>\n",
       "    <tr>\n",
       "      <th>2</th>\n",
       "      <td>10</td>\n",
       "      <td>5.196</td>\n",
       "      <td>56.0</td>\n",
       "      <td>2015-08-20</td>\n",
       "      <td>2</td>\n",
       "      <td>NaN</td>\n",
       "      <td>5.0</td>\n",
       "      <td>34.3</td>\n",
       "      <td>4</td>\n",
       "      <td>False</td>\n",
       "      <td>False</td>\n",
       "      <td>False</td>\n",
       "      <td>8.3</td>\n",
       "      <td>0.0</td>\n",
       "      <td>Санкт-Петербург</td>\n",
       "      <td>21741.0</td>\n",
       "      <td>13933.0</td>\n",
       "      <td>1.0</td>\n",
       "      <td>90.0</td>\n",
       "      <td>2.0</td>\n",
       "      <td>574.0</td>\n",
       "      <td>558.0</td>\n",
       "      <td>92785.71</td>\n",
       "      <td>3</td>\n",
       "      <td>8</td>\n",
       "      <td>2015</td>\n",
       "      <td>другой</td>\n",
       "      <td>0.612500</td>\n",
       "      <td>0.148214</td>\n",
       "    </tr>\n",
       "    <tr>\n",
       "      <th>3</th>\n",
       "      <td>0</td>\n",
       "      <td>64.900</td>\n",
       "      <td>159.0</td>\n",
       "      <td>2015-07-24</td>\n",
       "      <td>3</td>\n",
       "      <td>NaN</td>\n",
       "      <td>14.0</td>\n",
       "      <td>NaN</td>\n",
       "      <td>9</td>\n",
       "      <td>False</td>\n",
       "      <td>False</td>\n",
       "      <td>False</td>\n",
       "      <td>NaN</td>\n",
       "      <td>0.0</td>\n",
       "      <td>Санкт-Петербург</td>\n",
       "      <td>28098.0</td>\n",
       "      <td>6800.0</td>\n",
       "      <td>2.0</td>\n",
       "      <td>84.0</td>\n",
       "      <td>3.0</td>\n",
       "      <td>234.0</td>\n",
       "      <td>424.0</td>\n",
       "      <td>408176.10</td>\n",
       "      <td>4</td>\n",
       "      <td>7</td>\n",
       "      <td>2015</td>\n",
       "      <td>другой</td>\n",
       "      <td>NaN</td>\n",
       "      <td>NaN</td>\n",
       "    </tr>\n",
       "    <tr>\n",
       "      <th>4</th>\n",
       "      <td>2</td>\n",
       "      <td>10.000</td>\n",
       "      <td>100.0</td>\n",
       "      <td>2018-06-19</td>\n",
       "      <td>2</td>\n",
       "      <td>3.03</td>\n",
       "      <td>14.0</td>\n",
       "      <td>32.0</td>\n",
       "      <td>13</td>\n",
       "      <td>False</td>\n",
       "      <td>False</td>\n",
       "      <td>False</td>\n",
       "      <td>41.0</td>\n",
       "      <td>0.0</td>\n",
       "      <td>Санкт-Петербург</td>\n",
       "      <td>31856.0</td>\n",
       "      <td>8098.0</td>\n",
       "      <td>2.0</td>\n",
       "      <td>112.0</td>\n",
       "      <td>1.0</td>\n",
       "      <td>48.0</td>\n",
       "      <td>121.0</td>\n",
       "      <td>100000.00</td>\n",
       "      <td>1</td>\n",
       "      <td>6</td>\n",
       "      <td>2018</td>\n",
       "      <td>другой</td>\n",
       "      <td>0.320000</td>\n",
       "      <td>0.410000</td>\n",
       "    </tr>\n",
       "  </tbody>\n",
       "</table>\n",
       "</div>"
      ],
      "text/plain": [
       "   total_images  last_price  total_area first_day_exposition  rooms  \\\n",
       "0            20      13.000       108.0           2019-03-07      3   \n",
       "1             7       3.350        40.4           2018-12-04      1   \n",
       "2            10       5.196        56.0           2015-08-20      2   \n",
       "3             0      64.900       159.0           2015-07-24      3   \n",
       "4             2      10.000       100.0           2018-06-19      2   \n",
       "\n",
       "   ceiling_height  floors_total  living_area  floor  is_apartment  studio  \\\n",
       "0            2.70          16.0         51.0      8         False   False   \n",
       "1             NaN          11.0         18.6      1         False   False   \n",
       "2             NaN           5.0         34.3      4         False   False   \n",
       "3             NaN          14.0          NaN      9         False   False   \n",
       "4            3.03          14.0         32.0     13         False   False   \n",
       "\n",
       "   open_plan  kitchen_area  balcony    locality_name  airports_nearest  \\\n",
       "0      False          25.0      0.0  Санкт-Петербург           18863.0   \n",
       "1      False          11.0      2.0   посёлок Шушары           12817.0   \n",
       "2      False           8.3      0.0  Санкт-Петербург           21741.0   \n",
       "3      False           NaN      0.0  Санкт-Петербург           28098.0   \n",
       "4      False          41.0      0.0  Санкт-Петербург           31856.0   \n",
       "\n",
       "   city_centers_nearest  parks_around3000  parks_nearest  ponds_around3000  \\\n",
       "0               16028.0               1.0          482.0               2.0   \n",
       "1               18603.0               0.0            NaN               0.0   \n",
       "2               13933.0               1.0           90.0               2.0   \n",
       "3                6800.0               2.0           84.0               3.0   \n",
       "4                8098.0               2.0          112.0               1.0   \n",
       "\n",
       "   ponds_nearest  days_exposition  price_meter  day  month  year floor_level  \\\n",
       "0          755.0              NaN    120370.37    3      3  2019      другой   \n",
       "1            NaN             81.0     82920.79    1     12  2018      первый   \n",
       "2          574.0            558.0     92785.71    3      8  2015      другой   \n",
       "3          234.0            424.0    408176.10    4      7  2015      другой   \n",
       "4           48.0            121.0    100000.00    1      6  2018      другой   \n",
       "\n",
       "   living_ratio  kitchen_ratio  \n",
       "0      0.472222       0.231481  \n",
       "1      0.460396       0.272277  \n",
       "2      0.612500       0.148214  \n",
       "3           NaN            NaN  \n",
       "4      0.320000       0.410000  "
      ]
     },
     "execution_count": 84,
     "metadata": {},
     "output_type": "execute_result"
    }
   ],
   "source": [
    "data.head()"
   ]
  },
  {
   "cell_type": "markdown",
   "id": "162014fd",
   "metadata": {},
   "source": [
    "#### Зависимость цены от площади квартиры"
   ]
  },
  {
   "cell_type": "code",
   "execution_count": 85,
   "id": "6330a6a0",
   "metadata": {},
   "outputs": [
    {
     "data": {
      "text/plain": [
       "Text(0.5, 1.0, 'цена-площадь')"
      ]
     },
     "execution_count": 85,
     "metadata": {},
     "output_type": "execute_result"
    },
    {
     "data": {
      "image/png": "[encoded data removed]",
      "text/plain": [
       "<Figure size 1080x432 with 1 Axes>"
      ]
     },
     "metadata": {
      "needs_background": "light"
     },
     "output_type": "display_data"
    }
   ],
   "source": [
    "#Посмотрим на зависимость цены квартиры от её площади\n",
    "data.plot(y='last_price',x='total_area',kind='scatter', alpha=0.15, figsize=(15,6))\n",
    "plt.title('цена-площадь', fontsize=15)"
   ]
  },
  {
   "cell_type": "code",
   "execution_count": 86,
   "id": "0d9cd48c",
   "metadata": {},
   "outputs": [
    {
     "data": {
      "text/plain": [
       "0.3025689472474868"
      ]
     },
     "execution_count": 86,
     "metadata": {},
     "output_type": "execute_result"
    }
   ],
   "source": [
    "data['total_area'].corr(data['price_meter'])"
   ]
  },
  {
   "cell_type": "markdown",
   "id": "01c826e2",
   "metadata": {},
   "source": [
    "Незначительная корреляция есть: чем больше площадь квартиры, тем она дороже"
   ]
  },
  {
   "cell_type": "markdown",
   "id": "e3ccc363",
   "metadata": {},
   "source": [
    "#### Зависимость цены от количества комнат в квартире"
   ]
  },
  {
   "cell_type": "code",
   "execution_count": 87,
   "id": "d3730157",
   "metadata": {},
   "outputs": [
    {
     "data": {
      "text/plain": [
       "Text(0.5, 1.0, 'цена-комнаты')"
      ]
     },
     "execution_count": 87,
     "metadata": {},
     "output_type": "execute_result"
    },
    {
     "data": {
      "image/png": "[encoded data removed]",
      "text/plain": [
       "<Figure size 720x432 with 1 Axes>"
      ]
     },
     "metadata": {
      "needs_background": "light"
     },
     "output_type": "display_data"
    }
   ],
   "source": [
    "#Посмотрим на зависимость цены квартиры от кол-ва комнат по общему датафрейму\n",
    "data.plot(y='last_price',x='rooms',kind='scatter', figsize=(10,6))\n",
    "plt.title('цена-комнаты', fontsize=15)"
   ]
  },
  {
   "cell_type": "code",
   "execution_count": 88,
   "id": "e4d86f5b",
   "metadata": {},
   "outputs": [
    {
     "data": {
      "text/plain": [
       "0.05935020842754861"
      ]
     },
     "execution_count": 88,
     "metadata": {},
     "output_type": "execute_result"
    }
   ],
   "source": [
    "#Посмотрим корреляцию между площадью и ценой\n",
    "data['rooms'].corr(data['price_meter'])"
   ]
  },
  {
   "cell_type": "markdown",
   "id": "652776ec",
   "metadata": {},
   "source": [
    "Корреляция между ценой и количеством комнат почти нулевая"
   ]
  },
  {
   "cell_type": "markdown",
   "id": "18a448a1",
   "metadata": {},
   "source": [
    "#### Зависимоть цены от удаленности от центра"
   ]
  },
  {
   "cell_type": "code",
   "execution_count": 89,
   "id": "d3dd6041",
   "metadata": {},
   "outputs": [
    {
     "data": {
      "text/plain": [
       "Text(0.5, 1.0, 'цена-удаленность от центра')"
      ]
     },
     "execution_count": 89,
     "metadata": {},
     "output_type": "execute_result"
    },
    {
     "data": {
      "image/png": "[encoded data removed]",
      "text/plain": [
       "<Figure size 720x432 with 1 Axes>"
      ]
     },
     "metadata": {
      "needs_background": "light"
     },
     "output_type": "display_data"
    }
   ],
   "source": [
    "#Посмотрим на зависимость цены квартиры от удаленности от центра\n",
    "data.plot(y='last_price',x='city_centers_nearest',kind='scatter', figsize=(10,6), alpha=0.15)\n",
    "plt.title('цена-удаленность от центра', fontsize=15)"
   ]
  },
  {
   "cell_type": "code",
   "execution_count": 90,
   "id": "9158f515",
   "metadata": {},
   "outputs": [
    {
     "data": {
      "text/plain": [
       "-0.31762654320921624"
      ]
     },
     "execution_count": 90,
     "metadata": {},
     "output_type": "execute_result"
    }
   ],
   "source": [
    "data['city_centers_nearest'].corr(data['price_meter'])"
   ]
  },
  {
   "cell_type": "markdown",
   "id": "2dbed972",
   "metadata": {},
   "source": [
    "Корреляция отрицательная, значит отдаляясь от центра квартиры становятся дешевле"
   ]
  },
  {
   "cell_type": "markdown",
   "id": "33906bd4",
   "metadata": {},
   "source": [
    "#### Зависимость цены от этажа квартиры"
   ]
  },
  {
   "cell_type": "code",
   "execution_count": 91,
   "id": "985a2528",
   "metadata": {},
   "outputs": [
    {
     "data": {
      "text/html": [
       "<div>\n",
       "<style scoped>\n",
       "    .dataframe tbody tr th:only-of-type {\n",
       "        vertical-align: middle;\n",
       "    }\n",
       "\n",
       "    .dataframe tbody tr th {\n",
       "        vertical-align: top;\n",
       "    }\n",
       "\n",
       "    .dataframe thead th {\n",
       "        text-align: right;\n",
       "    }\n",
       "</style>\n",
       "<table border=\"1\" class=\"dataframe\">\n",
       "  <thead>\n",
       "    <tr style=\"text-align: right;\">\n",
       "      <th></th>\n",
       "      <th>last_price</th>\n",
       "    </tr>\n",
       "    <tr>\n",
       "      <th>floor_level</th>\n",
       "      <th></th>\n",
       "    </tr>\n",
       "  </thead>\n",
       "  <tbody>\n",
       "    <tr>\n",
       "      <th>другой</th>\n",
       "      <td>6.674670</td>\n",
       "    </tr>\n",
       "    <tr>\n",
       "      <th>первый</th>\n",
       "      <td>4.802604</td>\n",
       "    </tr>\n",
       "    <tr>\n",
       "      <th>последний</th>\n",
       "      <td>7.359138</td>\n",
       "    </tr>\n",
       "  </tbody>\n",
       "</table>\n",
       "</div>"
      ],
      "text/plain": [
       "             last_price\n",
       "floor_level            \n",
       "другой         6.674670\n",
       "первый         4.802604\n",
       "последний      7.359138"
      ]
     },
     "execution_count": 91,
     "metadata": {},
     "output_type": "execute_result"
    }
   ],
   "source": [
    "floor_pivot = data.pivot_table(index='floor_level', #посмотрим сводную по категориям этажности квартир\n",
    "                               values='last_price',\n",
    "                               aggfunc='mean')\n",
    "floor_pivot"
   ]
  },
  {
   "cell_type": "code",
   "execution_count": 92,
   "id": "6ff020bb",
   "metadata": {},
   "outputs": [
    {
     "data": {
      "text/plain": [
       "Text(0.5, 1.0, 'цена-этаж')"
      ]
     },
     "execution_count": 92,
     "metadata": {},
     "output_type": "execute_result"
    },
    {
     "data": {
      "image/png": "[encoded data removed]",
      "text/plain": [
       "<Figure size 720x432 with 1 Axes>"
      ]
     },
     "metadata": {
      "needs_background": "light"
     },
     "output_type": "display_data"
    }
   ],
   "source": [
    "#Нарисуем график по сводной таблице\n",
    "floor_pivot.plot(y='last_price',style='o-', figsize=(10,6))\n",
    "plt.title('цена-этаж', fontsize=15)"
   ]
  },
  {
   "cell_type": "markdown",
   "id": "9eaf22e2",
   "metadata": {},
   "source": [
    "Точно можно сказать, что квартиры на первых этажах дешевле остальных"
   ]
  },
  {
   "cell_type": "markdown",
   "id": "e6d59adc",
   "metadata": {},
   "source": [
    "#### Зависимость цены от даты размещения"
   ]
  },
  {
   "cell_type": "code",
   "execution_count": 93,
   "id": "a8a08c89",
   "metadata": {},
   "outputs": [
    {
     "data": {
      "text/html": [
       "<div>\n",
       "<style scoped>\n",
       "    .dataframe tbody tr th:only-of-type {\n",
       "        vertical-align: middle;\n",
       "    }\n",
       "\n",
       "    .dataframe tbody tr th {\n",
       "        vertical-align: top;\n",
       "    }\n",
       "\n",
       "    .dataframe thead th {\n",
       "        text-align: right;\n",
       "    }\n",
       "</style>\n",
       "<table border=\"1\" class=\"dataframe\">\n",
       "  <thead>\n",
       "    <tr style=\"text-align: right;\">\n",
       "      <th></th>\n",
       "      <th>last_price</th>\n",
       "    </tr>\n",
       "    <tr>\n",
       "      <th>day</th>\n",
       "      <th></th>\n",
       "    </tr>\n",
       "  </thead>\n",
       "  <tbody>\n",
       "    <tr>\n",
       "      <th>0</th>\n",
       "      <td>6.519039</td>\n",
       "    </tr>\n",
       "    <tr>\n",
       "      <th>1</th>\n",
       "      <td>6.389281</td>\n",
       "    </tr>\n",
       "    <tr>\n",
       "      <th>2</th>\n",
       "      <td>6.630246</td>\n",
       "    </tr>\n",
       "    <tr>\n",
       "      <th>3</th>\n",
       "      <td>6.707446</td>\n",
       "    </tr>\n",
       "    <tr>\n",
       "      <th>4</th>\n",
       "      <td>6.359714</td>\n",
       "    </tr>\n",
       "    <tr>\n",
       "      <th>5</th>\n",
       "      <td>6.986165</td>\n",
       "    </tr>\n",
       "    <tr>\n",
       "      <th>6</th>\n",
       "      <td>6.242137</td>\n",
       "    </tr>\n",
       "  </tbody>\n",
       "</table>\n",
       "</div>"
      ],
      "text/plain": [
       "     last_price\n",
       "day            \n",
       "0      6.519039\n",
       "1      6.389281\n",
       "2      6.630246\n",
       "3      6.707446\n",
       "4      6.359714\n",
       "5      6.986165\n",
       "6      6.242137"
      ]
     },
     "execution_count": 93,
     "metadata": {},
     "output_type": "execute_result"
    }
   ],
   "source": [
    "day_pivot = data.pivot_table(index='day', #посмотрим сводную по дням недели и средним ценам\n",
    "                               values='last_price',\n",
    "                               aggfunc='mean')\n",
    "day_pivot"
   ]
  },
  {
   "cell_type": "code",
   "execution_count": 94,
   "id": "0df6eb2d",
   "metadata": {},
   "outputs": [
    {
     "data": {
      "text/plain": [
       "Text(0.5, 1.0, 'цена-день недели')"
      ]
     },
     "execution_count": 94,
     "metadata": {},
     "output_type": "execute_result"
    },
    {
     "data": {
      "image/png": "[encoded data removed]",
      "text/plain": [
       "<Figure size 720x432 with 1 Axes>"
      ]
     },
     "metadata": {
      "needs_background": "light"
     },
     "output_type": "display_data"
    }
   ],
   "source": [
    "#Нарисуем график по сводной\n",
    "day_pivot.plot(y='last_price',style='o-', figsize=(10,6))\n",
    "plt.title('цена-день недели', fontsize=15)"
   ]
  },
  {
   "cell_type": "markdown",
   "id": "b011b3a9",
   "metadata": {},
   "source": [
    "На графике видна такая тенденция:\n",
    "- в субботу выкладывают квартиры по более высокой цене\n",
    "- в воскресенье наоборот - по наиболее низкой"
   ]
  },
  {
   "cell_type": "code",
   "execution_count": 95,
   "id": "5fe17511",
   "metadata": {},
   "outputs": [
    {
     "data": {
      "text/html": [
       "<div>\n",
       "<style scoped>\n",
       "    .dataframe tbody tr th:only-of-type {\n",
       "        vertical-align: middle;\n",
       "    }\n",
       "\n",
       "    .dataframe tbody tr th {\n",
       "        vertical-align: top;\n",
       "    }\n",
       "\n",
       "    .dataframe thead th {\n",
       "        text-align: right;\n",
       "    }\n",
       "</style>\n",
       "<table border=\"1\" class=\"dataframe\">\n",
       "  <thead>\n",
       "    <tr style=\"text-align: right;\">\n",
       "      <th></th>\n",
       "      <th>last_price</th>\n",
       "    </tr>\n",
       "    <tr>\n",
       "      <th>month</th>\n",
       "      <th></th>\n",
       "    </tr>\n",
       "  </thead>\n",
       "  <tbody>\n",
       "    <tr>\n",
       "      <th>1</th>\n",
       "      <td>6.664171</td>\n",
       "    </tr>\n",
       "    <tr>\n",
       "      <th>2</th>\n",
       "      <td>6.463941</td>\n",
       "    </tr>\n",
       "    <tr>\n",
       "      <th>3</th>\n",
       "      <td>6.359922</td>\n",
       "    </tr>\n",
       "    <tr>\n",
       "      <th>4</th>\n",
       "      <td>6.743395</td>\n",
       "    </tr>\n",
       "    <tr>\n",
       "      <th>5</th>\n",
       "      <td>6.591127</td>\n",
       "    </tr>\n",
       "    <tr>\n",
       "      <th>6</th>\n",
       "      <td>6.318354</td>\n",
       "    </tr>\n",
       "    <tr>\n",
       "      <th>7</th>\n",
       "      <td>6.639479</td>\n",
       "    </tr>\n",
       "    <tr>\n",
       "      <th>8</th>\n",
       "      <td>6.345784</td>\n",
       "    </tr>\n",
       "    <tr>\n",
       "      <th>9</th>\n",
       "      <td>6.839898</td>\n",
       "    </tr>\n",
       "    <tr>\n",
       "      <th>10</th>\n",
       "      <td>6.236776</td>\n",
       "    </tr>\n",
       "    <tr>\n",
       "      <th>11</th>\n",
       "      <td>6.449083</td>\n",
       "    </tr>\n",
       "    <tr>\n",
       "      <th>12</th>\n",
       "      <td>7.005343</td>\n",
       "    </tr>\n",
       "  </tbody>\n",
       "</table>\n",
       "</div>"
      ],
      "text/plain": [
       "       last_price\n",
       "month            \n",
       "1        6.664171\n",
       "2        6.463941\n",
       "3        6.359922\n",
       "4        6.743395\n",
       "5        6.591127\n",
       "6        6.318354\n",
       "7        6.639479\n",
       "8        6.345784\n",
       "9        6.839898\n",
       "10       6.236776\n",
       "11       6.449083\n",
       "12       7.005343"
      ]
     },
     "execution_count": 95,
     "metadata": {},
     "output_type": "execute_result"
    }
   ],
   "source": [
    "month_pivot = data.pivot_table(index='month', #посмотрим сводную по месяцам и средним ценам\n",
    "                               values='last_price',\n",
    "                               aggfunc='mean')\n",
    "month_pivot"
   ]
  },
  {
   "cell_type": "code",
   "execution_count": 96,
   "id": "18e7df2b",
   "metadata": {},
   "outputs": [
    {
     "data": {
      "text/plain": [
       "Text(0.5, 1.0, 'цена-месяц')"
      ]
     },
     "execution_count": 96,
     "metadata": {},
     "output_type": "execute_result"
    },
    {
     "data": {
      "image/png": "[encoded data removed]",
      "text/plain": [
       "<Figure size 720x432 with 1 Axes>"
      ]
     },
     "metadata": {
      "needs_background": "light"
     },
     "output_type": "display_data"
    }
   ],
   "source": [
    "#Нарисуем график\n",
    "month_pivot.plot(y='last_price',style='o-', figsize=(10,6))\n",
    "plt.title('цена-месяц', fontsize=15)"
   ]
  },
  {
   "cell_type": "markdown",
   "id": "34d0f708",
   "metadata": {},
   "source": [
    "Наиболее дешевые квартиры появляются в объявлениях в октябре, в декабре - наиболее дорогие"
   ]
  },
  {
   "cell_type": "code",
   "execution_count": 97,
   "id": "b3e1c071",
   "metadata": {},
   "outputs": [
    {
     "data": {
      "text/html": [
       "<div>\n",
       "<style scoped>\n",
       "    .dataframe tbody tr th:only-of-type {\n",
       "        vertical-align: middle;\n",
       "    }\n",
       "\n",
       "    .dataframe tbody tr th {\n",
       "        vertical-align: top;\n",
       "    }\n",
       "\n",
       "    .dataframe thead th {\n",
       "        text-align: right;\n",
       "    }\n",
       "</style>\n",
       "<table border=\"1\" class=\"dataframe\">\n",
       "  <thead>\n",
       "    <tr style=\"text-align: right;\">\n",
       "      <th></th>\n",
       "      <th>last_price</th>\n",
       "    </tr>\n",
       "    <tr>\n",
       "      <th>year</th>\n",
       "      <th></th>\n",
       "    </tr>\n",
       "  </thead>\n",
       "  <tbody>\n",
       "    <tr>\n",
       "      <th>2014</th>\n",
       "      <td>12.046600</td>\n",
       "    </tr>\n",
       "    <tr>\n",
       "      <th>2015</th>\n",
       "      <td>8.595669</td>\n",
       "    </tr>\n",
       "    <tr>\n",
       "      <th>2016</th>\n",
       "      <td>6.829117</td>\n",
       "    </tr>\n",
       "    <tr>\n",
       "      <th>2017</th>\n",
       "      <td>6.582530</td>\n",
       "    </tr>\n",
       "    <tr>\n",
       "      <th>2018</th>\n",
       "      <td>5.954552</td>\n",
       "    </tr>\n",
       "    <tr>\n",
       "      <th>2019</th>\n",
       "      <td>6.779324</td>\n",
       "    </tr>\n",
       "  </tbody>\n",
       "</table>\n",
       "</div>"
      ],
      "text/plain": [
       "      last_price\n",
       "year            \n",
       "2014   12.046600\n",
       "2015    8.595669\n",
       "2016    6.829117\n",
       "2017    6.582530\n",
       "2018    5.954552\n",
       "2019    6.779324"
      ]
     },
     "execution_count": 97,
     "metadata": {},
     "output_type": "execute_result"
    }
   ],
   "source": [
    "year_pivot = data.pivot_table(index='year', #посмотрим сводную по годам и средним ценам\n",
    "                               values='last_price',\n",
    "                               aggfunc='mean')\n",
    "year_pivot"
   ]
  },
  {
   "cell_type": "code",
   "execution_count": 98,
   "id": "d3d6c8fa",
   "metadata": {},
   "outputs": [
    {
     "data": {
      "text/plain": [
       "Text(0.5, 1.0, 'цена-год')"
      ]
     },
     "execution_count": 98,
     "metadata": {},
     "output_type": "execute_result"
    },
    {
     "data": {
      "image/png": "[encoded data removed]",
      "text/plain": [
       "<Figure size 720x432 with 1 Axes>"
      ]
     },
     "metadata": {
      "needs_background": "light"
     },
     "output_type": "display_data"
    }
   ],
   "source": [
    "#Нарисуем график\n",
    "year_pivot.plot(y='last_price',style='o-', figsize=(10,6))\n",
    "plt.title('цена-год', fontsize=15)"
   ]
  },
  {
   "cell_type": "markdown",
   "id": "15da1acf",
   "metadata": {},
   "source": [
    "На графике отчетливо видно снижение цены начиная с 2014 по 2018. Предположительно, цены на недвижимость в 2014 году были завышены в связи с кризисом в этом году.\n",
    "В последствии, стабилизация в экономике привела к снижению стоимости квартир. Вплоть до 2018 года, далее мы видим повышение цены."
   ]
  },
  {
   "cell_type": "markdown",
   "id": "1019ca05",
   "metadata": {},
   "source": [
    "Посмотрим на динамику цен за квадратный метр по годам. Возможно будут расхождения с предыдущим графиком."
   ]
  },
  {
   "cell_type": "code",
   "execution_count": 99,
   "id": "f96be5f6",
   "metadata": {},
   "outputs": [
    {
     "data": {
      "text/html": [
       "<div>\n",
       "<style scoped>\n",
       "    .dataframe tbody tr th:only-of-type {\n",
       "        vertical-align: middle;\n",
       "    }\n",
       "\n",
       "    .dataframe tbody tr th {\n",
       "        vertical-align: top;\n",
       "    }\n",
       "\n",
       "    .dataframe thead th {\n",
       "        text-align: right;\n",
       "    }\n",
       "</style>\n",
       "<table border=\"1\" class=\"dataframe\">\n",
       "  <thead>\n",
       "    <tr style=\"text-align: right;\">\n",
       "      <th></th>\n",
       "      <th>price_meter</th>\n",
       "    </tr>\n",
       "    <tr>\n",
       "      <th>year</th>\n",
       "      <th></th>\n",
       "    </tr>\n",
       "  </thead>\n",
       "  <tbody>\n",
       "    <tr>\n",
       "      <th>2014</th>\n",
       "      <td>124302.355882</td>\n",
       "    </tr>\n",
       "    <tr>\n",
       "      <th>2015</th>\n",
       "      <td>104640.330051</td>\n",
       "    </tr>\n",
       "    <tr>\n",
       "      <th>2016</th>\n",
       "      <td>98291.798332</td>\n",
       "    </tr>\n",
       "    <tr>\n",
       "      <th>2017</th>\n",
       "      <td>97638.122260</td>\n",
       "    </tr>\n",
       "    <tr>\n",
       "      <th>2018</th>\n",
       "      <td>97764.195225</td>\n",
       "    </tr>\n",
       "    <tr>\n",
       "      <th>2019</th>\n",
       "      <td>107047.268137</td>\n",
       "    </tr>\n",
       "  </tbody>\n",
       "</table>\n",
       "</div>"
      ],
      "text/plain": [
       "        price_meter\n",
       "year               \n",
       "2014  124302.355882\n",
       "2015  104640.330051\n",
       "2016   98291.798332\n",
       "2017   97638.122260\n",
       "2018   97764.195225\n",
       "2019  107047.268137"
      ]
     },
     "execution_count": 99,
     "metadata": {},
     "output_type": "execute_result"
    }
   ],
   "source": [
    "year_m2_pivot = data.pivot_table(index='year', #посмотрим сводную по годам и средним ценам за кв.метр\n",
    "                               values='price_meter',\n",
    "                               aggfunc='mean')\n",
    "year_m2_pivot"
   ]
  },
  {
   "cell_type": "code",
   "execution_count": 100,
   "id": "3dd58eb4",
   "metadata": {},
   "outputs": [
    {
     "data": {
      "text/plain": [
       "Text(0.5, 1.0, 'цена за м2-год')"
      ]
     },
     "execution_count": 100,
     "metadata": {},
     "output_type": "execute_result"
    },
    {
     "data": {
      "image/png": "[encoded data removed]",
      "text/plain": [
       "<Figure size 720x432 with 1 Axes>"
      ]
     },
     "metadata": {
      "needs_background": "light"
     },
     "output_type": "display_data"
    }
   ],
   "source": [
    "year_m2_pivot.plot(y='price_meter',style='o-', figsize=(10,6)) #построим график\n",
    "plt.title('цена за м2-год', fontsize=15)"
   ]
  },
  {
   "cell_type": "markdown",
   "id": "7559395c",
   "metadata": {},
   "source": [
    "Графики цен за квадратный метр и за квартиру по годам имеют схожую динамику."
   ]
  },
  {
   "cell_type": "code",
   "execution_count": 101,
   "id": "da36b085",
   "metadata": {},
   "outputs": [
    {
     "data": {
      "text/html": [
       "<div>\n",
       "<style scoped>\n",
       "    .dataframe tbody tr th:only-of-type {\n",
       "        vertical-align: middle;\n",
       "    }\n",
       "\n",
       "    .dataframe tbody tr th {\n",
       "        vertical-align: top;\n",
       "    }\n",
       "\n",
       "    .dataframe thead th {\n",
       "        text-align: right;\n",
       "    }\n",
       "</style>\n",
       "<table border=\"1\" class=\"dataframe\">\n",
       "  <thead>\n",
       "    <tr style=\"text-align: right;\">\n",
       "      <th></th>\n",
       "      <th>price_meter</th>\n",
       "      <th>total_area</th>\n",
       "      <th>last_price</th>\n",
       "      <th>city_centers_nearest</th>\n",
       "      <th>rooms</th>\n",
       "    </tr>\n",
       "  </thead>\n",
       "  <tbody>\n",
       "    <tr>\n",
       "      <th>price_meter</th>\n",
       "      <td>1.000000</td>\n",
       "      <td>0.302569</td>\n",
       "      <td>0.736799</td>\n",
       "      <td>-0.317627</td>\n",
       "      <td>0.059350</td>\n",
       "    </tr>\n",
       "    <tr>\n",
       "      <th>total_area</th>\n",
       "      <td>0.302569</td>\n",
       "      <td>1.000000</td>\n",
       "      <td>0.653620</td>\n",
       "      <td>-0.231193</td>\n",
       "      <td>0.757112</td>\n",
       "    </tr>\n",
       "    <tr>\n",
       "      <th>last_price</th>\n",
       "      <td>0.736799</td>\n",
       "      <td>0.653620</td>\n",
       "      <td>1.000000</td>\n",
       "      <td>-0.206382</td>\n",
       "      <td>0.364324</td>\n",
       "    </tr>\n",
       "    <tr>\n",
       "      <th>city_centers_nearest</th>\n",
       "      <td>-0.317627</td>\n",
       "      <td>-0.231193</td>\n",
       "      <td>-0.206382</td>\n",
       "      <td>1.000000</td>\n",
       "      <td>-0.187438</td>\n",
       "    </tr>\n",
       "    <tr>\n",
       "      <th>rooms</th>\n",
       "      <td>0.059350</td>\n",
       "      <td>0.757112</td>\n",
       "      <td>0.364324</td>\n",
       "      <td>-0.187438</td>\n",
       "      <td>1.000000</td>\n",
       "    </tr>\n",
       "  </tbody>\n",
       "</table>\n",
       "</div>"
      ],
      "text/plain": [
       "                      price_meter  total_area  last_price  \\\n",
       "price_meter              1.000000    0.302569    0.736799   \n",
       "total_area               0.302569    1.000000    0.653620   \n",
       "last_price               0.736799    0.653620    1.000000   \n",
       "city_centers_nearest    -0.317627   -0.231193   -0.206382   \n",
       "rooms                    0.059350    0.757112    0.364324   \n",
       "\n",
       "                      city_centers_nearest     rooms  \n",
       "price_meter                      -0.317627  0.059350  \n",
       "total_area                       -0.231193  0.757112  \n",
       "last_price                       -0.206382  0.364324  \n",
       "city_centers_nearest              1.000000 -0.187438  \n",
       "rooms                            -0.187438  1.000000  "
      ]
     },
     "execution_count": 101,
     "metadata": {},
     "output_type": "execute_result"
    }
   ],
   "source": [
    "#посмотрим на общую табличку корреляций по параметрам\n",
    "corr = data[['price_meter',\\\n",
    "           'total_area',\\\n",
    "           'last_price',\\\n",
    "           'city_centers_nearest',\\\n",
    "           'rooms']].corr()\n",
    "corr"
   ]
  },
  {
   "cell_type": "markdown",
   "id": "137def7f",
   "metadata": {},
   "source": [
    "#### Выводы:"
   ]
  },
  {
   "cell_type": "markdown",
   "id": "f2347284",
   "metadata": {},
   "source": [
    "        Чем больше площадь квартиры, тем она дороже.\n",
    "        Количество комнат не влияет на ценообразование.\n",
    "        Отдаляясь от центра, квартиры дешевле в цене.\n",
    "        Квартиры на первых этажах дешевле остальных.\n",
    "        Зависимость цены от даты размещения объявления (день, месяц) практически нет - в рамках среднего значения.\n",
    "        С 2014г. по 2018г. наблюдалось снижение цены на квартиры, с 2018г. - повышение."
   ]
  },
  {
   "cell_type": "markdown",
   "id": "40351562",
   "metadata": {},
   "source": [
    "### 4.5. Выделим населенные пункты \n",
    "    с самой высокой и низкой стоимостью жилья среди топ-10 с наибольшим числом объявлений"
   ]
  },
  {
   "cell_type": "code",
   "execution_count": 102,
   "id": "4f1b97e8",
   "metadata": {},
   "outputs": [
    {
     "data": {
      "text/plain": [
       "Санкт-Петербург      15650\n",
       "посёлок Мурино         520\n",
       "посёлок Шушары         439\n",
       "Всеволожск             398\n",
       "Пушкин                 369\n",
       "Колпино                338\n",
       "посёлок Парголово      327\n",
       "Гатчина                307\n",
       "деревня Кудрово        299\n",
       "Выборг                 237\n",
       "Name: locality_name, dtype: int64"
      ]
     },
     "execution_count": 102,
     "metadata": {},
     "output_type": "execute_result"
    }
   ],
   "source": [
    "#создадим переменную с 10-ю городами с наибольшим количеством объявлений\n",
    "data['locality_name'].value_counts().head(10)"
   ]
  },
  {
   "cell_type": "code",
   "execution_count": 103,
   "id": "f2503b8a",
   "metadata": {},
   "outputs": [],
   "source": [
    "town_list = ['Санкт-Петербург',      #создадим список, на который будем ссылаться \n",
    "             'посёлок Мурино', \n",
    "             'посёлок Шушары', \n",
    "             'Всеволожск',\n",
    "             'Пушкин', \n",
    "             'Колпино', \n",
    "             'посёлок Парголово', \n",
    "             'Гатчина',\n",
    "             'деревня Кудрово', \n",
    "             'Выборг']"
   ]
  },
  {
   "cell_type": "code",
   "execution_count": 104,
   "id": "1872c00a",
   "metadata": {},
   "outputs": [
    {
     "data": {
      "text/html": [
       "<div>\n",
       "<style scoped>\n",
       "    .dataframe tbody tr th:only-of-type {\n",
       "        vertical-align: middle;\n",
       "    }\n",
       "\n",
       "    .dataframe tbody tr th {\n",
       "        vertical-align: top;\n",
       "    }\n",
       "\n",
       "    .dataframe thead th {\n",
       "        text-align: right;\n",
       "    }\n",
       "</style>\n",
       "<table border=\"1\" class=\"dataframe\">\n",
       "  <thead>\n",
       "    <tr style=\"text-align: right;\">\n",
       "      <th></th>\n",
       "      <th>price_meter</th>\n",
       "    </tr>\n",
       "    <tr>\n",
       "      <th>locality_name</th>\n",
       "      <th></th>\n",
       "    </tr>\n",
       "  </thead>\n",
       "  <tbody>\n",
       "    <tr>\n",
       "      <th>Санкт-Петербург</th>\n",
       "      <td>114869.862571</td>\n",
       "    </tr>\n",
       "    <tr>\n",
       "      <th>Пушкин</th>\n",
       "      <td>103125.819377</td>\n",
       "    </tr>\n",
       "    <tr>\n",
       "      <th>деревня Кудрово</th>\n",
       "      <td>92473.547559</td>\n",
       "    </tr>\n",
       "    <tr>\n",
       "      <th>посёлок Парголово</th>\n",
       "      <td>90175.913089</td>\n",
       "    </tr>\n",
       "    <tr>\n",
       "      <th>посёлок Мурино</th>\n",
       "      <td>85673.259865</td>\n",
       "    </tr>\n",
       "    <tr>\n",
       "      <th>посёлок Шушары</th>\n",
       "      <td>78551.344647</td>\n",
       "    </tr>\n",
       "    <tr>\n",
       "      <th>Колпино</th>\n",
       "      <td>75424.579112</td>\n",
       "    </tr>\n",
       "    <tr>\n",
       "      <th>Гатчина</th>\n",
       "      <td>68746.146515</td>\n",
       "    </tr>\n",
       "    <tr>\n",
       "      <th>Всеволожск</th>\n",
       "      <td>68654.473970</td>\n",
       "    </tr>\n",
       "    <tr>\n",
       "      <th>Выборг</th>\n",
       "      <td>58141.909325</td>\n",
       "    </tr>\n",
       "  </tbody>\n",
       "</table>\n",
       "</div>"
      ],
      "text/plain": [
       "                     price_meter\n",
       "locality_name                   \n",
       "Санкт-Петербург    114869.862571\n",
       "Пушкин             103125.819377\n",
       "деревня Кудрово     92473.547559\n",
       "посёлок Парголово   90175.913089\n",
       "посёлок Мурино      85673.259865\n",
       "посёлок Шушары      78551.344647\n",
       "Колпино             75424.579112\n",
       "Гатчина             68746.146515\n",
       "Всеволожск          68654.473970\n",
       "Выборг              58141.909325"
      ]
     },
     "execution_count": 104,
     "metadata": {},
     "output_type": "execute_result"
    }
   ],
   "source": [
    "#построим сводную таблицу 10 городов, отсортируем по убыванию по средней цена за кв.метр\n",
    "town_top_ten = (data.query('locality_name in @town_list')\n",
    ".pivot_table(index='locality_name', values='price_meter', aggfunc='mean')\n",
    ".sort_values('price_meter', ascending=False))\n",
    "town_top_ten"
   ]
  },
  {
   "cell_type": "code",
   "execution_count": 105,
   "id": "b246046f",
   "metadata": {},
   "outputs": [
    {
     "data": {
      "text/plain": [
       "<AxesSubplot:ylabel='locality_name'>"
      ]
     },
     "execution_count": 105,
     "metadata": {},
     "output_type": "execute_result"
    },
    {
     "data": {
      "image/png": "[encoded data removed]",
      "text/plain": [
       "<Figure size 864x432 with 1 Axes>"
      ]
     },
     "metadata": {
      "needs_background": "light"
     },
     "output_type": "display_data"
    }
   ],
   "source": [
    "#построим график\n",
    "town_top_ten.plot(y='price_meter', grid=True, figsize=(12,6), kind='barh', stacked=True)"
   ]
  },
  {
   "cell_type": "markdown",
   "id": "7e1ac670",
   "metadata": {},
   "source": [
    "#### Выводы:\n",
    "    Самая высокая стоимость квадратного метра в Санкт-Петербурге = 114 869 рублей\n",
    "    Самая низкая цена за квадратный метр в Выборге 58 141 рубль"
   ]
  },
  {
   "cell_type": "markdown",
   "id": "44dbc272",
   "metadata": {},
   "source": [
    "### 4.6. Определим границу центра Санкт-Петербурга\n",
    "    исходя из графика зависимости цены от удалённости от центра"
   ]
  },
  {
   "cell_type": "code",
   "execution_count": 106,
   "id": "98b455b2",
   "metadata": {},
   "outputs": [
    {
     "data": {
      "text/plain": [
       "0    16028.0\n",
       "1    18603.0\n",
       "2    13933.0\n",
       "3     6800.0\n",
       "4     8098.0\n",
       "Name: city_centers_nearest, dtype: float64"
      ]
     },
     "execution_count": 106,
     "metadata": {},
     "output_type": "execute_result"
    }
   ],
   "source": [
    "spb_centr = data.dropna(subset=['city_centers_nearest']) #создадим переменную и удалим в столбце пропуски\n",
    "spb_centr['city_centers_nearest'].head() #проверим данные"
   ]
  },
  {
   "cell_type": "code",
   "execution_count": 107,
   "id": "67034cbb",
   "metadata": {},
   "outputs": [
    {
     "name": "stderr",
     "output_type": "stream",
     "text": [
      "C:\\Users\\Admin\\AppData\\Local\\Temp/ipykernel_11472/1920780235.py:2: SettingWithCopyWarning: \n",
      "A value is trying to be set on a copy of a slice from a DataFrame.\n",
      "Try using .loc[row_indexer,col_indexer] = value instead\n",
      "\n",
      "See the caveats in the documentation: https://pandas.pydata.org/pandas-docs/stable/user_guide/indexing.html#returning-a-view-versus-a-copy\n",
      "  spb_centr['city_centers_nearest'] = (spb_centr['city_centers_nearest']/1000).round(0).astype(int)\n"
     ]
    },
    {
     "data": {
      "text/plain": [
       "0    16\n",
       "1    19\n",
       "2    14\n",
       "3     7\n",
       "4     8\n",
       "Name: city_centers_nearest, dtype: int32"
      ]
     },
     "execution_count": 107,
     "metadata": {},
     "output_type": "execute_result"
    }
   ],
   "source": [
    "#переведем данные в километры, уберем лишние цифры после запятой и изменим тип данных\n",
    "spb_centr['city_centers_nearest'] = (spb_centr['city_centers_nearest']/1000).round(0).astype(int) \n",
    "spb_centr['city_centers_nearest'].head()"
   ]
  },
  {
   "cell_type": "code",
   "execution_count": 108,
   "id": "510e1f8f",
   "metadata": {},
   "outputs": [
    {
     "name": "stderr",
     "output_type": "stream",
     "text": [
      "C:\\Users\\Admin\\AppData\\Local\\Temp/ipykernel_11472/4043873878.py:2: SettingWithCopyWarning: \n",
      "A value is trying to be set on a copy of a slice from a DataFrame.\n",
      "Try using .loc[row_indexer,col_indexer] = value instead\n",
      "\n",
      "See the caveats in the documentation: https://pandas.pydata.org/pandas-docs/stable/user_guide/indexing.html#returning-a-view-versus-a-copy\n",
      "  spb_centr['price_for_km'] = spb_centr['last_price']/spb_centr['city_centers_nearest']\n"
     ]
    }
   ],
   "source": [
    "#создадим столбец с ценой квартиры на километр\n",
    "spb_centr['price_for_km'] = spb_centr['last_price']/spb_centr['city_centers_nearest']"
   ]
  },
  {
   "cell_type": "code",
   "execution_count": 109,
   "id": "480c5f08",
   "metadata": {},
   "outputs": [
    {
     "data": {
      "text/plain": [
       "<AxesSubplot:xlabel='city_centers_nearest'>"
      ]
     },
     "execution_count": 109,
     "metadata": {},
     "output_type": "execute_result"
    },
    {
     "data": {
      "image/png": "[encoded data removed]",
      "text/plain": [
       "<Figure size 864x432 with 1 Axes>"
      ]
     },
     "metadata": {
      "needs_background": "light"
     },
     "output_type": "display_data"
    }
   ],
   "source": [
    "(spb_centr.query('locality_name == \"Санкт-Петербург\"') #построим график\n",
    ".pivot_table(index='city_centers_nearest', values='price_for_km', aggfunc='mean')\n",
    ".plot(y='price_for_km', grid=True, figsize=(12,6), style='o-'))"
   ]
  },
  {
   "cell_type": "code",
   "execution_count": 110,
   "id": "ed045961",
   "metadata": {},
   "outputs": [
    {
     "data": {
      "text/plain": [
       "array([[<AxesSubplot:title={'center':'price_for_km'}>]], dtype=object)"
      ]
     },
     "execution_count": 110,
     "metadata": {},
     "output_type": "execute_result"
    },
    {
     "data": {
      "image/png": "[encoded data removed]",
      "text/plain": [
       "<Figure size 864x432 with 1 Axes>"
      ]
     },
     "metadata": {
      "needs_background": "light"
     },
     "output_type": "display_data"
    }
   ],
   "source": [
    "(spb_centr.query('locality_name == \"Санкт-Петербург\"') #построим гистограмму\n",
    ".pivot_table(index='city_centers_nearest', values='price_for_km', aggfunc='mean')\n",
    ".hist(bins=30, figsize=(12,6)))"
   ]
  },
  {
   "cell_type": "markdown",
   "id": "6b67ec6c",
   "metadata": {},
   "source": [
    "На обоих графиках виден всплеск цен за метр2 до 9 км от центра города. За радиусом в 9 км цены стабилизируются и имеют нитиевидный стабильный снижающийся график. \n",
    "Принимаем 9ти километровый радиус за центр Санкт-Петербурга"
   ]
  },
  {
   "cell_type": "markdown",
   "id": "151a6908",
   "metadata": {},
   "source": [
    "### 4.7. Проанализируем сегмент квартир в центре"
   ]
  },
  {
   "cell_type": "code",
   "execution_count": 111,
   "id": "323cb532",
   "metadata": {},
   "outputs": [
    {
     "data": {
      "text/html": [
       "<div>\n",
       "<style scoped>\n",
       "    .dataframe tbody tr th:only-of-type {\n",
       "        vertical-align: middle;\n",
       "    }\n",
       "\n",
       "    .dataframe tbody tr th {\n",
       "        vertical-align: top;\n",
       "    }\n",
       "\n",
       "    .dataframe thead th {\n",
       "        text-align: right;\n",
       "    }\n",
       "</style>\n",
       "<table border=\"1\" class=\"dataframe\">\n",
       "  <thead>\n",
       "    <tr style=\"text-align: right;\">\n",
       "      <th></th>\n",
       "      <th>total_images</th>\n",
       "      <th>last_price</th>\n",
       "      <th>total_area</th>\n",
       "      <th>first_day_exposition</th>\n",
       "      <th>rooms</th>\n",
       "      <th>ceiling_height</th>\n",
       "      <th>floors_total</th>\n",
       "      <th>living_area</th>\n",
       "      <th>floor</th>\n",
       "      <th>is_apartment</th>\n",
       "      <th>studio</th>\n",
       "      <th>open_plan</th>\n",
       "      <th>kitchen_area</th>\n",
       "      <th>balcony</th>\n",
       "      <th>locality_name</th>\n",
       "      <th>airports_nearest</th>\n",
       "      <th>city_centers_nearest</th>\n",
       "      <th>parks_around3000</th>\n",
       "      <th>parks_nearest</th>\n",
       "      <th>ponds_around3000</th>\n",
       "      <th>ponds_nearest</th>\n",
       "      <th>days_exposition</th>\n",
       "      <th>price_meter</th>\n",
       "      <th>day</th>\n",
       "      <th>month</th>\n",
       "      <th>year</th>\n",
       "      <th>floor_level</th>\n",
       "      <th>living_ratio</th>\n",
       "      <th>kitchen_ratio</th>\n",
       "      <th>price_for_km</th>\n",
       "    </tr>\n",
       "  </thead>\n",
       "  <tbody>\n",
       "    <tr>\n",
       "      <th>3</th>\n",
       "      <td>0</td>\n",
       "      <td>64.9</td>\n",
       "      <td>159.0</td>\n",
       "      <td>2015-07-24</td>\n",
       "      <td>3</td>\n",
       "      <td>NaN</td>\n",
       "      <td>14.0</td>\n",
       "      <td>NaN</td>\n",
       "      <td>9</td>\n",
       "      <td>False</td>\n",
       "      <td>False</td>\n",
       "      <td>False</td>\n",
       "      <td>NaN</td>\n",
       "      <td>0.0</td>\n",
       "      <td>Санкт-Петербург</td>\n",
       "      <td>28098.0</td>\n",
       "      <td>7</td>\n",
       "      <td>2.0</td>\n",
       "      <td>84.0</td>\n",
       "      <td>3.0</td>\n",
       "      <td>234.0</td>\n",
       "      <td>424.0</td>\n",
       "      <td>408176.10</td>\n",
       "      <td>4</td>\n",
       "      <td>7</td>\n",
       "      <td>2015</td>\n",
       "      <td>другой</td>\n",
       "      <td>NaN</td>\n",
       "      <td>NaN</td>\n",
       "      <td>9.271429</td>\n",
       "    </tr>\n",
       "    <tr>\n",
       "      <th>4</th>\n",
       "      <td>2</td>\n",
       "      <td>10.0</td>\n",
       "      <td>100.0</td>\n",
       "      <td>2018-06-19</td>\n",
       "      <td>2</td>\n",
       "      <td>3.03</td>\n",
       "      <td>14.0</td>\n",
       "      <td>32.0</td>\n",
       "      <td>13</td>\n",
       "      <td>False</td>\n",
       "      <td>False</td>\n",
       "      <td>False</td>\n",
       "      <td>41.0</td>\n",
       "      <td>0.0</td>\n",
       "      <td>Санкт-Петербург</td>\n",
       "      <td>31856.0</td>\n",
       "      <td>8</td>\n",
       "      <td>2.0</td>\n",
       "      <td>112.0</td>\n",
       "      <td>1.0</td>\n",
       "      <td>48.0</td>\n",
       "      <td>121.0</td>\n",
       "      <td>100000.00</td>\n",
       "      <td>1</td>\n",
       "      <td>6</td>\n",
       "      <td>2018</td>\n",
       "      <td>другой</td>\n",
       "      <td>0.320000</td>\n",
       "      <td>0.410000</td>\n",
       "      <td>1.250000</td>\n",
       "    </tr>\n",
       "    <tr>\n",
       "      <th>24</th>\n",
       "      <td>8</td>\n",
       "      <td>6.5</td>\n",
       "      <td>97.2</td>\n",
       "      <td>2015-10-31</td>\n",
       "      <td>2</td>\n",
       "      <td>NaN</td>\n",
       "      <td>3.0</td>\n",
       "      <td>46.5</td>\n",
       "      <td>1</td>\n",
       "      <td>False</td>\n",
       "      <td>False</td>\n",
       "      <td>False</td>\n",
       "      <td>19.6</td>\n",
       "      <td>0.0</td>\n",
       "      <td>Санкт-Петербург</td>\n",
       "      <td>20052.0</td>\n",
       "      <td>2</td>\n",
       "      <td>3.0</td>\n",
       "      <td>411.0</td>\n",
       "      <td>3.0</td>\n",
       "      <td>124.0</td>\n",
       "      <td>265.0</td>\n",
       "      <td>66872.43</td>\n",
       "      <td>5</td>\n",
       "      <td>10</td>\n",
       "      <td>2015</td>\n",
       "      <td>первый</td>\n",
       "      <td>0.478395</td>\n",
       "      <td>0.201646</td>\n",
       "      <td>3.250000</td>\n",
       "    </tr>\n",
       "    <tr>\n",
       "      <th>35</th>\n",
       "      <td>6</td>\n",
       "      <td>15.5</td>\n",
       "      <td>149.0</td>\n",
       "      <td>2017-06-26</td>\n",
       "      <td>5</td>\n",
       "      <td>NaN</td>\n",
       "      <td>5.0</td>\n",
       "      <td>104.0</td>\n",
       "      <td>4</td>\n",
       "      <td>False</td>\n",
       "      <td>False</td>\n",
       "      <td>False</td>\n",
       "      <td>17.0</td>\n",
       "      <td>0.0</td>\n",
       "      <td>Санкт-Петербург</td>\n",
       "      <td>23670.0</td>\n",
       "      <td>4</td>\n",
       "      <td>0.0</td>\n",
       "      <td>NaN</td>\n",
       "      <td>1.0</td>\n",
       "      <td>779.0</td>\n",
       "      <td>644.0</td>\n",
       "      <td>104026.85</td>\n",
       "      <td>0</td>\n",
       "      <td>6</td>\n",
       "      <td>2017</td>\n",
       "      <td>другой</td>\n",
       "      <td>0.697987</td>\n",
       "      <td>0.114094</td>\n",
       "      <td>3.875000</td>\n",
       "    </tr>\n",
       "    <tr>\n",
       "      <th>51</th>\n",
       "      <td>7</td>\n",
       "      <td>45.0</td>\n",
       "      <td>161.0</td>\n",
       "      <td>2017-10-17</td>\n",
       "      <td>3</td>\n",
       "      <td>3.20</td>\n",
       "      <td>8.0</td>\n",
       "      <td>38.0</td>\n",
       "      <td>4</td>\n",
       "      <td>False</td>\n",
       "      <td>False</td>\n",
       "      <td>False</td>\n",
       "      <td>50.0</td>\n",
       "      <td>0.0</td>\n",
       "      <td>Санкт-Петербург</td>\n",
       "      <td>32537.0</td>\n",
       "      <td>7</td>\n",
       "      <td>0.0</td>\n",
       "      <td>NaN</td>\n",
       "      <td>3.0</td>\n",
       "      <td>99.0</td>\n",
       "      <td>541.0</td>\n",
       "      <td>279503.11</td>\n",
       "      <td>1</td>\n",
       "      <td>10</td>\n",
       "      <td>2017</td>\n",
       "      <td>другой</td>\n",
       "      <td>0.236025</td>\n",
       "      <td>0.310559</td>\n",
       "      <td>6.428571</td>\n",
       "    </tr>\n",
       "  </tbody>\n",
       "</table>\n",
       "</div>"
      ],
      "text/plain": [
       "    total_images  last_price  total_area first_day_exposition  rooms  \\\n",
       "3              0        64.9       159.0           2015-07-24      3   \n",
       "4              2        10.0       100.0           2018-06-19      2   \n",
       "24             8         6.5        97.2           2015-10-31      2   \n",
       "35             6        15.5       149.0           2017-06-26      5   \n",
       "51             7        45.0       161.0           2017-10-17      3   \n",
       "\n",
       "    ceiling_height  floors_total  living_area  floor  is_apartment  studio  \\\n",
       "3              NaN          14.0          NaN      9         False   False   \n",
       "4             3.03          14.0         32.0     13         False   False   \n",
       "24             NaN           3.0         46.5      1         False   False   \n",
       "35             NaN           5.0        104.0      4         False   False   \n",
       "51            3.20           8.0         38.0      4         False   False   \n",
       "\n",
       "    open_plan  kitchen_area  balcony    locality_name  airports_nearest  \\\n",
       "3       False           NaN      0.0  Санкт-Петербург           28098.0   \n",
       "4       False          41.0      0.0  Санкт-Петербург           31856.0   \n",
       "24      False          19.6      0.0  Санкт-Петербург           20052.0   \n",
       "35      False          17.0      0.0  Санкт-Петербург           23670.0   \n",
       "51      False          50.0      0.0  Санкт-Петербург           32537.0   \n",
       "\n",
       "    city_centers_nearest  parks_around3000  parks_nearest  ponds_around3000  \\\n",
       "3                      7               2.0           84.0               3.0   \n",
       "4                      8               2.0          112.0               1.0   \n",
       "24                     2               3.0          411.0               3.0   \n",
       "35                     4               0.0            NaN               1.0   \n",
       "51                     7               0.0            NaN               3.0   \n",
       "\n",
       "    ponds_nearest  days_exposition  price_meter  day  month  year floor_level  \\\n",
       "3           234.0            424.0    408176.10    4      7  2015      другой   \n",
       "4            48.0            121.0    100000.00    1      6  2018      другой   \n",
       "24          124.0            265.0     66872.43    5     10  2015      первый   \n",
       "35          779.0            644.0    104026.85    0      6  2017      другой   \n",
       "51           99.0            541.0    279503.11    1     10  2017      другой   \n",
       "\n",
       "    living_ratio  kitchen_ratio  price_for_km  \n",
       "3            NaN            NaN      9.271429  \n",
       "4       0.320000       0.410000      1.250000  \n",
       "24      0.478395       0.201646      3.250000  \n",
       "35      0.697987       0.114094      3.875000  \n",
       "51      0.236025       0.310559      6.428571  "
      ]
     },
     "execution_count": 111,
     "metadata": {},
     "output_type": "execute_result"
    }
   ],
   "source": [
    "centr_apart = spb_centr.query('city_centers_nearest <= 9') #создадим переменную со срезом данных по центру города\n",
    "centr_apart.head()"
   ]
  },
  {
   "cell_type": "code",
   "execution_count": 112,
   "id": "fc6c66c0",
   "metadata": {},
   "outputs": [
    {
     "data": {
      "image/png": "[encoded data removed]",
      "text/plain": [
       "<Figure size 432x288 with 1 Axes>"
      ]
     },
     "metadata": {
      "needs_background": "light"
     },
     "output_type": "display_data"
    },
    {
     "data": {
      "image/png": "[encoded data removed]",
      "text/plain": [
       "<Figure size 432x288 with 1 Axes>"
      ]
     },
     "metadata": {
      "needs_background": "light"
     },
     "output_type": "display_data"
    },
    {
     "data": {
      "image/png": "[encoded data removed]",
      "text/plain": [
       "<Figure size 432x288 with 1 Axes>"
      ]
     },
     "metadata": {
      "needs_background": "light"
     },
     "output_type": "display_data"
    },
    {
     "data": {
      "image/png": "[encoded data removed]",
      "text/plain": [
       "<Figure size 432x288 with 1 Axes>"
      ]
     },
     "metadata": {
      "needs_background": "light"
     },
     "output_type": "display_data"
    },
    {
     "data": {
      "image/png": "[encoded data removed]",
      "text/plain": [
       "<Figure size 432x288 with 1 Axes>"
      ]
     },
     "metadata": {
      "needs_background": "light"
     },
     "output_type": "display_data"
    }
   ],
   "source": [
    "#посмотрим на диаграммы столбцов параметров и средние значения \n",
    "for column in centr_apart[['total_area','last_price','rooms','ceiling_height','days_exposition']]:\n",
    "    range_max = centr_apart[column].max()\n",
    "    range_min = centr_apart[column].min()\n",
    "    centr_apart[column].hist(bins=50, range=(range_min,range_max))\n",
    "    plt.title(column, fontsize=15)\n",
    "    plt.xlabel('Значение')\n",
    "    plt.ylabel('Количество квартир, шт.')\n",
    "    plt.show()"
   ]
  },
  {
   "cell_type": "code",
   "execution_count": 113,
   "id": "aca907d5",
   "metadata": {},
   "outputs": [
    {
     "data": {
      "text/html": [
       "<div>\n",
       "<style scoped>\n",
       "    .dataframe tbody tr th:only-of-type {\n",
       "        vertical-align: middle;\n",
       "    }\n",
       "\n",
       "    .dataframe tbody tr th {\n",
       "        vertical-align: top;\n",
       "    }\n",
       "\n",
       "    .dataframe thead th {\n",
       "        text-align: right;\n",
       "    }\n",
       "</style>\n",
       "<table border=\"1\" class=\"dataframe\">\n",
       "  <thead>\n",
       "    <tr style=\"text-align: right;\">\n",
       "      <th></th>\n",
       "      <th>index</th>\n",
       "      <th>last_price</th>\n",
       "    </tr>\n",
       "  </thead>\n",
       "  <tbody>\n",
       "    <tr>\n",
       "      <th>0</th>\n",
       "      <td>last_price</td>\n",
       "      <td>1.000000</td>\n",
       "    </tr>\n",
       "    <tr>\n",
       "      <th>1</th>\n",
       "      <td>price_meter</td>\n",
       "      <td>0.777582</td>\n",
       "    </tr>\n",
       "    <tr>\n",
       "      <th>2</th>\n",
       "      <td>price_for_km</td>\n",
       "      <td>0.751653</td>\n",
       "    </tr>\n",
       "    <tr>\n",
       "      <th>3</th>\n",
       "      <td>total_area</td>\n",
       "      <td>0.643910</td>\n",
       "    </tr>\n",
       "    <tr>\n",
       "      <th>4</th>\n",
       "      <td>living_area</td>\n",
       "      <td>0.548918</td>\n",
       "    </tr>\n",
       "    <tr>\n",
       "      <th>5</th>\n",
       "      <td>kitchen_area</td>\n",
       "      <td>0.508972</td>\n",
       "    </tr>\n",
       "    <tr>\n",
       "      <th>6</th>\n",
       "      <td>rooms</td>\n",
       "      <td>0.352095</td>\n",
       "    </tr>\n",
       "    <tr>\n",
       "      <th>7</th>\n",
       "      <td>total_images</td>\n",
       "      <td>0.133979</td>\n",
       "    </tr>\n",
       "    <tr>\n",
       "      <th>8</th>\n",
       "      <td>ponds_around3000</td>\n",
       "      <td>0.127166</td>\n",
       "    </tr>\n",
       "    <tr>\n",
       "      <th>9</th>\n",
       "      <td>parks_around3000</td>\n",
       "      <td>0.117051</td>\n",
       "    </tr>\n",
       "    <tr>\n",
       "      <th>10</th>\n",
       "      <td>floor</td>\n",
       "      <td>0.087601</td>\n",
       "    </tr>\n",
       "    <tr>\n",
       "      <th>11</th>\n",
       "      <td>days_exposition</td>\n",
       "      <td>0.070849</td>\n",
       "    </tr>\n",
       "    <tr>\n",
       "      <th>12</th>\n",
       "      <td>ceiling_height</td>\n",
       "      <td>0.047523</td>\n",
       "    </tr>\n",
       "    <tr>\n",
       "      <th>13</th>\n",
       "      <td>balcony</td>\n",
       "      <td>0.045289</td>\n",
       "    </tr>\n",
       "    <tr>\n",
       "      <th>14</th>\n",
       "      <td>is_apartment</td>\n",
       "      <td>0.035013</td>\n",
       "    </tr>\n",
       "    <tr>\n",
       "      <th>15</th>\n",
       "      <td>day</td>\n",
       "      <td>0.019572</td>\n",
       "    </tr>\n",
       "    <tr>\n",
       "      <th>16</th>\n",
       "      <td>open_plan</td>\n",
       "      <td>0.007597</td>\n",
       "    </tr>\n",
       "    <tr>\n",
       "      <th>17</th>\n",
       "      <td>floors_total</td>\n",
       "      <td>0.007416</td>\n",
       "    </tr>\n",
       "    <tr>\n",
       "      <th>18</th>\n",
       "      <td>airports_nearest</td>\n",
       "      <td>0.002537</td>\n",
       "    </tr>\n",
       "    <tr>\n",
       "      <th>19</th>\n",
       "      <td>month</td>\n",
       "      <td>0.001881</td>\n",
       "    </tr>\n",
       "    <tr>\n",
       "      <th>20</th>\n",
       "      <td>living_ratio</td>\n",
       "      <td>-0.013167</td>\n",
       "    </tr>\n",
       "    <tr>\n",
       "      <th>21</th>\n",
       "      <td>studio</td>\n",
       "      <td>-0.024151</td>\n",
       "    </tr>\n",
       "    <tr>\n",
       "      <th>22</th>\n",
       "      <td>parks_nearest</td>\n",
       "      <td>-0.035937</td>\n",
       "    </tr>\n",
       "    <tr>\n",
       "      <th>23</th>\n",
       "      <td>year</td>\n",
       "      <td>-0.052267</td>\n",
       "    </tr>\n",
       "    <tr>\n",
       "      <th>24</th>\n",
       "      <td>ponds_nearest</td>\n",
       "      <td>-0.080217</td>\n",
       "    </tr>\n",
       "    <tr>\n",
       "      <th>25</th>\n",
       "      <td>kitchen_ratio</td>\n",
       "      <td>-0.090606</td>\n",
       "    </tr>\n",
       "    <tr>\n",
       "      <th>26</th>\n",
       "      <td>city_centers_nearest</td>\n",
       "      <td>-0.123773</td>\n",
       "    </tr>\n",
       "  </tbody>\n",
       "</table>\n",
       "</div>"
      ],
      "text/plain": [
       "                   index  last_price\n",
       "0             last_price    1.000000\n",
       "1            price_meter    0.777582\n",
       "2           price_for_km    0.751653\n",
       "3             total_area    0.643910\n",
       "4            living_area    0.548918\n",
       "5           kitchen_area    0.508972\n",
       "6                  rooms    0.352095\n",
       "7           total_images    0.133979\n",
       "8       ponds_around3000    0.127166\n",
       "9       parks_around3000    0.117051\n",
       "10                 floor    0.087601\n",
       "11       days_exposition    0.070849\n",
       "12        ceiling_height    0.047523\n",
       "13               balcony    0.045289\n",
       "14          is_apartment    0.035013\n",
       "15                   day    0.019572\n",
       "16             open_plan    0.007597\n",
       "17          floors_total    0.007416\n",
       "18      airports_nearest    0.002537\n",
       "19                 month    0.001881\n",
       "20          living_ratio   -0.013167\n",
       "21                studio   -0.024151\n",
       "22         parks_nearest   -0.035937\n",
       "23                  year   -0.052267\n",
       "24         ponds_nearest   -0.080217\n",
       "25         kitchen_ratio   -0.090606\n",
       "26  city_centers_nearest   -0.123773"
      ]
     },
     "execution_count": 113,
     "metadata": {},
     "output_type": "execute_result"
    }
   ],
   "source": [
    "centr_corr = centr_apart.corr()\\\n",
    "        .sort_values('last_price', ascending=False)\\\n",
    "        .filter(items = ['last_price'])\\\n",
    "        .reset_index()\n",
    "centr_corr"
   ]
  },
  {
   "cell_type": "markdown",
   "id": "6d9b8682",
   "metadata": {},
   "source": [
    "Выводы:\n",
    "- в центре Санкт-Петербурга радиусом 9 км цена квартиры зависит от удаленности от центра, чем ближе к центру, тем дороже\n",
    "- есть зависимость цены от общей площади квартиры, чем больше, тем дороже"
   ]
  },
  {
   "cell_type": "markdown",
   "id": "7bd23a2f",
   "metadata": {},
   "source": [
    "#### Сравним средние значения параметров продаваемых квартир в центре Санкт-Петербурга и вне центра"
   ]
  },
  {
   "cell_type": "code",
   "execution_count": 114,
   "id": "d63ae707",
   "metadata": {},
   "outputs": [],
   "source": [
    "#создадим переменную со средними значениями по основным параметрам центра Санкт-Петербурга\n",
    "centr_mean = centr_apart[['total_area'\n",
    "                          ,'last_price'\n",
    "                          ,'floor'\n",
    "                          , 'day'\n",
    "                          , 'month'\n",
    "                          , 'year'\n",
    "                          ,'rooms'\n",
    "                          ,'ceiling_height'\n",
    "                          ,'days_exposition']]\\\n",
    "        .mean()\\\n",
    "        .reset_index()"
   ]
  },
  {
   "cell_type": "code",
   "execution_count": 115,
   "id": "eb7f684b",
   "metadata": {},
   "outputs": [],
   "source": [
    "#так же для общей таблицы без учета квартир в центре\n",
    "data_mean = data.query('city_centers_nearest > 9')\n",
    "data_mean = data_mean[['total_area'\n",
    "                          ,'last_price'\n",
    "                          ,'floor'\n",
    "                          , 'day'\n",
    "                          , 'month'\n",
    "                          , 'year'\n",
    "                          ,'rooms'\n",
    "                          ,'ceiling_height'\n",
    "                          ,'days_exposition']]\\\n",
    "        .mean()\\\n",
    "        .reset_index()"
   ]
  },
  {
   "cell_type": "code",
   "execution_count": 116,
   "id": "4acdfa1c",
   "metadata": {},
   "outputs": [
    {
     "data": {
      "text/html": [
       "<div>\n",
       "<style scoped>\n",
       "    .dataframe tbody tr th:only-of-type {\n",
       "        vertical-align: middle;\n",
       "    }\n",
       "\n",
       "    .dataframe tbody tr th {\n",
       "        vertical-align: top;\n",
       "    }\n",
       "\n",
       "    .dataframe thead th {\n",
       "        text-align: right;\n",
       "    }\n",
       "</style>\n",
       "<table border=\"1\" class=\"dataframe\">\n",
       "  <thead>\n",
       "    <tr style=\"text-align: right;\">\n",
       "      <th></th>\n",
       "      <th>parametr</th>\n",
       "      <th>centr_mean</th>\n",
       "      <th>data_mean</th>\n",
       "    </tr>\n",
       "  </thead>\n",
       "  <tbody>\n",
       "    <tr>\n",
       "      <th>0</th>\n",
       "      <td>total_area</td>\n",
       "      <td>86.376041</td>\n",
       "      <td>63.344490</td>\n",
       "    </tr>\n",
       "    <tr>\n",
       "      <th>1</th>\n",
       "      <td>last_price</td>\n",
       "      <td>13.267576</td>\n",
       "      <td>7.575723</td>\n",
       "    </tr>\n",
       "    <tr>\n",
       "      <th>2</th>\n",
       "      <td>floor</td>\n",
       "      <td>4.625346</td>\n",
       "      <td>6.119643</td>\n",
       "    </tr>\n",
       "    <tr>\n",
       "      <th>3</th>\n",
       "      <td>day</td>\n",
       "      <td>2.521582</td>\n",
       "      <td>2.561067</td>\n",
       "    </tr>\n",
       "    <tr>\n",
       "      <th>4</th>\n",
       "      <td>month</td>\n",
       "      <td>6.396343</td>\n",
       "      <td>6.407928</td>\n",
       "    </tr>\n",
       "    <tr>\n",
       "      <th>5</th>\n",
       "      <td>year</td>\n",
       "      <td>2017.219647</td>\n",
       "      <td>2017.344646</td>\n",
       "    </tr>\n",
       "    <tr>\n",
       "      <th>6</th>\n",
       "      <td>rooms</td>\n",
       "      <td>2.681480</td>\n",
       "      <td>2.152530</td>\n",
       "    </tr>\n",
       "    <tr>\n",
       "      <th>7</th>\n",
       "      <td>ceiling_height</td>\n",
       "      <td>3.086092</td>\n",
       "      <td>2.786339</td>\n",
       "    </tr>\n",
       "    <tr>\n",
       "      <th>8</th>\n",
       "      <td>days_exposition</td>\n",
       "      <td>232.633796</td>\n",
       "      <td>182.406728</td>\n",
       "    </tr>\n",
       "  </tbody>\n",
       "</table>\n",
       "</div>"
      ],
      "text/plain": [
       "          parametr   centr_mean    data_mean\n",
       "0       total_area    86.376041    63.344490\n",
       "1       last_price    13.267576     7.575723\n",
       "2            floor     4.625346     6.119643\n",
       "3              day     2.521582     2.561067\n",
       "4            month     6.396343     6.407928\n",
       "5             year  2017.219647  2017.344646\n",
       "6            rooms     2.681480     2.152530\n",
       "7   ceiling_height     3.086092     2.786339\n",
       "8  days_exposition   232.633796   182.406728"
      ]
     },
     "execution_count": 116,
     "metadata": {},
     "output_type": "execute_result"
    }
   ],
   "source": [
    "general_mean = centr_mean.merge(data_mean, on='index')  #соединим обе таблицы\n",
    "general_mean = general_mean.rename(columns={'index':'parametr', '0_x':'centr_mean', '0_y':'data_mean'})\n",
    "general_mean"
   ]
  },
  {
   "cell_type": "markdown",
   "id": "e8baf628",
   "metadata": {},
   "source": [
    "Средние показатели в центре Санкт-Петербурга выше чем в других районах и населенных пунктах, что в целом логично"
   ]
  },
  {
   "cell_type": "markdown",
   "id": "4932e272",
   "metadata": {},
   "source": [
    "### Этап 5. Сделаем общие выводы"
   ]
  },
  {
   "cell_type": "markdown",
   "id": "c8bdb3b4",
   "metadata": {},
   "source": [
    "В рамках данного проекта мы изучили архив объявлений о продаже квартир в Санкт-Петербурге и соседних населённых пунктов за несколько лет."
   ]
  },
  {
   "cell_type": "markdown",
   "id": "47e3e757",
   "metadata": {},
   "source": [
    "#### При выполнении проекта поэтапно сделали следующие шаги:"
   ]
  },
  {
   "cell_type": "markdown",
   "id": "d48ed6ed",
   "metadata": {},
   "source": [
    "#### 1. Исправили ошибки и аномалии:"
   ]
  },
  {
   "cell_type": "markdown",
   "id": "663e532c",
   "metadata": {},
   "source": [
    "    1.1. Пропуски в данных о наличии балконов заменили на нули.\n",
    "    1.2. Пропущенные значение в данных о количестве комнат заменили на среднее значение по выборке.\n",
    "    1.3. Пропуски в столбе 'апартаменты' заменили на булет тип 'False' - 'не апартаменты'.\n",
    "    1.4. Удалили строки без указания населенного пункта. Для анализа эти данные бессмысленны.\n",
    "    1.5. Заменили данные о дате на соответствующий тип данных.\n",
    "    1.6. Перевели цены на квартиру в миллионы.\n",
    "    1.7. Удалили выбросы в этажах: 52 и 60 этажных жилых зданий в Лен.области нет."
   ]
  },
  {
   "cell_type": "markdown",
   "id": "f80232a9",
   "metadata": {},
   "source": [
    "#### 2. Рассчитали и добавили к данным:"
   ]
  },
  {
   "cell_type": "markdown",
   "id": "0858a43c",
   "metadata": {},
   "source": [
    "    2.1. Цену квадратного метра.\n",
    "    2.2. Дату публикации по дням, неделям, годам.\n",
    "    2.3. Категории этажности квартир.\n",
    "    2.4. Соотношение жилой и общей площади, а также отношение площади кухни к общей."
   ]
  },
  {
   "cell_type": "markdown",
   "id": "dc2b0de7",
   "metadata": {},
   "source": [
    "#### 3. Проанализировали данные:"
   ]
  },
  {
   "cell_type": "markdown",
   "id": "ccc10ce2",
   "metadata": {},
   "source": [
    "    3.1. Изучили какие параметры влияют на ценообразование, построили графики.\n",
    "            Выводы исходя из графиков:\n",
    "            - Чем больше площадь квартиры, тем она дороже.\n",
    "            - Количество комнат не влияет на ценообразование.\n",
    "            - Отдаляясь от центра, квартиры дешевле в цене.\n",
    "            - Квартиры на первых этажах дешевле остальных.\n",
    "            - Зависимость цены от даты размещения объявления (день, месяц) практически нет - в рамках среднего значения.\n",
    "            - С 2014г. по 2018г. наблюдалось снижение цены на квартиры, с 2018г. - повышение."
   ]
  },
  {
   "cell_type": "markdown",
   "id": "fd51aadd",
   "metadata": {},
   "source": [
    "    3.2. Изучили время продажи квартир: среднее, медианное, наибольшее и наименьшее:\n",
    "            - В среднем продажа квартиры занимает от 41 дней до 181 дня.\n",
    "            - Продажу быстрее, чем за 41 день можно считать быстрой, а более полугода = долгой\n",
    "            - Среднее значение нашей выборки составляет 126 дней\n",
    "            - Медианное значение = 84 дня\n",
    "            - Сверхбыстрые продажи, это 1-3 дня, это 1% от общего количества.\n",
    "            - Сверхдолгие продажи - более 500 дней, таких 7% от всех продаж."
   ]
  },
  {
   "cell_type": "markdown",
   "id": "b6ae4ad8",
   "metadata": {},
   "source": [
    "    Ответили на вопросы:\n",
    "    4. Выделили населенные пункты с самой высокой и низкой стоимостью жилья среди топ-10 с наибольшим числом объявлений.\n",
    "        - Самая высокая стоимость квадратного метра в Санкт-Петербурге = 114 869 рублей\n",
    "        - Самая низкая цена за квадратный метр в Выборге = 58 141 рубль.\n",
    "    5. Определили центр Санкт-Петербурга, проанализировали сегмент квартир:\n",
    "        Центр города = радиус 9 км.\n",
    "        Существует зависимость цены от общей площади квартиры, чем больше, тем дороже."
   ]
  },
  {
   "cell_type": "markdown",
   "id": "5d4ab8b8",
   "metadata": {},
   "source": [
    "#### Рекомендации для разработчиков\n",
    "- сделать для параметров \"балкон\", \"этаж\", \"этажность дома\", \"число комнат\", \"высота потолка\", \"апартаменты\" ниспадающие окна, чтоб пользователь выбрал необходимое, исключив тем самым пропуски в данных\n",
    "- автоматизировать получение данных о расстояниях до парков, водоемов и аэропортов."
   ]
  }
 ],
 "metadata": {
  "ExecuteTimeLog": [
   {
    "duration": 843,
    "start_time": "2022-05-01T10:11:08.017Z"
   },
   {
    "duration": 129,
    "start_time": "2022-05-01T10:11:08.862Z"
   },
   {
    "duration": 0,
    "start_time": "2022-05-01T10:11:08.996Z"
   },
   {
    "duration": 0,
    "start_time": "2022-05-01T10:11:08.997Z"
   },
   {
    "duration": 0,
    "start_time": "2022-05-01T10:11:08.999Z"
   },
   {
    "duration": 0,
    "start_time": "2022-05-01T10:11:09.000Z"
   },
   {
    "duration": 0,
    "start_time": "2022-05-01T10:11:09.002Z"
   },
   {
    "duration": 0,
    "start_time": "2022-05-01T10:11:09.003Z"
   },
   {
    "duration": 0,
    "start_time": "2022-05-01T10:11:09.004Z"
   },
   {
    "duration": 0,
    "start_time": "2022-05-01T10:11:09.006Z"
   },
   {
    "duration": 0,
    "start_time": "2022-05-01T10:11:09.024Z"
   },
   {
    "duration": 0,
    "start_time": "2022-05-01T10:11:09.025Z"
   },
   {
    "duration": 0,
    "start_time": "2022-05-01T10:11:09.026Z"
   },
   {
    "duration": 0,
    "start_time": "2022-05-01T10:11:09.028Z"
   },
   {
    "duration": 0,
    "start_time": "2022-05-01T10:11:09.029Z"
   },
   {
    "duration": 0,
    "start_time": "2022-05-01T10:11:09.031Z"
   },
   {
    "duration": 0,
    "start_time": "2022-05-01T10:11:09.032Z"
   },
   {
    "duration": 0,
    "start_time": "2022-05-01T10:11:09.033Z"
   },
   {
    "duration": 0,
    "start_time": "2022-05-01T10:11:09.035Z"
   },
   {
    "duration": 0,
    "start_time": "2022-05-01T10:11:09.036Z"
   },
   {
    "duration": 0,
    "start_time": "2022-05-01T10:11:09.037Z"
   },
   {
    "duration": 0,
    "start_time": "2022-05-01T10:11:09.039Z"
   },
   {
    "duration": 0,
    "start_time": "2022-05-01T10:11:09.040Z"
   },
   {
    "duration": 0,
    "start_time": "2022-05-01T10:11:09.041Z"
   },
   {
    "duration": 0,
    "start_time": "2022-05-01T10:11:09.043Z"
   },
   {
    "duration": 0,
    "start_time": "2022-05-01T10:11:09.044Z"
   },
   {
    "duration": 0,
    "start_time": "2022-05-01T10:11:09.046Z"
   },
   {
    "duration": 0,
    "start_time": "2022-05-01T10:11:09.047Z"
   },
   {
    "duration": 0,
    "start_time": "2022-05-01T10:11:09.048Z"
   },
   {
    "duration": 0,
    "start_time": "2022-05-01T10:11:09.049Z"
   },
   {
    "duration": 0,
    "start_time": "2022-05-01T10:11:09.051Z"
   },
   {
    "duration": 0,
    "start_time": "2022-05-01T10:11:09.052Z"
   },
   {
    "duration": 0,
    "start_time": "2022-05-01T10:11:09.053Z"
   },
   {
    "duration": 0,
    "start_time": "2022-05-01T10:11:09.055Z"
   },
   {
    "duration": 0,
    "start_time": "2022-05-01T10:11:09.056Z"
   },
   {
    "duration": 0,
    "start_time": "2022-05-01T10:11:09.057Z"
   },
   {
    "duration": 0,
    "start_time": "2022-05-01T10:11:09.058Z"
   },
   {
    "duration": 0,
    "start_time": "2022-05-01T10:11:09.059Z"
   },
   {
    "duration": 0,
    "start_time": "2022-05-01T10:11:09.061Z"
   },
   {
    "duration": 0,
    "start_time": "2022-05-01T10:11:09.062Z"
   },
   {
    "duration": 0,
    "start_time": "2022-05-01T10:11:09.124Z"
   },
   {
    "duration": 0,
    "start_time": "2022-05-01T10:11:09.125Z"
   },
   {
    "duration": 0,
    "start_time": "2022-05-01T10:11:09.127Z"
   },
   {
    "duration": 0,
    "start_time": "2022-05-01T10:11:09.128Z"
   },
   {
    "duration": 0,
    "start_time": "2022-05-01T10:11:09.129Z"
   },
   {
    "duration": 0,
    "start_time": "2022-05-01T10:11:09.131Z"
   },
   {
    "duration": 0,
    "start_time": "2022-05-01T10:11:09.132Z"
   },
   {
    "duration": 0,
    "start_time": "2022-05-01T10:11:09.133Z"
   },
   {
    "duration": 0,
    "start_time": "2022-05-01T10:11:09.134Z"
   },
   {
    "duration": 0,
    "start_time": "2022-05-01T10:11:09.136Z"
   },
   {
    "duration": 0,
    "start_time": "2022-05-01T10:11:09.137Z"
   },
   {
    "duration": 0,
    "start_time": "2022-05-01T10:11:09.138Z"
   },
   {
    "duration": 0,
    "start_time": "2022-05-01T10:11:09.139Z"
   },
   {
    "duration": 0,
    "start_time": "2022-05-01T10:11:09.141Z"
   },
   {
    "duration": 0,
    "start_time": "2022-05-01T10:11:09.142Z"
   },
   {
    "duration": 0,
    "start_time": "2022-05-01T10:11:09.144Z"
   },
   {
    "duration": 0,
    "start_time": "2022-05-01T10:11:09.145Z"
   },
   {
    "duration": 0,
    "start_time": "2022-05-01T10:11:09.146Z"
   },
   {
    "duration": 0,
    "start_time": "2022-05-01T10:11:09.147Z"
   },
   {
    "duration": 0,
    "start_time": "2022-05-01T10:11:09.148Z"
   },
   {
    "duration": 0,
    "start_time": "2022-05-01T10:11:09.149Z"
   },
   {
    "duration": 0,
    "start_time": "2022-05-01T10:11:09.151Z"
   },
   {
    "duration": 0,
    "start_time": "2022-05-01T10:11:09.152Z"
   },
   {
    "duration": 0,
    "start_time": "2022-05-01T10:11:09.153Z"
   },
   {
    "duration": 0,
    "start_time": "2022-05-01T10:11:09.154Z"
   },
   {
    "duration": 0,
    "start_time": "2022-05-01T10:11:09.156Z"
   },
   {
    "duration": 0,
    "start_time": "2022-05-01T10:11:09.157Z"
   },
   {
    "duration": 0,
    "start_time": "2022-05-01T10:11:09.159Z"
   },
   {
    "duration": 0,
    "start_time": "2022-05-01T10:11:09.160Z"
   },
   {
    "duration": 0,
    "start_time": "2022-05-01T10:11:09.161Z"
   },
   {
    "duration": 0,
    "start_time": "2022-05-01T10:11:09.162Z"
   },
   {
    "duration": 0,
    "start_time": "2022-05-01T10:11:09.163Z"
   },
   {
    "duration": 0,
    "start_time": "2022-05-01T10:11:09.164Z"
   },
   {
    "duration": 0,
    "start_time": "2022-05-01T10:11:09.224Z"
   },
   {
    "duration": 0,
    "start_time": "2022-05-01T10:11:09.225Z"
   },
   {
    "duration": 0,
    "start_time": "2022-05-01T10:11:09.226Z"
   },
   {
    "duration": 0,
    "start_time": "2022-05-01T10:11:09.227Z"
   },
   {
    "duration": 0,
    "start_time": "2022-05-01T10:11:09.228Z"
   },
   {
    "duration": 0,
    "start_time": "2022-05-01T10:11:09.229Z"
   },
   {
    "duration": 0,
    "start_time": "2022-05-01T10:11:09.231Z"
   },
   {
    "duration": 2373,
    "start_time": "2022-05-01T10:11:09.235Z"
   },
   {
    "duration": 0,
    "start_time": "2022-05-01T10:11:11.610Z"
   },
   {
    "duration": 0,
    "start_time": "2022-05-01T10:11:11.611Z"
   },
   {
    "duration": 0,
    "start_time": "2022-05-01T10:11:11.612Z"
   },
   {
    "duration": 0,
    "start_time": "2022-05-01T10:11:11.613Z"
   },
   {
    "duration": 0,
    "start_time": "2022-05-01T10:11:11.614Z"
   },
   {
    "duration": 0,
    "start_time": "2022-05-01T10:11:11.615Z"
   },
   {
    "duration": 0,
    "start_time": "2022-05-01T10:11:11.616Z"
   },
   {
    "duration": 0,
    "start_time": "2022-05-01T10:11:11.623Z"
   },
   {
    "duration": 0,
    "start_time": "2022-05-01T10:11:11.624Z"
   },
   {
    "duration": 0,
    "start_time": "2022-05-01T10:11:11.625Z"
   },
   {
    "duration": 0,
    "start_time": "2022-05-01T10:11:11.626Z"
   },
   {
    "duration": 0,
    "start_time": "2022-05-01T10:11:11.627Z"
   },
   {
    "duration": 0,
    "start_time": "2022-05-01T10:11:11.628Z"
   },
   {
    "duration": 0,
    "start_time": "2022-05-01T10:11:11.629Z"
   },
   {
    "duration": 0,
    "start_time": "2022-05-01T10:11:11.630Z"
   },
   {
    "duration": 0,
    "start_time": "2022-05-01T10:11:11.631Z"
   },
   {
    "duration": 0,
    "start_time": "2022-05-01T10:11:11.632Z"
   },
   {
    "duration": 0,
    "start_time": "2022-05-01T10:11:11.633Z"
   },
   {
    "duration": 0,
    "start_time": "2022-05-01T10:11:11.634Z"
   },
   {
    "duration": 0,
    "start_time": "2022-05-01T10:11:11.635Z"
   },
   {
    "duration": 0,
    "start_time": "2022-05-01T10:11:11.636Z"
   },
   {
    "duration": 0,
    "start_time": "2022-05-01T10:11:11.637Z"
   },
   {
    "duration": 0,
    "start_time": "2022-05-01T10:11:11.637Z"
   },
   {
    "duration": 0,
    "start_time": "2022-05-01T10:11:11.639Z"
   },
   {
    "duration": 750,
    "start_time": "2022-05-01T10:12:53.687Z"
   },
   {
    "duration": 200,
    "start_time": "2022-05-01T10:12:54.439Z"
   },
   {
    "duration": 14,
    "start_time": "2022-05-01T10:12:54.641Z"
   },
   {
    "duration": 23,
    "start_time": "2022-05-01T10:12:54.657Z"
   },
   {
    "duration": 9,
    "start_time": "2022-05-01T10:12:54.723Z"
   },
   {
    "duration": 9,
    "start_time": "2022-05-01T10:12:54.734Z"
   },
   {
    "duration": 10,
    "start_time": "2022-05-01T10:12:54.745Z"
   },
   {
    "duration": 13,
    "start_time": "2022-05-01T10:12:54.756Z"
   },
   {
    "duration": 7,
    "start_time": "2022-05-01T10:12:54.772Z"
   },
   {
    "duration": 7,
    "start_time": "2022-05-01T10:12:54.781Z"
   },
   {
    "duration": 6,
    "start_time": "2022-05-01T10:12:54.790Z"
   },
   {
    "duration": 4,
    "start_time": "2022-05-01T10:12:54.824Z"
   },
   {
    "duration": 5,
    "start_time": "2022-05-01T10:12:54.831Z"
   },
   {
    "duration": 5,
    "start_time": "2022-05-01T10:12:54.841Z"
   },
   {
    "duration": 18,
    "start_time": "2022-05-01T10:12:54.848Z"
   },
   {
    "duration": 7,
    "start_time": "2022-05-01T10:12:54.868Z"
   },
   {
    "duration": 58,
    "start_time": "2022-05-01T10:12:54.876Z"
   },
   {
    "duration": 89,
    "start_time": "2022-05-01T10:12:54.936Z"
   },
   {
    "duration": 4,
    "start_time": "2022-05-01T10:12:55.027Z"
   },
   {
    "duration": 32,
    "start_time": "2022-05-01T10:12:55.033Z"
   },
   {
    "duration": 6,
    "start_time": "2022-05-01T10:12:55.068Z"
   },
   {
    "duration": 50,
    "start_time": "2022-05-01T10:12:55.076Z"
   },
   {
    "duration": 6,
    "start_time": "2022-05-01T10:12:55.128Z"
   },
   {
    "duration": 12,
    "start_time": "2022-05-01T10:12:55.136Z"
   },
   {
    "duration": 9,
    "start_time": "2022-05-01T10:12:55.150Z"
   },
   {
    "duration": 5,
    "start_time": "2022-05-01T10:12:55.161Z"
   },
   {
    "duration": 23,
    "start_time": "2022-05-01T10:12:55.168Z"
   },
   {
    "duration": 30,
    "start_time": "2022-05-01T10:12:55.193Z"
   },
   {
    "duration": 7,
    "start_time": "2022-05-01T10:12:55.225Z"
   },
   {
    "duration": 18,
    "start_time": "2022-05-01T10:12:55.234Z"
   },
   {
    "duration": 17,
    "start_time": "2022-05-01T10:12:55.253Z"
   },
   {
    "duration": 5,
    "start_time": "2022-05-01T10:12:55.271Z"
   },
   {
    "duration": 25,
    "start_time": "2022-05-01T10:12:55.277Z"
   },
   {
    "duration": 34,
    "start_time": "2022-05-01T10:12:55.304Z"
   },
   {
    "duration": 35,
    "start_time": "2022-05-01T10:12:55.339Z"
   },
   {
    "duration": 4,
    "start_time": "2022-05-01T10:12:55.375Z"
   },
   {
    "duration": 582,
    "start_time": "2022-05-01T10:12:55.380Z"
   },
   {
    "duration": 77,
    "start_time": "2022-05-01T10:12:55.964Z"
   },
   {
    "duration": 17,
    "start_time": "2022-05-01T10:12:56.043Z"
   },
   {
    "duration": 77,
    "start_time": "2022-05-01T10:12:56.062Z"
   },
   {
    "duration": 380,
    "start_time": "2022-05-01T10:12:56.144Z"
   },
   {
    "duration": 300,
    "start_time": "2022-05-01T10:12:56.526Z"
   },
   {
    "duration": 316,
    "start_time": "2022-05-01T10:12:56.828Z"
   },
   {
    "duration": 12,
    "start_time": "2022-05-01T10:12:57.147Z"
   },
   {
    "duration": 67,
    "start_time": "2022-05-01T10:12:57.161Z"
   },
   {
    "duration": 347,
    "start_time": "2022-05-01T10:12:57.230Z"
   },
   {
    "duration": 6,
    "start_time": "2022-05-01T10:12:57.579Z"
   },
   {
    "duration": 181,
    "start_time": "2022-05-01T10:12:57.586Z"
   },
   {
    "duration": 117,
    "start_time": "2022-05-01T10:12:57.769Z"
   },
   {
    "duration": 126,
    "start_time": "2022-05-01T10:12:57.888Z"
   },
   {
    "duration": 13,
    "start_time": "2022-05-01T10:12:58.016Z"
   },
   {
    "duration": 7,
    "start_time": "2022-05-01T10:12:58.031Z"
   },
   {
    "duration": 184,
    "start_time": "2022-05-01T10:12:58.039Z"
   },
   {
    "duration": 7,
    "start_time": "2022-05-01T10:12:58.225Z"
   },
   {
    "duration": 237,
    "start_time": "2022-05-01T10:12:58.234Z"
   },
   {
    "duration": 167,
    "start_time": "2022-05-01T10:12:58.473Z"
   },
   {
    "duration": 8,
    "start_time": "2022-05-01T10:12:58.641Z"
   },
   {
    "duration": 11,
    "start_time": "2022-05-01T10:12:58.650Z"
   },
   {
    "duration": 149,
    "start_time": "2022-05-01T10:12:58.663Z"
   },
   {
    "duration": 11,
    "start_time": "2022-05-01T10:12:58.814Z"
   },
   {
    "duration": 187,
    "start_time": "2022-05-01T10:12:58.827Z"
   },
   {
    "duration": 175,
    "start_time": "2022-05-01T10:12:59.016Z"
   },
   {
    "duration": 113,
    "start_time": "2022-05-01T10:12:59.193Z"
   },
   {
    "duration": 16,
    "start_time": "2022-05-01T10:12:59.307Z"
   },
   {
    "duration": 9,
    "start_time": "2022-05-01T10:12:59.325Z"
   },
   {
    "duration": 141,
    "start_time": "2022-05-01T10:12:59.336Z"
   },
   {
    "duration": 5,
    "start_time": "2022-05-01T10:12:59.479Z"
   },
   {
    "duration": 205,
    "start_time": "2022-05-01T10:12:59.486Z"
   },
   {
    "duration": 110,
    "start_time": "2022-05-01T10:12:59.693Z"
   },
   {
    "duration": 18,
    "start_time": "2022-05-01T10:12:59.805Z"
   },
   {
    "duration": 182,
    "start_time": "2022-05-01T10:12:59.825Z"
   },
   {
    "duration": 38,
    "start_time": "2022-05-01T10:13:00.009Z"
   },
   {
    "duration": 30,
    "start_time": "2022-05-01T10:13:00.048Z"
   },
   {
    "duration": 6,
    "start_time": "2022-05-01T10:13:00.080Z"
   },
   {
    "duration": 9,
    "start_time": "2022-05-01T10:13:00.087Z"
   },
   {
    "duration": 47,
    "start_time": "2022-05-01T10:13:00.097Z"
   },
   {
    "duration": 208,
    "start_time": "2022-05-01T10:13:00.145Z"
   },
   {
    "duration": 6,
    "start_time": "2022-05-01T10:13:00.355Z"
   },
   {
    "duration": 210,
    "start_time": "2022-05-01T10:13:00.363Z"
   },
   {
    "duration": 5,
    "start_time": "2022-05-01T10:13:00.575Z"
   },
   {
    "duration": 203,
    "start_time": "2022-05-01T10:13:00.581Z"
   },
   {
    "duration": 6,
    "start_time": "2022-05-01T10:13:00.785Z"
   },
   {
    "duration": 18,
    "start_time": "2022-05-01T10:13:00.792Z"
   },
   {
    "duration": 146,
    "start_time": "2022-05-01T10:13:00.824Z"
   },
   {
    "duration": 16,
    "start_time": "2022-05-01T10:13:00.973Z"
   },
   {
    "duration": 248,
    "start_time": "2022-05-01T10:13:00.991Z"
   },
   {
    "duration": 16,
    "start_time": "2022-05-01T10:13:01.242Z"
   },
   {
    "duration": 176,
    "start_time": "2022-05-01T10:13:01.260Z"
   },
   {
    "duration": 14,
    "start_time": "2022-05-01T10:13:01.439Z"
   },
   {
    "duration": 169,
    "start_time": "2022-05-01T10:13:01.455Z"
   },
   {
    "duration": 13,
    "start_time": "2022-05-01T10:13:01.626Z"
   },
   {
    "duration": 7,
    "start_time": "2022-05-01T10:13:01.641Z"
   },
   {
    "duration": 19,
    "start_time": "2022-05-01T10:13:01.650Z"
   },
   {
    "duration": 30,
    "start_time": "2022-05-01T10:13:01.671Z"
   },
   {
    "duration": 188,
    "start_time": "2022-05-01T10:13:01.703Z"
   },
   {
    "duration": 9,
    "start_time": "2022-05-01T10:13:01.893Z"
   },
   {
    "duration": 26,
    "start_time": "2022-05-01T10:13:01.904Z"
   },
   {
    "duration": 5,
    "start_time": "2022-05-01T10:13:01.931Z"
   },
   {
    "duration": 169,
    "start_time": "2022-05-01T10:13:01.938Z"
   },
   {
    "duration": 37,
    "start_time": "2022-05-01T10:13:02.108Z"
   },
   {
    "duration": 806,
    "start_time": "2022-05-01T10:13:02.146Z"
   },
   {
    "duration": 12,
    "start_time": "2022-05-01T10:13:02.954Z"
   },
   {
    "duration": 5,
    "start_time": "2022-05-01T10:13:02.968Z"
   },
   {
    "duration": 13,
    "start_time": "2022-05-01T10:13:02.975Z"
   },
   {
    "duration": 37,
    "start_time": "2022-05-01T10:13:02.989Z"
   },
   {
    "duration": 756,
    "start_time": "2022-05-01T10:15:42.694Z"
   },
   {
    "duration": 161,
    "start_time": "2022-05-01T10:15:43.452Z"
   },
   {
    "duration": 18,
    "start_time": "2022-05-01T10:15:43.614Z"
   },
   {
    "duration": 22,
    "start_time": "2022-05-01T10:15:43.634Z"
   },
   {
    "duration": 9,
    "start_time": "2022-05-01T10:15:43.657Z"
   },
   {
    "duration": 5,
    "start_time": "2022-05-01T10:15:43.667Z"
   },
   {
    "duration": 7,
    "start_time": "2022-05-01T10:15:43.673Z"
   },
   {
    "duration": 43,
    "start_time": "2022-05-01T10:15:43.681Z"
   },
   {
    "duration": 6,
    "start_time": "2022-05-01T10:15:43.725Z"
   },
   {
    "duration": 6,
    "start_time": "2022-05-01T10:15:43.734Z"
   },
   {
    "duration": 4,
    "start_time": "2022-05-01T10:15:43.742Z"
   },
   {
    "duration": 6,
    "start_time": "2022-05-01T10:15:43.748Z"
   },
   {
    "duration": 8,
    "start_time": "2022-05-01T10:15:43.756Z"
   },
   {
    "duration": 8,
    "start_time": "2022-05-01T10:15:43.766Z"
   },
   {
    "duration": 11,
    "start_time": "2022-05-01T10:15:43.776Z"
   },
   {
    "duration": 5,
    "start_time": "2022-05-01T10:15:43.788Z"
   },
   {
    "duration": 35,
    "start_time": "2022-05-01T10:15:43.795Z"
   },
   {
    "duration": 26,
    "start_time": "2022-05-01T10:15:43.832Z"
   },
   {
    "duration": 4,
    "start_time": "2022-05-01T10:15:43.859Z"
   },
   {
    "duration": 26,
    "start_time": "2022-05-01T10:15:43.864Z"
   },
   {
    "duration": 5,
    "start_time": "2022-05-01T10:15:43.892Z"
   },
   {
    "duration": 28,
    "start_time": "2022-05-01T10:15:43.898Z"
   },
   {
    "duration": 5,
    "start_time": "2022-05-01T10:15:43.928Z"
   },
   {
    "duration": 7,
    "start_time": "2022-05-01T10:15:43.934Z"
   },
   {
    "duration": 7,
    "start_time": "2022-05-01T10:15:43.942Z"
   },
   {
    "duration": 5,
    "start_time": "2022-05-01T10:15:43.951Z"
   },
   {
    "duration": 25,
    "start_time": "2022-05-01T10:15:43.957Z"
   },
   {
    "duration": 40,
    "start_time": "2022-05-01T10:15:43.986Z"
   },
   {
    "duration": 6,
    "start_time": "2022-05-01T10:15:44.027Z"
   },
   {
    "duration": 4,
    "start_time": "2022-05-01T10:15:44.036Z"
   },
   {
    "duration": 13,
    "start_time": "2022-05-01T10:15:44.041Z"
   },
   {
    "duration": 6,
    "start_time": "2022-05-01T10:15:44.055Z"
   },
   {
    "duration": 23,
    "start_time": "2022-05-01T10:15:44.063Z"
   },
   {
    "duration": 52,
    "start_time": "2022-05-01T10:15:44.087Z"
   },
   {
    "duration": 24,
    "start_time": "2022-05-01T10:15:44.141Z"
   },
   {
    "duration": 4,
    "start_time": "2022-05-01T10:15:44.166Z"
   },
   {
    "duration": 330,
    "start_time": "2022-05-01T10:15:44.171Z"
   },
   {
    "duration": 28,
    "start_time": "2022-05-01T10:15:44.503Z"
   },
   {
    "duration": 7,
    "start_time": "2022-05-01T10:15:44.533Z"
   },
   {
    "duration": 23,
    "start_time": "2022-05-01T10:15:44.542Z"
   },
   {
    "duration": 184,
    "start_time": "2022-05-01T10:15:44.566Z"
   },
   {
    "duration": 143,
    "start_time": "2022-05-01T10:15:44.752Z"
   },
   {
    "duration": 113,
    "start_time": "2022-05-01T10:15:44.897Z"
   },
   {
    "duration": 19,
    "start_time": "2022-05-01T10:15:45.012Z"
   },
   {
    "duration": 8,
    "start_time": "2022-05-01T10:15:45.033Z"
   },
   {
    "duration": 168,
    "start_time": "2022-05-01T10:15:45.043Z"
   },
   {
    "duration": 16,
    "start_time": "2022-05-01T10:15:45.213Z"
   },
   {
    "duration": 184,
    "start_time": "2022-05-01T10:15:45.231Z"
   },
   {
    "duration": 124,
    "start_time": "2022-05-01T10:15:45.423Z"
   },
   {
    "duration": 136,
    "start_time": "2022-05-01T10:15:45.549Z"
   },
   {
    "duration": 8,
    "start_time": "2022-05-01T10:15:45.686Z"
   },
   {
    "duration": 7,
    "start_time": "2022-05-01T10:15:45.696Z"
   },
   {
    "duration": 169,
    "start_time": "2022-05-01T10:15:45.704Z"
   },
   {
    "duration": 6,
    "start_time": "2022-05-01T10:15:45.874Z"
   },
   {
    "duration": 162,
    "start_time": "2022-05-01T10:15:45.881Z"
   },
   {
    "duration": 147,
    "start_time": "2022-05-01T10:15:46.045Z"
   },
   {
    "duration": 8,
    "start_time": "2022-05-01T10:15:46.194Z"
   },
   {
    "duration": 11,
    "start_time": "2022-05-01T10:15:46.203Z"
   },
   {
    "duration": 176,
    "start_time": "2022-05-01T10:15:46.216Z"
   },
   {
    "duration": 6,
    "start_time": "2022-05-01T10:15:46.393Z"
   },
   {
    "duration": 245,
    "start_time": "2022-05-01T10:15:46.400Z"
   },
   {
    "duration": 163,
    "start_time": "2022-05-01T10:15:46.647Z"
   },
   {
    "duration": 113,
    "start_time": "2022-05-01T10:15:46.823Z"
   },
   {
    "duration": 8,
    "start_time": "2022-05-01T10:15:46.937Z"
   },
   {
    "duration": 8,
    "start_time": "2022-05-01T10:15:46.946Z"
   },
   {
    "duration": 132,
    "start_time": "2022-05-01T10:15:46.956Z"
   },
   {
    "duration": 6,
    "start_time": "2022-05-01T10:15:47.089Z"
   },
   {
    "duration": 194,
    "start_time": "2022-05-01T10:15:47.096Z"
   },
   {
    "duration": 103,
    "start_time": "2022-05-01T10:15:47.292Z"
   },
   {
    "duration": 7,
    "start_time": "2022-05-01T10:15:47.397Z"
   },
   {
    "duration": 190,
    "start_time": "2022-05-01T10:15:47.406Z"
   },
   {
    "duration": 38,
    "start_time": "2022-05-01T10:15:47.598Z"
   },
   {
    "duration": 29,
    "start_time": "2022-05-01T10:15:47.637Z"
   },
   {
    "duration": 6,
    "start_time": "2022-05-01T10:15:47.667Z"
   },
   {
    "duration": 26,
    "start_time": "2022-05-01T10:15:47.674Z"
   },
   {
    "duration": 25,
    "start_time": "2022-05-01T10:15:47.702Z"
   },
   {
    "duration": 204,
    "start_time": "2022-05-01T10:15:47.729Z"
   },
   {
    "duration": 5,
    "start_time": "2022-05-01T10:15:47.935Z"
   },
   {
    "duration": 205,
    "start_time": "2022-05-01T10:15:47.941Z"
   },
   {
    "duration": 5,
    "start_time": "2022-05-01T10:15:48.147Z"
   },
   {
    "duration": 213,
    "start_time": "2022-05-01T10:15:48.154Z"
   },
   {
    "duration": 5,
    "start_time": "2022-05-01T10:15:48.373Z"
   },
   {
    "duration": 16,
    "start_time": "2022-05-01T10:15:48.380Z"
   },
   {
    "duration": 156,
    "start_time": "2022-05-01T10:15:48.398Z"
   },
   {
    "duration": 14,
    "start_time": "2022-05-01T10:15:48.556Z"
   },
   {
    "duration": 233,
    "start_time": "2022-05-01T10:15:48.572Z"
   },
   {
    "duration": 23,
    "start_time": "2022-05-01T10:15:48.807Z"
   },
   {
    "duration": 165,
    "start_time": "2022-05-01T10:15:48.831Z"
   },
   {
    "duration": 13,
    "start_time": "2022-05-01T10:15:48.998Z"
   },
   {
    "duration": 149,
    "start_time": "2022-05-01T10:15:49.024Z"
   },
   {
    "duration": 12,
    "start_time": "2022-05-01T10:15:49.174Z"
   },
   {
    "duration": 7,
    "start_time": "2022-05-01T10:15:49.188Z"
   },
   {
    "duration": 8,
    "start_time": "2022-05-01T10:15:49.197Z"
   },
   {
    "duration": 39,
    "start_time": "2022-05-01T10:15:49.206Z"
   },
   {
    "duration": 193,
    "start_time": "2022-05-01T10:15:49.246Z"
   },
   {
    "duration": 10,
    "start_time": "2022-05-01T10:15:49.440Z"
   },
   {
    "duration": 7,
    "start_time": "2022-05-01T10:15:49.451Z"
   },
   {
    "duration": 5,
    "start_time": "2022-05-01T10:15:49.460Z"
   },
   {
    "duration": 186,
    "start_time": "2022-05-01T10:15:49.466Z"
   },
   {
    "duration": 26,
    "start_time": "2022-05-01T10:15:49.654Z"
   },
   {
    "duration": 1383,
    "start_time": "2022-05-01T10:15:49.682Z"
   },
   {
    "duration": 66,
    "start_time": "2022-05-01T10:15:51.066Z"
   },
   {
    "duration": 7,
    "start_time": "2022-05-01T10:15:51.134Z"
   },
   {
    "duration": 18,
    "start_time": "2022-05-01T10:15:51.142Z"
   },
   {
    "duration": 63,
    "start_time": "2022-05-01T10:15:51.162Z"
   }
  ],
  "kernelspec": {
   "display_name": "Python 3 (ipykernel)",
   "language": "python",
   "name": "python3"
  },
  "language_info": {
   "codemirror_mode": {
    "name": "ipython",
    "version": 3
   },
   "file_extension": ".py",
   "mimetype": "text/x-python",
   "name": "python",
   "nbconvert_exporter": "python",
   "pygments_lexer": "ipython3",
   "version": "3.9.7"
  },
  "toc": {
   "base_numbering": 1,
   "nav_menu": {},
   "number_sections": true,
   "sideBar": true,
   "skip_h1_title": true,
   "title_cell": "Table of Contents",
   "title_sidebar": "Contents",
   "toc_cell": false,
   "toc_position": {},
   "toc_section_display": true,
   "toc_window_display": true
  }
 },
 "nbformat": 4,
 "nbformat_minor": 5
}
