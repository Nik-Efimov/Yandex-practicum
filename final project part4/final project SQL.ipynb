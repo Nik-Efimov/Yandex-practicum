{
 "cells": [
  {
   "cell_type": "markdown",
   "id": "ef92681e",
   "metadata": {},
   "source": [
    "# Проект по анализу базы данных SQL, сервиса для чтения книг по подписке"
   ]
  },
  {
   "cell_type": "markdown",
   "id": "ead655b6",
   "metadata": {},
   "source": [
    "### Задача:"
   ]
  },
  {
   "cell_type": "markdown",
   "id": "8ba0e314",
   "metadata": {},
   "source": [
    "Проанализировать базу данных с помощью SQL. Произвести требуемые выгрузки и расчеты."
   ]
  },
  {
   "cell_type": "markdown",
   "id": "cfee8abe",
   "metadata": {},
   "source": [
    "### Описание данных\n",
    "\n",
    "**Таблица `books`**\n",
    "\n",
    "Содержит данные о книгах:\n",
    "\n",
    "- `book_id` — идентификатор книги;\n",
    "- `author_id` — идентификатор автора;\n",
    "- `title` — название книги;\n",
    "- `num_pages` — количество страниц;\n",
    "- `publication_date` — дата публикации книги;\n",
    "- `publisher_id` — идентификатор издателя.\n",
    "\n",
    "**Таблица `authors`**\n",
    "\n",
    "Содержит данные об авторах:\n",
    "\n",
    "- `author_id` — идентификатор автора;\n",
    "- `author` — имя автора.\n",
    "\n",
    "**Таблица `publishers`**\n",
    "\n",
    "Содержит данные об издательствах:\n",
    "\n",
    "- `publisher_id` — идентификатор издательства;\n",
    "- `publisher` — название издательства;\n",
    "\n",
    "**Таблица `ratings`**\n",
    "\n",
    "Содержит данные о пользовательских оценках книг:\n",
    "\n",
    "- `rating_id` — идентификатор оценки;\n",
    "- `book_id` — идентификатор книги;\n",
    "- `username` — имя пользователя, оставившего оценку;\n",
    "- `rating` — оценка книги.\n",
    "\n",
    "**Таблица `reviews`**\n",
    "\n",
    "Содержит данные о пользовательских обзорах на книги:\n",
    "\n",
    "- `review_id` — идентификатор обзора;\n",
    "- `book_id` — идентификатор книги;\n",
    "- `username` — имя пользователя, написавшего обзор;\n",
    "- `text` — текст обзора."
   ]
  },
  {
   "cell_type": "markdown",
   "id": "7f95694c",
   "metadata": {},
   "source": [
    "## План проекта:"
   ]
  },
  {
   "cell_type": "markdown",
   "id": "ac31204f",
   "metadata": {},
   "source": [
    "### 1. Импорт библиотек"
   ]
  },
  {
   "cell_type": "markdown",
   "id": "46226614",
   "metadata": {},
   "source": [
    "### 2. Исследование таблиц\n",
    "- Выведем первые строки"
   ]
  },
  {
   "cell_type": "markdown",
   "id": "00ed5a4c",
   "metadata": {},
   "source": [
    "### 3. Решение заданий"
   ]
  },
  {
   "cell_type": "markdown",
   "id": "873f6708",
   "metadata": {},
   "source": [
    "- Выведем результат каждого SQL-запроса;\n",
    "- Опишем выводы по каждой из решённых задач."
   ]
  },
  {
   "cell_type": "markdown",
   "id": "fc41f334",
   "metadata": {},
   "source": [
    "## Задания:"
   ]
  },
  {
   "cell_type": "markdown",
   "id": "5123bede",
   "metadata": {},
   "source": [
    "- Посчитаем, сколько книг вышло после 1 января 2000 года;\n",
    "- Для каждой книги посчитаем количество обзоров и среднюю оценку;\n",
    "- Определим издательство, которое выпустило наибольшее число книг толще 50 страниц — так мы исключим из анализа брошюры;\n",
    "- Определим автора с самой высокой средней оценкой книг — учтем только книги с 50 и более оценками;\n",
    "- Посчитаем среднее количество обзоров от пользователей, которые поставили больше 50 оценок."
   ]
  },
  {
   "cell_type": "markdown",
   "id": "bbaa9743",
   "metadata": {},
   "source": [
    "## Выводы"
   ]
  },
  {
   "cell_type": "markdown",
   "id": "4c6bd6b6",
   "metadata": {},
   "source": [
    "## 1. Импорт библиотек"
   ]
  },
  {
   "cell_type": "code",
   "execution_count": 85,
   "id": "bc4cbca2",
   "metadata": {},
   "outputs": [],
   "source": [
    "import pandas as pd\n",
    "from sqlalchemy import create_engine"
   ]
  },
  {
   "cell_type": "markdown",
   "id": "45582da3",
   "metadata": {},
   "source": [
    "**Настроим подключение к базе данных**"
   ]
  },
  {
   "cell_type": "code",
   "execution_count": 86,
   "id": "2629c76f",
   "metadata": {},
   "outputs": [],
   "source": [
    "# устанавливаем параметры\n",
    "db_config = {'user': 'praktikum_student', # имя пользователя\n",
    "'pwd': 'Sdf4$2;d-d30pp', # пароль\n",
    "'host': 'rc1b-wcoijxj3yxfsf3fs.mdb.yandexcloud.net',\n",
    "'port': 6432, # порт подключения\n",
    "'db': 'data-analyst-final-project-db'} # название базы данных\n",
    "connection_string = 'postgresql://{}:{}@{}:{}/{}'.format(db_config['user'],\n",
    " db_config['pwd'],\n",
    " db_config['host'],\n",
    " db_config['port'],\n",
    " db_config['db'])\n",
    "# сохраняем коннектор\n",
    "engine = create_engine(connection_string, connect_args={'sslmode':'require'}) "
   ]
  },
  {
   "cell_type": "markdown",
   "id": "8e1f2244",
   "metadata": {},
   "source": [
    "## 2. Исследование таблиц\n",
    "- Выведем первые строки"
   ]
  },
  {
   "cell_type": "markdown",
   "id": "d76a7798",
   "metadata": {},
   "source": [
    "**Таблица `books`**"
   ]
  },
  {
   "cell_type": "code",
   "execution_count": 87,
   "id": "6328fb4c",
   "metadata": {},
   "outputs": [],
   "source": [
    "query = ''' SELECT *\n",
    "            FROM books\n",
    "            LIMIT 5\n",
    "        ''' "
   ]
  },
  {
   "cell_type": "code",
   "execution_count": 88,
   "id": "799c1b66",
   "metadata": {},
   "outputs": [
    {
     "data": {
      "text/html": [
       "<div>\n",
       "<style scoped>\n",
       "    .dataframe tbody tr th:only-of-type {\n",
       "        vertical-align: middle;\n",
       "    }\n",
       "\n",
       "    .dataframe tbody tr th {\n",
       "        vertical-align: top;\n",
       "    }\n",
       "\n",
       "    .dataframe thead th {\n",
       "        text-align: right;\n",
       "    }\n",
       "</style>\n",
       "<table border=\"1\" class=\"dataframe\">\n",
       "  <thead>\n",
       "    <tr style=\"text-align: right;\">\n",
       "      <th></th>\n",
       "      <th>book_id</th>\n",
       "      <th>author_id</th>\n",
       "      <th>title</th>\n",
       "      <th>num_pages</th>\n",
       "      <th>publication_date</th>\n",
       "      <th>publisher_id</th>\n",
       "    </tr>\n",
       "  </thead>\n",
       "  <tbody>\n",
       "    <tr>\n",
       "      <th>0</th>\n",
       "      <td>1</td>\n",
       "      <td>546</td>\n",
       "      <td>'Salem's Lot</td>\n",
       "      <td>594</td>\n",
       "      <td>2005-11-01</td>\n",
       "      <td>93</td>\n",
       "    </tr>\n",
       "    <tr>\n",
       "      <th>1</th>\n",
       "      <td>2</td>\n",
       "      <td>465</td>\n",
       "      <td>1 000 Places to See Before You Die</td>\n",
       "      <td>992</td>\n",
       "      <td>2003-05-22</td>\n",
       "      <td>336</td>\n",
       "    </tr>\n",
       "    <tr>\n",
       "      <th>2</th>\n",
       "      <td>3</td>\n",
       "      <td>407</td>\n",
       "      <td>13 Little Blue Envelopes (Little Blue Envelope...</td>\n",
       "      <td>322</td>\n",
       "      <td>2010-12-21</td>\n",
       "      <td>135</td>\n",
       "    </tr>\n",
       "    <tr>\n",
       "      <th>3</th>\n",
       "      <td>4</td>\n",
       "      <td>82</td>\n",
       "      <td>1491: New Revelations of the Americas Before C...</td>\n",
       "      <td>541</td>\n",
       "      <td>2006-10-10</td>\n",
       "      <td>309</td>\n",
       "    </tr>\n",
       "    <tr>\n",
       "      <th>4</th>\n",
       "      <td>5</td>\n",
       "      <td>125</td>\n",
       "      <td>1776</td>\n",
       "      <td>386</td>\n",
       "      <td>2006-07-04</td>\n",
       "      <td>268</td>\n",
       "    </tr>\n",
       "  </tbody>\n",
       "</table>\n",
       "</div>"
      ],
      "text/plain": [
       "   book_id  author_id                                              title  \\\n",
       "0        1        546                                       'Salem's Lot   \n",
       "1        2        465                 1 000 Places to See Before You Die   \n",
       "2        3        407  13 Little Blue Envelopes (Little Blue Envelope...   \n",
       "3        4         82  1491: New Revelations of the Americas Before C...   \n",
       "4        5        125                                               1776   \n",
       "\n",
       "   num_pages publication_date  publisher_id  \n",
       "0        594       2005-11-01            93  \n",
       "1        992       2003-05-22           336  \n",
       "2        322       2010-12-21           135  \n",
       "3        541       2006-10-10           309  \n",
       "4        386       2006-07-04           268  "
      ]
     },
     "execution_count": 88,
     "metadata": {},
     "output_type": "execute_result"
    }
   ],
   "source": [
    "pd.io.sql.read_sql(query, con = engine) "
   ]
  },
  {
   "cell_type": "markdown",
   "id": "c6a43a36",
   "metadata": {},
   "source": [
    "**Таблица `authors`**"
   ]
  },
  {
   "cell_type": "code",
   "execution_count": 89,
   "id": "5b01b7bf",
   "metadata": {},
   "outputs": [],
   "source": [
    "query = ''' SELECT *\n",
    "            FROM authors\n",
    "            LIMIT 5\n",
    "        ''' "
   ]
  },
  {
   "cell_type": "code",
   "execution_count": 90,
   "id": "9db31c80",
   "metadata": {},
   "outputs": [
    {
     "data": {
      "text/html": [
       "<div>\n",
       "<style scoped>\n",
       "    .dataframe tbody tr th:only-of-type {\n",
       "        vertical-align: middle;\n",
       "    }\n",
       "\n",
       "    .dataframe tbody tr th {\n",
       "        vertical-align: top;\n",
       "    }\n",
       "\n",
       "    .dataframe thead th {\n",
       "        text-align: right;\n",
       "    }\n",
       "</style>\n",
       "<table border=\"1\" class=\"dataframe\">\n",
       "  <thead>\n",
       "    <tr style=\"text-align: right;\">\n",
       "      <th></th>\n",
       "      <th>author_id</th>\n",
       "      <th>author</th>\n",
       "    </tr>\n",
       "  </thead>\n",
       "  <tbody>\n",
       "    <tr>\n",
       "      <th>0</th>\n",
       "      <td>1</td>\n",
       "      <td>A.S. Byatt</td>\n",
       "    </tr>\n",
       "    <tr>\n",
       "      <th>1</th>\n",
       "      <td>2</td>\n",
       "      <td>Aesop/Laura Harris/Laura Gibbs</td>\n",
       "    </tr>\n",
       "    <tr>\n",
       "      <th>2</th>\n",
       "      <td>3</td>\n",
       "      <td>Agatha Christie</td>\n",
       "    </tr>\n",
       "    <tr>\n",
       "      <th>3</th>\n",
       "      <td>4</td>\n",
       "      <td>Alan Brennert</td>\n",
       "    </tr>\n",
       "    <tr>\n",
       "      <th>4</th>\n",
       "      <td>5</td>\n",
       "      <td>Alan Moore/David   Lloyd</td>\n",
       "    </tr>\n",
       "  </tbody>\n",
       "</table>\n",
       "</div>"
      ],
      "text/plain": [
       "   author_id                          author\n",
       "0          1                      A.S. Byatt\n",
       "1          2  Aesop/Laura Harris/Laura Gibbs\n",
       "2          3                 Agatha Christie\n",
       "3          4                   Alan Brennert\n",
       "4          5        Alan Moore/David   Lloyd"
      ]
     },
     "execution_count": 90,
     "metadata": {},
     "output_type": "execute_result"
    }
   ],
   "source": [
    "pd.io.sql.read_sql(query, con = engine) "
   ]
  },
  {
   "cell_type": "markdown",
   "id": "28dccb90",
   "metadata": {},
   "source": [
    "**Таблица `publishers`**"
   ]
  },
  {
   "cell_type": "code",
   "execution_count": 91,
   "id": "383170f4",
   "metadata": {},
   "outputs": [],
   "source": [
    "query = ''' SELECT *\n",
    "            FROM publishers\n",
    "            LIMIT 5\n",
    "        ''' "
   ]
  },
  {
   "cell_type": "code",
   "execution_count": 92,
   "id": "42e340d5",
   "metadata": {},
   "outputs": [
    {
     "data": {
      "text/html": [
       "<div>\n",
       "<style scoped>\n",
       "    .dataframe tbody tr th:only-of-type {\n",
       "        vertical-align: middle;\n",
       "    }\n",
       "\n",
       "    .dataframe tbody tr th {\n",
       "        vertical-align: top;\n",
       "    }\n",
       "\n",
       "    .dataframe thead th {\n",
       "        text-align: right;\n",
       "    }\n",
       "</style>\n",
       "<table border=\"1\" class=\"dataframe\">\n",
       "  <thead>\n",
       "    <tr style=\"text-align: right;\">\n",
       "      <th></th>\n",
       "      <th>publisher_id</th>\n",
       "      <th>publisher</th>\n",
       "    </tr>\n",
       "  </thead>\n",
       "  <tbody>\n",
       "    <tr>\n",
       "      <th>0</th>\n",
       "      <td>1</td>\n",
       "      <td>Ace</td>\n",
       "    </tr>\n",
       "    <tr>\n",
       "      <th>1</th>\n",
       "      <td>2</td>\n",
       "      <td>Ace Book</td>\n",
       "    </tr>\n",
       "    <tr>\n",
       "      <th>2</th>\n",
       "      <td>3</td>\n",
       "      <td>Ace Books</td>\n",
       "    </tr>\n",
       "    <tr>\n",
       "      <th>3</th>\n",
       "      <td>4</td>\n",
       "      <td>Ace Hardcover</td>\n",
       "    </tr>\n",
       "    <tr>\n",
       "      <th>4</th>\n",
       "      <td>5</td>\n",
       "      <td>Addison Wesley Publishing Company</td>\n",
       "    </tr>\n",
       "  </tbody>\n",
       "</table>\n",
       "</div>"
      ],
      "text/plain": [
       "   publisher_id                          publisher\n",
       "0             1                                Ace\n",
       "1             2                           Ace Book\n",
       "2             3                          Ace Books\n",
       "3             4                      Ace Hardcover\n",
       "4             5  Addison Wesley Publishing Company"
      ]
     },
     "execution_count": 92,
     "metadata": {},
     "output_type": "execute_result"
    }
   ],
   "source": [
    "pd.io.sql.read_sql(query, con = engine) "
   ]
  },
  {
   "cell_type": "markdown",
   "id": "4589123f",
   "metadata": {},
   "source": [
    "**Таблица `ratings`**"
   ]
  },
  {
   "cell_type": "code",
   "execution_count": 93,
   "id": "e03766af",
   "metadata": {},
   "outputs": [],
   "source": [
    "query = ''' SELECT *\n",
    "            FROM ratings\n",
    "            LIMIT 5\n",
    "        ''' "
   ]
  },
  {
   "cell_type": "code",
   "execution_count": 94,
   "id": "e888e184",
   "metadata": {},
   "outputs": [
    {
     "data": {
      "text/html": [
       "<div>\n",
       "<style scoped>\n",
       "    .dataframe tbody tr th:only-of-type {\n",
       "        vertical-align: middle;\n",
       "    }\n",
       "\n",
       "    .dataframe tbody tr th {\n",
       "        vertical-align: top;\n",
       "    }\n",
       "\n",
       "    .dataframe thead th {\n",
       "        text-align: right;\n",
       "    }\n",
       "</style>\n",
       "<table border=\"1\" class=\"dataframe\">\n",
       "  <thead>\n",
       "    <tr style=\"text-align: right;\">\n",
       "      <th></th>\n",
       "      <th>rating_id</th>\n",
       "      <th>book_id</th>\n",
       "      <th>username</th>\n",
       "      <th>rating</th>\n",
       "    </tr>\n",
       "  </thead>\n",
       "  <tbody>\n",
       "    <tr>\n",
       "      <th>0</th>\n",
       "      <td>1</td>\n",
       "      <td>1</td>\n",
       "      <td>ryanfranco</td>\n",
       "      <td>4</td>\n",
       "    </tr>\n",
       "    <tr>\n",
       "      <th>1</th>\n",
       "      <td>2</td>\n",
       "      <td>1</td>\n",
       "      <td>grantpatricia</td>\n",
       "      <td>2</td>\n",
       "    </tr>\n",
       "    <tr>\n",
       "      <th>2</th>\n",
       "      <td>3</td>\n",
       "      <td>1</td>\n",
       "      <td>brandtandrea</td>\n",
       "      <td>5</td>\n",
       "    </tr>\n",
       "    <tr>\n",
       "      <th>3</th>\n",
       "      <td>4</td>\n",
       "      <td>2</td>\n",
       "      <td>lorichen</td>\n",
       "      <td>3</td>\n",
       "    </tr>\n",
       "    <tr>\n",
       "      <th>4</th>\n",
       "      <td>5</td>\n",
       "      <td>2</td>\n",
       "      <td>mariokeller</td>\n",
       "      <td>2</td>\n",
       "    </tr>\n",
       "  </tbody>\n",
       "</table>\n",
       "</div>"
      ],
      "text/plain": [
       "   rating_id  book_id       username  rating\n",
       "0          1        1     ryanfranco       4\n",
       "1          2        1  grantpatricia       2\n",
       "2          3        1   brandtandrea       5\n",
       "3          4        2       lorichen       3\n",
       "4          5        2    mariokeller       2"
      ]
     },
     "execution_count": 94,
     "metadata": {},
     "output_type": "execute_result"
    }
   ],
   "source": [
    "pd.io.sql.read_sql(query, con = engine) "
   ]
  },
  {
   "cell_type": "markdown",
   "id": "1cb06c02",
   "metadata": {},
   "source": [
    "**Таблица `reviews`**"
   ]
  },
  {
   "cell_type": "code",
   "execution_count": 95,
   "id": "f5c8fdbe",
   "metadata": {},
   "outputs": [],
   "source": [
    "query = ''' SELECT *\n",
    "            FROM reviews\n",
    "            LIMIT 5\n",
    "        ''' "
   ]
  },
  {
   "cell_type": "code",
   "execution_count": 96,
   "id": "50bba740",
   "metadata": {},
   "outputs": [
    {
     "data": {
      "text/html": [
       "<div>\n",
       "<style scoped>\n",
       "    .dataframe tbody tr th:only-of-type {\n",
       "        vertical-align: middle;\n",
       "    }\n",
       "\n",
       "    .dataframe tbody tr th {\n",
       "        vertical-align: top;\n",
       "    }\n",
       "\n",
       "    .dataframe thead th {\n",
       "        text-align: right;\n",
       "    }\n",
       "</style>\n",
       "<table border=\"1\" class=\"dataframe\">\n",
       "  <thead>\n",
       "    <tr style=\"text-align: right;\">\n",
       "      <th></th>\n",
       "      <th>review_id</th>\n",
       "      <th>book_id</th>\n",
       "      <th>username</th>\n",
       "      <th>text</th>\n",
       "    </tr>\n",
       "  </thead>\n",
       "  <tbody>\n",
       "    <tr>\n",
       "      <th>0</th>\n",
       "      <td>1</td>\n",
       "      <td>1</td>\n",
       "      <td>brandtandrea</td>\n",
       "      <td>Mention society tell send professor analysis. ...</td>\n",
       "    </tr>\n",
       "    <tr>\n",
       "      <th>1</th>\n",
       "      <td>2</td>\n",
       "      <td>1</td>\n",
       "      <td>ryanfranco</td>\n",
       "      <td>Foot glass pretty audience hit themselves. Amo...</td>\n",
       "    </tr>\n",
       "    <tr>\n",
       "      <th>2</th>\n",
       "      <td>3</td>\n",
       "      <td>2</td>\n",
       "      <td>lorichen</td>\n",
       "      <td>Listen treat keep worry. Miss husband tax but ...</td>\n",
       "    </tr>\n",
       "    <tr>\n",
       "      <th>3</th>\n",
       "      <td>4</td>\n",
       "      <td>3</td>\n",
       "      <td>johnsonamanda</td>\n",
       "      <td>Finally month interesting blue could nature cu...</td>\n",
       "    </tr>\n",
       "    <tr>\n",
       "      <th>4</th>\n",
       "      <td>5</td>\n",
       "      <td>3</td>\n",
       "      <td>scotttamara</td>\n",
       "      <td>Nation purpose heavy give wait song will. List...</td>\n",
       "    </tr>\n",
       "  </tbody>\n",
       "</table>\n",
       "</div>"
      ],
      "text/plain": [
       "   review_id  book_id       username  \\\n",
       "0          1        1   brandtandrea   \n",
       "1          2        1     ryanfranco   \n",
       "2          3        2       lorichen   \n",
       "3          4        3  johnsonamanda   \n",
       "4          5        3    scotttamara   \n",
       "\n",
       "                                                text  \n",
       "0  Mention society tell send professor analysis. ...  \n",
       "1  Foot glass pretty audience hit themselves. Amo...  \n",
       "2  Listen treat keep worry. Miss husband tax but ...  \n",
       "3  Finally month interesting blue could nature cu...  \n",
       "4  Nation purpose heavy give wait song will. List...  "
      ]
     },
     "execution_count": 96,
     "metadata": {},
     "output_type": "execute_result"
    }
   ],
   "source": [
    "pd.io.sql.read_sql(query, con = engine) "
   ]
  },
  {
   "cell_type": "markdown",
   "id": "29b6830e",
   "metadata": {},
   "source": [
    "## 3. Решение заданий"
   ]
  },
  {
   "cell_type": "markdown",
   "id": "86f7620d",
   "metadata": {},
   "source": [
    "- **Посчитаем, сколько книг вышло после 1 января 2000 года**"
   ]
  },
  {
   "cell_type": "code",
   "execution_count": 102,
   "id": "197c96df",
   "metadata": {},
   "outputs": [],
   "source": [
    "query = ''' SELECT COUNT(book_id)\n",
    "            FROM books\n",
    "            WHERE publication_date > '2000-01-01'\n",
    "        ''' "
   ]
  },
  {
   "cell_type": "code",
   "execution_count": 103,
   "id": "735a45ed",
   "metadata": {},
   "outputs": [
    {
     "data": {
      "text/html": [
       "<div>\n",
       "<style scoped>\n",
       "    .dataframe tbody tr th:only-of-type {\n",
       "        vertical-align: middle;\n",
       "    }\n",
       "\n",
       "    .dataframe tbody tr th {\n",
       "        vertical-align: top;\n",
       "    }\n",
       "\n",
       "    .dataframe thead th {\n",
       "        text-align: right;\n",
       "    }\n",
       "</style>\n",
       "<table border=\"1\" class=\"dataframe\">\n",
       "  <thead>\n",
       "    <tr style=\"text-align: right;\">\n",
       "      <th></th>\n",
       "      <th>count</th>\n",
       "    </tr>\n",
       "  </thead>\n",
       "  <tbody>\n",
       "    <tr>\n",
       "      <th>0</th>\n",
       "      <td>819</td>\n",
       "    </tr>\n",
       "  </tbody>\n",
       "</table>\n",
       "</div>"
      ],
      "text/plain": [
       "   count\n",
       "0    819"
      ]
     },
     "execution_count": 103,
     "metadata": {},
     "output_type": "execute_result"
    }
   ],
   "source": [
    "pd.io.sql.read_sql(query, con = engine) "
   ]
  },
  {
   "cell_type": "markdown",
   "id": "bad3ef22",
   "metadata": {},
   "source": [
    "После 1 января 2000 года вышло **819** книг"
   ]
  },
  {
   "cell_type": "markdown",
   "id": "c6f13679",
   "metadata": {},
   "source": [
    "- **Для каждой книги посчитаем количество обзоров и среднюю оценку**"
   ]
  },
  {
   "cell_type": "code",
   "execution_count": 104,
   "id": "98b9602b",
   "metadata": {},
   "outputs": [],
   "source": [
    "query = ''' WITH a AS\n",
    "            (SELECT book_id,\n",
    "                  COUNT(review_id) as count_review\n",
    "            FROM reviews\n",
    "            GROUP BY 1\n",
    "            ORDER BY 1),\n",
    "            \n",
    "            b as \n",
    "            (SELECT book_id,\n",
    "                  AVG(rating) as avg_rating\n",
    "            FROM ratings\n",
    "            GROUP BY 1\n",
    "            ORDER BY 1)\n",
    "            \n",
    "            SELECT title,\n",
    "                   a.count_review,\n",
    "                   b.avg_rating\n",
    "            FROM books as bo\n",
    "            LEFT OUTER JOIN a ON bo.book_id = a.book_id\n",
    "            LEFT OUTER JOIN b ON bo.book_id = b.book_id\n",
    "        ''' "
   ]
  },
  {
   "cell_type": "markdown",
   "id": "c5ca7478",
   "metadata": {},
   "source": [
    "Для каждой книги посчитали количество обзоров и среднюю оценку"
   ]
  },
  {
   "cell_type": "code",
   "execution_count": 105,
   "id": "c92e9637",
   "metadata": {},
   "outputs": [
    {
     "data": {
      "text/html": [
       "<div>\n",
       "<style scoped>\n",
       "    .dataframe tbody tr th:only-of-type {\n",
       "        vertical-align: middle;\n",
       "    }\n",
       "\n",
       "    .dataframe tbody tr th {\n",
       "        vertical-align: top;\n",
       "    }\n",
       "\n",
       "    .dataframe thead th {\n",
       "        text-align: right;\n",
       "    }\n",
       "</style>\n",
       "<table border=\"1\" class=\"dataframe\">\n",
       "  <thead>\n",
       "    <tr style=\"text-align: right;\">\n",
       "      <th></th>\n",
       "      <th>title</th>\n",
       "      <th>count_review</th>\n",
       "      <th>avg_rating</th>\n",
       "    </tr>\n",
       "  </thead>\n",
       "  <tbody>\n",
       "    <tr>\n",
       "      <th>0</th>\n",
       "      <td>'Salem's Lot</td>\n",
       "      <td>2.0</td>\n",
       "      <td>3.666667</td>\n",
       "    </tr>\n",
       "    <tr>\n",
       "      <th>1</th>\n",
       "      <td>1 000 Places to See Before You Die</td>\n",
       "      <td>1.0</td>\n",
       "      <td>2.500000</td>\n",
       "    </tr>\n",
       "    <tr>\n",
       "      <th>2</th>\n",
       "      <td>13 Little Blue Envelopes (Little Blue Envelope...</td>\n",
       "      <td>3.0</td>\n",
       "      <td>4.666667</td>\n",
       "    </tr>\n",
       "    <tr>\n",
       "      <th>3</th>\n",
       "      <td>1491: New Revelations of the Americas Before C...</td>\n",
       "      <td>2.0</td>\n",
       "      <td>4.500000</td>\n",
       "    </tr>\n",
       "    <tr>\n",
       "      <th>4</th>\n",
       "      <td>1776</td>\n",
       "      <td>4.0</td>\n",
       "      <td>4.000000</td>\n",
       "    </tr>\n",
       "    <tr>\n",
       "      <th>...</th>\n",
       "      <td>...</td>\n",
       "      <td>...</td>\n",
       "      <td>...</td>\n",
       "    </tr>\n",
       "    <tr>\n",
       "      <th>995</th>\n",
       "      <td>The Cat in the Hat and Other Dr. Seuss Favorites</td>\n",
       "      <td>NaN</td>\n",
       "      <td>5.000000</td>\n",
       "    </tr>\n",
       "    <tr>\n",
       "      <th>996</th>\n",
       "      <td>Anne Rice's The Vampire Lestat: A Graphic Novel</td>\n",
       "      <td>NaN</td>\n",
       "      <td>3.666667</td>\n",
       "    </tr>\n",
       "    <tr>\n",
       "      <th>997</th>\n",
       "      <td>Essential Tales and Poems</td>\n",
       "      <td>NaN</td>\n",
       "      <td>4.000000</td>\n",
       "    </tr>\n",
       "    <tr>\n",
       "      <th>998</th>\n",
       "      <td>Leonardo's Notebooks</td>\n",
       "      <td>NaN</td>\n",
       "      <td>4.000000</td>\n",
       "    </tr>\n",
       "    <tr>\n",
       "      <th>999</th>\n",
       "      <td>The Natural Way to Draw</td>\n",
       "      <td>NaN</td>\n",
       "      <td>3.000000</td>\n",
       "    </tr>\n",
       "  </tbody>\n",
       "</table>\n",
       "<p>1000 rows × 3 columns</p>\n",
       "</div>"
      ],
      "text/plain": [
       "                                                 title  count_review  \\\n",
       "0                                         'Salem's Lot           2.0   \n",
       "1                   1 000 Places to See Before You Die           1.0   \n",
       "2    13 Little Blue Envelopes (Little Blue Envelope...           3.0   \n",
       "3    1491: New Revelations of the Americas Before C...           2.0   \n",
       "4                                                 1776           4.0   \n",
       "..                                                 ...           ...   \n",
       "995   The Cat in the Hat and Other Dr. Seuss Favorites           NaN   \n",
       "996    Anne Rice's The Vampire Lestat: A Graphic Novel           NaN   \n",
       "997                          Essential Tales and Poems           NaN   \n",
       "998                               Leonardo's Notebooks           NaN   \n",
       "999                            The Natural Way to Draw           NaN   \n",
       "\n",
       "     avg_rating  \n",
       "0      3.666667  \n",
       "1      2.500000  \n",
       "2      4.666667  \n",
       "3      4.500000  \n",
       "4      4.000000  \n",
       "..          ...  \n",
       "995    5.000000  \n",
       "996    3.666667  \n",
       "997    4.000000  \n",
       "998    4.000000  \n",
       "999    3.000000  \n",
       "\n",
       "[1000 rows x 3 columns]"
      ]
     },
     "execution_count": 105,
     "metadata": {},
     "output_type": "execute_result"
    }
   ],
   "source": [
    "pd.io.sql.read_sql(query, con = engine) "
   ]
  },
  {
   "cell_type": "markdown",
   "id": "c05f78a0",
   "metadata": {},
   "source": [
    "- **Определим издательство, которое выпустило наибольшее число книг толще 50 страниц**"
   ]
  },
  {
   "cell_type": "code",
   "execution_count": 106,
   "id": "1e1d4a4a",
   "metadata": {},
   "outputs": [],
   "source": [
    "query = ''' WITH a AS\n",
    "                  (SELECT publisher_id,\n",
    "                  COUNT(book_id) as count_book\n",
    "                                  FROM books\n",
    "                                  WHERE num_pages > '50'\n",
    "                                  GROUP BY 1\n",
    "                                  ORDER BY COUNT(book_id) DESC\n",
    "                                  LIMIT 1)\n",
    "            SELECT p.publisher,\n",
    "                   a.count_book\n",
    "            FROM publishers as p\n",
    "            INNER JOIN a ON p.publisher_id = a.publisher_id\n",
    "        ''' "
   ]
  },
  {
   "cell_type": "code",
   "execution_count": 107,
   "id": "b3391cfe",
   "metadata": {
    "scrolled": false
   },
   "outputs": [
    {
     "data": {
      "text/html": [
       "<div>\n",
       "<style scoped>\n",
       "    .dataframe tbody tr th:only-of-type {\n",
       "        vertical-align: middle;\n",
       "    }\n",
       "\n",
       "    .dataframe tbody tr th {\n",
       "        vertical-align: top;\n",
       "    }\n",
       "\n",
       "    .dataframe thead th {\n",
       "        text-align: right;\n",
       "    }\n",
       "</style>\n",
       "<table border=\"1\" class=\"dataframe\">\n",
       "  <thead>\n",
       "    <tr style=\"text-align: right;\">\n",
       "      <th></th>\n",
       "      <th>publisher</th>\n",
       "      <th>count_book</th>\n",
       "    </tr>\n",
       "  </thead>\n",
       "  <tbody>\n",
       "    <tr>\n",
       "      <th>0</th>\n",
       "      <td>Penguin Books</td>\n",
       "      <td>42</td>\n",
       "    </tr>\n",
       "  </tbody>\n",
       "</table>\n",
       "</div>"
      ],
      "text/plain": [
       "       publisher  count_book\n",
       "0  Penguin Books          42"
      ]
     },
     "execution_count": 107,
     "metadata": {},
     "output_type": "execute_result"
    }
   ],
   "source": [
    "pd.io.sql.read_sql(query, con = engine) "
   ]
  },
  {
   "cell_type": "markdown",
   "id": "64ba9c1b",
   "metadata": {},
   "source": [
    "**Penguin Books** - издательство, выпустившее **42** книги толще 50 страниц, лидер в данном рейтинге"
   ]
  },
  {
   "cell_type": "markdown",
   "id": "0926f1f5",
   "metadata": {},
   "source": [
    "- **Определим автора с самой высокой средней оценкой книг — учтем только книги с 50 и более оценками**"
   ]
  },
  {
   "cell_type": "code",
   "execution_count": 108,
   "id": "04ad59df",
   "metadata": {},
   "outputs": [],
   "source": [
    "query = ''' WITH \n",
    "            a AS (SELECT book_id,\n",
    "                    AVG(rating)\n",
    "            FROM ratings\n",
    "            GROUP BY book_id\n",
    "            HAVING COUNT(rating_id) >= 50\n",
    "            ORDER BY AVG(rating) DESC),\n",
    "            \n",
    "            ra AS (SELECT b.author_id,\n",
    "                   AVG(a.avg) as avg_rating\n",
    "            FROM books as b\n",
    "            INNER JOIN a ON b.book_id = a.book_id\n",
    "            INNER JOIN authors as au ON b.author_id = au.author_id\n",
    "            GROUP BY 1\n",
    "            ORDER BY AVG(a.avg) DESC\n",
    "            LIMIT 1)\n",
    "            \n",
    "            SELECT au.author,\n",
    "                   ra.avg_rating\n",
    "            FROM authors AS au\n",
    "            INNER JOIN ra ON au.author_id = ra.author_id\n",
    "        ''' "
   ]
  },
  {
   "cell_type": "code",
   "execution_count": 109,
   "id": "4e29fbda",
   "metadata": {},
   "outputs": [
    {
     "data": {
      "text/html": [
       "<div>\n",
       "<style scoped>\n",
       "    .dataframe tbody tr th:only-of-type {\n",
       "        vertical-align: middle;\n",
       "    }\n",
       "\n",
       "    .dataframe tbody tr th {\n",
       "        vertical-align: top;\n",
       "    }\n",
       "\n",
       "    .dataframe thead th {\n",
       "        text-align: right;\n",
       "    }\n",
       "</style>\n",
       "<table border=\"1\" class=\"dataframe\">\n",
       "  <thead>\n",
       "    <tr style=\"text-align: right;\">\n",
       "      <th></th>\n",
       "      <th>author</th>\n",
       "      <th>avg_rating</th>\n",
       "    </tr>\n",
       "  </thead>\n",
       "  <tbody>\n",
       "    <tr>\n",
       "      <th>0</th>\n",
       "      <td>J.K. Rowling/Mary GrandPré</td>\n",
       "      <td>4.283844</td>\n",
       "    </tr>\n",
       "  </tbody>\n",
       "</table>\n",
       "</div>"
      ],
      "text/plain": [
       "                       author  avg_rating\n",
       "0  J.K. Rowling/Mary GrandPré    4.283844"
      ]
     },
     "execution_count": 109,
     "metadata": {},
     "output_type": "execute_result"
    }
   ],
   "source": [
    "pd.io.sql.read_sql(query, con = engine) "
   ]
  },
  {
   "cell_type": "markdown",
   "id": "78563402",
   "metadata": {},
   "source": [
    "**J.K. Rowling/Mary GrandPré** -  автор с самой высокой средней оценкой книг (книги с 50 и более оценками)"
   ]
  },
  {
   "cell_type": "markdown",
   "id": "57e7f360",
   "metadata": {},
   "source": [
    "- **Посчитаем среднее количество обзоров от пользователей, которые поставили больше 50 оценок**"
   ]
  },
  {
   "cell_type": "code",
   "execution_count": 110,
   "id": "65c90940",
   "metadata": {},
   "outputs": [],
   "source": [
    "query = ''' \n",
    "            SELECT AVG(a.count)\n",
    "            FROM \n",
    "                (SELECT username,\n",
    "                       COUNT(review_id)\n",
    "                FROM reviews\n",
    "                WHERE username IN\n",
    "                                 (SELECT username\n",
    "                                 FROM ratings\n",
    "                                 GROUP BY username\n",
    "                                 HAVING COUNT(rating_id) > 50)\n",
    "                GROUP BY 1) as a\n",
    "        '''"
   ]
  },
  {
   "cell_type": "code",
   "execution_count": 111,
   "id": "66d850c8",
   "metadata": {},
   "outputs": [
    {
     "data": {
      "text/html": [
       "<div>\n",
       "<style scoped>\n",
       "    .dataframe tbody tr th:only-of-type {\n",
       "        vertical-align: middle;\n",
       "    }\n",
       "\n",
       "    .dataframe tbody tr th {\n",
       "        vertical-align: top;\n",
       "    }\n",
       "\n",
       "    .dataframe thead th {\n",
       "        text-align: right;\n",
       "    }\n",
       "</style>\n",
       "<table border=\"1\" class=\"dataframe\">\n",
       "  <thead>\n",
       "    <tr style=\"text-align: right;\">\n",
       "      <th></th>\n",
       "      <th>avg</th>\n",
       "    </tr>\n",
       "  </thead>\n",
       "  <tbody>\n",
       "    <tr>\n",
       "      <th>0</th>\n",
       "      <td>24.333333</td>\n",
       "    </tr>\n",
       "  </tbody>\n",
       "</table>\n",
       "</div>"
      ],
      "text/plain": [
       "         avg\n",
       "0  24.333333"
      ]
     },
     "execution_count": 111,
     "metadata": {},
     "output_type": "execute_result"
    }
   ],
   "source": [
    "pd.io.sql.read_sql(query, con = engine) "
   ]
  },
  {
   "cell_type": "markdown",
   "id": "9b85a5cd",
   "metadata": {},
   "source": [
    "**24.33** - среднее количество обзоров от пользователей, которые поставили больше 50 оценок"
   ]
  },
  {
   "cell_type": "markdown",
   "id": "ebc77f28",
   "metadata": {},
   "source": [
    "### Выводы"
   ]
  },
  {
   "cell_type": "markdown",
   "id": "60930083",
   "metadata": {},
   "source": [
    "**Ответы решенных задач:**"
   ]
  },
  {
   "cell_type": "markdown",
   "id": "2176163e",
   "metadata": {},
   "source": [
    "- После 1 января 2000 года вышло **819 книг**,\n",
    "- Посчитали количество обзоров и среднюю оценку для каждой книги,\n",
    "- **Penguin Books** - издательство, которое выпустило наибольшее число книг толще 50 страниц — **42 книги**,\n",
    "- **J.K. Rowling/Mary GrandPré** - автор с самой высокой средней оценкой книг —  **4.28** (учтены только книги с 50 и более оценками),\n",
    "- **24.33** - среднее количество обзоров от пользователей, которые поставили больше 50 оценок"
   ]
  }
 ],
 "metadata": {
  "ExecuteTimeLog": [
   {
    "duration": 501,
    "start_time": "2022-09-17T13:25:46.197Z"
   },
   {
    "duration": 30052,
    "start_time": "2022-09-17T13:25:46.700Z"
   },
   {
    "duration": 4,
    "start_time": "2022-09-17T13:26:16.755Z"
   },
   {
    "duration": 311,
    "start_time": "2022-09-17T13:26:16.761Z"
   },
   {
    "duration": 3,
    "start_time": "2022-09-17T13:26:17.073Z"
   },
   {
    "duration": 95,
    "start_time": "2022-09-17T13:26:17.078Z"
   },
   {
    "duration": 2,
    "start_time": "2022-09-17T13:26:17.175Z"
   },
   {
    "duration": 82,
    "start_time": "2022-09-17T13:26:17.179Z"
   },
   {
    "duration": 4,
    "start_time": "2022-09-17T13:26:17.263Z"
   },
   {
    "duration": 83,
    "start_time": "2022-09-17T13:26:17.269Z"
   },
   {
    "duration": 2,
    "start_time": "2022-09-17T13:26:17.355Z"
   },
   {
    "duration": 88,
    "start_time": "2022-09-17T13:26:17.359Z"
   },
   {
    "duration": 163,
    "start_time": "2022-09-17T13:26:17.449Z"
   },
   {
    "duration": 2,
    "start_time": "2022-09-17T13:26:17.614Z"
   },
   {
    "duration": 86,
    "start_time": "2022-09-17T13:26:17.618Z"
   },
   {
    "duration": 3,
    "start_time": "2022-09-17T13:26:17.705Z"
   },
   {
    "duration": 116,
    "start_time": "2022-09-17T13:26:17.710Z"
   },
   {
    "duration": 105,
    "start_time": "2022-09-17T13:26:17.828Z"
   },
   {
    "duration": 3,
    "start_time": "2022-09-17T13:27:57.512Z"
   },
   {
    "duration": 106,
    "start_time": "2022-09-17T13:27:58.199Z"
   },
   {
    "duration": 3,
    "start_time": "2022-09-17T13:33:25.999Z"
   },
   {
    "duration": 535,
    "start_time": "2022-09-17T13:33:33.196Z"
   },
   {
    "duration": 506,
    "start_time": "2022-09-17T17:51:10.011Z"
   },
   {
    "duration": 6227,
    "start_time": "2022-09-17T17:51:11.056Z"
   },
   {
    "duration": 3,
    "start_time": "2022-09-17T17:51:17.285Z"
   },
   {
    "duration": 265,
    "start_time": "2022-09-17T17:51:17.289Z"
   },
   {
    "duration": 2,
    "start_time": "2022-09-17T17:51:19.343Z"
   },
   {
    "duration": 74,
    "start_time": "2022-09-17T17:51:19.825Z"
   },
   {
    "duration": 2,
    "start_time": "2022-09-17T17:51:20.836Z"
   },
   {
    "duration": 75,
    "start_time": "2022-09-17T17:51:21.300Z"
   },
   {
    "duration": 3,
    "start_time": "2022-09-17T17:51:22.083Z"
   },
   {
    "duration": 75,
    "start_time": "2022-09-17T17:51:22.386Z"
   },
   {
    "duration": 2,
    "start_time": "2022-09-17T17:51:23.351Z"
   },
   {
    "duration": 75,
    "start_time": "2022-09-17T17:51:23.833Z"
   },
   {
    "duration": 165,
    "start_time": "2022-09-17T17:51:24.853Z"
   },
   {
    "duration": 2,
    "start_time": "2022-09-17T17:51:30.343Z"
   },
   {
    "duration": 77,
    "start_time": "2022-09-17T17:51:30.974Z"
   },
   {
    "duration": 88,
    "start_time": "2022-09-17T17:52:31.706Z"
   },
   {
    "duration": 2,
    "start_time": "2022-09-17T17:52:42.468Z"
   },
   {
    "duration": 98,
    "start_time": "2022-09-17T17:52:45.283Z"
   },
   {
    "duration": 3,
    "start_time": "2022-09-17T17:54:05.943Z"
   },
   {
    "duration": 98,
    "start_time": "2022-09-17T17:54:07.305Z"
   },
   {
    "duration": 3,
    "start_time": "2022-09-17T17:54:51.346Z"
   },
   {
    "duration": 141,
    "start_time": "2022-09-17T17:54:59.076Z"
   },
   {
    "duration": 3,
    "start_time": "2022-09-17T17:56:57.388Z"
   },
   {
    "duration": 859,
    "start_time": "2022-09-17T17:56:59.288Z"
   },
   {
    "duration": 3,
    "start_time": "2022-09-17T17:57:35.974Z"
   },
   {
    "duration": 88,
    "start_time": "2022-09-17T17:57:38.739Z"
   },
   {
    "duration": 3,
    "start_time": "2022-09-17T17:59:50.727Z"
   },
   {
    "duration": 203,
    "start_time": "2022-09-17T17:59:53.839Z"
   },
   {
    "duration": 3,
    "start_time": "2022-09-17T18:01:38.439Z"
   },
   {
    "duration": 549,
    "start_time": "2022-09-17T18:01:40.996Z"
   },
   {
    "duration": 3,
    "start_time": "2022-09-17T18:02:18.239Z"
   },
   {
    "duration": 112,
    "start_time": "2022-09-17T18:02:19.306Z"
   },
   {
    "duration": 107,
    "start_time": "2022-09-17T18:03:38.541Z"
   },
   {
    "duration": 70,
    "start_time": "2022-09-17T18:04:01.921Z"
   },
   {
    "duration": 2,
    "start_time": "2022-09-17T18:09:27.485Z"
   },
   {
    "duration": 73,
    "start_time": "2022-09-17T18:09:28.067Z"
   },
   {
    "duration": 2,
    "start_time": "2022-09-17T18:10:10.393Z"
   },
   {
    "duration": 72,
    "start_time": "2022-09-17T18:10:12.760Z"
   },
   {
    "duration": 3,
    "start_time": "2022-09-17T18:10:33.377Z"
   },
   {
    "duration": 6554,
    "start_time": "2022-09-17T18:10:34.661Z"
   },
   {
    "duration": 3,
    "start_time": "2022-09-17T18:11:30.625Z"
   },
   {
    "duration": 75,
    "start_time": "2022-09-17T18:11:31.114Z"
   },
   {
    "duration": 2,
    "start_time": "2022-09-17T18:11:46.338Z"
   },
   {
    "duration": 75,
    "start_time": "2022-09-17T18:11:46.809Z"
   },
   {
    "duration": 3,
    "start_time": "2022-09-17T18:12:03.699Z"
   },
   {
    "duration": 77,
    "start_time": "2022-09-17T18:12:04.726Z"
   },
   {
    "duration": 3,
    "start_time": "2022-09-17T18:13:29.052Z"
   },
   {
    "duration": 73,
    "start_time": "2022-09-17T18:13:29.651Z"
   },
   {
    "duration": 3,
    "start_time": "2022-09-17T18:13:53.079Z"
   },
   {
    "duration": 75,
    "start_time": "2022-09-17T18:13:53.565Z"
   },
   {
    "duration": 2,
    "start_time": "2022-09-17T18:13:59.195Z"
   },
   {
    "duration": 74,
    "start_time": "2022-09-17T18:14:00.105Z"
   },
   {
    "duration": 3,
    "start_time": "2022-09-17T18:14:37.188Z"
   },
   {
    "duration": 148,
    "start_time": "2022-09-17T18:14:39.225Z"
   },
   {
    "duration": 2,
    "start_time": "2022-09-17T18:14:54.142Z"
   },
   {
    "duration": 78,
    "start_time": "2022-09-17T18:14:54.346Z"
   },
   {
    "duration": 3,
    "start_time": "2022-09-17T18:15:45.026Z"
   },
   {
    "duration": 84,
    "start_time": "2022-09-17T18:15:45.418Z"
   },
   {
    "duration": 2,
    "start_time": "2022-09-17T18:19:00.153Z"
   },
   {
    "duration": 189,
    "start_time": "2022-09-17T18:19:00.703Z"
   },
   {
    "duration": 3,
    "start_time": "2022-09-17T18:19:14.944Z"
   },
   {
    "duration": 153,
    "start_time": "2022-09-17T18:19:15.442Z"
   },
   {
    "duration": 2,
    "start_time": "2022-09-17T18:19:38.298Z"
   },
   {
    "duration": 122,
    "start_time": "2022-09-17T18:19:38.721Z"
   },
   {
    "duration": 2,
    "start_time": "2022-09-17T18:20:04.944Z"
   },
   {
    "duration": 73,
    "start_time": "2022-09-17T18:20:05.277Z"
   },
   {
    "duration": 3,
    "start_time": "2022-09-17T18:20:14.003Z"
   },
   {
    "duration": 75,
    "start_time": "2022-09-17T18:20:15.220Z"
   },
   {
    "duration": 3,
    "start_time": "2022-09-17T18:21:43.998Z"
   },
   {
    "duration": 78,
    "start_time": "2022-09-17T18:21:44.416Z"
   },
   {
    "duration": 2,
    "start_time": "2022-09-17T18:23:11.541Z"
   },
   {
    "duration": 76,
    "start_time": "2022-09-17T18:23:11.891Z"
   },
   {
    "duration": 3,
    "start_time": "2022-09-17T18:24:18.873Z"
   },
   {
    "duration": 74,
    "start_time": "2022-09-17T18:24:19.402Z"
   },
   {
    "duration": 3,
    "start_time": "2022-09-17T18:24:46.354Z"
   },
   {
    "duration": 76,
    "start_time": "2022-09-17T18:24:46.881Z"
   },
   {
    "duration": 3,
    "start_time": "2022-09-17T18:25:31.038Z"
   },
   {
    "duration": 73,
    "start_time": "2022-09-17T18:25:31.410Z"
   },
   {
    "duration": 3,
    "start_time": "2022-09-17T18:27:45.582Z"
   },
   {
    "duration": 125,
    "start_time": "2022-09-17T18:27:45.938Z"
   },
   {
    "duration": 2,
    "start_time": "2022-09-17T18:28:02.328Z"
   },
   {
    "duration": 77,
    "start_time": "2022-09-17T18:28:02.707Z"
   },
   {
    "duration": 2,
    "start_time": "2022-09-17T18:28:14.311Z"
   },
   {
    "duration": 76,
    "start_time": "2022-09-17T18:28:14.707Z"
   },
   {
    "duration": 3,
    "start_time": "2022-09-17T18:39:46.395Z"
   },
   {
    "duration": 4,
    "start_time": "2022-09-17T18:39:47.513Z"
   },
   {
    "duration": 3,
    "start_time": "2022-09-17T18:40:07.477Z"
   },
   {
    "duration": 245,
    "start_time": "2022-09-17T18:40:17.181Z"
   },
   {
    "duration": 2,
    "start_time": "2022-09-17T18:40:18.644Z"
   },
   {
    "duration": 71,
    "start_time": "2022-09-17T18:40:19.180Z"
   },
   {
    "duration": 2,
    "start_time": "2022-09-17T18:40:20.208Z"
   },
   {
    "duration": 71,
    "start_time": "2022-09-17T18:40:20.704Z"
   },
   {
    "duration": 2,
    "start_time": "2022-09-17T18:40:21.745Z"
   },
   {
    "duration": 72,
    "start_time": "2022-09-17T18:40:22.217Z"
   },
   {
    "duration": 2,
    "start_time": "2022-09-17T18:40:22.952Z"
   },
   {
    "duration": 73,
    "start_time": "2022-09-17T18:40:23.444Z"
   },
   {
    "duration": 155,
    "start_time": "2022-09-17T18:40:24.641Z"
   },
   {
    "duration": 3,
    "start_time": "2022-09-17T18:40:38.156Z"
   },
   {
    "duration": 69,
    "start_time": "2022-09-17T18:40:39.183Z"
   },
   {
    "duration": 3,
    "start_time": "2022-09-17T18:41:06.187Z"
   },
   {
    "duration": 69,
    "start_time": "2022-09-17T18:41:06.646Z"
   },
   {
    "duration": 3,
    "start_time": "2022-09-17T18:41:16.575Z"
   },
   {
    "duration": 68,
    "start_time": "2022-09-17T18:41:17.849Z"
   },
   {
    "duration": 2,
    "start_time": "2022-09-17T18:45:34.599Z"
   },
   {
    "duration": 99,
    "start_time": "2022-09-17T18:45:35.922Z"
   },
   {
    "duration": 3,
    "start_time": "2022-09-17T18:45:52.637Z"
   },
   {
    "duration": 72,
    "start_time": "2022-09-17T18:45:53.217Z"
   },
   {
    "duration": 3,
    "start_time": "2022-09-17T18:45:56.145Z"
   },
   {
    "duration": 73,
    "start_time": "2022-09-17T18:45:56.896Z"
   },
   {
    "duration": 3,
    "start_time": "2022-09-17T18:46:03.793Z"
   },
   {
    "duration": 75,
    "start_time": "2022-09-17T18:46:04.586Z"
   }
  ],
  "kernelspec": {
   "display_name": "Python 3 (ipykernel)",
   "language": "python",
   "name": "python3"
  },
  "language_info": {
   "codemirror_mode": {
    "name": "ipython",
    "version": 3
   },
   "file_extension": ".py",
   "mimetype": "text/x-python",
   "name": "python",
   "nbconvert_exporter": "python",
   "pygments_lexer": "ipython3",
   "version": "3.9.5"
  },
  "toc": {
   "base_numbering": 1,
   "nav_menu": {},
   "number_sections": true,
   "sideBar": true,
   "skip_h1_title": true,
   "title_cell": "Table of Contents",
   "title_sidebar": "Contents",
   "toc_cell": false,
   "toc_position": {},
   "toc_section_display": true,
   "toc_window_display": false
  }
 },
 "nbformat": 4,
 "nbformat_minor": 5
}
