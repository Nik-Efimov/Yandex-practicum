{
 "cells": [
  {
   "cell_type": "markdown",
   "id": "4707fb74",
   "metadata": {},
   "source": [
    "# Проект по оценке и анализу А/B-тестирования"
   ]
  },
  {
   "cell_type": "markdown",
   "id": "2c32bc0e",
   "metadata": {},
   "source": [
    "### Техническое задание"
   ]
  },
  {
   "cell_type": "markdown",
   "id": "fdbe45a8",
   "metadata": {},
   "source": [
    "- Название теста: `recommender_system_test`;\n",
    "- группы: А — контрольная, B — новая платёжная воронка;\n",
    "- дата запуска: 2020-12-07;\n",
    "- дата остановки набора новых пользователей: 2020-12-21;\n",
    "- дата остановки: 2021-01-04;\n",
    "- аудитория: 15% новых пользователей из региона EU;\n",
    "- назначение теста: тестирование изменений, связанных с внедрением улучшенной рекомендательной системы;\n",
    "- ожидаемое количество участников теста: 6000.\n",
    "- ожидаемый эффект: за 14 дней с момента регистрации пользователи покажут улучшение каждой метрики не менее, чем на 10%:\n",
    "    - конверсии в просмотр карточек товаров — событие `product_page`,\n",
    "    - просмотры корзины — `product_cart`,\n",
    "    - покупки — `purchase`."
   ]
  },
  {
   "cell_type": "markdown",
   "id": "b2999c60",
   "metadata": {},
   "source": [
    "## Цель проекта:"
   ]
  },
  {
   "cell_type": "markdown",
   "id": "7c04a548",
   "metadata": {},
   "source": [
    "Провести оценку результатов A/B-теста"
   ]
  },
  {
   "cell_type": "markdown",
   "id": "49c90a5f",
   "metadata": {},
   "source": [
    "## Входные данные и описание:"
   ]
  },
  {
   "cell_type": "markdown",
   "id": "42a2b5e6",
   "metadata": {},
   "source": [
    "`ab_project_marketing_events.csv` — календарь маркетинговых событий на 2020 год.\n",
    "\n",
    "Структура файла:\n",
    "\n",
    "- `name` — название маркетингового события;\n",
    "- `regions` — регионы, в которых будет проводиться рекламная кампания;\n",
    "- `start_dt` — дата начала кампании;\n",
    "- `finish_dt` — дата завершения кампании"
   ]
  },
  {
   "cell_type": "markdown",
   "id": "4125fcef",
   "metadata": {},
   "source": [
    "`final_ab_new_users.csv` — пользователи, зарегистрировавшиеся с 7 по 21 декабря 2020 года.\n",
    "\n",
    "Структура файла:\n",
    "\n",
    "- `user_id` — идентификатор пользователя;\n",
    "- `first_date` — дата регистрации;\n",
    "- `region` — регион пользователя;\n",
    "- `device` — устройство, с которого происходила регистрация."
   ]
  },
  {
   "cell_type": "markdown",
   "id": "ccf2909b",
   "metadata": {},
   "source": [
    "`final_ab_events.csv` — действия новых пользователей в период с 7 декабря 2020 по 4 января 2021 года.\n",
    "\n",
    "Структура файла:\n",
    "\n",
    "- `user_id` — идентификатор пользователя;\n",
    "- `event_dt` — дата и время покупки;\n",
    "- `event_name` — тип события;\n",
    "- `details` — дополнительные данные о событии. Например, для покупок, `purchase,` в этом поле хранится стоимость покупки в долларах."
   ]
  },
  {
   "cell_type": "markdown",
   "id": "81942a3c",
   "metadata": {},
   "source": [
    "`final_ab_participants.csv` — таблица участников тестов.\n",
    "\n",
    "Структура файла:\n",
    "\n",
    "- `user_id` — идентификатор пользователя;\n",
    "- `ab_test` — название теста;\n",
    "- `group` — группа пользователя."
   ]
  },
  {
   "cell_type": "markdown",
   "id": "0e556baf",
   "metadata": {},
   "source": [
    "## План проекта:"
   ]
  },
  {
   "cell_type": "markdown",
   "id": "1c0d6376",
   "metadata": {},
   "source": [
    "### Этап 1. Получение данных"
   ]
  },
  {
   "cell_type": "markdown",
   "id": "baa2c7c7",
   "metadata": {},
   "source": [
    "    - импортируем библиотеки\n",
    "    - откроем файлы с данными\n",
    "    - изучим общую информацию данных"
   ]
  },
  {
   "cell_type": "markdown",
   "id": "0eda3b70",
   "metadata": {},
   "source": [
    "### Этап 2. Подготовка данных"
   ]
  },
  {
   "cell_type": "markdown",
   "id": "5c62e09d",
   "metadata": {},
   "source": [
    "    - проверим данные на аномалии\n",
    "    - проверим пропуски и типы данных. Откорректируем, если нужно\n",
    "    - проверим столбец даты и времени"
   ]
  },
  {
   "cell_type": "markdown",
   "id": "72f13206",
   "metadata": {},
   "source": [
    "### Этап 3. Оценка корректности проведения теста"
   ]
  },
  {
   "cell_type": "markdown",
   "id": "d10c85d5",
   "metadata": {},
   "source": [
    "- проверим соответствие данных требованиям технического задания.\n",
    "- проверим время проведения теста. Оно не должно совпадать с маркетинговыми и другими активностями.\n",
    "- проверим аудиторию теста. Удостоверимся, что нет пересечений с конкурирующим тестом и нет пользователей, участвующих в двух группах теста одновременно. Проверим равномерность распределения по тестовым группам и правильность их формирования."
   ]
  },
  {
   "cell_type": "markdown",
   "id": "0cd8984c",
   "metadata": {},
   "source": [
    "### Этап 4. Исследовательский анализ"
   ]
  },
  {
   "cell_type": "markdown",
   "id": "90ec8dc1",
   "metadata": {},
   "source": [
    "* Сколько всего событий в логе?\n",
    "* Сколько всего пользователей в логе?\n",
    "* Сколько в среднем событий приходится на пользователя? События одинаково распределены в выборках?\n",
    "* Как число событий в выборках распределено по дням?\n",
    "* Как меняется конверсия в воронке в выборках на разных этапах?"
   ]
  },
  {
   "cell_type": "markdown",
   "id": "c8419af3",
   "metadata": {},
   "source": [
    "### Этап 5. Оценка результатов A/B-тестирования"
   ]
  },
  {
   "cell_type": "markdown",
   "id": "b2ef9938",
   "metadata": {},
   "source": [
    "- Сколько пользователей в каждой экспериментальной группе?\n",
    "- Проверим, находят ли статистические критерии разницу между группами.\n",
    "- Проверим статистическую разницу долей z-критерием."
   ]
  },
  {
   "cell_type": "markdown",
   "id": "acc8be12",
   "metadata": {},
   "source": [
    "### Этап 6. Выводы"
   ]
  },
  {
   "cell_type": "markdown",
   "id": "872ab137",
   "metadata": {},
   "source": [
    "## Этап 1. Получение данных"
   ]
  },
  {
   "cell_type": "code",
   "execution_count": 1,
   "id": "f570c623",
   "metadata": {},
   "outputs": [],
   "source": [
    "#импортируем библиотеки\n",
    "import pandas as pd\n",
    "import numpy as np\n",
    "import math as mth\n",
    "import matplotlib.pyplot as plt\n",
    "from datetime import datetime\n",
    "from datetime import timedelta\n",
    "from scipy import stats as st \n",
    "import datetime as dt\n",
    "import seaborn as sns\n",
    "from plotly import graph_objects as go\n",
    "import plotly.express as px\n",
    "import plotly.io as pio\n",
    "pio.templates.default = \"plotly_white\""
   ]
  },
  {
   "cell_type": "code",
   "execution_count": 2,
   "id": "28677ee2",
   "metadata": {},
   "outputs": [],
   "source": [
    "#загрузим данные\n",
    "marketing_events = pd.read_csv('https://code.s3.yandex.net/datasets/ab_project_marketing_events.csv')\n",
    "\n",
    "new_users = pd.read_csv('https://code.s3.yandex.net/datasets/final_ab_new_users.csv')\n",
    "\n",
    "new_user_events = pd.read_csv('https://code.s3.yandex.net/datasets/final_ab_events.csv')\n",
    "\n",
    "participants = pd.read_csv('https://code.s3.yandex.net/datasets/final_ab_participants.csv')"
   ]
  },
  {
   "cell_type": "code",
   "execution_count": 3,
   "id": "c3d93086",
   "metadata": {},
   "outputs": [
    {
     "data": {
      "text/html": [
       "<div>\n",
       "<style scoped>\n",
       "    .dataframe tbody tr th:only-of-type {\n",
       "        vertical-align: middle;\n",
       "    }\n",
       "\n",
       "    .dataframe tbody tr th {\n",
       "        vertical-align: top;\n",
       "    }\n",
       "\n",
       "    .dataframe thead th {\n",
       "        text-align: right;\n",
       "    }\n",
       "</style>\n",
       "<table border=\"1\" class=\"dataframe\">\n",
       "  <thead>\n",
       "    <tr style=\"text-align: right;\">\n",
       "      <th></th>\n",
       "      <th>name</th>\n",
       "      <th>regions</th>\n",
       "      <th>start_dt</th>\n",
       "      <th>finish_dt</th>\n",
       "    </tr>\n",
       "  </thead>\n",
       "  <tbody>\n",
       "    <tr>\n",
       "      <th>0</th>\n",
       "      <td>Christmas&amp;New Year Promo</td>\n",
       "      <td>EU, N.America</td>\n",
       "      <td>2020-12-25</td>\n",
       "      <td>2021-01-03</td>\n",
       "    </tr>\n",
       "    <tr>\n",
       "      <th>1</th>\n",
       "      <td>St. Valentine's Day Giveaway</td>\n",
       "      <td>EU, CIS, APAC, N.America</td>\n",
       "      <td>2020-02-14</td>\n",
       "      <td>2020-02-16</td>\n",
       "    </tr>\n",
       "    <tr>\n",
       "      <th>2</th>\n",
       "      <td>St. Patric's Day Promo</td>\n",
       "      <td>EU, N.America</td>\n",
       "      <td>2020-03-17</td>\n",
       "      <td>2020-03-19</td>\n",
       "    </tr>\n",
       "    <tr>\n",
       "      <th>3</th>\n",
       "      <td>Easter Promo</td>\n",
       "      <td>EU, CIS, APAC, N.America</td>\n",
       "      <td>2020-04-12</td>\n",
       "      <td>2020-04-19</td>\n",
       "    </tr>\n",
       "    <tr>\n",
       "      <th>4</th>\n",
       "      <td>4th of July Promo</td>\n",
       "      <td>N.America</td>\n",
       "      <td>2020-07-04</td>\n",
       "      <td>2020-07-11</td>\n",
       "    </tr>\n",
       "  </tbody>\n",
       "</table>\n",
       "</div>"
      ],
      "text/plain": [
       "                           name                   regions    start_dt  \\\n",
       "0      Christmas&New Year Promo             EU, N.America  2020-12-25   \n",
       "1  St. Valentine's Day Giveaway  EU, CIS, APAC, N.America  2020-02-14   \n",
       "2        St. Patric's Day Promo             EU, N.America  2020-03-17   \n",
       "3                  Easter Promo  EU, CIS, APAC, N.America  2020-04-12   \n",
       "4             4th of July Promo                 N.America  2020-07-04   \n",
       "\n",
       "    finish_dt  \n",
       "0  2021-01-03  \n",
       "1  2020-02-16  \n",
       "2  2020-03-19  \n",
       "3  2020-04-19  \n",
       "4  2020-07-11  "
      ]
     },
     "execution_count": 3,
     "metadata": {},
     "output_type": "execute_result"
    }
   ],
   "source": [
    "marketing_events.head()"
   ]
  },
  {
   "cell_type": "code",
   "execution_count": 4,
   "id": "0f25edb1",
   "metadata": {},
   "outputs": [
    {
     "name": "stdout",
     "output_type": "stream",
     "text": [
      "Общая информация\n",
      "<class 'pandas.core.frame.DataFrame'>\n",
      "RangeIndex: 14 entries, 0 to 13\n",
      "Data columns (total 4 columns):\n",
      " #   Column     Non-Null Count  Dtype \n",
      "---  ------     --------------  ----- \n",
      " 0   name       14 non-null     object\n",
      " 1   regions    14 non-null     object\n",
      " 2   start_dt   14 non-null     object\n",
      " 3   finish_dt  14 non-null     object\n",
      "dtypes: object(4)\n",
      "memory usage: 576.0+ bytes\n",
      "====================================\n",
      "Дубликатов в таблице: 0\n",
      "====================================\n",
      "Пропусков в таблице:\n",
      "name         0\n",
      "regions      0\n",
      "start_dt     0\n",
      "finish_dt    0\n",
      "dtype: int64\n",
      "====================================\n",
      "Количество уникальных значений:\n",
      "name         14\n",
      "regions       6\n",
      "start_dt     14\n",
      "finish_dt    14\n",
      "dtype: int64\n"
     ]
    }
   ],
   "source": [
    "#посмотрим общую информацию\n",
    "print('Общая информация')\n",
    "marketing_events.info()\n",
    "print('====================================')\n",
    "print('Дубликатов в таблице:', marketing_events.duplicated().sum())\n",
    "print('====================================')\n",
    "print('Пропусков в таблице:')\n",
    "print(marketing_events.isna().sum())\n",
    "print('====================================')\n",
    "print('Количество уникальных значений:')\n",
    "print(marketing_events.nunique())"
   ]
  },
  {
   "cell_type": "markdown",
   "id": "90d10522",
   "metadata": {},
   "source": [
    "Дубликатов нет, пропусков нет."
   ]
  },
  {
   "cell_type": "code",
   "execution_count": 5,
   "id": "6e635866",
   "metadata": {},
   "outputs": [
    {
     "data": {
      "text/html": [
       "<div>\n",
       "<style scoped>\n",
       "    .dataframe tbody tr th:only-of-type {\n",
       "        vertical-align: middle;\n",
       "    }\n",
       "\n",
       "    .dataframe tbody tr th {\n",
       "        vertical-align: top;\n",
       "    }\n",
       "\n",
       "    .dataframe thead th {\n",
       "        text-align: right;\n",
       "    }\n",
       "</style>\n",
       "<table border=\"1\" class=\"dataframe\">\n",
       "  <thead>\n",
       "    <tr style=\"text-align: right;\">\n",
       "      <th></th>\n",
       "      <th>user_id</th>\n",
       "      <th>first_date</th>\n",
       "      <th>region</th>\n",
       "      <th>device</th>\n",
       "    </tr>\n",
       "  </thead>\n",
       "  <tbody>\n",
       "    <tr>\n",
       "      <th>0</th>\n",
       "      <td>D72A72121175D8BE</td>\n",
       "      <td>2020-12-07</td>\n",
       "      <td>EU</td>\n",
       "      <td>PC</td>\n",
       "    </tr>\n",
       "    <tr>\n",
       "      <th>1</th>\n",
       "      <td>F1C668619DFE6E65</td>\n",
       "      <td>2020-12-07</td>\n",
       "      <td>N.America</td>\n",
       "      <td>Android</td>\n",
       "    </tr>\n",
       "    <tr>\n",
       "      <th>2</th>\n",
       "      <td>2E1BF1D4C37EA01F</td>\n",
       "      <td>2020-12-07</td>\n",
       "      <td>EU</td>\n",
       "      <td>PC</td>\n",
       "    </tr>\n",
       "    <tr>\n",
       "      <th>3</th>\n",
       "      <td>50734A22C0C63768</td>\n",
       "      <td>2020-12-07</td>\n",
       "      <td>EU</td>\n",
       "      <td>iPhone</td>\n",
       "    </tr>\n",
       "    <tr>\n",
       "      <th>4</th>\n",
       "      <td>E1BDDCE0DAFA2679</td>\n",
       "      <td>2020-12-07</td>\n",
       "      <td>N.America</td>\n",
       "      <td>iPhone</td>\n",
       "    </tr>\n",
       "  </tbody>\n",
       "</table>\n",
       "</div>"
      ],
      "text/plain": [
       "            user_id  first_date     region   device\n",
       "0  D72A72121175D8BE  2020-12-07         EU       PC\n",
       "1  F1C668619DFE6E65  2020-12-07  N.America  Android\n",
       "2  2E1BF1D4C37EA01F  2020-12-07         EU       PC\n",
       "3  50734A22C0C63768  2020-12-07         EU   iPhone\n",
       "4  E1BDDCE0DAFA2679  2020-12-07  N.America   iPhone"
      ]
     },
     "execution_count": 5,
     "metadata": {},
     "output_type": "execute_result"
    }
   ],
   "source": [
    "new_users.head()"
   ]
  },
  {
   "cell_type": "code",
   "execution_count": 6,
   "id": "74b82b3b",
   "metadata": {},
   "outputs": [
    {
     "name": "stdout",
     "output_type": "stream",
     "text": [
      "Общая информация\n",
      "<class 'pandas.core.frame.DataFrame'>\n",
      "RangeIndex: 61733 entries, 0 to 61732\n",
      "Data columns (total 4 columns):\n",
      " #   Column      Non-Null Count  Dtype \n",
      "---  ------      --------------  ----- \n",
      " 0   user_id     61733 non-null  object\n",
      " 1   first_date  61733 non-null  object\n",
      " 2   region      61733 non-null  object\n",
      " 3   device      61733 non-null  object\n",
      "dtypes: object(4)\n",
      "memory usage: 1.9+ MB\n",
      "====================================\n",
      "Дубликатов в таблице: 0\n",
      "====================================\n",
      "Пропусков в таблице:\n",
      "user_id       0\n",
      "first_date    0\n",
      "region        0\n",
      "device        0\n",
      "dtype: int64\n",
      "====================================\n",
      "Количество уникальных значений:\n",
      "user_id       61733\n",
      "first_date       17\n",
      "region            4\n",
      "device            4\n",
      "dtype: int64\n"
     ]
    }
   ],
   "source": [
    "#посмотрим общую информацию\n",
    "print('Общая информация')\n",
    "new_users.info()\n",
    "print('====================================')\n",
    "print('Дубликатов в таблице:', new_users.duplicated().sum())\n",
    "print('====================================')\n",
    "print('Пропусков в таблице:')\n",
    "print(new_users.isna().sum())\n",
    "print('====================================')\n",
    "print('Количество уникальных значений:')\n",
    "print(new_users.nunique())"
   ]
  },
  {
   "cell_type": "markdown",
   "id": "a29c4061",
   "metadata": {},
   "source": [
    "Дубликатов нет, пропусков нет."
   ]
  },
  {
   "cell_type": "code",
   "execution_count": 7,
   "id": "0ac0bcd7",
   "metadata": {},
   "outputs": [
    {
     "data": {
      "text/html": [
       "<div>\n",
       "<style scoped>\n",
       "    .dataframe tbody tr th:only-of-type {\n",
       "        vertical-align: middle;\n",
       "    }\n",
       "\n",
       "    .dataframe tbody tr th {\n",
       "        vertical-align: top;\n",
       "    }\n",
       "\n",
       "    .dataframe thead th {\n",
       "        text-align: right;\n",
       "    }\n",
       "</style>\n",
       "<table border=\"1\" class=\"dataframe\">\n",
       "  <thead>\n",
       "    <tr style=\"text-align: right;\">\n",
       "      <th></th>\n",
       "      <th>user_id</th>\n",
       "      <th>event_dt</th>\n",
       "      <th>event_name</th>\n",
       "      <th>details</th>\n",
       "    </tr>\n",
       "  </thead>\n",
       "  <tbody>\n",
       "    <tr>\n",
       "      <th>0</th>\n",
       "      <td>E1BDDCE0DAFA2679</td>\n",
       "      <td>2020-12-07 20:22:03</td>\n",
       "      <td>purchase</td>\n",
       "      <td>99.99</td>\n",
       "    </tr>\n",
       "    <tr>\n",
       "      <th>1</th>\n",
       "      <td>7B6452F081F49504</td>\n",
       "      <td>2020-12-07 09:22:53</td>\n",
       "      <td>purchase</td>\n",
       "      <td>9.99</td>\n",
       "    </tr>\n",
       "    <tr>\n",
       "      <th>2</th>\n",
       "      <td>9CD9F34546DF254C</td>\n",
       "      <td>2020-12-07 12:59:29</td>\n",
       "      <td>purchase</td>\n",
       "      <td>4.99</td>\n",
       "    </tr>\n",
       "    <tr>\n",
       "      <th>3</th>\n",
       "      <td>96F27A054B191457</td>\n",
       "      <td>2020-12-07 04:02:40</td>\n",
       "      <td>purchase</td>\n",
       "      <td>4.99</td>\n",
       "    </tr>\n",
       "    <tr>\n",
       "      <th>4</th>\n",
       "      <td>1FD7660FDF94CA1F</td>\n",
       "      <td>2020-12-07 10:15:09</td>\n",
       "      <td>purchase</td>\n",
       "      <td>4.99</td>\n",
       "    </tr>\n",
       "  </tbody>\n",
       "</table>\n",
       "</div>"
      ],
      "text/plain": [
       "            user_id             event_dt event_name  details\n",
       "0  E1BDDCE0DAFA2679  2020-12-07 20:22:03   purchase    99.99\n",
       "1  7B6452F081F49504  2020-12-07 09:22:53   purchase     9.99\n",
       "2  9CD9F34546DF254C  2020-12-07 12:59:29   purchase     4.99\n",
       "3  96F27A054B191457  2020-12-07 04:02:40   purchase     4.99\n",
       "4  1FD7660FDF94CA1F  2020-12-07 10:15:09   purchase     4.99"
      ]
     },
     "execution_count": 7,
     "metadata": {},
     "output_type": "execute_result"
    }
   ],
   "source": [
    "new_user_events.head()"
   ]
  },
  {
   "cell_type": "code",
   "execution_count": 8,
   "id": "e17cd32d",
   "metadata": {},
   "outputs": [
    {
     "name": "stdout",
     "output_type": "stream",
     "text": [
      "Общая информация\n",
      "<class 'pandas.core.frame.DataFrame'>\n",
      "RangeIndex: 440317 entries, 0 to 440316\n",
      "Data columns (total 4 columns):\n",
      " #   Column      Non-Null Count   Dtype  \n",
      "---  ------      --------------   -----  \n",
      " 0   user_id     440317 non-null  object \n",
      " 1   event_dt    440317 non-null  object \n",
      " 2   event_name  440317 non-null  object \n",
      " 3   details     62740 non-null   float64\n",
      "dtypes: float64(1), object(3)\n",
      "memory usage: 13.4+ MB\n",
      "====================================\n",
      "Дубликатов в таблице: 0\n",
      "====================================\n",
      "Пропусков в таблице:\n",
      "user_id            0\n",
      "event_dt           0\n",
      "event_name         0\n",
      "details       377577\n",
      "dtype: int64\n",
      "====================================\n",
      "Количество уникальных значений:\n",
      "user_id        58703\n",
      "event_dt      267268\n",
      "event_name         4\n",
      "details            4\n",
      "dtype: int64\n"
     ]
    }
   ],
   "source": [
    "#посмотрим общую информацию\n",
    "print('Общая информация')\n",
    "new_user_events.info()\n",
    "print('====================================')\n",
    "print('Дубликатов в таблице:', new_user_events.duplicated().sum())\n",
    "print('====================================')\n",
    "print('Пропусков в таблице:')\n",
    "print(new_user_events.isna().sum())\n",
    "print('====================================')\n",
    "print('Количество уникальных значений:')\n",
    "print(new_user_events.nunique())"
   ]
  },
  {
   "cell_type": "markdown",
   "id": "7bba2960",
   "metadata": {},
   "source": [
    "Дубликатов нет. Пропусков много в столбце с дополнительными данными о событиях. В процессе предобработки решим, что с ними делать. Так же нужно поменять тип данных столбца с датами"
   ]
  },
  {
   "cell_type": "code",
   "execution_count": 9,
   "id": "cb98bf5b",
   "metadata": {},
   "outputs": [
    {
     "data": {
      "text/html": [
       "<div>\n",
       "<style scoped>\n",
       "    .dataframe tbody tr th:only-of-type {\n",
       "        vertical-align: middle;\n",
       "    }\n",
       "\n",
       "    .dataframe tbody tr th {\n",
       "        vertical-align: top;\n",
       "    }\n",
       "\n",
       "    .dataframe thead th {\n",
       "        text-align: right;\n",
       "    }\n",
       "</style>\n",
       "<table border=\"1\" class=\"dataframe\">\n",
       "  <thead>\n",
       "    <tr style=\"text-align: right;\">\n",
       "      <th></th>\n",
       "      <th>user_id</th>\n",
       "      <th>group</th>\n",
       "      <th>ab_test</th>\n",
       "    </tr>\n",
       "  </thead>\n",
       "  <tbody>\n",
       "    <tr>\n",
       "      <th>0</th>\n",
       "      <td>D1ABA3E2887B6A73</td>\n",
       "      <td>A</td>\n",
       "      <td>recommender_system_test</td>\n",
       "    </tr>\n",
       "    <tr>\n",
       "      <th>1</th>\n",
       "      <td>A7A3664BD6242119</td>\n",
       "      <td>A</td>\n",
       "      <td>recommender_system_test</td>\n",
       "    </tr>\n",
       "    <tr>\n",
       "      <th>2</th>\n",
       "      <td>DABC14FDDFADD29E</td>\n",
       "      <td>A</td>\n",
       "      <td>recommender_system_test</td>\n",
       "    </tr>\n",
       "    <tr>\n",
       "      <th>3</th>\n",
       "      <td>04988C5DF189632E</td>\n",
       "      <td>A</td>\n",
       "      <td>recommender_system_test</td>\n",
       "    </tr>\n",
       "    <tr>\n",
       "      <th>4</th>\n",
       "      <td>482F14783456D21B</td>\n",
       "      <td>B</td>\n",
       "      <td>recommender_system_test</td>\n",
       "    </tr>\n",
       "  </tbody>\n",
       "</table>\n",
       "</div>"
      ],
      "text/plain": [
       "            user_id group                  ab_test\n",
       "0  D1ABA3E2887B6A73     A  recommender_system_test\n",
       "1  A7A3664BD6242119     A  recommender_system_test\n",
       "2  DABC14FDDFADD29E     A  recommender_system_test\n",
       "3  04988C5DF189632E     A  recommender_system_test\n",
       "4  482F14783456D21B     B  recommender_system_test"
      ]
     },
     "execution_count": 9,
     "metadata": {},
     "output_type": "execute_result"
    }
   ],
   "source": [
    "participants.head()"
   ]
  },
  {
   "cell_type": "code",
   "execution_count": 10,
   "id": "40222b3d",
   "metadata": {},
   "outputs": [
    {
     "name": "stdout",
     "output_type": "stream",
     "text": [
      "Общая информация\n",
      "<class 'pandas.core.frame.DataFrame'>\n",
      "RangeIndex: 18268 entries, 0 to 18267\n",
      "Data columns (total 3 columns):\n",
      " #   Column   Non-Null Count  Dtype \n",
      "---  ------   --------------  ----- \n",
      " 0   user_id  18268 non-null  object\n",
      " 1   group    18268 non-null  object\n",
      " 2   ab_test  18268 non-null  object\n",
      "dtypes: object(3)\n",
      "memory usage: 428.3+ KB\n",
      "====================================\n",
      "Дубликатов в таблице: 0\n",
      "====================================\n",
      "Пропусков в таблице:\n",
      "user_id    0\n",
      "group      0\n",
      "ab_test    0\n",
      "dtype: int64\n",
      "====================================\n",
      "Количество уникальных значений:\n",
      "user_id    16666\n",
      "group          2\n",
      "ab_test        2\n",
      "dtype: int64\n"
     ]
    }
   ],
   "source": [
    "#посмотрим общую информацию\n",
    "print('Общая информация')\n",
    "participants.info()\n",
    "print('====================================')\n",
    "print('Дубликатов в таблице:', participants.duplicated().sum())\n",
    "print('====================================')\n",
    "print('Пропусков в таблице:')\n",
    "print(participants.isna().sum())\n",
    "print('====================================')\n",
    "print('Количество уникальных значений:')\n",
    "print(participants.nunique())"
   ]
  },
  {
   "cell_type": "markdown",
   "id": "9cc8e420",
   "metadata": {},
   "source": [
    "Аномалий в данном датасете не обнаружено."
   ]
  },
  {
   "cell_type": "markdown",
   "id": "b5e02245",
   "metadata": {},
   "source": [
    "**Итоги предварительного изучения полученных данных:**"
   ]
  },
  {
   "cell_type": "markdown",
   "id": "95d94d43",
   "metadata": {},
   "source": [
    "- Формат столбцов с датами не соответствует нужному. Требуется исправление.\n",
    "- Есть пропуски в одном датасете. Необходимо принять решение, что с ними делать (удалить/оставить/заменить)."
   ]
  },
  {
   "cell_type": "markdown",
   "id": "f70d6d84",
   "metadata": {},
   "source": [
    " ## Этап 2. Предобработка данных"
   ]
  },
  {
   "cell_type": "markdown",
   "id": "1bd93279",
   "metadata": {},
   "source": [
    "Заменим тип даты на правильный"
   ]
  },
  {
   "cell_type": "code",
   "execution_count": 11,
   "id": "07767414",
   "metadata": {},
   "outputs": [],
   "source": [
    "new_users['first_date'] = pd.to_datetime(new_users['first_date'], format=\"%Y-%m-%d\")\n",
    "new_users['first_dt'] = new_users['first_date'].dt.date"
   ]
  },
  {
   "cell_type": "code",
   "execution_count": 12,
   "id": "9716b1a9",
   "metadata": {},
   "outputs": [],
   "source": [
    "new_user_events['event_dt'] = pd.to_datetime(new_user_events['event_dt'], format=\"%Y-%m-%d\")\n",
    "new_user_events['date'] =  new_user_events['event_dt'].dt.date"
   ]
  },
  {
   "cell_type": "code",
   "execution_count": 13,
   "id": "4de1ac3f",
   "metadata": {},
   "outputs": [
    {
     "name": "stdout",
     "output_type": "stream",
     "text": [
      "<class 'pandas.core.frame.DataFrame'>\n",
      "RangeIndex: 440317 entries, 0 to 440316\n",
      "Data columns (total 5 columns):\n",
      " #   Column      Non-Null Count   Dtype         \n",
      "---  ------      --------------   -----         \n",
      " 0   user_id     440317 non-null  object        \n",
      " 1   event_dt    440317 non-null  datetime64[ns]\n",
      " 2   event_name  440317 non-null  object        \n",
      " 3   details     62740 non-null   float64       \n",
      " 4   date        440317 non-null  object        \n",
      "dtypes: datetime64[ns](1), float64(1), object(3)\n",
      "memory usage: 16.8+ MB\n"
     ]
    }
   ],
   "source": [
    "# проверим\n",
    "new_user_events.info()"
   ]
  },
  {
   "cell_type": "markdown",
   "id": "c5583440",
   "metadata": {},
   "source": [
    "Посмотрим на пропуски в группировке по событиям."
   ]
  },
  {
   "cell_type": "code",
   "execution_count": 14,
   "id": "112364da",
   "metadata": {},
   "outputs": [
    {
     "data": {
      "text/html": [
       "<div>\n",
       "<style scoped>\n",
       "    .dataframe tbody tr th:only-of-type {\n",
       "        vertical-align: middle;\n",
       "    }\n",
       "\n",
       "    .dataframe tbody tr th {\n",
       "        vertical-align: top;\n",
       "    }\n",
       "\n",
       "    .dataframe thead th {\n",
       "        text-align: right;\n",
       "    }\n",
       "</style>\n",
       "<table border=\"1\" class=\"dataframe\">\n",
       "  <thead>\n",
       "    <tr style=\"text-align: right;\">\n",
       "      <th></th>\n",
       "      <th>count</th>\n",
       "    </tr>\n",
       "    <tr>\n",
       "      <th>event_name</th>\n",
       "      <th></th>\n",
       "    </tr>\n",
       "  </thead>\n",
       "  <tbody>\n",
       "    <tr>\n",
       "      <th>login</th>\n",
       "      <td>0</td>\n",
       "    </tr>\n",
       "    <tr>\n",
       "      <th>product_cart</th>\n",
       "      <td>0</td>\n",
       "    </tr>\n",
       "    <tr>\n",
       "      <th>product_page</th>\n",
       "      <td>0</td>\n",
       "    </tr>\n",
       "    <tr>\n",
       "      <th>purchase</th>\n",
       "      <td>62740</td>\n",
       "    </tr>\n",
       "  </tbody>\n",
       "</table>\n",
       "</div>"
      ],
      "text/plain": [
       "              count\n",
       "event_name         \n",
       "login             0\n",
       "product_cart      0\n",
       "product_page      0\n",
       "purchase      62740"
      ]
     },
     "execution_count": 14,
     "metadata": {},
     "output_type": "execute_result"
    }
   ],
   "source": [
    "new_user_events.groupby('event_name')['details'].agg({'count'})"
   ]
  },
  {
   "cell_type": "markdown",
   "id": "6a3744d6",
   "metadata": {},
   "source": [
    "Данные представлены только для события *purchase*, в остальных пропуск. В данном случае в столбце \"details\" указана сумма покупки, поэтому данные есть только для этого события.\n",
    "исправлять данную аномалию не нужно, оставим как есть."
   ]
  },
  {
   "cell_type": "code",
   "execution_count": 15,
   "id": "90f1c31a",
   "metadata": {},
   "outputs": [
    {
     "name": "stdout",
     "output_type": "stream",
     "text": [
      "<class 'pandas.core.frame.DataFrame'>\n",
      "RangeIndex: 61733 entries, 0 to 61732\n",
      "Data columns (total 5 columns):\n",
      " #   Column      Non-Null Count  Dtype         \n",
      "---  ------      --------------  -----         \n",
      " 0   user_id     61733 non-null  object        \n",
      " 1   first_date  61733 non-null  datetime64[ns]\n",
      " 2   region      61733 non-null  object        \n",
      " 3   device      61733 non-null  object        \n",
      " 4   first_dt    61733 non-null  object        \n",
      "dtypes: datetime64[ns](1), object(4)\n",
      "memory usage: 2.4+ MB\n"
     ]
    }
   ],
   "source": [
    "new_users.info()"
   ]
  },
  {
   "cell_type": "markdown",
   "id": "cf16c529",
   "metadata": {},
   "source": [
    "### Этап 3. Оценка корректности проведения теста"
   ]
  },
  {
   "cell_type": "markdown",
   "id": "76b3ba06",
   "metadata": {},
   "source": [
    "- проверим соответствие данных требованиям технического задания.\n",
    "- проверим время проведения теста. Оно не должно совпадать с маркетинговыми и другими активностями.\n",
    "- проверим аудиторию теста. Удостоверимся, что нет пересечений с конкурирующим тестом и нет пользователей, участвующих в двух группах теста одновременно. Проверим равномерность распределения по тестовым группам и правильность их формирования."
   ]
  },
  {
   "cell_type": "markdown",
   "id": "b8b8463d",
   "metadata": {},
   "source": [
    "**Проверим, соответствуют ли предоставленные данные требованиям технического задания.**"
   ]
  },
  {
   "cell_type": "markdown",
   "id": "d7a61b6e",
   "metadata": {},
   "source": [
    "Посмотрим на количество уникальных данных о тестировании. В техническом задании (далее ТЗ) название теста - `recommender_system_test`, обновим переменную, сделав по нему срез."
   ]
  },
  {
   "cell_type": "code",
   "execution_count": 16,
   "id": "fb293149",
   "metadata": {},
   "outputs": [],
   "source": [
    "participants_actual = participants.query('ab_test == \"recommender_system_test\"')"
   ]
  },
  {
   "cell_type": "code",
   "execution_count": 17,
   "id": "f0748c63",
   "metadata": {},
   "outputs": [
    {
     "data": {
      "text/plain": [
       "user_id    6701\n",
       "group         2\n",
       "ab_test       1\n",
       "dtype: int64"
      ]
     },
     "execution_count": 17,
     "metadata": {},
     "output_type": "execute_result"
    }
   ],
   "source": [
    "participants_actual.nunique()"
   ]
  },
  {
   "cell_type": "markdown",
   "id": "80b041a7",
   "metadata": {},
   "source": [
    "- 6701 участник теста\n",
    "- 2 группы теста,\n",
    "- 1 тест"
   ]
  },
  {
   "cell_type": "code",
   "execution_count": 18,
   "id": "5f9b1151",
   "metadata": {},
   "outputs": [
    {
     "data": {
      "text/plain": [
       "A    3824\n",
       "B    2877\n",
       "Name: group, dtype: int64"
      ]
     },
     "execution_count": 18,
     "metadata": {},
     "output_type": "execute_result"
    }
   ],
   "source": [
    "participants_actual['group'].value_counts()"
   ]
  },
  {
   "cell_type": "markdown",
   "id": "0cc7e406",
   "metadata": {},
   "source": [
    "Деление по группам приемлимое = 57/43"
   ]
  },
  {
   "cell_type": "markdown",
   "id": "f7687280",
   "metadata": {},
   "source": [
    "Объединим таблицы регистрации новых пользователей и участников теста в одну. Проверим уникальность участников"
   ]
  },
  {
   "cell_type": "code",
   "execution_count": 19,
   "id": "33b78fbd",
   "metadata": {},
   "outputs": [],
   "source": [
    "data = new_users.merge(participants_actual, how = 'inner', left_on='user_id', right_on='user_id')"
   ]
  },
  {
   "cell_type": "code",
   "execution_count": 20,
   "id": "e9142760",
   "metadata": {},
   "outputs": [
    {
     "data": {
      "text/html": [
       "<div>\n",
       "<style scoped>\n",
       "    .dataframe tbody tr th:only-of-type {\n",
       "        vertical-align: middle;\n",
       "    }\n",
       "\n",
       "    .dataframe tbody tr th {\n",
       "        vertical-align: top;\n",
       "    }\n",
       "\n",
       "    .dataframe thead th {\n",
       "        text-align: right;\n",
       "    }\n",
       "</style>\n",
       "<table border=\"1\" class=\"dataframe\">\n",
       "  <thead>\n",
       "    <tr style=\"text-align: right;\">\n",
       "      <th></th>\n",
       "      <th>user_id</th>\n",
       "      <th>first_date</th>\n",
       "      <th>region</th>\n",
       "      <th>device</th>\n",
       "      <th>first_dt</th>\n",
       "      <th>group</th>\n",
       "      <th>ab_test</th>\n",
       "    </tr>\n",
       "  </thead>\n",
       "  <tbody>\n",
       "    <tr>\n",
       "      <th>0</th>\n",
       "      <td>D72A72121175D8BE</td>\n",
       "      <td>2020-12-07</td>\n",
       "      <td>EU</td>\n",
       "      <td>PC</td>\n",
       "      <td>2020-12-07</td>\n",
       "      <td>A</td>\n",
       "      <td>recommender_system_test</td>\n",
       "    </tr>\n",
       "    <tr>\n",
       "      <th>1</th>\n",
       "      <td>E6DE857AFBDC6102</td>\n",
       "      <td>2020-12-07</td>\n",
       "      <td>EU</td>\n",
       "      <td>PC</td>\n",
       "      <td>2020-12-07</td>\n",
       "      <td>B</td>\n",
       "      <td>recommender_system_test</td>\n",
       "    </tr>\n",
       "    <tr>\n",
       "      <th>2</th>\n",
       "      <td>DD4352CDCF8C3D57</td>\n",
       "      <td>2020-12-07</td>\n",
       "      <td>EU</td>\n",
       "      <td>Android</td>\n",
       "      <td>2020-12-07</td>\n",
       "      <td>B</td>\n",
       "      <td>recommender_system_test</td>\n",
       "    </tr>\n",
       "  </tbody>\n",
       "</table>\n",
       "</div>"
      ],
      "text/plain": [
       "            user_id first_date region   device    first_dt group  \\\n",
       "0  D72A72121175D8BE 2020-12-07     EU       PC  2020-12-07     A   \n",
       "1  E6DE857AFBDC6102 2020-12-07     EU       PC  2020-12-07     B   \n",
       "2  DD4352CDCF8C3D57 2020-12-07     EU  Android  2020-12-07     B   \n",
       "\n",
       "                   ab_test  \n",
       "0  recommender_system_test  \n",
       "1  recommender_system_test  \n",
       "2  recommender_system_test  "
      ]
     },
     "execution_count": 20,
     "metadata": {},
     "output_type": "execute_result"
    }
   ],
   "source": [
    "data.head(3)"
   ]
  },
  {
   "cell_type": "code",
   "execution_count": 21,
   "id": "16723132",
   "metadata": {},
   "outputs": [
    {
     "name": "stdout",
     "output_type": "stream",
     "text": [
      "Общая информация\n",
      "<class 'pandas.core.frame.DataFrame'>\n",
      "Int64Index: 6701 entries, 0 to 6700\n",
      "Data columns (total 7 columns):\n",
      " #   Column      Non-Null Count  Dtype         \n",
      "---  ------      --------------  -----         \n",
      " 0   user_id     6701 non-null   object        \n",
      " 1   first_date  6701 non-null   datetime64[ns]\n",
      " 2   region      6701 non-null   object        \n",
      " 3   device      6701 non-null   object        \n",
      " 4   first_dt    6701 non-null   object        \n",
      " 5   group       6701 non-null   object        \n",
      " 6   ab_test     6701 non-null   object        \n",
      "dtypes: datetime64[ns](1), object(6)\n",
      "memory usage: 418.8+ KB\n",
      "====================================\n",
      "Дубликатов в таблице: 0\n",
      "====================================\n",
      "Пропусков в таблице:\n",
      "user_id       0\n",
      "first_date    0\n",
      "region        0\n",
      "device        0\n",
      "first_dt      0\n",
      "group         0\n",
      "ab_test       0\n",
      "dtype: int64\n",
      "====================================\n",
      "Количество уникальных значений:\n",
      "user_id       6701\n",
      "first_date      15\n",
      "region           4\n",
      "device           4\n",
      "first_dt        15\n",
      "group            2\n",
      "ab_test          1\n",
      "dtype: int64\n"
     ]
    }
   ],
   "source": [
    "#посмотрим общую информацию\n",
    "print('Общая информация')\n",
    "data.info()\n",
    "print('====================================')\n",
    "print('Дубликатов в таблице:', data.duplicated().sum())\n",
    "print('====================================')\n",
    "print('Пропусков в таблице:')\n",
    "print(data.isna().sum())\n",
    "print('====================================')\n",
    "print('Количество уникальных значений:')\n",
    "print(data.nunique())"
   ]
  },
  {
   "cell_type": "markdown",
   "id": "0bc13fb8",
   "metadata": {},
   "source": [
    "**Проверим, есть ли 15% новых пользователей из Европы в качестве участников теста**"
   ]
  },
  {
   "cell_type": "code",
   "execution_count": 22,
   "id": "15e2d067",
   "metadata": {},
   "outputs": [
    {
     "name": "stdout",
     "output_type": "stream",
     "text": [
      "Количество новых участников теста из Европы: 6351\n"
     ]
    }
   ],
   "source": [
    "print('Количество новых участников теста из Европы:', len(data.query('region == \"EU\"')['user_id']))"
   ]
  },
  {
   "cell_type": "code",
   "execution_count": 23,
   "id": "719b70fe",
   "metadata": {},
   "outputs": [
    {
     "name": "stdout",
     "output_type": "stream",
     "text": [
      "Количество пользователей из Европы: 46270\n"
     ]
    }
   ],
   "source": [
    "print('Количество пользователей из Европы:', len(new_users.query('region == \"EU\"')['user_id']))"
   ]
  },
  {
   "cell_type": "code",
   "execution_count": 24,
   "id": "9cb15a83",
   "metadata": {},
   "outputs": [
    {
     "name": "stdout",
     "output_type": "stream",
     "text": [
      "Процент новых пользователей из Европы: 14 %\n"
     ]
    }
   ],
   "source": [
    "print('Процент новых пользователей из Европы:', round((len(data.query('region == \"EU\"')['user_id'])/\n",
    "      len(new_users.query('region == \"EU\"')['user_id'])*100)), '%')"
   ]
  },
  {
   "cell_type": "markdown",
   "id": "db71ad12",
   "metadata": {},
   "source": [
    "Данное требование ТЗ не соблюдено, согласно требованию, должно быть не менее 15% новых пользователей из Европы, по факту 14%."
   ]
  },
  {
   "cell_type": "markdown",
   "id": "8dffdaf8",
   "metadata": {},
   "source": [
    "**Проверим время проведения теста, время остановки набора новых пользователей и остановки теста.**"
   ]
  },
  {
   "cell_type": "code",
   "execution_count": 25,
   "id": "25284fd9",
   "metadata": {},
   "outputs": [
    {
     "data": {
      "text/plain": [
       "(datetime.date(2020, 12, 7), datetime.date(2020, 12, 21))"
      ]
     },
     "execution_count": 25,
     "metadata": {},
     "output_type": "execute_result"
    }
   ],
   "source": [
    "data['first_dt'].min(), data['first_dt'].max()"
   ]
  },
  {
   "cell_type": "markdown",
   "id": "41e92568",
   "metadata": {},
   "source": [
    "Даты начала и окончания регистрации участников теста соответствуют требованиям ТЗ"
   ]
  },
  {
   "cell_type": "code",
   "execution_count": 26,
   "id": "ea71190d",
   "metadata": {},
   "outputs": [
    {
     "data": {
      "text/plain": [
       "(Timestamp('2020-12-07 00:00:33'), Timestamp('2020-12-30 23:36:33'))"
      ]
     },
     "execution_count": 26,
     "metadata": {},
     "output_type": "execute_result"
    }
   ],
   "source": [
    "new_user_events['event_dt'].min(), new_user_events['event_dt'].max()"
   ]
  },
  {
   "cell_type": "markdown",
   "id": "cc83e7f8",
   "metadata": {},
   "source": [
    "Тест закончили на 5 дней ранее, чем условлено в ТЗ. Результаты теста, в связи с этим могут быть искажены."
   ]
  },
  {
   "cell_type": "markdown",
   "id": "d967afec",
   "metadata": {},
   "source": [
    "*Проверим не было ли маркетинговых событий в дни проведения теста.*"
   ]
  },
  {
   "cell_type": "code",
   "execution_count": 27,
   "id": "ab3b6f93",
   "metadata": {},
   "outputs": [],
   "source": [
    "start_date = dt.datetime(2020, 12, 7) # дата запуска теста\n",
    "end_date = dt.datetime(2021, 1, 4) # дата остановки теста\n",
    "# создадим список дат в периоде проведения теста\n",
    "date_list = pd.date_range(\n",
    "            min(start_date, end_date),\n",
    "            max(start_date, end_date)).strftime('%Y-%m-%d').tolist()"
   ]
  },
  {
   "cell_type": "code",
   "execution_count": 28,
   "id": "8c0f33c3",
   "metadata": {},
   "outputs": [
    {
     "data": {
      "text/html": [
       "<div>\n",
       "<style scoped>\n",
       "    .dataframe tbody tr th:only-of-type {\n",
       "        vertical-align: middle;\n",
       "    }\n",
       "\n",
       "    .dataframe tbody tr th {\n",
       "        vertical-align: top;\n",
       "    }\n",
       "\n",
       "    .dataframe thead th {\n",
       "        text-align: right;\n",
       "    }\n",
       "</style>\n",
       "<table border=\"1\" class=\"dataframe\">\n",
       "  <thead>\n",
       "    <tr style=\"text-align: right;\">\n",
       "      <th></th>\n",
       "      <th>name</th>\n",
       "      <th>regions</th>\n",
       "      <th>start_dt</th>\n",
       "      <th>finish_dt</th>\n",
       "    </tr>\n",
       "  </thead>\n",
       "  <tbody>\n",
       "    <tr>\n",
       "      <th>0</th>\n",
       "      <td>Christmas&amp;New Year Promo</td>\n",
       "      <td>EU, N.America</td>\n",
       "      <td>2020-12-25</td>\n",
       "      <td>2021-01-03</td>\n",
       "    </tr>\n",
       "    <tr>\n",
       "      <th>10</th>\n",
       "      <td>CIS New Year Gift Lottery</td>\n",
       "      <td>CIS</td>\n",
       "      <td>2020-12-30</td>\n",
       "      <td>2021-01-07</td>\n",
       "    </tr>\n",
       "  </tbody>\n",
       "</table>\n",
       "</div>"
      ],
      "text/plain": [
       "                         name        regions    start_dt   finish_dt\n",
       "0    Christmas&New Year Promo  EU, N.America  2020-12-25  2021-01-03\n",
       "10  CIS New Year Gift Lottery            CIS  2020-12-30  2021-01-07"
      ]
     },
     "execution_count": 28,
     "metadata": {},
     "output_type": "execute_result"
    }
   ],
   "source": [
    "# сделаем срез маркетинговых событий по условию\n",
    "marketing_events.query('start_dt in @date_list or finish_dt in @date_list')"
   ]
  },
  {
   "cell_type": "markdown",
   "id": "62ebab64",
   "metadata": {},
   "source": [
    "Два глобальных события произошли в дни проведения теста: \n",
    "- **Christmas&New Year Promo** - новогодняя промо-акция,\n",
    "- **CIS New Year Gift Lottery** - новогодняя лотерея."
   ]
  },
  {
   "cell_type": "markdown",
   "id": "942d75e2",
   "metadata": {},
   "source": [
    "Чуть ниже рассмотрим как повлияли эти акции на качество проведения теста."
   ]
  },
  {
   "cell_type": "markdown",
   "id": "8562c54f",
   "metadata": {},
   "source": [
    "**Проверим аудиторию теста, нет ли пользователей, участвующих в двух группах теста одновременно**"
   ]
  },
  {
   "cell_type": "code",
   "execution_count": 29,
   "id": "83ec0399",
   "metadata": {},
   "outputs": [
    {
     "name": "stdout",
     "output_type": "stream",
     "text": [
      "0\n"
     ]
    }
   ],
   "source": [
    "# найдем пересечение одинаковых значений в выборках методом numpy.intersect1d()\n",
    "print(len(np.intersect1d(data.query('group == \"A\"')['user_id']\n",
    "                         , data.query('group == \"B\"')['user_id'])))"
   ]
  },
  {
   "cell_type": "markdown",
   "id": "a27c1209",
   "metadata": {},
   "source": [
    "В выборке данных нет участников, которые есть одновременно в двух группах теста."
   ]
  },
  {
   "cell_type": "markdown",
   "id": "1909ae86",
   "metadata": {},
   "source": [
    "**Проверим аудиторию теста, нет ли пользователей, участвующих в двух тестах одновременно**"
   ]
  },
  {
   "cell_type": "markdown",
   "id": "aeacbb9a",
   "metadata": {},
   "source": [
    "Искать будем пересечение участников основного теста и участников второго теста экспериментальной группы. Даже если участники тестировались в обоих тестах в контрольной группе, на результат эксперимента это не повлияет"
   ]
  },
  {
   "cell_type": "code",
   "execution_count": 30,
   "id": "f6c10d76",
   "metadata": {},
   "outputs": [
    {
     "name": "stdout",
     "output_type": "stream",
     "text": [
      "783\n"
     ]
    }
   ],
   "source": [
    "# найдем пересечение одинаковых значений в выборках \n",
    "print(len(np.intersect1d(data.query('ab_test == \"recommender_system_test\"')['user_id']\n",
    "                         , participants.query('ab_test == \"interface_eu_test\" & group == \"B\"')['user_id'])))"
   ]
  },
  {
   "cell_type": "markdown",
   "id": "2e5238a9",
   "metadata": {},
   "source": [
    "783 пользователя участвовали одновременно в двух тестах и в экспериментальной группе 2-го теста. Данное отклонение означает несоблюдение требования ТЗ, так как уникальных участников теста становится менее 6000 человек (6701 - 783 = 5918 участников). "
   ]
  },
  {
   "cell_type": "code",
   "execution_count": 31,
   "id": "e48d731f",
   "metadata": {},
   "outputs": [],
   "source": [
    "dubl_user = np.intersect1d(data.query('ab_test == \"recommender_system_test\"')['user_id']\n",
    "                         , participants.query('ab_test == \"interface_eu_test\" & group == \"B\"')['user_id'])"
   ]
  },
  {
   "cell_type": "markdown",
   "id": "9fabad8e",
   "metadata": {},
   "source": [
    "Оставим в датасете только \"честных\" пользователей, которые участвовали только в одном тесте."
   ]
  },
  {
   "cell_type": "code",
   "execution_count": 32,
   "id": "7070f26f",
   "metadata": {},
   "outputs": [
    {
     "data": {
      "text/plain": [
       "(5918, 7)"
      ]
     },
     "execution_count": 32,
     "metadata": {},
     "output_type": "execute_result"
    }
   ],
   "source": [
    "data = data.query('user_id not in @dubl_user')\n",
    "data.shape"
   ]
  },
  {
   "cell_type": "markdown",
   "id": "74e45eb6",
   "metadata": {},
   "source": [
    "**Проверим ожидаемый эффект конверсии:** \n",
    "\n",
    "за 14 дней с момента регистрации пользователи покажут улучшение каждой метрики не менее, чем на 10%"
   ]
  },
  {
   "cell_type": "code",
   "execution_count": 33,
   "id": "864c30a4",
   "metadata": {},
   "outputs": [
    {
     "data": {
      "text/html": [
       "<div>\n",
       "<style scoped>\n",
       "    .dataframe tbody tr th:only-of-type {\n",
       "        vertical-align: middle;\n",
       "    }\n",
       "\n",
       "    .dataframe tbody tr th {\n",
       "        vertical-align: top;\n",
       "    }\n",
       "\n",
       "    .dataframe thead th {\n",
       "        text-align: right;\n",
       "    }\n",
       "</style>\n",
       "<table border=\"1\" class=\"dataframe\">\n",
       "  <thead>\n",
       "    <tr style=\"text-align: right;\">\n",
       "      <th></th>\n",
       "      <th>user_id</th>\n",
       "      <th>first_date</th>\n",
       "      <th>region</th>\n",
       "      <th>device</th>\n",
       "      <th>first_dt</th>\n",
       "      <th>group</th>\n",
       "      <th>ab_test</th>\n",
       "      <th>event_dt</th>\n",
       "      <th>event_name</th>\n",
       "      <th>details</th>\n",
       "      <th>date</th>\n",
       "    </tr>\n",
       "  </thead>\n",
       "  <tbody>\n",
       "    <tr>\n",
       "      <th>0</th>\n",
       "      <td>D72A72121175D8BE</td>\n",
       "      <td>2020-12-07</td>\n",
       "      <td>EU</td>\n",
       "      <td>PC</td>\n",
       "      <td>2020-12-07</td>\n",
       "      <td>A</td>\n",
       "      <td>recommender_system_test</td>\n",
       "      <td>2020-12-07 21:52:10</td>\n",
       "      <td>product_page</td>\n",
       "      <td>NaN</td>\n",
       "      <td>2020-12-07</td>\n",
       "    </tr>\n",
       "    <tr>\n",
       "      <th>1</th>\n",
       "      <td>D72A72121175D8BE</td>\n",
       "      <td>2020-12-07</td>\n",
       "      <td>EU</td>\n",
       "      <td>PC</td>\n",
       "      <td>2020-12-07</td>\n",
       "      <td>A</td>\n",
       "      <td>recommender_system_test</td>\n",
       "      <td>2020-12-07 21:52:07</td>\n",
       "      <td>login</td>\n",
       "      <td>NaN</td>\n",
       "      <td>2020-12-07</td>\n",
       "    </tr>\n",
       "    <tr>\n",
       "      <th>2</th>\n",
       "      <td>DD4352CDCF8C3D57</td>\n",
       "      <td>2020-12-07</td>\n",
       "      <td>EU</td>\n",
       "      <td>Android</td>\n",
       "      <td>2020-12-07</td>\n",
       "      <td>B</td>\n",
       "      <td>recommender_system_test</td>\n",
       "      <td>2020-12-07 15:32:54</td>\n",
       "      <td>product_page</td>\n",
       "      <td>NaN</td>\n",
       "      <td>2020-12-07</td>\n",
       "    </tr>\n",
       "    <tr>\n",
       "      <th>3</th>\n",
       "      <td>DD4352CDCF8C3D57</td>\n",
       "      <td>2020-12-07</td>\n",
       "      <td>EU</td>\n",
       "      <td>Android</td>\n",
       "      <td>2020-12-07</td>\n",
       "      <td>B</td>\n",
       "      <td>recommender_system_test</td>\n",
       "      <td>2020-12-08 08:29:31</td>\n",
       "      <td>product_page</td>\n",
       "      <td>NaN</td>\n",
       "      <td>2020-12-08</td>\n",
       "    </tr>\n",
       "    <tr>\n",
       "      <th>4</th>\n",
       "      <td>DD4352CDCF8C3D57</td>\n",
       "      <td>2020-12-07</td>\n",
       "      <td>EU</td>\n",
       "      <td>Android</td>\n",
       "      <td>2020-12-07</td>\n",
       "      <td>B</td>\n",
       "      <td>recommender_system_test</td>\n",
       "      <td>2020-12-10 18:18:27</td>\n",
       "      <td>product_page</td>\n",
       "      <td>NaN</td>\n",
       "      <td>2020-12-10</td>\n",
       "    </tr>\n",
       "  </tbody>\n",
       "</table>\n",
       "</div>"
      ],
      "text/plain": [
       "            user_id first_date region   device    first_dt group  \\\n",
       "0  D72A72121175D8BE 2020-12-07     EU       PC  2020-12-07     A   \n",
       "1  D72A72121175D8BE 2020-12-07     EU       PC  2020-12-07     A   \n",
       "2  DD4352CDCF8C3D57 2020-12-07     EU  Android  2020-12-07     B   \n",
       "3  DD4352CDCF8C3D57 2020-12-07     EU  Android  2020-12-07     B   \n",
       "4  DD4352CDCF8C3D57 2020-12-07     EU  Android  2020-12-07     B   \n",
       "\n",
       "                   ab_test            event_dt    event_name  details  \\\n",
       "0  recommender_system_test 2020-12-07 21:52:10  product_page      NaN   \n",
       "1  recommender_system_test 2020-12-07 21:52:07         login      NaN   \n",
       "2  recommender_system_test 2020-12-07 15:32:54  product_page      NaN   \n",
       "3  recommender_system_test 2020-12-08 08:29:31  product_page      NaN   \n",
       "4  recommender_system_test 2020-12-10 18:18:27  product_page      NaN   \n",
       "\n",
       "         date  \n",
       "0  2020-12-07  \n",
       "1  2020-12-07  \n",
       "2  2020-12-07  \n",
       "3  2020-12-08  \n",
       "4  2020-12-10  "
      ]
     },
     "execution_count": 33,
     "metadata": {},
     "output_type": "execute_result"
    }
   ],
   "source": [
    "# соединим таблицы с данными теста и событиями в одну\n",
    "data = data.merge(new_user_events, how = 'left', left_on='user_id', right_on='user_id')\n",
    "data.head()"
   ]
  },
  {
   "cell_type": "markdown",
   "id": "ed7cb883",
   "metadata": {},
   "source": [
    "Расчитаем конверсию пользователей по каждому событию, с лайфтаймом в 14 дней и ограничением по дате (период анализа = 30.12.2022 минус горизонт анализа 14 дней)"
   ]
  },
  {
   "cell_type": "code",
   "execution_count": 34,
   "id": "9a484e04",
   "metadata": {},
   "outputs": [],
   "source": [
    "# оформим расчеты в виде фунцции\n",
    "def get_conversion(\n",
    "    data,\n",
    "    horizon_days,\n",
    "    dimensions=[]\n",
    "):\n",
    "\n",
    "    # исключаем пользователей, не «доживших» до горизонта анализа\n",
    "    observation_date = datetime(2020, 12, 30).date()\n",
    "    last_suitable_acquisition_date = datetime(2020, 12, 30).date()\n",
    "    ignore_horizon=True\n",
    "    if not ignore_horizon:\n",
    "        last_suitable_acquisition_date = observation_date - timedelta(\n",
    "            days= horizon_days - 1\n",
    "        )\n",
    "    result_raw = data.query('first_date <= @last_suitable_acquisition_date')\n",
    "\n",
    "    # рассчитаем лайфтайм для каждого события\n",
    "    result_raw['lifetime'] = (\n",
    "        result_raw['event_dt'] - result_raw['first_date']\n",
    "    ).dt.days\n",
    "\n",
    "    # функция для группировки таблицы по желаемым признакам\n",
    "    def group_by_dimensions(df, dims, horizon_days):\n",
    "\n",
    "        # построим таблицу конверсии\n",
    "        result = df.pivot_table(\n",
    "            index=dims, columns='lifetime', values='user_id', aggfunc='nunique'\n",
    "        )\n",
    "\n",
    "        # посчитаем сумму с накоплением для каждой строки\n",
    "        result = result.fillna(0).cumsum(axis = 1)\n",
    "\n",
    "        # вычислим размеры когорт\n",
    "        cohort_sizes = (\n",
    "            df.groupby(dims)\n",
    "            .agg({'user_id': 'nunique'})\n",
    "            .rename(columns={'user_id': 'cohort_size'})\n",
    "        )\n",
    "\n",
    "        # объединим таблицы размеров когорт и конверсии\n",
    "        result = cohort_sizes.merge(result, on=dims, how='left').fillna(0)\n",
    "\n",
    "        # разделим каждую «ячейку» в строке на размер когорты\n",
    "        result = result.div(result['cohort_size'], axis=0)\n",
    "\n",
    "        # исключим все лайфтаймы, превышающие горизонт анализа\n",
    "        result = result[['cohort_size'] + list(range(horizon_days))]\n",
    "        # восстановим размеры когорт\n",
    "        result['cohort_size'] = cohort_sizes\n",
    "        return result\n",
    "\n",
    "    # получаем таблицу конверсии\n",
    "    result_grouped = group_by_dimensions(result_raw, dimensions, horizon_days)\n",
    "\n",
    "    # получаем таблицу динамики конверсии\n",
    "    result_in_time = group_by_dimensions(\n",
    "        result_raw, dimensions + ['first_date'], horizon_days\n",
    "    )\n",
    "\n",
    "    # возвращаем обе таблицы и сырые данные\n",
    "    return result_raw, result_grouped, result_in_time "
   ]
  },
  {
   "cell_type": "markdown",
   "id": "ba7a52cf",
   "metadata": {},
   "source": [
    "Посмотрим на конверсию по событиям группы **\"А\"**"
   ]
  },
  {
   "cell_type": "code",
   "execution_count": 35,
   "id": "7a4f603b",
   "metadata": {},
   "outputs": [],
   "source": [
    "conversion_raw, conversion, conversion_history = get_conversion(\n",
    "    data.query('group == \"A\"'), 14, dimensions=['event_name']\n",
    ")"
   ]
  },
  {
   "cell_type": "code",
   "execution_count": 36,
   "id": "254ec01a",
   "metadata": {},
   "outputs": [
    {
     "data": {
      "image/png": "[encoded data removed]",
      "text/plain": [
       "<Figure size 1080x360 with 2 Axes>"
      ]
     },
     "metadata": {
      "needs_background": "light"
     },
     "output_type": "display_data"
    }
   ],
   "source": [
    "# строим хитмэп по таблице конверсии\n",
    "plt.figure(figsize=(15, 5))\n",
    "sns.heatmap(conversion.drop(columns=['cohort_size']), annot=True, fmt='.2%')\n",
    "plt.title('Тепловая карта конверсии по событиям')\n",
    "plt.show() "
   ]
  },
  {
   "cell_type": "code",
   "execution_count": 37,
   "id": "20a11603",
   "metadata": {},
   "outputs": [
    {
     "data": {
      "image/png": "[encoded data removed]",
      "text/plain": [
       "<Figure size 1440x432 with 1 Axes>"
      ]
     },
     "metadata": {
      "needs_background": "light"
     },
     "output_type": "display_data"
    }
   ],
   "source": [
    "# построим кривые конверсии\n",
    "plt.subplots(figsize=(20,6))\n",
    "conversion.drop(columns=['cohort_size']).T.plot(\n",
    "    grid=True, xticks=list(conversion.drop(columns=['cohort_size']).columns.values), ax=plt.subplot(1, 2, 2))\n",
    "plt.title('Кривые конверсии по событиям')\n",
    "plt.show()"
   ]
  },
  {
   "cell_type": "markdown",
   "id": "947b37be",
   "metadata": {},
   "source": [
    "Конверсии каждого события участников группы А на 14 день после регистрации составляет почти 300%."
   ]
  },
  {
   "cell_type": "markdown",
   "id": "394611f8",
   "metadata": {},
   "source": [
    "Посмотрим на конверсию по событиям группы **\"В\"**"
   ]
  },
  {
   "cell_type": "code",
   "execution_count": 38,
   "id": "88f90a0b",
   "metadata": {},
   "outputs": [],
   "source": [
    "conversion_raw, conversion, conversion_history = get_conversion(\n",
    "    data.query('group == \"B\"'), 14, dimensions=['event_name']\n",
    ")"
   ]
  },
  {
   "cell_type": "code",
   "execution_count": 39,
   "id": "c5bb8715",
   "metadata": {},
   "outputs": [
    {
     "data": {
      "image/png": "[encoded data removed]",
      "text/plain": [
       "<Figure size 1080x360 with 2 Axes>"
      ]
     },
     "metadata": {
      "needs_background": "light"
     },
     "output_type": "display_data"
    }
   ],
   "source": [
    "# строим хитмэп по таблице конверсии\n",
    "plt.figure(figsize=(15, 5))\n",
    "sns.heatmap(conversion.drop(columns=['cohort_size']), annot=True, fmt='.2%')\n",
    "plt.title('Тепловая карта конверсии по событиям')\n",
    "plt.show() "
   ]
  },
  {
   "cell_type": "code",
   "execution_count": 40,
   "id": "3c05e46d",
   "metadata": {},
   "outputs": [
    {
     "data": {
      "image/png": "[encoded data removed]",
      "text/plain": [
       "<Figure size 1440x432 with 1 Axes>"
      ]
     },
     "metadata": {
      "needs_background": "light"
     },
     "output_type": "display_data"
    }
   ],
   "source": [
    "# построим кривые конверсии\n",
    "plt.subplots(figsize=(20,6))\n",
    "conversion.drop(columns=['cohort_size']).T.plot(\n",
    "    grid=True, xticks=list(conversion.drop(columns=['cohort_size']).columns.values), ax=plt.subplot(1, 2, 2))\n",
    "plt.title('Кривые конверсии по событиям')\n",
    "plt.show()"
   ]
  },
  {
   "cell_type": "markdown",
   "id": "34492c81",
   "metadata": {},
   "source": [
    "В экспериментальной группе конверсия в событиях чуть ниже, чем в группе \"А\", в среднем составляет около 250% через 14 дней после регистрации."
   ]
  },
  {
   "cell_type": "markdown",
   "id": "dda7da5f",
   "metadata": {},
   "source": [
    "*Оставим в датасете события, которые произошли не более 14 дней с момента регистрации.*"
   ]
  },
  {
   "cell_type": "markdown",
   "id": "18038a92",
   "metadata": {},
   "source": [
    "Для этого расчитаем лайфтайм, посмотрим на количество событий и, при необходимости, откинем неактуальные данные"
   ]
  },
  {
   "cell_type": "code",
   "execution_count": 41,
   "id": "02b383cd",
   "metadata": {},
   "outputs": [
    {
     "data": {
      "text/plain": [
       "0.0     7181\n",
       "1.0     3357\n",
       "2.0     2265\n",
       "3.0     1613\n",
       "4.0     1316\n",
       "5.0     1051\n",
       "6.0      936\n",
       "7.0      875\n",
       "8.0      671\n",
       "9.0      544\n",
       "10.0     467\n",
       "11.0     300\n",
       "12.0     289\n",
       "13.0     220\n",
       "14.0     191\n",
       "15.0     160\n",
       "16.0      83\n",
       "17.0      79\n",
       "18.0      69\n",
       "20.0      65\n",
       "19.0      54\n",
       "21.0      31\n",
       "22.0      21\n",
       "23.0       4\n",
       "Name: lifetime, dtype: int64"
      ]
     },
     "execution_count": 41,
     "metadata": {},
     "output_type": "execute_result"
    }
   ],
   "source": [
    "data['lifetime'] = (data['event_dt'] - data['first_date']).dt.days\n",
    "data['lifetime'].value_counts()"
   ]
  },
  {
   "cell_type": "markdown",
   "id": "461d2825",
   "metadata": {},
   "source": [
    "Все события с лайфтаймом более 14 дней убираем из датасета"
   ]
  },
  {
   "cell_type": "code",
   "execution_count": 42,
   "id": "113d2506",
   "metadata": {},
   "outputs": [
    {
     "data": {
      "text/html": [
       "<div>\n",
       "<style scoped>\n",
       "    .dataframe tbody tr th:only-of-type {\n",
       "        vertical-align: middle;\n",
       "    }\n",
       "\n",
       "    .dataframe tbody tr th {\n",
       "        vertical-align: top;\n",
       "    }\n",
       "\n",
       "    .dataframe thead th {\n",
       "        text-align: right;\n",
       "    }\n",
       "</style>\n",
       "<table border=\"1\" class=\"dataframe\">\n",
       "  <thead>\n",
       "    <tr style=\"text-align: right;\">\n",
       "      <th></th>\n",
       "      <th>user_id</th>\n",
       "      <th>first_date</th>\n",
       "      <th>region</th>\n",
       "      <th>device</th>\n",
       "      <th>first_dt</th>\n",
       "      <th>group</th>\n",
       "      <th>ab_test</th>\n",
       "      <th>event_dt</th>\n",
       "      <th>event_name</th>\n",
       "      <th>details</th>\n",
       "      <th>date</th>\n",
       "      <th>lifetime</th>\n",
       "    </tr>\n",
       "  </thead>\n",
       "  <tbody>\n",
       "    <tr>\n",
       "      <th>0</th>\n",
       "      <td>D72A72121175D8BE</td>\n",
       "      <td>2020-12-07</td>\n",
       "      <td>EU</td>\n",
       "      <td>PC</td>\n",
       "      <td>2020-12-07</td>\n",
       "      <td>A</td>\n",
       "      <td>recommender_system_test</td>\n",
       "      <td>2020-12-07 21:52:10</td>\n",
       "      <td>product_page</td>\n",
       "      <td>NaN</td>\n",
       "      <td>2020-12-07</td>\n",
       "      <td>0.0</td>\n",
       "    </tr>\n",
       "    <tr>\n",
       "      <th>1</th>\n",
       "      <td>D72A72121175D8BE</td>\n",
       "      <td>2020-12-07</td>\n",
       "      <td>EU</td>\n",
       "      <td>PC</td>\n",
       "      <td>2020-12-07</td>\n",
       "      <td>A</td>\n",
       "      <td>recommender_system_test</td>\n",
       "      <td>2020-12-07 21:52:07</td>\n",
       "      <td>login</td>\n",
       "      <td>NaN</td>\n",
       "      <td>2020-12-07</td>\n",
       "      <td>0.0</td>\n",
       "    </tr>\n",
       "    <tr>\n",
       "      <th>2</th>\n",
       "      <td>DD4352CDCF8C3D57</td>\n",
       "      <td>2020-12-07</td>\n",
       "      <td>EU</td>\n",
       "      <td>Android</td>\n",
       "      <td>2020-12-07</td>\n",
       "      <td>B</td>\n",
       "      <td>recommender_system_test</td>\n",
       "      <td>2020-12-07 15:32:54</td>\n",
       "      <td>product_page</td>\n",
       "      <td>NaN</td>\n",
       "      <td>2020-12-07</td>\n",
       "      <td>0.0</td>\n",
       "    </tr>\n",
       "    <tr>\n",
       "      <th>3</th>\n",
       "      <td>DD4352CDCF8C3D57</td>\n",
       "      <td>2020-12-07</td>\n",
       "      <td>EU</td>\n",
       "      <td>Android</td>\n",
       "      <td>2020-12-07</td>\n",
       "      <td>B</td>\n",
       "      <td>recommender_system_test</td>\n",
       "      <td>2020-12-08 08:29:31</td>\n",
       "      <td>product_page</td>\n",
       "      <td>NaN</td>\n",
       "      <td>2020-12-08</td>\n",
       "      <td>1.0</td>\n",
       "    </tr>\n",
       "    <tr>\n",
       "      <th>4</th>\n",
       "      <td>DD4352CDCF8C3D57</td>\n",
       "      <td>2020-12-07</td>\n",
       "      <td>EU</td>\n",
       "      <td>Android</td>\n",
       "      <td>2020-12-07</td>\n",
       "      <td>B</td>\n",
       "      <td>recommender_system_test</td>\n",
       "      <td>2020-12-10 18:18:27</td>\n",
       "      <td>product_page</td>\n",
       "      <td>NaN</td>\n",
       "      <td>2020-12-10</td>\n",
       "      <td>3.0</td>\n",
       "    </tr>\n",
       "  </tbody>\n",
       "</table>\n",
       "</div>"
      ],
      "text/plain": [
       "            user_id first_date region   device    first_dt group  \\\n",
       "0  D72A72121175D8BE 2020-12-07     EU       PC  2020-12-07     A   \n",
       "1  D72A72121175D8BE 2020-12-07     EU       PC  2020-12-07     A   \n",
       "2  DD4352CDCF8C3D57 2020-12-07     EU  Android  2020-12-07     B   \n",
       "3  DD4352CDCF8C3D57 2020-12-07     EU  Android  2020-12-07     B   \n",
       "4  DD4352CDCF8C3D57 2020-12-07     EU  Android  2020-12-07     B   \n",
       "\n",
       "                   ab_test            event_dt    event_name  details  \\\n",
       "0  recommender_system_test 2020-12-07 21:52:10  product_page      NaN   \n",
       "1  recommender_system_test 2020-12-07 21:52:07         login      NaN   \n",
       "2  recommender_system_test 2020-12-07 15:32:54  product_page      NaN   \n",
       "3  recommender_system_test 2020-12-08 08:29:31  product_page      NaN   \n",
       "4  recommender_system_test 2020-12-10 18:18:27  product_page      NaN   \n",
       "\n",
       "         date  lifetime  \n",
       "0  2020-12-07       0.0  \n",
       "1  2020-12-07       0.0  \n",
       "2  2020-12-07       0.0  \n",
       "3  2020-12-08       1.0  \n",
       "4  2020-12-10       3.0  "
      ]
     },
     "execution_count": 42,
     "metadata": {},
     "output_type": "execute_result"
    }
   ],
   "source": [
    "data = data.query('lifetime < 14')\n",
    "data.head()"
   ]
  },
  {
   "cell_type": "code",
   "execution_count": 43,
   "id": "100a5589",
   "metadata": {},
   "outputs": [
    {
     "data": {
      "text/plain": [
       "3244"
      ]
     },
     "execution_count": 43,
     "metadata": {},
     "output_type": "execute_result"
    }
   ],
   "source": [
    "# посчитаем ещё раз уникальных участников теста\n",
    "data['user_id'].nunique()"
   ]
  },
  {
   "cell_type": "markdown",
   "id": "5ff23ef9",
   "metadata": {},
   "source": [
    "**Итоги проверки предоставленных данных теста на соблюдение требований ТЗ:**"
   ]
  },
  {
   "cell_type": "markdown",
   "id": "e5989177",
   "metadata": {},
   "source": [
    "- 14% новых пользователей из EU. Требование невыполнено.\n",
    "- Даты начала и окончания регистрации новых пользователей соответствуют ТЗ.\n",
    "- Дата окончания теста на 5 дней раньше заявленной в ТЗ. Требование не выполнено.\n",
    "- 3244 уникальных участников теста. Требование не выполнено.\n",
    "- Две группы участников теста, участники не пересекаются. Требование выполнено.\n",
    "- Тестирование пересекается с двумя глобальными промо-акциями. Требование не выполнено."
   ]
  },
  {
   "cell_type": "markdown",
   "id": "d76e960f",
   "metadata": {},
   "source": [
    "В связи с тем, что несколько ключевых требований технического задания не были соблюдены, становится сложно предполагать о корректности результатов тестирования и их интерпретации.\n",
    "\n",
    "Тем не менее анализ теста проведем и сделаем выводы."
   ]
  },
  {
   "cell_type": "markdown",
   "id": "4b40cfbd",
   "metadata": {},
   "source": [
    "## Этап 4. Исследовательский анализ"
   ]
  },
  {
   "cell_type": "markdown",
   "id": "4ab3bb9b",
   "metadata": {},
   "source": [
    "**Одинаково ли события на пользователя распределены в выборках?**"
   ]
  },
  {
   "cell_type": "markdown",
   "id": "5ae00dbf",
   "metadata": {},
   "source": [
    "Посмотрим есть ли пропуски по событиям"
   ]
  },
  {
   "cell_type": "code",
   "execution_count": 44,
   "id": "3163a0d6",
   "metadata": {},
   "outputs": [],
   "source": [
    "data_null = data[data['event_name'].isnull()]"
   ]
  },
  {
   "cell_type": "code",
   "execution_count": 45,
   "id": "aac51db7",
   "metadata": {},
   "outputs": [
    {
     "name": "stdout",
     "output_type": "stream",
     "text": [
      "Клиентов без событий: 0\n",
      "Клиентов с событиями: 3244\n"
     ]
    }
   ],
   "source": [
    "print('Клиентов без событий:', data_null['user_id'].nunique())\n",
    "print('Клиентов с событиями:', data['user_id'].nunique()- data_null['user_id'].nunique())"
   ]
  },
  {
   "cell_type": "markdown",
   "id": "ddb45b3c",
   "metadata": {},
   "source": [
    "Пропусков в событиях нет"
   ]
  },
  {
   "cell_type": "markdown",
   "id": "8d507dd8",
   "metadata": {},
   "source": [
    "Посчитаем количество событий на одного пользователя."
   ]
  },
  {
   "cell_type": "code",
   "execution_count": 46,
   "id": "45b5955e",
   "metadata": {},
   "outputs": [
    {
     "name": "stdout",
     "output_type": "stream",
     "text": [
      "Среднее количество событий на пользователя: 6.56\n"
     ]
    }
   ],
   "source": [
    "print('Среднее количество событий на пользователя:'\n",
    "      , (data['event_name'].count()/data['user_id'].nunique()).round(2))"
   ]
  },
  {
   "cell_type": "markdown",
   "id": "b76e1a2f",
   "metadata": {},
   "source": [
    "Проверим наличие/отсутствие аномальных пользователей, таких у которых большое количество событий"
   ]
  },
  {
   "cell_type": "code",
   "execution_count": 47,
   "id": "e80bc8fb",
   "metadata": {},
   "outputs": [
    {
     "data": {
      "image/png": "[encoded data removed]",
      "text/plain": [
       "<Figure size 576x396 with 1 Axes>"
      ]
     },
     "metadata": {},
     "output_type": "display_data"
    }
   ],
   "source": [
    "plt.style.use(\"seaborn\")\n",
    "data.groupby('user_id').agg({'event_name':'count'}).boxplot()\n",
    "plt.show()"
   ]
  },
  {
   "cell_type": "markdown",
   "id": "6b55d6fd",
   "metadata": {},
   "source": [
    "15 событий и больше, такие клиенты явно выбиваются из общего числа."
   ]
  },
  {
   "cell_type": "code",
   "execution_count": 48,
   "id": "8c9b8f20",
   "metadata": {},
   "outputs": [
    {
     "data": {
      "text/plain": [
       "array([12., 14., 18.])"
      ]
     },
     "execution_count": 48,
     "metadata": {},
     "output_type": "execute_result"
    }
   ],
   "source": [
    "# применим метод percentile()\n",
    "np.percentile(data.groupby('user_id').agg({'event_name':'count'}), [90, 95, 99])"
   ]
  },
  {
   "cell_type": "markdown",
   "id": "bfd5dc45",
   "metadata": {},
   "source": [
    "1 % клиентов с количеством событий более 18 - выбросы"
   ]
  },
  {
   "cell_type": "markdown",
   "id": "50486a50",
   "metadata": {},
   "source": [
    "**Посмотрим на распределение событий по группам**"
   ]
  },
  {
   "cell_type": "code",
   "execution_count": 49,
   "id": "1d9bb64c",
   "metadata": {},
   "outputs": [
    {
     "data": {
      "image/png": "[encoded data removed]",
      "text/plain": [
       "<Figure size 576x396 with 1 Axes>"
      ]
     },
     "metadata": {},
     "output_type": "display_data"
    }
   ],
   "source": [
    "event_group = pd.pivot_table(data,\n",
    "                   values=[\"event_name\"],\n",
    "                   index=['user_id', 'group'],\n",
    "                   aggfunc=['count'])\n",
    "event_group.columns = ['event_counts']\n",
    "event_group = event_group.sort_values(by=['user_id','group']).reset_index()\n",
    "sns.boxplot(data=event_group, x = \"group\",  y=\"event_counts\")\n",
    "plt.show()"
   ]
  },
  {
   "cell_type": "code",
   "execution_count": 50,
   "id": "d37387ea",
   "metadata": {},
   "outputs": [
    {
     "data": {
      "text/html": [
       "<div>\n",
       "<style scoped>\n",
       "    .dataframe tbody tr th:only-of-type {\n",
       "        vertical-align: middle;\n",
       "    }\n",
       "\n",
       "    .dataframe tbody tr th {\n",
       "        vertical-align: top;\n",
       "    }\n",
       "\n",
       "    .dataframe thead th {\n",
       "        text-align: right;\n",
       "    }\n",
       "</style>\n",
       "<table border=\"1\" class=\"dataframe\">\n",
       "  <thead>\n",
       "    <tr style=\"text-align: right;\">\n",
       "      <th></th>\n",
       "      <th>event_counts</th>\n",
       "    </tr>\n",
       "    <tr>\n",
       "      <th>group</th>\n",
       "      <th></th>\n",
       "    </tr>\n",
       "  </thead>\n",
       "  <tbody>\n",
       "    <tr>\n",
       "      <th>A</th>\n",
       "      <td>6.945087</td>\n",
       "    </tr>\n",
       "    <tr>\n",
       "      <th>B</th>\n",
       "      <td>5.419708</td>\n",
       "    </tr>\n",
       "  </tbody>\n",
       "</table>\n",
       "</div>"
      ],
      "text/plain": [
       "       event_counts\n",
       "group              \n",
       "A          6.945087\n",
       "B          5.419708"
      ]
     },
     "execution_count": 50,
     "metadata": {},
     "output_type": "execute_result"
    }
   ],
   "source": [
    "event_group.groupby('group').agg({'event_counts':'mean'})"
   ]
  },
  {
   "cell_type": "markdown",
   "id": "91a5097b",
   "metadata": {},
   "source": [
    "В контрольной группе \"А\" среднее количество событий на пользователя - почти 7.\n",
    "\n",
    "В группе \"В\" - среднее количество событий на пользователя чуть меньше - 5.4"
   ]
  },
  {
   "cell_type": "markdown",
   "id": "9f2c9e1d",
   "metadata": {},
   "source": [
    "**Как число событий в выборках распределено по дням?**"
   ]
  },
  {
   "cell_type": "code",
   "execution_count": 51,
   "id": "d6b94d2c",
   "metadata": {},
   "outputs": [
    {
     "data": {
      "image/png": "[encoded data removed]",
      "text/plain": [
       "<Figure size 1008x504 with 1 Axes>"
      ]
     },
     "metadata": {},
     "output_type": "display_data"
    }
   ],
   "source": [
    "# посмотрим на распределение событий по датам на графике\n",
    "event_name_date = data.pivot_table(index='date'\n",
    "                                   , values='event_name'\n",
    "                                   , aggfunc='count').sort_values(by=['date'], ascending = False)\n",
    "ax = event_name_date.plot(kind='barh', legend=False, grid=False, figsize=(14,7), color=\"goldenrod\")\n",
    "for i, v in enumerate(event_name_date['event_name']):\n",
    "    ax.text(v + 0, i + .0, str(v), verticalalignment='center')\n",
    "plt.title('Количество событий по датам', fontsize=15)\n",
    "plt.xlabel(\"Количество событий\")\n",
    "plt.ylabel(\"Даты\")\n",
    "plt.show()"
   ]
  },
  {
   "cell_type": "markdown",
   "id": "859b3e95",
   "metadata": {},
   "source": [
    "Ранее мы обнаружили, что в период проведения теста проходили две промо-акции: 25 декабря - новогодняя в Америки и Европе и 30 декабря - лотерея в странах СНГ. Из графика распределения событий по дням видно, что увеличения количества событий в эти и последующие дни не обнаружено. Можно предположить, что промо-акции на качество теста не повлияли."
   ]
  },
  {
   "cell_type": "markdown",
   "id": "5ff60287",
   "metadata": {},
   "source": [
    "**Распределение событий по дням в разбивке по группам**"
   ]
  },
  {
   "cell_type": "code",
   "execution_count": 52,
   "id": "a3f943c1",
   "metadata": {},
   "outputs": [
    {
     "data": {
      "image/png": "[encoded data removed]",
      "text/plain": [
       "<Figure size 1008x504 with 1 Axes>"
      ]
     },
     "metadata": {},
     "output_type": "display_data"
    }
   ],
   "source": [
    "event_name_group = pd.pivot_table(data,\n",
    "                   values=[\"user_id\"],\n",
    "                   index=['date', 'group'],\n",
    "                   aggfunc=['count'])\n",
    "event_name_group.columns = ['user_counts']\n",
    "event_name_group = event_name_group.sort_values(by=['date','group']).reset_index()\n",
    "\n",
    "plt.subplots(figsize=(14,7))    \n",
    "sns.barplot(y = 'date', x = 'user_counts', hue = 'group', data = event_name_group, palette='YlOrBr')\n",
    "\n",
    "ax.legend(loc = 'upper left') \n",
    "ax.grid(True)\n",
    "plt.xticks(rotation=90)\n",
    "plt.legend()\n",
    "plt.title('Распредение событий по дням в разбивке на группы', fontsize=16, pad=25)\n",
    "plt.xlabel(\"Даты\")\n",
    "plt.ylabel(\"Количество пользователей\")\n",
    "plt.show()"
   ]
  },
  {
   "cell_type": "markdown",
   "id": "dfce5275",
   "metadata": {},
   "source": [
    "Практически на протяжении всего теста наблюдается большой перекос количества событий в сторону контрольной группы А. Особенно с 14 по 22 декабря."
   ]
  },
  {
   "cell_type": "code",
   "execution_count": 53,
   "id": "bed81eff",
   "metadata": {},
   "outputs": [
    {
     "data": {
      "text/plain": [
       "login           9634\n",
       "product_page    5952\n",
       "purchase        2866\n",
       "product_cart    2824\n",
       "Name: event_name, dtype: int64"
      ]
     },
     "execution_count": 53,
     "metadata": {},
     "output_type": "execute_result"
    }
   ],
   "source": [
    "#количество событий по видам\n",
    "data['event_name'].value_counts()"
   ]
  },
  {
   "cell_type": "code",
   "execution_count": 54,
   "id": "e19fbb18",
   "metadata": {},
   "outputs": [
    {
     "data": {
      "text/html": [
       "<div>\n",
       "<style scoped>\n",
       "    .dataframe tbody tr th:only-of-type {\n",
       "        vertical-align: middle;\n",
       "    }\n",
       "\n",
       "    .dataframe tbody tr th {\n",
       "        vertical-align: top;\n",
       "    }\n",
       "\n",
       "    .dataframe thead th {\n",
       "        text-align: right;\n",
       "    }\n",
       "</style>\n",
       "<table border=\"1\" class=\"dataframe\">\n",
       "  <thead>\n",
       "    <tr style=\"text-align: right;\">\n",
       "      <th></th>\n",
       "      <th>event_name</th>\n",
       "      <th>nunique</th>\n",
       "      <th>percent, %</th>\n",
       "    </tr>\n",
       "  </thead>\n",
       "  <tbody>\n",
       "    <tr>\n",
       "      <th>0</th>\n",
       "      <td>login</td>\n",
       "      <td>3243</td>\n",
       "      <td>100.0</td>\n",
       "    </tr>\n",
       "    <tr>\n",
       "      <th>1</th>\n",
       "      <td>product_page</td>\n",
       "      <td>2030</td>\n",
       "      <td>62.6</td>\n",
       "    </tr>\n",
       "    <tr>\n",
       "      <th>2</th>\n",
       "      <td>purchase</td>\n",
       "      <td>999</td>\n",
       "      <td>30.8</td>\n",
       "    </tr>\n",
       "    <tr>\n",
       "      <th>3</th>\n",
       "      <td>product_cart</td>\n",
       "      <td>953</td>\n",
       "      <td>29.4</td>\n",
       "    </tr>\n",
       "  </tbody>\n",
       "</table>\n",
       "</div>"
      ],
      "text/plain": [
       "     event_name  nunique  percent, %\n",
       "0         login     3243       100.0\n",
       "1  product_page     2030        62.6\n",
       "2      purchase      999        30.8\n",
       "3  product_cart      953        29.4"
      ]
     },
     "execution_count": 54,
     "metadata": {},
     "output_type": "execute_result"
    }
   ],
   "source": [
    "#посчитаем пользователей по каждому событию\n",
    "event_count = (data\n",
    "               .pivot_table(index='event_name'\n",
    "                                   , values='user_id'\n",
    "                                   , aggfunc={'nunique'})\n",
    "               .sort_values('nunique', ascending=False)\n",
    "               .reset_index()\n",
    "              )\n",
    "#посчитаем долю пользователей, которые хоть раз совершали событие\n",
    "event_count['percent, %'] = (event_count['nunique']/data['user_id'].nunique()*100).round(1)\n",
    "event_count"
   ]
  },
  {
   "cell_type": "markdown",
   "id": "1998171e",
   "metadata": {},
   "source": [
    "Расшифруем события и опишем результат:"
   ]
  },
  {
   "cell_type": "markdown",
   "id": "1f14b416",
   "metadata": {},
   "source": [
    "* *login* - вход на сайт. **100%** пользователей зашли на сайт(приложение).\n",
    "* *product_page* - просмотр каталога товаров. **62,6%** пользователей просмотрели страницу продуктов.\n",
    "* *purchase* - просмотр корзины. **30,8%** пользователей просмотрели корзину с добавленными продуктами.\n",
    "* *product_cart* - покупка товара. **29,4%** пользователей совершили оплату."
   ]
  },
  {
   "cell_type": "markdown",
   "id": "3126effd",
   "metadata": {},
   "source": [
    "Из данного списка событий, отсортированного по убыванию процентов конверсии, выделяется нелогичная  последовательность:\n",
    "по логике перехода пользователей на следующее событие, после залогинивания и просмотра каталога товаров должно следовать добавление в корзину (вход в корзину), а в конце покупка. Процент конверсии также должен идти на убыль в такой последовательности. В нашем случае процент событий покупки больше чем просмотров в корзину. Это может означать, что, либо есть возможность купить товар, минуя просмотр корзины, либо происходила системная ошибка.\n"
   ]
  },
  {
   "cell_type": "markdown",
   "id": "4b43f0cd",
   "metadata": {},
   "source": [
    "Разделим общий датафрейм на две группы"
   ]
  },
  {
   "cell_type": "code",
   "execution_count": 59,
   "id": "3aad0a9e",
   "metadata": {},
   "outputs": [],
   "source": [
    "data_a = data.query('group == \"A\"')\n",
    "data_b = data.query('group == \"B\"')"
   ]
  },
  {
   "cell_type": "code",
   "execution_count": 60,
   "id": "4bcaf768",
   "metadata": {},
   "outputs": [
    {
     "data": {
      "text/html": [
       "<div>\n",
       "<style scoped>\n",
       "    .dataframe tbody tr th:only-of-type {\n",
       "        vertical-align: middle;\n",
       "    }\n",
       "\n",
       "    .dataframe tbody tr th {\n",
       "        vertical-align: top;\n",
       "    }\n",
       "\n",
       "    .dataframe thead th {\n",
       "        text-align: right;\n",
       "    }\n",
       "</style>\n",
       "<table border=\"1\" class=\"dataframe\">\n",
       "  <thead>\n",
       "    <tr style=\"text-align: right;\">\n",
       "      <th></th>\n",
       "      <th>event_name</th>\n",
       "      <th>nunique</th>\n",
       "      <th>percent, %</th>\n",
       "    </tr>\n",
       "  </thead>\n",
       "  <tbody>\n",
       "    <tr>\n",
       "      <th>0</th>\n",
       "      <td>login</td>\n",
       "      <td>2422</td>\n",
       "      <td>100.0</td>\n",
       "    </tr>\n",
       "    <tr>\n",
       "      <th>1</th>\n",
       "      <td>product_page</td>\n",
       "      <td>1571</td>\n",
       "      <td>64.9</td>\n",
       "    </tr>\n",
       "    <tr>\n",
       "      <th>2</th>\n",
       "      <td>purchase</td>\n",
       "      <td>773</td>\n",
       "      <td>31.9</td>\n",
       "    </tr>\n",
       "    <tr>\n",
       "      <th>3</th>\n",
       "      <td>product_cart</td>\n",
       "      <td>728</td>\n",
       "      <td>30.1</td>\n",
       "    </tr>\n",
       "  </tbody>\n",
       "</table>\n",
       "</div>"
      ],
      "text/plain": [
       "     event_name  nunique  percent, %\n",
       "0         login     2422       100.0\n",
       "1  product_page     1571        64.9\n",
       "2      purchase      773        31.9\n",
       "3  product_cart      728        30.1"
      ]
     },
     "execution_count": 60,
     "metadata": {},
     "output_type": "execute_result"
    }
   ],
   "source": [
    "#посчитаем пользователей по каждому событию в группе А\n",
    "event_count_a = (data_a\n",
    "               .pivot_table(index='event_name'\n",
    "                                   , values='user_id'\n",
    "                                   , aggfunc={'nunique'})\n",
    "               .sort_values('nunique', ascending=False)\n",
    "               .reset_index()\n",
    "              )\n",
    "#посчитаем долю пользователей, которые хоть раз совершали событие\n",
    "event_count_a['percent, %'] = (event_count_a['nunique']/data_a['user_id'].nunique()*100).round(1)\n",
    "event_count_a"
   ]
  },
  {
   "cell_type": "code",
   "execution_count": 61,
   "id": "ade7626b",
   "metadata": {},
   "outputs": [
    {
     "data": {
      "text/html": [
       "<div>\n",
       "<style scoped>\n",
       "    .dataframe tbody tr th:only-of-type {\n",
       "        vertical-align: middle;\n",
       "    }\n",
       "\n",
       "    .dataframe tbody tr th {\n",
       "        vertical-align: top;\n",
       "    }\n",
       "\n",
       "    .dataframe thead th {\n",
       "        text-align: right;\n",
       "    }\n",
       "</style>\n",
       "<table border=\"1\" class=\"dataframe\">\n",
       "  <thead>\n",
       "    <tr style=\"text-align: right;\">\n",
       "      <th></th>\n",
       "      <th>event_name</th>\n",
       "      <th>nunique</th>\n",
       "      <th>percent, %</th>\n",
       "    </tr>\n",
       "  </thead>\n",
       "  <tbody>\n",
       "    <tr>\n",
       "      <th>0</th>\n",
       "      <td>login</td>\n",
       "      <td>821</td>\n",
       "      <td>99.9</td>\n",
       "    </tr>\n",
       "    <tr>\n",
       "      <th>1</th>\n",
       "      <td>product_page</td>\n",
       "      <td>459</td>\n",
       "      <td>55.8</td>\n",
       "    </tr>\n",
       "    <tr>\n",
       "      <th>2</th>\n",
       "      <td>purchase</td>\n",
       "      <td>226</td>\n",
       "      <td>27.5</td>\n",
       "    </tr>\n",
       "    <tr>\n",
       "      <th>3</th>\n",
       "      <td>product_cart</td>\n",
       "      <td>225</td>\n",
       "      <td>27.4</td>\n",
       "    </tr>\n",
       "  </tbody>\n",
       "</table>\n",
       "</div>"
      ],
      "text/plain": [
       "     event_name  nunique  percent, %\n",
       "0         login      821        99.9\n",
       "1  product_page      459        55.8\n",
       "2      purchase      226        27.5\n",
       "3  product_cart      225        27.4"
      ]
     },
     "execution_count": 61,
     "metadata": {},
     "output_type": "execute_result"
    }
   ],
   "source": [
    "#посчитаем пользователей по каждому событию в группе В\n",
    "event_count_b = (data_b\n",
    "               .pivot_table(index='event_name'\n",
    "                                   , values='user_id'\n",
    "                                   , aggfunc={'nunique'})\n",
    "               .sort_values('nunique', ascending=False)\n",
    "               .reset_index()\n",
    "              )\n",
    "#посчитаем долю пользователей, которые хоть раз совершали событие\n",
    "event_count_b['percent, %'] = (event_count_b['nunique']/data_b['user_id'].nunique()*100).round(1)\n",
    "\n",
    "event_count_b"
   ]
  },
  {
   "cell_type": "markdown",
   "id": "8b6fc766",
   "metadata": {},
   "source": [
    "В разбивке по группам нелогичная последовательность конверсий в событиях сохраняется"
   ]
  },
  {
   "cell_type": "markdown",
   "id": "5482ea7e",
   "metadata": {},
   "source": [
    "В группе \"А\" пользователей, которые совершили хоть одно событие, больше чем в группе \"В\" в 3 раза."
   ]
  },
  {
   "cell_type": "markdown",
   "id": "d47c4f9c",
   "metadata": {},
   "source": [
    "**Построим воронку событий по группам**"
   ]
  },
  {
   "cell_type": "code",
   "execution_count": 62,
   "id": "b472e24e",
   "metadata": {},
   "outputs": [
    {
     "data": {
      "application/vnd.plotly.v1+json": {
       "config": {
        "plotlyServerURL": "https://plot.ly"
       },
       "data": [
        {
         "marker": {
          "color": [
           "maroon",
           "brown",
           "indianred",
           "coral"
          ]
         },
         "name": "A",
         "textinfo": "value+percent initial",
         "type": "funnel",
         "x": [
          2422,
          1571,
          728,
          773
         ],
         "y": [
          "login",
          "product_page",
          "product_cart",
          "purchase"
         ]
        },
        {
         "marker": {
          "color": [
           "darkolivegreen",
           "olivedrab",
           "yellowgreen",
           "greenyellow"
          ]
         },
         "name": "B",
         "orientation": "h",
         "textinfo": "value+percent initial",
         "textposition": "inside",
         "type": "funnel",
         "x": [
          821,
          459,
          225,
          226
         ],
         "y": [
          "login",
          "product_page",
          "product_cart",
          "purchase"
         ]
        }
       ],
       "layout": {
        "font": {
         "size": 16
        },
        "template": {
         "data": {
          "bar": [
           {
            "error_x": {
             "color": "#2a3f5f"
            },
            "error_y": {
             "color": "#2a3f5f"
            },
            "marker": {
             "line": {
              "color": "white",
              "width": 0.5
             },
             "pattern": {
              "fillmode": "overlay",
              "size": 10,
              "solidity": 0.2
             }
            },
            "type": "bar"
           }
          ],
          "barpolar": [
           {
            "marker": {
             "line": {
              "color": "white",
              "width": 0.5
             },
             "pattern": {
              "fillmode": "overlay",
              "size": 10,
              "solidity": 0.2
             }
            },
            "type": "barpolar"
           }
          ],
          "carpet": [
           {
            "aaxis": {
             "endlinecolor": "#2a3f5f",
             "gridcolor": "#C8D4E3",
             "linecolor": "#C8D4E3",
             "minorgridcolor": "#C8D4E3",
             "startlinecolor": "#2a3f5f"
            },
            "baxis": {
             "endlinecolor": "#2a3f5f",
             "gridcolor": "#C8D4E3",
             "linecolor": "#C8D4E3",
             "minorgridcolor": "#C8D4E3",
             "startlinecolor": "#2a3f5f"
            },
            "type": "carpet"
           }
          ],
          "choropleth": [
           {
            "colorbar": {
             "outlinewidth": 0,
             "ticks": ""
            },
            "type": "choropleth"
           }
          ],
          "contour": [
           {
            "colorbar": {
             "outlinewidth": 0,
             "ticks": ""
            },
            "colorscale": [
             [
              0,
              "#0d0887"
             ],
             [
              0.1111111111111111,
              "#46039f"
             ],
             [
              0.2222222222222222,
              "#7201a8"
             ],
             [
              0.3333333333333333,
              "#9c179e"
             ],
             [
              0.4444444444444444,
              "#bd3786"
             ],
             [
              0.5555555555555556,
              "#d8576b"
             ],
             [
              0.6666666666666666,
              "#ed7953"
             ],
             [
              0.7777777777777778,
              "#fb9f3a"
             ],
             [
              0.8888888888888888,
              "#fdca26"
             ],
             [
              1,
              "#f0f921"
             ]
            ],
            "type": "contour"
           }
          ],
          "contourcarpet": [
           {
            "colorbar": {
             "outlinewidth": 0,
             "ticks": ""
            },
            "type": "contourcarpet"
           }
          ],
          "heatmap": [
           {
            "colorbar": {
             "outlinewidth": 0,
             "ticks": ""
            },
            "colorscale": [
             [
              0,
              "#0d0887"
             ],
             [
              0.1111111111111111,
              "#46039f"
             ],
             [
              0.2222222222222222,
              "#7201a8"
             ],
             [
              0.3333333333333333,
              "#9c179e"
             ],
             [
              0.4444444444444444,
              "#bd3786"
             ],
             [
              0.5555555555555556,
              "#d8576b"
             ],
             [
              0.6666666666666666,
              "#ed7953"
             ],
             [
              0.7777777777777778,
              "#fb9f3a"
             ],
             [
              0.8888888888888888,
              "#fdca26"
             ],
             [
              1,
              "#f0f921"
             ]
            ],
            "type": "heatmap"
           }
          ],
          "heatmapgl": [
           {
            "colorbar": {
             "outlinewidth": 0,
             "ticks": ""
            },
            "colorscale": [
             [
              0,
              "#0d0887"
             ],
             [
              0.1111111111111111,
              "#46039f"
             ],
             [
              0.2222222222222222,
              "#7201a8"
             ],
             [
              0.3333333333333333,
              "#9c179e"
             ],
             [
              0.4444444444444444,
              "#bd3786"
             ],
             [
              0.5555555555555556,
              "#d8576b"
             ],
             [
              0.6666666666666666,
              "#ed7953"
             ],
             [
              0.7777777777777778,
              "#fb9f3a"
             ],
             [
              0.8888888888888888,
              "#fdca26"
             ],
             [
              1,
              "#f0f921"
             ]
            ],
            "type": "heatmapgl"
           }
          ],
          "histogram": [
           {
            "marker": {
             "pattern": {
              "fillmode": "overlay",
              "size": 10,
              "solidity": 0.2
             }
            },
            "type": "histogram"
           }
          ],
          "histogram2d": [
           {
            "colorbar": {
             "outlinewidth": 0,
             "ticks": ""
            },
            "colorscale": [
             [
              0,
              "#0d0887"
             ],
             [
              0.1111111111111111,
              "#46039f"
             ],
             [
              0.2222222222222222,
              "#7201a8"
             ],
             [
              0.3333333333333333,
              "#9c179e"
             ],
             [
              0.4444444444444444,
              "#bd3786"
             ],
             [
              0.5555555555555556,
              "#d8576b"
             ],
             [
              0.6666666666666666,
              "#ed7953"
             ],
             [
              0.7777777777777778,
              "#fb9f3a"
             ],
             [
              0.8888888888888888,
              "#fdca26"
             ],
             [
              1,
              "#f0f921"
             ]
            ],
            "type": "histogram2d"
           }
          ],
          "histogram2dcontour": [
           {
            "colorbar": {
             "outlinewidth": 0,
             "ticks": ""
            },
            "colorscale": [
             [
              0,
              "#0d0887"
             ],
             [
              0.1111111111111111,
              "#46039f"
             ],
             [
              0.2222222222222222,
              "#7201a8"
             ],
             [
              0.3333333333333333,
              "#9c179e"
             ],
             [
              0.4444444444444444,
              "#bd3786"
             ],
             [
              0.5555555555555556,
              "#d8576b"
             ],
             [
              0.6666666666666666,
              "#ed7953"
             ],
             [
              0.7777777777777778,
              "#fb9f3a"
             ],
             [
              0.8888888888888888,
              "#fdca26"
             ],
             [
              1,
              "#f0f921"
             ]
            ],
            "type": "histogram2dcontour"
           }
          ],
          "mesh3d": [
           {
            "colorbar": {
             "outlinewidth": 0,
             "ticks": ""
            },
            "type": "mesh3d"
           }
          ],
          "parcoords": [
           {
            "line": {
             "colorbar": {
              "outlinewidth": 0,
              "ticks": ""
             }
            },
            "type": "parcoords"
           }
          ],
          "pie": [
           {
            "automargin": true,
            "type": "pie"
           }
          ],
          "scatter": [
           {
            "fillpattern": {
             "fillmode": "overlay",
             "size": 10,
             "solidity": 0.2
            },
            "type": "scatter"
           }
          ],
          "scatter3d": [
           {
            "line": {
             "colorbar": {
              "outlinewidth": 0,
              "ticks": ""
             }
            },
            "marker": {
             "colorbar": {
              "outlinewidth": 0,
              "ticks": ""
             }
            },
            "type": "scatter3d"
           }
          ],
          "scattercarpet": [
           {
            "marker": {
             "colorbar": {
              "outlinewidth": 0,
              "ticks": ""
             }
            },
            "type": "scattercarpet"
           }
          ],
          "scattergeo": [
           {
            "marker": {
             "colorbar": {
              "outlinewidth": 0,
              "ticks": ""
             }
            },
            "type": "scattergeo"
           }
          ],
          "scattergl": [
           {
            "marker": {
             "colorbar": {
              "outlinewidth": 0,
              "ticks": ""
             }
            },
            "type": "scattergl"
           }
          ],
          "scattermapbox": [
           {
            "marker": {
             "colorbar": {
              "outlinewidth": 0,
              "ticks": ""
             }
            },
            "type": "scattermapbox"
           }
          ],
          "scatterpolar": [
           {
            "marker": {
             "colorbar": {
              "outlinewidth": 0,
              "ticks": ""
             }
            },
            "type": "scatterpolar"
           }
          ],
          "scatterpolargl": [
           {
            "marker": {
             "colorbar": {
              "outlinewidth": 0,
              "ticks": ""
             }
            },
            "type": "scatterpolargl"
           }
          ],
          "scatterternary": [
           {
            "marker": {
             "colorbar": {
              "outlinewidth": 0,
              "ticks": ""
             }
            },
            "type": "scatterternary"
           }
          ],
          "surface": [
           {
            "colorbar": {
             "outlinewidth": 0,
             "ticks": ""
            },
            "colorscale": [
             [
              0,
              "#0d0887"
             ],
             [
              0.1111111111111111,
              "#46039f"
             ],
             [
              0.2222222222222222,
              "#7201a8"
             ],
             [
              0.3333333333333333,
              "#9c179e"
             ],
             [
              0.4444444444444444,
              "#bd3786"
             ],
             [
              0.5555555555555556,
              "#d8576b"
             ],
             [
              0.6666666666666666,
              "#ed7953"
             ],
             [
              0.7777777777777778,
              "#fb9f3a"
             ],
             [
              0.8888888888888888,
              "#fdca26"
             ],
             [
              1,
              "#f0f921"
             ]
            ],
            "type": "surface"
           }
          ],
          "table": [
           {
            "cells": {
             "fill": {
              "color": "#EBF0F8"
             },
             "line": {
              "color": "white"
             }
            },
            "header": {
             "fill": {
              "color": "#C8D4E3"
             },
             "line": {
              "color": "white"
             }
            },
            "type": "table"
           }
          ]
         },
         "layout": {
          "annotationdefaults": {
           "arrowcolor": "#2a3f5f",
           "arrowhead": 0,
           "arrowwidth": 1
          },
          "autotypenumbers": "strict",
          "coloraxis": {
           "colorbar": {
            "outlinewidth": 0,
            "ticks": ""
           }
          },
          "colorscale": {
           "diverging": [
            [
             0,
             "#8e0152"
            ],
            [
             0.1,
             "#c51b7d"
            ],
            [
             0.2,
             "#de77ae"
            ],
            [
             0.3,
             "#f1b6da"
            ],
            [
             0.4,
             "#fde0ef"
            ],
            [
             0.5,
             "#f7f7f7"
            ],
            [
             0.6,
             "#e6f5d0"
            ],
            [
             0.7,
             "#b8e186"
            ],
            [
             0.8,
             "#7fbc41"
            ],
            [
             0.9,
             "#4d9221"
            ],
            [
             1,
             "#276419"
            ]
           ],
           "sequential": [
            [
             0,
             "#0d0887"
            ],
            [
             0.1111111111111111,
             "#46039f"
            ],
            [
             0.2222222222222222,
             "#7201a8"
            ],
            [
             0.3333333333333333,
             "#9c179e"
            ],
            [
             0.4444444444444444,
             "#bd3786"
            ],
            [
             0.5555555555555556,
             "#d8576b"
            ],
            [
             0.6666666666666666,
             "#ed7953"
            ],
            [
             0.7777777777777778,
             "#fb9f3a"
            ],
            [
             0.8888888888888888,
             "#fdca26"
            ],
            [
             1,
             "#f0f921"
            ]
           ],
           "sequentialminus": [
            [
             0,
             "#0d0887"
            ],
            [
             0.1111111111111111,
             "#46039f"
            ],
            [
             0.2222222222222222,
             "#7201a8"
            ],
            [
             0.3333333333333333,
             "#9c179e"
            ],
            [
             0.4444444444444444,
             "#bd3786"
            ],
            [
             0.5555555555555556,
             "#d8576b"
            ],
            [
             0.6666666666666666,
             "#ed7953"
            ],
            [
             0.7777777777777778,
             "#fb9f3a"
            ],
            [
             0.8888888888888888,
             "#fdca26"
            ],
            [
             1,
             "#f0f921"
            ]
           ]
          },
          "colorway": [
           "#636efa",
           "#EF553B",
           "#00cc96",
           "#ab63fa",
           "#FFA15A",
           "#19d3f3",
           "#FF6692",
           "#B6E880",
           "#FF97FF",
           "#FECB52"
          ],
          "font": {
           "color": "#2a3f5f"
          },
          "geo": {
           "bgcolor": "white",
           "lakecolor": "white",
           "landcolor": "white",
           "showlakes": true,
           "showland": true,
           "subunitcolor": "#C8D4E3"
          },
          "hoverlabel": {
           "align": "left"
          },
          "hovermode": "closest",
          "mapbox": {
           "style": "light"
          },
          "paper_bgcolor": "white",
          "plot_bgcolor": "white",
          "polar": {
           "angularaxis": {
            "gridcolor": "#EBF0F8",
            "linecolor": "#EBF0F8",
            "ticks": ""
           },
           "bgcolor": "white",
           "radialaxis": {
            "gridcolor": "#EBF0F8",
            "linecolor": "#EBF0F8",
            "ticks": ""
           }
          },
          "scene": {
           "xaxis": {
            "backgroundcolor": "white",
            "gridcolor": "#DFE8F3",
            "gridwidth": 2,
            "linecolor": "#EBF0F8",
            "showbackground": true,
            "ticks": "",
            "zerolinecolor": "#EBF0F8"
           },
           "yaxis": {
            "backgroundcolor": "white",
            "gridcolor": "#DFE8F3",
            "gridwidth": 2,
            "linecolor": "#EBF0F8",
            "showbackground": true,
            "ticks": "",
            "zerolinecolor": "#EBF0F8"
           },
           "zaxis": {
            "backgroundcolor": "white",
            "gridcolor": "#DFE8F3",
            "gridwidth": 2,
            "linecolor": "#EBF0F8",
            "showbackground": true,
            "ticks": "",
            "zerolinecolor": "#EBF0F8"
           }
          },
          "shapedefaults": {
           "line": {
            "color": "#2a3f5f"
           }
          },
          "ternary": {
           "aaxis": {
            "gridcolor": "#DFE8F3",
            "linecolor": "#A2B1C6",
            "ticks": ""
           },
           "baxis": {
            "gridcolor": "#DFE8F3",
            "linecolor": "#A2B1C6",
            "ticks": ""
           },
           "bgcolor": "white",
           "caxis": {
            "gridcolor": "#DFE8F3",
            "linecolor": "#A2B1C6",
            "ticks": ""
           }
          },
          "title": {
           "x": 0.05
          },
          "xaxis": {
           "automargin": true,
           "gridcolor": "#EBF0F8",
           "linecolor": "#EBF0F8",
           "ticks": "",
           "title": {
            "standoff": 15
           },
           "zerolinecolor": "#EBF0F8",
           "zerolinewidth": 2
          },
          "yaxis": {
           "automargin": true,
           "gridcolor": "#EBF0F8",
           "linecolor": "#EBF0F8",
           "ticks": "",
           "title": {
            "standoff": 15
           },
           "zerolinecolor": "#EBF0F8",
           "zerolinewidth": 2
          }
         }
        },
        "title": {
         "text": "Групповая воронка событий"
        }
       }
      },
      "text/html": [
       "<div>                            <div id=\"98077c2c-3ff9-4d04-b567-b2d0c6af8168\" class=\"plotly-graph-div\" style=\"height:525px; width:100%;\"></div>            <script type=\"text/javascript\">                require([\"plotly\"], function(Plotly) {                    window.PLOTLYENV=window.PLOTLYENV || {};                                    if (document.getElementById(\"98077c2c-3ff9-4d04-b567-b2d0c6af8168\")) {                    Plotly.newPlot(                        \"98077c2c-3ff9-4d04-b567-b2d0c6af8168\",                        [{\"marker\":{\"color\":[\"maroon\",\"brown\",\"indianred\",\"coral\"]},\"name\":\"A\",\"textinfo\":\"value+percent initial\",\"x\":[2422,1571,728,773],\"y\":[\"login\",\"product_page\",\"product_cart\",\"purchase\"],\"type\":\"funnel\"},{\"marker\":{\"color\":[\"darkolivegreen\",\"olivedrab\",\"yellowgreen\",\"greenyellow\"]},\"name\":\"B\",\"orientation\":\"h\",\"textinfo\":\"value+percent initial\",\"textposition\":\"inside\",\"x\":[821,459,225,226],\"y\":[\"login\",\"product_page\",\"product_cart\",\"purchase\"],\"type\":\"funnel\"}],                        {\"template\":{\"data\":{\"histogram2dcontour\":[{\"type\":\"histogram2dcontour\",\"colorbar\":{\"outlinewidth\":0,\"ticks\":\"\"},\"colorscale\":[[0.0,\"#0d0887\"],[0.1111111111111111,\"#46039f\"],[0.2222222222222222,\"#7201a8\"],[0.3333333333333333,\"#9c179e\"],[0.4444444444444444,\"#bd3786\"],[0.5555555555555556,\"#d8576b\"],[0.6666666666666666,\"#ed7953\"],[0.7777777777777778,\"#fb9f3a\"],[0.8888888888888888,\"#fdca26\"],[1.0,\"#f0f921\"]]}],\"choropleth\":[{\"type\":\"choropleth\",\"colorbar\":{\"outlinewidth\":0,\"ticks\":\"\"}}],\"histogram2d\":[{\"type\":\"histogram2d\",\"colorbar\":{\"outlinewidth\":0,\"ticks\":\"\"},\"colorscale\":[[0.0,\"#0d0887\"],[0.1111111111111111,\"#46039f\"],[0.2222222222222222,\"#7201a8\"],[0.3333333333333333,\"#9c179e\"],[0.4444444444444444,\"#bd3786\"],[0.5555555555555556,\"#d8576b\"],[0.6666666666666666,\"#ed7953\"],[0.7777777777777778,\"#fb9f3a\"],[0.8888888888888888,\"#fdca26\"],[1.0,\"#f0f921\"]]}],\"heatmap\":[{\"type\":\"heatmap\",\"colorbar\":{\"outlinewidth\":0,\"ticks\":\"\"},\"colorscale\":[[0.0,\"#0d0887\"],[0.1111111111111111,\"#46039f\"],[0.2222222222222222,\"#7201a8\"],[0.3333333333333333,\"#9c179e\"],[0.4444444444444444,\"#bd3786\"],[0.5555555555555556,\"#d8576b\"],[0.6666666666666666,\"#ed7953\"],[0.7777777777777778,\"#fb9f3a\"],[0.8888888888888888,\"#fdca26\"],[1.0,\"#f0f921\"]]}],\"heatmapgl\":[{\"type\":\"heatmapgl\",\"colorbar\":{\"outlinewidth\":0,\"ticks\":\"\"},\"colorscale\":[[0.0,\"#0d0887\"],[0.1111111111111111,\"#46039f\"],[0.2222222222222222,\"#7201a8\"],[0.3333333333333333,\"#9c179e\"],[0.4444444444444444,\"#bd3786\"],[0.5555555555555556,\"#d8576b\"],[0.6666666666666666,\"#ed7953\"],[0.7777777777777778,\"#fb9f3a\"],[0.8888888888888888,\"#fdca26\"],[1.0,\"#f0f921\"]]}],\"contourcarpet\":[{\"type\":\"contourcarpet\",\"colorbar\":{\"outlinewidth\":0,\"ticks\":\"\"}}],\"contour\":[{\"type\":\"contour\",\"colorbar\":{\"outlinewidth\":0,\"ticks\":\"\"},\"colorscale\":[[0.0,\"#0d0887\"],[0.1111111111111111,\"#46039f\"],[0.2222222222222222,\"#7201a8\"],[0.3333333333333333,\"#9c179e\"],[0.4444444444444444,\"#bd3786\"],[0.5555555555555556,\"#d8576b\"],[0.6666666666666666,\"#ed7953\"],[0.7777777777777778,\"#fb9f3a\"],[0.8888888888888888,\"#fdca26\"],[1.0,\"#f0f921\"]]}],\"surface\":[{\"type\":\"surface\",\"colorbar\":{\"outlinewidth\":0,\"ticks\":\"\"},\"colorscale\":[[0.0,\"#0d0887\"],[0.1111111111111111,\"#46039f\"],[0.2222222222222222,\"#7201a8\"],[0.3333333333333333,\"#9c179e\"],[0.4444444444444444,\"#bd3786\"],[0.5555555555555556,\"#d8576b\"],[0.6666666666666666,\"#ed7953\"],[0.7777777777777778,\"#fb9f3a\"],[0.8888888888888888,\"#fdca26\"],[1.0,\"#f0f921\"]]}],\"mesh3d\":[{\"type\":\"mesh3d\",\"colorbar\":{\"outlinewidth\":0,\"ticks\":\"\"}}],\"scatter\":[{\"fillpattern\":{\"fillmode\":\"overlay\",\"size\":10,\"solidity\":0.2},\"type\":\"scatter\"}],\"parcoords\":[{\"type\":\"parcoords\",\"line\":{\"colorbar\":{\"outlinewidth\":0,\"ticks\":\"\"}}}],\"scatterpolargl\":[{\"type\":\"scatterpolargl\",\"marker\":{\"colorbar\":{\"outlinewidth\":0,\"ticks\":\"\"}}}],\"bar\":[{\"error_x\":{\"color\":\"#2a3f5f\"},\"error_y\":{\"color\":\"#2a3f5f\"},\"marker\":{\"line\":{\"color\":\"white\",\"width\":0.5},\"pattern\":{\"fillmode\":\"overlay\",\"size\":10,\"solidity\":0.2}},\"type\":\"bar\"}],\"scattergeo\":[{\"type\":\"scattergeo\",\"marker\":{\"colorbar\":{\"outlinewidth\":0,\"ticks\":\"\"}}}],\"scatterpolar\":[{\"type\":\"scatterpolar\",\"marker\":{\"colorbar\":{\"outlinewidth\":0,\"ticks\":\"\"}}}],\"histogram\":[{\"marker\":{\"pattern\":{\"fillmode\":\"overlay\",\"size\":10,\"solidity\":0.2}},\"type\":\"histogram\"}],\"scattergl\":[{\"type\":\"scattergl\",\"marker\":{\"colorbar\":{\"outlinewidth\":0,\"ticks\":\"\"}}}],\"scatter3d\":[{\"type\":\"scatter3d\",\"line\":{\"colorbar\":{\"outlinewidth\":0,\"ticks\":\"\"}},\"marker\":{\"colorbar\":{\"outlinewidth\":0,\"ticks\":\"\"}}}],\"scattermapbox\":[{\"type\":\"scattermapbox\",\"marker\":{\"colorbar\":{\"outlinewidth\":0,\"ticks\":\"\"}}}],\"scatterternary\":[{\"type\":\"scatterternary\",\"marker\":{\"colorbar\":{\"outlinewidth\":0,\"ticks\":\"\"}}}],\"scattercarpet\":[{\"type\":\"scattercarpet\",\"marker\":{\"colorbar\":{\"outlinewidth\":0,\"ticks\":\"\"}}}],\"carpet\":[{\"aaxis\":{\"endlinecolor\":\"#2a3f5f\",\"gridcolor\":\"#C8D4E3\",\"linecolor\":\"#C8D4E3\",\"minorgridcolor\":\"#C8D4E3\",\"startlinecolor\":\"#2a3f5f\"},\"baxis\":{\"endlinecolor\":\"#2a3f5f\",\"gridcolor\":\"#C8D4E3\",\"linecolor\":\"#C8D4E3\",\"minorgridcolor\":\"#C8D4E3\",\"startlinecolor\":\"#2a3f5f\"},\"type\":\"carpet\"}],\"table\":[{\"cells\":{\"fill\":{\"color\":\"#EBF0F8\"},\"line\":{\"color\":\"white\"}},\"header\":{\"fill\":{\"color\":\"#C8D4E3\"},\"line\":{\"color\":\"white\"}},\"type\":\"table\"}],\"barpolar\":[{\"marker\":{\"line\":{\"color\":\"white\",\"width\":0.5},\"pattern\":{\"fillmode\":\"overlay\",\"size\":10,\"solidity\":0.2}},\"type\":\"barpolar\"}],\"pie\":[{\"automargin\":true,\"type\":\"pie\"}]},\"layout\":{\"autotypenumbers\":\"strict\",\"colorway\":[\"#636efa\",\"#EF553B\",\"#00cc96\",\"#ab63fa\",\"#FFA15A\",\"#19d3f3\",\"#FF6692\",\"#B6E880\",\"#FF97FF\",\"#FECB52\"],\"font\":{\"color\":\"#2a3f5f\"},\"hovermode\":\"closest\",\"hoverlabel\":{\"align\":\"left\"},\"paper_bgcolor\":\"white\",\"plot_bgcolor\":\"white\",\"polar\":{\"bgcolor\":\"white\",\"angularaxis\":{\"gridcolor\":\"#EBF0F8\",\"linecolor\":\"#EBF0F8\",\"ticks\":\"\"},\"radialaxis\":{\"gridcolor\":\"#EBF0F8\",\"linecolor\":\"#EBF0F8\",\"ticks\":\"\"}},\"ternary\":{\"bgcolor\":\"white\",\"aaxis\":{\"gridcolor\":\"#DFE8F3\",\"linecolor\":\"#A2B1C6\",\"ticks\":\"\"},\"baxis\":{\"gridcolor\":\"#DFE8F3\",\"linecolor\":\"#A2B1C6\",\"ticks\":\"\"},\"caxis\":{\"gridcolor\":\"#DFE8F3\",\"linecolor\":\"#A2B1C6\",\"ticks\":\"\"}},\"coloraxis\":{\"colorbar\":{\"outlinewidth\":0,\"ticks\":\"\"}},\"colorscale\":{\"sequential\":[[0.0,\"#0d0887\"],[0.1111111111111111,\"#46039f\"],[0.2222222222222222,\"#7201a8\"],[0.3333333333333333,\"#9c179e\"],[0.4444444444444444,\"#bd3786\"],[0.5555555555555556,\"#d8576b\"],[0.6666666666666666,\"#ed7953\"],[0.7777777777777778,\"#fb9f3a\"],[0.8888888888888888,\"#fdca26\"],[1.0,\"#f0f921\"]],\"sequentialminus\":[[0.0,\"#0d0887\"],[0.1111111111111111,\"#46039f\"],[0.2222222222222222,\"#7201a8\"],[0.3333333333333333,\"#9c179e\"],[0.4444444444444444,\"#bd3786\"],[0.5555555555555556,\"#d8576b\"],[0.6666666666666666,\"#ed7953\"],[0.7777777777777778,\"#fb9f3a\"],[0.8888888888888888,\"#fdca26\"],[1.0,\"#f0f921\"]],\"diverging\":[[0,\"#8e0152\"],[0.1,\"#c51b7d\"],[0.2,\"#de77ae\"],[0.3,\"#f1b6da\"],[0.4,\"#fde0ef\"],[0.5,\"#f7f7f7\"],[0.6,\"#e6f5d0\"],[0.7,\"#b8e186\"],[0.8,\"#7fbc41\"],[0.9,\"#4d9221\"],[1,\"#276419\"]]},\"xaxis\":{\"gridcolor\":\"#EBF0F8\",\"linecolor\":\"#EBF0F8\",\"ticks\":\"\",\"title\":{\"standoff\":15},\"zerolinecolor\":\"#EBF0F8\",\"automargin\":true,\"zerolinewidth\":2},\"yaxis\":{\"gridcolor\":\"#EBF0F8\",\"linecolor\":\"#EBF0F8\",\"ticks\":\"\",\"title\":{\"standoff\":15},\"zerolinecolor\":\"#EBF0F8\",\"automargin\":true,\"zerolinewidth\":2},\"scene\":{\"xaxis\":{\"backgroundcolor\":\"white\",\"gridcolor\":\"#DFE8F3\",\"linecolor\":\"#EBF0F8\",\"showbackground\":true,\"ticks\":\"\",\"zerolinecolor\":\"#EBF0F8\",\"gridwidth\":2},\"yaxis\":{\"backgroundcolor\":\"white\",\"gridcolor\":\"#DFE8F3\",\"linecolor\":\"#EBF0F8\",\"showbackground\":true,\"ticks\":\"\",\"zerolinecolor\":\"#EBF0F8\",\"gridwidth\":2},\"zaxis\":{\"backgroundcolor\":\"white\",\"gridcolor\":\"#DFE8F3\",\"linecolor\":\"#EBF0F8\",\"showbackground\":true,\"ticks\":\"\",\"zerolinecolor\":\"#EBF0F8\",\"gridwidth\":2}},\"shapedefaults\":{\"line\":{\"color\":\"#2a3f5f\"}},\"annotationdefaults\":{\"arrowcolor\":\"#2a3f5f\",\"arrowhead\":0,\"arrowwidth\":1},\"geo\":{\"bgcolor\":\"white\",\"landcolor\":\"white\",\"subunitcolor\":\"#C8D4E3\",\"showland\":true,\"showlakes\":true,\"lakecolor\":\"white\"},\"title\":{\"x\":0.05},\"mapbox\":{\"style\":\"light\"}}},\"font\":{\"size\":16},\"title\":{\"text\":\"\\u0413\\u0440\\u0443\\u043f\\u043f\\u043e\\u0432\\u0430\\u044f \\u0432\\u043e\\u0440\\u043e\\u043d\\u043a\\u0430 \\u0441\\u043e\\u0431\\u044b\\u0442\\u0438\\u0439\"}},                        {\"responsive\": true}                    ).then(function(){\n",
       "                            \n",
       "var gd = document.getElementById('98077c2c-3ff9-4d04-b567-b2d0c6af8168');\n",
       "var x = new MutationObserver(function (mutations, observer) {{\n",
       "        var display = window.getComputedStyle(gd).display;\n",
       "        if (!display || display === 'none') {{\n",
       "            console.log([gd, 'removed!']);\n",
       "            Plotly.purge(gd);\n",
       "            observer.disconnect();\n",
       "        }}\n",
       "}});\n",
       "\n",
       "// Listen for the removal of the full notebook cells\n",
       "var notebookContainer = gd.closest('#notebook-container');\n",
       "if (notebookContainer) {{\n",
       "    x.observe(notebookContainer, {childList: true});\n",
       "}}\n",
       "\n",
       "// Listen for the clearing of the current output cell\n",
       "var outputEl = gd.closest('.output');\n",
       "if (outputEl) {{\n",
       "    x.observe(outputEl, {childList: true});\n",
       "}}\n",
       "\n",
       "                        })                };                });            </script>        </div>"
      ]
     },
     "metadata": {},
     "output_type": "display_data"
    }
   ],
   "source": [
    "# посчитаем количество пользовотелей на каждом шаге события в каждой группе\n",
    "all_group = (data\n",
    "             .pivot_table(index='event_name'\n",
    "                          , columns='group'\n",
    "                          ,values='user_id'\n",
    "                          ,aggfunc='nunique')\n",
    "            )\n",
    "all_group['rank'] = [0,2,1,3]\n",
    "all_group = all_group.sort_values('rank', ascending=True)\n",
    "\n",
    "# и построим групповую воронку\n",
    "fig = go.Figure()\n",
    "\n",
    "fig.add_trace(go.Funnel(\n",
    "    name = 'A',\n",
    "    y = all_group.index,\n",
    "    x = all_group['A'],\n",
    "    textinfo = \"value+percent initial\",\n",
    "    marker = {\"color\": [\"maroon\", \"brown\", \"indianred\", \"coral\"]})\n",
    "    )\n",
    "\n",
    "fig.add_trace(go.Funnel(\n",
    "    name = 'B',\n",
    "    orientation = \"h\",\n",
    "    y = all_group.index,\n",
    "    x = all_group['B'],\n",
    "    textposition = \"inside\",\n",
    "    textinfo = \"value+percent initial\",\n",
    "    marker = {\"color\": [\"darkolivegreen\", \"olivedrab\", \"yellowgreen\", \"greenyellow\"]}))\n",
    "\n",
    "fig.update_layout(\n",
    "    title=\"Групповая воронка событий\",\n",
    "    font=dict(size=16)\n",
    ")"
   ]
  },
  {
   "cell_type": "markdown",
   "id": "69b84077",
   "metadata": {},
   "source": [
    "Разбивка участников по группам неравномерная, в контрольной группе участников в два раза больше.\n",
    "\n",
    "Процент конверсии на каждом шаге от события к событию в группе 'А' немного выше, чем в группе 'В'.\n",
    "\n",
    "Нелогичная конверсия события просмотр корзины в покупку. Покупают чаще, чем смотрят корзину.\n",
    "\n",
    "**По итогу 14 дней после регистрации эспериментальная группа не показала ожидаемого эффекта - повышение конверсии событий на 10%.** По факту оказалось снижение метрик на 3-9 % по каждому событию."
   ]
  },
  {
   "cell_type": "markdown",
   "id": "80e86fdd",
   "metadata": {},
   "source": [
    "## Ежедневные метрики"
   ]
  },
  {
   "cell_type": "markdown",
   "id": "a5c95c50",
   "metadata": {},
   "source": [
    "Для оценки показателей событий за каждый день расчитаем количество участников по каждому событию и построим графики"
   ]
  },
  {
   "cell_type": "code",
   "execution_count": 63,
   "id": "2978b711",
   "metadata": {},
   "outputs": [],
   "source": [
    "def cumulative_function (df, date, title):\n",
    "# сформируем сводную по дате и группе по срезу определенного события\n",
    "    df_pivot = pd.pivot_table(df,\n",
    "                   values=[\"user_id\"],\n",
    "                   index=[date, 'group'],\n",
    "                   aggfunc=['nunique'])\n",
    "    df_pivot.columns = ['user_counts']\n",
    "    df_pivot = df_pivot.sort_values(by=[date,'group']).reset_index()\n",
    "# построим количественные графики по группам\n",
    "    plt.subplots(figsize=(14,6))    \n",
    "    sns.barplot(x = date, y = 'user_counts', hue = 'group', data = df_pivot, palette='YlOrBr')\n",
    "\n",
    "    ax.legend(loc = 'upper left') \n",
    "    ax.grid(True)\n",
    "    plt.xticks(rotation=90)\n",
    "    plt.legend()\n",
    "    plt.title(title, fontsize=16, pad=25)\n",
    "    plt.xlabel(\"Даты\")\n",
    "    plt.ylabel(\"Количество пользователей\")\n",
    "    display(plt.show())"
   ]
  },
  {
   "cell_type": "code",
   "execution_count": 64,
   "id": "89bb7d1f",
   "metadata": {},
   "outputs": [
    {
     "data": {
      "image/png": "[encoded data removed]",
      "text/plain": [
       "<Figure size 1008x432 with 1 Axes>"
      ]
     },
     "metadata": {},
     "output_type": "display_data"
    },
    {
     "data": {
      "text/plain": [
       "None"
      ]
     },
     "metadata": {},
     "output_type": "display_data"
    }
   ],
   "source": [
    "cumulative_function (data, 'first_dt', 'Диаграммма новых регистраций пользователей по дням')"
   ]
  },
  {
   "cell_type": "markdown",
   "id": "3cd26170",
   "metadata": {},
   "source": [
    "На графике видно, что максимальные значения регистраций новых пользователей приходятся на первый день теста, через одну неделю и через две."
   ]
  },
  {
   "cell_type": "code",
   "execution_count": 65,
   "id": "30d7de8a",
   "metadata": {},
   "outputs": [
    {
     "data": {
      "image/png": "[encoded data removed]",
      "text/plain": [
       "<Figure size 1008x432 with 1 Axes>"
      ]
     },
     "metadata": {},
     "output_type": "display_data"
    },
    {
     "data": {
      "text/plain": [
       "None"
      ]
     },
     "metadata": {},
     "output_type": "display_data"
    }
   ],
   "source": [
    "cumulative_function (data.query('event_name == \"login\"'), 'date', 'Диаграммма залогинивания пользователями по дням')"
   ]
  },
  {
   "cell_type": "code",
   "execution_count": 66,
   "id": "165d8397",
   "metadata": {},
   "outputs": [
    {
     "data": {
      "image/png": "[encoded data removed]",
      "text/plain": [
       "<Figure size 1008x432 with 1 Axes>"
      ]
     },
     "metadata": {},
     "output_type": "display_data"
    },
    {
     "data": {
      "text/plain": [
       "None"
      ]
     },
     "metadata": {},
     "output_type": "display_data"
    }
   ],
   "source": [
    "cumulative_function (data.query('event_name == \"product_page\"'), 'date'\n",
    "                     , 'Диаграммма просмотра продуктов пользователями по дням')"
   ]
  },
  {
   "cell_type": "code",
   "execution_count": 67,
   "id": "f2aa2ab9",
   "metadata": {},
   "outputs": [
    {
     "data": {
      "image/png": "[encoded data removed]",
      "text/plain": [
       "<Figure size 1008x432 with 1 Axes>"
      ]
     },
     "metadata": {},
     "output_type": "display_data"
    },
    {
     "data": {
      "text/plain": [
       "None"
      ]
     },
     "metadata": {},
     "output_type": "display_data"
    }
   ],
   "source": [
    "cumulative_function (data.query('event_name == \"product_cart\"'), 'date'\n",
    "                     , 'Диаграммма просмотра корзины пользователями по дням')"
   ]
  },
  {
   "cell_type": "code",
   "execution_count": 68,
   "id": "416afe35",
   "metadata": {},
   "outputs": [
    {
     "data": {
      "image/png": "[encoded data removed]",
      "text/plain": [
       "<Figure size 1008x432 with 1 Axes>"
      ]
     },
     "metadata": {},
     "output_type": "display_data"
    },
    {
     "data": {
      "text/plain": [
       "None"
      ]
     },
     "metadata": {},
     "output_type": "display_data"
    }
   ],
   "source": [
    "cumulative_function (data.query('event_name == \"purchase\"'), 'date'\n",
    "                    , 'Диаграммма покупок пользователями по дням')"
   ]
  },
  {
   "cell_type": "markdown",
   "id": "159010f9",
   "metadata": {},
   "source": [
    "На всех графиках по каждому событию распределение количества участников практически одинаковое. Большой рост наблюдается через неделю после начала теста, через 14 дней показатели по событиям на пике, и после двух недель произошел  спад, продолжающийся до конца периода теста."
   ]
  },
  {
   "cell_type": "markdown",
   "id": "f07746b4",
   "metadata": {},
   "source": [
    "Выявленные несоответствие данных ТЗ:\n",
    "- **14%** новых пользователей из EU, должно быть не менее 15%.\n",
    "- Дата окончания теста на 4 дня раньше заявленной в ТЗ.\n",
    "- **3244** уникальных участников теста, должно быть не менее 6000.\n",
    "- Тестирование пересекается с двумя глобальными промо-акциями.\n",
    "\n",
    "Некорректность данных:\n",
    "- некорректное разбитие на группы, в контрольной группе участников в **три раза больше**, чем в тестируемой.\n",
    "- аномальная активность участников группы \"А\" с 14 по 21 декабря."
   ]
  },
  {
   "cell_type": "markdown",
   "id": "48d76757",
   "metadata": {},
   "source": [
    "Так как, выборки в группах имеют разное количество участников, а количество проводимых z-тестов будет несколько, для исключения ошибок I-го рода, применим поправку Бонферонни. "
   ]
  },
  {
   "cell_type": "markdown",
   "id": "61c565bd",
   "metadata": {},
   "source": [
    "## Изучение результатов эксперимента"
   ]
  },
  {
   "cell_type": "markdown",
   "id": "c6f24750",
   "metadata": {},
   "source": [
    "Проведение статистического анализа А-В-теста, в данном случае, является скорее дополнительным подтверждением несоответствующих данных техническому заданию и некорректным проведением теста."
   ]
  },
  {
   "cell_type": "markdown",
   "id": "400f5210",
   "metadata": {},
   "source": [
    "**Посмотрим сколько пользователей в каждой экспериментальной группе**"
   ]
  },
  {
   "cell_type": "code",
   "execution_count": 69,
   "id": "0bfbcf10",
   "metadata": {},
   "outputs": [
    {
     "data": {
      "text/html": [
       "<div>\n",
       "<style scoped>\n",
       "    .dataframe tbody tr th:only-of-type {\n",
       "        vertical-align: middle;\n",
       "    }\n",
       "\n",
       "    .dataframe tbody tr th {\n",
       "        vertical-align: top;\n",
       "    }\n",
       "\n",
       "    .dataframe thead th {\n",
       "        text-align: right;\n",
       "    }\n",
       "</style>\n",
       "<table border=\"1\" class=\"dataframe\">\n",
       "  <thead>\n",
       "    <tr style=\"text-align: right;\">\n",
       "      <th></th>\n",
       "      <th>user_id</th>\n",
       "    </tr>\n",
       "    <tr>\n",
       "      <th>group</th>\n",
       "      <th></th>\n",
       "    </tr>\n",
       "  </thead>\n",
       "  <tbody>\n",
       "    <tr>\n",
       "      <th>A</th>\n",
       "      <td>2422</td>\n",
       "    </tr>\n",
       "    <tr>\n",
       "      <th>B</th>\n",
       "      <td>822</td>\n",
       "    </tr>\n",
       "  </tbody>\n",
       "</table>\n",
       "</div>"
      ],
      "text/plain": [
       "       user_id\n",
       "group         \n",
       "A         2422\n",
       "B          822"
      ]
     },
     "execution_count": 69,
     "metadata": {},
     "output_type": "execute_result"
    }
   ],
   "source": [
    "users_group = data.groupby('group').agg({'user_id':'nunique'}).reset_index()\n",
    "users_group.set_index('group', inplace=True)\n",
    "users_group"
   ]
  },
  {
   "cell_type": "markdown",
   "id": "12d87d0c",
   "metadata": {},
   "source": [
    "**Проверим, находят ли статистические критерии разницу между выборками групп А и В.**"
   ]
  },
  {
   "cell_type": "markdown",
   "id": "7beacfb8",
   "metadata": {},
   "source": [
    "Для этого:\n",
    "   * посчитаем число пользователей, совершивших это событие в каждой из групп\n",
    "   * посчитаем долю пользователей, совершивших это событие\n",
    "   * проверим, будет ли отличие между группами статистически достоверным для всех событий"
   ]
  },
  {
   "cell_type": "markdown",
   "id": "adf261e7",
   "metadata": {},
   "source": [
    "Сгруппируем количество пользователей по группам и событиям"
   ]
  },
  {
   "cell_type": "code",
   "execution_count": 70,
   "id": "d9149dd3",
   "metadata": {},
   "outputs": [
    {
     "data": {
      "text/html": [
       "<div>\n",
       "<style scoped>\n",
       "    .dataframe tbody tr th:only-of-type {\n",
       "        vertical-align: middle;\n",
       "    }\n",
       "\n",
       "    .dataframe tbody tr th {\n",
       "        vertical-align: top;\n",
       "    }\n",
       "\n",
       "    .dataframe thead th {\n",
       "        text-align: right;\n",
       "    }\n",
       "</style>\n",
       "<table border=\"1\" class=\"dataframe\">\n",
       "  <thead>\n",
       "    <tr style=\"text-align: right;\">\n",
       "      <th>group</th>\n",
       "      <th>A</th>\n",
       "      <th>B</th>\n",
       "    </tr>\n",
       "    <tr>\n",
       "      <th>event_name</th>\n",
       "      <th></th>\n",
       "      <th></th>\n",
       "    </tr>\n",
       "  </thead>\n",
       "  <tbody>\n",
       "    <tr>\n",
       "      <th>login</th>\n",
       "      <td>2422</td>\n",
       "      <td>821</td>\n",
       "    </tr>\n",
       "    <tr>\n",
       "      <th>product_cart</th>\n",
       "      <td>728</td>\n",
       "      <td>225</td>\n",
       "    </tr>\n",
       "    <tr>\n",
       "      <th>product_page</th>\n",
       "      <td>1571</td>\n",
       "      <td>459</td>\n",
       "    </tr>\n",
       "    <tr>\n",
       "      <th>purchase</th>\n",
       "      <td>773</td>\n",
       "      <td>226</td>\n",
       "    </tr>\n",
       "  </tbody>\n",
       "</table>\n",
       "</div>"
      ],
      "text/plain": [
       "group            A    B\n",
       "event_name             \n",
       "login         2422  821\n",
       "product_cart   728  225\n",
       "product_page  1571  459\n",
       "purchase       773  226"
      ]
     },
     "execution_count": 70,
     "metadata": {},
     "output_type": "execute_result"
    }
   ],
   "source": [
    "all_group = (data\n",
    "             .pivot_table(index='event_name'\n",
    "                          , columns='group'\n",
    "                          ,values='user_id'\n",
    "                          ,aggfunc='nunique')\n",
    "            )\n",
    "all_group"
   ]
  },
  {
   "cell_type": "markdown",
   "id": "876e488d",
   "metadata": {},
   "source": [
    "Проверим статистическую значимость двух групп по всем событиям. Воспользуемся методом *z-теста.*"
   ]
  },
  {
   "cell_type": "markdown",
   "id": "fb2e837f",
   "metadata": {},
   "source": [
    "Сформируем нулевую и альтернативную гипотезы:\n",
    "* **Нулевая гипотеза, Н0:** разницы между выборками двух групп нет\n",
    "* **Альтернативная гипотеза, Н1:** присутствует разница между выборками двух групп"
   ]
  },
  {
   "cell_type": "markdown",
   "id": "9e24c197",
   "metadata": {},
   "source": [
    "**Создадим функцию для проверки статистической значимости выборок контрольных и других групп по всем событиям**"
   ]
  },
  {
   "cell_type": "code",
   "execution_count": 71,
   "id": "56858b41",
   "metadata": {},
   "outputs": [],
   "source": [
    "def groups_z_test(group_1, group_2, event): \n",
    "    alpha = .05/4 # критический уровень статистической значимости с поправкой Бонферонни\n",
    "    # разделено на 4 (количество проверок)\n",
    "    \n",
    "    ratio = np.array([all_group.loc[event, group_1]     #количество пользователей, совершивших определенное событие \n",
    "                      , all_group.loc[event, group_2]])  #в проверяемых группах\n",
    "    trials = np.array([users_group.loc[group_1]\n",
    "                       , users_group.loc[group_2]])   #количество пользователей в группах\n",
    "    \n",
    "    \n",
    "    # доля пользователей в первой группе:\n",
    "    p1 = ratio[0]/trials[0]\n",
    "    # доля пользователей во второй группе:\n",
    "    p2 = ratio[1]/trials[1]\n",
    "\n",
    "    # доля пользователей в комбинированном датасете:\n",
    "    p_combined = (ratio[0] + ratio[1]) / (trials[0] + trials[1])\n",
    "\n",
    "    # разница долей в датасетах\n",
    "    difference = p1 - p2 \n",
    "\n",
    "    # считаем статистику в ст.отклонениях стандартного нормального распределения\n",
    "    z_value = difference / mth.sqrt(p_combined * (1 - p_combined) * (1 / trials[0] + 1 / trials[1]))\n",
    "    # задаем стандартное нормальное распределение (среднее 0, ст.отклонение 1)\n",
    "    distr = st.norm(0, 1)\n",
    "\n",
    "    p_value = (1 - distr.cdf(abs(z_value))) * 2\n",
    "\n",
    "    print('для групп {} и {} при событии {}, p-значение: {p_value}'.format(group_1, group_2, event, p_value=p_value.round(2)))\n",
    "    if p_value < alpha:\n",
    "        print('Отвергаем нулевую гипотезу: между выборками есть значимая разница')\n",
    "    else:\n",
    "        print('Не получилось отвергнуть нулевую гипотезу, нет оснований считать выборки разными') "
   ]
  },
  {
   "cell_type": "code",
   "execution_count": 72,
   "id": "6b6ce340",
   "metadata": {},
   "outputs": [],
   "source": [
    "# создадим список событий для функции\n",
    "event_list = all_group.index.to_list()"
   ]
  },
  {
   "cell_type": "code",
   "execution_count": 73,
   "id": "93637cdb",
   "metadata": {},
   "outputs": [
    {
     "name": "stdout",
     "output_type": "stream",
     "text": [
      "для групп A и B при событии login, p-значение: [0.09]\n",
      "Не получилось отвергнуть нулевую гипотезу, нет оснований считать выборки разными\n",
      "\n",
      "для групп A и B при событии product_cart, p-значение: [0.14]\n",
      "Не получилось отвергнуть нулевую гипотезу, нет оснований считать выборки разными\n",
      "\n",
      "для групп A и B при событии product_page, p-значение: [0.]\n",
      "Отвергаем нулевую гипотезу: между выборками есть значимая разница\n",
      "\n",
      "для групп A и B при событии purchase, p-значение: [0.02]\n",
      "Не получилось отвергнуть нулевую гипотезу, нет оснований считать выборки разными\n",
      "\n"
     ]
    }
   ],
   "source": [
    "# циклом переберем каждое событие и применим функцию для проверки статистической значимости\n",
    "for event in event_list:\n",
    "    groups_z_test('A', 'B', event)\n",
    "    print()"
   ]
  },
  {
   "cell_type": "markdown",
   "id": "a6ad5067",
   "metadata": {},
   "source": [
    "**Итог:**\n",
    "Нулевая гипотеза отвергнута только при тестировании выборок события **product_page**. Возможно в этом и есть причина нелогичной последовательности конверсии"
   ]
  },
  {
   "cell_type": "markdown",
   "id": "4bb2c541",
   "metadata": {},
   "source": [
    "## Выводы"
   ]
  },
  {
   "cell_type": "markdown",
   "id": "4ebdbc7f",
   "metadata": {},
   "source": [
    "**В процессе анализа было выявлено несоответствие данных техническому заданию и неккоректность проведения теста:**\n",
    "\n",
    "Выявленные несоответствие данных ТЗ:\n",
    "- 14% новых пользователей из EU, должно быть не менее 15%.\n",
    "- Дата окончания теста на 4 дня раньше заявленной в ТЗ.\n",
    "- **3244** уникальных участников теста, должно быть не менее 6000.\n",
    "- Тестирование пересекается с двумя глобальными промо-акциями.\n",
    "\n",
    "Неккоректность проведения теста:\n",
    "- некорректное разбитие на группы, в контрольной группе участников в 3 раза больше, чем в тестируемой.\n",
    "- аномальная активность участников группы \"А\" с 14 по 21 декабря."
   ]
  },
  {
   "cell_type": "markdown",
   "id": "e21bb056",
   "metadata": {},
   "source": [
    "**Ключевые наблюдения анализа:**"
   ]
  },
  {
   "cell_type": "markdown",
   "id": "6927c8de",
   "metadata": {},
   "source": [
    "* Среднее количество событий на пользователя: 7 - в группе \"А\", 5 - в группе \"В\""
   ]
  },
  {
   "cell_type": "markdown",
   "id": "e8b6db6f",
   "metadata": {},
   "source": [
    "* Также была выявлена нелогичная последовательность шагов событий в обоих группах теста. После события просмотр продукта идет сразу покупка, а после только просмотр корзины. Данная аномалия скорее всего означает, что у пользователей была возможность совершать быстрые покупки, миную шаг просмотра корзины."
   ]
  },
  {
   "cell_type": "markdown",
   "id": "5c55b9e9",
   "metadata": {},
   "source": [
    "* Анализ результатов теста показал, что значимой разницы между выборками по событиям практически нет, кроме события *product_page* (просмотр карточек товара). Тест показал, что в этом событии между группами вероятна значимая разница."
   ]
  },
  {
   "cell_type": "markdown",
   "id": "820b1d41",
   "metadata": {},
   "source": [
    "**По итогу 14 дней после регистрации эспериментальная группа не показала ожидаемого эффекта - повышение конверсии событий на 10%:**\n",
    "- конверсии в просмотр карточек товаров — событие product_page = **минус 9%**,\n",
    "- просмотры корзины — product_cart = **минус 3%**,\n",
    "- покупки — purchase = **минус 4%**."
   ]
  },
  {
   "cell_type": "markdown",
   "id": "5cf506a0",
   "metadata": {},
   "source": [
    "**Исходя из выводов о несоответсвии данных и выявленных нарушений проведения теста, можно считать А-В-тестирование несостоявшимся, результаты теста нерепрезентативны.**"
   ]
  }
 ],
 "metadata": {
  "ExecuteTimeLog": [
   {
    "duration": 1455,
    "start_time": "2022-09-15T07:38:27.620Z"
   },
   {
    "duration": 1456,
    "start_time": "2022-09-15T07:38:29.077Z"
   },
   {
    "duration": 13,
    "start_time": "2022-09-15T07:38:30.534Z"
   },
   {
    "duration": 25,
    "start_time": "2022-09-15T07:38:30.549Z"
   },
   {
    "duration": 14,
    "start_time": "2022-09-15T07:38:30.576Z"
   },
   {
    "duration": 99,
    "start_time": "2022-09-15T07:38:30.592Z"
   },
   {
    "duration": 9,
    "start_time": "2022-09-15T07:38:30.694Z"
   },
   {
    "duration": 605,
    "start_time": "2022-09-15T07:38:30.704Z"
   },
   {
    "duration": 10,
    "start_time": "2022-09-15T07:38:31.310Z"
   },
   {
    "duration": 60,
    "start_time": "2022-09-15T07:38:31.323Z"
   },
   {
    "duration": 132,
    "start_time": "2022-09-15T07:38:31.385Z"
   },
   {
    "duration": 0,
    "start_time": "2022-09-15T07:38:31.520Z"
   },
   {
    "duration": 0,
    "start_time": "2022-09-15T07:38:31.520Z"
   },
   {
    "duration": 0,
    "start_time": "2022-09-15T07:38:31.522Z"
   },
   {
    "duration": 0,
    "start_time": "2022-09-15T07:38:31.523Z"
   },
   {
    "duration": 0,
    "start_time": "2022-09-15T07:38:31.524Z"
   },
   {
    "duration": 0,
    "start_time": "2022-09-15T07:38:31.525Z"
   },
   {
    "duration": 0,
    "start_time": "2022-09-15T07:38:31.526Z"
   },
   {
    "duration": 0,
    "start_time": "2022-09-15T07:38:31.527Z"
   },
   {
    "duration": 0,
    "start_time": "2022-09-15T07:38:31.528Z"
   },
   {
    "duration": 0,
    "start_time": "2022-09-15T07:38:31.529Z"
   },
   {
    "duration": 0,
    "start_time": "2022-09-15T07:38:31.529Z"
   },
   {
    "duration": 0,
    "start_time": "2022-09-15T07:38:31.530Z"
   },
   {
    "duration": 0,
    "start_time": "2022-09-15T07:38:31.531Z"
   },
   {
    "duration": 0,
    "start_time": "2022-09-15T07:38:31.532Z"
   },
   {
    "duration": 0,
    "start_time": "2022-09-15T07:38:31.533Z"
   },
   {
    "duration": 0,
    "start_time": "2022-09-15T07:38:31.534Z"
   },
   {
    "duration": 0,
    "start_time": "2022-09-15T07:38:31.535Z"
   },
   {
    "duration": 0,
    "start_time": "2022-09-15T07:38:31.536Z"
   },
   {
    "duration": 0,
    "start_time": "2022-09-15T07:38:31.537Z"
   },
   {
    "duration": 0,
    "start_time": "2022-09-15T07:38:31.538Z"
   },
   {
    "duration": 0,
    "start_time": "2022-09-15T07:38:31.539Z"
   },
   {
    "duration": 0,
    "start_time": "2022-09-15T07:38:31.540Z"
   },
   {
    "duration": 0,
    "start_time": "2022-09-15T07:38:31.541Z"
   },
   {
    "duration": 0,
    "start_time": "2022-09-15T07:38:31.542Z"
   },
   {
    "duration": 0,
    "start_time": "2022-09-15T07:38:31.543Z"
   },
   {
    "duration": 0,
    "start_time": "2022-09-15T07:38:31.544Z"
   },
   {
    "duration": 0,
    "start_time": "2022-09-15T07:38:31.545Z"
   },
   {
    "duration": 0,
    "start_time": "2022-09-15T07:38:31.546Z"
   },
   {
    "duration": 0,
    "start_time": "2022-09-15T07:38:31.597Z"
   },
   {
    "duration": 0,
    "start_time": "2022-09-15T07:38:31.598Z"
   },
   {
    "duration": 0,
    "start_time": "2022-09-15T07:38:31.599Z"
   },
   {
    "duration": 0,
    "start_time": "2022-09-15T07:38:31.600Z"
   },
   {
    "duration": 0,
    "start_time": "2022-09-15T07:38:31.601Z"
   },
   {
    "duration": 0,
    "start_time": "2022-09-15T07:38:31.602Z"
   },
   {
    "duration": 0,
    "start_time": "2022-09-15T07:38:31.603Z"
   },
   {
    "duration": 0,
    "start_time": "2022-09-15T07:38:31.604Z"
   },
   {
    "duration": 0,
    "start_time": "2022-09-15T07:38:31.605Z"
   },
   {
    "duration": 0,
    "start_time": "2022-09-15T07:38:31.606Z"
   },
   {
    "duration": 0,
    "start_time": "2022-09-15T07:38:31.607Z"
   },
   {
    "duration": 0,
    "start_time": "2022-09-15T07:38:31.608Z"
   },
   {
    "duration": 0,
    "start_time": "2022-09-15T07:38:31.609Z"
   },
   {
    "duration": 0,
    "start_time": "2022-09-15T07:38:31.610Z"
   },
   {
    "duration": 0,
    "start_time": "2022-09-15T07:38:31.611Z"
   },
   {
    "duration": 0,
    "start_time": "2022-09-15T07:38:31.612Z"
   },
   {
    "duration": 0,
    "start_time": "2022-09-15T07:38:31.612Z"
   },
   {
    "duration": 0,
    "start_time": "2022-09-15T07:38:31.613Z"
   },
   {
    "duration": 0,
    "start_time": "2022-09-15T07:38:31.614Z"
   },
   {
    "duration": 0,
    "start_time": "2022-09-15T07:38:31.616Z"
   },
   {
    "duration": 0,
    "start_time": "2022-09-15T07:38:31.617Z"
   },
   {
    "duration": 0,
    "start_time": "2022-09-15T07:38:31.617Z"
   },
   {
    "duration": 17,
    "start_time": "2022-09-15T07:39:27.016Z"
   },
   {
    "duration": 204,
    "start_time": "2022-09-15T07:39:27.708Z"
   },
   {
    "duration": 55,
    "start_time": "2022-09-15T07:39:28.256Z"
   },
   {
    "duration": 19,
    "start_time": "2022-09-15T07:39:28.829Z"
   },
   {
    "duration": 2,
    "start_time": "2022-09-15T07:39:39.160Z"
   },
   {
    "duration": 1495,
    "start_time": "2022-09-15T07:39:42.039Z"
   },
   {
    "duration": 2021,
    "start_time": "2022-09-15T07:39:43.536Z"
   },
   {
    "duration": 12,
    "start_time": "2022-09-15T07:39:45.559Z"
   },
   {
    "duration": 22,
    "start_time": "2022-09-15T07:39:45.573Z"
   },
   {
    "duration": 20,
    "start_time": "2022-09-15T07:39:45.597Z"
   },
   {
    "duration": 105,
    "start_time": "2022-09-15T07:39:45.618Z"
   },
   {
    "duration": 9,
    "start_time": "2022-09-15T07:39:45.725Z"
   },
   {
    "duration": 631,
    "start_time": "2022-09-15T07:39:45.735Z"
   },
   {
    "duration": 12,
    "start_time": "2022-09-15T07:39:46.368Z"
   },
   {
    "duration": 30,
    "start_time": "2022-09-15T07:39:46.395Z"
   },
   {
    "duration": 3,
    "start_time": "2022-09-15T07:39:46.426Z"
   },
   {
    "duration": 14,
    "start_time": "2022-09-15T07:39:46.431Z"
   },
   {
    "duration": 286,
    "start_time": "2022-09-15T07:39:46.446Z"
   },
   {
    "duration": 64,
    "start_time": "2022-09-15T07:39:46.734Z"
   },
   {
    "duration": 15,
    "start_time": "2022-09-15T07:39:46.800Z"
   },
   {
    "duration": 6,
    "start_time": "2022-09-15T07:39:46.817Z"
   },
   {
    "duration": 10,
    "start_time": "2022-09-15T07:39:46.825Z"
   },
   {
    "duration": 6,
    "start_time": "2022-09-15T07:39:46.837Z"
   },
   {
    "duration": 60,
    "start_time": "2022-09-15T07:39:46.846Z"
   },
   {
    "duration": 11,
    "start_time": "2022-09-15T07:39:46.908Z"
   },
   {
    "duration": 36,
    "start_time": "2022-09-15T07:39:46.921Z"
   },
   {
    "duration": 6,
    "start_time": "2022-09-15T07:39:46.959Z"
   },
   {
    "duration": 31,
    "start_time": "2022-09-15T07:39:46.967Z"
   },
   {
    "duration": 15,
    "start_time": "2022-09-15T07:39:47.000Z"
   },
   {
    "duration": 19,
    "start_time": "2022-09-15T07:39:47.017Z"
   },
   {
    "duration": 5,
    "start_time": "2022-09-15T07:39:47.038Z"
   },
   {
    "duration": 12,
    "start_time": "2022-09-15T07:39:47.045Z"
   },
   {
    "duration": 34,
    "start_time": "2022-09-15T07:39:47.062Z"
   },
   {
    "duration": 13,
    "start_time": "2022-09-15T07:39:47.097Z"
   },
   {
    "duration": 18,
    "start_time": "2022-09-15T07:39:47.111Z"
   },
   {
    "duration": 30,
    "start_time": "2022-09-15T07:39:47.130Z"
   },
   {
    "duration": 70,
    "start_time": "2022-09-15T07:39:47.162Z"
   },
   {
    "duration": 6,
    "start_time": "2022-09-15T07:39:47.234Z"
   },
   {
    "duration": 171,
    "start_time": "2022-09-15T07:39:47.242Z"
   },
   {
    "duration": 7,
    "start_time": "2022-09-15T07:39:47.415Z"
   },
   {
    "duration": 11,
    "start_time": "2022-09-15T07:39:47.423Z"
   },
   {
    "duration": 5,
    "start_time": "2022-09-15T07:39:47.436Z"
   },
   {
    "duration": 9,
    "start_time": "2022-09-15T07:39:47.443Z"
   },
   {
    "duration": 154,
    "start_time": "2022-09-15T07:39:47.453Z"
   },
   {
    "duration": 14,
    "start_time": "2022-09-15T07:39:47.609Z"
   },
   {
    "duration": 432,
    "start_time": "2022-09-15T07:39:47.625Z"
   },
   {
    "duration": 7,
    "start_time": "2022-09-15T07:39:48.059Z"
   },
   {
    "duration": 50,
    "start_time": "2022-09-15T07:39:48.068Z"
   },
   {
    "duration": 10,
    "start_time": "2022-09-15T07:39:48.119Z"
   },
   {
    "duration": 102,
    "start_time": "2022-09-15T07:39:48.130Z"
   },
   {
    "duration": 20,
    "start_time": "2022-09-15T07:39:48.233Z"
   },
   {
    "duration": 6,
    "start_time": "2022-09-15T07:39:48.254Z"
   },
   {
    "duration": 33,
    "start_time": "2022-09-15T07:39:48.262Z"
   },
   {
    "duration": 8,
    "start_time": "2022-09-15T07:39:48.297Z"
   },
   {
    "duration": 389,
    "start_time": "2022-09-15T07:39:48.307Z"
   },
   {
    "duration": 11,
    "start_time": "2022-09-15T07:39:48.698Z"
   },
   {
    "duration": 20,
    "start_time": "2022-09-15T07:39:48.711Z"
   },
   {
    "duration": 506,
    "start_time": "2022-09-15T07:39:48.733Z"
   },
   {
    "duration": 458,
    "start_time": "2022-09-15T07:39:49.240Z"
   },
   {
    "duration": 451,
    "start_time": "2022-09-15T07:39:49.700Z"
   },
   {
    "duration": 475,
    "start_time": "2022-09-15T07:39:50.152Z"
   },
   {
    "duration": 548,
    "start_time": "2022-09-15T07:39:50.629Z"
   },
   {
    "duration": 25,
    "start_time": "2022-09-15T07:39:51.179Z"
   },
   {
    "duration": 22,
    "start_time": "2022-09-15T07:39:51.206Z"
   },
   {
    "duration": 6,
    "start_time": "2022-09-15T07:39:51.230Z"
   },
   {
    "duration": 7,
    "start_time": "2022-09-15T07:39:51.238Z"
   },
   {
    "duration": 16,
    "start_time": "2022-09-15T07:39:51.246Z"
   },
   {
    "duration": 9,
    "start_time": "2022-09-15T07:55:55.706Z"
   },
   {
    "duration": 18,
    "start_time": "2022-09-15T07:56:11.649Z"
   },
   {
    "duration": 29,
    "start_time": "2022-09-15T07:56:37.519Z"
   },
   {
    "duration": 20,
    "start_time": "2022-09-15T07:58:06.282Z"
   },
   {
    "duration": 14,
    "start_time": "2022-09-15T07:58:12.104Z"
   },
   {
    "duration": 24,
    "start_time": "2022-09-15T07:58:26.698Z"
   },
   {
    "duration": 73,
    "start_time": "2022-09-15T07:58:41.330Z"
   },
   {
    "duration": 9,
    "start_time": "2022-09-15T07:58:51.581Z"
   },
   {
    "duration": 9,
    "start_time": "2022-09-15T07:58:59.430Z"
   },
   {
    "duration": 32,
    "start_time": "2022-09-15T07:59:46.102Z"
   },
   {
    "duration": 14,
    "start_time": "2022-09-15T07:59:53.259Z"
   },
   {
    "duration": 1450,
    "start_time": "2022-09-15T08:01:03.204Z"
   },
   {
    "duration": 2563,
    "start_time": "2022-09-15T08:01:04.656Z"
   },
   {
    "duration": 12,
    "start_time": "2022-09-15T08:01:07.220Z"
   },
   {
    "duration": 34,
    "start_time": "2022-09-15T08:01:07.234Z"
   },
   {
    "duration": 22,
    "start_time": "2022-09-15T08:01:07.270Z"
   },
   {
    "duration": 114,
    "start_time": "2022-09-15T08:01:07.294Z"
   },
   {
    "duration": 9,
    "start_time": "2022-09-15T08:01:07.409Z"
   },
   {
    "duration": 643,
    "start_time": "2022-09-15T08:01:07.419Z"
   },
   {
    "duration": 13,
    "start_time": "2022-09-15T08:01:08.063Z"
   },
   {
    "duration": 44,
    "start_time": "2022-09-15T08:01:08.078Z"
   },
   {
    "duration": 11,
    "start_time": "2022-09-15T08:01:08.124Z"
   },
   {
    "duration": 35,
    "start_time": "2022-09-15T08:01:08.136Z"
   },
   {
    "duration": 206,
    "start_time": "2022-09-15T08:01:08.172Z"
   },
   {
    "duration": 57,
    "start_time": "2022-09-15T08:01:08.381Z"
   },
   {
    "duration": 15,
    "start_time": "2022-09-15T08:01:08.440Z"
   },
   {
    "duration": 27,
    "start_time": "2022-09-15T08:01:08.456Z"
   },
   {
    "duration": 22,
    "start_time": "2022-09-15T08:01:08.484Z"
   },
   {
    "duration": 33,
    "start_time": "2022-09-15T08:01:08.508Z"
   },
   {
    "duration": 45,
    "start_time": "2022-09-15T08:01:08.543Z"
   },
   {
    "duration": 23,
    "start_time": "2022-09-15T08:01:08.590Z"
   },
   {
    "duration": 56,
    "start_time": "2022-09-15T08:01:08.615Z"
   },
   {
    "duration": 15,
    "start_time": "2022-09-15T08:01:08.672Z"
   },
   {
    "duration": 23,
    "start_time": "2022-09-15T08:01:08.689Z"
   },
   {
    "duration": 34,
    "start_time": "2022-09-15T08:01:08.714Z"
   },
   {
    "duration": 28,
    "start_time": "2022-09-15T08:01:08.750Z"
   },
   {
    "duration": 21,
    "start_time": "2022-09-15T08:01:08.779Z"
   },
   {
    "duration": 37,
    "start_time": "2022-09-15T08:01:08.802Z"
   },
   {
    "duration": 29,
    "start_time": "2022-09-15T08:01:08.841Z"
   },
   {
    "duration": 33,
    "start_time": "2022-09-15T08:01:08.872Z"
   },
   {
    "duration": 35,
    "start_time": "2022-09-15T08:01:08.906Z"
   },
   {
    "duration": 59,
    "start_time": "2022-09-15T08:01:08.943Z"
   },
   {
    "duration": 31,
    "start_time": "2022-09-15T08:01:09.004Z"
   },
   {
    "duration": 13,
    "start_time": "2022-09-15T08:01:09.036Z"
   },
   {
    "duration": 211,
    "start_time": "2022-09-15T08:01:09.051Z"
   },
   {
    "duration": 9,
    "start_time": "2022-09-15T08:01:09.264Z"
   },
   {
    "duration": 25,
    "start_time": "2022-09-15T08:01:09.274Z"
   },
   {
    "duration": 18,
    "start_time": "2022-09-15T08:01:09.301Z"
   },
   {
    "duration": 32,
    "start_time": "2022-09-15T08:01:09.321Z"
   },
   {
    "duration": 135,
    "start_time": "2022-09-15T08:01:09.355Z"
   },
   {
    "duration": 14,
    "start_time": "2022-09-15T08:01:09.492Z"
   },
   {
    "duration": 431,
    "start_time": "2022-09-15T08:01:09.510Z"
   },
   {
    "duration": 7,
    "start_time": "2022-09-15T08:01:09.943Z"
   },
   {
    "duration": 58,
    "start_time": "2022-09-15T08:01:09.951Z"
   },
   {
    "duration": 11,
    "start_time": "2022-09-15T08:01:10.010Z"
   },
   {
    "duration": 133,
    "start_time": "2022-09-15T08:01:10.023Z"
   },
   {
    "duration": 22,
    "start_time": "2022-09-15T08:01:10.158Z"
   },
   {
    "duration": 20,
    "start_time": "2022-09-15T08:01:10.182Z"
   },
   {
    "duration": 29,
    "start_time": "2022-09-15T08:01:10.204Z"
   },
   {
    "duration": 36,
    "start_time": "2022-09-15T08:01:10.235Z"
   },
   {
    "duration": 492,
    "start_time": "2022-09-15T08:01:10.273Z"
   },
   {
    "duration": 12,
    "start_time": "2022-09-15T08:01:10.767Z"
   },
   {
    "duration": 35,
    "start_time": "2022-09-15T08:01:10.780Z"
   },
   {
    "duration": 418,
    "start_time": "2022-09-15T08:01:10.817Z"
   },
   {
    "duration": 479,
    "start_time": "2022-09-15T08:01:11.237Z"
   },
   {
    "duration": 435,
    "start_time": "2022-09-15T08:01:11.718Z"
   },
   {
    "duration": 459,
    "start_time": "2022-09-15T08:01:12.155Z"
   },
   {
    "duration": 553,
    "start_time": "2022-09-15T08:01:12.615Z"
   },
   {
    "duration": 15,
    "start_time": "2022-09-15T08:01:13.169Z"
   },
   {
    "duration": 24,
    "start_time": "2022-09-15T08:01:13.196Z"
   },
   {
    "duration": 7,
    "start_time": "2022-09-15T08:01:13.221Z"
   },
   {
    "duration": 23,
    "start_time": "2022-09-15T08:01:13.229Z"
   },
   {
    "duration": 37,
    "start_time": "2022-09-15T08:01:13.253Z"
   },
   {
    "duration": 81,
    "start_time": "2022-09-15T08:12:44.681Z"
   },
   {
    "duration": 1304,
    "start_time": "2022-09-16T12:55:29.440Z"
   },
   {
    "duration": 996,
    "start_time": "2022-09-16T12:55:30.745Z"
   },
   {
    "duration": 13,
    "start_time": "2022-09-16T12:55:31.742Z"
   },
   {
    "duration": 36,
    "start_time": "2022-09-16T12:55:31.756Z"
   },
   {
    "duration": 32,
    "start_time": "2022-09-16T12:55:31.795Z"
   },
   {
    "duration": 95,
    "start_time": "2022-09-16T12:55:31.829Z"
   },
   {
    "duration": 8,
    "start_time": "2022-09-16T12:55:31.926Z"
   },
   {
    "duration": 553,
    "start_time": "2022-09-16T12:55:31.936Z"
   },
   {
    "duration": 7,
    "start_time": "2022-09-16T12:55:32.490Z"
   },
   {
    "duration": 49,
    "start_time": "2022-09-16T12:55:32.499Z"
   },
   {
    "duration": 5,
    "start_time": "2022-09-16T12:55:32.550Z"
   },
   {
    "duration": 39,
    "start_time": "2022-09-16T12:55:32.556Z"
   },
   {
    "duration": 189,
    "start_time": "2022-09-16T12:55:32.597Z"
   },
   {
    "duration": 88,
    "start_time": "2022-09-16T12:55:32.790Z"
   },
   {
    "duration": 47,
    "start_time": "2022-09-16T12:55:32.880Z"
   },
   {
    "duration": 18,
    "start_time": "2022-09-16T12:55:32.928Z"
   },
   {
    "duration": 17,
    "start_time": "2022-09-16T12:55:32.947Z"
   },
   {
    "duration": 20,
    "start_time": "2022-09-16T12:55:32.966Z"
   },
   {
    "duration": 14,
    "start_time": "2022-09-16T12:55:32.988Z"
   },
   {
    "duration": 37,
    "start_time": "2022-09-16T12:55:33.003Z"
   },
   {
    "duration": 25,
    "start_time": "2022-09-16T12:55:33.041Z"
   },
   {
    "duration": 51,
    "start_time": "2022-09-16T12:55:33.068Z"
   },
   {
    "duration": 7,
    "start_time": "2022-09-16T12:55:33.121Z"
   },
   {
    "duration": 61,
    "start_time": "2022-09-16T12:55:33.129Z"
   },
   {
    "duration": 28,
    "start_time": "2022-09-16T12:55:33.192Z"
   },
   {
    "duration": 22,
    "start_time": "2022-09-16T12:55:33.222Z"
   },
   {
    "duration": 41,
    "start_time": "2022-09-16T12:55:33.246Z"
   },
   {
    "duration": 7,
    "start_time": "2022-09-16T12:55:33.288Z"
   },
   {
    "duration": 29,
    "start_time": "2022-09-16T12:55:33.296Z"
   },
   {
    "duration": 31,
    "start_time": "2022-09-16T12:55:33.327Z"
   },
   {
    "duration": 37,
    "start_time": "2022-09-16T12:55:33.360Z"
   },
   {
    "duration": 43,
    "start_time": "2022-09-16T12:55:33.398Z"
   },
   {
    "duration": 13,
    "start_time": "2022-09-16T12:55:33.443Z"
   },
   {
    "duration": 197,
    "start_time": "2022-09-16T12:55:33.458Z"
   },
   {
    "duration": 7,
    "start_time": "2022-09-16T12:55:33.657Z"
   },
   {
    "duration": 98,
    "start_time": "2022-09-16T12:55:33.666Z"
   },
   {
    "duration": 692,
    "start_time": "2022-09-16T12:55:33.765Z"
   },
   {
    "duration": 267,
    "start_time": "2022-09-16T12:55:34.458Z"
   },
   {
    "duration": 50,
    "start_time": "2022-09-16T12:55:34.727Z"
   },
   {
    "duration": 694,
    "start_time": "2022-09-16T12:55:34.779Z"
   },
   {
    "duration": 217,
    "start_time": "2022-09-16T12:55:35.477Z"
   },
   {
    "duration": 10,
    "start_time": "2022-09-16T12:55:35.696Z"
   },
   {
    "duration": 32,
    "start_time": "2022-09-16T12:55:35.709Z"
   },
   {
    "duration": 11,
    "start_time": "2022-09-16T12:55:35.743Z"
   },
   {
    "duration": 12,
    "start_time": "2022-09-16T12:55:35.756Z"
   },
   {
    "duration": 6,
    "start_time": "2022-09-16T12:55:35.769Z"
   },
   {
    "duration": 8,
    "start_time": "2022-09-16T12:55:35.776Z"
   },
   {
    "duration": 127,
    "start_time": "2022-09-16T12:55:35.786Z"
   },
   {
    "duration": 12,
    "start_time": "2022-09-16T12:55:35.915Z"
   },
   {
    "duration": 119,
    "start_time": "2022-09-16T12:55:35.928Z"
   },
   {
    "duration": 9,
    "start_time": "2022-09-16T12:55:36.049Z"
   },
   {
    "duration": 359,
    "start_time": "2022-09-16T12:55:36.059Z"
   },
   {
    "duration": 386,
    "start_time": "2022-09-16T12:55:36.420Z"
   },
   {
    "duration": 6,
    "start_time": "2022-09-16T12:55:36.808Z"
   },
   {
    "duration": 23,
    "start_time": "2022-09-16T12:55:36.821Z"
   },
   {
    "duration": 12,
    "start_time": "2022-09-16T12:55:36.846Z"
   },
   {
    "duration": 21,
    "start_time": "2022-09-16T12:55:36.860Z"
   },
   {
    "duration": 44,
    "start_time": "2022-09-16T12:55:36.882Z"
   },
   {
    "duration": 243,
    "start_time": "2022-09-16T12:55:36.928Z"
   },
   {
    "duration": 4,
    "start_time": "2022-09-16T12:55:37.173Z"
   },
   {
    "duration": 380,
    "start_time": "2022-09-16T12:55:37.178Z"
   },
   {
    "duration": 388,
    "start_time": "2022-09-16T12:55:37.559Z"
   },
   {
    "duration": 393,
    "start_time": "2022-09-16T12:55:37.949Z"
   },
   {
    "duration": 403,
    "start_time": "2022-09-16T12:55:38.344Z"
   },
   {
    "duration": 437,
    "start_time": "2022-09-16T12:55:38.749Z"
   },
   {
    "duration": 12,
    "start_time": "2022-09-16T12:55:39.188Z"
   },
   {
    "duration": 44,
    "start_time": "2022-09-16T12:55:39.203Z"
   },
   {
    "duration": 8,
    "start_time": "2022-09-16T12:55:39.249Z"
   },
   {
    "duration": 10,
    "start_time": "2022-09-16T12:55:39.258Z"
   },
   {
    "duration": 14,
    "start_time": "2022-09-16T12:55:39.269Z"
   }
  ],
  "kernelspec": {
   "display_name": "Python 3 (ipykernel)",
   "language": "python",
   "name": "python3"
  },
  "language_info": {
   "codemirror_mode": {
    "name": "ipython",
    "version": 3
   },
   "file_extension": ".py",
   "mimetype": "text/x-python",
   "name": "python",
   "nbconvert_exporter": "python",
   "pygments_lexer": "ipython3",
   "version": "3.9.5"
  },
  "toc": {
   "base_numbering": 1,
   "nav_menu": {},
   "number_sections": true,
   "sideBar": true,
   "skip_h1_title": true,
   "title_cell": "Table of Contents",
   "title_sidebar": "Contents",
   "toc_cell": false,
   "toc_position": {},
   "toc_section_display": true,
   "toc_window_display": false
  }
 },
 "nbformat": 4,
 "nbformat_minor": 5
}
