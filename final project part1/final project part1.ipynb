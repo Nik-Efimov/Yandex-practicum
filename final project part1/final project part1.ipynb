{
 "cells": [
  {
   "cell_type": "markdown",
   "id": "e7a468b7",
   "metadata": {},
   "source": [
    "# Проект анализа оттока клиентов банка"
   ]
  },
  {
   "cell_type": "markdown",
   "id": "01b5a8bf",
   "metadata": {},
   "source": [
    "## Материалы:"
   ]
  },
  {
   "cell_type": "markdown",
   "id": "19c8a626",
   "metadata": {},
   "source": [
    "**Презентация:** https://disk.yandex.ru/i/FHs2cCGLq7NOCg"
   ]
  },
  {
   "cell_type": "markdown",
   "id": "96f11c6b",
   "metadata": {},
   "source": [
    "## Цель проекта:"
   ]
  },
  {
   "cell_type": "markdown",
   "id": "f1751041",
   "metadata": {},
   "source": [
    "Проанализировать клиентов регионального банка и выделить портрет клиентов, которые склонны уходить из банка. \n",
    "\n",
    "На основании анализа, описать возможные причины оттока и предложить рекомендации для снижения негативной динамики."
   ]
  },
  {
   "cell_type": "markdown",
   "id": "6b8a3161",
   "metadata": {},
   "source": [
    "## Входные данные:"
   ]
  },
  {
   "cell_type": "markdown",
   "id": "acdbcc9f",
   "metadata": {},
   "source": [
    "Датасет содержит данные о клиентах банка «Метанпром». Банк располагается в Ярославле и областных городах: Ростов Великий и Рыбинск"
   ]
  },
  {
   "cell_type": "markdown",
   "id": "ea7a2e90",
   "metadata": {},
   "source": [
    "## Описание данных"
   ]
  },
  {
   "cell_type": "markdown",
   "id": "12edd7e1",
   "metadata": {},
   "source": [
    "Колонки:\n",
    "\n",
    "- `userid` — идентификатор пользователя,\n",
    "- `score` — баллы кредитного скоринга,\n",
    "- `City` — город,\n",
    "- `Gender` — пол,\n",
    "- `Age` — возраст,\n",
    "- `Objects` — количество объектов в собственности,\n",
    "- `Balance` — баланс на счёте,\n",
    "- `Products` — количество продуктов, которыми пользуется клиент,\n",
    "- `CreditCard` — есть ли кредитная карта,\n",
    "- `Loyalty` — активный клиент,\n",
    "- `estimated_salary` — заработная плата клиента,\n",
    "- `Churn` — ушёл или нет."
   ]
  },
  {
   "cell_type": "markdown",
   "id": "f152affc",
   "metadata": {},
   "source": [
    "## План проекта:"
   ]
  },
  {
   "cell_type": "markdown",
   "id": "92bb4c6b",
   "metadata": {},
   "source": [
    "### Этап 1. Получение данных"
   ]
  },
  {
   "cell_type": "markdown",
   "id": "845e04d2",
   "metadata": {},
   "source": [
    "    - импортируем библиотеки\n",
    "    - откроем файлы с данными\n",
    "    - изучим общую информацию данных"
   ]
  },
  {
   "cell_type": "markdown",
   "id": "b1094743",
   "metadata": {},
   "source": [
    "### Этап 2. Предобработка данных"
   ]
  },
  {
   "cell_type": "markdown",
   "id": "e6af245b",
   "metadata": {},
   "source": [
    "    - найдем и исправим ошибки\n",
    "    - приведем данные к нужным типам\n",
    "    - заменим/удалим/оставим пропуски"
   ]
  },
  {
   "cell_type": "markdown",
   "id": "ebb2c0fe",
   "metadata": {},
   "source": [
    "### Этап 3. Исследовательский анализ данных"
   ]
  },
  {
   "cell_type": "markdown",
   "id": "4d9283e3",
   "metadata": {},
   "source": [
    "- посмотрим есть ли в датасете отсутствующие признаки, изучим средние значения и стандартные отклонения\n",
    "- посмотрим на средние значения признаков в двух группах — тех, кто ушел в отток и тех, кто остался\n",
    "- построим столбчатые гистограммы и распределения признаков для тех, кто ушёл (отток) и тех, кто остался (не попали в отток)\n",
    "- построим матрицу корреляций"
   ]
  },
  {
   "cell_type": "markdown",
   "id": "da534b2d",
   "metadata": {},
   "source": [
    "### Этап 4. Сегментация клиентов"
   ]
  },
  {
   "cell_type": "markdown",
   "id": "3de8126e",
   "metadata": {},
   "source": [
    "Для этого:\n",
    "- сгруппируем клиентов по нескольким признакам, построим графики. Сделаем выводы.\n",
    "- определим признаки влияющие на отток клиентов.\n",
    "- определим долю клиентов, склонных к оттоку.\n",
    "- сформируем портреты групп клиентов: \"лояльные\", \"уходящие\""
   ]
  },
  {
   "cell_type": "markdown",
   "id": "2c8b45f4",
   "metadata": {},
   "source": [
    "### Этап 5. Проверка гипотез"
   ]
  },
  {
   "cell_type": "markdown",
   "id": "638aa0b4",
   "metadata": {},
   "source": [
    "Гипотезы:\n",
    "- Средние доходы между клиентами, которые ушли и теми, которые остались одинаковые\n",
    "- Среднее значение возраста клиентов, которые ушли и тех, которые остались одинаковое"
   ]
  },
  {
   "cell_type": "markdown",
   "id": "9e5c4fda",
   "metadata": {},
   "source": [
    "### Этап 6. Выводы и рекомендации"
   ]
  },
  {
   "cell_type": "markdown",
   "id": "201cc420",
   "metadata": {},
   "source": [
    "## Этап 1. Получение данных"
   ]
  },
  {
   "cell_type": "code",
   "execution_count": 1,
   "id": "de7a5918",
   "metadata": {},
   "outputs": [],
   "source": [
    "#импортируем библиотеки\n",
    "import pandas as pd\n",
    "import matplotlib.pyplot as plt\n",
    "from matplotlib.colors import LinearSegmentedColormap\n",
    "import seaborn as sns\n",
    "import numpy as np\n",
    "from scipy import stats as st"
   ]
  },
  {
   "cell_type": "code",
   "execution_count": 2,
   "id": "95365a3c",
   "metadata": {},
   "outputs": [],
   "source": [
    "#загрузим данные\n",
    "data = pd.read_csv('https://code.s3.yandex.net/datasets/bank_dataset.csv')"
   ]
  },
  {
   "cell_type": "code",
   "execution_count": 3,
   "id": "7688dfb9",
   "metadata": {},
   "outputs": [
    {
     "data": {
      "text/html": [
       "<div>\n",
       "<style scoped>\n",
       "    .dataframe tbody tr th:only-of-type {\n",
       "        vertical-align: middle;\n",
       "    }\n",
       "\n",
       "    .dataframe tbody tr th {\n",
       "        vertical-align: top;\n",
       "    }\n",
       "\n",
       "    .dataframe thead th {\n",
       "        text-align: right;\n",
       "    }\n",
       "</style>\n",
       "<table border=\"1\" class=\"dataframe\">\n",
       "  <thead>\n",
       "    <tr style=\"text-align: right;\">\n",
       "      <th></th>\n",
       "      <th>userid</th>\n",
       "      <th>score</th>\n",
       "      <th>City</th>\n",
       "      <th>Gender</th>\n",
       "      <th>Age</th>\n",
       "      <th>Objects</th>\n",
       "      <th>Balance</th>\n",
       "      <th>Products</th>\n",
       "      <th>CreditCard</th>\n",
       "      <th>Loyalty</th>\n",
       "      <th>estimated_salary</th>\n",
       "      <th>Churn</th>\n",
       "    </tr>\n",
       "  </thead>\n",
       "  <tbody>\n",
       "    <tr>\n",
       "      <th>0</th>\n",
       "      <td>15677338</td>\n",
       "      <td>619</td>\n",
       "      <td>Ярославль</td>\n",
       "      <td>Ж</td>\n",
       "      <td>42</td>\n",
       "      <td>2</td>\n",
       "      <td>NaN</td>\n",
       "      <td>1</td>\n",
       "      <td>1</td>\n",
       "      <td>1</td>\n",
       "      <td>101348.88</td>\n",
       "      <td>1</td>\n",
       "    </tr>\n",
       "    <tr>\n",
       "      <th>1</th>\n",
       "      <td>15690047</td>\n",
       "      <td>608</td>\n",
       "      <td>Рыбинск</td>\n",
       "      <td>Ж</td>\n",
       "      <td>41</td>\n",
       "      <td>1</td>\n",
       "      <td>83807.86</td>\n",
       "      <td>1</td>\n",
       "      <td>0</td>\n",
       "      <td>1</td>\n",
       "      <td>112542.58</td>\n",
       "      <td>0</td>\n",
       "    </tr>\n",
       "    <tr>\n",
       "      <th>2</th>\n",
       "      <td>15662040</td>\n",
       "      <td>502</td>\n",
       "      <td>Ярославль</td>\n",
       "      <td>Ж</td>\n",
       "      <td>42</td>\n",
       "      <td>8</td>\n",
       "      <td>159660.80</td>\n",
       "      <td>3</td>\n",
       "      <td>1</td>\n",
       "      <td>0</td>\n",
       "      <td>113931.57</td>\n",
       "      <td>1</td>\n",
       "    </tr>\n",
       "    <tr>\n",
       "      <th>3</th>\n",
       "      <td>15744090</td>\n",
       "      <td>699</td>\n",
       "      <td>Ярославль</td>\n",
       "      <td>Ж</td>\n",
       "      <td>39</td>\n",
       "      <td>1</td>\n",
       "      <td>NaN</td>\n",
       "      <td>2</td>\n",
       "      <td>0</td>\n",
       "      <td>0</td>\n",
       "      <td>93826.63</td>\n",
       "      <td>0</td>\n",
       "    </tr>\n",
       "    <tr>\n",
       "      <th>4</th>\n",
       "      <td>15780624</td>\n",
       "      <td>850</td>\n",
       "      <td>Рыбинск</td>\n",
       "      <td>Ж</td>\n",
       "      <td>43</td>\n",
       "      <td>2</td>\n",
       "      <td>125510.82</td>\n",
       "      <td>1</td>\n",
       "      <td>1</td>\n",
       "      <td>1</td>\n",
       "      <td>79084.10</td>\n",
       "      <td>0</td>\n",
       "    </tr>\n",
       "  </tbody>\n",
       "</table>\n",
       "</div>"
      ],
      "text/plain": [
       "     userid  score       City Gender  Age  Objects    Balance  Products  \\\n",
       "0  15677338    619  Ярославль      Ж   42        2        NaN         1   \n",
       "1  15690047    608    Рыбинск      Ж   41        1   83807.86         1   \n",
       "2  15662040    502  Ярославль      Ж   42        8  159660.80         3   \n",
       "3  15744090    699  Ярославль      Ж   39        1        NaN         2   \n",
       "4  15780624    850    Рыбинск      Ж   43        2  125510.82         1   \n",
       "\n",
       "   CreditCard  Loyalty  estimated_salary  Churn  \n",
       "0           1        1         101348.88      1  \n",
       "1           0        1         112542.58      0  \n",
       "2           1        0         113931.57      1  \n",
       "3           0        0          93826.63      0  \n",
       "4           1        1          79084.10      0  "
      ]
     },
     "execution_count": 3,
     "metadata": {},
     "output_type": "execute_result"
    }
   ],
   "source": [
    "data.head() #посмотрим на несколько строк данных"
   ]
  },
  {
   "cell_type": "code",
   "execution_count": 4,
   "id": "6655d05c",
   "metadata": {},
   "outputs": [
    {
     "name": "stdout",
     "output_type": "stream",
     "text": [
      "Общая информация\n",
      "<class 'pandas.core.frame.DataFrame'>\n",
      "RangeIndex: 10000 entries, 0 to 9999\n",
      "Data columns (total 12 columns):\n",
      " #   Column            Non-Null Count  Dtype  \n",
      "---  ------            --------------  -----  \n",
      " 0   userid            10000 non-null  int64  \n",
      " 1   score             10000 non-null  int64  \n",
      " 2   City              10000 non-null  object \n",
      " 3   Gender            10000 non-null  object \n",
      " 4   Age               10000 non-null  int64  \n",
      " 5   Objects           10000 non-null  int64  \n",
      " 6   Balance           6383 non-null   float64\n",
      " 7   Products          10000 non-null  int64  \n",
      " 8   CreditCard        10000 non-null  int64  \n",
      " 9   Loyalty           10000 non-null  int64  \n",
      " 10  estimated_salary  10000 non-null  float64\n",
      " 11  Churn             10000 non-null  int64  \n",
      "dtypes: float64(2), int64(8), object(2)\n",
      "memory usage: 937.6+ KB\n",
      "====================================\n",
      "Дубликатов в таблице: 0\n",
      "====================================\n",
      "Пропусков в таблице:\n",
      "userid                 0\n",
      "score                  0\n",
      "City                   0\n",
      "Gender                 0\n",
      "Age                    0\n",
      "Objects                0\n",
      "Balance             3617\n",
      "Products               0\n",
      "CreditCard             0\n",
      "Loyalty                0\n",
      "estimated_salary       0\n",
      "Churn                  0\n",
      "dtype: int64\n",
      "====================================\n",
      "Количество уникальных значений:\n",
      "userid              10000\n",
      "score                 460\n",
      "City                    3\n",
      "Gender                  2\n",
      "Age                    70\n",
      "Objects                11\n",
      "Balance              6381\n",
      "Products                4\n",
      "CreditCard              2\n",
      "Loyalty                 2\n",
      "estimated_salary     9999\n",
      "Churn                   2\n",
      "dtype: int64\n"
     ]
    }
   ],
   "source": [
    "#посмотрим общую информацию\n",
    "print('Общая информация')\n",
    "data.info()\n",
    "print('====================================')\n",
    "print('Дубликатов в таблице:', data.duplicated().sum())\n",
    "print('====================================')\n",
    "print('Пропусков в таблице:')\n",
    "print(data.isna().sum())\n",
    "print('====================================')\n",
    "print('Количество уникальных значений:')\n",
    "print(data.nunique())"
   ]
  },
  {
   "cell_type": "markdown",
   "id": "f70d6d84",
   "metadata": {},
   "source": [
    " ## Этап 2. Предобработка данных"
   ]
  },
  {
   "cell_type": "markdown",
   "id": "b5ffba11",
   "metadata": {},
   "source": [
    "**Исправим наименования столбцов**"
   ]
  },
  {
   "cell_type": "code",
   "execution_count": 5,
   "id": "1ada2b04",
   "metadata": {},
   "outputs": [
    {
     "data": {
      "text/plain": [
       "Index(['userid', 'score', 'city', 'gender', 'age', 'objects', 'balance',\n",
       "       'products', 'creditcard', 'loyalty', 'estimated_salary', 'churn'],\n",
       "      dtype='object')"
      ]
     },
     "execution_count": 5,
     "metadata": {},
     "output_type": "execute_result"
    }
   ],
   "source": [
    "# приведем названия столбцов к нижнему регистру\n",
    "data.columns = data.columns.str.lower()\n",
    "data.columns"
   ]
  },
  {
   "cell_type": "markdown",
   "id": "1dfa7f4e",
   "metadata": {},
   "source": [
    "**Разберемся с пропусками в балансах**"
   ]
  },
  {
   "cell_type": "markdown",
   "id": "e14e2284",
   "metadata": {},
   "source": [
    "В столбце `balance` 3617 пропущенных значений, около 1/3 всех данных. Это много. Но удалять их не будем, слишком много потеряем."
   ]
  },
  {
   "cell_type": "markdown",
   "id": "e45a8a4e",
   "metadata": {},
   "source": [
    "Посмотрим на клиентов с пропуском в балансе подробнее."
   ]
  },
  {
   "cell_type": "markdown",
   "id": "055beb9e",
   "metadata": {},
   "source": [
    "Создадим столбец-копию по балансу, заменим пропуски на 'не указан', там где есть баланс - 'указан'."
   ]
  },
  {
   "cell_type": "code",
   "execution_count": 6,
   "id": "af906325",
   "metadata": {},
   "outputs": [],
   "source": [
    "data['balance_copy'] = data['balance'].copy()\n",
    "data['balance_copy'] = data['balance_copy'].fillna('не указан')\n",
    "data.loc[(data['balance_copy'] != 'не указан'), 'balance_copy'] = 'указан'"
   ]
  },
  {
   "cell_type": "code",
   "execution_count": 7,
   "id": "fea8b82a",
   "metadata": {},
   "outputs": [
    {
     "data": {
      "text/html": [
       "<div>\n",
       "<style scoped>\n",
       "    .dataframe tbody tr th:only-of-type {\n",
       "        vertical-align: middle;\n",
       "    }\n",
       "\n",
       "    .dataframe tbody tr th {\n",
       "        vertical-align: top;\n",
       "    }\n",
       "\n",
       "    .dataframe thead th {\n",
       "        text-align: right;\n",
       "    }\n",
       "</style>\n",
       "<table border=\"1\" class=\"dataframe\">\n",
       "  <thead>\n",
       "    <tr style=\"text-align: right;\">\n",
       "      <th></th>\n",
       "      <th>userid</th>\n",
       "      <th>score</th>\n",
       "      <th>city</th>\n",
       "      <th>gender</th>\n",
       "      <th>age</th>\n",
       "      <th>objects</th>\n",
       "      <th>balance</th>\n",
       "      <th>products</th>\n",
       "      <th>creditcard</th>\n",
       "      <th>loyalty</th>\n",
       "      <th>estimated_salary</th>\n",
       "      <th>churn</th>\n",
       "      <th>balance_copy</th>\n",
       "    </tr>\n",
       "  </thead>\n",
       "  <tbody>\n",
       "    <tr>\n",
       "      <th>0</th>\n",
       "      <td>15677338</td>\n",
       "      <td>619</td>\n",
       "      <td>Ярославль</td>\n",
       "      <td>Ж</td>\n",
       "      <td>42</td>\n",
       "      <td>2</td>\n",
       "      <td>NaN</td>\n",
       "      <td>1</td>\n",
       "      <td>1</td>\n",
       "      <td>1</td>\n",
       "      <td>101348.88</td>\n",
       "      <td>1</td>\n",
       "      <td>не указан</td>\n",
       "    </tr>\n",
       "    <tr>\n",
       "      <th>1</th>\n",
       "      <td>15690047</td>\n",
       "      <td>608</td>\n",
       "      <td>Рыбинск</td>\n",
       "      <td>Ж</td>\n",
       "      <td>41</td>\n",
       "      <td>1</td>\n",
       "      <td>83807.86</td>\n",
       "      <td>1</td>\n",
       "      <td>0</td>\n",
       "      <td>1</td>\n",
       "      <td>112542.58</td>\n",
       "      <td>0</td>\n",
       "      <td>указан</td>\n",
       "    </tr>\n",
       "    <tr>\n",
       "      <th>2</th>\n",
       "      <td>15662040</td>\n",
       "      <td>502</td>\n",
       "      <td>Ярославль</td>\n",
       "      <td>Ж</td>\n",
       "      <td>42</td>\n",
       "      <td>8</td>\n",
       "      <td>159660.80</td>\n",
       "      <td>3</td>\n",
       "      <td>1</td>\n",
       "      <td>0</td>\n",
       "      <td>113931.57</td>\n",
       "      <td>1</td>\n",
       "      <td>указан</td>\n",
       "    </tr>\n",
       "    <tr>\n",
       "      <th>3</th>\n",
       "      <td>15744090</td>\n",
       "      <td>699</td>\n",
       "      <td>Ярославль</td>\n",
       "      <td>Ж</td>\n",
       "      <td>39</td>\n",
       "      <td>1</td>\n",
       "      <td>NaN</td>\n",
       "      <td>2</td>\n",
       "      <td>0</td>\n",
       "      <td>0</td>\n",
       "      <td>93826.63</td>\n",
       "      <td>0</td>\n",
       "      <td>не указан</td>\n",
       "    </tr>\n",
       "    <tr>\n",
       "      <th>4</th>\n",
       "      <td>15780624</td>\n",
       "      <td>850</td>\n",
       "      <td>Рыбинск</td>\n",
       "      <td>Ж</td>\n",
       "      <td>43</td>\n",
       "      <td>2</td>\n",
       "      <td>125510.82</td>\n",
       "      <td>1</td>\n",
       "      <td>1</td>\n",
       "      <td>1</td>\n",
       "      <td>79084.10</td>\n",
       "      <td>0</td>\n",
       "      <td>указан</td>\n",
       "    </tr>\n",
       "  </tbody>\n",
       "</table>\n",
       "</div>"
      ],
      "text/plain": [
       "     userid  score       city gender  age  objects    balance  products  \\\n",
       "0  15677338    619  Ярославль      Ж   42        2        NaN         1   \n",
       "1  15690047    608    Рыбинск      Ж   41        1   83807.86         1   \n",
       "2  15662040    502  Ярославль      Ж   42        8  159660.80         3   \n",
       "3  15744090    699  Ярославль      Ж   39        1        NaN         2   \n",
       "4  15780624    850    Рыбинск      Ж   43        2  125510.82         1   \n",
       "\n",
       "   creditcard  loyalty  estimated_salary  churn balance_copy  \n",
       "0           1        1         101348.88      1    не указан  \n",
       "1           0        1         112542.58      0       указан  \n",
       "2           1        0         113931.57      1       указан  \n",
       "3           0        0          93826.63      0    не указан  \n",
       "4           1        1          79084.10      0       указан  "
      ]
     },
     "execution_count": 7,
     "metadata": {},
     "output_type": "execute_result"
    }
   ],
   "source": [
    "data.head() # проверим"
   ]
  },
  {
   "cell_type": "markdown",
   "id": "79521feb",
   "metadata": {},
   "source": [
    "Посмотрим на средние знаения и доли по признакам"
   ]
  },
  {
   "cell_type": "code",
   "execution_count": 8,
   "id": "c52adc57",
   "metadata": {},
   "outputs": [
    {
     "data": {
      "text/html": [
       "<div>\n",
       "<style scoped>\n",
       "    .dataframe tbody tr th:only-of-type {\n",
       "        vertical-align: middle;\n",
       "    }\n",
       "\n",
       "    .dataframe tbody tr th {\n",
       "        vertical-align: top;\n",
       "    }\n",
       "\n",
       "    .dataframe thead th {\n",
       "        text-align: right;\n",
       "    }\n",
       "</style>\n",
       "<table border=\"1\" class=\"dataframe\">\n",
       "  <thead>\n",
       "    <tr style=\"text-align: right;\">\n",
       "      <th>balance_copy</th>\n",
       "      <th>не указан</th>\n",
       "      <th>указан</th>\n",
       "    </tr>\n",
       "  </thead>\n",
       "  <tbody>\n",
       "    <tr>\n",
       "      <th>userid</th>\n",
       "      <td>15734685.59</td>\n",
       "      <td>15733104.80</td>\n",
       "    </tr>\n",
       "    <tr>\n",
       "      <th>score</th>\n",
       "      <td>649.45</td>\n",
       "      <td>651.14</td>\n",
       "    </tr>\n",
       "    <tr>\n",
       "      <th>age</th>\n",
       "      <td>38.43</td>\n",
       "      <td>39.20</td>\n",
       "    </tr>\n",
       "    <tr>\n",
       "      <th>objects</th>\n",
       "      <td>5.07</td>\n",
       "      <td>4.98</td>\n",
       "    </tr>\n",
       "    <tr>\n",
       "      <th>balance</th>\n",
       "      <td>NaN</td>\n",
       "      <td>119827.49</td>\n",
       "    </tr>\n",
       "    <tr>\n",
       "      <th>products</th>\n",
       "      <td>1.78</td>\n",
       "      <td>1.39</td>\n",
       "    </tr>\n",
       "    <tr>\n",
       "      <th>creditcard</th>\n",
       "      <td>0.72</td>\n",
       "      <td>0.70</td>\n",
       "    </tr>\n",
       "    <tr>\n",
       "      <th>loyalty</th>\n",
       "      <td>0.52</td>\n",
       "      <td>0.51</td>\n",
       "    </tr>\n",
       "    <tr>\n",
       "      <th>estimated_salary</th>\n",
       "      <td>98983.56</td>\n",
       "      <td>100717.35</td>\n",
       "    </tr>\n",
       "    <tr>\n",
       "      <th>churn</th>\n",
       "      <td>0.14</td>\n",
       "      <td>0.24</td>\n",
       "    </tr>\n",
       "  </tbody>\n",
       "</table>\n",
       "</div>"
      ],
      "text/plain": [
       "balance_copy        не указан       указан\n",
       "userid            15734685.59  15733104.80\n",
       "score                  649.45       651.14\n",
       "age                     38.43        39.20\n",
       "objects                  5.07         4.98\n",
       "balance                   NaN    119827.49\n",
       "products                 1.78         1.39\n",
       "creditcard               0.72         0.70\n",
       "loyalty                  0.52         0.51\n",
       "estimated_salary     98983.56    100717.35\n",
       "churn                    0.14         0.24"
      ]
     },
     "execution_count": 8,
     "metadata": {},
     "output_type": "execute_result"
    }
   ],
   "source": [
    "data.groupby('balance_copy').agg('mean').T.round(2)"
   ]
  },
  {
   "cell_type": "markdown",
   "id": "4e18f5fe",
   "metadata": {},
   "source": [
    "В глаза бросается различие по количеству продуктов: у клиентов без баланса продуктов ближе к 2-м, с балансом - ближе к 1-му. Также есть разнице в процентах оттока в двух группах. Без баланса - 14%, с балансом - 24%."
   ]
  },
  {
   "cell_type": "code",
   "execution_count": 9,
   "id": "ea381f89",
   "metadata": {},
   "outputs": [
    {
     "data": {
      "text/html": [
       "<div>\n",
       "<style scoped>\n",
       "    .dataframe tbody tr th:only-of-type {\n",
       "        vertical-align: middle;\n",
       "    }\n",
       "\n",
       "    .dataframe tbody tr th {\n",
       "        vertical-align: top;\n",
       "    }\n",
       "\n",
       "    .dataframe thead tr th {\n",
       "        text-align: left;\n",
       "    }\n",
       "\n",
       "    .dataframe thead tr:last-of-type th {\n",
       "        text-align: right;\n",
       "    }\n",
       "</style>\n",
       "<table border=\"1\" class=\"dataframe\">\n",
       "  <thead>\n",
       "    <tr>\n",
       "      <th></th>\n",
       "      <th colspan=\"2\" halign=\"left\">count</th>\n",
       "    </tr>\n",
       "    <tr>\n",
       "      <th></th>\n",
       "      <th colspan=\"2\" halign=\"left\">userid</th>\n",
       "    </tr>\n",
       "    <tr>\n",
       "      <th>balance_copy</th>\n",
       "      <th>не указан</th>\n",
       "      <th>указан</th>\n",
       "    </tr>\n",
       "    <tr>\n",
       "      <th>churn</th>\n",
       "      <th></th>\n",
       "      <th></th>\n",
       "    </tr>\n",
       "  </thead>\n",
       "  <tbody>\n",
       "    <tr>\n",
       "      <th>0</th>\n",
       "      <td>3117</td>\n",
       "      <td>4846</td>\n",
       "    </tr>\n",
       "    <tr>\n",
       "      <th>1</th>\n",
       "      <td>500</td>\n",
       "      <td>1537</td>\n",
       "    </tr>\n",
       "  </tbody>\n",
       "</table>\n",
       "</div>"
      ],
      "text/plain": [
       "                 count       \n",
       "                userid       \n",
       "balance_copy не указан указан\n",
       "churn                        \n",
       "0                 3117   4846\n",
       "1                  500   1537"
      ]
     },
     "execution_count": 9,
     "metadata": {},
     "output_type": "execute_result"
    }
   ],
   "source": [
    "pd.pivot_table(data,\n",
    "               values=[\"userid\"],\n",
    "               index=['churn'],\n",
    "               columns=[\"balance_copy\"],\n",
    "               aggfunc=['count'])"
   ]
  },
  {
   "cell_type": "markdown",
   "id": "a0fc1335",
   "metadata": {},
   "source": [
    "В оттоке доля клиентов без баланса меньше "
   ]
  },
  {
   "cell_type": "markdown",
   "id": "42a5fc5b",
   "metadata": {},
   "source": [
    "Посмотрим ситуацию по продуктам"
   ]
  },
  {
   "cell_type": "code",
   "execution_count": 10,
   "id": "77b63b24",
   "metadata": {},
   "outputs": [
    {
     "data": {
      "text/html": [
       "<div>\n",
       "<style scoped>\n",
       "    .dataframe tbody tr th:only-of-type {\n",
       "        vertical-align: middle;\n",
       "    }\n",
       "\n",
       "    .dataframe tbody tr th {\n",
       "        vertical-align: top;\n",
       "    }\n",
       "\n",
       "    .dataframe thead tr th {\n",
       "        text-align: left;\n",
       "    }\n",
       "\n",
       "    .dataframe thead tr:last-of-type th {\n",
       "        text-align: right;\n",
       "    }\n",
       "</style>\n",
       "<table border=\"1\" class=\"dataframe\">\n",
       "  <thead>\n",
       "    <tr>\n",
       "      <th></th>\n",
       "      <th colspan=\"2\" halign=\"left\">count</th>\n",
       "    </tr>\n",
       "    <tr>\n",
       "      <th></th>\n",
       "      <th colspan=\"2\" halign=\"left\">userid</th>\n",
       "    </tr>\n",
       "    <tr>\n",
       "      <th>balance_copy</th>\n",
       "      <th>не указан</th>\n",
       "      <th>указан</th>\n",
       "    </tr>\n",
       "    <tr>\n",
       "      <th>products</th>\n",
       "      <th></th>\n",
       "      <th></th>\n",
       "    </tr>\n",
       "  </thead>\n",
       "  <tbody>\n",
       "    <tr>\n",
       "      <th>1</th>\n",
       "      <td>905</td>\n",
       "      <td>4179</td>\n",
       "    </tr>\n",
       "    <tr>\n",
       "      <th>2</th>\n",
       "      <td>2600</td>\n",
       "      <td>1990</td>\n",
       "    </tr>\n",
       "    <tr>\n",
       "      <th>3</th>\n",
       "      <td>98</td>\n",
       "      <td>168</td>\n",
       "    </tr>\n",
       "    <tr>\n",
       "      <th>4</th>\n",
       "      <td>14</td>\n",
       "      <td>46</td>\n",
       "    </tr>\n",
       "  </tbody>\n",
       "</table>\n",
       "</div>"
      ],
      "text/plain": [
       "                 count       \n",
       "                userid       \n",
       "balance_copy не указан указан\n",
       "products                     \n",
       "1                  905   4179\n",
       "2                 2600   1990\n",
       "3                   98    168\n",
       "4                   14     46"
      ]
     },
     "execution_count": 10,
     "metadata": {},
     "output_type": "execute_result"
    }
   ],
   "source": [
    "pd.pivot_table(data,\n",
    "               values=[\"userid\"],\n",
    "               index=['products'],\n",
    "               columns=[\"balance_copy\"],\n",
    "               aggfunc=['count'])"
   ]
  },
  {
   "cell_type": "markdown",
   "id": "de2b0672",
   "metadata": {},
   "source": [
    "Значительно превышает доля клиентов с пропуском баланса с 2-мя продуктами"
   ]
  },
  {
   "cell_type": "markdown",
   "id": "7e7e806b",
   "metadata": {},
   "source": [
    "Постмотрим на гистограммы распределения долей по балансу"
   ]
  },
  {
   "cell_type": "code",
   "execution_count": 11,
   "id": "a44a3b12",
   "metadata": {},
   "outputs": [
    {
     "data": {
      "image/png": "[encoded data removed]",
      "text/plain": [
       "<Figure size 1152x576 with 6 Axes>"
      ]
     },
     "metadata": {
      "needs_background": "light"
     },
     "output_type": "display_data"
    }
   ],
   "source": [
    "fig, axes = plt.subplots(2, 3, figsize=(16, 8))\n",
    "\n",
    "fig.suptitle('Гистограммы признаков')\n",
    "hue = 'balance_copy'\n",
    "stat=\"probability\"\n",
    "sns.histplot(ax=axes[0, 0], x='gender', stat=stat, bins=2, common_norm=False, data=data, hue = hue)\n",
    "sns.histplot(ax=axes[0, 1], x='objects', stat=stat, bins=10, common_norm=False, data=data, hue = hue)\n",
    "sns.histplot(ax=axes[0, 2], x='city', stat=stat, bins=3, common_norm=False, data=data, hue = hue)\n",
    "sns.histplot(ax=axes[1, 0], x='loyalty', stat=stat, bins=2, common_norm=False, data=data, hue = hue)\n",
    "sns.histplot(ax=axes[1, 1], x='creditcard', stat=stat, bins=2, common_norm=False, data=data, hue = hue)\n",
    "sns.histplot(ax=axes[1, 2], x='products', stat=stat, bins=4, common_norm=False, data=data, hue = hue)\n",
    "plt.show() "
   ]
  },
  {
   "cell_type": "markdown",
   "id": "91d2b31d",
   "metadata": {},
   "source": [
    "С продуктом мы определились, по остальным параметрам более менее доли равны. Но вот по городам есть аномалия. В Ростове Великом отсутствуют клиенты с пропущенным балансом"
   ]
  },
  {
   "cell_type": "code",
   "execution_count": 12,
   "id": "608b850f",
   "metadata": {},
   "outputs": [
    {
     "data": {
      "text/html": [
       "<div>\n",
       "<style scoped>\n",
       "    .dataframe tbody tr th:only-of-type {\n",
       "        vertical-align: middle;\n",
       "    }\n",
       "\n",
       "    .dataframe tbody tr th {\n",
       "        vertical-align: top;\n",
       "    }\n",
       "\n",
       "    .dataframe thead tr th {\n",
       "        text-align: left;\n",
       "    }\n",
       "\n",
       "    .dataframe thead tr:last-of-type th {\n",
       "        text-align: right;\n",
       "    }\n",
       "</style>\n",
       "<table border=\"1\" class=\"dataframe\">\n",
       "  <thead>\n",
       "    <tr>\n",
       "      <th></th>\n",
       "      <th colspan=\"2\" halign=\"left\">count</th>\n",
       "    </tr>\n",
       "    <tr>\n",
       "      <th></th>\n",
       "      <th colspan=\"2\" halign=\"left\">userid</th>\n",
       "    </tr>\n",
       "    <tr>\n",
       "      <th>balance_copy</th>\n",
       "      <th>не указан</th>\n",
       "      <th>указан</th>\n",
       "    </tr>\n",
       "    <tr>\n",
       "      <th>city</th>\n",
       "      <th></th>\n",
       "      <th></th>\n",
       "    </tr>\n",
       "  </thead>\n",
       "  <tbody>\n",
       "    <tr>\n",
       "      <th>Ростов Великий</th>\n",
       "      <td>NaN</td>\n",
       "      <td>2509.0</td>\n",
       "    </tr>\n",
       "    <tr>\n",
       "      <th>Рыбинск</th>\n",
       "      <td>1199.0</td>\n",
       "      <td>1278.0</td>\n",
       "    </tr>\n",
       "    <tr>\n",
       "      <th>Ярославль</th>\n",
       "      <td>2418.0</td>\n",
       "      <td>2596.0</td>\n",
       "    </tr>\n",
       "  </tbody>\n",
       "</table>\n",
       "</div>"
      ],
      "text/plain": [
       "                   count        \n",
       "                  userid        \n",
       "balance_copy   не указан  указан\n",
       "city                            \n",
       "Ростов Великий       NaN  2509.0\n",
       "Рыбинск           1199.0  1278.0\n",
       "Ярославль         2418.0  2596.0"
      ]
     },
     "execution_count": 12,
     "metadata": {},
     "output_type": "execute_result"
    }
   ],
   "source": [
    "pd.pivot_table(data,\n",
    "               values=[\"userid\"],\n",
    "               index=['city'],\n",
    "               columns=[\"balance_copy\"],\n",
    "               aggfunc=['count'])"
   ]
  },
  {
   "cell_type": "markdown",
   "id": "dbc7945c",
   "metadata": {},
   "source": [
    "Так и есть, в Ярославле и Рыбинске доли клиентов без баланса и с балансом равняются примерно 50 на 50, а вот в Ростове клиентов с пропусками нет совсем.\n",
    "\n",
    "Явные причины такой аномалии нам неизвестны. Можно предположить, что в отделениях банка этого города произошел системный сбой. Чуть ниже мы рассмотрим ситуацию с оттоком в этом городе подробнее."
   ]
  },
  {
   "cell_type": "markdown",
   "id": "a9a5a8ea",
   "metadata": {},
   "source": [
    "Посмотрим, влияет ли баланс на динамику оттока."
   ]
  },
  {
   "cell_type": "code",
   "execution_count": 13,
   "id": "7d732a31",
   "metadata": {},
   "outputs": [
    {
     "data": {
      "image/png": "[encoded data removed]",
      "text/plain": [
       "<Figure size 1008x504 with 1 Axes>"
      ]
     },
     "metadata": {
      "needs_background": "light"
     },
     "output_type": "display_data"
    }
   ],
   "source": [
    "f, ax = plt.subplots(figsize=(14, 7))\n",
    "\n",
    "sns.histplot(x='balance',\n",
    "             stat=\"density\",\n",
    "             bins=100,\n",
    "             common_norm=False,\n",
    "             data=data,\n",
    "             kde = True,\n",
    "             hue = 'churn')\n",
    "plt.show()"
   ]
  },
  {
   "cell_type": "markdown",
   "id": "846d23f5",
   "metadata": {},
   "source": [
    "Значения баланса имеют нормальное распределение, перекосов и выбросов не наблюдается.  \n",
    "Исходя из графика, можно сказать, что величина баланса не влияет на долю оттока. Поэтому, этим столбцом в последующих расчетах можно пренебречь, пропуски удалять либо заполнять (нулями, медианой) нет смысла."
   ]
  },
  {
   "cell_type": "markdown",
   "id": "3e790d62",
   "metadata": {},
   "source": [
    "**Перекодируем категориальные значения (город, пол)**"
   ]
  },
  {
   "cell_type": "markdown",
   "id": "44730cdc",
   "metadata": {},
   "source": [
    "Воспользуемся методом *get_dummies*, чтоб не потерять столбцы, сделаем их копии."
   ]
  },
  {
   "cell_type": "code",
   "execution_count": 14,
   "id": "01581a87",
   "metadata": {},
   "outputs": [],
   "source": [
    "# сделаем копии нужных столбцов\n",
    "data['city_copy'] = data['city'].copy()\n",
    "data['gender_copy'] = data['gender'].copy()"
   ]
  },
  {
   "cell_type": "code",
   "execution_count": 15,
   "id": "5d1db9e3",
   "metadata": {},
   "outputs": [],
   "source": [
    "# перекодируем\n",
    "data = pd.get_dummies(data, columns=['city_copy', 'gender_copy'])"
   ]
  },
  {
   "cell_type": "code",
   "execution_count": 16,
   "id": "ecb48f06",
   "metadata": {},
   "outputs": [
    {
     "data": {
      "text/html": [
       "<div>\n",
       "<style scoped>\n",
       "    .dataframe tbody tr th:only-of-type {\n",
       "        vertical-align: middle;\n",
       "    }\n",
       "\n",
       "    .dataframe tbody tr th {\n",
       "        vertical-align: top;\n",
       "    }\n",
       "\n",
       "    .dataframe thead th {\n",
       "        text-align: right;\n",
       "    }\n",
       "</style>\n",
       "<table border=\"1\" class=\"dataframe\">\n",
       "  <thead>\n",
       "    <tr style=\"text-align: right;\">\n",
       "      <th></th>\n",
       "      <th>userid</th>\n",
       "      <th>score</th>\n",
       "      <th>city</th>\n",
       "      <th>gender</th>\n",
       "      <th>age</th>\n",
       "      <th>objects</th>\n",
       "      <th>balance</th>\n",
       "      <th>products</th>\n",
       "      <th>creditcard</th>\n",
       "      <th>loyalty</th>\n",
       "      <th>estimated_salary</th>\n",
       "      <th>churn</th>\n",
       "      <th>balance_copy</th>\n",
       "      <th>city_copy_Ростов Великий</th>\n",
       "      <th>city_copy_Рыбинск</th>\n",
       "      <th>city_copy_Ярославль</th>\n",
       "      <th>gender_copy_Ж</th>\n",
       "      <th>gender_copy_М</th>\n",
       "    </tr>\n",
       "  </thead>\n",
       "  <tbody>\n",
       "    <tr>\n",
       "      <th>0</th>\n",
       "      <td>15677338</td>\n",
       "      <td>619</td>\n",
       "      <td>Ярославль</td>\n",
       "      <td>Ж</td>\n",
       "      <td>42</td>\n",
       "      <td>2</td>\n",
       "      <td>NaN</td>\n",
       "      <td>1</td>\n",
       "      <td>1</td>\n",
       "      <td>1</td>\n",
       "      <td>101348.88</td>\n",
       "      <td>1</td>\n",
       "      <td>не указан</td>\n",
       "      <td>0</td>\n",
       "      <td>0</td>\n",
       "      <td>1</td>\n",
       "      <td>1</td>\n",
       "      <td>0</td>\n",
       "    </tr>\n",
       "    <tr>\n",
       "      <th>1</th>\n",
       "      <td>15690047</td>\n",
       "      <td>608</td>\n",
       "      <td>Рыбинск</td>\n",
       "      <td>Ж</td>\n",
       "      <td>41</td>\n",
       "      <td>1</td>\n",
       "      <td>83807.86</td>\n",
       "      <td>1</td>\n",
       "      <td>0</td>\n",
       "      <td>1</td>\n",
       "      <td>112542.58</td>\n",
       "      <td>0</td>\n",
       "      <td>указан</td>\n",
       "      <td>0</td>\n",
       "      <td>1</td>\n",
       "      <td>0</td>\n",
       "      <td>1</td>\n",
       "      <td>0</td>\n",
       "    </tr>\n",
       "  </tbody>\n",
       "</table>\n",
       "</div>"
      ],
      "text/plain": [
       "     userid  score       city gender  age  objects   balance  products  \\\n",
       "0  15677338    619  Ярославль      Ж   42        2       NaN         1   \n",
       "1  15690047    608    Рыбинск      Ж   41        1  83807.86         1   \n",
       "\n",
       "   creditcard  loyalty  estimated_salary  churn balance_copy  \\\n",
       "0           1        1         101348.88      1    не указан   \n",
       "1           0        1         112542.58      0       указан   \n",
       "\n",
       "   city_copy_Ростов Великий  city_copy_Рыбинск  city_copy_Ярославль  \\\n",
       "0                         0                  0                    1   \n",
       "1                         0                  1                    0   \n",
       "\n",
       "   gender_copy_Ж  gender_copy_М  \n",
       "0              1              0  \n",
       "1              1              0  "
      ]
     },
     "execution_count": 16,
     "metadata": {},
     "output_type": "execute_result"
    }
   ],
   "source": [
    "data.head(2) # проверим"
   ]
  },
  {
   "cell_type": "markdown",
   "id": "d30c6273",
   "metadata": {},
   "source": [
    "Немного поправим названия новых столбцов"
   ]
  },
  {
   "cell_type": "code",
   "execution_count": 17,
   "id": "eaf48de6",
   "metadata": {},
   "outputs": [],
   "source": [
    "data = data.rename(columns={'city_copy_Ростов Великий': 'rostov'\n",
    "                            , 'city_copy_Рыбинск': 'rybinsk'\n",
    "                            , 'city_copy_Ярославль': 'yaroslavl'\n",
    "                            , 'gender_copy_Ж': 'female'\n",
    "                            , 'gender_copy_М': 'male'})"
   ]
  },
  {
   "cell_type": "code",
   "execution_count": 18,
   "id": "a176959a",
   "metadata": {},
   "outputs": [
    {
     "data": {
      "text/html": [
       "<div>\n",
       "<style scoped>\n",
       "    .dataframe tbody tr th:only-of-type {\n",
       "        vertical-align: middle;\n",
       "    }\n",
       "\n",
       "    .dataframe tbody tr th {\n",
       "        vertical-align: top;\n",
       "    }\n",
       "\n",
       "    .dataframe thead th {\n",
       "        text-align: right;\n",
       "    }\n",
       "</style>\n",
       "<table border=\"1\" class=\"dataframe\">\n",
       "  <thead>\n",
       "    <tr style=\"text-align: right;\">\n",
       "      <th></th>\n",
       "      <th>userid</th>\n",
       "      <th>score</th>\n",
       "      <th>city</th>\n",
       "      <th>gender</th>\n",
       "      <th>age</th>\n",
       "      <th>objects</th>\n",
       "      <th>balance</th>\n",
       "      <th>products</th>\n",
       "      <th>creditcard</th>\n",
       "      <th>loyalty</th>\n",
       "      <th>estimated_salary</th>\n",
       "      <th>churn</th>\n",
       "      <th>balance_copy</th>\n",
       "      <th>rostov</th>\n",
       "      <th>rybinsk</th>\n",
       "      <th>yaroslavl</th>\n",
       "      <th>female</th>\n",
       "      <th>male</th>\n",
       "    </tr>\n",
       "  </thead>\n",
       "  <tbody>\n",
       "    <tr>\n",
       "      <th>0</th>\n",
       "      <td>15677338</td>\n",
       "      <td>619</td>\n",
       "      <td>Ярославль</td>\n",
       "      <td>Ж</td>\n",
       "      <td>42</td>\n",
       "      <td>2</td>\n",
       "      <td>NaN</td>\n",
       "      <td>1</td>\n",
       "      <td>1</td>\n",
       "      <td>1</td>\n",
       "      <td>101348.88</td>\n",
       "      <td>1</td>\n",
       "      <td>не указан</td>\n",
       "      <td>0</td>\n",
       "      <td>0</td>\n",
       "      <td>1</td>\n",
       "      <td>1</td>\n",
       "      <td>0</td>\n",
       "    </tr>\n",
       "    <tr>\n",
       "      <th>1</th>\n",
       "      <td>15690047</td>\n",
       "      <td>608</td>\n",
       "      <td>Рыбинск</td>\n",
       "      <td>Ж</td>\n",
       "      <td>41</td>\n",
       "      <td>1</td>\n",
       "      <td>83807.86</td>\n",
       "      <td>1</td>\n",
       "      <td>0</td>\n",
       "      <td>1</td>\n",
       "      <td>112542.58</td>\n",
       "      <td>0</td>\n",
       "      <td>указан</td>\n",
       "      <td>0</td>\n",
       "      <td>1</td>\n",
       "      <td>0</td>\n",
       "      <td>1</td>\n",
       "      <td>0</td>\n",
       "    </tr>\n",
       "  </tbody>\n",
       "</table>\n",
       "</div>"
      ],
      "text/plain": [
       "     userid  score       city gender  age  objects   balance  products  \\\n",
       "0  15677338    619  Ярославль      Ж   42        2       NaN         1   \n",
       "1  15690047    608    Рыбинск      Ж   41        1  83807.86         1   \n",
       "\n",
       "   creditcard  loyalty  estimated_salary  churn balance_copy  rostov  rybinsk  \\\n",
       "0           1        1         101348.88      1    не указан       0        0   \n",
       "1           0        1         112542.58      0       указан       0        1   \n",
       "\n",
       "   yaroslavl  female  male  \n",
       "0          1       1     0  \n",
       "1          0       1     0  "
      ]
     },
     "execution_count": 18,
     "metadata": {},
     "output_type": "execute_result"
    }
   ],
   "source": [
    "data.head(2) # проверим eщё раз"
   ]
  },
  {
   "cell_type": "markdown",
   "id": "e9709264",
   "metadata": {},
   "source": [
    "Перекодировка готова"
   ]
  },
  {
   "cell_type": "markdown",
   "id": "07276f3e",
   "metadata": {},
   "source": [
    "Больше аномалий в датасете не обнаружено: дубликатов нет, типы соответствуют."
   ]
  },
  {
   "cell_type": "markdown",
   "id": "9fd3e7da",
   "metadata": {},
   "source": [
    "## Этап 3. Исследовательский анализ данных"
   ]
  },
  {
   "cell_type": "markdown",
   "id": "01adaba6",
   "metadata": {},
   "source": [
    "**Посмотрим на статистические данные**"
   ]
  },
  {
   "cell_type": "code",
   "execution_count": 19,
   "id": "45c1340a",
   "metadata": {},
   "outputs": [
    {
     "data": {
      "text/html": [
       "<div>\n",
       "<style scoped>\n",
       "    .dataframe tbody tr th:only-of-type {\n",
       "        vertical-align: middle;\n",
       "    }\n",
       "\n",
       "    .dataframe tbody tr th {\n",
       "        vertical-align: top;\n",
       "    }\n",
       "\n",
       "    .dataframe thead th {\n",
       "        text-align: right;\n",
       "    }\n",
       "</style>\n",
       "<table border=\"1\" class=\"dataframe\">\n",
       "  <thead>\n",
       "    <tr style=\"text-align: right;\">\n",
       "      <th></th>\n",
       "      <th>userid</th>\n",
       "      <th>score</th>\n",
       "      <th>age</th>\n",
       "      <th>objects</th>\n",
       "      <th>balance</th>\n",
       "      <th>products</th>\n",
       "      <th>creditcard</th>\n",
       "      <th>loyalty</th>\n",
       "      <th>estimated_salary</th>\n",
       "      <th>churn</th>\n",
       "      <th>rostov</th>\n",
       "      <th>rybinsk</th>\n",
       "      <th>yaroslavl</th>\n",
       "      <th>female</th>\n",
       "      <th>male</th>\n",
       "    </tr>\n",
       "  </thead>\n",
       "  <tbody>\n",
       "    <tr>\n",
       "      <th>count</th>\n",
       "      <td>1.000000e+04</td>\n",
       "      <td>10000.000000</td>\n",
       "      <td>10000.000000</td>\n",
       "      <td>10000.000000</td>\n",
       "      <td>6383.000000</td>\n",
       "      <td>10000.000000</td>\n",
       "      <td>10000.00000</td>\n",
       "      <td>10000.000000</td>\n",
       "      <td>10000.000000</td>\n",
       "      <td>10000.000000</td>\n",
       "      <td>10000.000000</td>\n",
       "      <td>10000.000000</td>\n",
       "      <td>10000.000000</td>\n",
       "      <td>10000.000000</td>\n",
       "      <td>10000.000000</td>\n",
       "    </tr>\n",
       "    <tr>\n",
       "      <th>mean</th>\n",
       "      <td>1.573368e+07</td>\n",
       "      <td>650.528800</td>\n",
       "      <td>38.921800</td>\n",
       "      <td>5.012800</td>\n",
       "      <td>119827.493793</td>\n",
       "      <td>1.530200</td>\n",
       "      <td>0.70550</td>\n",
       "      <td>0.515100</td>\n",
       "      <td>100090.239881</td>\n",
       "      <td>0.203700</td>\n",
       "      <td>0.250900</td>\n",
       "      <td>0.247700</td>\n",
       "      <td>0.501400</td>\n",
       "      <td>0.454300</td>\n",
       "      <td>0.545700</td>\n",
       "    </tr>\n",
       "    <tr>\n",
       "      <th>std</th>\n",
       "      <td>7.193619e+04</td>\n",
       "      <td>96.653299</td>\n",
       "      <td>10.487806</td>\n",
       "      <td>2.892174</td>\n",
       "      <td>30095.056462</td>\n",
       "      <td>0.581654</td>\n",
       "      <td>0.45584</td>\n",
       "      <td>0.499797</td>\n",
       "      <td>57510.492818</td>\n",
       "      <td>0.402769</td>\n",
       "      <td>0.433553</td>\n",
       "      <td>0.431698</td>\n",
       "      <td>0.500023</td>\n",
       "      <td>0.497932</td>\n",
       "      <td>0.497932</td>\n",
       "    </tr>\n",
       "    <tr>\n",
       "      <th>min</th>\n",
       "      <td>1.560844e+07</td>\n",
       "      <td>350.000000</td>\n",
       "      <td>18.000000</td>\n",
       "      <td>0.000000</td>\n",
       "      <td>3768.690000</td>\n",
       "      <td>1.000000</td>\n",
       "      <td>0.00000</td>\n",
       "      <td>0.000000</td>\n",
       "      <td>11.580000</td>\n",
       "      <td>0.000000</td>\n",
       "      <td>0.000000</td>\n",
       "      <td>0.000000</td>\n",
       "      <td>0.000000</td>\n",
       "      <td>0.000000</td>\n",
       "      <td>0.000000</td>\n",
       "    </tr>\n",
       "    <tr>\n",
       "      <th>25%</th>\n",
       "      <td>1.567126e+07</td>\n",
       "      <td>584.000000</td>\n",
       "      <td>32.000000</td>\n",
       "      <td>3.000000</td>\n",
       "      <td>100181.975000</td>\n",
       "      <td>1.000000</td>\n",
       "      <td>0.00000</td>\n",
       "      <td>0.000000</td>\n",
       "      <td>51002.110000</td>\n",
       "      <td>0.000000</td>\n",
       "      <td>0.000000</td>\n",
       "      <td>0.000000</td>\n",
       "      <td>0.000000</td>\n",
       "      <td>0.000000</td>\n",
       "      <td>0.000000</td>\n",
       "    </tr>\n",
       "    <tr>\n",
       "      <th>50%</th>\n",
       "      <td>1.573347e+07</td>\n",
       "      <td>652.000000</td>\n",
       "      <td>37.000000</td>\n",
       "      <td>5.000000</td>\n",
       "      <td>119839.690000</td>\n",
       "      <td>1.000000</td>\n",
       "      <td>1.00000</td>\n",
       "      <td>1.000000</td>\n",
       "      <td>100193.915000</td>\n",
       "      <td>0.000000</td>\n",
       "      <td>0.000000</td>\n",
       "      <td>0.000000</td>\n",
       "      <td>1.000000</td>\n",
       "      <td>0.000000</td>\n",
       "      <td>1.000000</td>\n",
       "    </tr>\n",
       "    <tr>\n",
       "      <th>75%</th>\n",
       "      <td>1.579597e+07</td>\n",
       "      <td>718.000000</td>\n",
       "      <td>44.000000</td>\n",
       "      <td>7.000000</td>\n",
       "      <td>139512.290000</td>\n",
       "      <td>2.000000</td>\n",
       "      <td>1.00000</td>\n",
       "      <td>1.000000</td>\n",
       "      <td>149388.247500</td>\n",
       "      <td>0.000000</td>\n",
       "      <td>1.000000</td>\n",
       "      <td>0.000000</td>\n",
       "      <td>1.000000</td>\n",
       "      <td>1.000000</td>\n",
       "      <td>1.000000</td>\n",
       "    </tr>\n",
       "    <tr>\n",
       "      <th>max</th>\n",
       "      <td>1.585843e+07</td>\n",
       "      <td>850.000000</td>\n",
       "      <td>92.000000</td>\n",
       "      <td>10.000000</td>\n",
       "      <td>250898.090000</td>\n",
       "      <td>4.000000</td>\n",
       "      <td>1.00000</td>\n",
       "      <td>1.000000</td>\n",
       "      <td>199992.480000</td>\n",
       "      <td>1.000000</td>\n",
       "      <td>1.000000</td>\n",
       "      <td>1.000000</td>\n",
       "      <td>1.000000</td>\n",
       "      <td>1.000000</td>\n",
       "      <td>1.000000</td>\n",
       "    </tr>\n",
       "  </tbody>\n",
       "</table>\n",
       "</div>"
      ],
      "text/plain": [
       "             userid         score           age       objects        balance  \\\n",
       "count  1.000000e+04  10000.000000  10000.000000  10000.000000    6383.000000   \n",
       "mean   1.573368e+07    650.528800     38.921800      5.012800  119827.493793   \n",
       "std    7.193619e+04     96.653299     10.487806      2.892174   30095.056462   \n",
       "min    1.560844e+07    350.000000     18.000000      0.000000    3768.690000   \n",
       "25%    1.567126e+07    584.000000     32.000000      3.000000  100181.975000   \n",
       "50%    1.573347e+07    652.000000     37.000000      5.000000  119839.690000   \n",
       "75%    1.579597e+07    718.000000     44.000000      7.000000  139512.290000   \n",
       "max    1.585843e+07    850.000000     92.000000     10.000000  250898.090000   \n",
       "\n",
       "           products   creditcard       loyalty  estimated_salary  \\\n",
       "count  10000.000000  10000.00000  10000.000000      10000.000000   \n",
       "mean       1.530200      0.70550      0.515100     100090.239881   \n",
       "std        0.581654      0.45584      0.499797      57510.492818   \n",
       "min        1.000000      0.00000      0.000000         11.580000   \n",
       "25%        1.000000      0.00000      0.000000      51002.110000   \n",
       "50%        1.000000      1.00000      1.000000     100193.915000   \n",
       "75%        2.000000      1.00000      1.000000     149388.247500   \n",
       "max        4.000000      1.00000      1.000000     199992.480000   \n",
       "\n",
       "              churn        rostov       rybinsk     yaroslavl        female  \\\n",
       "count  10000.000000  10000.000000  10000.000000  10000.000000  10000.000000   \n",
       "mean       0.203700      0.250900      0.247700      0.501400      0.454300   \n",
       "std        0.402769      0.433553      0.431698      0.500023      0.497932   \n",
       "min        0.000000      0.000000      0.000000      0.000000      0.000000   \n",
       "25%        0.000000      0.000000      0.000000      0.000000      0.000000   \n",
       "50%        0.000000      0.000000      0.000000      1.000000      0.000000   \n",
       "75%        0.000000      1.000000      0.000000      1.000000      1.000000   \n",
       "max        1.000000      1.000000      1.000000      1.000000      1.000000   \n",
       "\n",
       "               male  \n",
       "count  10000.000000  \n",
       "mean       0.545700  \n",
       "std        0.497932  \n",
       "min        0.000000  \n",
       "25%        0.000000  \n",
       "50%        1.000000  \n",
       "75%        1.000000  \n",
       "max        1.000000  "
      ]
     },
     "execution_count": 19,
     "metadata": {},
     "output_type": "execute_result"
    }
   ],
   "source": [
    "data.describe()"
   ]
  },
  {
   "cell_type": "markdown",
   "id": "15ff886a",
   "metadata": {},
   "source": [
    "Что видим из статистических данных?:"
   ]
  },
  {
   "cell_type": "markdown",
   "id": "97036b0d",
   "metadata": {},
   "source": [
    "- средний бал кредитного скоринга - 650, данный бал у половины клиентов,\n",
    "- мужчин чуть больше чем женщин - 54% клиентов,\n",
    "- средний возраст клиентов - 39 лет,\n",
    "- среднее количество объектов в собственности - 5,\n",
    "- средний баланс на счете - 120 тыс. рублей,\n",
    "- среднее количество продуктов - 1,5,\n",
    "- кредитная карта у 70% клиентов,\n",
    "- лояльных клиентов около половины из выборки,\n",
    "- средняя зарплата - 100 тыс. рублей,\n",
    "- в Ярославле проживают 50% клиентов из выборки, по 25% - в Рыбинске и Ростове Великом,\n",
    "- перестали пользоваться услугами банка 20% клиентов из выборки."
   ]
  },
  {
   "cell_type": "markdown",
   "id": "2c3ebc0c",
   "metadata": {},
   "source": [
    "**Посмотрим на средние значения признаков в двух группах — тех, кто ушел и тех, кто остался**"
   ]
  },
  {
   "cell_type": "code",
   "execution_count": 20,
   "id": "d05848c6",
   "metadata": {},
   "outputs": [
    {
     "data": {
      "text/html": [
       "<div>\n",
       "<style scoped>\n",
       "    .dataframe tbody tr th:only-of-type {\n",
       "        vertical-align: middle;\n",
       "    }\n",
       "\n",
       "    .dataframe tbody tr th {\n",
       "        vertical-align: top;\n",
       "    }\n",
       "\n",
       "    .dataframe thead th {\n",
       "        text-align: right;\n",
       "    }\n",
       "</style>\n",
       "<table border=\"1\" class=\"dataframe\">\n",
       "  <thead>\n",
       "    <tr style=\"text-align: right;\">\n",
       "      <th>churn</th>\n",
       "      <th>0</th>\n",
       "      <th>1</th>\n",
       "    </tr>\n",
       "  </thead>\n",
       "  <tbody>\n",
       "    <tr>\n",
       "      <th>userid</th>\n",
       "      <td>15733903.88</td>\n",
       "      <td>15732787.96</td>\n",
       "    </tr>\n",
       "    <tr>\n",
       "      <th>score</th>\n",
       "      <td>651.85</td>\n",
       "      <td>645.35</td>\n",
       "    </tr>\n",
       "    <tr>\n",
       "      <th>age</th>\n",
       "      <td>37.41</td>\n",
       "      <td>44.84</td>\n",
       "    </tr>\n",
       "    <tr>\n",
       "      <th>objects</th>\n",
       "      <td>5.03</td>\n",
       "      <td>4.93</td>\n",
       "    </tr>\n",
       "    <tr>\n",
       "      <th>balance</th>\n",
       "      <td>119535.86</td>\n",
       "      <td>120746.97</td>\n",
       "    </tr>\n",
       "    <tr>\n",
       "      <th>products</th>\n",
       "      <td>1.54</td>\n",
       "      <td>1.48</td>\n",
       "    </tr>\n",
       "    <tr>\n",
       "      <th>creditcard</th>\n",
       "      <td>0.71</td>\n",
       "      <td>0.70</td>\n",
       "    </tr>\n",
       "    <tr>\n",
       "      <th>loyalty</th>\n",
       "      <td>0.55</td>\n",
       "      <td>0.36</td>\n",
       "    </tr>\n",
       "    <tr>\n",
       "      <th>estimated_salary</th>\n",
       "      <td>99738.39</td>\n",
       "      <td>101465.68</td>\n",
       "    </tr>\n",
       "    <tr>\n",
       "      <th>rostov</th>\n",
       "      <td>0.21</td>\n",
       "      <td>0.40</td>\n",
       "    </tr>\n",
       "    <tr>\n",
       "      <th>rybinsk</th>\n",
       "      <td>0.26</td>\n",
       "      <td>0.20</td>\n",
       "    </tr>\n",
       "    <tr>\n",
       "      <th>yaroslavl</th>\n",
       "      <td>0.53</td>\n",
       "      <td>0.40</td>\n",
       "    </tr>\n",
       "    <tr>\n",
       "      <th>female</th>\n",
       "      <td>0.43</td>\n",
       "      <td>0.56</td>\n",
       "    </tr>\n",
       "    <tr>\n",
       "      <th>male</th>\n",
       "      <td>0.57</td>\n",
       "      <td>0.44</td>\n",
       "    </tr>\n",
       "  </tbody>\n",
       "</table>\n",
       "</div>"
      ],
      "text/plain": [
       "churn                       0            1\n",
       "userid            15733903.88  15732787.96\n",
       "score                  651.85       645.35\n",
       "age                     37.41        44.84\n",
       "objects                  5.03         4.93\n",
       "balance             119535.86    120746.97\n",
       "products                 1.54         1.48\n",
       "creditcard               0.71         0.70\n",
       "loyalty                  0.55         0.36\n",
       "estimated_salary     99738.39    101465.68\n",
       "rostov                   0.21         0.40\n",
       "rybinsk                  0.26         0.20\n",
       "yaroslavl                0.53         0.40\n",
       "female                   0.43         0.56\n",
       "male                     0.57         0.44"
      ]
     },
     "execution_count": 20,
     "metadata": {},
     "output_type": "execute_result"
    }
   ],
   "source": [
    "data.groupby('churn').agg('mean').T.round(2)"
   ]
  },
  {
   "cell_type": "markdown",
   "id": "b9144e5b",
   "metadata": {},
   "source": [
    "Разница между двумя группами небольшая: \n",
    "- средний возраст ушедших клиентов больше оставшихся, 44 года против 37 лет; \n",
    "- среди покинувших всего 36% оказались лояльные, а у оставшихся - 55%, \n",
    "- женщины уходят активнее мужчин - 56% в оттоке, против 44%. \n",
    "- странно сформированы доли по городам, в сумме 100% не выходит. Рассмотрим проблему чуть ниже подробнее.\n",
    "\n",
    "Остальные показатели в двух группах в среднем практически схожи."
   ]
  },
  {
   "cell_type": "markdown",
   "id": "32438cb5",
   "metadata": {},
   "source": [
    "**Построим столбчатые графики признаков для тех, кто ушёл (отток) и тех, кто остался (не попали в отток)**"
   ]
  },
  {
   "cell_type": "markdown",
   "id": "6d14d1fc",
   "metadata": {},
   "source": [
    "У нас два вида данных: категориальные и численные. Для категориальных мы выведем графики гистограммы с накоплением, для численных гистограммы распределения. Сформируем сводные таблицы с процентами оттока."
   ]
  },
  {
   "cell_type": "markdown",
   "id": "e151a874",
   "metadata": {},
   "source": [
    "Построим графики по столбцам **city**, **gender**, **objects**, **products**, **creditcard**, **loyalty**"
   ]
  },
  {
   "cell_type": "markdown",
   "id": "53d73436",
   "metadata": {},
   "source": [
    "Сделаем функцию для вывода графика и сводной таблицы"
   ]
  },
  {
   "cell_type": "code",
   "execution_count": 21,
   "id": "04e4855b",
   "metadata": {},
   "outputs": [],
   "source": [
    "def function_parametrs (column):\n",
    "\n",
    "    plt.figure(figsize=(5,4))\n",
    "    bins=data[column].unique().__len__()\n",
    "    sns.histplot(x=column\n",
    "                 , bins=bins\n",
    "                 , data=data\n",
    "                 , multiple=\"stack\"\n",
    "                 , hue = 'churn'\n",
    "                 , palette = 'viridis_r')\n",
    "    plt.show()\n",
    "    \n",
    "    data_table = data.pivot_table(index=column, columns='churn', aggfunc={'userid':'count'})\n",
    "\n",
    "    data_table.columns = ['Остались', 'Отток']\n",
    "\n",
    "    data_table['Процент оттока, %'] = (data_table['Отток'] / (data_table['Остались'] + data_table['Отток'])*100).round(1)\n",
    "    display(data_table)"
   ]
  },
  {
   "cell_type": "markdown",
   "id": "359ad129",
   "metadata": {},
   "source": [
    "**Города**"
   ]
  },
  {
   "cell_type": "code",
   "execution_count": 22,
   "id": "b99a4bdd",
   "metadata": {},
   "outputs": [
    {
     "data": {
      "image/png": "[encoded data removed]",
      "text/plain": [
       "<Figure size 360x288 with 1 Axes>"
      ]
     },
     "metadata": {
      "needs_background": "light"
     },
     "output_type": "display_data"
    },
    {
     "data": {
      "text/html": [
       "<div>\n",
       "<style scoped>\n",
       "    .dataframe tbody tr th:only-of-type {\n",
       "        vertical-align: middle;\n",
       "    }\n",
       "\n",
       "    .dataframe tbody tr th {\n",
       "        vertical-align: top;\n",
       "    }\n",
       "\n",
       "    .dataframe thead th {\n",
       "        text-align: right;\n",
       "    }\n",
       "</style>\n",
       "<table border=\"1\" class=\"dataframe\">\n",
       "  <thead>\n",
       "    <tr style=\"text-align: right;\">\n",
       "      <th></th>\n",
       "      <th>Остались</th>\n",
       "      <th>Отток</th>\n",
       "      <th>Процент оттока, %</th>\n",
       "    </tr>\n",
       "    <tr>\n",
       "      <th>city</th>\n",
       "      <th></th>\n",
       "      <th></th>\n",
       "      <th></th>\n",
       "    </tr>\n",
       "  </thead>\n",
       "  <tbody>\n",
       "    <tr>\n",
       "      <th>Ростов Великий</th>\n",
       "      <td>1695</td>\n",
       "      <td>814</td>\n",
       "      <td>32.4</td>\n",
       "    </tr>\n",
       "    <tr>\n",
       "      <th>Рыбинск</th>\n",
       "      <td>2064</td>\n",
       "      <td>413</td>\n",
       "      <td>16.7</td>\n",
       "    </tr>\n",
       "    <tr>\n",
       "      <th>Ярославль</th>\n",
       "      <td>4204</td>\n",
       "      <td>810</td>\n",
       "      <td>16.2</td>\n",
       "    </tr>\n",
       "  </tbody>\n",
       "</table>\n",
       "</div>"
      ],
      "text/plain": [
       "                Остались  Отток  Процент оттока, %\n",
       "city                                              \n",
       "Ростов Великий      1695    814               32.4\n",
       "Рыбинск             2064    413               16.7\n",
       "Ярославль           4204    810               16.2"
      ]
     },
     "metadata": {},
     "output_type": "display_data"
    }
   ],
   "source": [
    "function_parametrs ('city')"
   ]
  },
  {
   "cell_type": "markdown",
   "id": "be71107a",
   "metadata": {},
   "source": [
    "Ростов Великий - лидер по проценту оттока, 32% клиентов жителей этого города ушли из банка. Остальные города имеют по 16% оттока."
   ]
  },
  {
   "cell_type": "markdown",
   "id": "a799bc97",
   "metadata": {},
   "source": [
    "**Гендер**"
   ]
  },
  {
   "cell_type": "code",
   "execution_count": 23,
   "id": "734d999f",
   "metadata": {
    "scrolled": false
   },
   "outputs": [
    {
     "data": {
      "image/png": "[encoded data removed]",
      "text/plain": [
       "<Figure size 360x288 with 1 Axes>"
      ]
     },
     "metadata": {
      "needs_background": "light"
     },
     "output_type": "display_data"
    },
    {
     "data": {
      "text/html": [
       "<div>\n",
       "<style scoped>\n",
       "    .dataframe tbody tr th:only-of-type {\n",
       "        vertical-align: middle;\n",
       "    }\n",
       "\n",
       "    .dataframe tbody tr th {\n",
       "        vertical-align: top;\n",
       "    }\n",
       "\n",
       "    .dataframe thead th {\n",
       "        text-align: right;\n",
       "    }\n",
       "</style>\n",
       "<table border=\"1\" class=\"dataframe\">\n",
       "  <thead>\n",
       "    <tr style=\"text-align: right;\">\n",
       "      <th></th>\n",
       "      <th>Остались</th>\n",
       "      <th>Отток</th>\n",
       "      <th>Процент оттока, %</th>\n",
       "    </tr>\n",
       "    <tr>\n",
       "      <th>gender</th>\n",
       "      <th></th>\n",
       "      <th></th>\n",
       "      <th></th>\n",
       "    </tr>\n",
       "  </thead>\n",
       "  <tbody>\n",
       "    <tr>\n",
       "      <th>Ж</th>\n",
       "      <td>3404</td>\n",
       "      <td>1139</td>\n",
       "      <td>25.1</td>\n",
       "    </tr>\n",
       "    <tr>\n",
       "      <th>М</th>\n",
       "      <td>4559</td>\n",
       "      <td>898</td>\n",
       "      <td>16.5</td>\n",
       "    </tr>\n",
       "  </tbody>\n",
       "</table>\n",
       "</div>"
      ],
      "text/plain": [
       "        Остались  Отток  Процент оттока, %\n",
       "gender                                    \n",
       "Ж           3404   1139               25.1\n",
       "М           4559    898               16.5"
      ]
     },
     "metadata": {},
     "output_type": "display_data"
    }
   ],
   "source": [
    "function_parametrs ('gender')"
   ]
  },
  {
   "cell_type": "markdown",
   "id": "6f3f982d",
   "metadata": {},
   "source": [
    "Четверть женщин уходят из банка, мужчин в оттоке в 1,5 раза меньше - 16%."
   ]
  },
  {
   "cell_type": "markdown",
   "id": "afec760a",
   "metadata": {},
   "source": [
    "**Объекты в собственности**"
   ]
  },
  {
   "cell_type": "code",
   "execution_count": 24,
   "id": "3cc93d89",
   "metadata": {},
   "outputs": [
    {
     "data": {
      "image/png": "[encoded data removed]",
      "text/plain": [
       "<Figure size 360x288 with 1 Axes>"
      ]
     },
     "metadata": {
      "needs_background": "light"
     },
     "output_type": "display_data"
    },
    {
     "data": {
      "text/html": [
       "<div>\n",
       "<style scoped>\n",
       "    .dataframe tbody tr th:only-of-type {\n",
       "        vertical-align: middle;\n",
       "    }\n",
       "\n",
       "    .dataframe tbody tr th {\n",
       "        vertical-align: top;\n",
       "    }\n",
       "\n",
       "    .dataframe thead th {\n",
       "        text-align: right;\n",
       "    }\n",
       "</style>\n",
       "<table border=\"1\" class=\"dataframe\">\n",
       "  <thead>\n",
       "    <tr style=\"text-align: right;\">\n",
       "      <th></th>\n",
       "      <th>Остались</th>\n",
       "      <th>Отток</th>\n",
       "      <th>Процент оттока, %</th>\n",
       "    </tr>\n",
       "    <tr>\n",
       "      <th>objects</th>\n",
       "      <th></th>\n",
       "      <th></th>\n",
       "      <th></th>\n",
       "    </tr>\n",
       "  </thead>\n",
       "  <tbody>\n",
       "    <tr>\n",
       "      <th>0</th>\n",
       "      <td>318</td>\n",
       "      <td>95</td>\n",
       "      <td>23.0</td>\n",
       "    </tr>\n",
       "    <tr>\n",
       "      <th>1</th>\n",
       "      <td>803</td>\n",
       "      <td>232</td>\n",
       "      <td>22.4</td>\n",
       "    </tr>\n",
       "    <tr>\n",
       "      <th>2</th>\n",
       "      <td>847</td>\n",
       "      <td>201</td>\n",
       "      <td>19.2</td>\n",
       "    </tr>\n",
       "    <tr>\n",
       "      <th>3</th>\n",
       "      <td>796</td>\n",
       "      <td>213</td>\n",
       "      <td>21.1</td>\n",
       "    </tr>\n",
       "    <tr>\n",
       "      <th>4</th>\n",
       "      <td>786</td>\n",
       "      <td>203</td>\n",
       "      <td>20.5</td>\n",
       "    </tr>\n",
       "    <tr>\n",
       "      <th>5</th>\n",
       "      <td>803</td>\n",
       "      <td>209</td>\n",
       "      <td>20.7</td>\n",
       "    </tr>\n",
       "    <tr>\n",
       "      <th>6</th>\n",
       "      <td>771</td>\n",
       "      <td>196</td>\n",
       "      <td>20.3</td>\n",
       "    </tr>\n",
       "    <tr>\n",
       "      <th>7</th>\n",
       "      <td>851</td>\n",
       "      <td>177</td>\n",
       "      <td>17.2</td>\n",
       "    </tr>\n",
       "    <tr>\n",
       "      <th>8</th>\n",
       "      <td>828</td>\n",
       "      <td>197</td>\n",
       "      <td>19.2</td>\n",
       "    </tr>\n",
       "    <tr>\n",
       "      <th>9</th>\n",
       "      <td>771</td>\n",
       "      <td>213</td>\n",
       "      <td>21.6</td>\n",
       "    </tr>\n",
       "    <tr>\n",
       "      <th>10</th>\n",
       "      <td>389</td>\n",
       "      <td>101</td>\n",
       "      <td>20.6</td>\n",
       "    </tr>\n",
       "  </tbody>\n",
       "</table>\n",
       "</div>"
      ],
      "text/plain": [
       "         Остались  Отток  Процент оттока, %\n",
       "objects                                    \n",
       "0             318     95               23.0\n",
       "1             803    232               22.4\n",
       "2             847    201               19.2\n",
       "3             796    213               21.1\n",
       "4             786    203               20.5\n",
       "5             803    209               20.7\n",
       "6             771    196               20.3\n",
       "7             851    177               17.2\n",
       "8             828    197               19.2\n",
       "9             771    213               21.6\n",
       "10            389    101               20.6"
      ]
     },
     "metadata": {},
     "output_type": "display_data"
    }
   ],
   "source": [
    "function_parametrs ('objects')"
   ]
  },
  {
   "cell_type": "markdown",
   "id": "631ef8ab",
   "metadata": {},
   "source": [
    "Какой-то огромной разницы в долях разных объектов на графике не наблюдается. Есть провалы крайних значений по количеству, но это скорее всего можно отнести к выбросам. Вероятно, данный признак на отток никак не влияет."
   ]
  },
  {
   "cell_type": "markdown",
   "id": "de167aae",
   "metadata": {},
   "source": [
    "**Продукты**"
   ]
  },
  {
   "cell_type": "code",
   "execution_count": 25,
   "id": "8e62e607",
   "metadata": {},
   "outputs": [
    {
     "data": {
      "image/png": "[encoded data removed]",
      "text/plain": [
       "<Figure size 360x288 with 1 Axes>"
      ]
     },
     "metadata": {
      "needs_background": "light"
     },
     "output_type": "display_data"
    },
    {
     "data": {
      "text/html": [
       "<div>\n",
       "<style scoped>\n",
       "    .dataframe tbody tr th:only-of-type {\n",
       "        vertical-align: middle;\n",
       "    }\n",
       "\n",
       "    .dataframe tbody tr th {\n",
       "        vertical-align: top;\n",
       "    }\n",
       "\n",
       "    .dataframe thead th {\n",
       "        text-align: right;\n",
       "    }\n",
       "</style>\n",
       "<table border=\"1\" class=\"dataframe\">\n",
       "  <thead>\n",
       "    <tr style=\"text-align: right;\">\n",
       "      <th></th>\n",
       "      <th>Остались</th>\n",
       "      <th>Отток</th>\n",
       "      <th>Процент оттока, %</th>\n",
       "    </tr>\n",
       "    <tr>\n",
       "      <th>products</th>\n",
       "      <th></th>\n",
       "      <th></th>\n",
       "      <th></th>\n",
       "    </tr>\n",
       "  </thead>\n",
       "  <tbody>\n",
       "    <tr>\n",
       "      <th>1</th>\n",
       "      <td>3675.0</td>\n",
       "      <td>1409.0</td>\n",
       "      <td>27.7</td>\n",
       "    </tr>\n",
       "    <tr>\n",
       "      <th>2</th>\n",
       "      <td>4242.0</td>\n",
       "      <td>348.0</td>\n",
       "      <td>7.6</td>\n",
       "    </tr>\n",
       "    <tr>\n",
       "      <th>3</th>\n",
       "      <td>46.0</td>\n",
       "      <td>220.0</td>\n",
       "      <td>82.7</td>\n",
       "    </tr>\n",
       "    <tr>\n",
       "      <th>4</th>\n",
       "      <td>NaN</td>\n",
       "      <td>60.0</td>\n",
       "      <td>NaN</td>\n",
       "    </tr>\n",
       "  </tbody>\n",
       "</table>\n",
       "</div>"
      ],
      "text/plain": [
       "          Остались   Отток  Процент оттока, %\n",
       "products                                     \n",
       "1           3675.0  1409.0               27.7\n",
       "2           4242.0   348.0                7.6\n",
       "3             46.0   220.0               82.7\n",
       "4              NaN    60.0                NaN"
      ]
     },
     "metadata": {},
     "output_type": "display_data"
    }
   ],
   "source": [
    "function_parametrs ('products')"
   ]
  },
  {
   "cell_type": "markdown",
   "id": "9a0dbb6f",
   "metadata": {},
   "source": [
    "Подтверждается предположение о неравномерности долей по продуктам:\n",
    "- с 4-мя продуктами ушли все клиенты, \n",
    "- с 3-мя ушли почти все - 83%,\n",
    "- с 1-м продуктом - почти 30% в оттоке,\n",
    "- лучше всего ситуация в двух продуктах - отток всего чуть более 7%."
   ]
  },
  {
   "cell_type": "markdown",
   "id": "6dabb7b1",
   "metadata": {},
   "source": [
    "**Кредитные карты**"
   ]
  },
  {
   "cell_type": "code",
   "execution_count": 26,
   "id": "225d2811",
   "metadata": {},
   "outputs": [
    {
     "data": {
      "image/png": "[encoded data removed]",
      "text/plain": [
       "<Figure size 360x288 with 1 Axes>"
      ]
     },
     "metadata": {
      "needs_background": "light"
     },
     "output_type": "display_data"
    },
    {
     "data": {
      "text/html": [
       "<div>\n",
       "<style scoped>\n",
       "    .dataframe tbody tr th:only-of-type {\n",
       "        vertical-align: middle;\n",
       "    }\n",
       "\n",
       "    .dataframe tbody tr th {\n",
       "        vertical-align: top;\n",
       "    }\n",
       "\n",
       "    .dataframe thead th {\n",
       "        text-align: right;\n",
       "    }\n",
       "</style>\n",
       "<table border=\"1\" class=\"dataframe\">\n",
       "  <thead>\n",
       "    <tr style=\"text-align: right;\">\n",
       "      <th></th>\n",
       "      <th>Остались</th>\n",
       "      <th>Отток</th>\n",
       "      <th>Процент оттока, %</th>\n",
       "    </tr>\n",
       "    <tr>\n",
       "      <th>creditcard</th>\n",
       "      <th></th>\n",
       "      <th></th>\n",
       "      <th></th>\n",
       "    </tr>\n",
       "  </thead>\n",
       "  <tbody>\n",
       "    <tr>\n",
       "      <th>0</th>\n",
       "      <td>2332</td>\n",
       "      <td>613</td>\n",
       "      <td>20.8</td>\n",
       "    </tr>\n",
       "    <tr>\n",
       "      <th>1</th>\n",
       "      <td>5631</td>\n",
       "      <td>1424</td>\n",
       "      <td>20.2</td>\n",
       "    </tr>\n",
       "  </tbody>\n",
       "</table>\n",
       "</div>"
      ],
      "text/plain": [
       "            Остались  Отток  Процент оттока, %\n",
       "creditcard                                    \n",
       "0               2332    613               20.8\n",
       "1               5631   1424               20.2"
      ]
     },
     "metadata": {},
     "output_type": "display_data"
    }
   ],
   "source": [
    "function_parametrs ('creditcard')"
   ]
  },
  {
   "cell_type": "markdown",
   "id": "aca3e2ed",
   "metadata": {},
   "source": [
    "Доли оттока двух групп (с кредитками и без) практически равны. Наличие или отсутствие кредитной карты никак не влияет на отток. "
   ]
  },
  {
   "cell_type": "markdown",
   "id": "fe4a65ed",
   "metadata": {},
   "source": [
    "**Активность клиента**"
   ]
  },
  {
   "cell_type": "code",
   "execution_count": 27,
   "id": "d7fe667b",
   "metadata": {},
   "outputs": [
    {
     "data": {
      "image/png": "[encoded data removed]",
      "text/plain": [
       "<Figure size 360x288 with 1 Axes>"
      ]
     },
     "metadata": {
      "needs_background": "light"
     },
     "output_type": "display_data"
    },
    {
     "data": {
      "text/html": [
       "<div>\n",
       "<style scoped>\n",
       "    .dataframe tbody tr th:only-of-type {\n",
       "        vertical-align: middle;\n",
       "    }\n",
       "\n",
       "    .dataframe tbody tr th {\n",
       "        vertical-align: top;\n",
       "    }\n",
       "\n",
       "    .dataframe thead th {\n",
       "        text-align: right;\n",
       "    }\n",
       "</style>\n",
       "<table border=\"1\" class=\"dataframe\">\n",
       "  <thead>\n",
       "    <tr style=\"text-align: right;\">\n",
       "      <th></th>\n",
       "      <th>Остались</th>\n",
       "      <th>Отток</th>\n",
       "      <th>Процент оттока, %</th>\n",
       "    </tr>\n",
       "    <tr>\n",
       "      <th>loyalty</th>\n",
       "      <th></th>\n",
       "      <th></th>\n",
       "      <th></th>\n",
       "    </tr>\n",
       "  </thead>\n",
       "  <tbody>\n",
       "    <tr>\n",
       "      <th>0</th>\n",
       "      <td>3547</td>\n",
       "      <td>1302</td>\n",
       "      <td>26.9</td>\n",
       "    </tr>\n",
       "    <tr>\n",
       "      <th>1</th>\n",
       "      <td>4416</td>\n",
       "      <td>735</td>\n",
       "      <td>14.3</td>\n",
       "    </tr>\n",
       "  </tbody>\n",
       "</table>\n",
       "</div>"
      ],
      "text/plain": [
       "         Остались  Отток  Процент оттока, %\n",
       "loyalty                                    \n",
       "0            3547   1302               26.9\n",
       "1            4416    735               14.3"
      ]
     },
     "metadata": {},
     "output_type": "display_data"
    }
   ],
   "source": [
    "function_parametrs ('loyalty')"
   ]
  },
  {
   "cell_type": "markdown",
   "id": "2070da9b",
   "metadata": {},
   "source": [
    "Доля ушедших неактивных клиентов - 27%, доля активных в оттоке в два раза меньше -14%."
   ]
  },
  {
   "cell_type": "markdown",
   "id": "ce9286f5",
   "metadata": {},
   "source": [
    "**Возраст**"
   ]
  },
  {
   "cell_type": "markdown",
   "id": "5359fb80",
   "metadata": {},
   "source": [
    "Посмотрим на плотность распределения двух групп клиентов в разбивке по возрасту."
   ]
  },
  {
   "cell_type": "code",
   "execution_count": 28,
   "id": "81da10ec",
   "metadata": {},
   "outputs": [
    {
     "data": {
      "image/png": "[encoded data removed]",
      "text/plain": [
       "<Figure size 1008x504 with 1 Axes>"
      ]
     },
     "metadata": {
      "needs_background": "light"
     },
     "output_type": "display_data"
    }
   ],
   "source": [
    "f, ax = plt.subplots(figsize=(14, 7))\n",
    "\n",
    "sns.histplot(x='age',\n",
    "             stat=\"density\",\n",
    "             bins=data['age'].max()-data['age'].min(),\n",
    "             common_norm=False,\n",
    "             data=data,\n",
    "             hue = 'churn',\n",
    "             kde=True)\n",
    "plt.show()"
   ]
  },
  {
   "cell_type": "markdown",
   "id": "5eba56b5",
   "metadata": {},
   "source": [
    "Видим, что пик оставшихся клиентов по отношению к ушедшим приходится в районе 35-36 лет, кривые двух распределений первый раз пересекаются в районе 40-41 года и вплоть до 65-67 лет первенство удерживает доля клиентов в оттоке."
   ]
  },
  {
   "cell_type": "markdown",
   "id": "6e695d14",
   "metadata": {},
   "source": [
    "Посмотрим на процент оттока по каждому возрасту."
   ]
  },
  {
   "cell_type": "code",
   "execution_count": 29,
   "id": "f793a9e8",
   "metadata": {},
   "outputs": [
    {
     "data": {
      "image/png": "[encoded data removed]",
      "text/plain": [
       "<Figure size 1440x576 with 1 Axes>"
      ]
     },
     "metadata": {
      "needs_background": "light"
     },
     "output_type": "display_data"
    }
   ],
   "source": [
    "# создадим переменную с расчетом долей оттока по возрастам\n",
    "data_age = data.pivot_table(index='age', columns='churn', aggfunc={'userid':'count'})\n",
    "data_age.columns = ['Остались', 'Отток']\n",
    "data_age['Процент оттока'] = (data_age['Отток'] / (data_age['Остались'] + data_age['Отток'])*100).round()\n",
    "data_age = data_age.reset_index()\n",
    "\n",
    "x = data_age.index.to_list()\n",
    "y = data_age['Процент оттока'].tolist() \n",
    " \n",
    "names = data_age['age'].tolist()\n",
    "barWidth = 1\n",
    "# сформируем график\n",
    "plt.figure(figsize=(20,8))\n",
    "p1 = plt.bar(x, y, color='grey', edgecolor='white', width=barWidth)\n",
    "\n",
    "# подсветим бары разными цветами, более 20% и более 50% оттока\n",
    "for patch in p1.patches:\n",
    "    if patch.get_height() >= 50.0:\n",
    "        patch.set_facecolor('red')\n",
    "    elif patch.get_height() > 20.0 and patch.get_height() < 50:\n",
    "        patch.set_facecolor('salmon')\n",
    "\n",
    "\n",
    "plt.xticks(x, names)\n",
    "plt.title('Распределение доли оттока клиентов по возрастам', fontsize = 16)\n",
    "plt.xlabel(\"возраст\")\n",
    "plt.ylabel(\"процент оттока, %\")\n",
    "plt.grid(axis = 'y')\n",
    "plt.show()\n"
   ]
  },
  {
   "cell_type": "markdown",
   "id": "13612d13",
   "metadata": {},
   "source": [
    "Резкий рост процента оттока наблюдается у клиентов, начиная от 40 лет и заканчивая 65 годами. Доля оттока в этой группе возрастов превышает 20%, от 49 до 57 лет доля превышает 50%. Пик в 50% в значении 84 лет является выбросом, учитывать этот фактор не будем."
   ]
  },
  {
   "cell_type": "markdown",
   "id": "310610e1",
   "metadata": {},
   "source": [
    "**Кредитные баллы**"
   ]
  },
  {
   "cell_type": "markdown",
   "id": "4cd826e1",
   "metadata": {},
   "source": [
    "Посмотрим на плотность распределения двух групп клиентов"
   ]
  },
  {
   "cell_type": "code",
   "execution_count": 30,
   "id": "a159e4cf",
   "metadata": {},
   "outputs": [
    {
     "data": {
      "image/png": "[encoded data removed]",
      "text/plain": [
       "<Figure size 1008x504 with 1 Axes>"
      ]
     },
     "metadata": {
      "needs_background": "light"
     },
     "output_type": "display_data"
    }
   ],
   "source": [
    "f, ax = plt.subplots(figsize=(14, 7))\n",
    "\n",
    "sns.histplot(x='score',\n",
    "             stat=\"density\",\n",
    "             bins=100,\n",
    "             common_norm=False,\n",
    "             data=data,\n",
    "             kde = True,\n",
    "             hue = 'churn')\n",
    "plt.show()"
   ]
  },
  {
   "cell_type": "markdown",
   "id": "b00b33ae",
   "metadata": {},
   "source": [
    "Распределение имеет количественный всплеск на максимальных значениях баллов"
   ]
  },
  {
   "cell_type": "markdown",
   "id": "5183cd32",
   "metadata": {},
   "source": [
    "Из графика видим аномально высокий кредитный балл. Аномалия ли это, баг, либо клиенты действительно заработали высокие быллы? Это должны проверить специалисты банка. А так как доля клиентов в оттоке схожа с долями остальных значений графика, акцентировать внимание на этом показателе не будем. Наличие низкого либо высокого кредитного балла на динамику оттока не влияет."
   ]
  },
  {
   "cell_type": "markdown",
   "id": "911bc2ca",
   "metadata": {},
   "source": [
    "**Доходы**"
   ]
  },
  {
   "cell_type": "code",
   "execution_count": 31,
   "id": "db06973a",
   "metadata": {},
   "outputs": [
    {
     "data": {
      "image/png": "[encoded data removed]",
      "text/plain": [
       "<Figure size 1008x504 with 1 Axes>"
      ]
     },
     "metadata": {
      "needs_background": "light"
     },
     "output_type": "display_data"
    }
   ],
   "source": [
    "f, ax = plt.subplots(figsize=(14, 7))\n",
    "\n",
    "sns.histplot(x='estimated_salary',\n",
    "             stat=\"density\",\n",
    "             bins=100,\n",
    "             common_norm=False,\n",
    "             data=data,\n",
    "             kde = True,\n",
    "             hue = 'churn')\n",
    "plt.show()"
   ]
  },
  {
   "cell_type": "markdown",
   "id": "8fdeeec4",
   "metadata": {},
   "source": [
    "Никакой зависимости оттока относительно доходов клиентов на графике не обнаружено, клиенты с разными доходами уходят в отток одинаково."
   ]
  },
  {
   "cell_type": "markdown",
   "id": "c5dd4825",
   "metadata": {},
   "source": [
    "**Баланс**"
   ]
  },
  {
   "cell_type": "markdown",
   "id": "a6fa86d0",
   "metadata": {},
   "source": [
    "Ранее мы уже рассмотрели зависимость оттока от баланса и пришли к заключению, что величина баланса не влияет на долю оттока."
   ]
  },
  {
   "cell_type": "markdown",
   "id": "90085e52",
   "metadata": {},
   "source": [
    "**Построим матрицу корреляций**"
   ]
  },
  {
   "cell_type": "code",
   "execution_count": 32,
   "id": "1b640cfb",
   "metadata": {},
   "outputs": [
    {
     "data": {
      "image/png": "[encoded data removed]",
      "text/plain": [
       "<Figure size 864x360 with 1 Axes>"
      ]
     },
     "metadata": {
      "needs_background": "light"
     },
     "output_type": "display_data"
    }
   ],
   "source": [
    "fig, ax = plt.subplots(figsize=(12, 5))\n",
    "matrix = np.triu(data.drop('userid', axis=1).corr())\n",
    "sns.heatmap(data.drop('userid', axis=1).corr()\n",
    "            , annot = True\n",
    "            , mask=matrix\n",
    "            , fmt='.2g'\n",
    "            , vmin=-1\n",
    "            , vmax=1\n",
    "            , center= 0\n",
    "            , cmap= 'coolwarm'\n",
    "            , cbar=False)\n",
    "plt.title('Матрица корреляций признаков', fontsize = 14)\n",
    "plt.show()"
   ]
  },
  {
   "cell_type": "markdown",
   "id": "b14b7016",
   "metadata": {},
   "source": [
    "Коррелирующие признаки:\n",
    "- возраст,\n",
    "- город Ростов Великий,\n",
    "- женский пол"
   ]
  },
  {
   "cell_type": "markdown",
   "id": "e6d8400f",
   "metadata": {},
   "source": [
    "Все остальные параметры почти в нулях."
   ]
  },
  {
   "cell_type": "markdown",
   "id": "45e7bab0",
   "metadata": {},
   "source": [
    "**Выводы исследовательского анализа**"
   ]
  },
  {
   "cell_type": "markdown",
   "id": "b067480b",
   "metadata": {},
   "source": [
    "Параметры влияющие на отток:\n",
    "- **город** - в Ростове Великом процент оттока 32% клиентов, остальные города - по 16% оттока;\n",
    "- **гендер** - женщины уходят в 1,5 раза активнее мужчин;\n",
    "- **продукты** - с 4-мя продуктами ушли все клиенты, с 3-мя - 83%, с 1-м продуктом - 30%, с 2-мя - 7%;\n",
    "- **лояльность** - неактивные клиенты уходят из банка в 2 раза чаще активных;\n",
    "- **возраст** - от 40 до 65 лет наблюдается резкий рост доли оттока, более 20%, на пике (49-57 лет) превышает 50%."
   ]
  },
  {
   "cell_type": "markdown",
   "id": "ba7727fc",
   "metadata": {},
   "source": [
    "Параметры не влияющие на отток: \n",
    "\n",
    "количество объектов в собственности, наличие или отсутствие кредитной карты, значение кредитного балла, доход, баланс."
   ]
  },
  {
   "cell_type": "markdown",
   "id": "b11a91a6",
   "metadata": {},
   "source": [
    "### Сегментация клиентов по группам"
   ]
  },
  {
   "cell_type": "markdown",
   "id": "0c99c616",
   "metadata": {},
   "source": [
    "Для сегментации выборки у нас есть несколько признаков, влияющих на отток, которые были выявлены в ходе исследовательского анализа:\n",
    "- возраст клиента,\n",
    "- количество продуктов,\n",
    "- город проживания"
   ]
  },
  {
   "cell_type": "markdown",
   "id": "ce657635",
   "metadata": {},
   "source": [
    "**Начнем с возрастных групп**"
   ]
  },
  {
   "cell_type": "markdown",
   "id": "2a83b32c",
   "metadata": {},
   "source": [
    "Разделим данные на три группы: молодые (до 30 лет), средний возраст (от 30 до 50 лет) и пожилые (старше 50 лет)."
   ]
  },
  {
   "cell_type": "code",
   "execution_count": 33,
   "id": "774b242d",
   "metadata": {},
   "outputs": [
    {
     "data": {
      "text/html": [
       "<div>\n",
       "<style scoped>\n",
       "    .dataframe tbody tr th:only-of-type {\n",
       "        vertical-align: middle;\n",
       "    }\n",
       "\n",
       "    .dataframe tbody tr th {\n",
       "        vertical-align: top;\n",
       "    }\n",
       "\n",
       "    .dataframe thead th {\n",
       "        text-align: right;\n",
       "    }\n",
       "</style>\n",
       "<table border=\"1\" class=\"dataframe\">\n",
       "  <thead>\n",
       "    <tr style=\"text-align: right;\">\n",
       "      <th></th>\n",
       "      <th>userid</th>\n",
       "      <th>score</th>\n",
       "      <th>city</th>\n",
       "      <th>gender</th>\n",
       "      <th>age</th>\n",
       "      <th>objects</th>\n",
       "      <th>balance</th>\n",
       "      <th>products</th>\n",
       "      <th>creditcard</th>\n",
       "      <th>loyalty</th>\n",
       "      <th>estimated_salary</th>\n",
       "      <th>churn</th>\n",
       "      <th>balance_copy</th>\n",
       "      <th>rostov</th>\n",
       "      <th>rybinsk</th>\n",
       "      <th>yaroslavl</th>\n",
       "      <th>female</th>\n",
       "      <th>male</th>\n",
       "      <th>age_group</th>\n",
       "    </tr>\n",
       "  </thead>\n",
       "  <tbody>\n",
       "    <tr>\n",
       "      <th>0</th>\n",
       "      <td>15677338</td>\n",
       "      <td>619</td>\n",
       "      <td>Ярославль</td>\n",
       "      <td>Ж</td>\n",
       "      <td>42</td>\n",
       "      <td>2</td>\n",
       "      <td>NaN</td>\n",
       "      <td>1</td>\n",
       "      <td>1</td>\n",
       "      <td>1</td>\n",
       "      <td>101348.88</td>\n",
       "      <td>1</td>\n",
       "      <td>не указан</td>\n",
       "      <td>0</td>\n",
       "      <td>0</td>\n",
       "      <td>1</td>\n",
       "      <td>1</td>\n",
       "      <td>0</td>\n",
       "      <td>средний</td>\n",
       "    </tr>\n",
       "    <tr>\n",
       "      <th>1</th>\n",
       "      <td>15690047</td>\n",
       "      <td>608</td>\n",
       "      <td>Рыбинск</td>\n",
       "      <td>Ж</td>\n",
       "      <td>41</td>\n",
       "      <td>1</td>\n",
       "      <td>83807.86</td>\n",
       "      <td>1</td>\n",
       "      <td>0</td>\n",
       "      <td>1</td>\n",
       "      <td>112542.58</td>\n",
       "      <td>0</td>\n",
       "      <td>указан</td>\n",
       "      <td>0</td>\n",
       "      <td>1</td>\n",
       "      <td>0</td>\n",
       "      <td>1</td>\n",
       "      <td>0</td>\n",
       "      <td>средний</td>\n",
       "    </tr>\n",
       "    <tr>\n",
       "      <th>2</th>\n",
       "      <td>15662040</td>\n",
       "      <td>502</td>\n",
       "      <td>Ярославль</td>\n",
       "      <td>Ж</td>\n",
       "      <td>42</td>\n",
       "      <td>8</td>\n",
       "      <td>159660.80</td>\n",
       "      <td>3</td>\n",
       "      <td>1</td>\n",
       "      <td>0</td>\n",
       "      <td>113931.57</td>\n",
       "      <td>1</td>\n",
       "      <td>указан</td>\n",
       "      <td>0</td>\n",
       "      <td>0</td>\n",
       "      <td>1</td>\n",
       "      <td>1</td>\n",
       "      <td>0</td>\n",
       "      <td>средний</td>\n",
       "    </tr>\n",
       "    <tr>\n",
       "      <th>3</th>\n",
       "      <td>15744090</td>\n",
       "      <td>699</td>\n",
       "      <td>Ярославль</td>\n",
       "      <td>Ж</td>\n",
       "      <td>39</td>\n",
       "      <td>1</td>\n",
       "      <td>NaN</td>\n",
       "      <td>2</td>\n",
       "      <td>0</td>\n",
       "      <td>0</td>\n",
       "      <td>93826.63</td>\n",
       "      <td>0</td>\n",
       "      <td>не указан</td>\n",
       "      <td>0</td>\n",
       "      <td>0</td>\n",
       "      <td>1</td>\n",
       "      <td>1</td>\n",
       "      <td>0</td>\n",
       "      <td>молодой</td>\n",
       "    </tr>\n",
       "    <tr>\n",
       "      <th>4</th>\n",
       "      <td>15780624</td>\n",
       "      <td>850</td>\n",
       "      <td>Рыбинск</td>\n",
       "      <td>Ж</td>\n",
       "      <td>43</td>\n",
       "      <td>2</td>\n",
       "      <td>125510.82</td>\n",
       "      <td>1</td>\n",
       "      <td>1</td>\n",
       "      <td>1</td>\n",
       "      <td>79084.10</td>\n",
       "      <td>0</td>\n",
       "      <td>указан</td>\n",
       "      <td>0</td>\n",
       "      <td>1</td>\n",
       "      <td>0</td>\n",
       "      <td>1</td>\n",
       "      <td>0</td>\n",
       "      <td>средний</td>\n",
       "    </tr>\n",
       "  </tbody>\n",
       "</table>\n",
       "</div>"
      ],
      "text/plain": [
       "     userid  score       city gender  age  objects    balance  products  \\\n",
       "0  15677338    619  Ярославль      Ж   42        2        NaN         1   \n",
       "1  15690047    608    Рыбинск      Ж   41        1   83807.86         1   \n",
       "2  15662040    502  Ярославль      Ж   42        8  159660.80         3   \n",
       "3  15744090    699  Ярославль      Ж   39        1        NaN         2   \n",
       "4  15780624    850    Рыбинск      Ж   43        2  125510.82         1   \n",
       "\n",
       "   creditcard  loyalty  estimated_salary  churn balance_copy  rostov  rybinsk  \\\n",
       "0           1        1         101348.88      1    не указан       0        0   \n",
       "1           0        1         112542.58      0       указан       0        1   \n",
       "2           1        0         113931.57      1       указан       0        0   \n",
       "3           0        0          93826.63      0    не указан       0        0   \n",
       "4           1        1          79084.10      0       указан       0        1   \n",
       "\n",
       "   yaroslavl  female  male age_group  \n",
       "0          1       1     0   средний  \n",
       "1          0       1     0   средний  \n",
       "2          1       1     0   средний  \n",
       "3          1       1     0   молодой  \n",
       "4          0       1     0   средний  "
      ]
     },
     "execution_count": 33,
     "metadata": {},
     "output_type": "execute_result"
    }
   ],
   "source": [
    "def age_group(age): #создадим функцию\n",
    "    if age < 40:   #зададим условия\n",
    "        return 'молодой'\n",
    "    if age >= 40 and age <= 65:\n",
    "        return 'средний'\n",
    "    else:\n",
    "        return 'пожилой'\n",
    "#добавим столбец, в который наша функция вернет категории по значению возраста клиентов  \n",
    "data['age_group'] = data['age'].apply(age_group) \n",
    "data.head()"
   ]
  },
  {
   "cell_type": "markdown",
   "id": "151429b0",
   "metadata": {},
   "source": [
    "Посмотрим на доли оттока по возрастным группам"
   ]
  },
  {
   "cell_type": "code",
   "execution_count": 34,
   "id": "718c0dc5",
   "metadata": {},
   "outputs": [
    {
     "data": {
      "image/png": "[encoded data removed]",
      "text/plain": [
       "<Figure size 360x288 with 1 Axes>"
      ]
     },
     "metadata": {
      "needs_background": "light"
     },
     "output_type": "display_data"
    },
    {
     "data": {
      "text/html": [
       "<div>\n",
       "<style scoped>\n",
       "    .dataframe tbody tr th:only-of-type {\n",
       "        vertical-align: middle;\n",
       "    }\n",
       "\n",
       "    .dataframe tbody tr th {\n",
       "        vertical-align: top;\n",
       "    }\n",
       "\n",
       "    .dataframe thead th {\n",
       "        text-align: right;\n",
       "    }\n",
       "</style>\n",
       "<table border=\"1\" class=\"dataframe\">\n",
       "  <thead>\n",
       "    <tr style=\"text-align: right;\">\n",
       "      <th></th>\n",
       "      <th>Остались</th>\n",
       "      <th>Отток</th>\n",
       "      <th>Процент оттока, %</th>\n",
       "    </tr>\n",
       "    <tr>\n",
       "      <th>age_group</th>\n",
       "      <th></th>\n",
       "      <th></th>\n",
       "      <th></th>\n",
       "    </tr>\n",
       "  </thead>\n",
       "  <tbody>\n",
       "    <tr>\n",
       "      <th>молодой</th>\n",
       "      <td>5390</td>\n",
       "      <td>597</td>\n",
       "      <td>10.0</td>\n",
       "    </tr>\n",
       "    <tr>\n",
       "      <th>пожилой</th>\n",
       "      <td>229</td>\n",
       "      <td>35</td>\n",
       "      <td>13.3</td>\n",
       "    </tr>\n",
       "    <tr>\n",
       "      <th>средний</th>\n",
       "      <td>2344</td>\n",
       "      <td>1405</td>\n",
       "      <td>37.5</td>\n",
       "    </tr>\n",
       "  </tbody>\n",
       "</table>\n",
       "</div>"
      ],
      "text/plain": [
       "           Остались  Отток  Процент оттока, %\n",
       "age_group                                    \n",
       "молодой        5390    597               10.0\n",
       "пожилой         229     35               13.3\n",
       "средний        2344   1405               37.5"
      ]
     },
     "metadata": {},
     "output_type": "display_data"
    }
   ],
   "source": [
    "function_parametrs ('age_group')"
   ]
  },
  {
   "cell_type": "markdown",
   "id": "a167336e",
   "metadata": {},
   "source": [
    "В оттоке:\n",
    "- клиенты среднего возраста (от 40 до 65 лет) - **37,5%**,\n",
    "- пожилые (старше 65 лет) - **13%**,\n",
    "- молодые (младше 40 лет) - **10%**"
   ]
  },
  {
   "cell_type": "markdown",
   "id": "ec9d6833",
   "metadata": {},
   "source": [
    "**Вторая сегментация - по количеству продуктов**"
   ]
  },
  {
   "cell_type": "markdown",
   "id": "0b6f00a2",
   "metadata": {},
   "source": [
    "Создадим три группы по количеству продукта"
   ]
  },
  {
   "cell_type": "code",
   "execution_count": 36,
   "id": "d5226b5b",
   "metadata": {},
   "outputs": [
    {
     "data": {
      "text/html": [
       "<div>\n",
       "<style scoped>\n",
       "    .dataframe tbody tr th:only-of-type {\n",
       "        vertical-align: middle;\n",
       "    }\n",
       "\n",
       "    .dataframe tbody tr th {\n",
       "        vertical-align: top;\n",
       "    }\n",
       "\n",
       "    .dataframe thead th {\n",
       "        text-align: right;\n",
       "    }\n",
       "</style>\n",
       "<table border=\"1\" class=\"dataframe\">\n",
       "  <thead>\n",
       "    <tr style=\"text-align: right;\">\n",
       "      <th></th>\n",
       "      <th>userid</th>\n",
       "      <th>score</th>\n",
       "      <th>city</th>\n",
       "      <th>gender</th>\n",
       "      <th>age</th>\n",
       "      <th>objects</th>\n",
       "      <th>balance</th>\n",
       "      <th>products</th>\n",
       "      <th>creditcard</th>\n",
       "      <th>loyalty</th>\n",
       "      <th>estimated_salary</th>\n",
       "      <th>churn</th>\n",
       "      <th>balance_copy</th>\n",
       "      <th>rostov</th>\n",
       "      <th>rybinsk</th>\n",
       "      <th>yaroslavl</th>\n",
       "      <th>female</th>\n",
       "      <th>male</th>\n",
       "      <th>age_group</th>\n",
       "      <th>products_group</th>\n",
       "    </tr>\n",
       "  </thead>\n",
       "  <tbody>\n",
       "    <tr>\n",
       "      <th>0</th>\n",
       "      <td>15677338</td>\n",
       "      <td>619</td>\n",
       "      <td>Ярославль</td>\n",
       "      <td>Ж</td>\n",
       "      <td>42</td>\n",
       "      <td>2</td>\n",
       "      <td>NaN</td>\n",
       "      <td>1</td>\n",
       "      <td>1</td>\n",
       "      <td>1</td>\n",
       "      <td>101348.88</td>\n",
       "      <td>1</td>\n",
       "      <td>не указан</td>\n",
       "      <td>0</td>\n",
       "      <td>0</td>\n",
       "      <td>1</td>\n",
       "      <td>1</td>\n",
       "      <td>0</td>\n",
       "      <td>средний</td>\n",
       "      <td>1 продукт</td>\n",
       "    </tr>\n",
       "    <tr>\n",
       "      <th>1</th>\n",
       "      <td>15690047</td>\n",
       "      <td>608</td>\n",
       "      <td>Рыбинск</td>\n",
       "      <td>Ж</td>\n",
       "      <td>41</td>\n",
       "      <td>1</td>\n",
       "      <td>83807.86</td>\n",
       "      <td>1</td>\n",
       "      <td>0</td>\n",
       "      <td>1</td>\n",
       "      <td>112542.58</td>\n",
       "      <td>0</td>\n",
       "      <td>указан</td>\n",
       "      <td>0</td>\n",
       "      <td>1</td>\n",
       "      <td>0</td>\n",
       "      <td>1</td>\n",
       "      <td>0</td>\n",
       "      <td>средний</td>\n",
       "      <td>1 продукт</td>\n",
       "    </tr>\n",
       "    <tr>\n",
       "      <th>2</th>\n",
       "      <td>15662040</td>\n",
       "      <td>502</td>\n",
       "      <td>Ярославль</td>\n",
       "      <td>Ж</td>\n",
       "      <td>42</td>\n",
       "      <td>8</td>\n",
       "      <td>159660.80</td>\n",
       "      <td>3</td>\n",
       "      <td>1</td>\n",
       "      <td>0</td>\n",
       "      <td>113931.57</td>\n",
       "      <td>1</td>\n",
       "      <td>указан</td>\n",
       "      <td>0</td>\n",
       "      <td>0</td>\n",
       "      <td>1</td>\n",
       "      <td>1</td>\n",
       "      <td>0</td>\n",
       "      <td>средний</td>\n",
       "      <td>3-4 продукта</td>\n",
       "    </tr>\n",
       "    <tr>\n",
       "      <th>3</th>\n",
       "      <td>15744090</td>\n",
       "      <td>699</td>\n",
       "      <td>Ярославль</td>\n",
       "      <td>Ж</td>\n",
       "      <td>39</td>\n",
       "      <td>1</td>\n",
       "      <td>NaN</td>\n",
       "      <td>2</td>\n",
       "      <td>0</td>\n",
       "      <td>0</td>\n",
       "      <td>93826.63</td>\n",
       "      <td>0</td>\n",
       "      <td>не указан</td>\n",
       "      <td>0</td>\n",
       "      <td>0</td>\n",
       "      <td>1</td>\n",
       "      <td>1</td>\n",
       "      <td>0</td>\n",
       "      <td>молодой</td>\n",
       "      <td>2 продукта</td>\n",
       "    </tr>\n",
       "    <tr>\n",
       "      <th>4</th>\n",
       "      <td>15780624</td>\n",
       "      <td>850</td>\n",
       "      <td>Рыбинск</td>\n",
       "      <td>Ж</td>\n",
       "      <td>43</td>\n",
       "      <td>2</td>\n",
       "      <td>125510.82</td>\n",
       "      <td>1</td>\n",
       "      <td>1</td>\n",
       "      <td>1</td>\n",
       "      <td>79084.10</td>\n",
       "      <td>0</td>\n",
       "      <td>указан</td>\n",
       "      <td>0</td>\n",
       "      <td>1</td>\n",
       "      <td>0</td>\n",
       "      <td>1</td>\n",
       "      <td>0</td>\n",
       "      <td>средний</td>\n",
       "      <td>1 продукт</td>\n",
       "    </tr>\n",
       "  </tbody>\n",
       "</table>\n",
       "</div>"
      ],
      "text/plain": [
       "     userid  score       city gender  age  objects    balance  products  \\\n",
       "0  15677338    619  Ярославль      Ж   42        2        NaN         1   \n",
       "1  15690047    608    Рыбинск      Ж   41        1   83807.86         1   \n",
       "2  15662040    502  Ярославль      Ж   42        8  159660.80         3   \n",
       "3  15744090    699  Ярославль      Ж   39        1        NaN         2   \n",
       "4  15780624    850    Рыбинск      Ж   43        2  125510.82         1   \n",
       "\n",
       "   creditcard  loyalty  estimated_salary  churn balance_copy  rostov  rybinsk  \\\n",
       "0           1        1         101348.88      1    не указан       0        0   \n",
       "1           0        1         112542.58      0       указан       0        1   \n",
       "2           1        0         113931.57      1       указан       0        0   \n",
       "3           0        0          93826.63      0    не указан       0        0   \n",
       "4           1        1          79084.10      0       указан       0        1   \n",
       "\n",
       "   yaroslavl  female  male age_group products_group  \n",
       "0          1       1     0   средний      1 продукт  \n",
       "1          0       1     0   средний      1 продукт  \n",
       "2          1       1     0   средний   3-4 продукта  \n",
       "3          1       1     0   молодой     2 продукта  \n",
       "4          0       1     0   средний      1 продукт  "
      ]
     },
     "execution_count": 36,
     "metadata": {},
     "output_type": "execute_result"
    }
   ],
   "source": [
    "def products_group(products): #создадим функцию\n",
    "    if products == 1:   #зададим условия\n",
    "        return '1 продукт'\n",
    "    if products == 2:\n",
    "        return '2 продукта'\n",
    "    else:\n",
    "        return '3-4 продукта'\n",
    "#добавим столбец, в который наша функция вернет категории по значению кол-ва продукта  \n",
    "data['products_group'] = data['products'].apply(products_group) \n",
    "data.head()"
   ]
  },
  {
   "cell_type": "code",
   "execution_count": 37,
   "id": "f7ca9d29",
   "metadata": {},
   "outputs": [
    {
     "data": {
      "image/png": "[encoded data removed]",
      "text/plain": [
       "<Figure size 360x288 with 1 Axes>"
      ]
     },
     "metadata": {
      "needs_background": "light"
     },
     "output_type": "display_data"
    },
    {
     "data": {
      "text/html": [
       "<div>\n",
       "<style scoped>\n",
       "    .dataframe tbody tr th:only-of-type {\n",
       "        vertical-align: middle;\n",
       "    }\n",
       "\n",
       "    .dataframe tbody tr th {\n",
       "        vertical-align: top;\n",
       "    }\n",
       "\n",
       "    .dataframe thead th {\n",
       "        text-align: right;\n",
       "    }\n",
       "</style>\n",
       "<table border=\"1\" class=\"dataframe\">\n",
       "  <thead>\n",
       "    <tr style=\"text-align: right;\">\n",
       "      <th></th>\n",
       "      <th>Остались</th>\n",
       "      <th>Отток</th>\n",
       "      <th>Процент оттока, %</th>\n",
       "    </tr>\n",
       "    <tr>\n",
       "      <th>products_group</th>\n",
       "      <th></th>\n",
       "      <th></th>\n",
       "      <th></th>\n",
       "    </tr>\n",
       "  </thead>\n",
       "  <tbody>\n",
       "    <tr>\n",
       "      <th>1 продукт</th>\n",
       "      <td>3675</td>\n",
       "      <td>1409</td>\n",
       "      <td>27.7</td>\n",
       "    </tr>\n",
       "    <tr>\n",
       "      <th>2 продукта</th>\n",
       "      <td>4242</td>\n",
       "      <td>348</td>\n",
       "      <td>7.6</td>\n",
       "    </tr>\n",
       "    <tr>\n",
       "      <th>3-4 продукта</th>\n",
       "      <td>46</td>\n",
       "      <td>280</td>\n",
       "      <td>85.9</td>\n",
       "    </tr>\n",
       "  </tbody>\n",
       "</table>\n",
       "</div>"
      ],
      "text/plain": [
       "                Остались  Отток  Процент оттока, %\n",
       "products_group                                    \n",
       "1 продукт           3675   1409               27.7\n",
       "2 продукта          4242    348                7.6\n",
       "3-4 продукта          46    280               85.9"
      ]
     },
     "metadata": {},
     "output_type": "display_data"
    }
   ],
   "source": [
    "function_parametrs ('products_group')"
   ]
  },
  {
   "cell_type": "markdown",
   "id": "921c46c2",
   "metadata": {},
   "source": [
    "Наличие более 2-х продуктов у клиента приводит к гарантированному оттоку, 86% таких клиентов ушли.\n",
    "Наличие только одного продукта у клиента также приводит к риску его оттока, 27,7% клиентов покинули банк."
   ]
  },
  {
   "cell_type": "markdown",
   "id": "ec540991",
   "metadata": {},
   "source": [
    "**Рассмотрим пересечение сегментов по возрасту и количеству продуктов**"
   ]
  },
  {
   "cell_type": "code",
   "execution_count": 38,
   "id": "b5d4211d",
   "metadata": {},
   "outputs": [],
   "source": [
    "# используем предыдущую функцию, добавив аргумент data\n",
    "def function_twin_parametrs (column, data):\n",
    "\n",
    "    plt.figure(figsize=(5,4))\n",
    "    bins=data[column].unique().__len__()\n",
    "    sns.histplot(x=column\n",
    "                 , bins=bins\n",
    "                 , data=data\n",
    "                 , multiple=\"stack\"\n",
    "                 , hue = 'churn'\n",
    "                 , palette = 'inferno')\n",
    "    plt.show()\n",
    "    \n",
    "    data_table = data.pivot_table(index=column, columns='churn', aggfunc={'userid':'count'})\n",
    "\n",
    "    data_table.columns = ['Остались', 'Отток']\n",
    "\n",
    "    data_table['Процент, %'] = (data_table['Отток'] / (data_table['Остались'] + data_table['Отток'])*100).round(1)\n",
    "    display(data_table)\n",
    "    "
   ]
  },
  {
   "cell_type": "code",
   "execution_count": 39,
   "id": "43462704",
   "metadata": {
    "scrolled": false
   },
   "outputs": [
    {
     "data": {
      "image/png": "[encoded data removed]",
      "text/plain": [
       "<Figure size 360x288 with 1 Axes>"
      ]
     },
     "metadata": {
      "needs_background": "light"
     },
     "output_type": "display_data"
    },
    {
     "data": {
      "text/html": [
       "<div>\n",
       "<style scoped>\n",
       "    .dataframe tbody tr th:only-of-type {\n",
       "        vertical-align: middle;\n",
       "    }\n",
       "\n",
       "    .dataframe tbody tr th {\n",
       "        vertical-align: top;\n",
       "    }\n",
       "\n",
       "    .dataframe thead th {\n",
       "        text-align: right;\n",
       "    }\n",
       "</style>\n",
       "<table border=\"1\" class=\"dataframe\">\n",
       "  <thead>\n",
       "    <tr style=\"text-align: right;\">\n",
       "      <th></th>\n",
       "      <th>Остались</th>\n",
       "      <th>Отток</th>\n",
       "      <th>Процент, %</th>\n",
       "    </tr>\n",
       "    <tr>\n",
       "      <th>products_group</th>\n",
       "      <th></th>\n",
       "      <th></th>\n",
       "      <th></th>\n",
       "    </tr>\n",
       "  </thead>\n",
       "  <tbody>\n",
       "    <tr>\n",
       "      <th>1 продукт</th>\n",
       "      <td>2452</td>\n",
       "      <td>401</td>\n",
       "      <td>14.1</td>\n",
       "    </tr>\n",
       "    <tr>\n",
       "      <th>2 продукта</th>\n",
       "      <td>2907</td>\n",
       "      <td>116</td>\n",
       "      <td>3.8</td>\n",
       "    </tr>\n",
       "    <tr>\n",
       "      <th>3-4 продукта</th>\n",
       "      <td>31</td>\n",
       "      <td>80</td>\n",
       "      <td>72.1</td>\n",
       "    </tr>\n",
       "  </tbody>\n",
       "</table>\n",
       "</div>"
      ],
      "text/plain": [
       "                Остались  Отток  Процент, %\n",
       "products_group                             \n",
       "1 продукт           2452    401        14.1\n",
       "2 продукта          2907    116         3.8\n",
       "3-4 продукта          31     80        72.1"
      ]
     },
     "metadata": {},
     "output_type": "display_data"
    }
   ],
   "source": [
    "function_twin_parametrs ('products_group', data.query('age_group == \"молодой\"'))"
   ]
  },
  {
   "cell_type": "code",
   "execution_count": 40,
   "id": "6bbc510d",
   "metadata": {},
   "outputs": [
    {
     "data": {
      "image/png": "[encoded data removed]",
      "text/plain": [
       "<Figure size 360x288 with 1 Axes>"
      ]
     },
     "metadata": {
      "needs_background": "light"
     },
     "output_type": "display_data"
    },
    {
     "data": {
      "text/html": [
       "<div>\n",
       "<style scoped>\n",
       "    .dataframe tbody tr th:only-of-type {\n",
       "        vertical-align: middle;\n",
       "    }\n",
       "\n",
       "    .dataframe tbody tr th {\n",
       "        vertical-align: top;\n",
       "    }\n",
       "\n",
       "    .dataframe thead th {\n",
       "        text-align: right;\n",
       "    }\n",
       "</style>\n",
       "<table border=\"1\" class=\"dataframe\">\n",
       "  <thead>\n",
       "    <tr style=\"text-align: right;\">\n",
       "      <th></th>\n",
       "      <th>Остались</th>\n",
       "      <th>Отток</th>\n",
       "      <th>Процент, %</th>\n",
       "    </tr>\n",
       "    <tr>\n",
       "      <th>products_group</th>\n",
       "      <th></th>\n",
       "      <th></th>\n",
       "      <th></th>\n",
       "    </tr>\n",
       "  </thead>\n",
       "  <tbody>\n",
       "    <tr>\n",
       "      <th>1 продукт</th>\n",
       "      <td>1110</td>\n",
       "      <td>986</td>\n",
       "      <td>47.0</td>\n",
       "    </tr>\n",
       "    <tr>\n",
       "      <th>2 продукта</th>\n",
       "      <td>1223</td>\n",
       "      <td>223</td>\n",
       "      <td>15.4</td>\n",
       "    </tr>\n",
       "    <tr>\n",
       "      <th>3-4 продукта</th>\n",
       "      <td>11</td>\n",
       "      <td>196</td>\n",
       "      <td>94.7</td>\n",
       "    </tr>\n",
       "  </tbody>\n",
       "</table>\n",
       "</div>"
      ],
      "text/plain": [
       "                Остались  Отток  Процент, %\n",
       "products_group                             \n",
       "1 продукт           1110    986        47.0\n",
       "2 продукта          1223    223        15.4\n",
       "3-4 продукта          11    196        94.7"
      ]
     },
     "metadata": {},
     "output_type": "display_data"
    }
   ],
   "source": [
    "function_twin_parametrs ('products_group', data.query('age_group == \"средний\"'))"
   ]
  },
  {
   "cell_type": "code",
   "execution_count": 41,
   "id": "808e8bc4",
   "metadata": {},
   "outputs": [
    {
     "data": {
      "image/png": "[encoded data removed]",
      "text/plain": [
       "<Figure size 360x288 with 1 Axes>"
      ]
     },
     "metadata": {
      "needs_background": "light"
     },
     "output_type": "display_data"
    },
    {
     "data": {
      "text/html": [
       "<div>\n",
       "<style scoped>\n",
       "    .dataframe tbody tr th:only-of-type {\n",
       "        vertical-align: middle;\n",
       "    }\n",
       "\n",
       "    .dataframe tbody tr th {\n",
       "        vertical-align: top;\n",
       "    }\n",
       "\n",
       "    .dataframe thead th {\n",
       "        text-align: right;\n",
       "    }\n",
       "</style>\n",
       "<table border=\"1\" class=\"dataframe\">\n",
       "  <thead>\n",
       "    <tr style=\"text-align: right;\">\n",
       "      <th></th>\n",
       "      <th>Остались</th>\n",
       "      <th>Отток</th>\n",
       "      <th>Процент, %</th>\n",
       "    </tr>\n",
       "    <tr>\n",
       "      <th>products_group</th>\n",
       "      <th></th>\n",
       "      <th></th>\n",
       "      <th></th>\n",
       "    </tr>\n",
       "  </thead>\n",
       "  <tbody>\n",
       "    <tr>\n",
       "      <th>1 продукт</th>\n",
       "      <td>113</td>\n",
       "      <td>22</td>\n",
       "      <td>16.3</td>\n",
       "    </tr>\n",
       "    <tr>\n",
       "      <th>2 продукта</th>\n",
       "      <td>112</td>\n",
       "      <td>9</td>\n",
       "      <td>7.4</td>\n",
       "    </tr>\n",
       "    <tr>\n",
       "      <th>3-4 продукта</th>\n",
       "      <td>4</td>\n",
       "      <td>4</td>\n",
       "      <td>50.0</td>\n",
       "    </tr>\n",
       "  </tbody>\n",
       "</table>\n",
       "</div>"
      ],
      "text/plain": [
       "                Остались  Отток  Процент, %\n",
       "products_group                             \n",
       "1 продукт            113     22        16.3\n",
       "2 продукта           112      9         7.4\n",
       "3-4 продукта           4      4        50.0"
      ]
     },
     "metadata": {},
     "output_type": "display_data"
    }
   ],
   "source": [
    "function_twin_parametrs ('products_group', data.query('age_group == \"пожилой\"'))"
   ]
  },
  {
   "cell_type": "markdown",
   "id": "f6414d78",
   "metadata": {},
   "source": [
    "Максимальный отток в любом возрасте имеет группа клиентов, пользующихся 3-4 продуктами от 50% среди пожилых, до 95% среди средневозрастных. \n",
    "\n",
    "Так же стоит обратить внимание на группу людей с 1-м продуктом. Почти половина клиентов среднего возраста (от 40 до 65 лет) ушла в отток - это около 1000 клиентов. "
   ]
  },
  {
   "cell_type": "markdown",
   "id": "be524fe1",
   "metadata": {},
   "source": [
    "Специалистам банка стоит обратить внимание на данные группы клиентов и продукты, которыми они пользуются, так как оптимальнее всего для лояльного пользования услугами банка для клиентов любых возрастных групп является наличие именно двух продуктов в пользовании."
   ]
  },
  {
   "cell_type": "markdown",
   "id": "b146c2a5",
   "metadata": {},
   "source": [
    "***Рассмотрим пересечение сегментов по городу и возрасту***"
   ]
  },
  {
   "cell_type": "code",
   "execution_count": 42,
   "id": "1a043276",
   "metadata": {},
   "outputs": [
    {
     "data": {
      "image/png": "[encoded data removed]",
      "text/plain": [
       "<Figure size 360x288 with 1 Axes>"
      ]
     },
     "metadata": {
      "needs_background": "light"
     },
     "output_type": "display_data"
    },
    {
     "data": {
      "text/html": [
       "<div>\n",
       "<style scoped>\n",
       "    .dataframe tbody tr th:only-of-type {\n",
       "        vertical-align: middle;\n",
       "    }\n",
       "\n",
       "    .dataframe tbody tr th {\n",
       "        vertical-align: top;\n",
       "    }\n",
       "\n",
       "    .dataframe thead th {\n",
       "        text-align: right;\n",
       "    }\n",
       "</style>\n",
       "<table border=\"1\" class=\"dataframe\">\n",
       "  <thead>\n",
       "    <tr style=\"text-align: right;\">\n",
       "      <th></th>\n",
       "      <th>Остались</th>\n",
       "      <th>Отток</th>\n",
       "      <th>Процент, %</th>\n",
       "    </tr>\n",
       "    <tr>\n",
       "      <th>city</th>\n",
       "      <th></th>\n",
       "      <th></th>\n",
       "      <th></th>\n",
       "    </tr>\n",
       "  </thead>\n",
       "  <tbody>\n",
       "    <tr>\n",
       "      <th>Ростов Великий</th>\n",
       "      <td>1134</td>\n",
       "      <td>235</td>\n",
       "      <td>17.2</td>\n",
       "    </tr>\n",
       "    <tr>\n",
       "      <th>Рыбинск</th>\n",
       "      <td>1368</td>\n",
       "      <td>134</td>\n",
       "      <td>8.9</td>\n",
       "    </tr>\n",
       "    <tr>\n",
       "      <th>Ярославль</th>\n",
       "      <td>2888</td>\n",
       "      <td>228</td>\n",
       "      <td>7.3</td>\n",
       "    </tr>\n",
       "  </tbody>\n",
       "</table>\n",
       "</div>"
      ],
      "text/plain": [
       "                Остались  Отток  Процент, %\n",
       "city                                       \n",
       "Ростов Великий      1134    235        17.2\n",
       "Рыбинск             1368    134         8.9\n",
       "Ярославль           2888    228         7.3"
      ]
     },
     "metadata": {},
     "output_type": "display_data"
    }
   ],
   "source": [
    "function_twin_parametrs ('city', data.query('age_group == \"молодой\"'))"
   ]
  },
  {
   "cell_type": "code",
   "execution_count": 43,
   "id": "57f81e03",
   "metadata": {},
   "outputs": [
    {
     "data": {
      "image/png": "[encoded data removed]",
      "text/plain": [
       "<Figure size 360x288 with 1 Axes>"
      ]
     },
     "metadata": {
      "needs_background": "light"
     },
     "output_type": "display_data"
    },
    {
     "data": {
      "text/html": [
       "<div>\n",
       "<style scoped>\n",
       "    .dataframe tbody tr th:only-of-type {\n",
       "        vertical-align: middle;\n",
       "    }\n",
       "\n",
       "    .dataframe tbody tr th {\n",
       "        vertical-align: top;\n",
       "    }\n",
       "\n",
       "    .dataframe thead th {\n",
       "        text-align: right;\n",
       "    }\n",
       "</style>\n",
       "<table border=\"1\" class=\"dataframe\">\n",
       "  <thead>\n",
       "    <tr style=\"text-align: right;\">\n",
       "      <th></th>\n",
       "      <th>Остались</th>\n",
       "      <th>Отток</th>\n",
       "      <th>Процент, %</th>\n",
       "    </tr>\n",
       "    <tr>\n",
       "      <th>city</th>\n",
       "      <th></th>\n",
       "      <th></th>\n",
       "      <th></th>\n",
       "    </tr>\n",
       "  </thead>\n",
       "  <tbody>\n",
       "    <tr>\n",
       "      <th>Ростов Великий</th>\n",
       "      <td>513</td>\n",
       "      <td>563</td>\n",
       "      <td>52.3</td>\n",
       "    </tr>\n",
       "    <tr>\n",
       "      <th>Рыбинск</th>\n",
       "      <td>636</td>\n",
       "      <td>272</td>\n",
       "      <td>30.0</td>\n",
       "    </tr>\n",
       "    <tr>\n",
       "      <th>Ярославль</th>\n",
       "      <td>1195</td>\n",
       "      <td>570</td>\n",
       "      <td>32.3</td>\n",
       "    </tr>\n",
       "  </tbody>\n",
       "</table>\n",
       "</div>"
      ],
      "text/plain": [
       "                Остались  Отток  Процент, %\n",
       "city                                       \n",
       "Ростов Великий       513    563        52.3\n",
       "Рыбинск              636    272        30.0\n",
       "Ярославль           1195    570        32.3"
      ]
     },
     "metadata": {},
     "output_type": "display_data"
    }
   ],
   "source": [
    "function_twin_parametrs ('city', data.query('age_group == \"средний\"'))"
   ]
  },
  {
   "cell_type": "code",
   "execution_count": 44,
   "id": "037ae52e",
   "metadata": {},
   "outputs": [
    {
     "data": {
      "image/png": "[encoded data removed]",
      "text/plain": [
       "<Figure size 360x288 with 1 Axes>"
      ]
     },
     "metadata": {
      "needs_background": "light"
     },
     "output_type": "display_data"
    },
    {
     "data": {
      "text/html": [
       "<div>\n",
       "<style scoped>\n",
       "    .dataframe tbody tr th:only-of-type {\n",
       "        vertical-align: middle;\n",
       "    }\n",
       "\n",
       "    .dataframe tbody tr th {\n",
       "        vertical-align: top;\n",
       "    }\n",
       "\n",
       "    .dataframe thead th {\n",
       "        text-align: right;\n",
       "    }\n",
       "</style>\n",
       "<table border=\"1\" class=\"dataframe\">\n",
       "  <thead>\n",
       "    <tr style=\"text-align: right;\">\n",
       "      <th></th>\n",
       "      <th>Остались</th>\n",
       "      <th>Отток</th>\n",
       "      <th>Процент, %</th>\n",
       "    </tr>\n",
       "    <tr>\n",
       "      <th>city</th>\n",
       "      <th></th>\n",
       "      <th></th>\n",
       "      <th></th>\n",
       "    </tr>\n",
       "  </thead>\n",
       "  <tbody>\n",
       "    <tr>\n",
       "      <th>Ростов Великий</th>\n",
       "      <td>48</td>\n",
       "      <td>16</td>\n",
       "      <td>25.0</td>\n",
       "    </tr>\n",
       "    <tr>\n",
       "      <th>Рыбинск</th>\n",
       "      <td>60</td>\n",
       "      <td>7</td>\n",
       "      <td>10.4</td>\n",
       "    </tr>\n",
       "    <tr>\n",
       "      <th>Ярославль</th>\n",
       "      <td>121</td>\n",
       "      <td>12</td>\n",
       "      <td>9.0</td>\n",
       "    </tr>\n",
       "  </tbody>\n",
       "</table>\n",
       "</div>"
      ],
      "text/plain": [
       "                Остались  Отток  Процент, %\n",
       "city                                       \n",
       "Ростов Великий        48     16        25.0\n",
       "Рыбинск               60      7        10.4\n",
       "Ярославль            121     12         9.0"
      ]
     },
     "metadata": {},
     "output_type": "display_data"
    }
   ],
   "source": [
    "function_twin_parametrs ('city', data.query('age_group == \"пожилой\"'))"
   ]
  },
  {
   "cell_type": "markdown",
   "id": "c6196ad9",
   "metadata": {},
   "source": [
    "Половина клиентов среднего возраста из Ростова ушла в отток, из остальных городов - по 30% в оттоке.\n",
    "Клиенты других возрастных групп показывают такое же деление по городам - В Ростове Великом доля оттока превышает показатель других городов в 2-2,5 раза."
   ]
  },
  {
   "cell_type": "markdown",
   "id": "9887de0d",
   "metadata": {},
   "source": [
    "**Посмотрим на лояльность в городах**"
   ]
  },
  {
   "cell_type": "code",
   "execution_count": 45,
   "id": "5f18b2a6",
   "metadata": {},
   "outputs": [
    {
     "data": {
      "image/png": "[encoded data removed]",
      "text/plain": [
       "<Figure size 360x288 with 1 Axes>"
      ]
     },
     "metadata": {
      "needs_background": "light"
     },
     "output_type": "display_data"
    },
    {
     "data": {
      "text/html": [
       "<div>\n",
       "<style scoped>\n",
       "    .dataframe tbody tr th:only-of-type {\n",
       "        vertical-align: middle;\n",
       "    }\n",
       "\n",
       "    .dataframe tbody tr th {\n",
       "        vertical-align: top;\n",
       "    }\n",
       "\n",
       "    .dataframe thead th {\n",
       "        text-align: right;\n",
       "    }\n",
       "</style>\n",
       "<table border=\"1\" class=\"dataframe\">\n",
       "  <thead>\n",
       "    <tr style=\"text-align: right;\">\n",
       "      <th></th>\n",
       "      <th>Остались</th>\n",
       "      <th>Отток</th>\n",
       "      <th>Процент, %</th>\n",
       "    </tr>\n",
       "    <tr>\n",
       "      <th>city</th>\n",
       "      <th></th>\n",
       "      <th></th>\n",
       "      <th></th>\n",
       "    </tr>\n",
       "  </thead>\n",
       "  <tbody>\n",
       "    <tr>\n",
       "      <th>Ростов Великий</th>\n",
       "      <td>743</td>\n",
       "      <td>518</td>\n",
       "      <td>41.1</td>\n",
       "    </tr>\n",
       "    <tr>\n",
       "      <th>Рыбинск</th>\n",
       "      <td>893</td>\n",
       "      <td>272</td>\n",
       "      <td>23.3</td>\n",
       "    </tr>\n",
       "    <tr>\n",
       "      <th>Ярославль</th>\n",
       "      <td>1911</td>\n",
       "      <td>512</td>\n",
       "      <td>21.1</td>\n",
       "    </tr>\n",
       "  </tbody>\n",
       "</table>\n",
       "</div>"
      ],
      "text/plain": [
       "                Остались  Отток  Процент, %\n",
       "city                                       \n",
       "Ростов Великий       743    518        41.1\n",
       "Рыбинск              893    272        23.3\n",
       "Ярославль           1911    512        21.1"
      ]
     },
     "metadata": {},
     "output_type": "display_data"
    }
   ],
   "source": [
    "function_twin_parametrs ('city', data.query('loyalty == 0'))"
   ]
  },
  {
   "cell_type": "markdown",
   "id": "575aff76",
   "metadata": {},
   "source": [
    "Около 40% ушедших клиентов из Ростова Великого были нелояльны к банку. С чем это связано? Как ранее мы выяснили, из этого города нет клиентов с пропущенным балансов в данных. Есть предположения, что в данном региональном подразделении банка, лиюо произошли системные сбои, либо низкий сервис обслуживания клиентов, возможно даже симбиоз данных факторов. Требуется детальный разбор коммуникации сотрудников банка с данными клиентами."
   ]
  },
  {
   "cell_type": "markdown",
   "id": "e908c110",
   "metadata": {},
   "source": [
    "**Итоговые подсчеты**"
   ]
  },
  {
   "cell_type": "markdown",
   "id": "b05c1ba2",
   "metadata": {},
   "source": [
    "Расчитаем количество и долю от общего числа клиентов в оттоке по сегменту продуктов"
   ]
  },
  {
   "cell_type": "markdown",
   "id": "c28b6cd0",
   "metadata": {},
   "source": [
    "Создадим функцию для вывода сводных таблиц клиентов в оттоке по сегментам с рачетом процента оттока от общего количества клиентов в выборке."
   ]
  },
  {
   "cell_type": "code",
   "execution_count": 46,
   "id": "a9cbd2b8",
   "metadata": {},
   "outputs": [],
   "source": [
    "def user_count_parametrs (index, data):\n",
    "    user_count = data.pivot_table(index=index, columns='churn', aggfunc={'userid':'count'})\n",
    "\n",
    "    user_count.columns = ['Остались', 'Отток']\n",
    "\n",
    "    user_count['Процент, %'] = (user_count['Отток'] / (user_count['Остались'] + user_count['Отток'])*100).round(1)\n",
    "    display(user_count)"
   ]
  },
  {
   "cell_type": "markdown",
   "id": "8bd11a75",
   "metadata": {},
   "source": [
    "Посмотрим на долю оттока клиентов среднего возраста женского пола из Ростова Великого в разбивке по продуктам"
   ]
  },
  {
   "cell_type": "code",
   "execution_count": 47,
   "id": "55ba6344",
   "metadata": {},
   "outputs": [
    {
     "data": {
      "text/html": [
       "<div>\n",
       "<style scoped>\n",
       "    .dataframe tbody tr th:only-of-type {\n",
       "        vertical-align: middle;\n",
       "    }\n",
       "\n",
       "    .dataframe tbody tr th {\n",
       "        vertical-align: top;\n",
       "    }\n",
       "\n",
       "    .dataframe thead th {\n",
       "        text-align: right;\n",
       "    }\n",
       "</style>\n",
       "<table border=\"1\" class=\"dataframe\">\n",
       "  <thead>\n",
       "    <tr style=\"text-align: right;\">\n",
       "      <th></th>\n",
       "      <th>Остались</th>\n",
       "      <th>Отток</th>\n",
       "      <th>Процент, %</th>\n",
       "    </tr>\n",
       "    <tr>\n",
       "      <th>products_group</th>\n",
       "      <th></th>\n",
       "      <th></th>\n",
       "      <th></th>\n",
       "    </tr>\n",
       "  </thead>\n",
       "  <tbody>\n",
       "    <tr>\n",
       "      <th>1 продукт</th>\n",
       "      <td>111</td>\n",
       "      <td>210</td>\n",
       "      <td>65.4</td>\n",
       "    </tr>\n",
       "    <tr>\n",
       "      <th>2 продукта</th>\n",
       "      <td>128</td>\n",
       "      <td>52</td>\n",
       "      <td>28.9</td>\n",
       "    </tr>\n",
       "    <tr>\n",
       "      <th>3-4 продукта</th>\n",
       "      <td>2</td>\n",
       "      <td>37</td>\n",
       "      <td>94.9</td>\n",
       "    </tr>\n",
       "  </tbody>\n",
       "</table>\n",
       "</div>"
      ],
      "text/plain": [
       "                Остались  Отток  Процент, %\n",
       "products_group                             \n",
       "1 продукт            111    210        65.4\n",
       "2 продукта           128     52        28.9\n",
       "3-4 продукта           2     37        94.9"
      ]
     },
     "metadata": {},
     "output_type": "display_data"
    }
   ],
   "source": [
    "user_count_parametrs ('products_group', data.query('age_group == \"средний\" & city == \"Ростов Великий\" & gender == \"Ж\"'))"
   ]
  },
  {
   "cell_type": "markdown",
   "id": "f3b04e80",
   "metadata": {},
   "source": [
    "210 клиентов (65% сегмента) из Ростова Великого возрастом от 40 до 65 лет, женского пола, которые пользуются только 1-м продуктом ушли в отток."
   ]
  },
  {
   "cell_type": "code",
   "execution_count": 48,
   "id": "9d778c9e",
   "metadata": {},
   "outputs": [
    {
     "data": {
      "text/html": [
       "<div>\n",
       "<style scoped>\n",
       "    .dataframe tbody tr th:only-of-type {\n",
       "        vertical-align: middle;\n",
       "    }\n",
       "\n",
       "    .dataframe tbody tr th {\n",
       "        vertical-align: top;\n",
       "    }\n",
       "\n",
       "    .dataframe thead th {\n",
       "        text-align: right;\n",
       "    }\n",
       "</style>\n",
       "<table border=\"1\" class=\"dataframe\">\n",
       "  <thead>\n",
       "    <tr style=\"text-align: right;\">\n",
       "      <th></th>\n",
       "      <th>Остались</th>\n",
       "      <th>Отток</th>\n",
       "      <th>Процент, %</th>\n",
       "    </tr>\n",
       "    <tr>\n",
       "      <th>products_group</th>\n",
       "      <th></th>\n",
       "      <th></th>\n",
       "      <th></th>\n",
       "    </tr>\n",
       "  </thead>\n",
       "  <tbody>\n",
       "    <tr>\n",
       "      <th>1 продукт</th>\n",
       "      <td>223</td>\n",
       "      <td>225</td>\n",
       "      <td>50.2</td>\n",
       "    </tr>\n",
       "    <tr>\n",
       "      <th>2 продукта</th>\n",
       "      <td>273</td>\n",
       "      <td>46</td>\n",
       "      <td>14.4</td>\n",
       "    </tr>\n",
       "    <tr>\n",
       "      <th>3-4 продукта</th>\n",
       "      <td>2</td>\n",
       "      <td>50</td>\n",
       "      <td>96.2</td>\n",
       "    </tr>\n",
       "  </tbody>\n",
       "</table>\n",
       "</div>"
      ],
      "text/plain": [
       "                Остались  Отток  Процент, %\n",
       "products_group                             \n",
       "1 продукт            223    225        50.2\n",
       "2 продукта           273     46        14.4\n",
       "3-4 продукта           2     50        96.2"
      ]
     },
     "metadata": {},
     "output_type": "display_data"
    }
   ],
   "source": [
    "user_count_parametrs ('products_group', data.query('age_group == \"средний\" & city == \"Ярославль\" & gender == \"Ж\"'))"
   ]
  },
  {
   "cell_type": "markdown",
   "id": "0688f856",
   "metadata": {},
   "source": [
    "В Ярославле почти с тем же количеством клиентов сегментированной группы (225 человек) доля оттока в сегменте составляет 50%."
   ]
  },
  {
   "cell_type": "markdown",
   "id": "3e0f066b",
   "metadata": {},
   "source": [
    "Определены параметры клиентов, влияющие на отток. Данные параметры рассмотрены в пересечении между собой, что позволило сегментировать и сузить портрет клиента до конкретных критериев."
   ]
  },
  {
   "cell_type": "markdown",
   "id": "903cf1a4",
   "metadata": {},
   "source": [
    "Параметры сегментированной группы:\n",
    "- город проживания - Ростов Великий и Ярославль,\n",
    "- возраст от 40 лет и выше,\n",
    "- женского пола,\n",
    "- продуктов в пользовании - один или более двух."
   ]
  },
  {
   "cell_type": "code",
   "execution_count": 49,
   "id": "c7d08896",
   "metadata": {},
   "outputs": [
    {
     "name": "stdout",
     "output_type": "stream",
     "text": [
      "количество клиентов в группе: 909\n",
      "количество клиентов в оттоке: 537\n",
      "процент оттока: 59 %\n"
     ]
    }
   ],
   "source": [
    "print('количество клиентов в группе:', data.query('age_group != \"молодой\" \\\n",
    "            & city != \"Рыбинск\" \\\n",
    "            & gender != \"М\" \\\n",
    "            & products_group != \"2 продукта\"')['userid'].nunique())\n",
    "print('количество клиентов в оттоке:', data.query('age_group != \"молодой\" \\\n",
    "            & city != \"Рыбинск\" \\\n",
    "            & gender != \"М\" \\\n",
    "            & products_group != \"2 продукта\" \\\n",
    "            & churn == 1')['userid'].nunique())\n",
    "print('процент оттока:', round(data.query('age_group != \"молодой\" \\\n",
    "            & city != \"Рыбинск\" \\\n",
    "            & gender != \"М\" \\\n",
    "            & products_group != \"2 продукта\" \\\n",
    "            & churn == 1')['userid'].nunique()/\n",
    "            data.query('age_group != \"молодой\" \\\n",
    "            & city != \"Рыбинск\" \\\n",
    "            & gender != \"М\" \\\n",
    "            & products_group != \"2 продукта\"')['userid'].nunique()*100), '%')"
   ]
  },
  {
   "cell_type": "markdown",
   "id": "98258dae",
   "metadata": {},
   "source": [
    "**Выводы:**"
   ]
  },
  {
   "cell_type": "markdown",
   "id": "3b9fe00d",
   "metadata": {},
   "source": [
    "*Портрет клиента, склонного к оттоку:*\n",
    "- возраст от 40 лет и выше (доля среди пожилых клиентов высокая)\n",
    "- пользуется одним или более 2-мя продуктами банка,\n",
    "- снижение лояльности к банку,\n",
    "- проживание в Ростове Великом либо в Ярославле,\n",
    "- преимущественно женского пола."
   ]
  },
  {
   "cell_type": "markdown",
   "id": "7033897a",
   "metadata": {},
   "source": [
    "*Портрет лояльного клиента:*\n",
    "- молодой (до 40 лет),\n",
    "- пользуется 2-мя продуктами банка,\n",
    "- преимущественно мужского пола,\n",
    "- проживает в Рыбинске или Ярославле."
   ]
  },
  {
   "cell_type": "markdown",
   "id": "241e9045",
   "metadata": {},
   "source": [
    "## Этап 5. Проверка гипотез"
   ]
  },
  {
   "cell_type": "markdown",
   "id": "9401a27c",
   "metadata": {},
   "source": [
    "**Гипотезы:**\n",
    "- Средние доходы между клиентами, которые ушли и теми, которые остались одинаковые\n",
    "- Среднее значение баллов кредитного скорринга клиентов из Ростова Великого, которые ушли и которые остались одинаковое"
   ]
  },
  {
   "cell_type": "markdown",
   "id": "5088755d",
   "metadata": {},
   "source": [
    "Для проверки гипотез используем специальный метод о равенстве среднего двух генеральных совокупностей по взятым из них выборкам.\n",
    "Необходимые требования к выборкам для использования данного метода:\n",
    " - Выборки большого объема (более 30 значений в каждой совокупности),\n",
    " - Генеральные совокупности не должны зависеть друг от друга,\n",
    " - Выборочные средние должны быть нормально распределены,\n",
    " - Дисперсии рассматриваемых генеральных совокупностей должны быть равны."
   ]
  },
  {
   "cell_type": "markdown",
   "id": "ef5ffa1a",
   "metadata": {},
   "source": [
    "Для проверки первой гипотезы у нас соблюдены требования к данным:\n",
    "- Более 30 значений в каждой выборке,\n",
    "- данные не зависят друг от друга (в каждой группе \"отток\" и \"неотток\" свои уникальные клиенты),\n",
    "- исходя из графика плотность нормального распределения двух выборок распределены практически нормально.\n",
    "- в тесте параметр *equal_var* отвечает за равность дисперсий, если дисперсии не равны,  значение =  False (метод Уэлча). значения "
   ]
  },
  {
   "cell_type": "code",
   "execution_count": 51,
   "id": "f25e3b89",
   "metadata": {},
   "outputs": [
    {
     "data": {
      "image/png": "[encoded data removed]",
      "text/plain": [
       "<Figure size 720x360 with 1 Axes>"
      ]
     },
     "metadata": {
      "needs_background": "light"
     },
     "output_type": "display_data"
    }
   ],
   "source": [
    "f, ax = plt.subplots(figsize=(10, 5))\n",
    "\n",
    "sns.histplot(x='estimated_salary',\n",
    "             stat=\"density\",\n",
    "             bins=100,\n",
    "             common_norm=False,\n",
    "             data=data,\n",
    "             kde = True,\n",
    "             hue = 'churn')\n",
    "plt.show()"
   ]
  },
  {
   "cell_type": "markdown",
   "id": "5aebe951",
   "metadata": {},
   "source": [
    "Для проверки второй гипотезы у нас соблюдены не все требования к данным:\n",
    "- Более 30 значений в каждой выборке,\n",
    "- данные так же не зависят друг от друга,\n",
    "- на графике виден выброс значений, потребуется его удаление перед проведением теста.\n",
    "- с дисперсиями тот же способ, что и с первой гипотезой."
   ]
  },
  {
   "cell_type": "code",
   "execution_count": 52,
   "id": "f45f8597",
   "metadata": {},
   "outputs": [
    {
     "data": {
      "image/png": "[encoded data removed]",
      "text/plain": [
       "<Figure size 720x360 with 1 Axes>"
      ]
     },
     "metadata": {
      "needs_background": "light"
     },
     "output_type": "display_data"
    }
   ],
   "source": [
    "f, ax = plt.subplots(figsize=(10, 5))\n",
    "\n",
    "sns.histplot(x='score',\n",
    "             stat=\"density\",\n",
    "             bins=100,\n",
    "             common_norm=False,\n",
    "             data=data.query('city == \"Ростов Великий\"'),\n",
    "             kde = True,\n",
    "             hue = 'churn')\n",
    "plt.show()"
   ]
  },
  {
   "cell_type": "markdown",
   "id": "eded48f6",
   "metadata": {},
   "source": [
    "#### 5.1. Средние доходы между клиентами, которые ушли и теми, которые остались одинаковые"
   ]
  },
  {
   "cell_type": "markdown",
   "id": "7947d025",
   "metadata": {},
   "source": [
    "Сформулируем основную и альтернативную гипотезы:\n",
    "* H₀ - средние значения дохода клиентов, которые ушли и теми, которые остались равны\n",
    "* H₁ - средние значения дохода клиентов, которые ушли и теми, которые остались не равны"
   ]
  },
  {
   "cell_type": "markdown",
   "id": "cf696e5a",
   "metadata": {},
   "source": [
    "Создадим две переменные и сохраним в них срезы по оттоку"
   ]
  },
  {
   "cell_type": "code",
   "execution_count": 53,
   "id": "bcf6fcc9",
   "metadata": {},
   "outputs": [
    {
     "data": {
      "text/html": [
       "<div>\n",
       "<style scoped>\n",
       "    .dataframe tbody tr th:only-of-type {\n",
       "        vertical-align: middle;\n",
       "    }\n",
       "\n",
       "    .dataframe tbody tr th {\n",
       "        vertical-align: top;\n",
       "    }\n",
       "\n",
       "    .dataframe thead th {\n",
       "        text-align: right;\n",
       "    }\n",
       "</style>\n",
       "<table border=\"1\" class=\"dataframe\">\n",
       "  <thead>\n",
       "    <tr style=\"text-align: right;\">\n",
       "      <th></th>\n",
       "      <th>userid</th>\n",
       "      <th>score</th>\n",
       "      <th>city</th>\n",
       "      <th>gender</th>\n",
       "      <th>age</th>\n",
       "      <th>objects</th>\n",
       "      <th>balance</th>\n",
       "      <th>products</th>\n",
       "      <th>creditcard</th>\n",
       "      <th>loyalty</th>\n",
       "      <th>estimated_salary</th>\n",
       "      <th>churn</th>\n",
       "      <th>balance_copy</th>\n",
       "      <th>rostov</th>\n",
       "      <th>rybinsk</th>\n",
       "      <th>yaroslavl</th>\n",
       "      <th>female</th>\n",
       "      <th>male</th>\n",
       "      <th>age_group</th>\n",
       "      <th>products_group</th>\n",
       "    </tr>\n",
       "  </thead>\n",
       "  <tbody>\n",
       "    <tr>\n",
       "      <th>1</th>\n",
       "      <td>15690047</td>\n",
       "      <td>608</td>\n",
       "      <td>Рыбинск</td>\n",
       "      <td>Ж</td>\n",
       "      <td>41</td>\n",
       "      <td>1</td>\n",
       "      <td>83807.86</td>\n",
       "      <td>1</td>\n",
       "      <td>0</td>\n",
       "      <td>1</td>\n",
       "      <td>112542.58</td>\n",
       "      <td>0</td>\n",
       "      <td>указан</td>\n",
       "      <td>0</td>\n",
       "      <td>1</td>\n",
       "      <td>0</td>\n",
       "      <td>1</td>\n",
       "      <td>0</td>\n",
       "      <td>средний</td>\n",
       "      <td>1 продукт</td>\n",
       "    </tr>\n",
       "    <tr>\n",
       "      <th>3</th>\n",
       "      <td>15744090</td>\n",
       "      <td>699</td>\n",
       "      <td>Ярославль</td>\n",
       "      <td>Ж</td>\n",
       "      <td>39</td>\n",
       "      <td>1</td>\n",
       "      <td>NaN</td>\n",
       "      <td>2</td>\n",
       "      <td>0</td>\n",
       "      <td>0</td>\n",
       "      <td>93826.63</td>\n",
       "      <td>0</td>\n",
       "      <td>не указан</td>\n",
       "      <td>0</td>\n",
       "      <td>0</td>\n",
       "      <td>1</td>\n",
       "      <td>1</td>\n",
       "      <td>0</td>\n",
       "      <td>молодой</td>\n",
       "      <td>2 продукта</td>\n",
       "    </tr>\n",
       "    <tr>\n",
       "      <th>4</th>\n",
       "      <td>15780624</td>\n",
       "      <td>850</td>\n",
       "      <td>Рыбинск</td>\n",
       "      <td>Ж</td>\n",
       "      <td>43</td>\n",
       "      <td>2</td>\n",
       "      <td>125510.82</td>\n",
       "      <td>1</td>\n",
       "      <td>1</td>\n",
       "      <td>1</td>\n",
       "      <td>79084.10</td>\n",
       "      <td>0</td>\n",
       "      <td>указан</td>\n",
       "      <td>0</td>\n",
       "      <td>1</td>\n",
       "      <td>0</td>\n",
       "      <td>1</td>\n",
       "      <td>0</td>\n",
       "      <td>средний</td>\n",
       "      <td>1 продукт</td>\n",
       "    </tr>\n",
       "    <tr>\n",
       "      <th>6</th>\n",
       "      <td>15635267</td>\n",
       "      <td>822</td>\n",
       "      <td>Ярославль</td>\n",
       "      <td>М</td>\n",
       "      <td>50</td>\n",
       "      <td>7</td>\n",
       "      <td>NaN</td>\n",
       "      <td>2</td>\n",
       "      <td>1</td>\n",
       "      <td>1</td>\n",
       "      <td>10062.80</td>\n",
       "      <td>0</td>\n",
       "      <td>не указан</td>\n",
       "      <td>0</td>\n",
       "      <td>0</td>\n",
       "      <td>1</td>\n",
       "      <td>0</td>\n",
       "      <td>1</td>\n",
       "      <td>средний</td>\n",
       "      <td>2 продукта</td>\n",
       "    </tr>\n",
       "    <tr>\n",
       "      <th>8</th>\n",
       "      <td>15835101</td>\n",
       "      <td>501</td>\n",
       "      <td>Ярославль</td>\n",
       "      <td>М</td>\n",
       "      <td>44</td>\n",
       "      <td>4</td>\n",
       "      <td>142051.07</td>\n",
       "      <td>2</td>\n",
       "      <td>0</td>\n",
       "      <td>1</td>\n",
       "      <td>74940.50</td>\n",
       "      <td>0</td>\n",
       "      <td>указан</td>\n",
       "      <td>0</td>\n",
       "      <td>0</td>\n",
       "      <td>1</td>\n",
       "      <td>0</td>\n",
       "      <td>1</td>\n",
       "      <td>средний</td>\n",
       "      <td>2 продукта</td>\n",
       "    </tr>\n",
       "  </tbody>\n",
       "</table>\n",
       "</div>"
      ],
      "text/plain": [
       "     userid  score       city gender  age  objects    balance  products  \\\n",
       "1  15690047    608    Рыбинск      Ж   41        1   83807.86         1   \n",
       "3  15744090    699  Ярославль      Ж   39        1        NaN         2   \n",
       "4  15780624    850    Рыбинск      Ж   43        2  125510.82         1   \n",
       "6  15635267    822  Ярославль      М   50        7        NaN         2   \n",
       "8  15835101    501  Ярославль      М   44        4  142051.07         2   \n",
       "\n",
       "   creditcard  loyalty  estimated_salary  churn balance_copy  rostov  rybinsk  \\\n",
       "1           0        1         112542.58      0       указан       0        1   \n",
       "3           0        0          93826.63      0    не указан       0        0   \n",
       "4           1        1          79084.10      0       указан       0        1   \n",
       "6           1        1          10062.80      0    не указан       0        0   \n",
       "8           0        1          74940.50      0       указан       0        0   \n",
       "\n",
       "   yaroslavl  female  male age_group products_group  \n",
       "1          0       1     0   средний      1 продукт  \n",
       "3          1       1     0   молодой     2 продукта  \n",
       "4          0       1     0   средний      1 продукт  \n",
       "6          1       0     1   средний     2 продукта  \n",
       "8          1       0     1   средний     2 продукта  "
      ]
     },
     "execution_count": 53,
     "metadata": {},
     "output_type": "execute_result"
    }
   ],
   "source": [
    "# Переменная со срезом оставшихся клиентов\n",
    "data_not_churn = data.query('churn == 0')\n",
    "data_not_churn.head()"
   ]
  },
  {
   "cell_type": "code",
   "execution_count": 54,
   "id": "7ebe3e71",
   "metadata": {},
   "outputs": [
    {
     "data": {
      "text/html": [
       "<div>\n",
       "<style scoped>\n",
       "    .dataframe tbody tr th:only-of-type {\n",
       "        vertical-align: middle;\n",
       "    }\n",
       "\n",
       "    .dataframe tbody tr th {\n",
       "        vertical-align: top;\n",
       "    }\n",
       "\n",
       "    .dataframe thead th {\n",
       "        text-align: right;\n",
       "    }\n",
       "</style>\n",
       "<table border=\"1\" class=\"dataframe\">\n",
       "  <thead>\n",
       "    <tr style=\"text-align: right;\">\n",
       "      <th></th>\n",
       "      <th>userid</th>\n",
       "      <th>score</th>\n",
       "      <th>city</th>\n",
       "      <th>gender</th>\n",
       "      <th>age</th>\n",
       "      <th>objects</th>\n",
       "      <th>balance</th>\n",
       "      <th>products</th>\n",
       "      <th>creditcard</th>\n",
       "      <th>loyalty</th>\n",
       "      <th>estimated_salary</th>\n",
       "      <th>churn</th>\n",
       "      <th>balance_copy</th>\n",
       "      <th>rostov</th>\n",
       "      <th>rybinsk</th>\n",
       "      <th>yaroslavl</th>\n",
       "      <th>female</th>\n",
       "      <th>male</th>\n",
       "      <th>age_group</th>\n",
       "      <th>products_group</th>\n",
       "    </tr>\n",
       "  </thead>\n",
       "  <tbody>\n",
       "    <tr>\n",
       "      <th>0</th>\n",
       "      <td>15677338</td>\n",
       "      <td>619</td>\n",
       "      <td>Ярославль</td>\n",
       "      <td>Ж</td>\n",
       "      <td>42</td>\n",
       "      <td>2</td>\n",
       "      <td>NaN</td>\n",
       "      <td>1</td>\n",
       "      <td>1</td>\n",
       "      <td>1</td>\n",
       "      <td>101348.88</td>\n",
       "      <td>1</td>\n",
       "      <td>не указан</td>\n",
       "      <td>0</td>\n",
       "      <td>0</td>\n",
       "      <td>1</td>\n",
       "      <td>1</td>\n",
       "      <td>0</td>\n",
       "      <td>средний</td>\n",
       "      <td>1 продукт</td>\n",
       "    </tr>\n",
       "    <tr>\n",
       "      <th>2</th>\n",
       "      <td>15662040</td>\n",
       "      <td>502</td>\n",
       "      <td>Ярославль</td>\n",
       "      <td>Ж</td>\n",
       "      <td>42</td>\n",
       "      <td>8</td>\n",
       "      <td>159660.80</td>\n",
       "      <td>3</td>\n",
       "      <td>1</td>\n",
       "      <td>0</td>\n",
       "      <td>113931.57</td>\n",
       "      <td>1</td>\n",
       "      <td>указан</td>\n",
       "      <td>0</td>\n",
       "      <td>0</td>\n",
       "      <td>1</td>\n",
       "      <td>1</td>\n",
       "      <td>0</td>\n",
       "      <td>средний</td>\n",
       "      <td>3-4 продукта</td>\n",
       "    </tr>\n",
       "    <tr>\n",
       "      <th>5</th>\n",
       "      <td>15616748</td>\n",
       "      <td>645</td>\n",
       "      <td>Рыбинск</td>\n",
       "      <td>М</td>\n",
       "      <td>44</td>\n",
       "      <td>8</td>\n",
       "      <td>113755.78</td>\n",
       "      <td>2</td>\n",
       "      <td>1</td>\n",
       "      <td>0</td>\n",
       "      <td>149756.71</td>\n",
       "      <td>1</td>\n",
       "      <td>указан</td>\n",
       "      <td>0</td>\n",
       "      <td>1</td>\n",
       "      <td>0</td>\n",
       "      <td>0</td>\n",
       "      <td>1</td>\n",
       "      <td>средний</td>\n",
       "      <td>2 продукта</td>\n",
       "    </tr>\n",
       "    <tr>\n",
       "      <th>7</th>\n",
       "      <td>15698884</td>\n",
       "      <td>376</td>\n",
       "      <td>Ростов Великий</td>\n",
       "      <td>Ж</td>\n",
       "      <td>29</td>\n",
       "      <td>4</td>\n",
       "      <td>115046.74</td>\n",
       "      <td>4</td>\n",
       "      <td>1</td>\n",
       "      <td>0</td>\n",
       "      <td>119346.88</td>\n",
       "      <td>1</td>\n",
       "      <td>указан</td>\n",
       "      <td>1</td>\n",
       "      <td>0</td>\n",
       "      <td>0</td>\n",
       "      <td>1</td>\n",
       "      <td>0</td>\n",
       "      <td>молодой</td>\n",
       "      <td>3-4 продукта</td>\n",
       "    </tr>\n",
       "    <tr>\n",
       "      <th>16</th>\n",
       "      <td>15780188</td>\n",
       "      <td>653</td>\n",
       "      <td>Ростов Великий</td>\n",
       "      <td>М</td>\n",
       "      <td>58</td>\n",
       "      <td>1</td>\n",
       "      <td>132602.88</td>\n",
       "      <td>1</td>\n",
       "      <td>1</td>\n",
       "      <td>0</td>\n",
       "      <td>5097.67</td>\n",
       "      <td>1</td>\n",
       "      <td>указан</td>\n",
       "      <td>1</td>\n",
       "      <td>0</td>\n",
       "      <td>0</td>\n",
       "      <td>0</td>\n",
       "      <td>1</td>\n",
       "      <td>средний</td>\n",
       "      <td>1 продукт</td>\n",
       "    </tr>\n",
       "  </tbody>\n",
       "</table>\n",
       "</div>"
      ],
      "text/plain": [
       "      userid  score            city gender  age  objects    balance  products  \\\n",
       "0   15677338    619       Ярославль      Ж   42        2        NaN         1   \n",
       "2   15662040    502       Ярославль      Ж   42        8  159660.80         3   \n",
       "5   15616748    645         Рыбинск      М   44        8  113755.78         2   \n",
       "7   15698884    376  Ростов Великий      Ж   29        4  115046.74         4   \n",
       "16  15780188    653  Ростов Великий      М   58        1  132602.88         1   \n",
       "\n",
       "    creditcard  loyalty  estimated_salary  churn balance_copy  rostov  \\\n",
       "0            1        1         101348.88      1    не указан       0   \n",
       "2            1        0         113931.57      1       указан       0   \n",
       "5            1        0         149756.71      1       указан       0   \n",
       "7            1        0         119346.88      1       указан       1   \n",
       "16           1        0           5097.67      1       указан       1   \n",
       "\n",
       "    rybinsk  yaroslavl  female  male age_group products_group  \n",
       "0         0          1       1     0   средний      1 продукт  \n",
       "2         0          1       1     0   средний   3-4 продукта  \n",
       "5         1          0       0     1   средний     2 продукта  \n",
       "7         0          0       1     0   молодой   3-4 продукта  \n",
       "16        0          0       0     1   средний      1 продукт  "
      ]
     },
     "execution_count": 54,
     "metadata": {},
     "output_type": "execute_result"
    }
   ],
   "source": [
    "# Переменная со срезом клиентов в оттоке\n",
    "data_churn = data.query('churn == 1')\n",
    "data_churn.head()"
   ]
  },
  {
   "cell_type": "markdown",
   "id": "801db2bd",
   "metadata": {},
   "source": [
    "Посмотрим на величину дисперсий выборок"
   ]
  },
  {
   "cell_type": "code",
   "execution_count": 55,
   "id": "b41b8e98",
   "metadata": {},
   "outputs": [
    {
     "data": {
      "text/plain": [
       "(3294987575.73531, 3352201702.316679)"
      ]
     },
     "execution_count": 55,
     "metadata": {},
     "output_type": "execute_result"
    }
   ],
   "source": [
    "np.var(data_not_churn['estimated_salary']), np.var(data_churn['estimated_salary'])"
   ]
  },
  {
   "cell_type": "markdown",
   "id": "6ae6e1d1",
   "metadata": {},
   "source": [
    "Дисперсии различаются, применим метод Уэлча (equal_var = False)"
   ]
  },
  {
   "cell_type": "code",
   "execution_count": 56,
   "id": "ee754f0b",
   "metadata": {},
   "outputs": [
    {
     "name": "stdout",
     "output_type": "stream",
     "text": [
      "p-значение: 0.22892461305145798\n",
      "Не получилось отвергнуть нулевую гипотезу\n"
     ]
    }
   ],
   "source": [
    "#специальным методом проверим гипотезу о равенстве среднего двух генеральных совокупностей\n",
    "alpha = 0.05 # критический уровень статистической значимости\n",
    "\n",
    "results = st.ttest_ind(\n",
    "    data_not_churn['estimated_salary'], \n",
    "    data_churn['estimated_salary'],\n",
    "    equal_var = False)\n",
    "\n",
    "print('p-значение:', results.pvalue)\n",
    "\n",
    "if results.pvalue < alpha:\n",
    "    print(\"Отвергаем нулевую гипотезу\")\n",
    "else:\n",
    "    print(\"Не получилось отвергнуть нулевую гипотезу\") "
   ]
  },
  {
   "cell_type": "markdown",
   "id": "51ad5d28",
   "metadata": {},
   "source": [
    "Вероятность получить равнозначность средних значений в двух выборках = 22%\n",
    "Нулевая гипотеза вероятна."
   ]
  },
  {
   "cell_type": "code",
   "execution_count": 57,
   "id": "e41c6478",
   "metadata": {},
   "outputs": [
    {
     "name": "stdout",
     "output_type": "stream",
     "text": [
      "Средний доход оставшихся клиентов: 99738\n",
      "Средняя доход клиентов в оттоке  : 101466\n"
     ]
    }
   ],
   "source": [
    "print('Средний доход оставшихся клиентов:', round(data_not_churn['estimated_salary'].mean()))\n",
    "print('Средняя доход клиентов в оттоке  :', round(data_churn['estimated_salary'].mean()))"
   ]
  },
  {
   "cell_type": "markdown",
   "id": "ee380a47",
   "metadata": {},
   "source": [
    "Подтверждение данной нулевой гипотезы говорит нам о том, что уровень дохода не влияет на вероятность оттока клиентов."
   ]
  },
  {
   "cell_type": "markdown",
   "id": "96e784fa",
   "metadata": {},
   "source": [
    "**5.2. Среднее значение баллов кредитного скорринга клиентов из Ростова Великого, которые ушли и которые остались одинаковое**"
   ]
  },
  {
   "cell_type": "markdown",
   "id": "61a888e5",
   "metadata": {},
   "source": [
    "Сформулируем основную и альтернативную гипотезы:\n",
    "* H₀ - Среднее значение баллов кредитного скорринга клиентов из Ростова Великого, которые ушли и которые остались равно\n",
    "* H₁ - Среднее значение баллов кредитного скорринга клиентов из Ростова Великого, которые ушли и которые остались не равно"
   ]
  },
  {
   "cell_type": "markdown",
   "id": "26d4f69e",
   "metadata": {},
   "source": [
    "Посмотрим на процент выбросов."
   ]
  },
  {
   "cell_type": "code",
   "execution_count": 58,
   "id": "b4964741",
   "metadata": {},
   "outputs": [
    {
     "data": {
      "text/plain": [
       "array([778., 812., 850.])"
      ]
     },
     "execution_count": 58,
     "metadata": {},
     "output_type": "execute_result"
    }
   ],
   "source": [
    "np.percentile(data['score'], [90, 95, 99])"
   ]
  },
  {
   "cell_type": "markdown",
   "id": "c7fd42c0",
   "metadata": {},
   "source": [
    "1% данных - аномалия, исключим эти данные при проведении теста."
   ]
  },
  {
   "cell_type": "markdown",
   "id": "b8fb7d88",
   "metadata": {},
   "source": [
    "Создадим две переменные и сохраним в них срезы по оттоку и городам"
   ]
  },
  {
   "cell_type": "code",
   "execution_count": 59,
   "id": "894b8bd2",
   "metadata": {},
   "outputs": [
    {
     "data": {
      "text/html": [
       "<div>\n",
       "<style scoped>\n",
       "    .dataframe tbody tr th:only-of-type {\n",
       "        vertical-align: middle;\n",
       "    }\n",
       "\n",
       "    .dataframe tbody tr th {\n",
       "        vertical-align: top;\n",
       "    }\n",
       "\n",
       "    .dataframe thead th {\n",
       "        text-align: right;\n",
       "    }\n",
       "</style>\n",
       "<table border=\"1\" class=\"dataframe\">\n",
       "  <thead>\n",
       "    <tr style=\"text-align: right;\">\n",
       "      <th></th>\n",
       "      <th>userid</th>\n",
       "      <th>score</th>\n",
       "      <th>city</th>\n",
       "      <th>gender</th>\n",
       "      <th>age</th>\n",
       "      <th>objects</th>\n",
       "      <th>balance</th>\n",
       "      <th>products</th>\n",
       "      <th>creditcard</th>\n",
       "      <th>loyalty</th>\n",
       "      <th>estimated_salary</th>\n",
       "      <th>churn</th>\n",
       "      <th>balance_copy</th>\n",
       "      <th>rostov</th>\n",
       "      <th>rybinsk</th>\n",
       "      <th>yaroslavl</th>\n",
       "      <th>female</th>\n",
       "      <th>male</th>\n",
       "      <th>age_group</th>\n",
       "      <th>products_group</th>\n",
       "    </tr>\n",
       "  </thead>\n",
       "  <tbody>\n",
       "    <tr>\n",
       "      <th>15</th>\n",
       "      <td>15686702</td>\n",
       "      <td>616</td>\n",
       "      <td>Ростов Великий</td>\n",
       "      <td>М</td>\n",
       "      <td>45</td>\n",
       "      <td>3</td>\n",
       "      <td>143129.41</td>\n",
       "      <td>2</td>\n",
       "      <td>0</td>\n",
       "      <td>1</td>\n",
       "      <td>64327.26</td>\n",
       "      <td>0</td>\n",
       "      <td>указан</td>\n",
       "      <td>1</td>\n",
       "      <td>0</td>\n",
       "      <td>0</td>\n",
       "      <td>0</td>\n",
       "      <td>1</td>\n",
       "      <td>средний</td>\n",
       "      <td>2 продукта</td>\n",
       "    </tr>\n",
       "    <tr>\n",
       "      <th>26</th>\n",
       "      <td>15779552</td>\n",
       "      <td>756</td>\n",
       "      <td>Ростов Великий</td>\n",
       "      <td>М</td>\n",
       "      <td>36</td>\n",
       "      <td>2</td>\n",
       "      <td>136815.64</td>\n",
       "      <td>1</td>\n",
       "      <td>1</td>\n",
       "      <td>1</td>\n",
       "      <td>170041.95</td>\n",
       "      <td>0</td>\n",
       "      <td>указан</td>\n",
       "      <td>1</td>\n",
       "      <td>0</td>\n",
       "      <td>0</td>\n",
       "      <td>0</td>\n",
       "      <td>1</td>\n",
       "      <td>молодой</td>\n",
       "      <td>1 продукт</td>\n",
       "    </tr>\n",
       "    <tr>\n",
       "      <th>28</th>\n",
       "      <td>15771429</td>\n",
       "      <td>574</td>\n",
       "      <td>Ростов Великий</td>\n",
       "      <td>Ж</td>\n",
       "      <td>43</td>\n",
       "      <td>3</td>\n",
       "      <td>141349.43</td>\n",
       "      <td>1</td>\n",
       "      <td>1</td>\n",
       "      <td>1</td>\n",
       "      <td>100187.43</td>\n",
       "      <td>0</td>\n",
       "      <td>указан</td>\n",
       "      <td>1</td>\n",
       "      <td>0</td>\n",
       "      <td>0</td>\n",
       "      <td>1</td>\n",
       "      <td>0</td>\n",
       "      <td>средний</td>\n",
       "      <td>1 продукт</td>\n",
       "    </tr>\n",
       "    <tr>\n",
       "      <th>32</th>\n",
       "      <td>15792917</td>\n",
       "      <td>553</td>\n",
       "      <td>Ростов Великий</td>\n",
       "      <td>М</td>\n",
       "      <td>41</td>\n",
       "      <td>9</td>\n",
       "      <td>110112.54</td>\n",
       "      <td>2</td>\n",
       "      <td>0</td>\n",
       "      <td>0</td>\n",
       "      <td>81898.81</td>\n",
       "      <td>0</td>\n",
       "      <td>указан</td>\n",
       "      <td>1</td>\n",
       "      <td>0</td>\n",
       "      <td>0</td>\n",
       "      <td>0</td>\n",
       "      <td>1</td>\n",
       "      <td>средний</td>\n",
       "      <td>2 продукта</td>\n",
       "    </tr>\n",
       "    <tr>\n",
       "      <th>39</th>\n",
       "      <td>15628504</td>\n",
       "      <td>582</td>\n",
       "      <td>Ростов Великий</td>\n",
       "      <td>М</td>\n",
       "      <td>41</td>\n",
       "      <td>6</td>\n",
       "      <td>70349.48</td>\n",
       "      <td>2</td>\n",
       "      <td>0</td>\n",
       "      <td>1</td>\n",
       "      <td>178074.04</td>\n",
       "      <td>0</td>\n",
       "      <td>указан</td>\n",
       "      <td>1</td>\n",
       "      <td>0</td>\n",
       "      <td>0</td>\n",
       "      <td>0</td>\n",
       "      <td>1</td>\n",
       "      <td>средний</td>\n",
       "      <td>2 продукта</td>\n",
       "    </tr>\n",
       "  </tbody>\n",
       "</table>\n",
       "</div>"
      ],
      "text/plain": [
       "      userid  score            city gender  age  objects    balance  products  \\\n",
       "15  15686702    616  Ростов Великий      М   45        3  143129.41         2   \n",
       "26  15779552    756  Ростов Великий      М   36        2  136815.64         1   \n",
       "28  15771429    574  Ростов Великий      Ж   43        3  141349.43         1   \n",
       "32  15792917    553  Ростов Великий      М   41        9  110112.54         2   \n",
       "39  15628504    582  Ростов Великий      М   41        6   70349.48         2   \n",
       "\n",
       "    creditcard  loyalty  estimated_salary  churn balance_copy  rostov  \\\n",
       "15           0        1          64327.26      0       указан       1   \n",
       "26           1        1         170041.95      0       указан       1   \n",
       "28           1        1         100187.43      0       указан       1   \n",
       "32           0        0          81898.81      0       указан       1   \n",
       "39           0        1         178074.04      0       указан       1   \n",
       "\n",
       "    rybinsk  yaroslavl  female  male age_group products_group  \n",
       "15        0          0       0     1   средний     2 продукта  \n",
       "26        0          0       0     1   молодой      1 продукт  \n",
       "28        0          0       1     0   средний      1 продукт  \n",
       "32        0          0       0     1   средний     2 продукта  \n",
       "39        0          0       0     1   средний     2 продукта  "
      ]
     },
     "execution_count": 59,
     "metadata": {},
     "output_type": "execute_result"
    }
   ],
   "source": [
    "# Переменная со срезом оставшихся клиентов из Ростова Великого\n",
    "data_rostov_on = data.query('city == \"Ростов Великий\" & churn == 0 & score < 850')\n",
    "data_rostov_on.head()"
   ]
  },
  {
   "cell_type": "code",
   "execution_count": 60,
   "id": "6609a276",
   "metadata": {},
   "outputs": [
    {
     "data": {
      "text/html": [
       "<div>\n",
       "<style scoped>\n",
       "    .dataframe tbody tr th:only-of-type {\n",
       "        vertical-align: middle;\n",
       "    }\n",
       "\n",
       "    .dataframe tbody tr th {\n",
       "        vertical-align: top;\n",
       "    }\n",
       "\n",
       "    .dataframe thead th {\n",
       "        text-align: right;\n",
       "    }\n",
       "</style>\n",
       "<table border=\"1\" class=\"dataframe\">\n",
       "  <thead>\n",
       "    <tr style=\"text-align: right;\">\n",
       "      <th></th>\n",
       "      <th>userid</th>\n",
       "      <th>score</th>\n",
       "      <th>city</th>\n",
       "      <th>gender</th>\n",
       "      <th>age</th>\n",
       "      <th>objects</th>\n",
       "      <th>balance</th>\n",
       "      <th>products</th>\n",
       "      <th>creditcard</th>\n",
       "      <th>loyalty</th>\n",
       "      <th>estimated_salary</th>\n",
       "      <th>churn</th>\n",
       "      <th>balance_copy</th>\n",
       "      <th>rostov</th>\n",
       "      <th>rybinsk</th>\n",
       "      <th>yaroslavl</th>\n",
       "      <th>female</th>\n",
       "      <th>male</th>\n",
       "      <th>age_group</th>\n",
       "      <th>products_group</th>\n",
       "    </tr>\n",
       "  </thead>\n",
       "  <tbody>\n",
       "    <tr>\n",
       "      <th>7</th>\n",
       "      <td>15698884</td>\n",
       "      <td>376</td>\n",
       "      <td>Ростов Великий</td>\n",
       "      <td>Ж</td>\n",
       "      <td>29</td>\n",
       "      <td>4</td>\n",
       "      <td>115046.74</td>\n",
       "      <td>4</td>\n",
       "      <td>1</td>\n",
       "      <td>0</td>\n",
       "      <td>119346.88</td>\n",
       "      <td>1</td>\n",
       "      <td>указан</td>\n",
       "      <td>1</td>\n",
       "      <td>0</td>\n",
       "      <td>0</td>\n",
       "      <td>1</td>\n",
       "      <td>0</td>\n",
       "      <td>молодой</td>\n",
       "      <td>3-4 продукта</td>\n",
       "    </tr>\n",
       "    <tr>\n",
       "      <th>16</th>\n",
       "      <td>15780188</td>\n",
       "      <td>653</td>\n",
       "      <td>Ростов Великий</td>\n",
       "      <td>М</td>\n",
       "      <td>58</td>\n",
       "      <td>1</td>\n",
       "      <td>132602.88</td>\n",
       "      <td>1</td>\n",
       "      <td>1</td>\n",
       "      <td>0</td>\n",
       "      <td>5097.67</td>\n",
       "      <td>1</td>\n",
       "      <td>указан</td>\n",
       "      <td>1</td>\n",
       "      <td>0</td>\n",
       "      <td>0</td>\n",
       "      <td>0</td>\n",
       "      <td>1</td>\n",
       "      <td>средний</td>\n",
       "      <td>1 продукт</td>\n",
       "    </tr>\n",
       "    <tr>\n",
       "      <th>46</th>\n",
       "      <td>15645016</td>\n",
       "      <td>829</td>\n",
       "      <td>Ростов Великий</td>\n",
       "      <td>Ж</td>\n",
       "      <td>27</td>\n",
       "      <td>9</td>\n",
       "      <td>112045.67</td>\n",
       "      <td>1</td>\n",
       "      <td>1</td>\n",
       "      <td>1</td>\n",
       "      <td>119708.21</td>\n",
       "      <td>1</td>\n",
       "      <td>указан</td>\n",
       "      <td>1</td>\n",
       "      <td>0</td>\n",
       "      <td>0</td>\n",
       "      <td>1</td>\n",
       "      <td>0</td>\n",
       "      <td>молодой</td>\n",
       "      <td>1 продукт</td>\n",
       "    </tr>\n",
       "    <tr>\n",
       "      <th>47</th>\n",
       "      <td>15814309</td>\n",
       "      <td>637</td>\n",
       "      <td>Ростов Великий</td>\n",
       "      <td>Ж</td>\n",
       "      <td>39</td>\n",
       "      <td>9</td>\n",
       "      <td>137843.80</td>\n",
       "      <td>1</td>\n",
       "      <td>1</td>\n",
       "      <td>1</td>\n",
       "      <td>117622.80</td>\n",
       "      <td>1</td>\n",
       "      <td>указан</td>\n",
       "      <td>1</td>\n",
       "      <td>0</td>\n",
       "      <td>0</td>\n",
       "      <td>1</td>\n",
       "      <td>0</td>\n",
       "      <td>молодой</td>\n",
       "      <td>1 продукт</td>\n",
       "    </tr>\n",
       "    <tr>\n",
       "      <th>53</th>\n",
       "      <td>15745034</td>\n",
       "      <td>655</td>\n",
       "      <td>Ростов Великий</td>\n",
       "      <td>М</td>\n",
       "      <td>41</td>\n",
       "      <td>8</td>\n",
       "      <td>125561.97</td>\n",
       "      <td>1</td>\n",
       "      <td>0</td>\n",
       "      <td>0</td>\n",
       "      <td>164040.94</td>\n",
       "      <td>1</td>\n",
       "      <td>указан</td>\n",
       "      <td>1</td>\n",
       "      <td>0</td>\n",
       "      <td>0</td>\n",
       "      <td>0</td>\n",
       "      <td>1</td>\n",
       "      <td>средний</td>\n",
       "      <td>1 продукт</td>\n",
       "    </tr>\n",
       "  </tbody>\n",
       "</table>\n",
       "</div>"
      ],
      "text/plain": [
       "      userid  score            city gender  age  objects    balance  products  \\\n",
       "7   15698884    376  Ростов Великий      Ж   29        4  115046.74         4   \n",
       "16  15780188    653  Ростов Великий      М   58        1  132602.88         1   \n",
       "46  15645016    829  Ростов Великий      Ж   27        9  112045.67         1   \n",
       "47  15814309    637  Ростов Великий      Ж   39        9  137843.80         1   \n",
       "53  15745034    655  Ростов Великий      М   41        8  125561.97         1   \n",
       "\n",
       "    creditcard  loyalty  estimated_salary  churn balance_copy  rostov  \\\n",
       "7            1        0         119346.88      1       указан       1   \n",
       "16           1        0           5097.67      1       указан       1   \n",
       "46           1        1         119708.21      1       указан       1   \n",
       "47           1        1         117622.80      1       указан       1   \n",
       "53           0        0         164040.94      1       указан       1   \n",
       "\n",
       "    rybinsk  yaroslavl  female  male age_group products_group  \n",
       "7         0          0       1     0   молодой   3-4 продукта  \n",
       "16        0          0       0     1   средний      1 продукт  \n",
       "46        0          0       1     0   молодой      1 продукт  \n",
       "47        0          0       1     0   молодой      1 продукт  \n",
       "53        0          0       0     1   средний      1 продукт  "
      ]
     },
     "execution_count": 60,
     "metadata": {},
     "output_type": "execute_result"
    }
   ],
   "source": [
    "# Переменная со срезом клиентов в оттоке из Ростова Великого\n",
    "data_rostov_off = data.query('city == \"Ростов Великий\" & churn == 1 & score < 850')\n",
    "data_rostov_off.head()"
   ]
  },
  {
   "cell_type": "markdown",
   "id": "8cae1140",
   "metadata": {},
   "source": [
    "Посмотрим на величину дисперсий выборок"
   ]
  },
  {
   "cell_type": "code",
   "execution_count": 61,
   "id": "d070b3b6",
   "metadata": {},
   "outputs": [
    {
     "data": {
      "text/plain": [
       "(9148.507520552681, 10059.463096678073)"
      ]
     },
     "execution_count": 61,
     "metadata": {},
     "output_type": "execute_result"
    }
   ],
   "source": [
    "np.var(data_not_churn['score']), np.var(data_churn['score'])"
   ]
  },
  {
   "cell_type": "markdown",
   "id": "090f683e",
   "metadata": {},
   "source": [
    "Дисперсии выборок различаются"
   ]
  },
  {
   "cell_type": "code",
   "execution_count": 62,
   "id": "a16b914b",
   "metadata": {},
   "outputs": [
    {
     "name": "stdout",
     "output_type": "stream",
     "text": [
      "p-значение: 0.272076658796686\n",
      "Не получилось отвергнуть нулевую гипотезу\n"
     ]
    }
   ],
   "source": [
    "#специальным методом проверим гипотезу о равенстве среднего двух генеральных совокупностей\n",
    "alpha = 0.05 # критический уровень статистической значимости\n",
    "\n",
    "results = st.ttest_ind(\n",
    "    data_rostov_on['score'], \n",
    "    data_rostov_off['score'],\n",
    "    equal_var = False)\n",
    "\n",
    "print('p-значение:', results.pvalue)\n",
    "\n",
    "if results.pvalue < alpha:\n",
    "    print(\"Отвергаем нулевую гипотезу\")\n",
    "else:\n",
    "    print(\"Не получилось отвергнуть нулевую гипотезу\") "
   ]
  },
  {
   "cell_type": "markdown",
   "id": "c273dc69",
   "metadata": {},
   "source": [
    "Вероятность получить равнозначность средних значений в двух выборках = 27 %\n",
    "Нулевая гипотеза вероятна."
   ]
  },
  {
   "cell_type": "code",
   "execution_count": 63,
   "id": "1cb997b5",
   "metadata": {},
   "outputs": [
    {
     "name": "stdout",
     "output_type": "stream",
     "text": [
      "Среднее значение баллов оставшихся клиентов из Ростова Великого: 648\n",
      "Среднее значение баллов клиентов в оттоке из Ростова Великого: 643\n"
     ]
    }
   ],
   "source": [
    "print('Среднее значение баллов оставшихся клиентов из Ростова Великого:', round(data_rostov_on['score'].mean()))\n",
    "print('Среднее значение баллов клиентов в оттоке из Ростова Великого:', round(data_rostov_off['score'].mean()))"
   ]
  },
  {
   "cell_type": "markdown",
   "id": "e302d2f1",
   "metadata": {},
   "source": [
    "Средние значения кредитных баллов клиентов в Ростове Великом (в котором выявили повышенный отток) практически равны, это означает, что данные параметр на отток клиентов не влияет "
   ]
  },
  {
   "cell_type": "markdown",
   "id": "76b17b1c",
   "metadata": {},
   "source": [
    "## Этап 6. Выводы и рекомендации"
   ]
  },
  {
   "cell_type": "markdown",
   "id": "c92692de",
   "metadata": {},
   "source": [
    "Анализ данных показал, что из 10000 клиентов банка, 20% отказались от его услуг."
   ]
  },
  {
   "cell_type": "markdown",
   "id": "94cfe90f",
   "metadata": {},
   "source": [
    "**Основные признаки оттока:**\n",
    "    \n",
    " - *недостаточное либо большое количество предлагаемых продуктов*"
   ]
  },
  {
   "cell_type": "markdown",
   "id": "8cfdf98e",
   "metadata": {},
   "source": [
    "Выявлено, что 2 продукта в пользовании является оптимальным количеством для клиента. 17% с другим количеством продукта в оттоке."
   ]
  },
  {
   "cell_type": "markdown",
   "id": "395f5a6a",
   "metadata": {},
   "source": [
    "  - *возраст клиентов, чем выше возраст клиента, тем динамика оттока увеличивается*"
   ]
  },
  {
   "cell_type": "markdown",
   "id": "92eccba4",
   "metadata": {},
   "source": [
    "20 % среди клиентов среднего возраста (от 30 до 50 лет) перестали сотрудничество с банком. Среди пожилых клиентов (старше 50 лет) данный показатель составляет почти 50%.\n",
    "Молодежь (30 лет и моложе) уходит реже, всего 7,5%."
   ]
  },
  {
   "cell_type": "markdown",
   "id": "2374d05d",
   "metadata": {},
   "source": [
    "  - *город проживания*"
   ]
  },
  {
   "cell_type": "markdown",
   "id": "609a194c",
   "metadata": {},
   "source": [
    "Ростов Великий - лидер по оттоку, доля ушедших клиентов жителей города - 30%. Ярославль с таким же количеством клиентов в оттоке имеет меньшую долю - 16%."
   ]
  },
  {
   "cell_type": "markdown",
   "id": "1e56ca37",
   "metadata": {},
   "source": [
    "**Предположительные причины оттока**"
   ]
  },
  {
   "cell_type": "markdown",
   "id": "1e3eacb9",
   "metadata": {},
   "source": [
    "- Пользуясь одним продуктом (например только зарплатной картой), клиент, не зная о других возможностях, теряет интерес к банку. И наоборот, имея в пользовании 3-4 продукта в пользовании, клиент \"устаёт\" от переизбытка навязанных услуг, что тоже снижает лояльность к банку."
   ]
  },
  {
   "cell_type": "markdown",
   "id": "3ac3fb2c",
   "metadata": {},
   "source": [
    "- Средний возраст клиента в оттоке - 45 лет. Пожилые люди уходят из банка активнее молодых. Причиной этому может быть цифровизация процессов и услуг банка, внедрение пользования банковским приложением либо личным кабинетом онлайн.\n",
    "К сожалению, так сложилось, что более возрастные, а тем более пожилые люди имеют низкий опыт и навыки пользования онлайн услугами. По привычке люди такой возрастной категории привыкли вживую коммуницировать с банком, поэтому они не успевают адаптировать к онлайн среде.\n"
   ]
  },
  {
   "cell_type": "markdown",
   "id": "922f4e65",
   "metadata": {},
   "source": [
    "- Лидер по доле оттока - Ростов Великий. Причину необходимо искать в качестве предоставления услуг в отделениях банка этого города. Возможно произошла ротация кадров, что повлияло на обслуживании клиентов. Либо произошел системный сбой банковских данных, который вызвал рост негодования клиентов."
   ]
  },
  {
   "cell_type": "markdown",
   "id": "73bdf17b",
   "metadata": {},
   "source": [
    "**Рекомендации сотрудникам банка:**"
   ]
  },
  {
   "cell_type": "markdown",
   "id": "74d0ccd5",
   "metadata": {},
   "source": [
    "1) Диверсифицировать количество предлагаемых продуктов:\n",
    "* клиентам с одним - предложить дополнительно ещё: открытие дополнительного накопительного вклада, кредитная карта на льготных условиях.\n",
    "* Клиентам с 3-4 продуктами предложить сократить количество без потери качества услуг, например закрытие неиспользуемых счетов, закрытие кредитов на выгодных условиях."
   ]
  },
  {
   "cell_type": "markdown",
   "id": "b5406a29",
   "metadata": {},
   "source": [
    "2) Провести рекламную кампанию:\n",
    "\n",
    "  * для привлечения молодых клиентов (самые перспективные).\n",
    "  * провести ликбез по обучению пожилых клиентов онлайн услуг, модернизация (оптимизация) онлайн услуг."
   ]
  },
  {
   "cell_type": "markdown",
   "id": "24482631",
   "metadata": {},
   "source": [
    "3) Проверить качество предоставляемых услуг в отделениях банка в Ростове Великом."
   ]
  }
 ],
 "metadata": {
  "ExecuteTimeLog": [
   {
    "duration": 1171,
    "start_time": "2022-09-07T16:07:32.373Z"
   },
   {
    "duration": 116,
    "start_time": "2022-09-07T16:07:33.546Z"
   },
   {
    "duration": 14,
    "start_time": "2022-09-07T16:07:33.664Z"
   },
   {
    "duration": 25,
    "start_time": "2022-09-07T16:07:33.680Z"
   },
   {
    "duration": 4,
    "start_time": "2022-09-07T16:07:33.706Z"
   },
   {
    "duration": 18,
    "start_time": "2022-09-07T16:07:33.712Z"
   },
   {
    "duration": 3,
    "start_time": "2022-09-07T16:07:33.731Z"
   },
   {
    "duration": 4,
    "start_time": "2022-09-07T16:07:33.755Z"
   },
   {
    "duration": 19,
    "start_time": "2022-09-07T16:07:33.760Z"
   },
   {
    "duration": 6,
    "start_time": "2022-09-07T16:07:33.785Z"
   },
   {
    "duration": 7,
    "start_time": "2022-09-07T16:07:33.792Z"
   },
   {
    "duration": 4,
    "start_time": "2022-09-07T16:07:33.800Z"
   },
   {
    "duration": 35,
    "start_time": "2022-09-07T16:07:33.806Z"
   },
   {
    "duration": 11,
    "start_time": "2022-09-07T16:07:33.855Z"
   },
   {
    "duration": 656,
    "start_time": "2022-09-07T16:07:33.868Z"
   },
   {
    "duration": 623,
    "start_time": "2022-09-07T16:07:34.526Z"
   },
   {
    "duration": 239,
    "start_time": "2022-09-07T16:07:35.150Z"
   },
   {
    "duration": 346,
    "start_time": "2022-09-07T16:07:35.390Z"
   },
   {
    "duration": 236,
    "start_time": "2022-09-07T16:07:35.738Z"
   },
   {
    "duration": 323,
    "start_time": "2022-09-07T16:07:35.976Z"
   },
   {
    "duration": 13,
    "start_time": "2022-09-07T16:07:36.301Z"
   },
   {
    "duration": 545,
    "start_time": "2022-09-07T16:07:36.315Z"
   },
   {
    "duration": 0,
    "start_time": "2022-09-07T16:07:36.862Z"
   },
   {
    "duration": 0,
    "start_time": "2022-09-07T16:07:36.863Z"
   },
   {
    "duration": 0,
    "start_time": "2022-09-07T16:07:36.864Z"
   },
   {
    "duration": 0,
    "start_time": "2022-09-07T16:07:36.865Z"
   },
   {
    "duration": 0,
    "start_time": "2022-09-07T16:07:36.866Z"
   },
   {
    "duration": 0,
    "start_time": "2022-09-07T16:07:36.867Z"
   },
   {
    "duration": 0,
    "start_time": "2022-09-07T16:07:36.868Z"
   },
   {
    "duration": 0,
    "start_time": "2022-09-07T16:07:36.869Z"
   },
   {
    "duration": 0,
    "start_time": "2022-09-07T16:07:36.870Z"
   },
   {
    "duration": 0,
    "start_time": "2022-09-07T16:07:36.871Z"
   },
   {
    "duration": 0,
    "start_time": "2022-09-07T16:07:36.872Z"
   },
   {
    "duration": 0,
    "start_time": "2022-09-07T16:07:36.873Z"
   },
   {
    "duration": 0,
    "start_time": "2022-09-07T16:07:36.874Z"
   },
   {
    "duration": 0,
    "start_time": "2022-09-07T16:07:36.875Z"
   },
   {
    "duration": 0,
    "start_time": "2022-09-07T16:07:36.876Z"
   },
   {
    "duration": 0,
    "start_time": "2022-09-07T16:07:36.877Z"
   },
   {
    "duration": 0,
    "start_time": "2022-09-07T16:07:36.878Z"
   },
   {
    "duration": 0,
    "start_time": "2022-09-07T16:07:36.880Z"
   },
   {
    "duration": 0,
    "start_time": "2022-09-07T16:07:36.880Z"
   },
   {
    "duration": 0,
    "start_time": "2022-09-07T16:07:36.881Z"
   },
   {
    "duration": 0,
    "start_time": "2022-09-07T16:07:36.882Z"
   },
   {
    "duration": 0,
    "start_time": "2022-09-07T16:07:36.883Z"
   },
   {
    "duration": 0,
    "start_time": "2022-09-07T16:07:36.884Z"
   },
   {
    "duration": 9,
    "start_time": "2022-09-07T16:16:07.467Z"
   },
   {
    "duration": 8,
    "start_time": "2022-09-07T16:16:10.474Z"
   },
   {
    "duration": 3,
    "start_time": "2022-09-07T16:16:42.469Z"
   },
   {
    "duration": 4,
    "start_time": "2022-09-07T16:17:18.716Z"
   },
   {
    "duration": 12,
    "start_time": "2022-09-07T16:17:34.271Z"
   },
   {
    "duration": 16,
    "start_time": "2022-09-07T16:17:39.108Z"
   },
   {
    "duration": 453,
    "start_time": "2022-09-07T16:17:39.126Z"
   },
   {
    "duration": 0,
    "start_time": "2022-09-07T16:17:39.581Z"
   },
   {
    "duration": 0,
    "start_time": "2022-09-07T16:17:39.583Z"
   },
   {
    "duration": 0,
    "start_time": "2022-09-07T16:17:39.584Z"
   },
   {
    "duration": 0,
    "start_time": "2022-09-07T16:17:39.586Z"
   },
   {
    "duration": 0,
    "start_time": "2022-09-07T16:17:39.587Z"
   },
   {
    "duration": 0,
    "start_time": "2022-09-07T16:17:39.588Z"
   },
   {
    "duration": 0,
    "start_time": "2022-09-07T16:17:39.589Z"
   },
   {
    "duration": 0,
    "start_time": "2022-09-07T16:17:39.591Z"
   },
   {
    "duration": 0,
    "start_time": "2022-09-07T16:17:39.592Z"
   },
   {
    "duration": 0,
    "start_time": "2022-09-07T16:17:39.594Z"
   },
   {
    "duration": 0,
    "start_time": "2022-09-07T16:17:39.595Z"
   },
   {
    "duration": 0,
    "start_time": "2022-09-07T16:17:39.596Z"
   },
   {
    "duration": 0,
    "start_time": "2022-09-07T16:17:39.597Z"
   },
   {
    "duration": 0,
    "start_time": "2022-09-07T16:17:39.599Z"
   },
   {
    "duration": 0,
    "start_time": "2022-09-07T16:17:39.600Z"
   },
   {
    "duration": 0,
    "start_time": "2022-09-07T16:17:39.601Z"
   },
   {
    "duration": 0,
    "start_time": "2022-09-07T16:17:39.602Z"
   },
   {
    "duration": 0,
    "start_time": "2022-09-07T16:17:39.604Z"
   },
   {
    "duration": 0,
    "start_time": "2022-09-07T16:17:39.606Z"
   },
   {
    "duration": 0,
    "start_time": "2022-09-07T16:17:39.607Z"
   },
   {
    "duration": 547,
    "start_time": "2022-09-07T16:17:50.397Z"
   },
   {
    "duration": 0,
    "start_time": "2022-09-07T16:17:50.945Z"
   },
   {
    "duration": 440,
    "start_time": "2022-09-07T16:17:51.164Z"
   },
   {
    "duration": 464,
    "start_time": "2022-09-07T16:17:54.515Z"
   },
   {
    "duration": 624,
    "start_time": "2022-09-07T16:17:55.867Z"
   },
   {
    "duration": 14,
    "start_time": "2022-09-07T16:17:58.081Z"
   },
   {
    "duration": 418,
    "start_time": "2022-09-07T16:17:59.029Z"
   },
   {
    "duration": 360,
    "start_time": "2022-09-07T16:18:00.643Z"
   },
   {
    "duration": 4,
    "start_time": "2022-09-07T16:18:02.572Z"
   },
   {
    "duration": 20,
    "start_time": "2022-09-07T16:18:03.077Z"
   },
   {
    "duration": 19,
    "start_time": "2022-09-07T16:18:04.366Z"
   },
   {
    "duration": 19,
    "start_time": "2022-09-07T16:18:05.127Z"
   },
   {
    "duration": 13,
    "start_time": "2022-09-07T16:19:54.524Z"
   },
   {
    "duration": 13,
    "start_time": "2022-09-07T16:19:54.691Z"
   },
   {
    "duration": 5,
    "start_time": "2022-09-07T16:19:54.874Z"
   },
   {
    "duration": 4,
    "start_time": "2022-09-07T16:19:55.397Z"
   },
   {
    "duration": 93,
    "start_time": "2022-09-07T16:19:56.501Z"
   },
   {
    "duration": 15,
    "start_time": "2022-09-07T16:19:56.713Z"
   },
   {
    "duration": 5,
    "start_time": "2022-09-07T16:19:57.108Z"
   },
   {
    "duration": 4,
    "start_time": "2022-09-07T16:19:57.718Z"
   },
   {
    "duration": 95,
    "start_time": "2022-09-12T08:49:36.425Z"
   },
   {
    "duration": 48,
    "start_time": "2022-09-12T08:59:35.759Z"
   },
   {
    "duration": 1417,
    "start_time": "2022-09-12T08:59:46.719Z"
   },
   {
    "duration": 141,
    "start_time": "2022-09-12T08:59:48.138Z"
   },
   {
    "duration": 14,
    "start_time": "2022-09-12T08:59:48.280Z"
   },
   {
    "duration": 27,
    "start_time": "2022-09-12T08:59:48.295Z"
   },
   {
    "duration": 4,
    "start_time": "2022-09-12T08:59:48.324Z"
   },
   {
    "duration": 9,
    "start_time": "2022-09-12T08:59:48.329Z"
   },
   {
    "duration": 19,
    "start_time": "2022-09-12T08:59:48.339Z"
   },
   {
    "duration": 17,
    "start_time": "2022-09-12T08:59:48.359Z"
   },
   {
    "duration": 28,
    "start_time": "2022-09-12T08:59:48.378Z"
   },
   {
    "duration": 19,
    "start_time": "2022-09-12T08:59:48.408Z"
   },
   {
    "duration": 938,
    "start_time": "2022-09-12T08:59:48.428Z"
   },
   {
    "duration": 17,
    "start_time": "2022-09-12T08:59:49.368Z"
   },
   {
    "duration": 473,
    "start_time": "2022-09-12T08:59:49.387Z"
   },
   {
    "duration": 4,
    "start_time": "2022-09-12T08:59:49.863Z"
   },
   {
    "duration": 13,
    "start_time": "2022-09-12T08:59:49.869Z"
   },
   {
    "duration": 22,
    "start_time": "2022-09-12T08:59:49.883Z"
   },
   {
    "duration": 3,
    "start_time": "2022-09-12T08:59:49.907Z"
   },
   {
    "duration": 13,
    "start_time": "2022-09-12T08:59:49.911Z"
   },
   {
    "duration": 47,
    "start_time": "2022-09-12T08:59:49.926Z"
   },
   {
    "duration": 33,
    "start_time": "2022-09-12T08:59:49.975Z"
   },
   {
    "duration": 4,
    "start_time": "2022-09-12T08:59:50.010Z"
   },
   {
    "duration": 168,
    "start_time": "2022-09-12T08:59:50.016Z"
   },
   {
    "duration": 228,
    "start_time": "2022-09-12T08:59:50.186Z"
   },
   {
    "duration": 192,
    "start_time": "2022-09-12T08:59:50.415Z"
   },
   {
    "duration": 180,
    "start_time": "2022-09-12T08:59:50.609Z"
   },
   {
    "duration": 163,
    "start_time": "2022-09-12T08:59:50.791Z"
   },
   {
    "duration": 164,
    "start_time": "2022-09-12T08:59:50.955Z"
   },
   {
    "duration": 408,
    "start_time": "2022-09-12T08:59:51.121Z"
   },
   {
    "duration": 856,
    "start_time": "2022-09-12T08:59:51.530Z"
   },
   {
    "duration": 565,
    "start_time": "2022-09-12T08:59:52.388Z"
   },
   {
    "duration": 486,
    "start_time": "2022-09-12T08:59:52.955Z"
   },
   {
    "duration": 872,
    "start_time": "2022-09-12T08:59:53.443Z"
   },
   {
    "duration": 17,
    "start_time": "2022-09-12T08:59:54.317Z"
   },
   {
    "duration": 158,
    "start_time": "2022-09-12T08:59:54.336Z"
   },
   {
    "duration": 10,
    "start_time": "2022-09-12T08:59:54.495Z"
   },
   {
    "duration": 14,
    "start_time": "2022-09-12T08:59:54.507Z"
   },
   {
    "duration": 156,
    "start_time": "2022-09-12T08:59:54.523Z"
   },
   {
    "duration": 4,
    "start_time": "2022-09-12T08:59:54.681Z"
   },
   {
    "duration": 164,
    "start_time": "2022-09-12T08:59:54.686Z"
   },
   {
    "duration": 256,
    "start_time": "2022-09-12T08:59:54.852Z"
   },
   {
    "duration": 156,
    "start_time": "2022-09-12T08:59:55.111Z"
   },
   {
    "duration": 169,
    "start_time": "2022-09-12T08:59:55.268Z"
   },
   {
    "duration": 155,
    "start_time": "2022-09-12T08:59:55.439Z"
   },
   {
    "duration": 173,
    "start_time": "2022-09-12T08:59:55.595Z"
   },
   {
    "duration": 175,
    "start_time": "2022-09-12T08:59:55.770Z"
   },
   {
    "duration": 3,
    "start_time": "2022-09-12T08:59:55.947Z"
   },
   {
    "duration": 24,
    "start_time": "2022-09-12T08:59:55.951Z"
   },
   {
    "duration": 39,
    "start_time": "2022-09-12T08:59:55.977Z"
   },
   {
    "duration": 25,
    "start_time": "2022-09-12T08:59:56.017Z"
   },
   {
    "duration": 26,
    "start_time": "2022-09-12T08:59:56.043Z"
   },
   {
    "duration": 544,
    "start_time": "2022-09-12T08:59:56.071Z"
   },
   {
    "duration": 537,
    "start_time": "2022-09-12T08:59:56.617Z"
   },
   {
    "duration": 16,
    "start_time": "2022-09-12T08:59:57.156Z"
   },
   {
    "duration": 15,
    "start_time": "2022-09-12T08:59:57.173Z"
   },
   {
    "duration": 5,
    "start_time": "2022-09-12T08:59:57.204Z"
   },
   {
    "duration": 5,
    "start_time": "2022-09-12T08:59:57.211Z"
   },
   {
    "duration": 7,
    "start_time": "2022-09-12T08:59:57.217Z"
   },
   {
    "duration": 7,
    "start_time": "2022-09-12T08:59:57.225Z"
   },
   {
    "duration": 18,
    "start_time": "2022-09-12T08:59:57.233Z"
   },
   {
    "duration": 16,
    "start_time": "2022-09-12T08:59:57.253Z"
   },
   {
    "duration": 36,
    "start_time": "2022-09-12T08:59:57.270Z"
   },
   {
    "duration": 6,
    "start_time": "2022-09-12T08:59:57.308Z"
   },
   {
    "duration": 7,
    "start_time": "2022-09-12T08:59:57.316Z"
   },
   {
    "duration": 14,
    "start_time": "2022-09-12T09:02:45.670Z"
   },
   {
    "duration": 17,
    "start_time": "2022-09-12T09:02:56.375Z"
   },
   {
    "duration": 335,
    "start_time": "2022-09-12T09:14:58.372Z"
   },
   {
    "duration": 322,
    "start_time": "2022-09-12T09:15:06.077Z"
   },
   {
    "duration": 117,
    "start_time": "2022-09-12T09:15:45.373Z"
   },
   {
    "duration": 14,
    "start_time": "2022-09-12T09:15:59.041Z"
   }
  ],
  "kernelspec": {
   "display_name": "Python 3 (ipykernel)",
   "language": "python",
   "name": "python3"
  },
  "language_info": {
   "codemirror_mode": {
    "name": "ipython",
    "version": 3
   },
   "file_extension": ".py",
   "mimetype": "text/x-python",
   "name": "python",
   "nbconvert_exporter": "python",
   "pygments_lexer": "ipython3",
   "version": "3.9.5"
  },
  "toc": {
   "base_numbering": 1,
   "nav_menu": {},
   "number_sections": true,
   "sideBar": true,
   "skip_h1_title": true,
   "title_cell": "Table of Contents",
   "title_sidebar": "Contents",
   "toc_cell": false,
   "toc_position": {},
   "toc_section_display": true,
   "toc_window_display": false
  }
 },
 "nbformat": 4,
 "nbformat_minor": 5
}
