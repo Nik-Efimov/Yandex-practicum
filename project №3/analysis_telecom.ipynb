{
 "cells": [
  {
   "cell_type": "markdown",
   "id": "d24829d4",
   "metadata": {},
   "source": [
    "# Проект статистического анализа"
   ]
  },
  {
   "cell_type": "markdown",
   "id": "00cdc331",
   "metadata": {},
   "source": [
    "## Цель проекта:"
   ]
  },
  {
   "cell_type": "markdown",
   "id": "c45889fd",
   "metadata": {},
   "source": [
    "    Выяснить какой тариф «Смарт» или «Ультра» приносит больше денег.\n",
    "    На основании результатов анализа коммерческий департамент «Мегалайна» сможет скорректировать рекламный бюджет"
   ]
  },
  {
   "cell_type": "markdown",
   "id": "1c8ed061",
   "metadata": {},
   "source": [
    "## Входные данные:"
   ]
  },
  {
   "cell_type": "markdown",
   "id": "54c2f0e1",
   "metadata": {},
   "source": [
    "    Данные 500 пользователей «Мегалайна» за 2018 год"
   ]
  },
  {
   "cell_type": "markdown",
   "id": "20ff9590",
   "metadata": {},
   "source": [
    "## План проекта:"
   ]
  },
  {
   "cell_type": "markdown",
   "id": "08d48712",
   "metadata": {},
   "source": [
    "### Этап 1. Получение данных"
   ]
  },
  {
   "cell_type": "markdown",
   "id": "4c8eea26",
   "metadata": {},
   "source": [
    "    - импортируем библиотеки\n",
    "    - откроем файлы с данными\n",
    "    - изучим общую информацию данных"
   ]
  },
  {
   "cell_type": "markdown",
   "id": "a3b484d9",
   "metadata": {},
   "source": [
    "### Этап 2. Подготовка данных"
   ]
  },
  {
   "cell_type": "markdown",
   "id": "b735ae10",
   "metadata": {},
   "source": [
    "    - найдем и исправим ошибки\n",
    "    - приведем данные к нужным типам"
   ]
  },
  {
   "cell_type": "markdown",
   "id": "647cfec8",
   "metadata": {},
   "source": [
    "    Посчитаем для каждого пользователя:\n",
    "    - количество сделанных звонков и израсходованных минут разговора по месяцам\n",
    "    - количество отправленных сообщений по месяцам\n",
    "    - объем израсходованного интернет-трафика по месяцам\n",
    "    - помесячную выручку с каждого пользователя (вычтим бесплатный лимит из суммарного количества звонков, \n",
    "      сообщений и  интернет-трафика; \n",
    "      остаток умножим на значение из тарифного плана; \n",
    "      прибавим абонентскую плату, соответствующую тарифному плану)"
   ]
  },
  {
   "cell_type": "markdown",
   "id": "899f7a46",
   "metadata": {},
   "source": [
    "### Этап 3. Анализ данных"
   ]
  },
  {
   "cell_type": "markdown",
   "id": "36026cf3",
   "metadata": {},
   "source": [
    "    Ответим на вопрос:\n",
    "    - Сколько минут, сколько сообщений и какой объём интернет-трафика требуется пользователям каждого тарифа в месяц?\n",
    "    Посчитаем среднее количество, дисперсию и стандартное отклонение\n",
    "    Построим гистограммы\n",
    "    Опишем распределения"
   ]
  },
  {
   "cell_type": "markdown",
   "id": "c666170e",
   "metadata": {},
   "source": [
    "### Этап 4. Проверка гипотез"
   ]
  },
  {
   "cell_type": "markdown",
   "id": "4ba9d003",
   "metadata": {},
   "source": [
    "    Гипотезы:\n",
    "    - средняя выручка пользователей тарифов «Ультра» и «Смарт» различаются\n",
    "    - средняя выручка пользователей из Москвы отличается от выручки пользователей из других регионов"
   ]
  },
  {
   "cell_type": "markdown",
   "id": "a4df2cd8",
   "metadata": {},
   "source": [
    "### Этап 5. Общие выводы"
   ]
  },
  {
   "cell_type": "markdown",
   "id": "37a1d487",
   "metadata": {},
   "source": [
    "## Описание данных"
   ]
  },
  {
   "cell_type": "markdown",
   "id": "05e6fda0",
   "metadata": {},
   "source": [
    "#### Таблица users (информация о пользователях):"
   ]
  },
  {
   "cell_type": "markdown",
   "id": "9bddc3d8",
   "metadata": {},
   "source": [
    "- user_id — уникальный идентификатор пользователя\n",
    "- first_name — имя пользователя\n",
    "- last_name — фамилия пользователя\n",
    "- age — возраст пользователя (годы)\n",
    "- reg_date — дата подключения тарифа (день, месяц, год)\n",
    "- churn_date — дата прекращения пользования тарифом (если значение пропущено, то тариф ещё действовал на момент выгрузки данных)\n",
    "- city — город проживания пользователя\n",
    "- tariff — название тарифного плана"
   ]
  },
  {
   "cell_type": "markdown",
   "id": "37dcf64c",
   "metadata": {},
   "source": [
    "#### Таблица calls (информация о звонках):"
   ]
  },
  {
   "cell_type": "markdown",
   "id": "5e1b4663",
   "metadata": {},
   "source": [
    "- id — уникальный номер звонка\n",
    "- call_date — дата звонка\n",
    "- duration — длительность звонка в минутах\n",
    "- user_id — идентификатор пользователя, сделавшего звонок"
   ]
  },
  {
   "cell_type": "markdown",
   "id": "660a2b1c",
   "metadata": {},
   "source": [
    "#### Таблица messages (информация о сообщениях):"
   ]
  },
  {
   "cell_type": "markdown",
   "id": "5ef19755",
   "metadata": {},
   "source": [
    "- id — уникальный номер сообщения\n",
    "- message_date — дата сообщения\n",
    "- user_id — идентификатор пользователя, отправившего сообщение"
   ]
  },
  {
   "cell_type": "markdown",
   "id": "c3809a2b",
   "metadata": {},
   "source": [
    "#### Таблица internet (информация об интернет-сессиях):"
   ]
  },
  {
   "cell_type": "markdown",
   "id": "a8d7cf15",
   "metadata": {},
   "source": [
    "- id — уникальный номер сессии\n",
    "- mb_used — объём потраченного за сессию интернет-трафика (в мегабайтах)\n",
    "- session_date — дата интернет-сессии\n",
    "- user_id — идентификатор пользователя"
   ]
  },
  {
   "cell_type": "markdown",
   "id": "64c32f92",
   "metadata": {},
   "source": [
    "#### Таблица tariffs (информация о тарифах):"
   ]
  },
  {
   "cell_type": "markdown",
   "id": "4335283b",
   "metadata": {},
   "source": [
    "- tariff_name — название тарифа\n",
    "- rub_monthly_fee — ежемесячная абонентская плата в рублях\n",
    "- minutes_included — количество минут разговора в месяц, включённых в абонентскую плату\n",
    "- messages_included — количество сообщений в месяц, включённых в абонентскую плату\n",
    "- mb_per_month_included — объём интернет-трафика, включённого в абонентскую плату (в мегабайтах)\n",
    "- rub_per_minute — стоимость минуты разговора сверх тарифного пакета (например, если в тарифе 100 минут разговора в месяц, то со 101 минуты будет взиматься плата)\n",
    "- rub_per_message — стоимость отправки сообщения сверх тарифного пакета\n",
    "- rub_per_gb — стоимость дополнительного гигабайта интернет-трафика сверх тарифного пакета (1 гигабайт = 1024 мегабайта)"
   ]
  },
  {
   "cell_type": "markdown",
   "id": "5f3a1154",
   "metadata": {},
   "source": [
    "## Описание тарифов"
   ]
  },
  {
   "cell_type": "markdown",
   "id": "ede51f65",
   "metadata": {},
   "source": [
    "### Тариф «Смарт»"
   ]
  },
  {
   "cell_type": "markdown",
   "id": "c463a412",
   "metadata": {},
   "source": [
    "- Ежемесячная плата: 550 рублей\n",
    "- Включено 500 минут разговора, 50 сообщений и 15 Гб интернет-трафика"
   ]
  },
  {
   "cell_type": "markdown",
   "id": "495b62cb",
   "metadata": {},
   "source": [
    "Стоимость услуг сверх тарифного пакета:\n",
    "- минута разговора: 3 рубля\n",
    "- сообщение: 3 рубля\n",
    "- 1 Гб интернет-трафика: 200 рублей"
   ]
  },
  {
   "cell_type": "markdown",
   "id": "02a0303e",
   "metadata": {},
   "source": [
    "### Тариф «Ультра»"
   ]
  },
  {
   "cell_type": "markdown",
   "id": "6c4e31c9",
   "metadata": {},
   "source": [
    "- Ежемесячная плата: 1950 рублей\n",
    "- Включено 3000 минут разговора, 1000 сообщений и 30 Гб интернет-трафика"
   ]
  },
  {
   "cell_type": "markdown",
   "id": "ae55cb58",
   "metadata": {},
   "source": [
    "Стоимость услуг сверх тарифного пакета:\n",
    "- минута разговора: 1 рубль\n",
    "- сообщение: 1 рубль\n",
    "- 1 Гб интернет-трафика: 150 рублей"
   ]
  },
  {
   "cell_type": "markdown",
   "id": "918cd1ba",
   "metadata": {},
   "source": [
    "## Этап 1. Получение данных"
   ]
  },
  {
   "cell_type": "code",
   "execution_count": 127,
   "id": "90b2f89d",
   "metadata": {},
   "outputs": [],
   "source": [
    "#импортируем библиотеки\n",
    "import pandas as pd\n",
    "import numpy as np\n",
    "import matplotlib.pyplot as plt\n",
    "\n",
    "from datetime import datetime\n",
    "from scipy import stats as st"
   ]
  },
  {
   "cell_type": "code",
   "execution_count": 128,
   "id": "5887323a",
   "metadata": {},
   "outputs": [],
   "source": [
    "#загрузим данные\n",
    "try: \n",
    "    users = pd.read_csv('/datasets/users.csv') #путь к файлу в общем хранилище\n",
    "except: \n",
    "    users = pd.read_csv('C:/Users/Admin/Downloads/users.csv') #путь к файлу на локальной машине"
   ]
  },
  {
   "cell_type": "code",
   "execution_count": 129,
   "id": "52b2f1fc",
   "metadata": {},
   "outputs": [],
   "source": [
    "try: \n",
    "    calls = pd.read_csv('/datasets/calls.csv')\n",
    "except: \n",
    "    calls = pd.read_csv('C:/Users/Admin/Downloads/calls.csv') "
   ]
  },
  {
   "cell_type": "code",
   "execution_count": 130,
   "id": "259b9dcb",
   "metadata": {},
   "outputs": [],
   "source": [
    "try: \n",
    "    messages = pd.read_csv('/datasets/messages.csv') \n",
    "except: \n",
    "    messages = pd.read_csv('C:/Users/Admin/Downloads/messages.csv')"
   ]
  },
  {
   "cell_type": "code",
   "execution_count": 132,
   "id": "7e3ddce6",
   "metadata": {},
   "outputs": [],
   "source": [
    "try: \n",
    "    internet = pd.read_csv('/datasets/internet.csv', index_col=0)\n",
    "except:\n",
    "    internet = pd.read_csv('C:/Users/Admin/Downloads/internet.csv', index_col=0)"
   ]
  },
  {
   "cell_type": "code",
   "execution_count": 133,
   "id": "c29f31aa",
   "metadata": {},
   "outputs": [],
   "source": [
    "try: \n",
    "    tariffs = pd.read_csv('/datasets/tariffs.csv')\n",
    "except:\n",
    "    tariffs = pd.read_csv('C:/Users/Admin/Downloads/tariffs.csv')"
   ]
  },
  {
   "cell_type": "code",
   "execution_count": 134,
   "id": "22ff95c0",
   "metadata": {
    "scrolled": false
   },
   "outputs": [
    {
     "name": "stdout",
     "output_type": "stream",
     "text": [
      "Первые пять строк фрейма данных\n",
      "   user_id  age churn_date         city first_name  last_name    reg_date  \\\n",
      "0     1000   52        NaN    Краснодар     Рафаил  Верещагин  2018-05-25   \n",
      "1     1001   41        NaN       Москва       Иван       Ежов  2018-11-01   \n",
      "2     1002   59        NaN  Стерлитамак    Евгений  Абрамович  2018-06-17   \n",
      "3     1003   23        NaN       Москва      Белла   Белякова  2018-08-17   \n",
      "4     1004   68        NaN  Новокузнецк    Татьяна   Авдеенко  2018-05-14   \n",
      "\n",
      "  tariff  \n",
      "0  ultra  \n",
      "1  smart  \n",
      "2  smart  \n",
      "3  ultra  \n",
      "4  ultra  \n",
      "Общая информация\n",
      "<class 'pandas.core.frame.DataFrame'>\n",
      "RangeIndex: 500 entries, 0 to 499\n",
      "Data columns (total 8 columns):\n",
      " #   Column      Non-Null Count  Dtype \n",
      "---  ------      --------------  ----- \n",
      " 0   user_id     500 non-null    int64 \n",
      " 1   age         500 non-null    int64 \n",
      " 2   churn_date  38 non-null     object\n",
      " 3   city        500 non-null    object\n",
      " 4   first_name  500 non-null    object\n",
      " 5   last_name   500 non-null    object\n",
      " 6   reg_date    500 non-null    object\n",
      " 7   tariff      500 non-null    object\n",
      "dtypes: int64(2), object(6)\n",
      "memory usage: 31.4+ KB\n",
      "None\n",
      "Дубликатов в таблице: 0\n",
      "Пропусков в таблице:\n",
      "user_id         0\n",
      "age             0\n",
      "churn_date    462\n",
      "city            0\n",
      "first_name      0\n",
      "last_name       0\n",
      "reg_date        0\n",
      "tariff          0\n",
      "dtype: int64\n",
      "====================================\n",
      "====================================\n",
      "Первые пять строк фрейма данных\n",
      "       id   call_date  duration  user_id\n",
      "0  1000_0  2018-07-25      0.00     1000\n",
      "1  1000_1  2018-08-17      0.00     1000\n",
      "2  1000_2  2018-06-11      2.85     1000\n",
      "3  1000_3  2018-09-21     13.80     1000\n",
      "4  1000_4  2018-12-15      5.18     1000\n",
      "Общая информация\n",
      "<class 'pandas.core.frame.DataFrame'>\n",
      "RangeIndex: 202607 entries, 0 to 202606\n",
      "Data columns (total 4 columns):\n",
      " #   Column     Non-Null Count   Dtype  \n",
      "---  ------     --------------   -----  \n",
      " 0   id         202607 non-null  object \n",
      " 1   call_date  202607 non-null  object \n",
      " 2   duration   202607 non-null  float64\n",
      " 3   user_id    202607 non-null  int64  \n",
      "dtypes: float64(1), int64(1), object(2)\n",
      "memory usage: 6.2+ MB\n",
      "None\n",
      "Дубликатов в таблице: 0\n",
      "Пропусков в таблице:\n",
      "id           0\n",
      "call_date    0\n",
      "duration     0\n",
      "user_id      0\n",
      "dtype: int64\n",
      "====================================\n",
      "====================================\n",
      "Первые пять строк фрейма данных\n",
      "       id message_date  user_id\n",
      "0  1000_0   2018-06-27     1000\n",
      "1  1000_1   2018-10-08     1000\n",
      "2  1000_2   2018-08-04     1000\n",
      "3  1000_3   2018-06-16     1000\n",
      "4  1000_4   2018-12-05     1000\n",
      "Общая информация\n",
      "<class 'pandas.core.frame.DataFrame'>\n",
      "RangeIndex: 123036 entries, 0 to 123035\n",
      "Data columns (total 3 columns):\n",
      " #   Column        Non-Null Count   Dtype \n",
      "---  ------        --------------   ----- \n",
      " 0   id            123036 non-null  object\n",
      " 1   message_date  123036 non-null  object\n",
      " 2   user_id       123036 non-null  int64 \n",
      "dtypes: int64(1), object(2)\n",
      "memory usage: 2.8+ MB\n",
      "None\n",
      "Дубликатов в таблице: 0\n",
      "Пропусков в таблице:\n",
      "id              0\n",
      "message_date    0\n",
      "user_id         0\n",
      "dtype: int64\n",
      "====================================\n",
      "====================================\n",
      "Первые пять строк фрейма данных\n",
      "       id  mb_used session_date  user_id\n",
      "0  1000_0   112.95   2018-11-25     1000\n",
      "1  1000_1  1052.81   2018-09-07     1000\n",
      "2  1000_2  1197.26   2018-06-25     1000\n",
      "3  1000_3   550.27   2018-08-22     1000\n",
      "4  1000_4   302.56   2018-09-24     1000\n",
      "Общая информация\n",
      "<class 'pandas.core.frame.DataFrame'>\n",
      "Int64Index: 149396 entries, 0 to 149395\n",
      "Data columns (total 4 columns):\n",
      " #   Column        Non-Null Count   Dtype  \n",
      "---  ------        --------------   -----  \n",
      " 0   id            149396 non-null  object \n",
      " 1   mb_used       149396 non-null  float64\n",
      " 2   session_date  149396 non-null  object \n",
      " 3   user_id       149396 non-null  int64  \n",
      "dtypes: float64(1), int64(1), object(2)\n",
      "memory usage: 5.7+ MB\n",
      "None\n",
      "Дубликатов в таблице: 0\n",
      "Пропусков в таблице:\n",
      "id              0\n",
      "mb_used         0\n",
      "session_date    0\n",
      "user_id         0\n",
      "dtype: int64\n",
      "====================================\n",
      "====================================\n",
      "Первые пять строк фрейма данных\n",
      "   messages_included  mb_per_month_included  minutes_included  \\\n",
      "0                 50                  15360               500   \n",
      "1               1000                  30720              3000   \n",
      "\n",
      "   rub_monthly_fee  rub_per_gb  rub_per_message  rub_per_minute tariff_name  \n",
      "0              550         200                3               3       smart  \n",
      "1             1950         150                1               1       ultra  \n",
      "Общая информация\n",
      "<class 'pandas.core.frame.DataFrame'>\n",
      "RangeIndex: 2 entries, 0 to 1\n",
      "Data columns (total 8 columns):\n",
      " #   Column                 Non-Null Count  Dtype \n",
      "---  ------                 --------------  ----- \n",
      " 0   messages_included      2 non-null      int64 \n",
      " 1   mb_per_month_included  2 non-null      int64 \n",
      " 2   minutes_included       2 non-null      int64 \n",
      " 3   rub_monthly_fee        2 non-null      int64 \n",
      " 4   rub_per_gb             2 non-null      int64 \n",
      " 5   rub_per_message        2 non-null      int64 \n",
      " 6   rub_per_minute         2 non-null      int64 \n",
      " 7   tariff_name            2 non-null      object\n",
      "dtypes: int64(7), object(1)\n",
      "memory usage: 256.0+ bytes\n",
      "None\n",
      "Дубликатов в таблице: 0\n",
      "Пропусков в таблице:\n",
      "messages_included        0\n",
      "mb_per_month_included    0\n",
      "minutes_included         0\n",
      "rub_monthly_fee          0\n",
      "rub_per_gb               0\n",
      "rub_per_message          0\n",
      "rub_per_minute           0\n",
      "tariff_name              0\n",
      "dtype: int64\n",
      "====================================\n",
      "====================================\n"
     ]
    }
   ],
   "source": [
    "df = [users, calls, messages, internet, tariffs]\n",
    "for row in df:\n",
    "    print('Первые пять строк фрейма данных')\n",
    "    print(row.head())\n",
    "    print('Общая информация')\n",
    "    print(row.info())\n",
    "    print('Дубликатов в таблице:', row.duplicated().sum())\n",
    "    print('Пропусков в таблице:')\n",
    "    print(row.isna().sum())\n",
    "    print('====================================')\n",
    "    print('====================================')"
   ]
  },
  {
   "cell_type": "markdown",
   "id": "1ebe2802",
   "metadata": {},
   "source": [
    "Проверим количество уникальных юзеров (пользователей). Во входных данных указано количество = 500."
   ]
  },
  {
   "cell_type": "code",
   "execution_count": 135,
   "id": "5b41cc64",
   "metadata": {},
   "outputs": [
    {
     "data": {
      "text/plain": [
       "user_id       500\n",
       "age            58\n",
       "churn_date     33\n",
       "city           76\n",
       "first_name    246\n",
       "last_name     419\n",
       "reg_date      270\n",
       "tariff          2\n",
       "dtype: int64"
      ]
     },
     "execution_count": 135,
     "metadata": {},
     "output_type": "execute_result"
    }
   ],
   "source": [
    "users.nunique()"
   ]
  },
  {
   "cell_type": "markdown",
   "id": "dee3192a",
   "metadata": {},
   "source": [
    "Заявленное количество пользователей подтвердилось"
   ]
  },
  {
   "cell_type": "markdown",
   "id": "04574aa1",
   "metadata": {},
   "source": [
    "#### Выводы после предварительного просмотра:"
   ]
  },
  {
   "cell_type": "markdown",
   "id": "d94bb511",
   "metadata": {},
   "source": [
    "- В датасете users в столбце 'churn_date' есть пропуски, но данные пропуски необходимы для анализы, они означают, что тариф ещё действовал на момент выгрузки данных\n",
    "- Во всех датасетах (кроме тарифов) поменяем тип данных в столбце с датой \n",
    "- В датасетах поменяем тип данных в столбце 'id'\n",
    "- В таблице 'звонки' округлить секунды до минут"
   ]
  },
  {
   "cell_type": "markdown",
   "id": "8563b73a",
   "metadata": {},
   "source": [
    "## Этап 2. Подготовка данных"
   ]
  },
  {
   "cell_type": "code",
   "execution_count": 136,
   "id": "63cf181e",
   "metadata": {},
   "outputs": [],
   "source": [
    "#поменяем тип данных в столбцах с датами в датасетах\n",
    "users['churn_date'] = pd.to_datetime(users['churn_date'], format=\"%Y-%m-%d\")\n",
    "users['reg_date'] = pd.to_datetime(users['reg_date'], format=\"%Y-%m-%d\")\n",
    "calls['call_date'] = pd.to_datetime(calls['call_date'], format=\"%Y-%m-%d\")\n",
    "messages['message_date'] = pd.to_datetime(messages['message_date'], format=\"%Y-%m-%d\")\n",
    "internet['session_date'] = pd.to_datetime(internet['session_date'], format=\"%Y-%m-%d\")\n",
    "#поменяем тип данных в столбцах 'id'\n",
    "calls['id'] = calls['id'].astype('int')\n",
    "messages['id'] = messages['id'].astype('int')\n",
    "internet['id'] = internet['id'].astype('int')"
   ]
  },
  {
   "cell_type": "code",
   "execution_count": 137,
   "id": "16a4613a",
   "metadata": {},
   "outputs": [
    {
     "name": "stdout",
     "output_type": "stream",
     "text": [
      "<class 'pandas.core.frame.DataFrame'>\n",
      "RangeIndex: 500 entries, 0 to 499\n",
      "Data columns (total 8 columns):\n",
      " #   Column      Non-Null Count  Dtype         \n",
      "---  ------      --------------  -----         \n",
      " 0   user_id     500 non-null    int64         \n",
      " 1   age         500 non-null    int64         \n",
      " 2   churn_date  38 non-null     datetime64[ns]\n",
      " 3   city        500 non-null    object        \n",
      " 4   first_name  500 non-null    object        \n",
      " 5   last_name   500 non-null    object        \n",
      " 6   reg_date    500 non-null    datetime64[ns]\n",
      " 7   tariff      500 non-null    object        \n",
      "dtypes: datetime64[ns](2), int64(2), object(4)\n",
      "memory usage: 31.4+ KB\n",
      "______________________________\n",
      "<class 'pandas.core.frame.DataFrame'>\n",
      "RangeIndex: 202607 entries, 0 to 202606\n",
      "Data columns (total 4 columns):\n",
      " #   Column     Non-Null Count   Dtype         \n",
      "---  ------     --------------   -----         \n",
      " 0   id         202607 non-null  int32         \n",
      " 1   call_date  202607 non-null  datetime64[ns]\n",
      " 2   duration   202607 non-null  float64       \n",
      " 3   user_id    202607 non-null  int64         \n",
      "dtypes: datetime64[ns](1), float64(1), int32(1), int64(1)\n",
      "memory usage: 5.4 MB\n",
      "______________________________\n",
      "<class 'pandas.core.frame.DataFrame'>\n",
      "RangeIndex: 123036 entries, 0 to 123035\n",
      "Data columns (total 3 columns):\n",
      " #   Column        Non-Null Count   Dtype         \n",
      "---  ------        --------------   -----         \n",
      " 0   id            123036 non-null  int32         \n",
      " 1   message_date  123036 non-null  datetime64[ns]\n",
      " 2   user_id       123036 non-null  int64         \n",
      "dtypes: datetime64[ns](1), int32(1), int64(1)\n",
      "memory usage: 2.3 MB\n",
      "______________________________\n",
      "<class 'pandas.core.frame.DataFrame'>\n",
      "Int64Index: 149396 entries, 0 to 149395\n",
      "Data columns (total 4 columns):\n",
      " #   Column        Non-Null Count   Dtype         \n",
      "---  ------        --------------   -----         \n",
      " 0   id            149396 non-null  int32         \n",
      " 1   mb_used       149396 non-null  float64       \n",
      " 2   session_date  149396 non-null  datetime64[ns]\n",
      " 3   user_id       149396 non-null  int64         \n",
      "dtypes: datetime64[ns](1), float64(1), int32(1), int64(1)\n",
      "memory usage: 5.1 MB\n"
     ]
    }
   ],
   "source": [
    "#проверим изменения типов данных\n",
    "users.info()\n",
    "print('______________________________')\n",
    "calls.info()\n",
    "print('______________________________')\n",
    "messages.info()\n",
    "print('______________________________')\n",
    "internet.info()"
   ]
  },
  {
   "cell_type": "code",
   "execution_count": 138,
   "id": "87694b8a",
   "metadata": {},
   "outputs": [
    {
     "data": {
      "text/html": [
       "<div>\n",
       "<style scoped>\n",
       "    .dataframe tbody tr th:only-of-type {\n",
       "        vertical-align: middle;\n",
       "    }\n",
       "\n",
       "    .dataframe tbody tr th {\n",
       "        vertical-align: top;\n",
       "    }\n",
       "\n",
       "    .dataframe thead th {\n",
       "        text-align: right;\n",
       "    }\n",
       "</style>\n",
       "<table border=\"1\" class=\"dataframe\">\n",
       "  <thead>\n",
       "    <tr style=\"text-align: right;\">\n",
       "      <th></th>\n",
       "      <th>id</th>\n",
       "      <th>call_date</th>\n",
       "      <th>duration</th>\n",
       "      <th>user_id</th>\n",
       "    </tr>\n",
       "  </thead>\n",
       "  <tbody>\n",
       "    <tr>\n",
       "      <th>0</th>\n",
       "      <td>10000</td>\n",
       "      <td>2018-07-25</td>\n",
       "      <td>0</td>\n",
       "      <td>1000</td>\n",
       "    </tr>\n",
       "    <tr>\n",
       "      <th>1</th>\n",
       "      <td>10001</td>\n",
       "      <td>2018-08-17</td>\n",
       "      <td>0</td>\n",
       "      <td>1000</td>\n",
       "    </tr>\n",
       "    <tr>\n",
       "      <th>2</th>\n",
       "      <td>10002</td>\n",
       "      <td>2018-06-11</td>\n",
       "      <td>3</td>\n",
       "      <td>1000</td>\n",
       "    </tr>\n",
       "    <tr>\n",
       "      <th>3</th>\n",
       "      <td>10003</td>\n",
       "      <td>2018-09-21</td>\n",
       "      <td>14</td>\n",
       "      <td>1000</td>\n",
       "    </tr>\n",
       "    <tr>\n",
       "      <th>4</th>\n",
       "      <td>10004</td>\n",
       "      <td>2018-12-15</td>\n",
       "      <td>6</td>\n",
       "      <td>1000</td>\n",
       "    </tr>\n",
       "  </tbody>\n",
       "</table>\n",
       "</div>"
      ],
      "text/plain": [
       "      id  call_date  duration  user_id\n",
       "0  10000 2018-07-25         0     1000\n",
       "1  10001 2018-08-17         0     1000\n",
       "2  10002 2018-06-11         3     1000\n",
       "3  10003 2018-09-21        14     1000\n",
       "4  10004 2018-12-15         6     1000"
      ]
     },
     "execution_count": 138,
     "metadata": {},
     "output_type": "execute_result"
    }
   ],
   "source": [
    "#округлим неполные минуты до целых значений \n",
    "calls['duration'] = np.ceil(calls['duration']).astype('int')\n",
    "calls.head()"
   ]
  },
  {
   "cell_type": "markdown",
   "id": "a272a2e0",
   "metadata": {},
   "source": [
    "### Посчитаем для каждого пользователя:"
   ]
  },
  {
   "cell_type": "markdown",
   "id": "4b750cdf",
   "metadata": {},
   "source": [
    "#### Количество сделанных звонков и израсходованных минут разговора по месяцам"
   ]
  },
  {
   "cell_type": "code",
   "execution_count": 139,
   "id": "493d9eaf",
   "metadata": {},
   "outputs": [
    {
     "data": {
      "text/html": [
       "<div>\n",
       "<style scoped>\n",
       "    .dataframe tbody tr th:only-of-type {\n",
       "        vertical-align: middle;\n",
       "    }\n",
       "\n",
       "    .dataframe tbody tr th {\n",
       "        vertical-align: top;\n",
       "    }\n",
       "\n",
       "    .dataframe thead th {\n",
       "        text-align: right;\n",
       "    }\n",
       "</style>\n",
       "<table border=\"1\" class=\"dataframe\">\n",
       "  <thead>\n",
       "    <tr style=\"text-align: right;\">\n",
       "      <th></th>\n",
       "      <th>id</th>\n",
       "      <th>call_date</th>\n",
       "      <th>duration</th>\n",
       "      <th>user_id</th>\n",
       "      <th>month</th>\n",
       "    </tr>\n",
       "  </thead>\n",
       "  <tbody>\n",
       "    <tr>\n",
       "      <th>0</th>\n",
       "      <td>10000</td>\n",
       "      <td>2018-07-25</td>\n",
       "      <td>0</td>\n",
       "      <td>1000</td>\n",
       "      <td>7</td>\n",
       "    </tr>\n",
       "    <tr>\n",
       "      <th>1</th>\n",
       "      <td>10001</td>\n",
       "      <td>2018-08-17</td>\n",
       "      <td>0</td>\n",
       "      <td>1000</td>\n",
       "      <td>8</td>\n",
       "    </tr>\n",
       "    <tr>\n",
       "      <th>2</th>\n",
       "      <td>10002</td>\n",
       "      <td>2018-06-11</td>\n",
       "      <td>3</td>\n",
       "      <td>1000</td>\n",
       "      <td>6</td>\n",
       "    </tr>\n",
       "    <tr>\n",
       "      <th>3</th>\n",
       "      <td>10003</td>\n",
       "      <td>2018-09-21</td>\n",
       "      <td>14</td>\n",
       "      <td>1000</td>\n",
       "      <td>9</td>\n",
       "    </tr>\n",
       "    <tr>\n",
       "      <th>4</th>\n",
       "      <td>10004</td>\n",
       "      <td>2018-12-15</td>\n",
       "      <td>6</td>\n",
       "      <td>1000</td>\n",
       "      <td>12</td>\n",
       "    </tr>\n",
       "  </tbody>\n",
       "</table>\n",
       "</div>"
      ],
      "text/plain": [
       "      id  call_date  duration  user_id  month\n",
       "0  10000 2018-07-25         0     1000      7\n",
       "1  10001 2018-08-17         0     1000      8\n",
       "2  10002 2018-06-11         3     1000      6\n",
       "3  10003 2018-09-21        14     1000      9\n",
       "4  10004 2018-12-15         6     1000     12"
      ]
     },
     "execution_count": 139,
     "metadata": {},
     "output_type": "execute_result"
    }
   ],
   "source": [
    "#добавим столбец с месяцами в данные о звонках\n",
    "calls['month'] = calls['call_date'].dt.month\n",
    "calls.head()"
   ]
  },
  {
   "cell_type": "code",
   "execution_count": 140,
   "id": "eb6f3ac5",
   "metadata": {},
   "outputs": [
    {
     "data": {
      "text/html": [
       "<div>\n",
       "<style scoped>\n",
       "    .dataframe tbody tr th:only-of-type {\n",
       "        vertical-align: middle;\n",
       "    }\n",
       "\n",
       "    .dataframe tbody tr th {\n",
       "        vertical-align: top;\n",
       "    }\n",
       "\n",
       "    .dataframe thead th {\n",
       "        text-align: right;\n",
       "    }\n",
       "</style>\n",
       "<table border=\"1\" class=\"dataframe\">\n",
       "  <thead>\n",
       "    <tr style=\"text-align: right;\">\n",
       "      <th></th>\n",
       "      <th>user_id</th>\n",
       "      <th>month</th>\n",
       "      <th>sum</th>\n",
       "      <th>count</th>\n",
       "    </tr>\n",
       "  </thead>\n",
       "  <tbody>\n",
       "    <tr>\n",
       "      <th>0</th>\n",
       "      <td>1000</td>\n",
       "      <td>5</td>\n",
       "      <td>159</td>\n",
       "      <td>22</td>\n",
       "    </tr>\n",
       "    <tr>\n",
       "      <th>1</th>\n",
       "      <td>1000</td>\n",
       "      <td>6</td>\n",
       "      <td>172</td>\n",
       "      <td>43</td>\n",
       "    </tr>\n",
       "    <tr>\n",
       "      <th>2</th>\n",
       "      <td>1000</td>\n",
       "      <td>7</td>\n",
       "      <td>340</td>\n",
       "      <td>47</td>\n",
       "    </tr>\n",
       "    <tr>\n",
       "      <th>3</th>\n",
       "      <td>1000</td>\n",
       "      <td>8</td>\n",
       "      <td>408</td>\n",
       "      <td>52</td>\n",
       "    </tr>\n",
       "    <tr>\n",
       "      <th>4</th>\n",
       "      <td>1000</td>\n",
       "      <td>9</td>\n",
       "      <td>466</td>\n",
       "      <td>58</td>\n",
       "    </tr>\n",
       "  </tbody>\n",
       "</table>\n",
       "</div>"
      ],
      "text/plain": [
       "   user_id  month  sum  count\n",
       "0     1000      5  159     22\n",
       "1     1000      6  172     43\n",
       "2     1000      7  340     47\n",
       "3     1000      8  408     52\n",
       "4     1000      9  466     58"
      ]
     },
     "execution_count": 140,
     "metadata": {},
     "output_type": "execute_result"
    }
   ],
   "source": [
    "#создадим переменную, а в ней сохраним группировку по месяцам количества и сумм звонков\n",
    "calls_quantity = calls.groupby(['user_id', 'month'])\\\n",
    "                  .agg({'duration':'sum', 'id':'count'})\\\n",
    "                  .reset_index()\\\n",
    "                  .rename(columns={'duration':'sum','id':'count'})\n",
    "calls_quantity.head()"
   ]
  },
  {
   "cell_type": "markdown",
   "id": "0770e030",
   "metadata": {},
   "source": [
    "#### Количество отправленных сообщений по месяцам"
   ]
  },
  {
   "cell_type": "code",
   "execution_count": 141,
   "id": "b64ad2f1",
   "metadata": {},
   "outputs": [
    {
     "data": {
      "text/html": [
       "<div>\n",
       "<style scoped>\n",
       "    .dataframe tbody tr th:only-of-type {\n",
       "        vertical-align: middle;\n",
       "    }\n",
       "\n",
       "    .dataframe tbody tr th {\n",
       "        vertical-align: top;\n",
       "    }\n",
       "\n",
       "    .dataframe thead th {\n",
       "        text-align: right;\n",
       "    }\n",
       "</style>\n",
       "<table border=\"1\" class=\"dataframe\">\n",
       "  <thead>\n",
       "    <tr style=\"text-align: right;\">\n",
       "      <th></th>\n",
       "      <th>id</th>\n",
       "      <th>message_date</th>\n",
       "      <th>user_id</th>\n",
       "      <th>month</th>\n",
       "    </tr>\n",
       "  </thead>\n",
       "  <tbody>\n",
       "    <tr>\n",
       "      <th>0</th>\n",
       "      <td>10000</td>\n",
       "      <td>2018-06-27</td>\n",
       "      <td>1000</td>\n",
       "      <td>6</td>\n",
       "    </tr>\n",
       "    <tr>\n",
       "      <th>1</th>\n",
       "      <td>10001</td>\n",
       "      <td>2018-10-08</td>\n",
       "      <td>1000</td>\n",
       "      <td>10</td>\n",
       "    </tr>\n",
       "    <tr>\n",
       "      <th>2</th>\n",
       "      <td>10002</td>\n",
       "      <td>2018-08-04</td>\n",
       "      <td>1000</td>\n",
       "      <td>8</td>\n",
       "    </tr>\n",
       "    <tr>\n",
       "      <th>3</th>\n",
       "      <td>10003</td>\n",
       "      <td>2018-06-16</td>\n",
       "      <td>1000</td>\n",
       "      <td>6</td>\n",
       "    </tr>\n",
       "    <tr>\n",
       "      <th>4</th>\n",
       "      <td>10004</td>\n",
       "      <td>2018-12-05</td>\n",
       "      <td>1000</td>\n",
       "      <td>12</td>\n",
       "    </tr>\n",
       "  </tbody>\n",
       "</table>\n",
       "</div>"
      ],
      "text/plain": [
       "      id message_date  user_id  month\n",
       "0  10000   2018-06-27     1000      6\n",
       "1  10001   2018-10-08     1000     10\n",
       "2  10002   2018-08-04     1000      8\n",
       "3  10003   2018-06-16     1000      6\n",
       "4  10004   2018-12-05     1000     12"
      ]
     },
     "execution_count": 141,
     "metadata": {},
     "output_type": "execute_result"
    }
   ],
   "source": [
    "#добавим столбец с месяцами в данные о сообщениях\n",
    "messages['month'] = messages['message_date'].dt.month\n",
    "messages.head()"
   ]
  },
  {
   "cell_type": "code",
   "execution_count": 142,
   "id": "a8061792",
   "metadata": {},
   "outputs": [
    {
     "data": {
      "text/html": [
       "<div>\n",
       "<style scoped>\n",
       "    .dataframe tbody tr th:only-of-type {\n",
       "        vertical-align: middle;\n",
       "    }\n",
       "\n",
       "    .dataframe tbody tr th {\n",
       "        vertical-align: top;\n",
       "    }\n",
       "\n",
       "    .dataframe thead th {\n",
       "        text-align: right;\n",
       "    }\n",
       "</style>\n",
       "<table border=\"1\" class=\"dataframe\">\n",
       "  <thead>\n",
       "    <tr style=\"text-align: right;\">\n",
       "      <th></th>\n",
       "      <th>user_id</th>\n",
       "      <th>month</th>\n",
       "      <th>count</th>\n",
       "    </tr>\n",
       "  </thead>\n",
       "  <tbody>\n",
       "    <tr>\n",
       "      <th>0</th>\n",
       "      <td>1000</td>\n",
       "      <td>5</td>\n",
       "      <td>22</td>\n",
       "    </tr>\n",
       "    <tr>\n",
       "      <th>1</th>\n",
       "      <td>1000</td>\n",
       "      <td>6</td>\n",
       "      <td>60</td>\n",
       "    </tr>\n",
       "    <tr>\n",
       "      <th>2</th>\n",
       "      <td>1000</td>\n",
       "      <td>7</td>\n",
       "      <td>75</td>\n",
       "    </tr>\n",
       "    <tr>\n",
       "      <th>3</th>\n",
       "      <td>1000</td>\n",
       "      <td>8</td>\n",
       "      <td>81</td>\n",
       "    </tr>\n",
       "    <tr>\n",
       "      <th>4</th>\n",
       "      <td>1000</td>\n",
       "      <td>9</td>\n",
       "      <td>57</td>\n",
       "    </tr>\n",
       "  </tbody>\n",
       "</table>\n",
       "</div>"
      ],
      "text/plain": [
       "   user_id  month  count\n",
       "0     1000      5     22\n",
       "1     1000      6     60\n",
       "2     1000      7     75\n",
       "3     1000      8     81\n",
       "4     1000      9     57"
      ]
     },
     "execution_count": 142,
     "metadata": {},
     "output_type": "execute_result"
    }
   ],
   "source": [
    "#создадим переменную, сохраним в ней группировку по месяцам количество сообщений\n",
    "messages_quantity = messages.groupby(['user_id', 'month'])\\\n",
    "                  .agg({'id':'count'})\\\n",
    "                  .reset_index()\\\n",
    "                  .rename(columns={'id':'count'})\n",
    "messages_quantity.head()"
   ]
  },
  {
   "cell_type": "markdown",
   "id": "b7789270",
   "metadata": {},
   "source": [
    "#### Объем израсходованного интернет-трафика по месяцам"
   ]
  },
  {
   "cell_type": "code",
   "execution_count": 143,
   "id": "62bf8a31",
   "metadata": {},
   "outputs": [
    {
     "data": {
      "text/html": [
       "<div>\n",
       "<style scoped>\n",
       "    .dataframe tbody tr th:only-of-type {\n",
       "        vertical-align: middle;\n",
       "    }\n",
       "\n",
       "    .dataframe tbody tr th {\n",
       "        vertical-align: top;\n",
       "    }\n",
       "\n",
       "    .dataframe thead th {\n",
       "        text-align: right;\n",
       "    }\n",
       "</style>\n",
       "<table border=\"1\" class=\"dataframe\">\n",
       "  <thead>\n",
       "    <tr style=\"text-align: right;\">\n",
       "      <th></th>\n",
       "      <th>id</th>\n",
       "      <th>mb_used</th>\n",
       "      <th>session_date</th>\n",
       "      <th>user_id</th>\n",
       "      <th>month</th>\n",
       "    </tr>\n",
       "  </thead>\n",
       "  <tbody>\n",
       "    <tr>\n",
       "      <th>0</th>\n",
       "      <td>10000</td>\n",
       "      <td>112.95</td>\n",
       "      <td>2018-11-25</td>\n",
       "      <td>1000</td>\n",
       "      <td>11</td>\n",
       "    </tr>\n",
       "    <tr>\n",
       "      <th>1</th>\n",
       "      <td>10001</td>\n",
       "      <td>1052.81</td>\n",
       "      <td>2018-09-07</td>\n",
       "      <td>1000</td>\n",
       "      <td>9</td>\n",
       "    </tr>\n",
       "    <tr>\n",
       "      <th>2</th>\n",
       "      <td>10002</td>\n",
       "      <td>1197.26</td>\n",
       "      <td>2018-06-25</td>\n",
       "      <td>1000</td>\n",
       "      <td>6</td>\n",
       "    </tr>\n",
       "    <tr>\n",
       "      <th>3</th>\n",
       "      <td>10003</td>\n",
       "      <td>550.27</td>\n",
       "      <td>2018-08-22</td>\n",
       "      <td>1000</td>\n",
       "      <td>8</td>\n",
       "    </tr>\n",
       "    <tr>\n",
       "      <th>4</th>\n",
       "      <td>10004</td>\n",
       "      <td>302.56</td>\n",
       "      <td>2018-09-24</td>\n",
       "      <td>1000</td>\n",
       "      <td>9</td>\n",
       "    </tr>\n",
       "  </tbody>\n",
       "</table>\n",
       "</div>"
      ],
      "text/plain": [
       "      id  mb_used session_date  user_id  month\n",
       "0  10000   112.95   2018-11-25     1000     11\n",
       "1  10001  1052.81   2018-09-07     1000      9\n",
       "2  10002  1197.26   2018-06-25     1000      6\n",
       "3  10003   550.27   2018-08-22     1000      8\n",
       "4  10004   302.56   2018-09-24     1000      9"
      ]
     },
     "execution_count": 143,
     "metadata": {},
     "output_type": "execute_result"
    }
   ],
   "source": [
    "internet['month'] = internet['session_date'].dt.month\n",
    "internet.head()"
   ]
  },
  {
   "cell_type": "code",
   "execution_count": 144,
   "id": "2a525bbe",
   "metadata": {},
   "outputs": [
    {
     "data": {
      "text/html": [
       "<div>\n",
       "<style scoped>\n",
       "    .dataframe tbody tr th:only-of-type {\n",
       "        vertical-align: middle;\n",
       "    }\n",
       "\n",
       "    .dataframe tbody tr th {\n",
       "        vertical-align: top;\n",
       "    }\n",
       "\n",
       "    .dataframe thead th {\n",
       "        text-align: right;\n",
       "    }\n",
       "</style>\n",
       "<table border=\"1\" class=\"dataframe\">\n",
       "  <thead>\n",
       "    <tr style=\"text-align: right;\">\n",
       "      <th></th>\n",
       "      <th>user_id</th>\n",
       "      <th>month</th>\n",
       "      <th>sum</th>\n",
       "    </tr>\n",
       "  </thead>\n",
       "  <tbody>\n",
       "    <tr>\n",
       "      <th>0</th>\n",
       "      <td>1000</td>\n",
       "      <td>5</td>\n",
       "      <td>3</td>\n",
       "    </tr>\n",
       "    <tr>\n",
       "      <th>1</th>\n",
       "      <td>1000</td>\n",
       "      <td>6</td>\n",
       "      <td>23</td>\n",
       "    </tr>\n",
       "    <tr>\n",
       "      <th>2</th>\n",
       "      <td>1000</td>\n",
       "      <td>7</td>\n",
       "      <td>14</td>\n",
       "    </tr>\n",
       "    <tr>\n",
       "      <th>3</th>\n",
       "      <td>1000</td>\n",
       "      <td>8</td>\n",
       "      <td>14</td>\n",
       "    </tr>\n",
       "    <tr>\n",
       "      <th>4</th>\n",
       "      <td>1000</td>\n",
       "      <td>9</td>\n",
       "      <td>15</td>\n",
       "    </tr>\n",
       "  </tbody>\n",
       "</table>\n",
       "</div>"
      ],
      "text/plain": [
       "   user_id  month  sum\n",
       "0     1000      5    3\n",
       "1     1000      6   23\n",
       "2     1000      7   14\n",
       "3     1000      8   14\n",
       "4     1000      9   15"
      ]
     },
     "execution_count": 144,
     "metadata": {},
     "output_type": "execute_result"
    }
   ],
   "source": [
    "#создадим переменную, сохраним в ней группировку по месяцам интернет-трафик\n",
    "internet_quantity = internet.groupby(['user_id', 'month'])\\\n",
    "                  .agg({'mb_used':'sum'})\\\n",
    "                  .reset_index()\\\n",
    "                  .rename(columns={'mb_used':'sum'})\n",
    "internet_quantity['sum'] = internet_quantity['sum']/1024   #переведем мегабайты в гигабайты\n",
    "internet_quantity['sum'] = internet_quantity['sum'].apply(np.ceil).astype('int') #округлим до ближайшего числа в большую сторону\n",
    "internet_quantity.head()"
   ]
  },
  {
   "cell_type": "code",
   "execution_count": 145,
   "id": "02540309",
   "metadata": {},
   "outputs": [
    {
     "data": {
      "text/html": [
       "<div>\n",
       "<style scoped>\n",
       "    .dataframe tbody tr th:only-of-type {\n",
       "        vertical-align: middle;\n",
       "    }\n",
       "\n",
       "    .dataframe tbody tr th {\n",
       "        vertical-align: top;\n",
       "    }\n",
       "\n",
       "    .dataframe thead th {\n",
       "        text-align: right;\n",
       "    }\n",
       "</style>\n",
       "<table border=\"1\" class=\"dataframe\">\n",
       "  <thead>\n",
       "    <tr style=\"text-align: right;\">\n",
       "      <th></th>\n",
       "      <th>messages_included</th>\n",
       "      <th>mb_per_month_included</th>\n",
       "      <th>minutes_included</th>\n",
       "      <th>rub_monthly_fee</th>\n",
       "      <th>rub_per_gb</th>\n",
       "      <th>rub_per_message</th>\n",
       "      <th>rub_per_minute</th>\n",
       "      <th>tariff</th>\n",
       "    </tr>\n",
       "  </thead>\n",
       "  <tbody>\n",
       "    <tr>\n",
       "      <th>0</th>\n",
       "      <td>50</td>\n",
       "      <td>15.0</td>\n",
       "      <td>500</td>\n",
       "      <td>550</td>\n",
       "      <td>200</td>\n",
       "      <td>3</td>\n",
       "      <td>3</td>\n",
       "      <td>smart</td>\n",
       "    </tr>\n",
       "    <tr>\n",
       "      <th>1</th>\n",
       "      <td>1000</td>\n",
       "      <td>30.0</td>\n",
       "      <td>3000</td>\n",
       "      <td>1950</td>\n",
       "      <td>150</td>\n",
       "      <td>1</td>\n",
       "      <td>1</td>\n",
       "      <td>ultra</td>\n",
       "    </tr>\n",
       "  </tbody>\n",
       "</table>\n",
       "</div>"
      ],
      "text/plain": [
       "   messages_included  mb_per_month_included  minutes_included  \\\n",
       "0                 50                   15.0               500   \n",
       "1               1000                   30.0              3000   \n",
       "\n",
       "   rub_monthly_fee  rub_per_gb  rub_per_message  rub_per_minute tariff  \n",
       "0              550         200                3               3  smart  \n",
       "1             1950         150                1               1  ultra  "
      ]
     },
     "execution_count": 145,
     "metadata": {},
     "output_type": "execute_result"
    }
   ],
   "source": [
    "#в таблице тарифов переведем мегабайты в гигабайты\n",
    "#м переименуем столбец 'tariff_name' в 'tariff' для дальнейшего присоединения данных\n",
    "tariffs['mb_per_month_included'] = tariffs['mb_per_month_included']/1024\n",
    "tariffs = tariffs.rename(columns={'tariff_name': 'tariff'})\n",
    "tariffs.head()"
   ]
  },
  {
   "cell_type": "markdown",
   "id": "39ee761c",
   "metadata": {},
   "source": [
    "#### Присоединим наши таблицы, группированные по месяцам в одну"
   ]
  },
  {
   "cell_type": "code",
   "execution_count": 146,
   "id": "5bcad179",
   "metadata": {},
   "outputs": [
    {
     "data": {
      "text/html": [
       "<div>\n",
       "<style scoped>\n",
       "    .dataframe tbody tr th:only-of-type {\n",
       "        vertical-align: middle;\n",
       "    }\n",
       "\n",
       "    .dataframe tbody tr th {\n",
       "        vertical-align: top;\n",
       "    }\n",
       "\n",
       "    .dataframe thead th {\n",
       "        text-align: right;\n",
       "    }\n",
       "</style>\n",
       "<table border=\"1\" class=\"dataframe\">\n",
       "  <thead>\n",
       "    <tr style=\"text-align: right;\">\n",
       "      <th></th>\n",
       "      <th>user_id</th>\n",
       "      <th>month</th>\n",
       "      <th>calls_sum</th>\n",
       "      <th>calls_count</th>\n",
       "      <th>messages_count</th>\n",
       "    </tr>\n",
       "  </thead>\n",
       "  <tbody>\n",
       "    <tr>\n",
       "      <th>0</th>\n",
       "      <td>1000</td>\n",
       "      <td>5</td>\n",
       "      <td>159.0</td>\n",
       "      <td>22.0</td>\n",
       "      <td>22.0</td>\n",
       "    </tr>\n",
       "    <tr>\n",
       "      <th>1</th>\n",
       "      <td>1000</td>\n",
       "      <td>6</td>\n",
       "      <td>172.0</td>\n",
       "      <td>43.0</td>\n",
       "      <td>60.0</td>\n",
       "    </tr>\n",
       "    <tr>\n",
       "      <th>2</th>\n",
       "      <td>1000</td>\n",
       "      <td>7</td>\n",
       "      <td>340.0</td>\n",
       "      <td>47.0</td>\n",
       "      <td>75.0</td>\n",
       "    </tr>\n",
       "    <tr>\n",
       "      <th>3</th>\n",
       "      <td>1000</td>\n",
       "      <td>8</td>\n",
       "      <td>408.0</td>\n",
       "      <td>52.0</td>\n",
       "      <td>81.0</td>\n",
       "    </tr>\n",
       "    <tr>\n",
       "      <th>4</th>\n",
       "      <td>1000</td>\n",
       "      <td>9</td>\n",
       "      <td>466.0</td>\n",
       "      <td>58.0</td>\n",
       "      <td>57.0</td>\n",
       "    </tr>\n",
       "  </tbody>\n",
       "</table>\n",
       "</div>"
      ],
      "text/plain": [
       "   user_id  month  calls_sum  calls_count  messages_count\n",
       "0     1000      5      159.0         22.0            22.0\n",
       "1     1000      6      172.0         43.0            60.0\n",
       "2     1000      7      340.0         47.0            75.0\n",
       "3     1000      8      408.0         52.0            81.0\n",
       "4     1000      9      466.0         58.0            57.0"
      ]
     },
     "execution_count": 146,
     "metadata": {},
     "output_type": "execute_result"
    }
   ],
   "source": [
    "#сначала присоединим сообщения к звонкам \n",
    "data = calls_quantity\\\n",
    "       .merge(messages_quantity, on=['user_id','month'], how='outer')\\\n",
    "       .rename(columns={'sum':'calls_sum','count_x':'calls_count','count_y':'messages_count'})\n",
    "data.head()"
   ]
  },
  {
   "cell_type": "code",
   "execution_count": 147,
   "id": "20ad7d36",
   "metadata": {},
   "outputs": [
    {
     "data": {
      "text/html": [
       "<div>\n",
       "<style scoped>\n",
       "    .dataframe tbody tr th:only-of-type {\n",
       "        vertical-align: middle;\n",
       "    }\n",
       "\n",
       "    .dataframe tbody tr th {\n",
       "        vertical-align: top;\n",
       "    }\n",
       "\n",
       "    .dataframe thead th {\n",
       "        text-align: right;\n",
       "    }\n",
       "</style>\n",
       "<table border=\"1\" class=\"dataframe\">\n",
       "  <thead>\n",
       "    <tr style=\"text-align: right;\">\n",
       "      <th></th>\n",
       "      <th>user_id</th>\n",
       "      <th>month</th>\n",
       "      <th>calls_sum</th>\n",
       "      <th>calls_count</th>\n",
       "      <th>messages_count</th>\n",
       "      <th>internet_sum</th>\n",
       "    </tr>\n",
       "  </thead>\n",
       "  <tbody>\n",
       "    <tr>\n",
       "      <th>0</th>\n",
       "      <td>1000</td>\n",
       "      <td>5</td>\n",
       "      <td>159.0</td>\n",
       "      <td>22.0</td>\n",
       "      <td>22.0</td>\n",
       "      <td>3.0</td>\n",
       "    </tr>\n",
       "    <tr>\n",
       "      <th>1</th>\n",
       "      <td>1000</td>\n",
       "      <td>6</td>\n",
       "      <td>172.0</td>\n",
       "      <td>43.0</td>\n",
       "      <td>60.0</td>\n",
       "      <td>23.0</td>\n",
       "    </tr>\n",
       "    <tr>\n",
       "      <th>2</th>\n",
       "      <td>1000</td>\n",
       "      <td>7</td>\n",
       "      <td>340.0</td>\n",
       "      <td>47.0</td>\n",
       "      <td>75.0</td>\n",
       "      <td>14.0</td>\n",
       "    </tr>\n",
       "    <tr>\n",
       "      <th>3</th>\n",
       "      <td>1000</td>\n",
       "      <td>8</td>\n",
       "      <td>408.0</td>\n",
       "      <td>52.0</td>\n",
       "      <td>81.0</td>\n",
       "      <td>14.0</td>\n",
       "    </tr>\n",
       "    <tr>\n",
       "      <th>4</th>\n",
       "      <td>1000</td>\n",
       "      <td>9</td>\n",
       "      <td>466.0</td>\n",
       "      <td>58.0</td>\n",
       "      <td>57.0</td>\n",
       "      <td>15.0</td>\n",
       "    </tr>\n",
       "  </tbody>\n",
       "</table>\n",
       "</div>"
      ],
      "text/plain": [
       "   user_id  month  calls_sum  calls_count  messages_count  internet_sum\n",
       "0     1000      5      159.0         22.0            22.0           3.0\n",
       "1     1000      6      172.0         43.0            60.0          23.0\n",
       "2     1000      7      340.0         47.0            75.0          14.0\n",
       "3     1000      8      408.0         52.0            81.0          14.0\n",
       "4     1000      9      466.0         58.0            57.0          15.0"
      ]
     },
     "execution_count": 147,
     "metadata": {},
     "output_type": "execute_result"
    }
   ],
   "source": [
    "#и добавим столбец с интернетом\n",
    "data = data\\\n",
    "       .merge(internet_quantity, on=['user_id','month'], how='outer')\\\n",
    "       .rename(columns={'sum':'internet_sum'})\n",
    "data.head()"
   ]
  },
  {
   "cell_type": "markdown",
   "id": "97391cf5",
   "metadata": {},
   "source": [
    "Добавим к общей таблице датасет с данными пользователей"
   ]
  },
  {
   "cell_type": "code",
   "execution_count": 148,
   "id": "cb269662",
   "metadata": {},
   "outputs": [
    {
     "data": {
      "text/html": [
       "<div>\n",
       "<style scoped>\n",
       "    .dataframe tbody tr th:only-of-type {\n",
       "        vertical-align: middle;\n",
       "    }\n",
       "\n",
       "    .dataframe tbody tr th {\n",
       "        vertical-align: top;\n",
       "    }\n",
       "\n",
       "    .dataframe thead th {\n",
       "        text-align: right;\n",
       "    }\n",
       "</style>\n",
       "<table border=\"1\" class=\"dataframe\">\n",
       "  <thead>\n",
       "    <tr style=\"text-align: right;\">\n",
       "      <th></th>\n",
       "      <th>user_id</th>\n",
       "      <th>month</th>\n",
       "      <th>calls_sum</th>\n",
       "      <th>calls_count</th>\n",
       "      <th>messages_count</th>\n",
       "      <th>internet_sum</th>\n",
       "      <th>city</th>\n",
       "      <th>tariff</th>\n",
       "      <th>churn_date</th>\n",
       "    </tr>\n",
       "  </thead>\n",
       "  <tbody>\n",
       "    <tr>\n",
       "      <th>0</th>\n",
       "      <td>1000</td>\n",
       "      <td>5.0</td>\n",
       "      <td>159.0</td>\n",
       "      <td>22.0</td>\n",
       "      <td>22.0</td>\n",
       "      <td>3.0</td>\n",
       "      <td>Краснодар</td>\n",
       "      <td>ultra</td>\n",
       "      <td>NaT</td>\n",
       "    </tr>\n",
       "    <tr>\n",
       "      <th>1</th>\n",
       "      <td>1000</td>\n",
       "      <td>6.0</td>\n",
       "      <td>172.0</td>\n",
       "      <td>43.0</td>\n",
       "      <td>60.0</td>\n",
       "      <td>23.0</td>\n",
       "      <td>Краснодар</td>\n",
       "      <td>ultra</td>\n",
       "      <td>NaT</td>\n",
       "    </tr>\n",
       "    <tr>\n",
       "      <th>2</th>\n",
       "      <td>1000</td>\n",
       "      <td>7.0</td>\n",
       "      <td>340.0</td>\n",
       "      <td>47.0</td>\n",
       "      <td>75.0</td>\n",
       "      <td>14.0</td>\n",
       "      <td>Краснодар</td>\n",
       "      <td>ultra</td>\n",
       "      <td>NaT</td>\n",
       "    </tr>\n",
       "    <tr>\n",
       "      <th>3</th>\n",
       "      <td>1000</td>\n",
       "      <td>8.0</td>\n",
       "      <td>408.0</td>\n",
       "      <td>52.0</td>\n",
       "      <td>81.0</td>\n",
       "      <td>14.0</td>\n",
       "      <td>Краснодар</td>\n",
       "      <td>ultra</td>\n",
       "      <td>NaT</td>\n",
       "    </tr>\n",
       "    <tr>\n",
       "      <th>4</th>\n",
       "      <td>1000</td>\n",
       "      <td>9.0</td>\n",
       "      <td>466.0</td>\n",
       "      <td>58.0</td>\n",
       "      <td>57.0</td>\n",
       "      <td>15.0</td>\n",
       "      <td>Краснодар</td>\n",
       "      <td>ultra</td>\n",
       "      <td>NaT</td>\n",
       "    </tr>\n",
       "  </tbody>\n",
       "</table>\n",
       "</div>"
      ],
      "text/plain": [
       "   user_id  month  calls_sum  calls_count  messages_count  internet_sum  \\\n",
       "0     1000    5.0      159.0         22.0            22.0           3.0   \n",
       "1     1000    6.0      172.0         43.0            60.0          23.0   \n",
       "2     1000    7.0      340.0         47.0            75.0          14.0   \n",
       "3     1000    8.0      408.0         52.0            81.0          14.0   \n",
       "4     1000    9.0      466.0         58.0            57.0          15.0   \n",
       "\n",
       "        city tariff churn_date  \n",
       "0  Краснодар  ultra        NaT  \n",
       "1  Краснодар  ultra        NaT  \n",
       "2  Краснодар  ultra        NaT  \n",
       "3  Краснодар  ultra        NaT  \n",
       "4  Краснодар  ultra        NaT  "
      ]
     },
     "execution_count": 148,
     "metadata": {},
     "output_type": "execute_result"
    }
   ],
   "source": [
    "data = data\\\n",
    "       .merge(users[['user_id', 'city', 'tariff', 'churn_date']] , on=['user_id'], how='outer')\n",
    "data.head()"
   ]
  },
  {
   "cell_type": "markdown",
   "id": "ccee7c5c",
   "metadata": {},
   "source": [
    "Также добавим к общим данным таблицу с тарифами"
   ]
  },
  {
   "cell_type": "code",
   "execution_count": 149,
   "id": "c78e6452",
   "metadata": {},
   "outputs": [
    {
     "data": {
      "text/html": [
       "<div>\n",
       "<style scoped>\n",
       "    .dataframe tbody tr th:only-of-type {\n",
       "        vertical-align: middle;\n",
       "    }\n",
       "\n",
       "    .dataframe tbody tr th {\n",
       "        vertical-align: top;\n",
       "    }\n",
       "\n",
       "    .dataframe thead th {\n",
       "        text-align: right;\n",
       "    }\n",
       "</style>\n",
       "<table border=\"1\" class=\"dataframe\">\n",
       "  <thead>\n",
       "    <tr style=\"text-align: right;\">\n",
       "      <th></th>\n",
       "      <th>user_id</th>\n",
       "      <th>month</th>\n",
       "      <th>calls_sum</th>\n",
       "      <th>calls_count</th>\n",
       "      <th>messages_count</th>\n",
       "      <th>internet_sum</th>\n",
       "      <th>city</th>\n",
       "      <th>tariff</th>\n",
       "      <th>churn_date</th>\n",
       "      <th>messages_included</th>\n",
       "      <th>mb_per_month_included</th>\n",
       "      <th>minutes_included</th>\n",
       "      <th>rub_monthly_fee</th>\n",
       "      <th>rub_per_gb</th>\n",
       "      <th>rub_per_message</th>\n",
       "      <th>rub_per_minute</th>\n",
       "    </tr>\n",
       "  </thead>\n",
       "  <tbody>\n",
       "    <tr>\n",
       "      <th>0</th>\n",
       "      <td>1000</td>\n",
       "      <td>5.0</td>\n",
       "      <td>159.0</td>\n",
       "      <td>22.0</td>\n",
       "      <td>22.0</td>\n",
       "      <td>3.0</td>\n",
       "      <td>Краснодар</td>\n",
       "      <td>ultra</td>\n",
       "      <td>NaT</td>\n",
       "      <td>1000</td>\n",
       "      <td>30.0</td>\n",
       "      <td>3000</td>\n",
       "      <td>1950</td>\n",
       "      <td>150</td>\n",
       "      <td>1</td>\n",
       "      <td>1</td>\n",
       "    </tr>\n",
       "    <tr>\n",
       "      <th>1</th>\n",
       "      <td>1000</td>\n",
       "      <td>6.0</td>\n",
       "      <td>172.0</td>\n",
       "      <td>43.0</td>\n",
       "      <td>60.0</td>\n",
       "      <td>23.0</td>\n",
       "      <td>Краснодар</td>\n",
       "      <td>ultra</td>\n",
       "      <td>NaT</td>\n",
       "      <td>1000</td>\n",
       "      <td>30.0</td>\n",
       "      <td>3000</td>\n",
       "      <td>1950</td>\n",
       "      <td>150</td>\n",
       "      <td>1</td>\n",
       "      <td>1</td>\n",
       "    </tr>\n",
       "    <tr>\n",
       "      <th>2</th>\n",
       "      <td>1000</td>\n",
       "      <td>7.0</td>\n",
       "      <td>340.0</td>\n",
       "      <td>47.0</td>\n",
       "      <td>75.0</td>\n",
       "      <td>14.0</td>\n",
       "      <td>Краснодар</td>\n",
       "      <td>ultra</td>\n",
       "      <td>NaT</td>\n",
       "      <td>1000</td>\n",
       "      <td>30.0</td>\n",
       "      <td>3000</td>\n",
       "      <td>1950</td>\n",
       "      <td>150</td>\n",
       "      <td>1</td>\n",
       "      <td>1</td>\n",
       "    </tr>\n",
       "    <tr>\n",
       "      <th>3</th>\n",
       "      <td>1000</td>\n",
       "      <td>8.0</td>\n",
       "      <td>408.0</td>\n",
       "      <td>52.0</td>\n",
       "      <td>81.0</td>\n",
       "      <td>14.0</td>\n",
       "      <td>Краснодар</td>\n",
       "      <td>ultra</td>\n",
       "      <td>NaT</td>\n",
       "      <td>1000</td>\n",
       "      <td>30.0</td>\n",
       "      <td>3000</td>\n",
       "      <td>1950</td>\n",
       "      <td>150</td>\n",
       "      <td>1</td>\n",
       "      <td>1</td>\n",
       "    </tr>\n",
       "    <tr>\n",
       "      <th>4</th>\n",
       "      <td>1000</td>\n",
       "      <td>9.0</td>\n",
       "      <td>466.0</td>\n",
       "      <td>58.0</td>\n",
       "      <td>57.0</td>\n",
       "      <td>15.0</td>\n",
       "      <td>Краснодар</td>\n",
       "      <td>ultra</td>\n",
       "      <td>NaT</td>\n",
       "      <td>1000</td>\n",
       "      <td>30.0</td>\n",
       "      <td>3000</td>\n",
       "      <td>1950</td>\n",
       "      <td>150</td>\n",
       "      <td>1</td>\n",
       "      <td>1</td>\n",
       "    </tr>\n",
       "  </tbody>\n",
       "</table>\n",
       "</div>"
      ],
      "text/plain": [
       "   user_id  month  calls_sum  calls_count  messages_count  internet_sum  \\\n",
       "0     1000    5.0      159.0         22.0            22.0           3.0   \n",
       "1     1000    6.0      172.0         43.0            60.0          23.0   \n",
       "2     1000    7.0      340.0         47.0            75.0          14.0   \n",
       "3     1000    8.0      408.0         52.0            81.0          14.0   \n",
       "4     1000    9.0      466.0         58.0            57.0          15.0   \n",
       "\n",
       "        city tariff churn_date  messages_included  mb_per_month_included  \\\n",
       "0  Краснодар  ultra        NaT               1000                   30.0   \n",
       "1  Краснодар  ultra        NaT               1000                   30.0   \n",
       "2  Краснодар  ultra        NaT               1000                   30.0   \n",
       "3  Краснодар  ultra        NaT               1000                   30.0   \n",
       "4  Краснодар  ultra        NaT               1000                   30.0   \n",
       "\n",
       "   minutes_included  rub_monthly_fee  rub_per_gb  rub_per_message  \\\n",
       "0              3000             1950         150                1   \n",
       "1              3000             1950         150                1   \n",
       "2              3000             1950         150                1   \n",
       "3              3000             1950         150                1   \n",
       "4              3000             1950         150                1   \n",
       "\n",
       "   rub_per_minute  \n",
       "0               1  \n",
       "1               1  \n",
       "2               1  \n",
       "3               1  \n",
       "4               1  "
      ]
     },
     "execution_count": 149,
     "metadata": {},
     "output_type": "execute_result"
    }
   ],
   "source": [
    "data = data\\\n",
    "       .merge(tariffs, on=['tariff'], how='outer')\n",
    "data.head()"
   ]
  },
  {
   "cell_type": "markdown",
   "id": "de1e660f",
   "metadata": {},
   "source": [
    "Общая таблица готова, с данными использованных ресурсам по каждому пользователю по месяцам и данными по тарифам"
   ]
  },
  {
   "cell_type": "code",
   "execution_count": 150,
   "id": "88bbe444",
   "metadata": {},
   "outputs": [
    {
     "data": {
      "text/plain": [
       "user_id                  500\n",
       "month                     12\n",
       "calls_sum                925\n",
       "calls_count              183\n",
       "messages_count           179\n",
       "internet_sum              48\n",
       "city                      76\n",
       "tariff                     2\n",
       "churn_date                33\n",
       "messages_included          2\n",
       "mb_per_month_included      2\n",
       "minutes_included           2\n",
       "rub_monthly_fee            2\n",
       "rub_per_gb                 2\n",
       "rub_per_message            2\n",
       "rub_per_minute             2\n",
       "dtype: int64"
      ]
     },
     "execution_count": 150,
     "metadata": {},
     "output_type": "execute_result"
    }
   ],
   "source": [
    "data.nunique() #посмотрим на количество уникальных юзеров после склейки"
   ]
  },
  {
   "cell_type": "code",
   "execution_count": 151,
   "id": "3c361efd",
   "metadata": {},
   "outputs": [
    {
     "data": {
      "text/plain": [
       "user_id                     0\n",
       "month                       2\n",
       "calls_sum                  42\n",
       "calls_count                42\n",
       "messages_count            499\n",
       "internet_sum               13\n",
       "city                        0\n",
       "tariff                      0\n",
       "churn_date               3027\n",
       "messages_included           0\n",
       "mb_per_month_included       0\n",
       "minutes_included            0\n",
       "rub_monthly_fee             0\n",
       "rub_per_gb                  0\n",
       "rub_per_message             0\n",
       "rub_per_minute              0\n",
       "dtype: int64"
      ]
     },
     "execution_count": 151,
     "metadata": {},
     "output_type": "execute_result"
    }
   ],
   "source": [
    "#проверим наличие пропусков\n",
    "data.isna().sum()"
   ]
  },
  {
   "cell_type": "markdown",
   "id": "5ff02cec",
   "metadata": {},
   "source": [
    "Наличие пропусков означает, что клиент не пользовался услугами. Необходимо заменить пропуски на нули, кроме столбца 'churn_date'\n",
    "Также появились 2 пропущенных значения в столбце месяцев, придется удалить их"
   ]
  },
  {
   "cell_type": "code",
   "execution_count": 152,
   "id": "7b34fb7a",
   "metadata": {},
   "outputs": [],
   "source": [
    "data['calls_sum'] = data['calls_sum'].fillna(0)\n",
    "data['calls_count'] = data['calls_count'].fillna(0)\n",
    "data['messages_count'] = data['messages_count'].fillna(0)\n",
    "data['internet_sum'] = data['internet_sum'].fillna(0)\n",
    "data = data.dropna(subset=['month']) "
   ]
  },
  {
   "cell_type": "code",
   "execution_count": 153,
   "id": "8a32ad8f",
   "metadata": {},
   "outputs": [
    {
     "data": {
      "text/plain": [
       "user_id                     0\n",
       "month                       0\n",
       "calls_sum                   0\n",
       "calls_count                 0\n",
       "messages_count              0\n",
       "internet_sum                0\n",
       "city                        0\n",
       "tariff                      0\n",
       "churn_date               3027\n",
       "messages_included           0\n",
       "mb_per_month_included       0\n",
       "minutes_included            0\n",
       "rub_monthly_fee             0\n",
       "rub_per_gb                  0\n",
       "rub_per_message             0\n",
       "rub_per_minute              0\n",
       "dtype: int64"
      ]
     },
     "execution_count": 153,
     "metadata": {},
     "output_type": "execute_result"
    }
   ],
   "source": [
    "data.isna().sum() #перепроверим"
   ]
  },
  {
   "cell_type": "code",
   "execution_count": 154,
   "id": "104dd6f7",
   "metadata": {},
   "outputs": [
    {
     "data": {
      "text/plain": [
       "0"
      ]
     },
     "execution_count": 154,
     "metadata": {},
     "output_type": "execute_result"
    }
   ],
   "source": [
    "data.duplicated().sum() #проверим наличие дубликатов"
   ]
  },
  {
   "cell_type": "markdown",
   "id": "5da7fa5b",
   "metadata": {},
   "source": [
    "#### Посчитаем для каждого пользователя помесячную выручку с каждого пользователя.\n",
    "Для этого вычтим бесплатный лимит из суммарного количества звонков, сообщений и  интернет-трафика; остаток умножим на значение из тарифного плана и прибавим абонентскую плату, соответствующую тарифному плану."
   ]
  },
  {
   "cell_type": "code",
   "execution_count": 184,
   "id": "cf00bd3e",
   "metadata": {},
   "outputs": [],
   "source": [
    "#напишем функцию для подсчета общей выручки\n",
    "def revenue_tariff(row):\n",
    "    messages = (row['messages_count'] - row['messages_included'])* row['rub_per_message']\n",
    "    calls = (row['calls_sum'] - row['minutes_included']) * row['rub_per_minute']\n",
    "    internet = np.floor((row['internet_sum'] - row['mb_per_month_included']) * row['rub_per_gb'])\n",
    "    total = 0\n",
    "    for index in [messages, calls, internet]:\n",
    "        if index > 0:\n",
    "            total += index\n",
    "    return total"
   ]
  },
  {
   "cell_type": "code",
   "execution_count": 185,
   "id": "c098c4b3",
   "metadata": {},
   "outputs": [],
   "source": [
    "data['revenue_tariff'] = data.apply(lambda x: revenue_tariff(x), axis=1)"
   ]
  },
  {
   "cell_type": "code",
   "execution_count": 186,
   "id": "b1726c53",
   "metadata": {},
   "outputs": [
    {
     "data": {
      "text/html": [
       "<div>\n",
       "<style scoped>\n",
       "    .dataframe tbody tr th:only-of-type {\n",
       "        vertical-align: middle;\n",
       "    }\n",
       "\n",
       "    .dataframe tbody tr th {\n",
       "        vertical-align: top;\n",
       "    }\n",
       "\n",
       "    .dataframe thead th {\n",
       "        text-align: right;\n",
       "    }\n",
       "</style>\n",
       "<table border=\"1\" class=\"dataframe\">\n",
       "  <thead>\n",
       "    <tr style=\"text-align: right;\">\n",
       "      <th></th>\n",
       "      <th>user_id</th>\n",
       "      <th>month</th>\n",
       "      <th>calls_sum</th>\n",
       "      <th>calls_count</th>\n",
       "      <th>messages_count</th>\n",
       "      <th>internet_sum</th>\n",
       "      <th>city</th>\n",
       "      <th>tariff</th>\n",
       "      <th>churn_date</th>\n",
       "      <th>messages_included</th>\n",
       "      <th>mb_per_month_included</th>\n",
       "      <th>minutes_included</th>\n",
       "      <th>rub_monthly_fee</th>\n",
       "      <th>rub_per_gb</th>\n",
       "      <th>rub_per_message</th>\n",
       "      <th>rub_per_minute</th>\n",
       "      <th>revenue</th>\n",
       "      <th>revenue_difference</th>\n",
       "    </tr>\n",
       "  </thead>\n",
       "  <tbody>\n",
       "    <tr>\n",
       "      <th>0</th>\n",
       "      <td>1000</td>\n",
       "      <td>5.0</td>\n",
       "      <td>159.0</td>\n",
       "      <td>22.0</td>\n",
       "      <td>22.0</td>\n",
       "      <td>3.0</td>\n",
       "      <td>Краснодар</td>\n",
       "      <td>ultra</td>\n",
       "      <td>NaT</td>\n",
       "      <td>1000</td>\n",
       "      <td>30.0</td>\n",
       "      <td>3000</td>\n",
       "      <td>1950</td>\n",
       "      <td>150</td>\n",
       "      <td>1</td>\n",
       "      <td>1</td>\n",
       "      <td>1950.0</td>\n",
       "      <td>0.0</td>\n",
       "    </tr>\n",
       "    <tr>\n",
       "      <th>1</th>\n",
       "      <td>1000</td>\n",
       "      <td>6.0</td>\n",
       "      <td>172.0</td>\n",
       "      <td>43.0</td>\n",
       "      <td>60.0</td>\n",
       "      <td>23.0</td>\n",
       "      <td>Краснодар</td>\n",
       "      <td>ultra</td>\n",
       "      <td>NaT</td>\n",
       "      <td>1000</td>\n",
       "      <td>30.0</td>\n",
       "      <td>3000</td>\n",
       "      <td>1950</td>\n",
       "      <td>150</td>\n",
       "      <td>1</td>\n",
       "      <td>1</td>\n",
       "      <td>1950.0</td>\n",
       "      <td>0.0</td>\n",
       "    </tr>\n",
       "    <tr>\n",
       "      <th>2</th>\n",
       "      <td>1000</td>\n",
       "      <td>7.0</td>\n",
       "      <td>340.0</td>\n",
       "      <td>47.0</td>\n",
       "      <td>75.0</td>\n",
       "      <td>14.0</td>\n",
       "      <td>Краснодар</td>\n",
       "      <td>ultra</td>\n",
       "      <td>NaT</td>\n",
       "      <td>1000</td>\n",
       "      <td>30.0</td>\n",
       "      <td>3000</td>\n",
       "      <td>1950</td>\n",
       "      <td>150</td>\n",
       "      <td>1</td>\n",
       "      <td>1</td>\n",
       "      <td>1950.0</td>\n",
       "      <td>0.0</td>\n",
       "    </tr>\n",
       "    <tr>\n",
       "      <th>3</th>\n",
       "      <td>1000</td>\n",
       "      <td>8.0</td>\n",
       "      <td>408.0</td>\n",
       "      <td>52.0</td>\n",
       "      <td>81.0</td>\n",
       "      <td>14.0</td>\n",
       "      <td>Краснодар</td>\n",
       "      <td>ultra</td>\n",
       "      <td>NaT</td>\n",
       "      <td>1000</td>\n",
       "      <td>30.0</td>\n",
       "      <td>3000</td>\n",
       "      <td>1950</td>\n",
       "      <td>150</td>\n",
       "      <td>1</td>\n",
       "      <td>1</td>\n",
       "      <td>1950.0</td>\n",
       "      <td>0.0</td>\n",
       "    </tr>\n",
       "    <tr>\n",
       "      <th>4</th>\n",
       "      <td>1000</td>\n",
       "      <td>9.0</td>\n",
       "      <td>466.0</td>\n",
       "      <td>58.0</td>\n",
       "      <td>57.0</td>\n",
       "      <td>15.0</td>\n",
       "      <td>Краснодар</td>\n",
       "      <td>ultra</td>\n",
       "      <td>NaT</td>\n",
       "      <td>1000</td>\n",
       "      <td>30.0</td>\n",
       "      <td>3000</td>\n",
       "      <td>1950</td>\n",
       "      <td>150</td>\n",
       "      <td>1</td>\n",
       "      <td>1</td>\n",
       "      <td>1950.0</td>\n",
       "      <td>0.0</td>\n",
       "    </tr>\n",
       "  </tbody>\n",
       "</table>\n",
       "</div>"
      ],
      "text/plain": [
       "   user_id  month  calls_sum  calls_count  messages_count  internet_sum  \\\n",
       "0     1000    5.0      159.0         22.0            22.0           3.0   \n",
       "1     1000    6.0      172.0         43.0            60.0          23.0   \n",
       "2     1000    7.0      340.0         47.0            75.0          14.0   \n",
       "3     1000    8.0      408.0         52.0            81.0          14.0   \n",
       "4     1000    9.0      466.0         58.0            57.0          15.0   \n",
       "\n",
       "        city tariff churn_date  messages_included  mb_per_month_included  \\\n",
       "0  Краснодар  ultra        NaT               1000                   30.0   \n",
       "1  Краснодар  ultra        NaT               1000                   30.0   \n",
       "2  Краснодар  ultra        NaT               1000                   30.0   \n",
       "3  Краснодар  ultra        NaT               1000                   30.0   \n",
       "4  Краснодар  ultra        NaT               1000                   30.0   \n",
       "\n",
       "   minutes_included  rub_monthly_fee  rub_per_gb  rub_per_message  \\\n",
       "0              3000             1950         150                1   \n",
       "1              3000             1950         150                1   \n",
       "2              3000             1950         150                1   \n",
       "3              3000             1950         150                1   \n",
       "4              3000             1950         150                1   \n",
       "\n",
       "   rub_per_minute  revenue  revenue_difference  \n",
       "0               1   1950.0                 0.0  \n",
       "1               1   1950.0                 0.0  \n",
       "2               1   1950.0                 0.0  \n",
       "3               1   1950.0                 0.0  \n",
       "4               1   1950.0                 0.0  "
      ]
     },
     "execution_count": 186,
     "metadata": {},
     "output_type": "execute_result"
    }
   ],
   "source": [
    "data['revenue'] = data['rub_monthly_fee'] + data['revenue_tariff']\n",
    "del data['revenue_tariff']\n",
    "data.head()"
   ]
  },
  {
   "cell_type": "markdown",
   "id": "791dd7c0",
   "metadata": {},
   "source": [
    "Полный расчет выручки по каждому пользователю произвели"
   ]
  },
  {
   "cell_type": "markdown",
   "id": "1ec8ddcc",
   "metadata": {},
   "source": [
    "## Этап 3. Анализ данных"
   ]
  },
  {
   "cell_type": "markdown",
   "id": "09845f65",
   "metadata": {},
   "source": [
    "    Ответим на вопрос:\n",
    "    - Сколько минут, сколько сообщений и какой объём интернет-трафика требуется пользователям каждого тарифа в месяц?\n",
    "    Для этого:\n",
    "    Посчитаем среднее количество, дисперсию и стандартное отклонение\n",
    "    Построим гистограммы\n",
    "    Опишем распределения"
   ]
  },
  {
   "cell_type": "code",
   "execution_count": 187,
   "id": "e4321ef3",
   "metadata": {},
   "outputs": [
    {
     "data": {
      "text/html": [
       "<div>\n",
       "<style scoped>\n",
       "    .dataframe tbody tr th:only-of-type {\n",
       "        vertical-align: middle;\n",
       "    }\n",
       "\n",
       "    .dataframe tbody tr th {\n",
       "        vertical-align: top;\n",
       "    }\n",
       "\n",
       "    .dataframe thead tr th {\n",
       "        text-align: left;\n",
       "    }\n",
       "\n",
       "    .dataframe thead tr:last-of-type th {\n",
       "        text-align: right;\n",
       "    }\n",
       "</style>\n",
       "<table border=\"1\" class=\"dataframe\">\n",
       "  <thead>\n",
       "    <tr>\n",
       "      <th></th>\n",
       "      <th colspan=\"4\" halign=\"left\">mean</th>\n",
       "      <th colspan=\"4\" halign=\"left\">var</th>\n",
       "      <th colspan=\"4\" halign=\"left\">std</th>\n",
       "    </tr>\n",
       "    <tr>\n",
       "      <th></th>\n",
       "      <th>calls_sum</th>\n",
       "      <th>internet_sum</th>\n",
       "      <th>messages_count</th>\n",
       "      <th>revenue</th>\n",
       "      <th>calls_sum</th>\n",
       "      <th>internet_sum</th>\n",
       "      <th>messages_count</th>\n",
       "      <th>revenue</th>\n",
       "      <th>calls_sum</th>\n",
       "      <th>internet_sum</th>\n",
       "      <th>messages_count</th>\n",
       "      <th>revenue</th>\n",
       "    </tr>\n",
       "    <tr>\n",
       "      <th>tariff</th>\n",
       "      <th></th>\n",
       "      <th></th>\n",
       "      <th></th>\n",
       "      <th></th>\n",
       "      <th></th>\n",
       "      <th></th>\n",
       "      <th></th>\n",
       "      <th></th>\n",
       "      <th></th>\n",
       "      <th></th>\n",
       "      <th></th>\n",
       "      <th></th>\n",
       "    </tr>\n",
       "  </thead>\n",
       "  <tbody>\n",
       "    <tr>\n",
       "      <th>smart</th>\n",
       "      <td>417.934948</td>\n",
       "      <td>16.328847</td>\n",
       "      <td>33.384029</td>\n",
       "      <td>1289.973531</td>\n",
       "      <td>36219.315784</td>\n",
       "      <td>33.028705</td>\n",
       "      <td>796.812958</td>\n",
       "      <td>669785.708006</td>\n",
       "      <td>190.313730</td>\n",
       "      <td>5.747061</td>\n",
       "      <td>28.227876</td>\n",
       "      <td>818.404367</td>\n",
       "    </tr>\n",
       "    <tr>\n",
       "      <th>ultra</th>\n",
       "      <td>526.623350</td>\n",
       "      <td>19.494416</td>\n",
       "      <td>49.363452</td>\n",
       "      <td>2070.152284</td>\n",
       "      <td>100873.633397</td>\n",
       "      <td>97.091686</td>\n",
       "      <td>2285.266143</td>\n",
       "      <td>141516.745079</td>\n",
       "      <td>317.606098</td>\n",
       "      <td>9.853511</td>\n",
       "      <td>47.804457</td>\n",
       "      <td>376.187114</td>\n",
       "    </tr>\n",
       "  </tbody>\n",
       "</table>\n",
       "</div>"
      ],
      "text/plain": [
       "              mean                                                     var  \\\n",
       "         calls_sum internet_sum messages_count      revenue      calls_sum   \n",
       "tariff                                                                       \n",
       "smart   417.934948    16.328847      33.384029  1289.973531   36219.315784   \n",
       "ultra   526.623350    19.494416      49.363452  2070.152284  100873.633397   \n",
       "\n",
       "                                                          std               \\\n",
       "       internet_sum messages_count        revenue   calls_sum internet_sum   \n",
       "tariff                                                                       \n",
       "smart     33.028705     796.812958  669785.708006  190.313730     5.747061   \n",
       "ultra     97.091686    2285.266143  141516.745079  317.606098     9.853511   \n",
       "\n",
       "                                   \n",
       "       messages_count     revenue  \n",
       "tariff                             \n",
       "smart       28.227876  818.404367  \n",
       "ultra       47.804457  376.187114  "
      ]
     },
     "execution_count": 187,
     "metadata": {},
     "output_type": "execute_result"
    }
   ],
   "source": [
    "#Сформируем сводную таблицу и расчитаем среднее значение, дисперсию и стандарт. отклонение по всем значениям\n",
    "data.pivot_table(\n",
    "    index = 'tariff',\n",
    "    values = ['calls_sum', 'messages_count', 'internet_sum', 'revenue'],\n",
    "    aggfunc= ['mean', 'var','std'])"
   ]
  },
  {
   "cell_type": "code",
   "execution_count": 188,
   "id": "ce82aefc",
   "metadata": {},
   "outputs": [
    {
     "data": {
      "image/png": "[encoded data removed]",
      "text/plain": [
       "<Figure size 864x432 with 1 Axes>"
      ]
     },
     "metadata": {
      "needs_background": "light"
     },
     "output_type": "display_data"
    }
   ],
   "source": [
    "#построим общий график и сравним динамику по минутам по двум тарифам\n",
    "a = data[data['tariff'] == 'smart']['calls_sum']\n",
    "b = data[data['tariff'] == 'ultra']['calls_sum']\n",
    "plt.figure(figsize=(12,6))\n",
    "bins = 50\n",
    "plt.hist([a, b], bins, label=['smart', 'ultra'])\n",
    "plt.legend(loc='upper right')\n",
    "plt.title('Минуты')\n",
    "plt.xlabel(\"Количество минут\")\n",
    "plt.ylabel(\"Количество наблюдений\")\n",
    "plt.show()"
   ]
  },
  {
   "cell_type": "markdown",
   "id": "e75a7446",
   "metadata": {},
   "source": [
    "Распределение выборки по тарифу смарт близко к нормальному, по ультра - скошено влево.\n",
    "Среднее значение звонков в месяц пользователей тарифом смарт = 417, что вплотную приближается к лимиту в 500. Клиенты используют максимум бесплатных звонков по тарифу.\n",
    "Среднее значение звонков по ультра = 526, у пользователей ещё остается запас в 2500 бесплатных минут по тарифу. "
   ]
  },
  {
   "cell_type": "code",
   "execution_count": 189,
   "id": "8ccbdab1",
   "metadata": {},
   "outputs": [
    {
     "data": {
      "image/png": "[encoded data removed]",
      "text/plain": [
       "<Figure size 864x432 with 1 Axes>"
      ]
     },
     "metadata": {
      "needs_background": "light"
     },
     "output_type": "display_data"
    }
   ],
   "source": [
    "#построим общий график и сравним динамику по минутам по двум тарифам\n",
    "a = data[data['tariff'] == 'smart']['messages_count']\n",
    "b = data[data['tariff'] == 'ultra']['messages_count']\n",
    "plt.figure(figsize=(12,6))\n",
    "bins = 50\n",
    "plt.hist([a, b], bins, label=['smart', 'ultra'])\n",
    "plt.legend(loc='upper right')\n",
    "plt.title('Сообщения')\n",
    "plt.xlabel(\"Кол-во сообщений\")\n",
    "plt.ylabel(\"Кол-во наблюдений\")\n",
    "plt.show()"
   ]
  },
  {
   "cell_type": "markdown",
   "id": "4f4b4335",
   "metadata": {},
   "source": [
    "Распределения значений по тарифам похожи между собой, скошены влево оба графика.\n",
    "Среднее значение по смарту в месяц = 33, лимит = 50;\n",
    "Среднее значение по ультра = 49, лимит = 1000.\n",
    "Пользователи тарифом смарт, в среднем, вписываются в свой лимит, пользователи ультра тоже, даже с лихвой, что говорит о низким интересом к данной услуге"
   ]
  },
  {
   "cell_type": "code",
   "execution_count": 190,
   "id": "b7d42c70",
   "metadata": {},
   "outputs": [
    {
     "data": {
      "image/png": "[encoded data removed]",
      "text/plain": [
       "<Figure size 864x432 with 1 Axes>"
      ]
     },
     "metadata": {
      "needs_background": "light"
     },
     "output_type": "display_data"
    }
   ],
   "source": [
    "#построим общий график и сравним динамику по минутам по двум тарифам\n",
    "a = data[data['tariff'] == 'smart']['internet_sum']\n",
    "b = data[data['tariff'] == 'ultra']['internet_sum']\n",
    "plt.figure(figsize=(12,6))\n",
    "bins = 50\n",
    "plt.hist([a, b], bins, label=['smart', 'ultra'])\n",
    "plt.legend(loc='upper right')\n",
    "plt.title('Интернет')\n",
    "plt.xlabel(\"Объем трафика, гигабайт\")\n",
    "plt.ylabel(\"Кол-во наблюдений\")\n",
    "plt.show()"
   ]
  },
  {
   "cell_type": "markdown",
   "id": "7842ea72",
   "metadata": {},
   "source": [
    "Распределения обоих графиков нормальные.\n",
    "Среднее значение Смарта по интернету = 16 гигабайт в месяц, при лимите в 15.\n",
    "Ультра = 19 гигабайт в месяц, при лимите в 30.\n",
    "Это значит, что пользователям тарифа смарт интернет-трафика в рамках лимита на месяц не хватает, в отличии от пользователей ультра."
   ]
  },
  {
   "cell_type": "markdown",
   "id": "3929e964",
   "metadata": {},
   "source": [
    "#### Ответим на вопрос: какой тариф приносит больше прибыли?"
   ]
  },
  {
   "cell_type": "code",
   "execution_count": 191,
   "id": "109647ca",
   "metadata": {
    "scrolled": true
   },
   "outputs": [
    {
     "data": {
      "text/html": [
       "<div>\n",
       "<style scoped>\n",
       "    .dataframe tbody tr th:only-of-type {\n",
       "        vertical-align: middle;\n",
       "    }\n",
       "\n",
       "    .dataframe tbody tr th {\n",
       "        vertical-align: top;\n",
       "    }\n",
       "\n",
       "    .dataframe thead tr th {\n",
       "        text-align: left;\n",
       "    }\n",
       "\n",
       "    .dataframe thead tr:last-of-type th {\n",
       "        text-align: right;\n",
       "    }\n",
       "</style>\n",
       "<table border=\"1\" class=\"dataframe\">\n",
       "  <thead>\n",
       "    <tr>\n",
       "      <th></th>\n",
       "      <th>mean</th>\n",
       "      <th>var</th>\n",
       "      <th>std</th>\n",
       "    </tr>\n",
       "    <tr>\n",
       "      <th></th>\n",
       "      <th>revenue</th>\n",
       "      <th>revenue</th>\n",
       "      <th>revenue</th>\n",
       "    </tr>\n",
       "    <tr>\n",
       "      <th>tariff</th>\n",
       "      <th></th>\n",
       "      <th></th>\n",
       "      <th></th>\n",
       "    </tr>\n",
       "  </thead>\n",
       "  <tbody>\n",
       "    <tr>\n",
       "      <th>smart</th>\n",
       "      <td>1289.973531</td>\n",
       "      <td>669785.708006</td>\n",
       "      <td>818.404367</td>\n",
       "    </tr>\n",
       "    <tr>\n",
       "      <th>ultra</th>\n",
       "      <td>2070.152284</td>\n",
       "      <td>141516.745079</td>\n",
       "      <td>376.187114</td>\n",
       "    </tr>\n",
       "  </tbody>\n",
       "</table>\n",
       "</div>"
      ],
      "text/plain": [
       "               mean            var         std\n",
       "            revenue        revenue     revenue\n",
       "tariff                                        \n",
       "smart   1289.973531  669785.708006  818.404367\n",
       "ultra   2070.152284  141516.745079  376.187114"
      ]
     },
     "execution_count": 191,
     "metadata": {},
     "output_type": "execute_result"
    }
   ],
   "source": [
    "#посмотрим ещё раз на среднее значение, стандартное отклонение и дисперсию выручки по тарифам\n",
    "data.pivot_table(\n",
    "    index = 'tariff',\n",
    "    values = ['revenue'],\n",
    "    aggfunc= ['mean', 'var','std'])"
   ]
  },
  {
   "cell_type": "code",
   "execution_count": 192,
   "id": "353d8f6f",
   "metadata": {},
   "outputs": [
    {
     "data": {
      "image/png": "[encoded data removed]",
      "text/plain": [
       "<Figure size 864x432 with 1 Axes>"
      ]
     },
     "metadata": {
      "needs_background": "light"
     },
     "output_type": "display_data"
    }
   ],
   "source": [
    "#построим общий график и сравним динамику по выручке по двум тарифам\n",
    "                 \n",
    "a = data[data['tariff'] == 'smart']['revenue']\n",
    "b = data[data['tariff'] == 'ultra']['revenue']\n",
    "\n",
    "plt.figure(figsize=(12,6))\n",
    "bins = 30\n",
    "plt.hist([a, b], bins, label=['smart', 'ultra'])\n",
    "plt.legend(loc='upper right')\n",
    "plt.title('Выручка')\n",
    "plt.xlabel(\"Выручка, рублей\")\n",
    "plt.ylabel(\"Кол-во наблюдений\")\n",
    "plt.show()"
   ]
  },
  {
   "cell_type": "code",
   "execution_count": 193,
   "id": "b427f3f2",
   "metadata": {},
   "outputs": [],
   "source": [
    "#добавим столбец с разницей выручки сверз тарифа от общей выручки\n",
    "data['revenue_difference'] = data['revenue'] - data['rub_monthly_fee']\n",
    "data['revenue_difference'].where(~(data.revenue_difference < 0), other=0, inplace=True)"
   ]
  },
  {
   "cell_type": "code",
   "execution_count": 194,
   "id": "92916b9f",
   "metadata": {},
   "outputs": [
    {
     "data": {
      "image/png": "[encoded data removed]",
      "text/plain": [
       "<Figure size 864x432 with 1 Axes>"
      ]
     },
     "metadata": {
      "needs_background": "light"
     },
     "output_type": "display_data"
    }
   ],
   "source": [
    "#построим общий график и сравним динамику по выручке сверх тарифа\n",
    "                 \n",
    "a = data[data['tariff'] == 'smart']['revenue_difference']\n",
    "b = data[data['tariff'] == 'ultra']['revenue_difference']\n",
    "\n",
    "plt.figure(figsize=(12,6))\n",
    "bins = 30\n",
    "plt.hist([a, b], bins, label=['smart', 'ultra'])\n",
    "plt.legend(loc='upper right')\n",
    "plt.title('Выручка сверх тарифа')\n",
    "plt.xlabel(\"Выручка, рублей\")\n",
    "plt.ylabel(\"Кол-во наблюдений\")\n",
    "plt.show()"
   ]
  },
  {
   "cell_type": "code",
   "execution_count": 195,
   "id": "35a20d1f",
   "metadata": {},
   "outputs": [
    {
     "data": {
      "text/html": [
       "<style type=\"text/css\">\n",
       "</style>\n",
       "<table id=\"T_d567d_\">\n",
       "  <thead>\n",
       "    <tr>\n",
       "      <th class=\"blank level0\" >&nbsp;</th>\n",
       "      <th class=\"col_heading level0 col0\" >revenue</th>\n",
       "      <th class=\"col_heading level0 col1\" >revenue_difference</th>\n",
       "    </tr>\n",
       "    <tr>\n",
       "      <th class=\"blank level1\" >&nbsp;</th>\n",
       "      <th class=\"col_heading level1 col0\" >sum</th>\n",
       "      <th class=\"col_heading level1 col1\" >sum</th>\n",
       "    </tr>\n",
       "    <tr>\n",
       "      <th class=\"index_name level0\" >tariff</th>\n",
       "      <th class=\"blank col0\" >&nbsp;</th>\n",
       "      <th class=\"blank col1\" >&nbsp;</th>\n",
       "    </tr>\n",
       "  </thead>\n",
       "  <tbody>\n",
       "    <tr>\n",
       "      <th id=\"T_d567d_level0_row0\" class=\"row_heading level0 row0\" >smart</th>\n",
       "      <td id=\"T_d567d_row0_col0\" class=\"data row0 col0\" >2875351.00</td>\n",
       "      <td id=\"T_d567d_row0_col1\" class=\"data row0 col1\" >1649401.00</td>\n",
       "    </tr>\n",
       "    <tr>\n",
       "      <th id=\"T_d567d_level0_row1\" class=\"row_heading level0 row1\" >ultra</th>\n",
       "      <td id=\"T_d567d_row1_col0\" class=\"data row1 col0\" >2039100.00</td>\n",
       "      <td id=\"T_d567d_row1_col1\" class=\"data row1 col1\" >118350.00</td>\n",
       "    </tr>\n",
       "  </tbody>\n",
       "</table>\n"
      ],
      "text/plain": [
       "<pandas.io.formats.style.Styler at 0x15efa4f5c40>"
      ]
     },
     "execution_count": 195,
     "metadata": {},
     "output_type": "execute_result"
    }
   ],
   "source": [
    "#посчитаем общую сумму выручки и сумму выручки сверх тарифа\n",
    "data.groupby('tariff')\\\n",
    "  .agg({'revenue':['sum'], 'revenue_difference':['sum']})\\\n",
    "  .style.format(\"{:.2f}\")"
   ]
  },
  {
   "cell_type": "markdown",
   "id": "5f722a57",
   "metadata": {},
   "source": [
    "Получается, что бОльшую прибыль приносят пользователи тарифа Смарт. Как по общему объему, так и по сумме выручки сверх тарифа."
   ]
  },
  {
   "cell_type": "markdown",
   "id": "74c170b2",
   "metadata": {},
   "source": [
    "#Выводы:\n",
    "1. Количество звонков у пользователей обоих тарифов практически одинаково, около 500 в месяц. Но те у кого смарт, полностью исчерпывают свой лимит, тогда как с ультрой пользователи используют лишь 1/6 часть своего лимита по звонкам\n",
    "2. По количеству отправки сообщений у пользователей также в рамках своих лимитов. Популярность смс очень невысока.\n",
    "3. С интернетом ситуация другая: пользователи смарта \"вываливаются\" из своего лимита, им приходится докупать трафик. У пользователей ультра трафик в рамках лимита.\n",
    "4. Наибольшую прибыль приносят пользователи тарифа Смарт, чем пользователи тарифа Ультра:\n",
    "- По общему объему выручки = в 1.4 раза больше\n",
    "- По объему выручки сверх тарифа = в 14 раз больше"
   ]
  },
  {
   "cell_type": "markdown",
   "id": "80e176fa",
   "metadata": {},
   "source": [
    "## Этап 4. Проверка гипотез"
   ]
  },
  {
   "cell_type": "markdown",
   "id": "301162d4",
   "metadata": {},
   "source": [
    "    Гипотезы:\n",
    "    - средняя выручка пользователей тарифов «Ультра» и «Смарт» различаются\n",
    "    - средняя выручка пользователей из Москвы отличается от выручки пользователей из других регионов"
   ]
  },
  {
   "cell_type": "markdown",
   "id": "1c7b6002",
   "metadata": {},
   "source": [
    "#### 4.1 Различие выручки пользователей разных тарифов"
   ]
  },
  {
   "cell_type": "markdown",
   "id": "2a57c9bc",
   "metadata": {},
   "source": [
    "Сформулируем основную и альтернативную гипотезы:\n",
    "* H₀ - средняя выручка пользователей тарифов «Ультра» и «Смарт» равна\n",
    "* H₁ - средняя выручка пользователей тарифов «Ультра» и «Смарт» не равна"
   ]
  },
  {
   "cell_type": "code",
   "execution_count": 196,
   "id": "5c713d81",
   "metadata": {},
   "outputs": [],
   "source": [
    "#создадим две переменные и сохраним в них срезы по тарифам"
   ]
  },
  {
   "cell_type": "code",
   "execution_count": 197,
   "id": "6297f626",
   "metadata": {},
   "outputs": [
    {
     "data": {
      "text/html": [
       "<div>\n",
       "<style scoped>\n",
       "    .dataframe tbody tr th:only-of-type {\n",
       "        vertical-align: middle;\n",
       "    }\n",
       "\n",
       "    .dataframe tbody tr th {\n",
       "        vertical-align: top;\n",
       "    }\n",
       "\n",
       "    .dataframe thead th {\n",
       "        text-align: right;\n",
       "    }\n",
       "</style>\n",
       "<table border=\"1\" class=\"dataframe\">\n",
       "  <thead>\n",
       "    <tr style=\"text-align: right;\">\n",
       "      <th></th>\n",
       "      <th>user_id</th>\n",
       "      <th>month</th>\n",
       "      <th>calls_sum</th>\n",
       "      <th>calls_count</th>\n",
       "      <th>messages_count</th>\n",
       "      <th>internet_sum</th>\n",
       "      <th>city</th>\n",
       "      <th>tariff</th>\n",
       "      <th>churn_date</th>\n",
       "      <th>messages_included</th>\n",
       "      <th>mb_per_month_included</th>\n",
       "      <th>minutes_included</th>\n",
       "      <th>rub_monthly_fee</th>\n",
       "      <th>rub_per_gb</th>\n",
       "      <th>rub_per_message</th>\n",
       "      <th>rub_per_minute</th>\n",
       "      <th>revenue</th>\n",
       "      <th>revenue_difference</th>\n",
       "    </tr>\n",
       "  </thead>\n",
       "  <tbody>\n",
       "    <tr>\n",
       "      <th>986</th>\n",
       "      <td>1001</td>\n",
       "      <td>11.0</td>\n",
       "      <td>430.0</td>\n",
       "      <td>59.0</td>\n",
       "      <td>0.0</td>\n",
       "      <td>18.0</td>\n",
       "      <td>Москва</td>\n",
       "      <td>smart</td>\n",
       "      <td>NaT</td>\n",
       "      <td>50</td>\n",
       "      <td>15.0</td>\n",
       "      <td>500</td>\n",
       "      <td>550</td>\n",
       "      <td>200</td>\n",
       "      <td>3</td>\n",
       "      <td>3</td>\n",
       "      <td>1150.0</td>\n",
       "      <td>600.0</td>\n",
       "    </tr>\n",
       "    <tr>\n",
       "      <th>987</th>\n",
       "      <td>1001</td>\n",
       "      <td>12.0</td>\n",
       "      <td>414.0</td>\n",
       "      <td>63.0</td>\n",
       "      <td>0.0</td>\n",
       "      <td>14.0</td>\n",
       "      <td>Москва</td>\n",
       "      <td>smart</td>\n",
       "      <td>NaT</td>\n",
       "      <td>50</td>\n",
       "      <td>15.0</td>\n",
       "      <td>500</td>\n",
       "      <td>550</td>\n",
       "      <td>200</td>\n",
       "      <td>3</td>\n",
       "      <td>3</td>\n",
       "      <td>550.0</td>\n",
       "      <td>0.0</td>\n",
       "    </tr>\n",
       "  </tbody>\n",
       "</table>\n",
       "</div>"
      ],
      "text/plain": [
       "     user_id  month  calls_sum  calls_count  messages_count  internet_sum  \\\n",
       "986     1001   11.0      430.0         59.0             0.0          18.0   \n",
       "987     1001   12.0      414.0         63.0             0.0          14.0   \n",
       "\n",
       "       city tariff churn_date  messages_included  mb_per_month_included  \\\n",
       "986  Москва  smart        NaT                 50                   15.0   \n",
       "987  Москва  smart        NaT                 50                   15.0   \n",
       "\n",
       "     minutes_included  rub_monthly_fee  rub_per_gb  rub_per_message  \\\n",
       "986               500              550         200                3   \n",
       "987               500              550         200                3   \n",
       "\n",
       "     rub_per_minute  revenue  revenue_difference  \n",
       "986               3   1150.0               600.0  \n",
       "987               3    550.0                 0.0  "
      ]
     },
     "execution_count": 197,
     "metadata": {},
     "output_type": "execute_result"
    }
   ],
   "source": [
    "data_smart = data.query('tariff == \"smart\"')\n",
    "data_smart.head(2)"
   ]
  },
  {
   "cell_type": "code",
   "execution_count": 198,
   "id": "9ebfd692",
   "metadata": {},
   "outputs": [
    {
     "data": {
      "text/html": [
       "<div>\n",
       "<style scoped>\n",
       "    .dataframe tbody tr th:only-of-type {\n",
       "        vertical-align: middle;\n",
       "    }\n",
       "\n",
       "    .dataframe tbody tr th {\n",
       "        vertical-align: top;\n",
       "    }\n",
       "\n",
       "    .dataframe thead th {\n",
       "        text-align: right;\n",
       "    }\n",
       "</style>\n",
       "<table border=\"1\" class=\"dataframe\">\n",
       "  <thead>\n",
       "    <tr style=\"text-align: right;\">\n",
       "      <th></th>\n",
       "      <th>user_id</th>\n",
       "      <th>month</th>\n",
       "      <th>calls_sum</th>\n",
       "      <th>calls_count</th>\n",
       "      <th>messages_count</th>\n",
       "      <th>internet_sum</th>\n",
       "      <th>city</th>\n",
       "      <th>tariff</th>\n",
       "      <th>churn_date</th>\n",
       "      <th>messages_included</th>\n",
       "      <th>mb_per_month_included</th>\n",
       "      <th>minutes_included</th>\n",
       "      <th>rub_monthly_fee</th>\n",
       "      <th>rub_per_gb</th>\n",
       "      <th>rub_per_message</th>\n",
       "      <th>rub_per_minute</th>\n",
       "      <th>revenue</th>\n",
       "      <th>revenue_difference</th>\n",
       "    </tr>\n",
       "  </thead>\n",
       "  <tbody>\n",
       "    <tr>\n",
       "      <th>0</th>\n",
       "      <td>1000</td>\n",
       "      <td>5.0</td>\n",
       "      <td>159.0</td>\n",
       "      <td>22.0</td>\n",
       "      <td>22.0</td>\n",
       "      <td>3.0</td>\n",
       "      <td>Краснодар</td>\n",
       "      <td>ultra</td>\n",
       "      <td>NaT</td>\n",
       "      <td>1000</td>\n",
       "      <td>30.0</td>\n",
       "      <td>3000</td>\n",
       "      <td>1950</td>\n",
       "      <td>150</td>\n",
       "      <td>1</td>\n",
       "      <td>1</td>\n",
       "      <td>1950.0</td>\n",
       "      <td>0.0</td>\n",
       "    </tr>\n",
       "    <tr>\n",
       "      <th>1</th>\n",
       "      <td>1000</td>\n",
       "      <td>6.0</td>\n",
       "      <td>172.0</td>\n",
       "      <td>43.0</td>\n",
       "      <td>60.0</td>\n",
       "      <td>23.0</td>\n",
       "      <td>Краснодар</td>\n",
       "      <td>ultra</td>\n",
       "      <td>NaT</td>\n",
       "      <td>1000</td>\n",
       "      <td>30.0</td>\n",
       "      <td>3000</td>\n",
       "      <td>1950</td>\n",
       "      <td>150</td>\n",
       "      <td>1</td>\n",
       "      <td>1</td>\n",
       "      <td>1950.0</td>\n",
       "      <td>0.0</td>\n",
       "    </tr>\n",
       "  </tbody>\n",
       "</table>\n",
       "</div>"
      ],
      "text/plain": [
       "   user_id  month  calls_sum  calls_count  messages_count  internet_sum  \\\n",
       "0     1000    5.0      159.0         22.0            22.0           3.0   \n",
       "1     1000    6.0      172.0         43.0            60.0          23.0   \n",
       "\n",
       "        city tariff churn_date  messages_included  mb_per_month_included  \\\n",
       "0  Краснодар  ultra        NaT               1000                   30.0   \n",
       "1  Краснодар  ultra        NaT               1000                   30.0   \n",
       "\n",
       "   minutes_included  rub_monthly_fee  rub_per_gb  rub_per_message  \\\n",
       "0              3000             1950         150                1   \n",
       "1              3000             1950         150                1   \n",
       "\n",
       "   rub_per_minute  revenue  revenue_difference  \n",
       "0               1   1950.0                 0.0  \n",
       "1               1   1950.0                 0.0  "
      ]
     },
     "execution_count": 198,
     "metadata": {},
     "output_type": "execute_result"
    }
   ],
   "source": [
    "data_ultra = data.query('tariff == \"ultra\"')\n",
    "data_ultra.head(2)"
   ]
  },
  {
   "cell_type": "code",
   "execution_count": 199,
   "id": "c2af3902",
   "metadata": {},
   "outputs": [
    {
     "name": "stdout",
     "output_type": "stream",
     "text": [
      "p-значение: 1.4229814360764067e-160\n",
      "Отвергаем нулевую гипотезу\n"
     ]
    }
   ],
   "source": [
    "#специальным методом проверим гипотезу о равенстве среднего двух генеральных совокупностей\n",
    "alpha = 0.05 # критический уровень статистической значимости\n",
    "\n",
    "results = st.ttest_ind(\n",
    "    data_smart['revenue'], \n",
    "    data_ultra['revenue'])\n",
    "\n",
    "print('p-значение:', results.pvalue)\n",
    "\n",
    "if results.pvalue < alpha:\n",
    "    print(\"Отвергаем нулевую гипотезу\")\n",
    "else:\n",
    "    print(\"Не получилось отвергнуть нулевую гипотезу\") "
   ]
  },
  {
   "cell_type": "markdown",
   "id": "87330adb",
   "metadata": {},
   "source": [
    "Разница между средней выручкой двух генеральных совокупностей не случайна."
   ]
  },
  {
   "cell_type": "code",
   "execution_count": 200,
   "id": "f3762ae6",
   "metadata": {},
   "outputs": [
    {
     "name": "stdout",
     "output_type": "stream",
     "text": [
      "Средняя выручка пользователей Смарт 1289.9735307312696\n",
      "Средняя выручка пользователей Ультра 2070.1522842639592\n"
     ]
    }
   ],
   "source": [
    "print('Средняя выручка пользователей Смарт', data_smart['revenue'].mean())\n",
    "print('Средняя выручка пользователей Ультра', data_ultra['revenue'].mean())"
   ]
  },
  {
   "cell_type": "markdown",
   "id": "9dce9a83",
   "metadata": {},
   "source": [
    "Средние значения и правда значительно отличаются между собой."
   ]
  },
  {
   "cell_type": "markdown",
   "id": "7432b0e7",
   "metadata": {},
   "source": [
    "#### 4.2 Различие выручки пользователей из Москвы и других городов"
   ]
  },
  {
   "cell_type": "markdown",
   "id": "1dcbb4ec",
   "metadata": {},
   "source": [
    "Сформулируем основную и альтернативную гипотезы:\n",
    "* H₀ - средняя выручка пользователей из Москвы и других регионов равна\n",
    "* H₁ - средняя выручка пользователей из Москвы и других регионов не равна"
   ]
  },
  {
   "cell_type": "code",
   "execution_count": 201,
   "id": "62696f71",
   "metadata": {},
   "outputs": [
    {
     "data": {
      "text/html": [
       "<div>\n",
       "<style scoped>\n",
       "    .dataframe tbody tr th:only-of-type {\n",
       "        vertical-align: middle;\n",
       "    }\n",
       "\n",
       "    .dataframe tbody tr th {\n",
       "        vertical-align: top;\n",
       "    }\n",
       "\n",
       "    .dataframe thead th {\n",
       "        text-align: right;\n",
       "    }\n",
       "</style>\n",
       "<table border=\"1\" class=\"dataframe\">\n",
       "  <thead>\n",
       "    <tr style=\"text-align: right;\">\n",
       "      <th></th>\n",
       "      <th>user_id</th>\n",
       "      <th>month</th>\n",
       "      <th>calls_sum</th>\n",
       "      <th>calls_count</th>\n",
       "      <th>messages_count</th>\n",
       "      <th>internet_sum</th>\n",
       "      <th>city</th>\n",
       "      <th>tariff</th>\n",
       "      <th>churn_date</th>\n",
       "      <th>messages_included</th>\n",
       "      <th>mb_per_month_included</th>\n",
       "      <th>minutes_included</th>\n",
       "      <th>rub_monthly_fee</th>\n",
       "      <th>rub_per_gb</th>\n",
       "      <th>rub_per_message</th>\n",
       "      <th>rub_per_minute</th>\n",
       "      <th>revenue</th>\n",
       "      <th>revenue_difference</th>\n",
       "    </tr>\n",
       "  </thead>\n",
       "  <tbody>\n",
       "    <tr>\n",
       "      <th>8</th>\n",
       "      <td>1003</td>\n",
       "      <td>8.0</td>\n",
       "      <td>380.0</td>\n",
       "      <td>55.0</td>\n",
       "      <td>37.0</td>\n",
       "      <td>9.0</td>\n",
       "      <td>Москва</td>\n",
       "      <td>ultra</td>\n",
       "      <td>NaT</td>\n",
       "      <td>1000</td>\n",
       "      <td>30.0</td>\n",
       "      <td>3000</td>\n",
       "      <td>1950</td>\n",
       "      <td>150</td>\n",
       "      <td>1</td>\n",
       "      <td>1</td>\n",
       "      <td>1950.0</td>\n",
       "      <td>0.0</td>\n",
       "    </tr>\n",
       "    <tr>\n",
       "      <th>9</th>\n",
       "      <td>1003</td>\n",
       "      <td>9.0</td>\n",
       "      <td>961.0</td>\n",
       "      <td>134.0</td>\n",
       "      <td>91.0</td>\n",
       "      <td>13.0</td>\n",
       "      <td>Москва</td>\n",
       "      <td>ultra</td>\n",
       "      <td>NaT</td>\n",
       "      <td>1000</td>\n",
       "      <td>30.0</td>\n",
       "      <td>3000</td>\n",
       "      <td>1950</td>\n",
       "      <td>150</td>\n",
       "      <td>1</td>\n",
       "      <td>1</td>\n",
       "      <td>1950.0</td>\n",
       "      <td>0.0</td>\n",
       "    </tr>\n",
       "  </tbody>\n",
       "</table>\n",
       "</div>"
      ],
      "text/plain": [
       "   user_id  month  calls_sum  calls_count  messages_count  internet_sum  \\\n",
       "8     1003    8.0      380.0         55.0            37.0           9.0   \n",
       "9     1003    9.0      961.0        134.0            91.0          13.0   \n",
       "\n",
       "     city tariff churn_date  messages_included  mb_per_month_included  \\\n",
       "8  Москва  ultra        NaT               1000                   30.0   \n",
       "9  Москва  ultra        NaT               1000                   30.0   \n",
       "\n",
       "   minutes_included  rub_monthly_fee  rub_per_gb  rub_per_message  \\\n",
       "8              3000             1950         150                1   \n",
       "9              3000             1950         150                1   \n",
       "\n",
       "   rub_per_minute  revenue  revenue_difference  \n",
       "8               1   1950.0                 0.0  \n",
       "9               1   1950.0                 0.0  "
      ]
     },
     "execution_count": 201,
     "metadata": {},
     "output_type": "execute_result"
    }
   ],
   "source": [
    "#создадим две переменные и сохраним в них срезы по регионам\n",
    "data_msk = data.query('city == \"Москва\"')\n",
    "data_msk.head(2)"
   ]
  },
  {
   "cell_type": "code",
   "execution_count": 202,
   "id": "4ce8ae8b",
   "metadata": {},
   "outputs": [
    {
     "data": {
      "text/html": [
       "<div>\n",
       "<style scoped>\n",
       "    .dataframe tbody tr th:only-of-type {\n",
       "        vertical-align: middle;\n",
       "    }\n",
       "\n",
       "    .dataframe tbody tr th {\n",
       "        vertical-align: top;\n",
       "    }\n",
       "\n",
       "    .dataframe thead th {\n",
       "        text-align: right;\n",
       "    }\n",
       "</style>\n",
       "<table border=\"1\" class=\"dataframe\">\n",
       "  <thead>\n",
       "    <tr style=\"text-align: right;\">\n",
       "      <th></th>\n",
       "      <th>user_id</th>\n",
       "      <th>month</th>\n",
       "      <th>calls_sum</th>\n",
       "      <th>calls_count</th>\n",
       "      <th>messages_count</th>\n",
       "      <th>internet_sum</th>\n",
       "      <th>city</th>\n",
       "      <th>tariff</th>\n",
       "      <th>churn_date</th>\n",
       "      <th>messages_included</th>\n",
       "      <th>mb_per_month_included</th>\n",
       "      <th>minutes_included</th>\n",
       "      <th>rub_monthly_fee</th>\n",
       "      <th>rub_per_gb</th>\n",
       "      <th>rub_per_message</th>\n",
       "      <th>rub_per_minute</th>\n",
       "      <th>revenue</th>\n",
       "      <th>revenue_difference</th>\n",
       "    </tr>\n",
       "  </thead>\n",
       "  <tbody>\n",
       "    <tr>\n",
       "      <th>0</th>\n",
       "      <td>1000</td>\n",
       "      <td>5.0</td>\n",
       "      <td>159.0</td>\n",
       "      <td>22.0</td>\n",
       "      <td>22.0</td>\n",
       "      <td>3.0</td>\n",
       "      <td>Краснодар</td>\n",
       "      <td>ultra</td>\n",
       "      <td>NaT</td>\n",
       "      <td>1000</td>\n",
       "      <td>30.0</td>\n",
       "      <td>3000</td>\n",
       "      <td>1950</td>\n",
       "      <td>150</td>\n",
       "      <td>1</td>\n",
       "      <td>1</td>\n",
       "      <td>1950.0</td>\n",
       "      <td>0.0</td>\n",
       "    </tr>\n",
       "    <tr>\n",
       "      <th>1</th>\n",
       "      <td>1000</td>\n",
       "      <td>6.0</td>\n",
       "      <td>172.0</td>\n",
       "      <td>43.0</td>\n",
       "      <td>60.0</td>\n",
       "      <td>23.0</td>\n",
       "      <td>Краснодар</td>\n",
       "      <td>ultra</td>\n",
       "      <td>NaT</td>\n",
       "      <td>1000</td>\n",
       "      <td>30.0</td>\n",
       "      <td>3000</td>\n",
       "      <td>1950</td>\n",
       "      <td>150</td>\n",
       "      <td>1</td>\n",
       "      <td>1</td>\n",
       "      <td>1950.0</td>\n",
       "      <td>0.0</td>\n",
       "    </tr>\n",
       "  </tbody>\n",
       "</table>\n",
       "</div>"
      ],
      "text/plain": [
       "   user_id  month  calls_sum  calls_count  messages_count  internet_sum  \\\n",
       "0     1000    5.0      159.0         22.0            22.0           3.0   \n",
       "1     1000    6.0      172.0         43.0            60.0          23.0   \n",
       "\n",
       "        city tariff churn_date  messages_included  mb_per_month_included  \\\n",
       "0  Краснодар  ultra        NaT               1000                   30.0   \n",
       "1  Краснодар  ultra        NaT               1000                   30.0   \n",
       "\n",
       "   minutes_included  rub_monthly_fee  rub_per_gb  rub_per_message  \\\n",
       "0              3000             1950         150                1   \n",
       "1              3000             1950         150                1   \n",
       "\n",
       "   rub_per_minute  revenue  revenue_difference  \n",
       "0               1   1950.0                 0.0  \n",
       "1               1   1950.0                 0.0  "
      ]
     },
     "execution_count": 202,
     "metadata": {},
     "output_type": "execute_result"
    }
   ],
   "source": [
    "data_no_msk = data.query('city != \"Москва\"')\n",
    "data_no_msk.head(2)"
   ]
  },
  {
   "cell_type": "code",
   "execution_count": 203,
   "id": "fc24700f",
   "metadata": {},
   "outputs": [
    {
     "name": "stdout",
     "output_type": "stream",
     "text": [
      "p-значение: 0.5440152911670224\n",
      "Не получилось отвергнуть нулевую гипотезу\n"
     ]
    }
   ],
   "source": [
    "#проверим гипотезу о равенстве среднего двух генеральных совокупностей\n",
    "alpha = 0.05 # критический уровень статистической значимости\n",
    "\n",
    "results = st.ttest_ind(\n",
    "    data_msk['revenue'], \n",
    "    data_no_msk['revenue'])\n",
    "\n",
    "print('p-значение:', results.pvalue)\n",
    "\n",
    "if results.pvalue < alpha:\n",
    "    print(\"Отвергаем нулевую гипотезу\")\n",
    "else:\n",
    "    print(\"Не получилось отвергнуть нулевую гипотезу\") "
   ]
  },
  {
   "cell_type": "markdown",
   "id": "8457d5ae",
   "metadata": {},
   "source": [
    "Вероятность получить равнозначность средних значений в двух выборках = 54%\n",
    "Нулевая гипотеза близка к правде."
   ]
  },
  {
   "cell_type": "code",
   "execution_count": 204,
   "id": "27cab51c",
   "metadata": {},
   "outputs": [
    {
     "name": "stdout",
     "output_type": "stream",
     "text": [
      "Средняя выручка пользователей из Москвы 1546.7135842880523\n",
      "Средняя выручка пользователей из регионов 1524.9362274298885\n"
     ]
    }
   ],
   "source": [
    "#проверим простым методом.\n",
    "print('Средняя выручка пользователей из Москвы', data_msk['revenue'].mean())\n",
    "print('Средняя выручка пользователей из регионов', data_no_msk['revenue'].mean())"
   ]
  },
  {
   "cell_type": "markdown",
   "id": "6dbd3e56",
   "metadata": {},
   "source": [
    "Действительно средние значения выручки пользователей из Москвы и регионов практически равны"
   ]
  },
  {
   "cell_type": "markdown",
   "id": "92c4e775",
   "metadata": {},
   "source": [
    "Гипотезы:\n",
    "* Средняя выручка пользователей тарифов «Ультра» и «Смарт» равна - отвергаем\n",
    "* Средняя выручка пользователей из Москвы и из других регионов равна - отвергнуть не удалось"
   ]
  },
  {
   "cell_type": "markdown",
   "id": "a98027d2",
   "metadata": {},
   "source": [
    "## Этап 5. Общие выводы"
   ]
  },
  {
   "cell_type": "markdown",
   "id": "ac6ab472",
   "metadata": {},
   "source": [
    "Количество звонков и смс-сообщений у пользователей обоих тарифов почти одинаково. При том, что тариф Ультра обеспечивает пользователям ощутимый запас по данным услугам (в отличии от тарифа Смарт), пользователи всё равно не испозуют его полностью.\n",
    "С интернет-трафиком ситуация другая, он нужен и тем и другим. С тарифом Смарт пользователи превышают лимит за доп. плату., с Ультра - используют услугу в полном объеме."
   ]
  },
  {
   "cell_type": "markdown",
   "id": "ab334762",
   "metadata": {},
   "source": [
    "Наибольшую прибыль приносят пользователи тарифа Смарт, чем пользователи тарифа Ультра"
   ]
  },
  {
   "cell_type": "markdown",
   "id": "65597bb4",
   "metadata": {},
   "source": [
    "Тариф Смарт:\n",
    "- Общая выручка = 2875351 рубль\n",
    "- Выручка сверх тарифа = 1649401 рубль"
   ]
  },
  {
   "cell_type": "markdown",
   "id": "bd595018",
   "metadata": {},
   "source": [
    "Тариф Ультра:\n",
    "- Общая выручка = 2039100 рубль\n",
    "- Выручка сверх тарифа = 118350 рубль"
   ]
  },
  {
   "cell_type": "markdown",
   "id": "b7287989",
   "metadata": {},
   "source": [
    "#### Гипотезы:\n",
    "- Тарифы приносят разные деньги. Средняя выручка у тарифов отличается.\n",
    "- В Москве и в других регионах люди платят за связь практически одинаково. Разницы средней выручки между регионами почти нет."
   ]
  },
  {
   "cell_type": "markdown",
   "id": "965d707e",
   "metadata": {},
   "source": [
    "Средняя выручка по тарифам\n",
    "* Средняя выручка пользователей Смарт: 1289 рублей\n",
    "* Средняя выручка пользователей Ультра: 2070 рублей"
   ]
  },
  {
   "cell_type": "markdown",
   "id": "6f5e8093",
   "metadata": {},
   "source": [
    "Средняя выручка по регионам\n",
    "* Средняя выручка пользователей из Москвы: 1546 рублей\n",
    "* Средняя выручка пользователей из регионов: 1524 рублей"
   ]
  },
  {
   "cell_type": "markdown",
   "id": "2b6f14de",
   "metadata": {},
   "source": [
    "#### Рекомендации коммерческому департаменту:"
   ]
  },
  {
   "cell_type": "markdown",
   "id": "814ab78e",
   "metadata": {},
   "source": [
    "1. Пересмотреть предлагаемое количество смс в рамках тарифа Ультра, возможно стоит снизить его, предложив клиентам взамен что-то альтернативное. Не используется огромный ресурс.\n",
    "2. Сравнить прибыль от переплат по тарифу Смарт и потери из-за оттока пользователей. Возможно переплата за интернет разочаровывает людей, а платить за Ультра они не хотят. Возможна вероятность убытков из-за оттока клиентов."
   ]
  },
  {
   "cell_type": "markdown",
   "id": "fc8e0991",
   "metadata": {},
   "source": [
    "#### Рекомендации разработчикам:"
   ]
  },
  {
   "cell_type": "markdown",
   "id": "5a052d83",
   "metadata": {},
   "source": [
    "Округлять мегабайты и секунды до гигабайт и минут автоматически."
   ]
  }
 ],
 "metadata": {
  "ExecuteTimeLog": [
   {
    "duration": 1001,
    "start_time": "2022-05-05T12:38:10.675Z"
   },
   {
    "duration": 16,
    "start_time": "2022-05-05T12:38:11.678Z"
   },
   {
    "duration": 135,
    "start_time": "2022-05-05T12:38:11.695Z"
   },
   {
    "duration": 184,
    "start_time": "2022-05-05T12:38:11.832Z"
   },
   {
    "duration": 0,
    "start_time": "2022-05-05T12:38:12.019Z"
   },
   {
    "duration": 0,
    "start_time": "2022-05-05T12:38:12.019Z"
   },
   {
    "duration": 0,
    "start_time": "2022-05-05T12:38:12.020Z"
   },
   {
    "duration": 0,
    "start_time": "2022-05-05T12:38:12.021Z"
   },
   {
    "duration": 0,
    "start_time": "2022-05-05T12:38:12.022Z"
   },
   {
    "duration": 0,
    "start_time": "2022-05-05T12:38:12.023Z"
   },
   {
    "duration": 0,
    "start_time": "2022-05-05T12:38:12.024Z"
   },
   {
    "duration": 0,
    "start_time": "2022-05-05T12:38:12.025Z"
   },
   {
    "duration": 0,
    "start_time": "2022-05-05T12:38:12.026Z"
   },
   {
    "duration": 0,
    "start_time": "2022-05-05T12:38:12.027Z"
   },
   {
    "duration": 0,
    "start_time": "2022-05-05T12:38:12.027Z"
   },
   {
    "duration": 0,
    "start_time": "2022-05-05T12:38:12.028Z"
   },
   {
    "duration": 0,
    "start_time": "2022-05-05T12:38:12.029Z"
   },
   {
    "duration": 0,
    "start_time": "2022-05-05T12:38:12.030Z"
   },
   {
    "duration": 0,
    "start_time": "2022-05-05T12:38:12.030Z"
   },
   {
    "duration": 0,
    "start_time": "2022-05-05T12:38:12.047Z"
   },
   {
    "duration": 0,
    "start_time": "2022-05-05T12:38:12.048Z"
   },
   {
    "duration": 0,
    "start_time": "2022-05-05T12:38:12.049Z"
   },
   {
    "duration": 0,
    "start_time": "2022-05-05T12:38:12.050Z"
   },
   {
    "duration": 0,
    "start_time": "2022-05-05T12:38:12.051Z"
   },
   {
    "duration": 0,
    "start_time": "2022-05-05T12:38:12.052Z"
   },
   {
    "duration": 0,
    "start_time": "2022-05-05T12:38:12.052Z"
   },
   {
    "duration": 0,
    "start_time": "2022-05-05T12:38:12.053Z"
   },
   {
    "duration": 0,
    "start_time": "2022-05-05T12:38:12.054Z"
   },
   {
    "duration": 0,
    "start_time": "2022-05-05T12:38:12.055Z"
   },
   {
    "duration": 0,
    "start_time": "2022-05-05T12:38:12.056Z"
   },
   {
    "duration": 0,
    "start_time": "2022-05-05T12:38:12.057Z"
   },
   {
    "duration": 0,
    "start_time": "2022-05-05T12:38:12.057Z"
   },
   {
    "duration": 0,
    "start_time": "2022-05-05T12:38:12.058Z"
   },
   {
    "duration": 0,
    "start_time": "2022-05-05T12:38:12.059Z"
   },
   {
    "duration": 1,
    "start_time": "2022-05-05T12:38:12.059Z"
   },
   {
    "duration": 0,
    "start_time": "2022-05-05T12:38:12.061Z"
   },
   {
    "duration": 0,
    "start_time": "2022-05-05T12:38:12.062Z"
   },
   {
    "duration": 0,
    "start_time": "2022-05-05T12:38:12.062Z"
   },
   {
    "duration": 0,
    "start_time": "2022-05-05T12:38:12.063Z"
   },
   {
    "duration": 0,
    "start_time": "2022-05-05T12:38:12.064Z"
   },
   {
    "duration": 0,
    "start_time": "2022-05-05T12:38:12.065Z"
   },
   {
    "duration": 0,
    "start_time": "2022-05-05T12:38:12.066Z"
   },
   {
    "duration": 0,
    "start_time": "2022-05-05T12:38:12.067Z"
   },
   {
    "duration": 0,
    "start_time": "2022-05-05T12:38:12.068Z"
   },
   {
    "duration": 0,
    "start_time": "2022-05-05T12:38:12.068Z"
   },
   {
    "duration": 0,
    "start_time": "2022-05-05T12:38:12.069Z"
   },
   {
    "duration": 0,
    "start_time": "2022-05-05T12:38:12.070Z"
   },
   {
    "duration": 0,
    "start_time": "2022-05-05T12:38:12.071Z"
   },
   {
    "duration": 0,
    "start_time": "2022-05-05T12:38:12.072Z"
   },
   {
    "duration": 0,
    "start_time": "2022-05-05T12:38:12.073Z"
   },
   {
    "duration": 0,
    "start_time": "2022-05-05T12:38:12.073Z"
   },
   {
    "duration": 1,
    "start_time": "2022-05-05T12:38:12.075Z"
   },
   {
    "duration": 0,
    "start_time": "2022-05-05T12:38:12.077Z"
   },
   {
    "duration": 0,
    "start_time": "2022-05-05T12:38:12.077Z"
   },
   {
    "duration": 0,
    "start_time": "2022-05-05T12:38:12.078Z"
   },
   {
    "duration": 0,
    "start_time": "2022-05-05T12:38:12.079Z"
   },
   {
    "duration": 0,
    "start_time": "2022-05-05T12:38:12.080Z"
   },
   {
    "duration": 87,
    "start_time": "2022-05-05T12:46:41.351Z"
   },
   {
    "duration": 88,
    "start_time": "2022-05-05T12:46:47.232Z"
   },
   {
    "duration": 132,
    "start_time": "2022-05-05T12:46:47.322Z"
   },
   {
    "duration": 10,
    "start_time": "2022-05-05T12:46:47.456Z"
   },
   {
    "duration": 14,
    "start_time": "2022-05-05T12:46:47.467Z"
   },
   {
    "duration": 10,
    "start_time": "2022-05-05T12:46:47.483Z"
   },
   {
    "duration": 9,
    "start_time": "2022-05-05T12:46:47.495Z"
   },
   {
    "duration": 49,
    "start_time": "2022-05-05T12:46:47.506Z"
   },
   {
    "duration": 6,
    "start_time": "2022-05-05T12:46:47.557Z"
   },
   {
    "duration": 20,
    "start_time": "2022-05-05T12:46:47.565Z"
   },
   {
    "duration": 7,
    "start_time": "2022-05-05T12:46:47.587Z"
   },
   {
    "duration": 22,
    "start_time": "2022-05-05T12:46:47.596Z"
   },
   {
    "duration": 35,
    "start_time": "2022-05-05T12:46:47.619Z"
   },
   {
    "duration": 11,
    "start_time": "2022-05-05T12:46:47.655Z"
   },
   {
    "duration": 124,
    "start_time": "2022-05-05T12:46:47.669Z"
   },
   {
    "duration": 31,
    "start_time": "2022-05-05T12:46:47.794Z"
   },
   {
    "duration": 26,
    "start_time": "2022-05-05T12:46:47.826Z"
   },
   {
    "duration": 26,
    "start_time": "2022-05-05T12:46:47.854Z"
   },
   {
    "duration": 27,
    "start_time": "2022-05-05T12:46:47.881Z"
   },
   {
    "duration": 43,
    "start_time": "2022-05-05T12:46:47.910Z"
   },
   {
    "duration": 18,
    "start_time": "2022-05-05T12:46:47.954Z"
   },
   {
    "duration": 23,
    "start_time": "2022-05-05T12:46:47.973Z"
   },
   {
    "duration": 25,
    "start_time": "2022-05-05T12:46:47.998Z"
   },
   {
    "duration": 10,
    "start_time": "2022-05-05T12:46:48.047Z"
   },
   {
    "duration": 18,
    "start_time": "2022-05-05T12:46:48.059Z"
   },
   {
    "duration": 15,
    "start_time": "2022-05-05T12:46:48.078Z"
   },
   {
    "duration": 19,
    "start_time": "2022-05-05T12:46:48.094Z"
   },
   {
    "duration": 50,
    "start_time": "2022-05-05T12:46:48.114Z"
   },
   {
    "duration": 7,
    "start_time": "2022-05-05T12:46:48.165Z"
   },
   {
    "duration": 7,
    "start_time": "2022-05-05T12:46:48.174Z"
   },
   {
    "duration": 6,
    "start_time": "2022-05-05T12:46:48.182Z"
   },
   {
    "duration": 9,
    "start_time": "2022-05-05T12:46:48.190Z"
   },
   {
    "duration": 57,
    "start_time": "2022-05-05T12:46:48.201Z"
   },
   {
    "duration": 23,
    "start_time": "2022-05-05T12:46:48.260Z"
   },
   {
    "duration": 23,
    "start_time": "2022-05-05T12:46:48.285Z"
   },
   {
    "duration": 49,
    "start_time": "2022-05-05T12:46:48.310Z"
   },
   {
    "duration": 41,
    "start_time": "2022-05-05T12:46:48.360Z"
   },
   {
    "duration": 153,
    "start_time": "2022-05-05T12:46:48.402Z"
   },
   {
    "duration": 138,
    "start_time": "2022-05-05T12:46:48.556Z"
   },
   {
    "duration": 10,
    "start_time": "2022-05-05T12:46:48.695Z"
   },
   {
    "duration": 142,
    "start_time": "2022-05-05T12:46:48.707Z"
   },
   {
    "duration": 129,
    "start_time": "2022-05-05T12:46:48.853Z"
   },
   {
    "duration": 10,
    "start_time": "2022-05-05T12:46:48.984Z"
   },
   {
    "duration": 138,
    "start_time": "2022-05-05T12:46:48.996Z"
   },
   {
    "duration": 137,
    "start_time": "2022-05-05T12:46:49.135Z"
   },
   {
    "duration": 18,
    "start_time": "2022-05-05T12:46:49.273Z"
   },
   {
    "duration": 2,
    "start_time": "2022-05-05T12:46:49.292Z"
   },
   {
    "duration": 23,
    "start_time": "2022-05-05T12:46:49.296Z"
   },
   {
    "duration": 44,
    "start_time": "2022-05-05T12:46:49.321Z"
   },
   {
    "duration": 6,
    "start_time": "2022-05-05T12:46:49.366Z"
   },
   {
    "duration": 7,
    "start_time": "2022-05-05T12:46:49.373Z"
   },
   {
    "duration": 22,
    "start_time": "2022-05-05T12:46:49.382Z"
   },
   {
    "duration": 46,
    "start_time": "2022-05-05T12:46:49.405Z"
   },
   {
    "duration": 5,
    "start_time": "2022-05-05T12:46:49.453Z"
   },
   {
    "duration": 7,
    "start_time": "2022-05-05T12:46:49.459Z"
   },
   {
    "duration": 34,
    "start_time": "2022-05-05T13:30:13.262Z"
   },
   {
    "duration": 33,
    "start_time": "2022-05-05T13:30:24.430Z"
   },
   {
    "duration": 143,
    "start_time": "2022-05-05T13:36:37.786Z"
   },
   {
    "duration": 1060,
    "start_time": "2022-05-05T13:53:28.958Z"
   },
   {
    "duration": 21,
    "start_time": "2022-05-05T13:53:30.020Z"
   },
   {
    "duration": 192,
    "start_time": "2022-05-05T13:53:30.043Z"
   },
   {
    "duration": 175,
    "start_time": "2022-05-05T13:53:30.236Z"
   },
   {
    "duration": 0,
    "start_time": "2022-05-05T13:53:30.414Z"
   },
   {
    "duration": 0,
    "start_time": "2022-05-05T13:53:30.415Z"
   },
   {
    "duration": 0,
    "start_time": "2022-05-05T13:53:30.416Z"
   },
   {
    "duration": 0,
    "start_time": "2022-05-05T13:53:30.417Z"
   },
   {
    "duration": 0,
    "start_time": "2022-05-05T13:53:30.418Z"
   },
   {
    "duration": 0,
    "start_time": "2022-05-05T13:53:30.419Z"
   },
   {
    "duration": 0,
    "start_time": "2022-05-05T13:53:30.421Z"
   },
   {
    "duration": 0,
    "start_time": "2022-05-05T13:53:30.422Z"
   },
   {
    "duration": 0,
    "start_time": "2022-05-05T13:53:30.422Z"
   },
   {
    "duration": 0,
    "start_time": "2022-05-05T13:53:30.423Z"
   },
   {
    "duration": 0,
    "start_time": "2022-05-05T13:53:30.424Z"
   },
   {
    "duration": 0,
    "start_time": "2022-05-05T13:53:30.425Z"
   },
   {
    "duration": 0,
    "start_time": "2022-05-05T13:53:30.425Z"
   },
   {
    "duration": 0,
    "start_time": "2022-05-05T13:53:30.426Z"
   },
   {
    "duration": 0,
    "start_time": "2022-05-05T13:53:30.452Z"
   },
   {
    "duration": 0,
    "start_time": "2022-05-05T13:53:30.453Z"
   },
   {
    "duration": 0,
    "start_time": "2022-05-05T13:53:30.454Z"
   },
   {
    "duration": 0,
    "start_time": "2022-05-05T13:53:30.455Z"
   },
   {
    "duration": 0,
    "start_time": "2022-05-05T13:53:30.457Z"
   },
   {
    "duration": 0,
    "start_time": "2022-05-05T13:53:30.459Z"
   },
   {
    "duration": 0,
    "start_time": "2022-05-05T13:53:30.460Z"
   },
   {
    "duration": 0,
    "start_time": "2022-05-05T13:53:30.461Z"
   },
   {
    "duration": 0,
    "start_time": "2022-05-05T13:53:30.462Z"
   },
   {
    "duration": 0,
    "start_time": "2022-05-05T13:53:30.463Z"
   },
   {
    "duration": 0,
    "start_time": "2022-05-05T13:53:30.464Z"
   },
   {
    "duration": 0,
    "start_time": "2022-05-05T13:53:30.465Z"
   },
   {
    "duration": 0,
    "start_time": "2022-05-05T13:53:30.466Z"
   },
   {
    "duration": 0,
    "start_time": "2022-05-05T13:53:30.467Z"
   },
   {
    "duration": 0,
    "start_time": "2022-05-05T13:53:30.468Z"
   },
   {
    "duration": 0,
    "start_time": "2022-05-05T13:53:30.469Z"
   },
   {
    "duration": 0,
    "start_time": "2022-05-05T13:53:30.470Z"
   },
   {
    "duration": 0,
    "start_time": "2022-05-05T13:53:30.471Z"
   },
   {
    "duration": 0,
    "start_time": "2022-05-05T13:53:30.472Z"
   },
   {
    "duration": 0,
    "start_time": "2022-05-05T13:53:30.472Z"
   },
   {
    "duration": 0,
    "start_time": "2022-05-05T13:53:30.473Z"
   },
   {
    "duration": 0,
    "start_time": "2022-05-05T13:53:30.474Z"
   },
   {
    "duration": 0,
    "start_time": "2022-05-05T13:53:30.475Z"
   },
   {
    "duration": 0,
    "start_time": "2022-05-05T13:53:30.476Z"
   },
   {
    "duration": 0,
    "start_time": "2022-05-05T13:53:30.477Z"
   },
   {
    "duration": 0,
    "start_time": "2022-05-05T13:53:30.478Z"
   },
   {
    "duration": 0,
    "start_time": "2022-05-05T13:53:30.479Z"
   },
   {
    "duration": 0,
    "start_time": "2022-05-05T13:53:30.480Z"
   },
   {
    "duration": 0,
    "start_time": "2022-05-05T13:53:30.481Z"
   },
   {
    "duration": 0,
    "start_time": "2022-05-05T13:53:30.481Z"
   },
   {
    "duration": 0,
    "start_time": "2022-05-05T13:53:30.482Z"
   },
   {
    "duration": 0,
    "start_time": "2022-05-05T13:53:30.483Z"
   },
   {
    "duration": 0,
    "start_time": "2022-05-05T13:53:30.484Z"
   },
   {
    "duration": 0,
    "start_time": "2022-05-05T13:53:30.486Z"
   },
   {
    "duration": 0,
    "start_time": "2022-05-05T13:53:30.487Z"
   },
   {
    "duration": 0,
    "start_time": "2022-05-05T13:53:30.488Z"
   },
   {
    "duration": 0,
    "start_time": "2022-05-05T13:53:30.489Z"
   },
   {
    "duration": 0,
    "start_time": "2022-05-05T13:53:30.489Z"
   },
   {
    "duration": 0,
    "start_time": "2022-05-05T13:53:30.490Z"
   },
   {
    "duration": 0,
    "start_time": "2022-05-05T13:53:30.491Z"
   },
   {
    "duration": 96,
    "start_time": "2022-05-05T13:53:42.337Z"
   },
   {
    "duration": 126,
    "start_time": "2022-05-05T13:53:43.477Z"
   },
   {
    "duration": 11,
    "start_time": "2022-05-05T13:53:43.699Z"
   },
   {
    "duration": 10,
    "start_time": "2022-05-05T13:53:47.128Z"
   },
   {
    "duration": 17,
    "start_time": "2022-05-05T13:53:47.140Z"
   },
   {
    "duration": 15,
    "start_time": "2022-05-05T13:53:47.160Z"
   },
   {
    "duration": 10,
    "start_time": "2022-05-05T13:53:47.177Z"
   },
   {
    "duration": 24,
    "start_time": "2022-05-05T13:53:47.189Z"
   },
   {
    "duration": 10,
    "start_time": "2022-05-05T13:53:47.252Z"
   },
   {
    "duration": 18,
    "start_time": "2022-05-05T13:53:47.264Z"
   },
   {
    "duration": 9,
    "start_time": "2022-05-05T13:53:47.284Z"
   },
   {
    "duration": 20,
    "start_time": "2022-05-05T13:53:47.295Z"
   },
   {
    "duration": 37,
    "start_time": "2022-05-05T13:53:47.317Z"
   },
   {
    "duration": 12,
    "start_time": "2022-05-05T13:53:47.356Z"
   },
   {
    "duration": 132,
    "start_time": "2022-05-05T13:53:47.370Z"
   },
   {
    "duration": 30,
    "start_time": "2022-05-05T13:53:47.504Z"
   },
   {
    "duration": 17,
    "start_time": "2022-05-05T13:53:47.549Z"
   },
   {
    "duration": 27,
    "start_time": "2022-05-05T13:53:47.568Z"
   },
   {
    "duration": 27,
    "start_time": "2022-05-05T13:53:47.596Z"
   },
   {
    "duration": 43,
    "start_time": "2022-05-05T13:53:47.625Z"
   },
   {
    "duration": 16,
    "start_time": "2022-05-05T13:53:47.669Z"
   },
   {
    "duration": 21,
    "start_time": "2022-05-05T13:53:47.687Z"
   },
   {
    "duration": 59,
    "start_time": "2022-05-05T13:53:47.709Z"
   },
   {
    "duration": 9,
    "start_time": "2022-05-05T13:53:47.769Z"
   },
   {
    "duration": 18,
    "start_time": "2022-05-05T13:53:47.780Z"
   },
   {
    "duration": 13,
    "start_time": "2022-05-05T13:53:47.799Z"
   },
   {
    "duration": 17,
    "start_time": "2022-05-05T13:53:47.813Z"
   },
   {
    "duration": 26,
    "start_time": "2022-05-05T13:53:47.849Z"
   },
   {
    "duration": 8,
    "start_time": "2022-05-05T13:53:47.876Z"
   },
   {
    "duration": 7,
    "start_time": "2022-05-05T13:53:47.886Z"
   },
   {
    "duration": 7,
    "start_time": "2022-05-05T13:53:47.894Z"
   },
   {
    "duration": 11,
    "start_time": "2022-05-05T13:53:47.903Z"
   },
   {
    "duration": 54,
    "start_time": "2022-05-05T13:53:47.915Z"
   },
   {
    "duration": 24,
    "start_time": "2022-05-05T13:53:47.972Z"
   },
   {
    "duration": 22,
    "start_time": "2022-05-05T13:53:47.998Z"
   },
   {
    "duration": 55,
    "start_time": "2022-05-05T13:53:48.021Z"
   },
   {
    "duration": 42,
    "start_time": "2022-05-05T13:53:48.078Z"
   },
   {
    "duration": 165,
    "start_time": "2022-05-05T13:53:48.122Z"
   },
   {
    "duration": 138,
    "start_time": "2022-05-05T13:53:48.289Z"
   },
   {
    "duration": 23,
    "start_time": "2022-05-05T13:53:48.428Z"
   },
   {
    "duration": 147,
    "start_time": "2022-05-05T13:53:48.454Z"
   },
   {
    "duration": 124,
    "start_time": "2022-05-05T13:53:48.603Z"
   },
   {
    "duration": 19,
    "start_time": "2022-05-05T13:53:48.728Z"
   },
   {
    "duration": 136,
    "start_time": "2022-05-05T13:53:48.751Z"
   },
   {
    "duration": 137,
    "start_time": "2022-05-05T13:53:48.888Z"
   },
   {
    "duration": 33,
    "start_time": "2022-05-05T13:53:49.027Z"
   },
   {
    "duration": 3,
    "start_time": "2022-05-05T13:53:49.062Z"
   },
   {
    "duration": 25,
    "start_time": "2022-05-05T13:53:49.066Z"
   },
   {
    "duration": 22,
    "start_time": "2022-05-05T13:53:49.092Z"
   },
   {
    "duration": 6,
    "start_time": "2022-05-05T13:53:49.115Z"
   },
   {
    "duration": 32,
    "start_time": "2022-05-05T13:53:49.123Z"
   },
   {
    "duration": 27,
    "start_time": "2022-05-05T13:53:49.158Z"
   },
   {
    "duration": 21,
    "start_time": "2022-05-05T13:53:49.186Z"
   },
   {
    "duration": 6,
    "start_time": "2022-05-05T13:53:49.208Z"
   },
   {
    "duration": 6,
    "start_time": "2022-05-05T13:53:49.216Z"
   }
  ],
  "kernelspec": {
   "display_name": "Python 3 (ipykernel)",
   "language": "python",
   "name": "python3"
  },
  "language_info": {
   "codemirror_mode": {
    "name": "ipython",
    "version": 3
   },
   "file_extension": ".py",
   "mimetype": "text/x-python",
   "name": "python",
   "nbconvert_exporter": "python",
   "pygments_lexer": "ipython3",
   "version": "3.9.7"
  },
  "toc": {
   "base_numbering": 1,
   "nav_menu": {},
   "number_sections": true,
   "sideBar": true,
   "skip_h1_title": true,
   "title_cell": "Table of Contents",
   "title_sidebar": "Contents",
   "toc_cell": false,
   "toc_position": {},
   "toc_section_display": true,
   "toc_window_display": false
  }
 },
 "nbformat": 4,
 "nbformat_minor": 5
}
